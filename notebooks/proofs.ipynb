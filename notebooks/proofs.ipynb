{
 "cells": [
  {
   "cell_type": "markdown",
   "metadata": {},
   "source": [
    "# Proofs and verification\n",
    "\n",
    "The purpose of this notebook is to verify the key proofs of the paper numerically"
   ]
  },
  {
   "cell_type": "code",
   "execution_count": 2,
   "metadata": {},
   "outputs": [
    {
     "data": {
      "text/html": [
       "<style>.container { width:90% !important; }</style>"
      ],
      "text/plain": [
       "<IPython.core.display.HTML object>"
      ]
     },
     "metadata": {},
     "output_type": "display_data"
    },
    {
     "name": "stdout",
     "output_type": "stream",
     "text": [
      "The autoreload extension is already loaded. To reload it, use:\n",
      "  %reload_ext autoreload\n"
     ]
    }
   ],
   "source": [
    "from IPython.display import display, HTML\n",
    "display(HTML(\"<style>.container { width:90% !important; }</style>\"))\n",
    "\n",
    "import sys\n",
    "sys.path.append('..')\n",
    "\n",
    "%load_ext autoreload\n",
    "%autoreload 2\n",
    "\n",
    "import numpy as np\n",
    "import pandas as pd\n",
    "from numpy import exp, eye as I, trace as tr, diag, kron\n",
    "from numpy.linalg import eigh, eig, inv\n",
    "\n",
    "import matplotlib.pyplot as plt\n",
    "\n",
    "%matplotlib notebook\n",
    "np.set_printoptions(precision=5, linewidth=500, threshold=500, suppress=True)\n",
    "\n",
    "from model.utils import vec, mat, diag_i\n",
    "from utils import vector_derivative_numerical, matrix_derivative_numerical, hessian_numerical"
   ]
  },
  {
   "cell_type": "markdown",
   "metadata": {},
   "source": [
    "# 1.\n",
    "\n",
    "For a cost function \n",
    "\n",
    "\\begin{align}\n",
    "\\newcommand{\\vecc}[1]{\\text{vec}(#1)}\n",
    "\\newcommand{\\diag}[1]{\\text{diag}(#1)}\n",
    "\\newcommand{\\mat}[1]{\\text{mat}(#1)}\n",
    "\\newcommand{\\aand}{\\quad \\text{and} \\quad}\n",
    "\\newcommand{\\orr}{\\quad \\text{or} \\quad}\n",
    "\\newcommand{\\for}{\\; \\text{for} \\;}\n",
    "\\newcommand{\\with}{\\quad \\text{with} \\quad}\n",
    "\\newcommand{\\where}{\\quad \\text{where} \\quad}\n",
    "\\newcommand{\\iif}{\\quad \\text{if} \\quad}\n",
    "\\newcommand{\\SN}{\\Sigma_N}\n",
    "\\newcommand{\\ST}{\\Sigma_T}\n",
    "\\newcommand{\\SNi}{\\Sigma_N^{-1}}\n",
    "\\newcommand{\\STi}{\\Sigma_T^{-1}}\n",
    "\\newcommand{\\tr}[1]{\\text{tr}\\big(#1\\big)}\n",
    "\\newcommand{\\R}{\\mathbb{R}}\n",
    "\\xi(F) &=  \\tr{(Y - S_N F S_T^\\top)^{\\top}(Y - S_N F S_T^\\top)} \n",
    "\\\\ &\\quad\\quad\\; + \\gamma \\, \\tr{K^{-1}F ^{\\top} H^{-2}F}\n",
    "\\end{align}\n",
    "\n",
    "the minimising value of $F$ is given by\n",
    "\n",
    "$$\n",
    "F^\\star = H^2 S_N^\\top \\bar{U} \\big( J \\circ (\\bar{U}^\\top Y \\bar{V})\\big) \\bar{V}^\\top S_T K\n",
    "$$\n",
    "\n",
    "where \n",
    "\n",
    "$$\n",
    "S_T K S_T^\\top = \\bar{V} \\bar{\\Lambda}_K \\bar{V}^\\top, \\quad \\text{and} \\quad S_N H^2 S_N^\\top = \\bar{U} \\bar{\\Lambda}_H \\bar{U}^\\top\n",
    "$$\n",
    "\n",
    "and $J \\in \\R^{N' \\times T'}$ has the elements given by\n",
    "\n",
    "$$\n",
    "J_{ij} = \\frac{1}{\\bar{\\lambda}^K_j \\bar{\\lambda}^H_i  + \\gamma}\n",
    "$$"
   ]
  },
  {
   "cell_type": "code",
   "execution_count": 4,
   "metadata": {},
   "outputs": [],
   "source": [
    "# Generate some example data\n",
    "\n",
    "def get_K(N):\n",
    "    return np.exp(-(np.linspace(0, 1, N)[:, None] - np.linspace(0, 1, N)[None, :]) ** 2) + 1e-3 * I(N)\n",
    "\n",
    "T = 6\n",
    "N = 4\n",
    "\n",
    "T_ = 5\n",
    "N_ = 3\n",
    "\n",
    "ST = np.zeros((T_, T))\n",
    "ST[range(T_), range(T_)] = 1\n",
    "\n",
    "SN = np.zeros((N_, N))\n",
    "SN[range(N_), range(N_)] = 1\n",
    "\n",
    "sigT =  get_K(T_)\n",
    "sigN = get_K(N_)\n",
    "\n",
    "sigTi = inv(sigT)\n",
    "sigNi = inv(sigN)\n",
    "\n",
    "K = get_K(T)\n",
    "Hs = get_K(N)\n",
    "\n",
    "Ki = inv(K)\n",
    "Hsi = inv(Hs)\n",
    "\n",
    "gamma = 0.05\n",
    "\n",
    "Y = np.random.normal(size=(N_, T_))\n",
    "F = np.random.normal(size=(N, T))\n"
   ]
  },
  {
   "cell_type": "markdown",
   "metadata": {},
   "source": [
    "## 1.1 \n",
    "\n",
    "The derivative of $\\xi$ with respect to $F$ is given by \n",
    "\n",
    "$$\n",
    "\\frac{\\partial \\xi}{\\partial F} = 2S_N^\\top(S_N  F S_T^\\top - Y) S_T + 2\\gamma H^{-2} F K^{-1}\n",
    "$$\n"
   ]
  },
  {
   "cell_type": "code",
   "execution_count": 5,
   "metadata": {},
   "outputs": [],
   "source": [
    "def zeta1(F: np.ndarray):\n",
    "    return tr((Y - SN @ F @ ST.T).T @ (Y - SN @ F @ ST.T)) + gamma * tr(Ki @ F.T @ Hsi @ F)\n",
    "\n",
    "def deriv1(F: np.ndarray):\n",
    "    return 2 * SN.T @ (SN @ F @ ST.T - Y) @ ST  + 2 * gamma * Hsi @ F @ Ki"
   ]
  },
  {
   "cell_type": "code",
   "execution_count": 6,
   "metadata": {},
   "outputs": [
    {
     "data": {
      "text/plain": [
       "True"
      ]
     },
     "execution_count": 6,
     "metadata": {},
     "output_type": "execute_result"
    }
   ],
   "source": [
    "F_ = np.random.normal(size=(N, T))\n",
    "np.allclose(matrix_derivative_numerical(zeta1, F_), deriv1(F_), atol=1e-5)"
   ]
  },
  {
   "cell_type": "markdown",
   "metadata": {},
   "source": [
    "## 1.2 \n",
    "\n",
    "The derivative is zero at \n",
    "\n",
    "$$\n",
    " \\vecc{F^\\star} = \\Big( S_T^\\top S_T \\otimes S_N^\\top S_N + \\gamma K^{-1} \\otimes H^{-2}\\Big)^{-1} \\big( S_T^\\top \\otimes S_N^\\top \\big) \\vecc{Y}\n",
    "$$\n",
    "\n"
   ]
  },
  {
   "cell_type": "code",
   "execution_count": 7,
   "metadata": {},
   "outputs": [
    {
     "data": {
      "text/plain": [
       "True"
      ]
     },
     "execution_count": 7,
     "metadata": {},
     "output_type": "execute_result"
    }
   ],
   "source": [
    "F_star1 = inv(kron(ST.T @ ST, SN.T @ SN) + gamma * kron(Ki, Hsi)) @ kron(ST.T, SN.T) @ vec(Y)\n",
    "np.allclose(matrix_derivative_numerical(zeta1, mat(F_star1, like=F_)), 0, atol=1e-5)"
   ]
  },
  {
   "cell_type": "markdown",
   "metadata": {},
   "source": [
    "## 1.3 \n",
    "\n",
    "This can be rewritten as\n",
    "\n",
    "$$\n",
    "     \\big( K S_T^\\top \\otimes H^2 S_N^\\top \\big)  \\Big( \\gamma I_{T'} \\otimes I_{N'} + S_T K S_T^\\top \\otimes S_N H^2 S_N^\\top \\Big)^{-1}  \\vecc{Y}\n",
    "$$"
   ]
  },
  {
   "cell_type": "code",
   "execution_count": 8,
   "metadata": {},
   "outputs": [
    {
     "data": {
      "text/plain": [
       "True"
      ]
     },
     "execution_count": 8,
     "metadata": {},
     "output_type": "execute_result"
    }
   ],
   "source": [
    "F_star2 = kron(K @ ST.T, Hs @ SN.T) @ inv(kron(ST @ K @ ST.T, SN @ Hs @ SN.T) + gamma * kron(I(T_), I(N_))) @ vec(Y)\n",
    "np.allclose(matrix_derivative_numerical(zeta1, mat(F_star2, like=F_)), 0, atol=1e-5)"
   ]
  },
  {
   "cell_type": "markdown",
   "metadata": {},
   "source": [
    "## 1.4\n",
    "\n",
    "This can be written as \n",
    "\n",
    "$$\n",
    " H^2 S_N^\\top \\bar{U} \\big( J \\circ (\\bar{U}^\\top Y \\bar{V})\\big) \\bar{V}^\\top S_T K\n",
    "$$\n",
    "\n",
    "where \n",
    "\n",
    "$$\n",
    "S_T K S_T^\\top = \\bar{V} \\bar{\\Lambda}_K \\bar{V}^\\top, \\quad \\text{and} \\quad S_N H^2 S_N^\\top = \\bar{U} \\bar{\\Lambda}_H \\bar{U}^\\top\n",
    "$$\n",
    "\n",
    "and $J \\in \\R^{N' \\times T'}$ has the elements given by\n",
    "\n",
    "$$\n",
    "J_{ij} = \\frac{1}{\\bar{\\lambda}^K_j \\bar{\\lambda}^H_i  + \\gamma}\n",
    "$$"
   ]
  },
  {
   "cell_type": "code",
   "execution_count": 9,
   "metadata": {},
   "outputs": [
    {
     "data": {
      "text/plain": [
       "True"
      ]
     },
     "execution_count": 9,
     "metadata": {},
     "output_type": "execute_result"
    }
   ],
   "source": [
    "lamK_, V_ = eigh(ST @ K @ ST.T)\n",
    "lamH_, U_ = eigh(SN @ Hs @ SN.T)\n",
    "J = 1 / (np.outer(lamH_, lamK_) + gamma)\n",
    "\n",
    "F_star3 = Hs @ SN.T @ U_ @ (J * (U_.T @ Y @ V_)) @ V_.T @ ST @ K\n",
    "\n",
    "np.allclose(matrix_derivative_numerical(zeta1, F_star3), 0, atol=1e-5)"
   ]
  },
  {
   "cell_type": "markdown",
   "metadata": {},
   "source": [
    "# 2. \n",
    "\n",
    "$$\n",
    "\\begin{align}\n",
    "& \\xi(F) = \\tr{(Y - S_N F S_T^\\top)^{\\top} \\SNi (Y - S_N F S_T^\\top)\\, \\STi} \\\\\n",
    "& \\quad\\quad\\quad\\quad\\quad\\quad\\quad + \\gamma \\,\\tr{K^{-1}F ^{\\top} H^{-2}F}\n",
    "\\end{align}\n",
    "$$\n",
    "\n",
    "The minimising value for $\\Psi$ can be expressed as\n",
    "\n",
    "$$\n",
    "F^\\star = B \\, (J \\circ \\bar{Y}) \\, C^\\top\n",
    "$$\n",
    "\n",
    "where\n",
    "\n",
    "$$\n",
    "\\ST = \\Psi \\Lambda_{\\ST} \\Psi^\\top, \\quad \\SN = \\Phi \\Lambda_{\\SN} \\Phi^\\top\n",
    "$$\n",
    "\n",
    "\\begin{align*}\n",
    "\\Lambda_{\\ST}^{-1/2} \\Psi^\\top S_T K S_T^\\top \\Psi  \\Lambda_{\\ST}^{-1/2} &= \\bar{V}  \\bar{\\Lambda}_K \\bar{V}^{\\top} \\\\[0.1cm]\n",
    "\\Lambda_{\\SN}^{-1/2} \\Phi^\\top S_N H^2 S_N^\\top \\Phi  \\Lambda_{\\SN}^{-1/2} &= \\bar{U} \\bar{\\Lambda}_H \\bar{U}^{\\top} \n",
    "\\end{align*}\n",
    "\n",
    "and\n",
    "\n",
    "$$\n",
    "\\begin{align}\n",
    "J_{ij} &= \\frac{1}{\\gamma + \\bar{\\lambda}^K_j \\bar{\\lambda}^H_i} \\\\[0.1cm]\n",
    "B &= H^2 S_N^\\top \\Phi \\Lambda_{\\SN}^{-1/2} \\bar{U} \\\\[0.2cm]\n",
    "C &= K S_T^\\top \\Psi \\Lambda_{\\ST}^{-1/2} \\bar{V} \\\\[0.2cm]\n",
    "\\bar{Y} &= \\bar{U}^{\\top}\\Lambda_{\\SN}^{-1/2} \\Phi^\\top Y \\Psi \\Lambda_{\\ST}^{-1/2} \\bar{V} \\\\[0.1cm]\n",
    "\\end{align}\n",
    "$$"
   ]
  },
  {
   "cell_type": "markdown",
   "metadata": {},
   "source": [
    "## 1.1\n",
    "\n",
    "The minimising value of the cost function is \n",
    "\n",
    "$$\n",
    "\\vecc{F^\\star} = \\Big( S_T^\\top \\STi S_T \\otimes S_N^\\top \\SNi S_N + \\gamma K^{-1} \\otimes H^{-2}\\Big)^{-1} \\big( S_T^\\top \\STi \\otimes S_N^\\top \\SNi \\big) \\vecc{Y}\n",
    "$$"
   ]
  },
  {
   "cell_type": "code",
   "execution_count": 10,
   "metadata": {},
   "outputs": [
    {
     "data": {
      "text/plain": [
       "True"
      ]
     },
     "execution_count": 10,
     "metadata": {},
     "output_type": "execute_result"
    }
   ],
   "source": [
    "def zeta2(F: np.ndarray):\n",
    "    return tr((Y - SN @ F @ ST.T).T @ sigNi @ (Y - SN @ F @ ST.T) @ sigTi) + gamma * tr(Ki @ F.T @ Hsi @ F)\n",
    "\n",
    "F_star1 = inv(kron(ST.T @ sigTi @ ST, SN.T @ sigNi @ SN) + gamma * kron(Ki, Hsi)) @ kron(ST.T @ sigTi, SN.T @ sigNi) @ vec(Y)\n",
    "np.allclose(matrix_derivative_numerical(zeta2, mat(F_star1, like=F_)), 0, atol=1e-5)"
   ]
  },
  {
   "cell_type": "markdown",
   "metadata": {},
   "source": [
    "## 1.2 \n",
    "\n",
    "This can be expressed as \n",
    "\n",
    "$$\n",
    "\\big( C \\otimes B\\big) \\, \\text{diag}\\big(\\vecc{J}\\big) \\, \\vecc{\\bar{Y} } \n",
    "$$"
   ]
  },
  {
   "cell_type": "code",
   "execution_count": 11,
   "metadata": {},
   "outputs": [],
   "source": [
    "lamT, Psi = np.linalg.eigh(sigT)\n",
    "lamN, Phi = np.linalg.eigh(sigN)\n",
    "\n",
    "PsiLam = Psi * (lamT ** -0.5)\n",
    "K_ = ST @ K @ ST.T\n",
    "lamK_, V_ = eigh(PsiLam.T @ K_ @ PsiLam)\n",
    "\n",
    "PhiLam = Phi * (lamN ** -0.5)\n",
    "H_ = SN @ Hs @ SN.T\n",
    "lamH_, U_ = eigh(PhiLam.T @ H_ @ PhiLam)\n",
    "\n",
    "J = 1 / (np.outer(lamH_, lamK_) + gamma)\n",
    "\n",
    "B = Hs @ SN.T @ PhiLam @ U_\n",
    "C = K @ ST.T @ PsiLam @ V_\n",
    "Y_ = U_.T @ PhiLam.T @ Y @ PsiLam @ V_"
   ]
  },
  {
   "cell_type": "code",
   "execution_count": 12,
   "metadata": {},
   "outputs": [
    {
     "data": {
      "text/plain": [
       "True"
      ]
     },
     "execution_count": 12,
     "metadata": {},
     "output_type": "execute_result"
    }
   ],
   "source": [
    "F_star2 = B @ (J * Y_) @ C.T\n",
    "np.allclose(matrix_derivative_numerical(zeta2, F_star2), 0, atol=1e-5)"
   ]
  },
  {
   "cell_type": "markdown",
   "metadata": {},
   "source": [
    "# 3.\n",
    "\n",
    "Given a fitted GLS KGR model, a lower bound for the marginal variance of the prediction uncertainty for the latent signal $F$ is given by \n",
    "\n",
    "$$\n",
    "\\Omega_F = \\big(\\tilde{U}^{-\\top} \\circ (H^2 \\tilde{U})\\big) \\, J \\, \\big(\\tilde{V}^{-1}  \\circ (\\tilde{V}^\\top K) \\big)\n",
    "$$\n",
    "\n",
    "where $\\circ$ is the Hadamard product,\n",
    "\n",
    "$$\n",
    "S_T^\\top \\STi S_T K = \\tilde{V} \\tilde{\\Lambda}_K \\tilde{V}^{-1}, \\quad S_N^\\top \\SNi S_N H^2 = \\tilde{U} \\tilde{\\Lambda}_H \\tilde{U}^{-1}\n",
    "$$\n",
    "\n",
    "and \n",
    "\n",
    "$$\n",
    "J_{ij} = \\frac{1}{\\gamma + \\tilde{\\lambda}^K_i \\tilde{\\lambda}^H_j}\n",
    "$$\n"
   ]
  },
  {
   "cell_type": "markdown",
   "metadata": {},
   "source": [
    "## 3.1 \n",
    "\n",
    "The Hessian is given by \n",
    "\n",
    "$$\n",
    "\\Sigma_F^{-1} = S_T^\\top \\STi S_T \\otimes  S_N^\\top \\SNi S_N  + \\gamma K^{-1} \\otimes H^{-2}\n",
    "$$\n"
   ]
  },
  {
   "cell_type": "code",
   "execution_count": 13,
   "metadata": {},
   "outputs": [],
   "source": [
    "def zeta3(F):\n",
    "    F = mat(F, shape=(N, T))\n",
    "    return 0.5 * (tr((Y - SN @ F @ ST.T).T @ sigNi @ (Y - SN @ F @ ST.T) @ sigTi) + gamma * tr(Ki @ F.T @ Hsi @ F))\n",
    "\n",
    "\n",
    "def hessian_numerical(f, x):\n",
    "    \n",
    "    dx = 0.001\n",
    "    N = len(x)\n",
    "    out = np.zeros((N, N))\n",
    "    \n",
    "    for i in range(N):\n",
    "        for j in range(N):\n",
    "        \n",
    "            def deriv(g, x, k):\n",
    "                x_ = x.copy()\n",
    "                _x = x.copy()\n",
    "                x_[k] += dx / 2\n",
    "                _x[k] -= dx / 2\n",
    "                return (g(x_) - g(_x)) / dx \n",
    "                        \n",
    "            out[i, j] = deriv(lambda y: deriv(f, y, i), x, j)\n",
    "    \n",
    "    return out"
   ]
  },
  {
   "cell_type": "code",
   "execution_count": 14,
   "metadata": {},
   "outputs": [
    {
     "data": {
      "text/plain": [
       "True"
      ]
     },
     "execution_count": 14,
     "metadata": {},
     "output_type": "execute_result"
    }
   ],
   "source": [
    "F_ = np.random.normal(size=(N, T))\n",
    "hess_analytic = kron(ST.T @ sigTi @ ST, SN.T @ sigNi @ SN ) + gamma * kron(Ki, Hsi)\n",
    "hess_numeric = hessian_numerical(zeta3, vec(F_))\n",
    "\n",
    "np.allclose(hess_analytic, hess_numeric)"
   ]
  },
  {
   "cell_type": "markdown",
   "metadata": {},
   "source": [
    "## 3.2\n",
    "\n",
    "The diagonal of the inverse Hessian is given by \n",
    "\n",
    "$$\n",
    "\\Omega_F = \\big(\\tilde{U}^{-\\top} \\circ (H^2 \\tilde{U})\\big) \\, J \\, \\big(\\tilde{V}^{-1}  \\circ (\\tilde{V}^\\top K) \\big)\n",
    "$$\n"
   ]
  },
  {
   "cell_type": "code",
   "execution_count": 15,
   "metadata": {},
   "outputs": [],
   "source": [
    "lamK_, V_ = eig(ST.T @ sigTi @ ST @ K)\n",
    "lamH_, U_ = eig(SN.T @ sigNi @ SN @ Hs)\n",
    "J_ = 1 / (np.outer(lamH_, lamK_) + gamma)\n",
    "omega = np.real((np.linalg.inv(U_).T * (Hs @ U_)) @ J_ @ (inv(V_) * (V_.T @ K)))"
   ]
  },
  {
   "cell_type": "code",
   "execution_count": 16,
   "metadata": {},
   "outputs": [
    {
     "data": {
      "text/plain": [
       "True"
      ]
     },
     "execution_count": 16,
     "metadata": {},
     "output_type": "execute_result"
    }
   ],
   "source": [
    "np.allclose(mat(inv(hess_analytic)[range(N * T), range(N * T)], like=F_), omega, atol=1e-5)"
   ]
  },
  {
   "cell_type": "code",
   "execution_count": null,
   "metadata": {},
   "outputs": [],
   "source": []
  }
 ],
 "metadata": {
  "kernelspec": {
   "display_name": "Python 3 (ipykernel)",
   "language": "python",
   "name": "python3"
  },
  "language_info": {
   "codemirror_mode": {
    "name": "ipython",
    "version": 3
   },
   "file_extension": ".py",
   "mimetype": "text/x-python",
   "name": "python",
   "nbconvert_exporter": "python",
   "pygments_lexer": "ipython3",
   "version": "3.10.0"
  }
 },
 "nbformat": 4,
 "nbformat_minor": 4
}
