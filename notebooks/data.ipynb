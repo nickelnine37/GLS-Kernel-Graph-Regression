{
 "cells": [
  {
   "cell_type": "markdown",
   "id": "baed9b9a",
   "metadata": {},
   "source": [
    "# Data Download and Preprocessing\n",
    "\n",
    "The purpose of this notebook is apply the functions in `data/download.py` and `data/preprocess.py`. "
   ]
  },
  {
   "cell_type": "code",
   "execution_count": null,
   "id": "567b12a2",
   "metadata": {},
   "outputs": [],
   "source": [
    "from IPython.display import display, HTML\n",
    "display(HTML(\"<style>.container { width:90% !important; }</style>\"))\n",
    "\n",
    "import sys\n",
    "sys.path.append('..')\n",
    "\n",
    "%load_ext autoreload\n",
    "%autoreload 2\n",
    "\n",
    "import warnings\n",
    "import tqdm\n",
    "import pandas as pd\n",
    "\n",
    "warnings.simplefilter(action=\"ignore\", category=tqdm.TqdmExperimentalWarning)\n",
    "warnings.simplefilter(action=\"ignore\", category=pd.core.common.SettingWithCopyWarning)"
   ]
  },
  {
   "cell_type": "markdown",
   "id": "588e2091",
   "metadata": {},
   "source": [
    "## 1. Set the data directory\n",
    "\n",
    "This can be changed in the `config.json` file"
   ]
  },
  {
   "cell_type": "code",
   "execution_count": null,
   "id": "c3bbe464",
   "metadata": {},
   "outputs": [],
   "source": [
    "from data import get_data_dir\n",
    "\n",
    "DATA_DIR = get_data_dir()\n",
    "\n",
    "print(f'Data will be downladed to: {DATA_DIR}')"
   ]
  },
  {
   "cell_type": "markdown",
   "id": "0b8dcb95",
   "metadata": {},
   "source": [
    "## 2. Download the data\n",
    "\n",
    "Use the requests module to access the online data and save it to `DATA_DIR`"
   ]
  },
  {
   "cell_type": "code",
   "execution_count": null,
   "id": "8359be78",
   "metadata": {},
   "outputs": [],
   "source": [
    "from data.download import download_fire_data\n",
    "\n",
    "download_fire_data(DATA_DIR)"
   ]
  },
  {
   "cell_type": "code",
   "execution_count": null,
   "id": "70de506d",
   "metadata": {},
   "outputs": [],
   "source": [
    "from data.download import download_GLOBE_data\n",
    "\n",
    "download_GLOBE_data(DATA_DIR)"
   ]
  },
  {
   "cell_type": "code",
   "execution_count": null,
   "id": "286cc562",
   "metadata": {},
   "outputs": [],
   "source": [
    "from data.download import download_met_data\n",
    "\n",
    "download_met_data(DATA_DIR)"
   ]
  },
  {
   "cell_type": "markdown",
   "id": "6f3544fb",
   "metadata": {},
   "source": [
    "## 3. Preprocess the data\n",
    "\n",
    "Processed data will be saved to `data/processed`. Apply optional transform to data: `'log'`, `'quantile'`, `'norm'`, `None`. "
   ]
  },
  {
   "cell_type": "code",
   "execution_count": null,
   "id": "69c6977b",
   "metadata": {},
   "outputs": [],
   "source": [
    "# Preprocess the fire data for each transform type \n",
    "\n",
    "from data.preprocess import FirePipeline\n",
    "\n",
    "\n",
    "transform_pbar = tqdm.notebook.tqdm(['log', 'quantile', 'norm', None], leave=False)\n",
    "\n",
    "for transform in transform_pbar:\n",
    "    \n",
    "    transform_pbar.set_description(f'Transform: {transform}')\n",
    "    FirePipeline(DATA_DIR, transform=transform).process().to_csv()"
   ]
  },
  {
   "cell_type": "code",
   "execution_count": null,
   "id": "91b0f0bc",
   "metadata": {},
   "outputs": [],
   "source": [
    "# Preprocess each metric for each transform type \n",
    "\n",
    "from data.preprocess import MetPipeline\n",
    "\n",
    "transform_pbar = tqdm.notebook.tqdm(['log', 'quantile', 'norm', None], leave=False)\n",
    "for transform in transform_pbar:\n",
    "    \n",
    "    transform_pbar.set_description(f'Transform: {transform}')\n",
    "    metric_pbar = tqdm.notebook.tqdm(['Ozone', 'SO2', 'CO', 'NO2', 'PM25', 'PM10', 'Wind', 'Pressure', 'Temperature', 'Humidity'], leave=False)\n",
    "\n",
    "    for metric in metric_pbar:\n",
    "        \n",
    "        metric_pbar.set_description(f'Metric: {metric}')\n",
    "        MetPipeline(DATA_DIR, metric, transform=transform).process().to_csv()"
   ]
  },
  {
   "cell_type": "code",
   "execution_count": 23,
   "id": "cfc884f4",
   "metadata": {},
   "outputs": [],
   "source": [
    "\n"
   ]
  },
  {
   "cell_type": "code",
   "execution_count": 24,
   "id": "e52392e2",
   "metadata": {},
   "outputs": [
    {
     "data": {
      "text/html": [
       "<div>\n",
       "<style scoped>\n",
       "    .dataframe tbody tr th:only-of-type {\n",
       "        vertical-align: middle;\n",
       "    }\n",
       "\n",
       "    .dataframe tbody tr th {\n",
       "        vertical-align: top;\n",
       "    }\n",
       "\n",
       "    .dataframe thead th {\n",
       "        text-align: right;\n",
       "    }\n",
       "</style>\n",
       "<table border=\"1\" class=\"dataframe\">\n",
       "  <thead>\n",
       "    <tr style=\"text-align: right;\">\n",
       "      <th></th>\n",
       "      <th>Ozone</th>\n",
       "      <th>CO</th>\n",
       "      <th>NO2</th>\n",
       "      <th>PM2.5</th>\n",
       "      <th>PM10</th>\n",
       "    </tr>\n",
       "    <tr>\n",
       "      <th>0</th>\n",
       "      <th></th>\n",
       "      <th></th>\n",
       "      <th></th>\n",
       "      <th></th>\n",
       "      <th></th>\n",
       "    </tr>\n",
       "  </thead>\n",
       "  <tbody>\n",
       "    <tr>\n",
       "      <th>GLS KGR</th>\n",
       "      <td>0.6444</td>\n",
       "      <td>0.8207</td>\n",
       "      <td>0.6912</td>\n",
       "      <td>0.7512</td>\n",
       "      <td>0.6899</td>\n",
       "    </tr>\n",
       "    <tr>\n",
       "      <th>KGR</th>\n",
       "      <td>0.6539</td>\n",
       "      <td>0.8438</td>\n",
       "      <td>0.7201</td>\n",
       "      <td>0.7809</td>\n",
       "      <td>0.6728</td>\n",
       "    </tr>\n",
       "    <tr>\n",
       "      <th>GLS KGR (GF)</th>\n",
       "      <td>0.6835</td>\n",
       "      <td>0.8602</td>\n",
       "      <td>0.7392</td>\n",
       "      <td>0.7859</td>\n",
       "      <td>0.7008</td>\n",
       "    </tr>\n",
       "    <tr>\n",
       "      <th>KGR (GF)</th>\n",
       "      <td>0.6706</td>\n",
       "      <td>0.8685</td>\n",
       "      <td>0.7703</td>\n",
       "      <td>0.8003</td>\n",
       "      <td>0.6957</td>\n",
       "    </tr>\n",
       "    <tr>\n",
       "      <th>Ridge</th>\n",
       "      <td>0.7298</td>\n",
       "      <td>0.9704</td>\n",
       "      <td>0.7316</td>\n",
       "      <td>0.7819</td>\n",
       "      <td>0.7195</td>\n",
       "    </tr>\n",
       "    <tr>\n",
       "      <th>Lasso</th>\n",
       "      <td>0.7283</td>\n",
       "      <td>0.9881</td>\n",
       "      <td>0.7296</td>\n",
       "      <td>0.7763</td>\n",
       "      <td>0.7222</td>\n",
       "    </tr>\n",
       "    <tr>\n",
       "      <th>OLS</th>\n",
       "      <td>1.1276</td>\n",
       "      <td>2.4638</td>\n",
       "      <td>1.0311</td>\n",
       "      <td>1.1715</td>\n",
       "      <td>1.1784</td>\n",
       "    </tr>\n",
       "  </tbody>\n",
       "</table>\n",
       "</div>"
      ],
      "text/plain": [
       "               Ozone      CO     NO2   PM2.5    PM10\n",
       "0                                                   \n",
       "GLS KGR       0.6444  0.8207  0.6912  0.7512  0.6899\n",
       "KGR           0.6539  0.8438  0.7201  0.7809  0.6728\n",
       "GLS KGR (GF)  0.6835  0.8602  0.7392  0.7859  0.7008\n",
       "KGR (GF)      0.6706  0.8685  0.7703  0.8003  0.6957\n",
       "Ridge         0.7298  0.9704  0.7316  0.7819  0.7195\n",
       "Lasso         0.7283  0.9881  0.7296  0.7763  0.7222\n",
       "OLS           1.1276  2.4638  1.0311  1.1715  1.1784"
      ]
     },
     "execution_count": 24,
     "metadata": {},
     "output_type": "execute_result"
    }
   ],
   "source": [
    "df"
   ]
  },
  {
   "cell_type": "code",
   "execution_count": null,
   "id": "60a1bb98",
   "metadata": {},
   "outputs": [],
   "source": []
  }
 ],
 "metadata": {
  "kernelspec": {
   "display_name": "Python 3 (ipykernel)",
   "language": "python",
   "name": "python3"
  },
  "language_info": {
   "codemirror_mode": {
    "name": "ipython",
    "version": 3
   },
   "file_extension": ".py",
   "mimetype": "text/x-python",
   "name": "python",
   "nbconvert_exporter": "python",
   "pygments_lexer": "ipython3",
   "version": "3.10.0"
  }
 },
 "nbformat": 4,
 "nbformat_minor": 5
}
