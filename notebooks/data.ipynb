{
 "cells": [
  {
   "cell_type": "markdown",
   "id": "baed9b9a",
   "metadata": {},
   "source": [
    "# Data Download and Preprocessing\n",
    "\n",
    "The purpose of this notebook is apply the functions in `data/download.py` and `data/preprocess.py`. "
   ]
  },
  {
   "cell_type": "code",
   "execution_count": null,
   "id": "567b12a2",
   "metadata": {},
   "outputs": [],
   "source": [
    "from IPython.display import display, HTML\n",
    "display(HTML(\"<style>.container { width:90% !important; }</style>\"))\n",
    "\n",
    "import sys\n",
    "sys.path.append('..')\n",
    "\n",
    "%load_ext autoreload\n",
    "%autoreload 2\n",
    "\n",
    "import warnings\n",
    "import tqdm\n",
    "import pandas as pd\n",
    "\n",
    "warnings.simplefilter(action=\"ignore\", category=tqdm.TqdmExperimentalWarning)\n",
    "warnings.simplefilter(action=\"ignore\", category=pd.core.common.SettingWithCopyWarning)"
   ]
  },
  {
   "cell_type": "markdown",
   "id": "588e2091",
   "metadata": {},
   "source": [
    "## 1. Set the data directory\n",
    "\n",
    "This can be changed in the `config.json` file"
   ]
  },
  {
   "cell_type": "code",
   "execution_count": null,
   "id": "c3bbe464",
   "metadata": {},
   "outputs": [],
   "source": [
    "from data import get_data_dir\n",
    "\n",
    "DATA_DIR = get_data_dir()\n",
    "\n",
    "print(f'Data will be downladed to: {DATA_DIR}')"
   ]
  },
  {
   "cell_type": "markdown",
   "id": "0b8dcb95",
   "metadata": {},
   "source": [
    "## 2. Download the data\n",
    "\n",
    "Use the requests module to access the online data and save it to `DATA_DIR`"
   ]
  },
  {
   "cell_type": "code",
   "execution_count": null,
   "id": "8359be78",
   "metadata": {},
   "outputs": [],
   "source": [
    "from data.download import download_fire_data\n",
    "\n",
    "download_fire_data(DATA_DIR)"
   ]
  },
  {
   "cell_type": "code",
   "execution_count": null,
   "id": "70de506d",
   "metadata": {},
   "outputs": [],
   "source": [
    "from data.download import download_GLOBE_data\n",
    "\n",
    "download_GLOBE_data(DATA_DIR)"
   ]
  },
  {
   "cell_type": "code",
   "execution_count": null,
   "id": "286cc562",
   "metadata": {},
   "outputs": [],
   "source": [
    "from data.download import download_met_data\n",
    "\n",
    "download_met_data(DATA_DIR)"
   ]
  },
  {
   "cell_type": "markdown",
   "id": "6f3544fb",
   "metadata": {},
   "source": [
    "## 3. Preprocess the data\n",
    "\n",
    "Processed data will be saved to `data/processed`. Apply optional transform to data: `'log'`, `'quantile'`, `'norm'`, `None`. "
   ]
  },
  {
   "cell_type": "code",
   "execution_count": null,
   "id": "69c6977b",
   "metadata": {},
   "outputs": [],
   "source": [
    "# Preprocess the fire data for each transform type \n",
    "\n",
    "from data.preprocess import FirePipeline\n",
    "\n",
    "\n",
    "transform_pbar = tqdm.notebook.tqdm(['log', 'quantile', 'norm', None], leave=False)\n",
    "\n",
    "for transform in transform_pbar:\n",
    "    \n",
    "    transform_pbar.set_description(f'Transform: {transform}')\n",
    "    FirePipeline(DATA_DIR, transform=transform).process().to_csv()"
   ]
  },
  {
   "cell_type": "code",
   "execution_count": null,
   "id": "91b0f0bc",
   "metadata": {},
   "outputs": [],
   "source": [
    "# Preprocess each metric for each transform type \n",
    "\n",
    "from data.preprocess import MetPipeline\n",
    "\n",
    "transform_pbar = tqdm.notebook.tqdm(['log', 'quantile', 'norm', None], leave=False)\n",
    "for transform in transform_pbar:\n",
    "    \n",
    "    transform_pbar.set_description(f'Transform: {transform}')\n",
    "    metric_pbar = tqdm.notebook.tqdm(['Ozone', 'SO2', 'CO', 'NO2', 'PM25', 'PM10', 'Wind', 'Pressure', 'Temperature', 'Humidity'], leave=False)\n",
    "\n",
    "    for metric in metric_pbar:\n",
    "        \n",
    "        metric_pbar.set_description(f'Metric: {metric}')\n",
    "        MetPipeline(DATA_DIR, metric, transform=transform).process().to_csv()"
   ]
  },
  {
   "cell_type": "code",
   "execution_count": null,
   "id": "60a1bb98",
   "metadata": {},
   "outputs": [],
   "source": []
  }
 ],
 "metadata": {
  "kernelspec": {
   "display_name": "Python 3 (ipykernel)",
   "language": "python",
   "name": "python3"
  },
  "language_info": {
   "codemirror_mode": {
    "name": "ipython",
    "version": 3
   },
   "file_extension": ".py",
   "mimetype": "text/x-python",
   "name": "python",
   "nbconvert_exporter": "python",
   "pygments_lexer": "ipython3",
   "version": "3.10.0"
  }
 },
 "nbformat": 4,
 "nbformat_minor": 5
}
