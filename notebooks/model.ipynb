{
 "cells": [
  {
   "cell_type": "code",
   "execution_count": 2,
   "metadata": {},
   "outputs": [
    {
     "data": {
      "text/html": [
       "<style>.container { width:90% !important; }</style>"
      ],
      "text/plain": [
       "<IPython.core.display.HTML object>"
      ]
     },
     "metadata": {},
     "output_type": "display_data"
    }
   ],
   "source": [
    "from IPython.core.display import display, HTML\n",
    "display(HTML(\"<style>.container { width:90% !important; }</style>\"))"
   ]
  },
  {
   "cell_type": "code",
   "execution_count": 3,
   "metadata": {},
   "outputs": [],
   "source": [
    "%load_ext autoreload\n",
    "%autoreload 2"
   ]
  },
  {
   "cell_type": "code",
   "execution_count": 4,
   "metadata": {},
   "outputs": [
    {
     "name": "stderr",
     "output_type": "stream",
     "text": [
      "/home/ed/miniconda3/lib/python3.7/site-packages/ipykernel_launcher.py:4: TqdmExperimentalWarning: Using `tqdm.autonotebook.tqdm` in notebook mode. Use `tqdm.tqdm` instead to force console mode (e.g. in jupyter console)\n",
      "  after removing the cwd from sys.path.\n"
     ]
    }
   ],
   "source": [
    "import numpy as np\n",
    "import matplotlib.pyplot as plt\n",
    "import pandas as pd\n",
    "from tqdm.autonotebook import tqdm\n"
   ]
  },
  {
   "cell_type": "code",
   "execution_count": 5,
   "metadata": {},
   "outputs": [],
   "source": [
    "%matplotlib notebook\n",
    "np.set_printoptions(precision=4, linewidth=500, threshold=500, suppress=True)"
   ]
  },
  {
   "cell_type": "code",
   "execution_count": 6,
   "metadata": {},
   "outputs": [],
   "source": [
    "import sys\n",
    "sys.path.append('..')"
   ]
  },
  {
   "cell_type": "code",
   "execution_count": 7,
   "metadata": {},
   "outputs": [],
   "source": [
    "from model.laplacian import Laplacian\n",
    "from model.features import Features\n",
    "from model.targets import Targets\n",
    "from model.regression.basic import LinearRegression, LassoRegression, RidgeRegression, NaiveRegression\n",
    "from model.regression.glskgr import GLSKGR\n",
    "from model.regression.kgr import KGR\n"
   ]
  },
  {
   "cell_type": "code",
   "execution_count": 8,
   "metadata": {},
   "outputs": [],
   "source": [
    "laplacian = Laplacian()"
   ]
  },
  {
   "cell_type": "code",
   "execution_count": 9,
   "metadata": {},
   "outputs": [],
   "source": [
    "features = Features(transform='log')"
   ]
  },
  {
   "cell_type": "code",
   "execution_count": 12,
   "metadata": {},
   "outputs": [],
   "source": [
    "metrics = ['Ozone', 'SO2', 'CO', 'NO2', 'PM25', 'PM10']\n",
    "\n",
    "targets = {metric: Targets(metric, transform='log') for metric in metrics}"
   ]
  },
  {
   "cell_type": "code",
   "execution_count": 20,
   "metadata": {},
   "outputs": [
    {
     "data": {
      "application/javascript": [
       "/* Put everything inside the global mpl namespace */\n",
       "window.mpl = {};\n",
       "\n",
       "\n",
       "mpl.get_websocket_type = function() {\n",
       "    if (typeof(WebSocket) !== 'undefined') {\n",
       "        return WebSocket;\n",
       "    } else if (typeof(MozWebSocket) !== 'undefined') {\n",
       "        return MozWebSocket;\n",
       "    } else {\n",
       "        alert('Your browser does not have WebSocket support. ' +\n",
       "              'Please try Chrome, Safari or Firefox ≥ 6. ' +\n",
       "              'Firefox 4 and 5 are also supported but you ' +\n",
       "              'have to enable WebSockets in about:config.');\n",
       "    };\n",
       "}\n",
       "\n",
       "mpl.figure = function(figure_id, websocket, ondownload, parent_element) {\n",
       "    this.id = figure_id;\n",
       "\n",
       "    this.ws = websocket;\n",
       "\n",
       "    this.supports_binary = (this.ws.binaryType != undefined);\n",
       "\n",
       "    if (!this.supports_binary) {\n",
       "        var warnings = document.getElementById(\"mpl-warnings\");\n",
       "        if (warnings) {\n",
       "            warnings.style.display = 'block';\n",
       "            warnings.textContent = (\n",
       "                \"This browser does not support binary websocket messages. \" +\n",
       "                    \"Performance may be slow.\");\n",
       "        }\n",
       "    }\n",
       "\n",
       "    this.imageObj = new Image();\n",
       "\n",
       "    this.context = undefined;\n",
       "    this.message = undefined;\n",
       "    this.canvas = undefined;\n",
       "    this.rubberband_canvas = undefined;\n",
       "    this.rubberband_context = undefined;\n",
       "    this.format_dropdown = undefined;\n",
       "\n",
       "    this.image_mode = 'full';\n",
       "\n",
       "    this.root = $('<div/>');\n",
       "    this._root_extra_style(this.root)\n",
       "    this.root.attr('style', 'display: inline-block');\n",
       "\n",
       "    $(parent_element).append(this.root);\n",
       "\n",
       "    this._init_header(this);\n",
       "    this._init_canvas(this);\n",
       "    this._init_toolbar(this);\n",
       "\n",
       "    var fig = this;\n",
       "\n",
       "    this.waiting = false;\n",
       "\n",
       "    this.ws.onopen =  function () {\n",
       "            fig.send_message(\"supports_binary\", {value: fig.supports_binary});\n",
       "            fig.send_message(\"send_image_mode\", {});\n",
       "            if (mpl.ratio != 1) {\n",
       "                fig.send_message(\"set_dpi_ratio\", {'dpi_ratio': mpl.ratio});\n",
       "            }\n",
       "            fig.send_message(\"refresh\", {});\n",
       "        }\n",
       "\n",
       "    this.imageObj.onload = function() {\n",
       "            if (fig.image_mode == 'full') {\n",
       "                // Full images could contain transparency (where diff images\n",
       "                // almost always do), so we need to clear the canvas so that\n",
       "                // there is no ghosting.\n",
       "                fig.context.clearRect(0, 0, fig.canvas.width, fig.canvas.height);\n",
       "            }\n",
       "            fig.context.drawImage(fig.imageObj, 0, 0);\n",
       "        };\n",
       "\n",
       "    this.imageObj.onunload = function() {\n",
       "        fig.ws.close();\n",
       "    }\n",
       "\n",
       "    this.ws.onmessage = this._make_on_message_function(this);\n",
       "\n",
       "    this.ondownload = ondownload;\n",
       "}\n",
       "\n",
       "mpl.figure.prototype._init_header = function() {\n",
       "    var titlebar = $(\n",
       "        '<div class=\"ui-dialog-titlebar ui-widget-header ui-corner-all ' +\n",
       "        'ui-helper-clearfix\"/>');\n",
       "    var titletext = $(\n",
       "        '<div class=\"ui-dialog-title\" style=\"width: 100%; ' +\n",
       "        'text-align: center; padding: 3px;\"/>');\n",
       "    titlebar.append(titletext)\n",
       "    this.root.append(titlebar);\n",
       "    this.header = titletext[0];\n",
       "}\n",
       "\n",
       "\n",
       "\n",
       "mpl.figure.prototype._canvas_extra_style = function(canvas_div) {\n",
       "\n",
       "}\n",
       "\n",
       "\n",
       "mpl.figure.prototype._root_extra_style = function(canvas_div) {\n",
       "\n",
       "}\n",
       "\n",
       "mpl.figure.prototype._init_canvas = function() {\n",
       "    var fig = this;\n",
       "\n",
       "    var canvas_div = $('<div/>');\n",
       "\n",
       "    canvas_div.attr('style', 'position: relative; clear: both; outline: 0');\n",
       "\n",
       "    function canvas_keyboard_event(event) {\n",
       "        return fig.key_event(event, event['data']);\n",
       "    }\n",
       "\n",
       "    canvas_div.keydown('key_press', canvas_keyboard_event);\n",
       "    canvas_div.keyup('key_release', canvas_keyboard_event);\n",
       "    this.canvas_div = canvas_div\n",
       "    this._canvas_extra_style(canvas_div)\n",
       "    this.root.append(canvas_div);\n",
       "\n",
       "    var canvas = $('<canvas/>');\n",
       "    canvas.addClass('mpl-canvas');\n",
       "    canvas.attr('style', \"left: 0; top: 0; z-index: 0; outline: 0\")\n",
       "\n",
       "    this.canvas = canvas[0];\n",
       "    this.context = canvas[0].getContext(\"2d\");\n",
       "\n",
       "    var backingStore = this.context.backingStorePixelRatio ||\n",
       "\tthis.context.webkitBackingStorePixelRatio ||\n",
       "\tthis.context.mozBackingStorePixelRatio ||\n",
       "\tthis.context.msBackingStorePixelRatio ||\n",
       "\tthis.context.oBackingStorePixelRatio ||\n",
       "\tthis.context.backingStorePixelRatio || 1;\n",
       "\n",
       "    mpl.ratio = (window.devicePixelRatio || 1) / backingStore;\n",
       "\n",
       "    var rubberband = $('<canvas/>');\n",
       "    rubberband.attr('style', \"position: absolute; left: 0; top: 0; z-index: 1;\")\n",
       "\n",
       "    var pass_mouse_events = true;\n",
       "\n",
       "    canvas_div.resizable({\n",
       "        start: function(event, ui) {\n",
       "            pass_mouse_events = false;\n",
       "        },\n",
       "        resize: function(event, ui) {\n",
       "            fig.request_resize(ui.size.width, ui.size.height);\n",
       "        },\n",
       "        stop: function(event, ui) {\n",
       "            pass_mouse_events = true;\n",
       "            fig.request_resize(ui.size.width, ui.size.height);\n",
       "        },\n",
       "    });\n",
       "\n",
       "    function mouse_event_fn(event) {\n",
       "        if (pass_mouse_events)\n",
       "            return fig.mouse_event(event, event['data']);\n",
       "    }\n",
       "\n",
       "    rubberband.mousedown('button_press', mouse_event_fn);\n",
       "    rubberband.mouseup('button_release', mouse_event_fn);\n",
       "    // Throttle sequential mouse events to 1 every 20ms.\n",
       "    rubberband.mousemove('motion_notify', mouse_event_fn);\n",
       "\n",
       "    rubberband.mouseenter('figure_enter', mouse_event_fn);\n",
       "    rubberband.mouseleave('figure_leave', mouse_event_fn);\n",
       "\n",
       "    canvas_div.on(\"wheel\", function (event) {\n",
       "        event = event.originalEvent;\n",
       "        event['data'] = 'scroll'\n",
       "        if (event.deltaY < 0) {\n",
       "            event.step = 1;\n",
       "        } else {\n",
       "            event.step = -1;\n",
       "        }\n",
       "        mouse_event_fn(event);\n",
       "    });\n",
       "\n",
       "    canvas_div.append(canvas);\n",
       "    canvas_div.append(rubberband);\n",
       "\n",
       "    this.rubberband = rubberband;\n",
       "    this.rubberband_canvas = rubberband[0];\n",
       "    this.rubberband_context = rubberband[0].getContext(\"2d\");\n",
       "    this.rubberband_context.strokeStyle = \"#000000\";\n",
       "\n",
       "    this._resize_canvas = function(width, height) {\n",
       "        // Keep the size of the canvas, canvas container, and rubber band\n",
       "        // canvas in synch.\n",
       "        canvas_div.css('width', width)\n",
       "        canvas_div.css('height', height)\n",
       "\n",
       "        canvas.attr('width', width * mpl.ratio);\n",
       "        canvas.attr('height', height * mpl.ratio);\n",
       "        canvas.attr('style', 'width: ' + width + 'px; height: ' + height + 'px;');\n",
       "\n",
       "        rubberband.attr('width', width);\n",
       "        rubberband.attr('height', height);\n",
       "    }\n",
       "\n",
       "    // Set the figure to an initial 600x600px, this will subsequently be updated\n",
       "    // upon first draw.\n",
       "    this._resize_canvas(600, 600);\n",
       "\n",
       "    // Disable right mouse context menu.\n",
       "    $(this.rubberband_canvas).bind(\"contextmenu\",function(e){\n",
       "        return false;\n",
       "    });\n",
       "\n",
       "    function set_focus () {\n",
       "        canvas.focus();\n",
       "        canvas_div.focus();\n",
       "    }\n",
       "\n",
       "    window.setTimeout(set_focus, 100);\n",
       "}\n",
       "\n",
       "mpl.figure.prototype._init_toolbar = function() {\n",
       "    var fig = this;\n",
       "\n",
       "    var nav_element = $('<div/>');\n",
       "    nav_element.attr('style', 'width: 100%');\n",
       "    this.root.append(nav_element);\n",
       "\n",
       "    // Define a callback function for later on.\n",
       "    function toolbar_event(event) {\n",
       "        return fig.toolbar_button_onclick(event['data']);\n",
       "    }\n",
       "    function toolbar_mouse_event(event) {\n",
       "        return fig.toolbar_button_onmouseover(event['data']);\n",
       "    }\n",
       "\n",
       "    for(var toolbar_ind in mpl.toolbar_items) {\n",
       "        var name = mpl.toolbar_items[toolbar_ind][0];\n",
       "        var tooltip = mpl.toolbar_items[toolbar_ind][1];\n",
       "        var image = mpl.toolbar_items[toolbar_ind][2];\n",
       "        var method_name = mpl.toolbar_items[toolbar_ind][3];\n",
       "\n",
       "        if (!name) {\n",
       "            // put a spacer in here.\n",
       "            continue;\n",
       "        }\n",
       "        var button = $('<button/>');\n",
       "        button.addClass('ui-button ui-widget ui-state-default ui-corner-all ' +\n",
       "                        'ui-button-icon-only');\n",
       "        button.attr('role', 'button');\n",
       "        button.attr('aria-disabled', 'false');\n",
       "        button.click(method_name, toolbar_event);\n",
       "        button.mouseover(tooltip, toolbar_mouse_event);\n",
       "\n",
       "        var icon_img = $('<span/>');\n",
       "        icon_img.addClass('ui-button-icon-primary ui-icon');\n",
       "        icon_img.addClass(image);\n",
       "        icon_img.addClass('ui-corner-all');\n",
       "\n",
       "        var tooltip_span = $('<span/>');\n",
       "        tooltip_span.addClass('ui-button-text');\n",
       "        tooltip_span.html(tooltip);\n",
       "\n",
       "        button.append(icon_img);\n",
       "        button.append(tooltip_span);\n",
       "\n",
       "        nav_element.append(button);\n",
       "    }\n",
       "\n",
       "    var fmt_picker_span = $('<span/>');\n",
       "\n",
       "    var fmt_picker = $('<select/>');\n",
       "    fmt_picker.addClass('mpl-toolbar-option ui-widget ui-widget-content');\n",
       "    fmt_picker_span.append(fmt_picker);\n",
       "    nav_element.append(fmt_picker_span);\n",
       "    this.format_dropdown = fmt_picker[0];\n",
       "\n",
       "    for (var ind in mpl.extensions) {\n",
       "        var fmt = mpl.extensions[ind];\n",
       "        var option = $(\n",
       "            '<option/>', {selected: fmt === mpl.default_extension}).html(fmt);\n",
       "        fmt_picker.append(option);\n",
       "    }\n",
       "\n",
       "    // Add hover states to the ui-buttons\n",
       "    $( \".ui-button\" ).hover(\n",
       "        function() { $(this).addClass(\"ui-state-hover\");},\n",
       "        function() { $(this).removeClass(\"ui-state-hover\");}\n",
       "    );\n",
       "\n",
       "    var status_bar = $('<span class=\"mpl-message\"/>');\n",
       "    nav_element.append(status_bar);\n",
       "    this.message = status_bar[0];\n",
       "}\n",
       "\n",
       "mpl.figure.prototype.request_resize = function(x_pixels, y_pixels) {\n",
       "    // Request matplotlib to resize the figure. Matplotlib will then trigger a resize in the client,\n",
       "    // which will in turn request a refresh of the image.\n",
       "    this.send_message('resize', {'width': x_pixels, 'height': y_pixels});\n",
       "}\n",
       "\n",
       "mpl.figure.prototype.send_message = function(type, properties) {\n",
       "    properties['type'] = type;\n",
       "    properties['figure_id'] = this.id;\n",
       "    this.ws.send(JSON.stringify(properties));\n",
       "}\n",
       "\n",
       "mpl.figure.prototype.send_draw_message = function() {\n",
       "    if (!this.waiting) {\n",
       "        this.waiting = true;\n",
       "        this.ws.send(JSON.stringify({type: \"draw\", figure_id: this.id}));\n",
       "    }\n",
       "}\n",
       "\n",
       "\n",
       "mpl.figure.prototype.handle_save = function(fig, msg) {\n",
       "    var format_dropdown = fig.format_dropdown;\n",
       "    var format = format_dropdown.options[format_dropdown.selectedIndex].value;\n",
       "    fig.ondownload(fig, format);\n",
       "}\n",
       "\n",
       "\n",
       "mpl.figure.prototype.handle_resize = function(fig, msg) {\n",
       "    var size = msg['size'];\n",
       "    if (size[0] != fig.canvas.width || size[1] != fig.canvas.height) {\n",
       "        fig._resize_canvas(size[0], size[1]);\n",
       "        fig.send_message(\"refresh\", {});\n",
       "    };\n",
       "}\n",
       "\n",
       "mpl.figure.prototype.handle_rubberband = function(fig, msg) {\n",
       "    var x0 = msg['x0'] / mpl.ratio;\n",
       "    var y0 = (fig.canvas.height - msg['y0']) / mpl.ratio;\n",
       "    var x1 = msg['x1'] / mpl.ratio;\n",
       "    var y1 = (fig.canvas.height - msg['y1']) / mpl.ratio;\n",
       "    x0 = Math.floor(x0) + 0.5;\n",
       "    y0 = Math.floor(y0) + 0.5;\n",
       "    x1 = Math.floor(x1) + 0.5;\n",
       "    y1 = Math.floor(y1) + 0.5;\n",
       "    var min_x = Math.min(x0, x1);\n",
       "    var min_y = Math.min(y0, y1);\n",
       "    var width = Math.abs(x1 - x0);\n",
       "    var height = Math.abs(y1 - y0);\n",
       "\n",
       "    fig.rubberband_context.clearRect(\n",
       "        0, 0, fig.canvas.width / mpl.ratio, fig.canvas.height / mpl.ratio);\n",
       "\n",
       "    fig.rubberband_context.strokeRect(min_x, min_y, width, height);\n",
       "}\n",
       "\n",
       "mpl.figure.prototype.handle_figure_label = function(fig, msg) {\n",
       "    // Updates the figure title.\n",
       "    fig.header.textContent = msg['label'];\n",
       "}\n",
       "\n",
       "mpl.figure.prototype.handle_cursor = function(fig, msg) {\n",
       "    var cursor = msg['cursor'];\n",
       "    switch(cursor)\n",
       "    {\n",
       "    case 0:\n",
       "        cursor = 'pointer';\n",
       "        break;\n",
       "    case 1:\n",
       "        cursor = 'default';\n",
       "        break;\n",
       "    case 2:\n",
       "        cursor = 'crosshair';\n",
       "        break;\n",
       "    case 3:\n",
       "        cursor = 'move';\n",
       "        break;\n",
       "    }\n",
       "    fig.rubberband_canvas.style.cursor = cursor;\n",
       "}\n",
       "\n",
       "mpl.figure.prototype.handle_message = function(fig, msg) {\n",
       "    fig.message.textContent = msg['message'];\n",
       "}\n",
       "\n",
       "mpl.figure.prototype.handle_draw = function(fig, msg) {\n",
       "    // Request the server to send over a new figure.\n",
       "    fig.send_draw_message();\n",
       "}\n",
       "\n",
       "mpl.figure.prototype.handle_image_mode = function(fig, msg) {\n",
       "    fig.image_mode = msg['mode'];\n",
       "}\n",
       "\n",
       "mpl.figure.prototype.updated_canvas_event = function() {\n",
       "    // Called whenever the canvas gets updated.\n",
       "    this.send_message(\"ack\", {});\n",
       "}\n",
       "\n",
       "// A function to construct a web socket function for onmessage handling.\n",
       "// Called in the figure constructor.\n",
       "mpl.figure.prototype._make_on_message_function = function(fig) {\n",
       "    return function socket_on_message(evt) {\n",
       "        if (evt.data instanceof Blob) {\n",
       "            /* FIXME: We get \"Resource interpreted as Image but\n",
       "             * transferred with MIME type text/plain:\" errors on\n",
       "             * Chrome.  But how to set the MIME type?  It doesn't seem\n",
       "             * to be part of the websocket stream */\n",
       "            evt.data.type = \"image/png\";\n",
       "\n",
       "            /* Free the memory for the previous frames */\n",
       "            if (fig.imageObj.src) {\n",
       "                (window.URL || window.webkitURL).revokeObjectURL(\n",
       "                    fig.imageObj.src);\n",
       "            }\n",
       "\n",
       "            fig.imageObj.src = (window.URL || window.webkitURL).createObjectURL(\n",
       "                evt.data);\n",
       "            fig.updated_canvas_event();\n",
       "            fig.waiting = false;\n",
       "            return;\n",
       "        }\n",
       "        else if (typeof evt.data === 'string' && evt.data.slice(0, 21) == \"data:image/png;base64\") {\n",
       "            fig.imageObj.src = evt.data;\n",
       "            fig.updated_canvas_event();\n",
       "            fig.waiting = false;\n",
       "            return;\n",
       "        }\n",
       "\n",
       "        var msg = JSON.parse(evt.data);\n",
       "        var msg_type = msg['type'];\n",
       "\n",
       "        // Call the  \"handle_{type}\" callback, which takes\n",
       "        // the figure and JSON message as its only arguments.\n",
       "        try {\n",
       "            var callback = fig[\"handle_\" + msg_type];\n",
       "        } catch (e) {\n",
       "            console.log(\"No handler for the '\" + msg_type + \"' message type: \", msg);\n",
       "            return;\n",
       "        }\n",
       "\n",
       "        if (callback) {\n",
       "            try {\n",
       "                // console.log(\"Handling '\" + msg_type + \"' message: \", msg);\n",
       "                callback(fig, msg);\n",
       "            } catch (e) {\n",
       "                console.log(\"Exception inside the 'handler_\" + msg_type + \"' callback:\", e, e.stack, msg);\n",
       "            }\n",
       "        }\n",
       "    };\n",
       "}\n",
       "\n",
       "// from http://stackoverflow.com/questions/1114465/getting-mouse-location-in-canvas\n",
       "mpl.findpos = function(e) {\n",
       "    //this section is from http://www.quirksmode.org/js/events_properties.html\n",
       "    var targ;\n",
       "    if (!e)\n",
       "        e = window.event;\n",
       "    if (e.target)\n",
       "        targ = e.target;\n",
       "    else if (e.srcElement)\n",
       "        targ = e.srcElement;\n",
       "    if (targ.nodeType == 3) // defeat Safari bug\n",
       "        targ = targ.parentNode;\n",
       "\n",
       "    // jQuery normalizes the pageX and pageY\n",
       "    // pageX,Y are the mouse positions relative to the document\n",
       "    // offset() returns the position of the element relative to the document\n",
       "    var x = e.pageX - $(targ).offset().left;\n",
       "    var y = e.pageY - $(targ).offset().top;\n",
       "\n",
       "    return {\"x\": x, \"y\": y};\n",
       "};\n",
       "\n",
       "/*\n",
       " * return a copy of an object with only non-object keys\n",
       " * we need this to avoid circular references\n",
       " * http://stackoverflow.com/a/24161582/3208463\n",
       " */\n",
       "function simpleKeys (original) {\n",
       "  return Object.keys(original).reduce(function (obj, key) {\n",
       "    if (typeof original[key] !== 'object')\n",
       "        obj[key] = original[key]\n",
       "    return obj;\n",
       "  }, {});\n",
       "}\n",
       "\n",
       "mpl.figure.prototype.mouse_event = function(event, name) {\n",
       "    var canvas_pos = mpl.findpos(event)\n",
       "\n",
       "    if (name === 'button_press')\n",
       "    {\n",
       "        this.canvas.focus();\n",
       "        this.canvas_div.focus();\n",
       "    }\n",
       "\n",
       "    var x = canvas_pos.x * mpl.ratio;\n",
       "    var y = canvas_pos.y * mpl.ratio;\n",
       "\n",
       "    this.send_message(name, {x: x, y: y, button: event.button,\n",
       "                             step: event.step,\n",
       "                             guiEvent: simpleKeys(event)});\n",
       "\n",
       "    /* This prevents the web browser from automatically changing to\n",
       "     * the text insertion cursor when the button is pressed.  We want\n",
       "     * to control all of the cursor setting manually through the\n",
       "     * 'cursor' event from matplotlib */\n",
       "    event.preventDefault();\n",
       "    return false;\n",
       "}\n",
       "\n",
       "mpl.figure.prototype._key_event_extra = function(event, name) {\n",
       "    // Handle any extra behaviour associated with a key event\n",
       "}\n",
       "\n",
       "mpl.figure.prototype.key_event = function(event, name) {\n",
       "\n",
       "    // Prevent repeat events\n",
       "    if (name == 'key_press')\n",
       "    {\n",
       "        if (event.which === this._key)\n",
       "            return;\n",
       "        else\n",
       "            this._key = event.which;\n",
       "    }\n",
       "    if (name == 'key_release')\n",
       "        this._key = null;\n",
       "\n",
       "    var value = '';\n",
       "    if (event.ctrlKey && event.which != 17)\n",
       "        value += \"ctrl+\";\n",
       "    if (event.altKey && event.which != 18)\n",
       "        value += \"alt+\";\n",
       "    if (event.shiftKey && event.which != 16)\n",
       "        value += \"shift+\";\n",
       "\n",
       "    value += 'k';\n",
       "    value += event.which.toString();\n",
       "\n",
       "    this._key_event_extra(event, name);\n",
       "\n",
       "    this.send_message(name, {key: value,\n",
       "                             guiEvent: simpleKeys(event)});\n",
       "    return false;\n",
       "}\n",
       "\n",
       "mpl.figure.prototype.toolbar_button_onclick = function(name) {\n",
       "    if (name == 'download') {\n",
       "        this.handle_save(this, null);\n",
       "    } else {\n",
       "        this.send_message(\"toolbar_button\", {name: name});\n",
       "    }\n",
       "};\n",
       "\n",
       "mpl.figure.prototype.toolbar_button_onmouseover = function(tooltip) {\n",
       "    this.message.textContent = tooltip;\n",
       "};\n",
       "mpl.toolbar_items = [[\"Home\", \"Reset original view\", \"fa fa-home icon-home\", \"home\"], [\"Back\", \"Back to previous view\", \"fa fa-arrow-left icon-arrow-left\", \"back\"], [\"Forward\", \"Forward to next view\", \"fa fa-arrow-right icon-arrow-right\", \"forward\"], [\"\", \"\", \"\", \"\"], [\"Pan\", \"Pan axes with left mouse, zoom with right\", \"fa fa-arrows icon-move\", \"pan\"], [\"Zoom\", \"Zoom to rectangle\", \"fa fa-square-o icon-check-empty\", \"zoom\"], [\"\", \"\", \"\", \"\"], [\"Download\", \"Download plot\", \"fa fa-floppy-o icon-save\", \"download\"]];\n",
       "\n",
       "mpl.extensions = [\"eps\", \"jpeg\", \"pdf\", \"png\", \"ps\", \"raw\", \"svg\", \"tif\"];\n",
       "\n",
       "mpl.default_extension = \"png\";var comm_websocket_adapter = function(comm) {\n",
       "    // Create a \"websocket\"-like object which calls the given IPython comm\n",
       "    // object with the appropriate methods. Currently this is a non binary\n",
       "    // socket, so there is still some room for performance tuning.\n",
       "    var ws = {};\n",
       "\n",
       "    ws.close = function() {\n",
       "        comm.close()\n",
       "    };\n",
       "    ws.send = function(m) {\n",
       "        //console.log('sending', m);\n",
       "        comm.send(m);\n",
       "    };\n",
       "    // Register the callback with on_msg.\n",
       "    comm.on_msg(function(msg) {\n",
       "        //console.log('receiving', msg['content']['data'], msg);\n",
       "        // Pass the mpl event to the overridden (by mpl) onmessage function.\n",
       "        ws.onmessage(msg['content']['data'])\n",
       "    });\n",
       "    return ws;\n",
       "}\n",
       "\n",
       "mpl.mpl_figure_comm = function(comm, msg) {\n",
       "    // This is the function which gets called when the mpl process\n",
       "    // starts-up an IPython Comm through the \"matplotlib\" channel.\n",
       "\n",
       "    var id = msg.content.data.id;\n",
       "    // Get hold of the div created by the display call when the Comm\n",
       "    // socket was opened in Python.\n",
       "    var element = $(\"#\" + id);\n",
       "    var ws_proxy = comm_websocket_adapter(comm)\n",
       "\n",
       "    function ondownload(figure, format) {\n",
       "        window.open(figure.imageObj.src);\n",
       "    }\n",
       "\n",
       "    var fig = new mpl.figure(id, ws_proxy,\n",
       "                           ondownload,\n",
       "                           element.get(0));\n",
       "\n",
       "    // Call onopen now - mpl needs it, as it is assuming we've passed it a real\n",
       "    // web socket which is closed, not our websocket->open comm proxy.\n",
       "    ws_proxy.onopen();\n",
       "\n",
       "    fig.parent_element = element.get(0);\n",
       "    fig.cell_info = mpl.find_output_cell(\"<div id='\" + id + \"'></div>\");\n",
       "    if (!fig.cell_info) {\n",
       "        console.error(\"Failed to find cell for figure\", id, fig);\n",
       "        return;\n",
       "    }\n",
       "\n",
       "    var output_index = fig.cell_info[2]\n",
       "    var cell = fig.cell_info[0];\n",
       "\n",
       "};\n",
       "\n",
       "mpl.figure.prototype.handle_close = function(fig, msg) {\n",
       "    var width = fig.canvas.width/mpl.ratio\n",
       "    fig.root.unbind('remove')\n",
       "\n",
       "    // Update the output cell to use the data from the current canvas.\n",
       "    fig.push_to_output();\n",
       "    var dataURL = fig.canvas.toDataURL();\n",
       "    // Re-enable the keyboard manager in IPython - without this line, in FF,\n",
       "    // the notebook keyboard shortcuts fail.\n",
       "    IPython.keyboard_manager.enable()\n",
       "    $(fig.parent_element).html('<img src=\"' + dataURL + '\" width=\"' + width + '\">');\n",
       "    fig.close_ws(fig, msg);\n",
       "}\n",
       "\n",
       "mpl.figure.prototype.close_ws = function(fig, msg){\n",
       "    fig.send_message('closing', msg);\n",
       "    // fig.ws.close()\n",
       "}\n",
       "\n",
       "mpl.figure.prototype.push_to_output = function(remove_interactive) {\n",
       "    // Turn the data on the canvas into data in the output cell.\n",
       "    var width = this.canvas.width/mpl.ratio\n",
       "    var dataURL = this.canvas.toDataURL();\n",
       "    this.cell_info[1]['text/html'] = '<img src=\"' + dataURL + '\" width=\"' + width + '\">';\n",
       "}\n",
       "\n",
       "mpl.figure.prototype.updated_canvas_event = function() {\n",
       "    // Tell IPython that the notebook contents must change.\n",
       "    IPython.notebook.set_dirty(true);\n",
       "    this.send_message(\"ack\", {});\n",
       "    var fig = this;\n",
       "    // Wait a second, then push the new image to the DOM so\n",
       "    // that it is saved nicely (might be nice to debounce this).\n",
       "    setTimeout(function () { fig.push_to_output() }, 1000);\n",
       "}\n",
       "\n",
       "mpl.figure.prototype._init_toolbar = function() {\n",
       "    var fig = this;\n",
       "\n",
       "    var nav_element = $('<div/>');\n",
       "    nav_element.attr('style', 'width: 100%');\n",
       "    this.root.append(nav_element);\n",
       "\n",
       "    // Define a callback function for later on.\n",
       "    function toolbar_event(event) {\n",
       "        return fig.toolbar_button_onclick(event['data']);\n",
       "    }\n",
       "    function toolbar_mouse_event(event) {\n",
       "        return fig.toolbar_button_onmouseover(event['data']);\n",
       "    }\n",
       "\n",
       "    for(var toolbar_ind in mpl.toolbar_items){\n",
       "        var name = mpl.toolbar_items[toolbar_ind][0];\n",
       "        var tooltip = mpl.toolbar_items[toolbar_ind][1];\n",
       "        var image = mpl.toolbar_items[toolbar_ind][2];\n",
       "        var method_name = mpl.toolbar_items[toolbar_ind][3];\n",
       "\n",
       "        if (!name) { continue; };\n",
       "\n",
       "        var button = $('<button class=\"btn btn-default\" href=\"#\" title=\"' + name + '\"><i class=\"fa ' + image + ' fa-lg\"></i></button>');\n",
       "        button.click(method_name, toolbar_event);\n",
       "        button.mouseover(tooltip, toolbar_mouse_event);\n",
       "        nav_element.append(button);\n",
       "    }\n",
       "\n",
       "    // Add the status bar.\n",
       "    var status_bar = $('<span class=\"mpl-message\" style=\"text-align:right; float: right;\"/>');\n",
       "    nav_element.append(status_bar);\n",
       "    this.message = status_bar[0];\n",
       "\n",
       "    // Add the close button to the window.\n",
       "    var buttongrp = $('<div class=\"btn-group inline pull-right\"></div>');\n",
       "    var button = $('<button class=\"btn btn-mini btn-primary\" href=\"#\" title=\"Stop Interaction\"><i class=\"fa fa-power-off icon-remove icon-large\"></i></button>');\n",
       "    button.click(function (evt) { fig.handle_close(fig, {}); } );\n",
       "    button.mouseover('Stop Interaction', toolbar_mouse_event);\n",
       "    buttongrp.append(button);\n",
       "    var titlebar = this.root.find($('.ui-dialog-titlebar'));\n",
       "    titlebar.prepend(buttongrp);\n",
       "}\n",
       "\n",
       "mpl.figure.prototype._root_extra_style = function(el){\n",
       "    var fig = this\n",
       "    el.on(\"remove\", function(){\n",
       "\tfig.close_ws(fig, {});\n",
       "    });\n",
       "}\n",
       "\n",
       "mpl.figure.prototype._canvas_extra_style = function(el){\n",
       "    // this is important to make the div 'focusable\n",
       "    el.attr('tabindex', 0)\n",
       "    // reach out to IPython and tell the keyboard manager to turn it's self\n",
       "    // off when our div gets focus\n",
       "\n",
       "    // location in version 3\n",
       "    if (IPython.notebook.keyboard_manager) {\n",
       "        IPython.notebook.keyboard_manager.register_events(el);\n",
       "    }\n",
       "    else {\n",
       "        // location in version 2\n",
       "        IPython.keyboard_manager.register_events(el);\n",
       "    }\n",
       "\n",
       "}\n",
       "\n",
       "mpl.figure.prototype._key_event_extra = function(event, name) {\n",
       "    var manager = IPython.notebook.keyboard_manager;\n",
       "    if (!manager)\n",
       "        manager = IPython.keyboard_manager;\n",
       "\n",
       "    // Check for shift+enter\n",
       "    if (event.shiftKey && event.which == 13) {\n",
       "        this.canvas_div.blur();\n",
       "        // select the cell after this one\n",
       "        var index = IPython.notebook.find_cell_index(this.cell_info[0]);\n",
       "        IPython.notebook.select(index + 1);\n",
       "    }\n",
       "}\n",
       "\n",
       "mpl.figure.prototype.handle_save = function(fig, msg) {\n",
       "    fig.ondownload(fig, null);\n",
       "}\n",
       "\n",
       "\n",
       "mpl.find_output_cell = function(html_output) {\n",
       "    // Return the cell and output element which can be found *uniquely* in the notebook.\n",
       "    // Note - this is a bit hacky, but it is done because the \"notebook_saving.Notebook\"\n",
       "    // IPython event is triggered only after the cells have been serialised, which for\n",
       "    // our purposes (turning an active figure into a static one), is too late.\n",
       "    var cells = IPython.notebook.get_cells();\n",
       "    var ncells = cells.length;\n",
       "    for (var i=0; i<ncells; i++) {\n",
       "        var cell = cells[i];\n",
       "        if (cell.cell_type === 'code'){\n",
       "            for (var j=0; j<cell.output_area.outputs.length; j++) {\n",
       "                var data = cell.output_area.outputs[j];\n",
       "                if (data.data) {\n",
       "                    // IPython >= 3 moved mimebundle to data attribute of output\n",
       "                    data = data.data;\n",
       "                }\n",
       "                if (data['text/html'] == html_output) {\n",
       "                    return [cell, data, j];\n",
       "                }\n",
       "            }\n",
       "        }\n",
       "    }\n",
       "}\n",
       "\n",
       "// Register the function which deals with the matplotlib target/channel.\n",
       "// The kernel may be null if the page has been refreshed.\n",
       "if (IPython.notebook.kernel != null) {\n",
       "    IPython.notebook.kernel.comm_manager.register_target('matplotlib', mpl.mpl_figure_comm);\n",
       "}\n"
      ],
      "text/plain": [
       "<IPython.core.display.Javascript object>"
      ]
     },
     "metadata": {},
     "output_type": "display_data"
    },
    {
     "data": {
      "text/html": [
       "<img src=\"data:image/png;base64,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\" width=\"640\">"
      ],
      "text/plain": [
       "<IPython.core.display.HTML object>"
      ]
     },
     "metadata": {},
     "output_type": "display_data"
    },
    {
     "data": {
      "text/plain": [
       "<matplotlib.image.AxesImage at 0x7efb86c367f0>"
      ]
     },
     "execution_count": 20,
     "metadata": {},
     "output_type": "execute_result"
    }
   ],
   "source": [
    "plt.figure()\n",
    "\n",
    "plt.imshow(features.get_K(ss=90))"
   ]
  },
  {
   "cell_type": "code",
   "execution_count": 21,
   "metadata": {},
   "outputs": [],
   "source": [
    "model_kgr = KGR(gamma= 0.0037, K_std=20, filter_func='sigmoid', beta=62).set_laplacian(laplacian).set_data(features, targets['Ozone'])"
   ]
  },
  {
   "cell_type": "code",
   "execution_count": 22,
   "metadata": {
    "scrolled": false
   },
   "outputs": [
    {
     "data": {
      "application/javascript": [
       "/* Put everything inside the global mpl namespace */\n",
       "window.mpl = {};\n",
       "\n",
       "\n",
       "mpl.get_websocket_type = function() {\n",
       "    if (typeof(WebSocket) !== 'undefined') {\n",
       "        return WebSocket;\n",
       "    } else if (typeof(MozWebSocket) !== 'undefined') {\n",
       "        return MozWebSocket;\n",
       "    } else {\n",
       "        alert('Your browser does not have WebSocket support. ' +\n",
       "              'Please try Chrome, Safari or Firefox ≥ 6. ' +\n",
       "              'Firefox 4 and 5 are also supported but you ' +\n",
       "              'have to enable WebSockets in about:config.');\n",
       "    };\n",
       "}\n",
       "\n",
       "mpl.figure = function(figure_id, websocket, ondownload, parent_element) {\n",
       "    this.id = figure_id;\n",
       "\n",
       "    this.ws = websocket;\n",
       "\n",
       "    this.supports_binary = (this.ws.binaryType != undefined);\n",
       "\n",
       "    if (!this.supports_binary) {\n",
       "        var warnings = document.getElementById(\"mpl-warnings\");\n",
       "        if (warnings) {\n",
       "            warnings.style.display = 'block';\n",
       "            warnings.textContent = (\n",
       "                \"This browser does not support binary websocket messages. \" +\n",
       "                    \"Performance may be slow.\");\n",
       "        }\n",
       "    }\n",
       "\n",
       "    this.imageObj = new Image();\n",
       "\n",
       "    this.context = undefined;\n",
       "    this.message = undefined;\n",
       "    this.canvas = undefined;\n",
       "    this.rubberband_canvas = undefined;\n",
       "    this.rubberband_context = undefined;\n",
       "    this.format_dropdown = undefined;\n",
       "\n",
       "    this.image_mode = 'full';\n",
       "\n",
       "    this.root = $('<div/>');\n",
       "    this._root_extra_style(this.root)\n",
       "    this.root.attr('style', 'display: inline-block');\n",
       "\n",
       "    $(parent_element).append(this.root);\n",
       "\n",
       "    this._init_header(this);\n",
       "    this._init_canvas(this);\n",
       "    this._init_toolbar(this);\n",
       "\n",
       "    var fig = this;\n",
       "\n",
       "    this.waiting = false;\n",
       "\n",
       "    this.ws.onopen =  function () {\n",
       "            fig.send_message(\"supports_binary\", {value: fig.supports_binary});\n",
       "            fig.send_message(\"send_image_mode\", {});\n",
       "            if (mpl.ratio != 1) {\n",
       "                fig.send_message(\"set_dpi_ratio\", {'dpi_ratio': mpl.ratio});\n",
       "            }\n",
       "            fig.send_message(\"refresh\", {});\n",
       "        }\n",
       "\n",
       "    this.imageObj.onload = function() {\n",
       "            if (fig.image_mode == 'full') {\n",
       "                // Full images could contain transparency (where diff images\n",
       "                // almost always do), so we need to clear the canvas so that\n",
       "                // there is no ghosting.\n",
       "                fig.context.clearRect(0, 0, fig.canvas.width, fig.canvas.height);\n",
       "            }\n",
       "            fig.context.drawImage(fig.imageObj, 0, 0);\n",
       "        };\n",
       "\n",
       "    this.imageObj.onunload = function() {\n",
       "        fig.ws.close();\n",
       "    }\n",
       "\n",
       "    this.ws.onmessage = this._make_on_message_function(this);\n",
       "\n",
       "    this.ondownload = ondownload;\n",
       "}\n",
       "\n",
       "mpl.figure.prototype._init_header = function() {\n",
       "    var titlebar = $(\n",
       "        '<div class=\"ui-dialog-titlebar ui-widget-header ui-corner-all ' +\n",
       "        'ui-helper-clearfix\"/>');\n",
       "    var titletext = $(\n",
       "        '<div class=\"ui-dialog-title\" style=\"width: 100%; ' +\n",
       "        'text-align: center; padding: 3px;\"/>');\n",
       "    titlebar.append(titletext)\n",
       "    this.root.append(titlebar);\n",
       "    this.header = titletext[0];\n",
       "}\n",
       "\n",
       "\n",
       "\n",
       "mpl.figure.prototype._canvas_extra_style = function(canvas_div) {\n",
       "\n",
       "}\n",
       "\n",
       "\n",
       "mpl.figure.prototype._root_extra_style = function(canvas_div) {\n",
       "\n",
       "}\n",
       "\n",
       "mpl.figure.prototype._init_canvas = function() {\n",
       "    var fig = this;\n",
       "\n",
       "    var canvas_div = $('<div/>');\n",
       "\n",
       "    canvas_div.attr('style', 'position: relative; clear: both; outline: 0');\n",
       "\n",
       "    function canvas_keyboard_event(event) {\n",
       "        return fig.key_event(event, event['data']);\n",
       "    }\n",
       "\n",
       "    canvas_div.keydown('key_press', canvas_keyboard_event);\n",
       "    canvas_div.keyup('key_release', canvas_keyboard_event);\n",
       "    this.canvas_div = canvas_div\n",
       "    this._canvas_extra_style(canvas_div)\n",
       "    this.root.append(canvas_div);\n",
       "\n",
       "    var canvas = $('<canvas/>');\n",
       "    canvas.addClass('mpl-canvas');\n",
       "    canvas.attr('style', \"left: 0; top: 0; z-index: 0; outline: 0\")\n",
       "\n",
       "    this.canvas = canvas[0];\n",
       "    this.context = canvas[0].getContext(\"2d\");\n",
       "\n",
       "    var backingStore = this.context.backingStorePixelRatio ||\n",
       "\tthis.context.webkitBackingStorePixelRatio ||\n",
       "\tthis.context.mozBackingStorePixelRatio ||\n",
       "\tthis.context.msBackingStorePixelRatio ||\n",
       "\tthis.context.oBackingStorePixelRatio ||\n",
       "\tthis.context.backingStorePixelRatio || 1;\n",
       "\n",
       "    mpl.ratio = (window.devicePixelRatio || 1) / backingStore;\n",
       "\n",
       "    var rubberband = $('<canvas/>');\n",
       "    rubberband.attr('style', \"position: absolute; left: 0; top: 0; z-index: 1;\")\n",
       "\n",
       "    var pass_mouse_events = true;\n",
       "\n",
       "    canvas_div.resizable({\n",
       "        start: function(event, ui) {\n",
       "            pass_mouse_events = false;\n",
       "        },\n",
       "        resize: function(event, ui) {\n",
       "            fig.request_resize(ui.size.width, ui.size.height);\n",
       "        },\n",
       "        stop: function(event, ui) {\n",
       "            pass_mouse_events = true;\n",
       "            fig.request_resize(ui.size.width, ui.size.height);\n",
       "        },\n",
       "    });\n",
       "\n",
       "    function mouse_event_fn(event) {\n",
       "        if (pass_mouse_events)\n",
       "            return fig.mouse_event(event, event['data']);\n",
       "    }\n",
       "\n",
       "    rubberband.mousedown('button_press', mouse_event_fn);\n",
       "    rubberband.mouseup('button_release', mouse_event_fn);\n",
       "    // Throttle sequential mouse events to 1 every 20ms.\n",
       "    rubberband.mousemove('motion_notify', mouse_event_fn);\n",
       "\n",
       "    rubberband.mouseenter('figure_enter', mouse_event_fn);\n",
       "    rubberband.mouseleave('figure_leave', mouse_event_fn);\n",
       "\n",
       "    canvas_div.on(\"wheel\", function (event) {\n",
       "        event = event.originalEvent;\n",
       "        event['data'] = 'scroll'\n",
       "        if (event.deltaY < 0) {\n",
       "            event.step = 1;\n",
       "        } else {\n",
       "            event.step = -1;\n",
       "        }\n",
       "        mouse_event_fn(event);\n",
       "    });\n",
       "\n",
       "    canvas_div.append(canvas);\n",
       "    canvas_div.append(rubberband);\n",
       "\n",
       "    this.rubberband = rubberband;\n",
       "    this.rubberband_canvas = rubberband[0];\n",
       "    this.rubberband_context = rubberband[0].getContext(\"2d\");\n",
       "    this.rubberband_context.strokeStyle = \"#000000\";\n",
       "\n",
       "    this._resize_canvas = function(width, height) {\n",
       "        // Keep the size of the canvas, canvas container, and rubber band\n",
       "        // canvas in synch.\n",
       "        canvas_div.css('width', width)\n",
       "        canvas_div.css('height', height)\n",
       "\n",
       "        canvas.attr('width', width * mpl.ratio);\n",
       "        canvas.attr('height', height * mpl.ratio);\n",
       "        canvas.attr('style', 'width: ' + width + 'px; height: ' + height + 'px;');\n",
       "\n",
       "        rubberband.attr('width', width);\n",
       "        rubberband.attr('height', height);\n",
       "    }\n",
       "\n",
       "    // Set the figure to an initial 600x600px, this will subsequently be updated\n",
       "    // upon first draw.\n",
       "    this._resize_canvas(600, 600);\n",
       "\n",
       "    // Disable right mouse context menu.\n",
       "    $(this.rubberband_canvas).bind(\"contextmenu\",function(e){\n",
       "        return false;\n",
       "    });\n",
       "\n",
       "    function set_focus () {\n",
       "        canvas.focus();\n",
       "        canvas_div.focus();\n",
       "    }\n",
       "\n",
       "    window.setTimeout(set_focus, 100);\n",
       "}\n",
       "\n",
       "mpl.figure.prototype._init_toolbar = function() {\n",
       "    var fig = this;\n",
       "\n",
       "    var nav_element = $('<div/>');\n",
       "    nav_element.attr('style', 'width: 100%');\n",
       "    this.root.append(nav_element);\n",
       "\n",
       "    // Define a callback function for later on.\n",
       "    function toolbar_event(event) {\n",
       "        return fig.toolbar_button_onclick(event['data']);\n",
       "    }\n",
       "    function toolbar_mouse_event(event) {\n",
       "        return fig.toolbar_button_onmouseover(event['data']);\n",
       "    }\n",
       "\n",
       "    for(var toolbar_ind in mpl.toolbar_items) {\n",
       "        var name = mpl.toolbar_items[toolbar_ind][0];\n",
       "        var tooltip = mpl.toolbar_items[toolbar_ind][1];\n",
       "        var image = mpl.toolbar_items[toolbar_ind][2];\n",
       "        var method_name = mpl.toolbar_items[toolbar_ind][3];\n",
       "\n",
       "        if (!name) {\n",
       "            // put a spacer in here.\n",
       "            continue;\n",
       "        }\n",
       "        var button = $('<button/>');\n",
       "        button.addClass('ui-button ui-widget ui-state-default ui-corner-all ' +\n",
       "                        'ui-button-icon-only');\n",
       "        button.attr('role', 'button');\n",
       "        button.attr('aria-disabled', 'false');\n",
       "        button.click(method_name, toolbar_event);\n",
       "        button.mouseover(tooltip, toolbar_mouse_event);\n",
       "\n",
       "        var icon_img = $('<span/>');\n",
       "        icon_img.addClass('ui-button-icon-primary ui-icon');\n",
       "        icon_img.addClass(image);\n",
       "        icon_img.addClass('ui-corner-all');\n",
       "\n",
       "        var tooltip_span = $('<span/>');\n",
       "        tooltip_span.addClass('ui-button-text');\n",
       "        tooltip_span.html(tooltip);\n",
       "\n",
       "        button.append(icon_img);\n",
       "        button.append(tooltip_span);\n",
       "\n",
       "        nav_element.append(button);\n",
       "    }\n",
       "\n",
       "    var fmt_picker_span = $('<span/>');\n",
       "\n",
       "    var fmt_picker = $('<select/>');\n",
       "    fmt_picker.addClass('mpl-toolbar-option ui-widget ui-widget-content');\n",
       "    fmt_picker_span.append(fmt_picker);\n",
       "    nav_element.append(fmt_picker_span);\n",
       "    this.format_dropdown = fmt_picker[0];\n",
       "\n",
       "    for (var ind in mpl.extensions) {\n",
       "        var fmt = mpl.extensions[ind];\n",
       "        var option = $(\n",
       "            '<option/>', {selected: fmt === mpl.default_extension}).html(fmt);\n",
       "        fmt_picker.append(option);\n",
       "    }\n",
       "\n",
       "    // Add hover states to the ui-buttons\n",
       "    $( \".ui-button\" ).hover(\n",
       "        function() { $(this).addClass(\"ui-state-hover\");},\n",
       "        function() { $(this).removeClass(\"ui-state-hover\");}\n",
       "    );\n",
       "\n",
       "    var status_bar = $('<span class=\"mpl-message\"/>');\n",
       "    nav_element.append(status_bar);\n",
       "    this.message = status_bar[0];\n",
       "}\n",
       "\n",
       "mpl.figure.prototype.request_resize = function(x_pixels, y_pixels) {\n",
       "    // Request matplotlib to resize the figure. Matplotlib will then trigger a resize in the client,\n",
       "    // which will in turn request a refresh of the image.\n",
       "    this.send_message('resize', {'width': x_pixels, 'height': y_pixels});\n",
       "}\n",
       "\n",
       "mpl.figure.prototype.send_message = function(type, properties) {\n",
       "    properties['type'] = type;\n",
       "    properties['figure_id'] = this.id;\n",
       "    this.ws.send(JSON.stringify(properties));\n",
       "}\n",
       "\n",
       "mpl.figure.prototype.send_draw_message = function() {\n",
       "    if (!this.waiting) {\n",
       "        this.waiting = true;\n",
       "        this.ws.send(JSON.stringify({type: \"draw\", figure_id: this.id}));\n",
       "    }\n",
       "}\n",
       "\n",
       "\n",
       "mpl.figure.prototype.handle_save = function(fig, msg) {\n",
       "    var format_dropdown = fig.format_dropdown;\n",
       "    var format = format_dropdown.options[format_dropdown.selectedIndex].value;\n",
       "    fig.ondownload(fig, format);\n",
       "}\n",
       "\n",
       "\n",
       "mpl.figure.prototype.handle_resize = function(fig, msg) {\n",
       "    var size = msg['size'];\n",
       "    if (size[0] != fig.canvas.width || size[1] != fig.canvas.height) {\n",
       "        fig._resize_canvas(size[0], size[1]);\n",
       "        fig.send_message(\"refresh\", {});\n",
       "    };\n",
       "}\n",
       "\n",
       "mpl.figure.prototype.handle_rubberband = function(fig, msg) {\n",
       "    var x0 = msg['x0'] / mpl.ratio;\n",
       "    var y0 = (fig.canvas.height - msg['y0']) / mpl.ratio;\n",
       "    var x1 = msg['x1'] / mpl.ratio;\n",
       "    var y1 = (fig.canvas.height - msg['y1']) / mpl.ratio;\n",
       "    x0 = Math.floor(x0) + 0.5;\n",
       "    y0 = Math.floor(y0) + 0.5;\n",
       "    x1 = Math.floor(x1) + 0.5;\n",
       "    y1 = Math.floor(y1) + 0.5;\n",
       "    var min_x = Math.min(x0, x1);\n",
       "    var min_y = Math.min(y0, y1);\n",
       "    var width = Math.abs(x1 - x0);\n",
       "    var height = Math.abs(y1 - y0);\n",
       "\n",
       "    fig.rubberband_context.clearRect(\n",
       "        0, 0, fig.canvas.width / mpl.ratio, fig.canvas.height / mpl.ratio);\n",
       "\n",
       "    fig.rubberband_context.strokeRect(min_x, min_y, width, height);\n",
       "}\n",
       "\n",
       "mpl.figure.prototype.handle_figure_label = function(fig, msg) {\n",
       "    // Updates the figure title.\n",
       "    fig.header.textContent = msg['label'];\n",
       "}\n",
       "\n",
       "mpl.figure.prototype.handle_cursor = function(fig, msg) {\n",
       "    var cursor = msg['cursor'];\n",
       "    switch(cursor)\n",
       "    {\n",
       "    case 0:\n",
       "        cursor = 'pointer';\n",
       "        break;\n",
       "    case 1:\n",
       "        cursor = 'default';\n",
       "        break;\n",
       "    case 2:\n",
       "        cursor = 'crosshair';\n",
       "        break;\n",
       "    case 3:\n",
       "        cursor = 'move';\n",
       "        break;\n",
       "    }\n",
       "    fig.rubberband_canvas.style.cursor = cursor;\n",
       "}\n",
       "\n",
       "mpl.figure.prototype.handle_message = function(fig, msg) {\n",
       "    fig.message.textContent = msg['message'];\n",
       "}\n",
       "\n",
       "mpl.figure.prototype.handle_draw = function(fig, msg) {\n",
       "    // Request the server to send over a new figure.\n",
       "    fig.send_draw_message();\n",
       "}\n",
       "\n",
       "mpl.figure.prototype.handle_image_mode = function(fig, msg) {\n",
       "    fig.image_mode = msg['mode'];\n",
       "}\n",
       "\n",
       "mpl.figure.prototype.updated_canvas_event = function() {\n",
       "    // Called whenever the canvas gets updated.\n",
       "    this.send_message(\"ack\", {});\n",
       "}\n",
       "\n",
       "// A function to construct a web socket function for onmessage handling.\n",
       "// Called in the figure constructor.\n",
       "mpl.figure.prototype._make_on_message_function = function(fig) {\n",
       "    return function socket_on_message(evt) {\n",
       "        if (evt.data instanceof Blob) {\n",
       "            /* FIXME: We get \"Resource interpreted as Image but\n",
       "             * transferred with MIME type text/plain:\" errors on\n",
       "             * Chrome.  But how to set the MIME type?  It doesn't seem\n",
       "             * to be part of the websocket stream */\n",
       "            evt.data.type = \"image/png\";\n",
       "\n",
       "            /* Free the memory for the previous frames */\n",
       "            if (fig.imageObj.src) {\n",
       "                (window.URL || window.webkitURL).revokeObjectURL(\n",
       "                    fig.imageObj.src);\n",
       "            }\n",
       "\n",
       "            fig.imageObj.src = (window.URL || window.webkitURL).createObjectURL(\n",
       "                evt.data);\n",
       "            fig.updated_canvas_event();\n",
       "            fig.waiting = false;\n",
       "            return;\n",
       "        }\n",
       "        else if (typeof evt.data === 'string' && evt.data.slice(0, 21) == \"data:image/png;base64\") {\n",
       "            fig.imageObj.src = evt.data;\n",
       "            fig.updated_canvas_event();\n",
       "            fig.waiting = false;\n",
       "            return;\n",
       "        }\n",
       "\n",
       "        var msg = JSON.parse(evt.data);\n",
       "        var msg_type = msg['type'];\n",
       "\n",
       "        // Call the  \"handle_{type}\" callback, which takes\n",
       "        // the figure and JSON message as its only arguments.\n",
       "        try {\n",
       "            var callback = fig[\"handle_\" + msg_type];\n",
       "        } catch (e) {\n",
       "            console.log(\"No handler for the '\" + msg_type + \"' message type: \", msg);\n",
       "            return;\n",
       "        }\n",
       "\n",
       "        if (callback) {\n",
       "            try {\n",
       "                // console.log(\"Handling '\" + msg_type + \"' message: \", msg);\n",
       "                callback(fig, msg);\n",
       "            } catch (e) {\n",
       "                console.log(\"Exception inside the 'handler_\" + msg_type + \"' callback:\", e, e.stack, msg);\n",
       "            }\n",
       "        }\n",
       "    };\n",
       "}\n",
       "\n",
       "// from http://stackoverflow.com/questions/1114465/getting-mouse-location-in-canvas\n",
       "mpl.findpos = function(e) {\n",
       "    //this section is from http://www.quirksmode.org/js/events_properties.html\n",
       "    var targ;\n",
       "    if (!e)\n",
       "        e = window.event;\n",
       "    if (e.target)\n",
       "        targ = e.target;\n",
       "    else if (e.srcElement)\n",
       "        targ = e.srcElement;\n",
       "    if (targ.nodeType == 3) // defeat Safari bug\n",
       "        targ = targ.parentNode;\n",
       "\n",
       "    // jQuery normalizes the pageX and pageY\n",
       "    // pageX,Y are the mouse positions relative to the document\n",
       "    // offset() returns the position of the element relative to the document\n",
       "    var x = e.pageX - $(targ).offset().left;\n",
       "    var y = e.pageY - $(targ).offset().top;\n",
       "\n",
       "    return {\"x\": x, \"y\": y};\n",
       "};\n",
       "\n",
       "/*\n",
       " * return a copy of an object with only non-object keys\n",
       " * we need this to avoid circular references\n",
       " * http://stackoverflow.com/a/24161582/3208463\n",
       " */\n",
       "function simpleKeys (original) {\n",
       "  return Object.keys(original).reduce(function (obj, key) {\n",
       "    if (typeof original[key] !== 'object')\n",
       "        obj[key] = original[key]\n",
       "    return obj;\n",
       "  }, {});\n",
       "}\n",
       "\n",
       "mpl.figure.prototype.mouse_event = function(event, name) {\n",
       "    var canvas_pos = mpl.findpos(event)\n",
       "\n",
       "    if (name === 'button_press')\n",
       "    {\n",
       "        this.canvas.focus();\n",
       "        this.canvas_div.focus();\n",
       "    }\n",
       "\n",
       "    var x = canvas_pos.x * mpl.ratio;\n",
       "    var y = canvas_pos.y * mpl.ratio;\n",
       "\n",
       "    this.send_message(name, {x: x, y: y, button: event.button,\n",
       "                             step: event.step,\n",
       "                             guiEvent: simpleKeys(event)});\n",
       "\n",
       "    /* This prevents the web browser from automatically changing to\n",
       "     * the text insertion cursor when the button is pressed.  We want\n",
       "     * to control all of the cursor setting manually through the\n",
       "     * 'cursor' event from matplotlib */\n",
       "    event.preventDefault();\n",
       "    return false;\n",
       "}\n",
       "\n",
       "mpl.figure.prototype._key_event_extra = function(event, name) {\n",
       "    // Handle any extra behaviour associated with a key event\n",
       "}\n",
       "\n",
       "mpl.figure.prototype.key_event = function(event, name) {\n",
       "\n",
       "    // Prevent repeat events\n",
       "    if (name == 'key_press')\n",
       "    {\n",
       "        if (event.which === this._key)\n",
       "            return;\n",
       "        else\n",
       "            this._key = event.which;\n",
       "    }\n",
       "    if (name == 'key_release')\n",
       "        this._key = null;\n",
       "\n",
       "    var value = '';\n",
       "    if (event.ctrlKey && event.which != 17)\n",
       "        value += \"ctrl+\";\n",
       "    if (event.altKey && event.which != 18)\n",
       "        value += \"alt+\";\n",
       "    if (event.shiftKey && event.which != 16)\n",
       "        value += \"shift+\";\n",
       "\n",
       "    value += 'k';\n",
       "    value += event.which.toString();\n",
       "\n",
       "    this._key_event_extra(event, name);\n",
       "\n",
       "    this.send_message(name, {key: value,\n",
       "                             guiEvent: simpleKeys(event)});\n",
       "    return false;\n",
       "}\n",
       "\n",
       "mpl.figure.prototype.toolbar_button_onclick = function(name) {\n",
       "    if (name == 'download') {\n",
       "        this.handle_save(this, null);\n",
       "    } else {\n",
       "        this.send_message(\"toolbar_button\", {name: name});\n",
       "    }\n",
       "};\n",
       "\n",
       "mpl.figure.prototype.toolbar_button_onmouseover = function(tooltip) {\n",
       "    this.message.textContent = tooltip;\n",
       "};\n",
       "mpl.toolbar_items = [[\"Home\", \"Reset original view\", \"fa fa-home icon-home\", \"home\"], [\"Back\", \"Back to previous view\", \"fa fa-arrow-left icon-arrow-left\", \"back\"], [\"Forward\", \"Forward to next view\", \"fa fa-arrow-right icon-arrow-right\", \"forward\"], [\"\", \"\", \"\", \"\"], [\"Pan\", \"Pan axes with left mouse, zoom with right\", \"fa fa-arrows icon-move\", \"pan\"], [\"Zoom\", \"Zoom to rectangle\", \"fa fa-square-o icon-check-empty\", \"zoom\"], [\"\", \"\", \"\", \"\"], [\"Download\", \"Download plot\", \"fa fa-floppy-o icon-save\", \"download\"]];\n",
       "\n",
       "mpl.extensions = [\"eps\", \"jpeg\", \"pdf\", \"png\", \"ps\", \"raw\", \"svg\", \"tif\"];\n",
       "\n",
       "mpl.default_extension = \"png\";var comm_websocket_adapter = function(comm) {\n",
       "    // Create a \"websocket\"-like object which calls the given IPython comm\n",
       "    // object with the appropriate methods. Currently this is a non binary\n",
       "    // socket, so there is still some room for performance tuning.\n",
       "    var ws = {};\n",
       "\n",
       "    ws.close = function() {\n",
       "        comm.close()\n",
       "    };\n",
       "    ws.send = function(m) {\n",
       "        //console.log('sending', m);\n",
       "        comm.send(m);\n",
       "    };\n",
       "    // Register the callback with on_msg.\n",
       "    comm.on_msg(function(msg) {\n",
       "        //console.log('receiving', msg['content']['data'], msg);\n",
       "        // Pass the mpl event to the overridden (by mpl) onmessage function.\n",
       "        ws.onmessage(msg['content']['data'])\n",
       "    });\n",
       "    return ws;\n",
       "}\n",
       "\n",
       "mpl.mpl_figure_comm = function(comm, msg) {\n",
       "    // This is the function which gets called when the mpl process\n",
       "    // starts-up an IPython Comm through the \"matplotlib\" channel.\n",
       "\n",
       "    var id = msg.content.data.id;\n",
       "    // Get hold of the div created by the display call when the Comm\n",
       "    // socket was opened in Python.\n",
       "    var element = $(\"#\" + id);\n",
       "    var ws_proxy = comm_websocket_adapter(comm)\n",
       "\n",
       "    function ondownload(figure, format) {\n",
       "        window.open(figure.imageObj.src);\n",
       "    }\n",
       "\n",
       "    var fig = new mpl.figure(id, ws_proxy,\n",
       "                           ondownload,\n",
       "                           element.get(0));\n",
       "\n",
       "    // Call onopen now - mpl needs it, as it is assuming we've passed it a real\n",
       "    // web socket which is closed, not our websocket->open comm proxy.\n",
       "    ws_proxy.onopen();\n",
       "\n",
       "    fig.parent_element = element.get(0);\n",
       "    fig.cell_info = mpl.find_output_cell(\"<div id='\" + id + \"'></div>\");\n",
       "    if (!fig.cell_info) {\n",
       "        console.error(\"Failed to find cell for figure\", id, fig);\n",
       "        return;\n",
       "    }\n",
       "\n",
       "    var output_index = fig.cell_info[2]\n",
       "    var cell = fig.cell_info[0];\n",
       "\n",
       "};\n",
       "\n",
       "mpl.figure.prototype.handle_close = function(fig, msg) {\n",
       "    var width = fig.canvas.width/mpl.ratio\n",
       "    fig.root.unbind('remove')\n",
       "\n",
       "    // Update the output cell to use the data from the current canvas.\n",
       "    fig.push_to_output();\n",
       "    var dataURL = fig.canvas.toDataURL();\n",
       "    // Re-enable the keyboard manager in IPython - without this line, in FF,\n",
       "    // the notebook keyboard shortcuts fail.\n",
       "    IPython.keyboard_manager.enable()\n",
       "    $(fig.parent_element).html('<img src=\"' + dataURL + '\" width=\"' + width + '\">');\n",
       "    fig.close_ws(fig, msg);\n",
       "}\n",
       "\n",
       "mpl.figure.prototype.close_ws = function(fig, msg){\n",
       "    fig.send_message('closing', msg);\n",
       "    // fig.ws.close()\n",
       "}\n",
       "\n",
       "mpl.figure.prototype.push_to_output = function(remove_interactive) {\n",
       "    // Turn the data on the canvas into data in the output cell.\n",
       "    var width = this.canvas.width/mpl.ratio\n",
       "    var dataURL = this.canvas.toDataURL();\n",
       "    this.cell_info[1]['text/html'] = '<img src=\"' + dataURL + '\" width=\"' + width + '\">';\n",
       "}\n",
       "\n",
       "mpl.figure.prototype.updated_canvas_event = function() {\n",
       "    // Tell IPython that the notebook contents must change.\n",
       "    IPython.notebook.set_dirty(true);\n",
       "    this.send_message(\"ack\", {});\n",
       "    var fig = this;\n",
       "    // Wait a second, then push the new image to the DOM so\n",
       "    // that it is saved nicely (might be nice to debounce this).\n",
       "    setTimeout(function () { fig.push_to_output() }, 1000);\n",
       "}\n",
       "\n",
       "mpl.figure.prototype._init_toolbar = function() {\n",
       "    var fig = this;\n",
       "\n",
       "    var nav_element = $('<div/>');\n",
       "    nav_element.attr('style', 'width: 100%');\n",
       "    this.root.append(nav_element);\n",
       "\n",
       "    // Define a callback function for later on.\n",
       "    function toolbar_event(event) {\n",
       "        return fig.toolbar_button_onclick(event['data']);\n",
       "    }\n",
       "    function toolbar_mouse_event(event) {\n",
       "        return fig.toolbar_button_onmouseover(event['data']);\n",
       "    }\n",
       "\n",
       "    for(var toolbar_ind in mpl.toolbar_items){\n",
       "        var name = mpl.toolbar_items[toolbar_ind][0];\n",
       "        var tooltip = mpl.toolbar_items[toolbar_ind][1];\n",
       "        var image = mpl.toolbar_items[toolbar_ind][2];\n",
       "        var method_name = mpl.toolbar_items[toolbar_ind][3];\n",
       "\n",
       "        if (!name) { continue; };\n",
       "\n",
       "        var button = $('<button class=\"btn btn-default\" href=\"#\" title=\"' + name + '\"><i class=\"fa ' + image + ' fa-lg\"></i></button>');\n",
       "        button.click(method_name, toolbar_event);\n",
       "        button.mouseover(tooltip, toolbar_mouse_event);\n",
       "        nav_element.append(button);\n",
       "    }\n",
       "\n",
       "    // Add the status bar.\n",
       "    var status_bar = $('<span class=\"mpl-message\" style=\"text-align:right; float: right;\"/>');\n",
       "    nav_element.append(status_bar);\n",
       "    this.message = status_bar[0];\n",
       "\n",
       "    // Add the close button to the window.\n",
       "    var buttongrp = $('<div class=\"btn-group inline pull-right\"></div>');\n",
       "    var button = $('<button class=\"btn btn-mini btn-primary\" href=\"#\" title=\"Stop Interaction\"><i class=\"fa fa-power-off icon-remove icon-large\"></i></button>');\n",
       "    button.click(function (evt) { fig.handle_close(fig, {}); } );\n",
       "    button.mouseover('Stop Interaction', toolbar_mouse_event);\n",
       "    buttongrp.append(button);\n",
       "    var titlebar = this.root.find($('.ui-dialog-titlebar'));\n",
       "    titlebar.prepend(buttongrp);\n",
       "}\n",
       "\n",
       "mpl.figure.prototype._root_extra_style = function(el){\n",
       "    var fig = this\n",
       "    el.on(\"remove\", function(){\n",
       "\tfig.close_ws(fig, {});\n",
       "    });\n",
       "}\n",
       "\n",
       "mpl.figure.prototype._canvas_extra_style = function(el){\n",
       "    // this is important to make the div 'focusable\n",
       "    el.attr('tabindex', 0)\n",
       "    // reach out to IPython and tell the keyboard manager to turn it's self\n",
       "    // off when our div gets focus\n",
       "\n",
       "    // location in version 3\n",
       "    if (IPython.notebook.keyboard_manager) {\n",
       "        IPython.notebook.keyboard_manager.register_events(el);\n",
       "    }\n",
       "    else {\n",
       "        // location in version 2\n",
       "        IPython.keyboard_manager.register_events(el);\n",
       "    }\n",
       "\n",
       "}\n",
       "\n",
       "mpl.figure.prototype._key_event_extra = function(event, name) {\n",
       "    var manager = IPython.notebook.keyboard_manager;\n",
       "    if (!manager)\n",
       "        manager = IPython.keyboard_manager;\n",
       "\n",
       "    // Check for shift+enter\n",
       "    if (event.shiftKey && event.which == 13) {\n",
       "        this.canvas_div.blur();\n",
       "        // select the cell after this one\n",
       "        var index = IPython.notebook.find_cell_index(this.cell_info[0]);\n",
       "        IPython.notebook.select(index + 1);\n",
       "    }\n",
       "}\n",
       "\n",
       "mpl.figure.prototype.handle_save = function(fig, msg) {\n",
       "    fig.ondownload(fig, null);\n",
       "}\n",
       "\n",
       "\n",
       "mpl.find_output_cell = function(html_output) {\n",
       "    // Return the cell and output element which can be found *uniquely* in the notebook.\n",
       "    // Note - this is a bit hacky, but it is done because the \"notebook_saving.Notebook\"\n",
       "    // IPython event is triggered only after the cells have been serialised, which for\n",
       "    // our purposes (turning an active figure into a static one), is too late.\n",
       "    var cells = IPython.notebook.get_cells();\n",
       "    var ncells = cells.length;\n",
       "    for (var i=0; i<ncells; i++) {\n",
       "        var cell = cells[i];\n",
       "        if (cell.cell_type === 'code'){\n",
       "            for (var j=0; j<cell.output_area.outputs.length; j++) {\n",
       "                var data = cell.output_area.outputs[j];\n",
       "                if (data.data) {\n",
       "                    // IPython >= 3 moved mimebundle to data attribute of output\n",
       "                    data = data.data;\n",
       "                }\n",
       "                if (data['text/html'] == html_output) {\n",
       "                    return [cell, data, j];\n",
       "                }\n",
       "            }\n",
       "        }\n",
       "    }\n",
       "}\n",
       "\n",
       "// Register the function which deals with the matplotlib target/channel.\n",
       "// The kernel may be null if the page has been refreshed.\n",
       "if (IPython.notebook.kernel != null) {\n",
       "    IPython.notebook.kernel.comm_manager.register_target('matplotlib', mpl.mpl_figure_comm);\n",
       "}\n"
      ],
      "text/plain": [
       "<IPython.core.display.Javascript object>"
      ]
     },
     "metadata": {},
     "output_type": "display_data"
    },
    {
     "data": {
      "text/html": [
       "<img src=\"data:image/png;base64,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\" width=\"640\">"
      ],
      "text/plain": [
       "<IPython.core.display.HTML object>"
      ]
     },
     "metadata": {},
     "output_type": "display_data"
    }
   ],
   "source": [
    "fig, axes = plt.subplots(ncols=2, sharex=True, sharey=True)\n",
    "\n",
    "ti = 6\n",
    "t = model_kgr.targets.Y.columns[ti]\n",
    "\n",
    "laplacian.distance.cali.plot_outline(axes[1], dict(color='tab:blue'), fill={'fc': '#e0ebf9', 'lw': 0.5, 'ec': 'tab:blue'})\n",
    "laplacian.distance.cali.plot_outline(axes[0], dict(color='tab:blue'), fill={'fc': '#e0ebf9', 'lw': 0.5, 'ec': 'tab:blue'})\n",
    "\n",
    "vmin = np.quantile(model_kgr.targets.Y.loc[:, t], 0.1)\n",
    "vmax = np.quantile(model_kgr.targets.Y.loc[:, t], 0.9)\n",
    "\n",
    "axes[1].scatter(model_kgr.targets.sites['x'], model_kgr.targets.sites['y'], c=model_kgr.F.loc[:, t], alpha=1, vmin=vmin, vmax=vmax, zorder=np.inf)\n",
    "\n",
    "axes[0].scatter(model_kgr.targets.sites.loc[model_kgr.targets.train_sites, 'x'], model_kgr.targets.sites.loc[model_kgr.targets.train_sites, 'y'], c=model_kgr.targets.Y.loc[:, t], alpha=1, vmin=vmin, vmax=vmax, zorder=np.inf)\n",
    "\n",
    "axes[0].set_title('Observed Signal')\n",
    "axes[1].set_title('Reconstructed Signal')\n",
    "\n",
    "plt.tight_layout()\n",
    "\n",
    "plt.savefig('reconstructed.pdf')\n",
    "\n",
    "\n"
   ]
  },
  {
   "cell_type": "code",
   "execution_count": 23,
   "metadata": {},
   "outputs": [],
   "source": [
    "def get_results():\n",
    "    \n",
    "    models = {'KGR': KGR, \n",
    "              'LinearRegression': LinearRegression, \n",
    "              'RidgeRegression': RidgeRegression, \n",
    "              'LassoRegression': LassoRegression, \n",
    "              'GLSKGR': GLSKGR}\n",
    "\n",
    "    init_params = {'KGR': dict(gamma=0.01, K_std=50, filter_func='sigmoid', beta=50), \n",
    "                   'LinearRegression': dict(fit_intercept=True), \n",
    "                   'RidgeRegression': dict(fit_intercept=True, alpha=50),\n",
    "                   'LassoRegression': dict(fit_intercept=True, alpha=1)}\n",
    "\n",
    "\n",
    "    model_names = ['KGR', 'LinearRegression', 'RidgeRegression', 'LassoRegression', 'GLSKGR']\n",
    "\n",
    "    opt_params = {metric: {model: {} for model in model_names} for metric in metrics}\n",
    "\n",
    "    RMSE = {'Missing Nodes':  {model: {} for model in model_names}, \n",
    "            'Labelled':       {model: {} for model in model_names}, \n",
    "            'Missing Dates':  {model: {} for model in model_names}, \n",
    "            'All Unlabelled': {model: {} for model in model_names}}\n",
    "\n",
    "    \n",
    "    metrics_bar = tqdm(metrics)\n",
    "\n",
    "    for metric in metrics_bar:\n",
    "\n",
    "        metrics_bar.set_description(metric)\n",
    "\n",
    "        models_bar = tqdm(models, leave=False)\n",
    "\n",
    "        for model in models_bar:\n",
    "\n",
    "            models_bar.set_description(model)\n",
    "\n",
    "            if model != 'GLSKGR':\n",
    "                reg = models[model](**init_params[model])\n",
    "\n",
    "                if model != 'KGR':\n",
    "                    opt_params[metric][model] = reg.set_data(features, targets[metric]).optimize()[0]\n",
    "\n",
    "                else:\n",
    "                    opt_params[metric][model] = reg.set_laplacian(laplacian).set_data(features, targets[metric]).optimize()[0]\n",
    "\n",
    "            else:\n",
    "                reg = models['GLSKGR'](**opt_params[metric]['KGR']).set_laplacian(laplacian).set_data(features, targets[metric])\n",
    "                opt_params[metric]['GLSKGR'] = opt_params[metric]['KGR']\n",
    "                reg.solve_GLS()\n",
    "\n",
    "            RMSE['Missing Nodes'][model][metric] = reg.RMSE_missing_nodes()\n",
    "            RMSE['Labelled'][model][metric] = reg.RMSE_labelled()\n",
    "            RMSE['Missing Dates'][model][metric] = reg.RMSE_missing_times()\n",
    "            RMSE['All Unlabelled'][model][metric] = reg.RMSE_unlabelled_full()\n",
    "            \n",
    "    return opt_params, RMSE\n",
    "            "
   ]
  },
  {
   "cell_type": "code",
   "execution_count": 24,
   "metadata": {},
   "outputs": [
    {
     "data": {
      "application/vnd.jupyter.widget-view+json": {
       "model_id": "672065600d674c2da82bc3b680ad8132",
       "version_major": 2,
       "version_minor": 0
      },
      "text/plain": [
       "HBox(children=(HTML(value=''), FloatProgress(value=0.0, max=6.0), HTML(value='')))"
      ]
     },
     "metadata": {},
     "output_type": "display_data"
    },
    {
     "data": {
      "application/vnd.jupyter.widget-view+json": {
       "model_id": "",
       "version_major": 2,
       "version_minor": 0
      },
      "text/plain": [
       "HBox(children=(HTML(value=''), FloatProgress(value=0.0, max=5.0), HTML(value='')))"
      ]
     },
     "metadata": {},
     "output_type": "display_data"
    },
    {
     "data": {
      "application/vnd.jupyter.widget-view+json": {
       "model_id": "",
       "version_major": 2,
       "version_minor": 0
      },
      "text/plain": [
       "HBox(children=(HTML(value=''), FloatProgress(value=0.0, max=9.0), HTML(value='')))"
      ]
     },
     "metadata": {},
     "output_type": "display_data"
    },
    {
     "data": {
      "application/vnd.jupyter.widget-view+json": {
       "model_id": "",
       "version_major": 2,
       "version_minor": 0
      },
      "text/plain": [
       "HBox(children=(HTML(value=''), FloatProgress(value=0.0, max=50.0), HTML(value='')))"
      ]
     },
     "metadata": {},
     "output_type": "display_data"
    },
    {
     "data": {
      "application/vnd.jupyter.widget-view+json": {
       "model_id": "",
       "version_major": 2,
       "version_minor": 0
      },
      "text/plain": [
       "HBox(children=(HTML(value=''), FloatProgress(value=0.0, max=50.0), HTML(value='')))"
      ]
     },
     "metadata": {},
     "output_type": "display_data"
    },
    {
     "data": {
      "application/vnd.jupyter.widget-view+json": {
       "model_id": "",
       "version_major": 2,
       "version_minor": 0
      },
      "text/plain": [
       "HBox(children=(HTML(value=''), FloatProgress(value=0.0, max=50.0), HTML(value='')))"
      ]
     },
     "metadata": {},
     "output_type": "display_data"
    },
    {
     "data": {
      "application/vnd.jupyter.widget-view+json": {
       "model_id": "",
       "version_major": 2,
       "version_minor": 0
      },
      "text/plain": [
       "HBox(children=(HTML(value=''), FloatProgress(value=0.0, max=50.0), HTML(value='')))"
      ]
     },
     "metadata": {},
     "output_type": "display_data"
    },
    {
     "data": {
      "application/vnd.jupyter.widget-view+json": {
       "model_id": "",
       "version_major": 2,
       "version_minor": 0
      },
      "text/plain": [
       "HBox(children=(HTML(value=''), FloatProgress(value=0.0, max=50.0), HTML(value='')))"
      ]
     },
     "metadata": {},
     "output_type": "display_data"
    },
    {
     "data": {
      "application/vnd.jupyter.widget-view+json": {
       "model_id": "",
       "version_major": 2,
       "version_minor": 0
      },
      "text/plain": [
       "HBox(children=(HTML(value=''), FloatProgress(value=0.0, max=50.0), HTML(value='')))"
      ]
     },
     "metadata": {},
     "output_type": "display_data"
    },
    {
     "data": {
      "application/vnd.jupyter.widget-view+json": {
       "model_id": "",
       "version_major": 2,
       "version_minor": 0
      },
      "text/plain": [
       "HBox(children=(HTML(value=''), FloatProgress(value=0.0, max=50.0), HTML(value='')))"
      ]
     },
     "metadata": {},
     "output_type": "display_data"
    },
    {
     "data": {
      "application/vnd.jupyter.widget-view+json": {
       "model_id": "",
       "version_major": 2,
       "version_minor": 0
      },
      "text/plain": [
       "HBox(children=(HTML(value=''), FloatProgress(value=0.0, max=50.0), HTML(value='')))"
      ]
     },
     "metadata": {},
     "output_type": "display_data"
    },
    {
     "data": {
      "application/vnd.jupyter.widget-view+json": {
       "model_id": "",
       "version_major": 2,
       "version_minor": 0
      },
      "text/plain": [
       "HBox(children=(HTML(value=''), FloatProgress(value=0.0, max=50.0), HTML(value='')))"
      ]
     },
     "metadata": {},
     "output_type": "display_data"
    },
    {
     "data": {
      "application/vnd.jupyter.widget-view+json": {
       "model_id": "",
       "version_major": 2,
       "version_minor": 0
      },
      "text/plain": [
       "HBox(children=(HTML(value=''), FloatProgress(value=0.0, max=50.0), HTML(value='')))"
      ]
     },
     "metadata": {},
     "output_type": "display_data"
    },
    {
     "data": {
      "application/vnd.jupyter.widget-view+json": {
       "model_id": "",
       "version_major": 2,
       "version_minor": 0
      },
      "text/plain": [
       "HBox(children=(HTML(value=''), FloatProgress(value=0.0, max=50.0), HTML(value='')))"
      ]
     },
     "metadata": {},
     "output_type": "display_data"
    },
    {
     "data": {
      "application/vnd.jupyter.widget-view+json": {
       "model_id": "",
       "version_major": 2,
       "version_minor": 0
      },
      "text/plain": [
       "HBox(children=(HTML(value=''), FloatProgress(value=0.0, max=50.0), HTML(value='')))"
      ]
     },
     "metadata": {},
     "output_type": "display_data"
    },
    {
     "data": {
      "application/vnd.jupyter.widget-view+json": {
       "model_id": "",
       "version_major": 2,
       "version_minor": 0
      },
      "text/plain": [
       "HBox(children=(HTML(value=''), FloatProgress(value=0.0, max=50.0), HTML(value='')))"
      ]
     },
     "metadata": {},
     "output_type": "display_data"
    },
    {
     "data": {
      "application/vnd.jupyter.widget-view+json": {
       "model_id": "",
       "version_major": 2,
       "version_minor": 0
      },
      "text/plain": [
       "HBox(children=(HTML(value=''), FloatProgress(value=0.0, max=5.0), HTML(value='')))"
      ]
     },
     "metadata": {},
     "output_type": "display_data"
    },
    {
     "data": {
      "application/vnd.jupyter.widget-view+json": {
       "model_id": "",
       "version_major": 2,
       "version_minor": 0
      },
      "text/plain": [
       "HBox(children=(HTML(value=''), FloatProgress(value=0.0, max=9.0), HTML(value='')))"
      ]
     },
     "metadata": {},
     "output_type": "display_data"
    },
    {
     "data": {
      "application/vnd.jupyter.widget-view+json": {
       "model_id": "",
       "version_major": 2,
       "version_minor": 0
      },
      "text/plain": [
       "HBox(children=(HTML(value=''), FloatProgress(value=0.0, max=50.0), HTML(value='')))"
      ]
     },
     "metadata": {},
     "output_type": "display_data"
    },
    {
     "data": {
      "application/vnd.jupyter.widget-view+json": {
       "model_id": "",
       "version_major": 2,
       "version_minor": 0
      },
      "text/plain": [
       "HBox(children=(HTML(value=''), FloatProgress(value=0.0, max=50.0), HTML(value='')))"
      ]
     },
     "metadata": {},
     "output_type": "display_data"
    },
    {
     "data": {
      "application/vnd.jupyter.widget-view+json": {
       "model_id": "",
       "version_major": 2,
       "version_minor": 0
      },
      "text/plain": [
       "HBox(children=(HTML(value=''), FloatProgress(value=0.0, max=50.0), HTML(value='')))"
      ]
     },
     "metadata": {},
     "output_type": "display_data"
    },
    {
     "data": {
      "application/vnd.jupyter.widget-view+json": {
       "model_id": "",
       "version_major": 2,
       "version_minor": 0
      },
      "text/plain": [
       "HBox(children=(HTML(value=''), FloatProgress(value=0.0, max=50.0), HTML(value='')))"
      ]
     },
     "metadata": {},
     "output_type": "display_data"
    },
    {
     "data": {
      "application/vnd.jupyter.widget-view+json": {
       "model_id": "",
       "version_major": 2,
       "version_minor": 0
      },
      "text/plain": [
       "HBox(children=(HTML(value=''), FloatProgress(value=0.0, max=50.0), HTML(value='')))"
      ]
     },
     "metadata": {},
     "output_type": "display_data"
    },
    {
     "data": {
      "application/vnd.jupyter.widget-view+json": {
       "model_id": "",
       "version_major": 2,
       "version_minor": 0
      },
      "text/plain": [
       "HBox(children=(HTML(value=''), FloatProgress(value=0.0, max=50.0), HTML(value='')))"
      ]
     },
     "metadata": {},
     "output_type": "display_data"
    },
    {
     "data": {
      "application/vnd.jupyter.widget-view+json": {
       "model_id": "",
       "version_major": 2,
       "version_minor": 0
      },
      "text/plain": [
       "HBox(children=(HTML(value=''), FloatProgress(value=0.0, max=50.0), HTML(value='')))"
      ]
     },
     "metadata": {},
     "output_type": "display_data"
    },
    {
     "data": {
      "application/vnd.jupyter.widget-view+json": {
       "model_id": "",
       "version_major": 2,
       "version_minor": 0
      },
      "text/plain": [
       "HBox(children=(HTML(value=''), FloatProgress(value=0.0, max=50.0), HTML(value='')))"
      ]
     },
     "metadata": {},
     "output_type": "display_data"
    },
    {
     "data": {
      "application/vnd.jupyter.widget-view+json": {
       "model_id": "",
       "version_major": 2,
       "version_minor": 0
      },
      "text/plain": [
       "HBox(children=(HTML(value=''), FloatProgress(value=0.0, max=50.0), HTML(value='')))"
      ]
     },
     "metadata": {},
     "output_type": "display_data"
    },
    {
     "data": {
      "application/vnd.jupyter.widget-view+json": {
       "model_id": "",
       "version_major": 2,
       "version_minor": 0
      },
      "text/plain": [
       "HBox(children=(HTML(value=''), FloatProgress(value=0.0, max=50.0), HTML(value='')))"
      ]
     },
     "metadata": {},
     "output_type": "display_data"
    },
    {
     "data": {
      "application/vnd.jupyter.widget-view+json": {
       "model_id": "",
       "version_major": 2,
       "version_minor": 0
      },
      "text/plain": [
       "HBox(children=(HTML(value=''), FloatProgress(value=0.0, max=50.0), HTML(value='')))"
      ]
     },
     "metadata": {},
     "output_type": "display_data"
    },
    {
     "data": {
      "application/vnd.jupyter.widget-view+json": {
       "model_id": "",
       "version_major": 2,
       "version_minor": 0
      },
      "text/plain": [
       "HBox(children=(HTML(value=''), FloatProgress(value=0.0, max=50.0), HTML(value='')))"
      ]
     },
     "metadata": {},
     "output_type": "display_data"
    },
    {
     "data": {
      "application/vnd.jupyter.widget-view+json": {
       "model_id": "",
       "version_major": 2,
       "version_minor": 0
      },
      "text/plain": [
       "HBox(children=(HTML(value=''), FloatProgress(value=0.0, max=50.0), HTML(value='')))"
      ]
     },
     "metadata": {},
     "output_type": "display_data"
    },
    {
     "data": {
      "application/vnd.jupyter.widget-view+json": {
       "model_id": "",
       "version_major": 2,
       "version_minor": 0
      },
      "text/plain": [
       "HBox(children=(HTML(value=''), FloatProgress(value=0.0, max=5.0), HTML(value='')))"
      ]
     },
     "metadata": {},
     "output_type": "display_data"
    },
    {
     "data": {
      "application/vnd.jupyter.widget-view+json": {
       "model_id": "",
       "version_major": 2,
       "version_minor": 0
      },
      "text/plain": [
       "HBox(children=(HTML(value=''), FloatProgress(value=0.0, max=9.0), HTML(value='')))"
      ]
     },
     "metadata": {},
     "output_type": "display_data"
    },
    {
     "data": {
      "application/vnd.jupyter.widget-view+json": {
       "model_id": "",
       "version_major": 2,
       "version_minor": 0
      },
      "text/plain": [
       "HBox(children=(HTML(value=''), FloatProgress(value=0.0, max=50.0), HTML(value='')))"
      ]
     },
     "metadata": {},
     "output_type": "display_data"
    },
    {
     "data": {
      "application/vnd.jupyter.widget-view+json": {
       "model_id": "",
       "version_major": 2,
       "version_minor": 0
      },
      "text/plain": [
       "HBox(children=(HTML(value=''), FloatProgress(value=0.0, max=50.0), HTML(value='')))"
      ]
     },
     "metadata": {},
     "output_type": "display_data"
    },
    {
     "data": {
      "application/vnd.jupyter.widget-view+json": {
       "model_id": "",
       "version_major": 2,
       "version_minor": 0
      },
      "text/plain": [
       "HBox(children=(HTML(value=''), FloatProgress(value=0.0, max=50.0), HTML(value='')))"
      ]
     },
     "metadata": {},
     "output_type": "display_data"
    },
    {
     "data": {
      "application/vnd.jupyter.widget-view+json": {
       "model_id": "",
       "version_major": 2,
       "version_minor": 0
      },
      "text/plain": [
       "HBox(children=(HTML(value=''), FloatProgress(value=0.0, max=50.0), HTML(value='')))"
      ]
     },
     "metadata": {},
     "output_type": "display_data"
    },
    {
     "data": {
      "application/vnd.jupyter.widget-view+json": {
       "model_id": "",
       "version_major": 2,
       "version_minor": 0
      },
      "text/plain": [
       "HBox(children=(HTML(value=''), FloatProgress(value=0.0, max=50.0), HTML(value='')))"
      ]
     },
     "metadata": {},
     "output_type": "display_data"
    },
    {
     "data": {
      "application/vnd.jupyter.widget-view+json": {
       "model_id": "",
       "version_major": 2,
       "version_minor": 0
      },
      "text/plain": [
       "HBox(children=(HTML(value=''), FloatProgress(value=0.0, max=50.0), HTML(value='')))"
      ]
     },
     "metadata": {},
     "output_type": "display_data"
    },
    {
     "data": {
      "application/vnd.jupyter.widget-view+json": {
       "model_id": "",
       "version_major": 2,
       "version_minor": 0
      },
      "text/plain": [
       "HBox(children=(HTML(value=''), FloatProgress(value=0.0, max=50.0), HTML(value='')))"
      ]
     },
     "metadata": {},
     "output_type": "display_data"
    },
    {
     "data": {
      "application/vnd.jupyter.widget-view+json": {
       "model_id": "",
       "version_major": 2,
       "version_minor": 0
      },
      "text/plain": [
       "HBox(children=(HTML(value=''), FloatProgress(value=0.0, max=50.0), HTML(value='')))"
      ]
     },
     "metadata": {},
     "output_type": "display_data"
    },
    {
     "data": {
      "application/vnd.jupyter.widget-view+json": {
       "model_id": "",
       "version_major": 2,
       "version_minor": 0
      },
      "text/plain": [
       "HBox(children=(HTML(value=''), FloatProgress(value=0.0, max=50.0), HTML(value='')))"
      ]
     },
     "metadata": {},
     "output_type": "display_data"
    },
    {
     "data": {
      "application/vnd.jupyter.widget-view+json": {
       "model_id": "",
       "version_major": 2,
       "version_minor": 0
      },
      "text/plain": [
       "HBox(children=(HTML(value=''), FloatProgress(value=0.0, max=50.0), HTML(value='')))"
      ]
     },
     "metadata": {},
     "output_type": "display_data"
    },
    {
     "data": {
      "application/vnd.jupyter.widget-view+json": {
       "model_id": "",
       "version_major": 2,
       "version_minor": 0
      },
      "text/plain": [
       "HBox(children=(HTML(value=''), FloatProgress(value=0.0, max=50.0), HTML(value='')))"
      ]
     },
     "metadata": {},
     "output_type": "display_data"
    },
    {
     "data": {
      "application/vnd.jupyter.widget-view+json": {
       "model_id": "",
       "version_major": 2,
       "version_minor": 0
      },
      "text/plain": [
       "HBox(children=(HTML(value=''), FloatProgress(value=0.0, max=50.0), HTML(value='')))"
      ]
     },
     "metadata": {},
     "output_type": "display_data"
    },
    {
     "data": {
      "application/vnd.jupyter.widget-view+json": {
       "model_id": "",
       "version_major": 2,
       "version_minor": 0
      },
      "text/plain": [
       "HBox(children=(HTML(value=''), FloatProgress(value=0.0, max=50.0), HTML(value='')))"
      ]
     },
     "metadata": {},
     "output_type": "display_data"
    },
    {
     "data": {
      "application/vnd.jupyter.widget-view+json": {
       "model_id": "",
       "version_major": 2,
       "version_minor": 0
      },
      "text/plain": [
       "HBox(children=(HTML(value=''), FloatProgress(value=0.0, max=5.0), HTML(value='')))"
      ]
     },
     "metadata": {},
     "output_type": "display_data"
    },
    {
     "data": {
      "application/vnd.jupyter.widget-view+json": {
       "model_id": "",
       "version_major": 2,
       "version_minor": 0
      },
      "text/plain": [
       "HBox(children=(HTML(value=''), FloatProgress(value=0.0, max=9.0), HTML(value='')))"
      ]
     },
     "metadata": {},
     "output_type": "display_data"
    },
    {
     "data": {
      "application/vnd.jupyter.widget-view+json": {
       "model_id": "",
       "version_major": 2,
       "version_minor": 0
      },
      "text/plain": [
       "HBox(children=(HTML(value=''), FloatProgress(value=0.0, max=50.0), HTML(value='')))"
      ]
     },
     "metadata": {},
     "output_type": "display_data"
    },
    {
     "data": {
      "application/vnd.jupyter.widget-view+json": {
       "model_id": "",
       "version_major": 2,
       "version_minor": 0
      },
      "text/plain": [
       "HBox(children=(HTML(value=''), FloatProgress(value=0.0, max=50.0), HTML(value='')))"
      ]
     },
     "metadata": {},
     "output_type": "display_data"
    },
    {
     "data": {
      "application/vnd.jupyter.widget-view+json": {
       "model_id": "",
       "version_major": 2,
       "version_minor": 0
      },
      "text/plain": [
       "HBox(children=(HTML(value=''), FloatProgress(value=0.0, max=50.0), HTML(value='')))"
      ]
     },
     "metadata": {},
     "output_type": "display_data"
    },
    {
     "data": {
      "application/vnd.jupyter.widget-view+json": {
       "model_id": "",
       "version_major": 2,
       "version_minor": 0
      },
      "text/plain": [
       "HBox(children=(HTML(value=''), FloatProgress(value=0.0, max=50.0), HTML(value='')))"
      ]
     },
     "metadata": {},
     "output_type": "display_data"
    },
    {
     "data": {
      "application/vnd.jupyter.widget-view+json": {
       "model_id": "",
       "version_major": 2,
       "version_minor": 0
      },
      "text/plain": [
       "HBox(children=(HTML(value=''), FloatProgress(value=0.0, max=50.0), HTML(value='')))"
      ]
     },
     "metadata": {},
     "output_type": "display_data"
    },
    {
     "data": {
      "application/vnd.jupyter.widget-view+json": {
       "model_id": "",
       "version_major": 2,
       "version_minor": 0
      },
      "text/plain": [
       "HBox(children=(HTML(value=''), FloatProgress(value=0.0, max=50.0), HTML(value='')))"
      ]
     },
     "metadata": {},
     "output_type": "display_data"
    },
    {
     "data": {
      "application/vnd.jupyter.widget-view+json": {
       "model_id": "",
       "version_major": 2,
       "version_minor": 0
      },
      "text/plain": [
       "HBox(children=(HTML(value=''), FloatProgress(value=0.0, max=50.0), HTML(value='')))"
      ]
     },
     "metadata": {},
     "output_type": "display_data"
    },
    {
     "data": {
      "application/vnd.jupyter.widget-view+json": {
       "model_id": "",
       "version_major": 2,
       "version_minor": 0
      },
      "text/plain": [
       "HBox(children=(HTML(value=''), FloatProgress(value=0.0, max=50.0), HTML(value='')))"
      ]
     },
     "metadata": {},
     "output_type": "display_data"
    },
    {
     "data": {
      "application/vnd.jupyter.widget-view+json": {
       "model_id": "",
       "version_major": 2,
       "version_minor": 0
      },
      "text/plain": [
       "HBox(children=(HTML(value=''), FloatProgress(value=0.0, max=50.0), HTML(value='')))"
      ]
     },
     "metadata": {},
     "output_type": "display_data"
    },
    {
     "data": {
      "application/vnd.jupyter.widget-view+json": {
       "model_id": "",
       "version_major": 2,
       "version_minor": 0
      },
      "text/plain": [
       "HBox(children=(HTML(value=''), FloatProgress(value=0.0, max=50.0), HTML(value='')))"
      ]
     },
     "metadata": {},
     "output_type": "display_data"
    },
    {
     "data": {
      "application/vnd.jupyter.widget-view+json": {
       "model_id": "",
       "version_major": 2,
       "version_minor": 0
      },
      "text/plain": [
       "HBox(children=(HTML(value=''), FloatProgress(value=0.0, max=50.0), HTML(value='')))"
      ]
     },
     "metadata": {},
     "output_type": "display_data"
    },
    {
     "data": {
      "application/vnd.jupyter.widget-view+json": {
       "model_id": "",
       "version_major": 2,
       "version_minor": 0
      },
      "text/plain": [
       "HBox(children=(HTML(value=''), FloatProgress(value=0.0, max=50.0), HTML(value='')))"
      ]
     },
     "metadata": {},
     "output_type": "display_data"
    },
    {
     "data": {
      "application/vnd.jupyter.widget-view+json": {
       "model_id": "",
       "version_major": 2,
       "version_minor": 0
      },
      "text/plain": [
       "HBox(children=(HTML(value=''), FloatProgress(value=0.0, max=50.0), HTML(value='')))"
      ]
     },
     "metadata": {},
     "output_type": "display_data"
    },
    {
     "data": {
      "application/vnd.jupyter.widget-view+json": {
       "model_id": "",
       "version_major": 2,
       "version_minor": 0
      },
      "text/plain": [
       "HBox(children=(HTML(value=''), FloatProgress(value=0.0, max=5.0), HTML(value='')))"
      ]
     },
     "metadata": {},
     "output_type": "display_data"
    },
    {
     "data": {
      "application/vnd.jupyter.widget-view+json": {
       "model_id": "",
       "version_major": 2,
       "version_minor": 0
      },
      "text/plain": [
       "HBox(children=(HTML(value=''), FloatProgress(value=0.0, max=9.0), HTML(value='')))"
      ]
     },
     "metadata": {},
     "output_type": "display_data"
    },
    {
     "data": {
      "application/vnd.jupyter.widget-view+json": {
       "model_id": "",
       "version_major": 2,
       "version_minor": 0
      },
      "text/plain": [
       "HBox(children=(HTML(value=''), FloatProgress(value=0.0, max=50.0), HTML(value='')))"
      ]
     },
     "metadata": {},
     "output_type": "display_data"
    },
    {
     "data": {
      "application/vnd.jupyter.widget-view+json": {
       "model_id": "",
       "version_major": 2,
       "version_minor": 0
      },
      "text/plain": [
       "HBox(children=(HTML(value=''), FloatProgress(value=0.0, max=50.0), HTML(value='')))"
      ]
     },
     "metadata": {},
     "output_type": "display_data"
    },
    {
     "data": {
      "application/vnd.jupyter.widget-view+json": {
       "model_id": "",
       "version_major": 2,
       "version_minor": 0
      },
      "text/plain": [
       "HBox(children=(HTML(value=''), FloatProgress(value=0.0, max=50.0), HTML(value='')))"
      ]
     },
     "metadata": {},
     "output_type": "display_data"
    },
    {
     "data": {
      "application/vnd.jupyter.widget-view+json": {
       "model_id": "",
       "version_major": 2,
       "version_minor": 0
      },
      "text/plain": [
       "HBox(children=(HTML(value=''), FloatProgress(value=0.0, max=50.0), HTML(value='')))"
      ]
     },
     "metadata": {},
     "output_type": "display_data"
    },
    {
     "data": {
      "application/vnd.jupyter.widget-view+json": {
       "model_id": "",
       "version_major": 2,
       "version_minor": 0
      },
      "text/plain": [
       "HBox(children=(HTML(value=''), FloatProgress(value=0.0, max=50.0), HTML(value='')))"
      ]
     },
     "metadata": {},
     "output_type": "display_data"
    },
    {
     "data": {
      "application/vnd.jupyter.widget-view+json": {
       "model_id": "",
       "version_major": 2,
       "version_minor": 0
      },
      "text/plain": [
       "HBox(children=(HTML(value=''), FloatProgress(value=0.0, max=50.0), HTML(value='')))"
      ]
     },
     "metadata": {},
     "output_type": "display_data"
    },
    {
     "data": {
      "application/vnd.jupyter.widget-view+json": {
       "model_id": "",
       "version_major": 2,
       "version_minor": 0
      },
      "text/plain": [
       "HBox(children=(HTML(value=''), FloatProgress(value=0.0, max=50.0), HTML(value='')))"
      ]
     },
     "metadata": {},
     "output_type": "display_data"
    },
    {
     "data": {
      "application/vnd.jupyter.widget-view+json": {
       "model_id": "",
       "version_major": 2,
       "version_minor": 0
      },
      "text/plain": [
       "HBox(children=(HTML(value=''), FloatProgress(value=0.0, max=50.0), HTML(value='')))"
      ]
     },
     "metadata": {},
     "output_type": "display_data"
    },
    {
     "data": {
      "application/vnd.jupyter.widget-view+json": {
       "model_id": "",
       "version_major": 2,
       "version_minor": 0
      },
      "text/plain": [
       "HBox(children=(HTML(value=''), FloatProgress(value=0.0, max=50.0), HTML(value='')))"
      ]
     },
     "metadata": {},
     "output_type": "display_data"
    },
    {
     "data": {
      "application/vnd.jupyter.widget-view+json": {
       "model_id": "",
       "version_major": 2,
       "version_minor": 0
      },
      "text/plain": [
       "HBox(children=(HTML(value=''), FloatProgress(value=0.0, max=50.0), HTML(value='')))"
      ]
     },
     "metadata": {},
     "output_type": "display_data"
    },
    {
     "data": {
      "application/vnd.jupyter.widget-view+json": {
       "model_id": "",
       "version_major": 2,
       "version_minor": 0
      },
      "text/plain": [
       "HBox(children=(HTML(value=''), FloatProgress(value=0.0, max=50.0), HTML(value='')))"
      ]
     },
     "metadata": {},
     "output_type": "display_data"
    },
    {
     "data": {
      "application/vnd.jupyter.widget-view+json": {
       "model_id": "",
       "version_major": 2,
       "version_minor": 0
      },
      "text/plain": [
       "HBox(children=(HTML(value=''), FloatProgress(value=0.0, max=50.0), HTML(value='')))"
      ]
     },
     "metadata": {},
     "output_type": "display_data"
    },
    {
     "data": {
      "application/vnd.jupyter.widget-view+json": {
       "model_id": "",
       "version_major": 2,
       "version_minor": 0
      },
      "text/plain": [
       "HBox(children=(HTML(value=''), FloatProgress(value=0.0, max=50.0), HTML(value='')))"
      ]
     },
     "metadata": {},
     "output_type": "display_data"
    },
    {
     "data": {
      "application/vnd.jupyter.widget-view+json": {
       "model_id": "",
       "version_major": 2,
       "version_minor": 0
      },
      "text/plain": [
       "HBox(children=(HTML(value=''), FloatProgress(value=0.0, max=5.0), HTML(value='')))"
      ]
     },
     "metadata": {},
     "output_type": "display_data"
    },
    {
     "data": {
      "application/vnd.jupyter.widget-view+json": {
       "model_id": "",
       "version_major": 2,
       "version_minor": 0
      },
      "text/plain": [
       "HBox(children=(HTML(value=''), FloatProgress(value=0.0, max=9.0), HTML(value='')))"
      ]
     },
     "metadata": {},
     "output_type": "display_data"
    },
    {
     "data": {
      "application/vnd.jupyter.widget-view+json": {
       "model_id": "",
       "version_major": 2,
       "version_minor": 0
      },
      "text/plain": [
       "HBox(children=(HTML(value=''), FloatProgress(value=0.0, max=50.0), HTML(value='')))"
      ]
     },
     "metadata": {},
     "output_type": "display_data"
    },
    {
     "data": {
      "application/vnd.jupyter.widget-view+json": {
       "model_id": "",
       "version_major": 2,
       "version_minor": 0
      },
      "text/plain": [
       "HBox(children=(HTML(value=''), FloatProgress(value=0.0, max=50.0), HTML(value='')))"
      ]
     },
     "metadata": {},
     "output_type": "display_data"
    },
    {
     "data": {
      "application/vnd.jupyter.widget-view+json": {
       "model_id": "",
       "version_major": 2,
       "version_minor": 0
      },
      "text/plain": [
       "HBox(children=(HTML(value=''), FloatProgress(value=0.0, max=50.0), HTML(value='')))"
      ]
     },
     "metadata": {},
     "output_type": "display_data"
    },
    {
     "data": {
      "application/vnd.jupyter.widget-view+json": {
       "model_id": "",
       "version_major": 2,
       "version_minor": 0
      },
      "text/plain": [
       "HBox(children=(HTML(value=''), FloatProgress(value=0.0, max=50.0), HTML(value='')))"
      ]
     },
     "metadata": {},
     "output_type": "display_data"
    },
    {
     "data": {
      "application/vnd.jupyter.widget-view+json": {
       "model_id": "",
       "version_major": 2,
       "version_minor": 0
      },
      "text/plain": [
       "HBox(children=(HTML(value=''), FloatProgress(value=0.0, max=50.0), HTML(value='')))"
      ]
     },
     "metadata": {},
     "output_type": "display_data"
    },
    {
     "data": {
      "application/vnd.jupyter.widget-view+json": {
       "model_id": "",
       "version_major": 2,
       "version_minor": 0
      },
      "text/plain": [
       "HBox(children=(HTML(value=''), FloatProgress(value=0.0, max=50.0), HTML(value='')))"
      ]
     },
     "metadata": {},
     "output_type": "display_data"
    },
    {
     "data": {
      "application/vnd.jupyter.widget-view+json": {
       "model_id": "",
       "version_major": 2,
       "version_minor": 0
      },
      "text/plain": [
       "HBox(children=(HTML(value=''), FloatProgress(value=0.0, max=50.0), HTML(value='')))"
      ]
     },
     "metadata": {},
     "output_type": "display_data"
    },
    {
     "data": {
      "application/vnd.jupyter.widget-view+json": {
       "model_id": "",
       "version_major": 2,
       "version_minor": 0
      },
      "text/plain": [
       "HBox(children=(HTML(value=''), FloatProgress(value=0.0, max=50.0), HTML(value='')))"
      ]
     },
     "metadata": {},
     "output_type": "display_data"
    },
    {
     "data": {
      "application/vnd.jupyter.widget-view+json": {
       "model_id": "",
       "version_major": 2,
       "version_minor": 0
      },
      "text/plain": [
       "HBox(children=(HTML(value=''), FloatProgress(value=0.0, max=50.0), HTML(value='')))"
      ]
     },
     "metadata": {},
     "output_type": "display_data"
    },
    {
     "data": {
      "application/vnd.jupyter.widget-view+json": {
       "model_id": "",
       "version_major": 2,
       "version_minor": 0
      },
      "text/plain": [
       "HBox(children=(HTML(value=''), FloatProgress(value=0.0, max=50.0), HTML(value='')))"
      ]
     },
     "metadata": {},
     "output_type": "display_data"
    },
    {
     "data": {
      "application/vnd.jupyter.widget-view+json": {
       "model_id": "",
       "version_major": 2,
       "version_minor": 0
      },
      "text/plain": [
       "HBox(children=(HTML(value=''), FloatProgress(value=0.0, max=50.0), HTML(value='')))"
      ]
     },
     "metadata": {},
     "output_type": "display_data"
    },
    {
     "data": {
      "application/vnd.jupyter.widget-view+json": {
       "model_id": "",
       "version_major": 2,
       "version_minor": 0
      },
      "text/plain": [
       "HBox(children=(HTML(value=''), FloatProgress(value=0.0, max=50.0), HTML(value='')))"
      ]
     },
     "metadata": {},
     "output_type": "display_data"
    },
    {
     "data": {
      "application/vnd.jupyter.widget-view+json": {
       "model_id": "",
       "version_major": 2,
       "version_minor": 0
      },
      "text/plain": [
       "HBox(children=(HTML(value=''), FloatProgress(value=0.0, max=50.0), HTML(value='')))"
      ]
     },
     "metadata": {},
     "output_type": "display_data"
    },
    {
     "name": "stdout",
     "output_type": "stream",
     "text": [
      "\n"
     ]
    }
   ],
   "source": [
    "opt_params, RMSE = get_results()"
   ]
  },
  {
   "cell_type": "code",
   "execution_count": 25,
   "metadata": {},
   "outputs": [
    {
     "data": {
      "text/html": [
       "<div>\n",
       "<style scoped>\n",
       "    .dataframe tbody tr th:only-of-type {\n",
       "        vertical-align: middle;\n",
       "    }\n",
       "\n",
       "    .dataframe tbody tr th {\n",
       "        vertical-align: top;\n",
       "    }\n",
       "\n",
       "    .dataframe thead th {\n",
       "        text-align: right;\n",
       "    }\n",
       "</style>\n",
       "<table border=\"1\" class=\"dataframe\">\n",
       "  <thead>\n",
       "    <tr style=\"text-align: right;\">\n",
       "      <th></th>\n",
       "      <th>Ozone</th>\n",
       "      <th>CO</th>\n",
       "      <th>NO2</th>\n",
       "      <th>PM25</th>\n",
       "      <th>PM10</th>\n",
       "    </tr>\n",
       "  </thead>\n",
       "  <tbody>\n",
       "    <tr>\n",
       "      <th>KGR</th>\n",
       "      <td>0.615449</td>\n",
       "      <td>0.735879</td>\n",
       "      <td>0.599236</td>\n",
       "      <td>0.749145</td>\n",
       "      <td>0.633629</td>\n",
       "    </tr>\n",
       "    <tr>\n",
       "      <th>LinearRegression</th>\n",
       "      <td>0.723574</td>\n",
       "      <td>0.768096</td>\n",
       "      <td>0.773384</td>\n",
       "      <td>0.816315</td>\n",
       "      <td>0.777558</td>\n",
       "    </tr>\n",
       "    <tr>\n",
       "      <th>RidgeRegression</th>\n",
       "      <td>0.704979</td>\n",
       "      <td>0.744427</td>\n",
       "      <td>0.780301</td>\n",
       "      <td>0.783974</td>\n",
       "      <td>0.731608</td>\n",
       "    </tr>\n",
       "    <tr>\n",
       "      <th>LassoRegression</th>\n",
       "      <td>0.679058</td>\n",
       "      <td>0.724803</td>\n",
       "      <td>0.739269</td>\n",
       "      <td>0.759241</td>\n",
       "      <td>0.701147</td>\n",
       "    </tr>\n",
       "    <tr>\n",
       "      <th>GLSKGR</th>\n",
       "      <td>0.662691</td>\n",
       "      <td>0.745393</td>\n",
       "      <td>0.665544</td>\n",
       "      <td>0.785514</td>\n",
       "      <td>0.665610</td>\n",
       "    </tr>\n",
       "  </tbody>\n",
       "</table>\n",
       "</div>"
      ],
      "text/plain": [
       "                     Ozone        CO       NO2      PM25      PM10\n",
       "KGR               0.615449  0.735879  0.599236  0.749145  0.633629\n",
       "LinearRegression  0.723574  0.768096  0.773384  0.816315  0.777558\n",
       "RidgeRegression   0.704979  0.744427  0.780301  0.783974  0.731608\n",
       "LassoRegression   0.679058  0.724803  0.739269  0.759241  0.701147\n",
       "GLSKGR            0.662691  0.745393  0.665544  0.785514  0.665610"
      ]
     },
     "execution_count": 25,
     "metadata": {},
     "output_type": "execute_result"
    }
   ],
   "source": [
    "pd.DataFrame(RMSE['All Unlabelled']).T.drop('SO2', axis=1)#.to_csv('results/unlabelled_full.csv')"
   ]
  },
  {
   "cell_type": "code",
   "execution_count": 66,
   "metadata": {},
   "outputs": [],
   "source": [
    "pd.DataFrame(RMSE['Missing Nodes']).T.drop('SO2', axis=1).to_csv('results/missing_nodes.csv')"
   ]
  },
  {
   "cell_type": "code",
   "execution_count": 67,
   "metadata": {},
   "outputs": [],
   "source": [
    "pd.DataFrame(RMSE['Missing Dates']).T.drop('SO2', axis=1).to_csv('results/unlabelled_dates.csv')"
   ]
  },
  {
   "cell_type": "code",
   "execution_count": 68,
   "metadata": {},
   "outputs": [],
   "source": [
    "pd.DataFrame(RMSE['Labelled']).T.drop('SO2', axis=1).to_csv('results/labelled.csv')"
   ]
  },
  {
   "cell_type": "code",
   "execution_count": null,
   "metadata": {},
   "outputs": [],
   "source": []
  }
 ],
 "metadata": {
  "kernelspec": {
   "display_name": "Python 3",
   "language": "python",
   "name": "python3"
  },
  "language_info": {
   "codemirror_mode": {
    "name": "ipython",
    "version": 3
   },
   "file_extension": ".py",
   "mimetype": "text/x-python",
   "name": "python",
   "nbconvert_exporter": "python",
   "pygments_lexer": "ipython3",
   "version": "3.7.3"
  }
 },
 "nbformat": 4,
 "nbformat_minor": 2
}
