{
 "cells": [
  {
   "cell_type": "code",
   "execution_count": 1,
   "metadata": {},
   "outputs": [
    {
     "data": {
      "text/html": [
       "<style>.container { width:90% !important; }</style>"
      ],
      "text/plain": [
       "<IPython.core.display.HTML object>"
      ]
     },
     "metadata": {},
     "output_type": "display_data"
    }
   ],
   "source": [
    "from IPython.core.display import display, HTML\n",
    "display(HTML(\"<style>.container { width:90% !important; }</style>\"))"
   ]
  },
  {
   "cell_type": "code",
   "execution_count": 2,
   "metadata": {},
   "outputs": [],
   "source": [
    "%load_ext autoreload\n",
    "%autoreload 2"
   ]
  },
  {
   "cell_type": "code",
   "execution_count": 3,
   "metadata": {},
   "outputs": [
    {
     "name": "stderr",
     "output_type": "stream",
     "text": [
      "/home/ed/miniconda3/lib/python3.7/site-packages/ipykernel_launcher.py:4: TqdmExperimentalWarning: Using `tqdm.autonotebook.tqdm` in notebook mode. Use `tqdm.tqdm` instead to force console mode (e.g. in jupyter console)\n",
      "  after removing the cwd from sys.path.\n"
     ]
    }
   ],
   "source": [
    "import numpy as np\n",
    "import matplotlib.pyplot as plt\n",
    "import pandas as pd\n",
    "from tqdm.autonotebook import tqdm\n"
   ]
  },
  {
   "cell_type": "code",
   "execution_count": 4,
   "metadata": {},
   "outputs": [],
   "source": [
    "%matplotlib notebook\n",
    "np.set_printoptions(precision=4, linewidth=500, threshold=500, suppress=True)"
   ]
  },
  {
   "cell_type": "code",
   "execution_count": 5,
   "metadata": {},
   "outputs": [],
   "source": [
    "import sys\n",
    "sys.path.append('..')"
   ]
  },
  {
   "cell_type": "code",
   "execution_count": 6,
   "metadata": {},
   "outputs": [],
   "source": [
    "from model.laplacian import Laplacian\n",
    "from model.features import Features\n",
    "from model.targets import Targets\n",
    "from model.regression.basic import LinearRegression, LassoRegression, RidgeRegression, NaiveRegression\n",
    "from model.regression.glskgr import GLSKGR\n",
    "from model.regression.kgr import KGR\n"
   ]
  },
  {
   "cell_type": "code",
   "execution_count": 7,
   "metadata": {},
   "outputs": [],
   "source": [
    "laplacian = Laplacian()"
   ]
  },
  {
   "cell_type": "code",
   "execution_count": 8,
   "metadata": {},
   "outputs": [],
   "source": [
    "features = Features()"
   ]
  },
  {
   "cell_type": "code",
   "execution_count": 9,
   "metadata": {},
   "outputs": [],
   "source": [
    "metrics = ['Ozone', 'SO2', 'CO', 'NO2', 'PM25', 'PM10']\n",
    "\n",
    "targets = {metric: Targets(metric) for metric in metrics}"
   ]
  },
  {
   "cell_type": "code",
   "execution_count": 24,
   "metadata": {},
   "outputs": [],
   "source": [
    "model_kgr = KGR(gamma= 0.0037, K_std=90, filter_func='sigmoid', beta=62).set_laplacian(laplacian).set_data(features, targets['Ozone'])"
   ]
  },
  {
   "cell_type": "code",
   "execution_count": 70,
   "metadata": {
    "scrolled": false
   },
   "outputs": [
    {
     "data": {
      "application/javascript": [
       "/* Put everything inside the global mpl namespace */\n",
       "window.mpl = {};\n",
       "\n",
       "\n",
       "mpl.get_websocket_type = function() {\n",
       "    if (typeof(WebSocket) !== 'undefined') {\n",
       "        return WebSocket;\n",
       "    } else if (typeof(MozWebSocket) !== 'undefined') {\n",
       "        return MozWebSocket;\n",
       "    } else {\n",
       "        alert('Your browser does not have WebSocket support. ' +\n",
       "              'Please try Chrome, Safari or Firefox ≥ 6. ' +\n",
       "              'Firefox 4 and 5 are also supported but you ' +\n",
       "              'have to enable WebSockets in about:config.');\n",
       "    };\n",
       "}\n",
       "\n",
       "mpl.figure = function(figure_id, websocket, ondownload, parent_element) {\n",
       "    this.id = figure_id;\n",
       "\n",
       "    this.ws = websocket;\n",
       "\n",
       "    this.supports_binary = (this.ws.binaryType != undefined);\n",
       "\n",
       "    if (!this.supports_binary) {\n",
       "        var warnings = document.getElementById(\"mpl-warnings\");\n",
       "        if (warnings) {\n",
       "            warnings.style.display = 'block';\n",
       "            warnings.textContent = (\n",
       "                \"This browser does not support binary websocket messages. \" +\n",
       "                    \"Performance may be slow.\");\n",
       "        }\n",
       "    }\n",
       "\n",
       "    this.imageObj = new Image();\n",
       "\n",
       "    this.context = undefined;\n",
       "    this.message = undefined;\n",
       "    this.canvas = undefined;\n",
       "    this.rubberband_canvas = undefined;\n",
       "    this.rubberband_context = undefined;\n",
       "    this.format_dropdown = undefined;\n",
       "\n",
       "    this.image_mode = 'full';\n",
       "\n",
       "    this.root = $('<div/>');\n",
       "    this._root_extra_style(this.root)\n",
       "    this.root.attr('style', 'display: inline-block');\n",
       "\n",
       "    $(parent_element).append(this.root);\n",
       "\n",
       "    this._init_header(this);\n",
       "    this._init_canvas(this);\n",
       "    this._init_toolbar(this);\n",
       "\n",
       "    var fig = this;\n",
       "\n",
       "    this.waiting = false;\n",
       "\n",
       "    this.ws.onopen =  function () {\n",
       "            fig.send_message(\"supports_binary\", {value: fig.supports_binary});\n",
       "            fig.send_message(\"send_image_mode\", {});\n",
       "            if (mpl.ratio != 1) {\n",
       "                fig.send_message(\"set_dpi_ratio\", {'dpi_ratio': mpl.ratio});\n",
       "            }\n",
       "            fig.send_message(\"refresh\", {});\n",
       "        }\n",
       "\n",
       "    this.imageObj.onload = function() {\n",
       "            if (fig.image_mode == 'full') {\n",
       "                // Full images could contain transparency (where diff images\n",
       "                // almost always do), so we need to clear the canvas so that\n",
       "                // there is no ghosting.\n",
       "                fig.context.clearRect(0, 0, fig.canvas.width, fig.canvas.height);\n",
       "            }\n",
       "            fig.context.drawImage(fig.imageObj, 0, 0);\n",
       "        };\n",
       "\n",
       "    this.imageObj.onunload = function() {\n",
       "        fig.ws.close();\n",
       "    }\n",
       "\n",
       "    this.ws.onmessage = this._make_on_message_function(this);\n",
       "\n",
       "    this.ondownload = ondownload;\n",
       "}\n",
       "\n",
       "mpl.figure.prototype._init_header = function() {\n",
       "    var titlebar = $(\n",
       "        '<div class=\"ui-dialog-titlebar ui-widget-header ui-corner-all ' +\n",
       "        'ui-helper-clearfix\"/>');\n",
       "    var titletext = $(\n",
       "        '<div class=\"ui-dialog-title\" style=\"width: 100%; ' +\n",
       "        'text-align: center; padding: 3px;\"/>');\n",
       "    titlebar.append(titletext)\n",
       "    this.root.append(titlebar);\n",
       "    this.header = titletext[0];\n",
       "}\n",
       "\n",
       "\n",
       "\n",
       "mpl.figure.prototype._canvas_extra_style = function(canvas_div) {\n",
       "\n",
       "}\n",
       "\n",
       "\n",
       "mpl.figure.prototype._root_extra_style = function(canvas_div) {\n",
       "\n",
       "}\n",
       "\n",
       "mpl.figure.prototype._init_canvas = function() {\n",
       "    var fig = this;\n",
       "\n",
       "    var canvas_div = $('<div/>');\n",
       "\n",
       "    canvas_div.attr('style', 'position: relative; clear: both; outline: 0');\n",
       "\n",
       "    function canvas_keyboard_event(event) {\n",
       "        return fig.key_event(event, event['data']);\n",
       "    }\n",
       "\n",
       "    canvas_div.keydown('key_press', canvas_keyboard_event);\n",
       "    canvas_div.keyup('key_release', canvas_keyboard_event);\n",
       "    this.canvas_div = canvas_div\n",
       "    this._canvas_extra_style(canvas_div)\n",
       "    this.root.append(canvas_div);\n",
       "\n",
       "    var canvas = $('<canvas/>');\n",
       "    canvas.addClass('mpl-canvas');\n",
       "    canvas.attr('style', \"left: 0; top: 0; z-index: 0; outline: 0\")\n",
       "\n",
       "    this.canvas = canvas[0];\n",
       "    this.context = canvas[0].getContext(\"2d\");\n",
       "\n",
       "    var backingStore = this.context.backingStorePixelRatio ||\n",
       "\tthis.context.webkitBackingStorePixelRatio ||\n",
       "\tthis.context.mozBackingStorePixelRatio ||\n",
       "\tthis.context.msBackingStorePixelRatio ||\n",
       "\tthis.context.oBackingStorePixelRatio ||\n",
       "\tthis.context.backingStorePixelRatio || 1;\n",
       "\n",
       "    mpl.ratio = (window.devicePixelRatio || 1) / backingStore;\n",
       "\n",
       "    var rubberband = $('<canvas/>');\n",
       "    rubberband.attr('style', \"position: absolute; left: 0; top: 0; z-index: 1;\")\n",
       "\n",
       "    var pass_mouse_events = true;\n",
       "\n",
       "    canvas_div.resizable({\n",
       "        start: function(event, ui) {\n",
       "            pass_mouse_events = false;\n",
       "        },\n",
       "        resize: function(event, ui) {\n",
       "            fig.request_resize(ui.size.width, ui.size.height);\n",
       "        },\n",
       "        stop: function(event, ui) {\n",
       "            pass_mouse_events = true;\n",
       "            fig.request_resize(ui.size.width, ui.size.height);\n",
       "        },\n",
       "    });\n",
       "\n",
       "    function mouse_event_fn(event) {\n",
       "        if (pass_mouse_events)\n",
       "            return fig.mouse_event(event, event['data']);\n",
       "    }\n",
       "\n",
       "    rubberband.mousedown('button_press', mouse_event_fn);\n",
       "    rubberband.mouseup('button_release', mouse_event_fn);\n",
       "    // Throttle sequential mouse events to 1 every 20ms.\n",
       "    rubberband.mousemove('motion_notify', mouse_event_fn);\n",
       "\n",
       "    rubberband.mouseenter('figure_enter', mouse_event_fn);\n",
       "    rubberband.mouseleave('figure_leave', mouse_event_fn);\n",
       "\n",
       "    canvas_div.on(\"wheel\", function (event) {\n",
       "        event = event.originalEvent;\n",
       "        event['data'] = 'scroll'\n",
       "        if (event.deltaY < 0) {\n",
       "            event.step = 1;\n",
       "        } else {\n",
       "            event.step = -1;\n",
       "        }\n",
       "        mouse_event_fn(event);\n",
       "    });\n",
       "\n",
       "    canvas_div.append(canvas);\n",
       "    canvas_div.append(rubberband);\n",
       "\n",
       "    this.rubberband = rubberband;\n",
       "    this.rubberband_canvas = rubberband[0];\n",
       "    this.rubberband_context = rubberband[0].getContext(\"2d\");\n",
       "    this.rubberband_context.strokeStyle = \"#000000\";\n",
       "\n",
       "    this._resize_canvas = function(width, height) {\n",
       "        // Keep the size of the canvas, canvas container, and rubber band\n",
       "        // canvas in synch.\n",
       "        canvas_div.css('width', width)\n",
       "        canvas_div.css('height', height)\n",
       "\n",
       "        canvas.attr('width', width * mpl.ratio);\n",
       "        canvas.attr('height', height * mpl.ratio);\n",
       "        canvas.attr('style', 'width: ' + width + 'px; height: ' + height + 'px;');\n",
       "\n",
       "        rubberband.attr('width', width);\n",
       "        rubberband.attr('height', height);\n",
       "    }\n",
       "\n",
       "    // Set the figure to an initial 600x600px, this will subsequently be updated\n",
       "    // upon first draw.\n",
       "    this._resize_canvas(600, 600);\n",
       "\n",
       "    // Disable right mouse context menu.\n",
       "    $(this.rubberband_canvas).bind(\"contextmenu\",function(e){\n",
       "        return false;\n",
       "    });\n",
       "\n",
       "    function set_focus () {\n",
       "        canvas.focus();\n",
       "        canvas_div.focus();\n",
       "    }\n",
       "\n",
       "    window.setTimeout(set_focus, 100);\n",
       "}\n",
       "\n",
       "mpl.figure.prototype._init_toolbar = function() {\n",
       "    var fig = this;\n",
       "\n",
       "    var nav_element = $('<div/>');\n",
       "    nav_element.attr('style', 'width: 100%');\n",
       "    this.root.append(nav_element);\n",
       "\n",
       "    // Define a callback function for later on.\n",
       "    function toolbar_event(event) {\n",
       "        return fig.toolbar_button_onclick(event['data']);\n",
       "    }\n",
       "    function toolbar_mouse_event(event) {\n",
       "        return fig.toolbar_button_onmouseover(event['data']);\n",
       "    }\n",
       "\n",
       "    for(var toolbar_ind in mpl.toolbar_items) {\n",
       "        var name = mpl.toolbar_items[toolbar_ind][0];\n",
       "        var tooltip = mpl.toolbar_items[toolbar_ind][1];\n",
       "        var image = mpl.toolbar_items[toolbar_ind][2];\n",
       "        var method_name = mpl.toolbar_items[toolbar_ind][3];\n",
       "\n",
       "        if (!name) {\n",
       "            // put a spacer in here.\n",
       "            continue;\n",
       "        }\n",
       "        var button = $('<button/>');\n",
       "        button.addClass('ui-button ui-widget ui-state-default ui-corner-all ' +\n",
       "                        'ui-button-icon-only');\n",
       "        button.attr('role', 'button');\n",
       "        button.attr('aria-disabled', 'false');\n",
       "        button.click(method_name, toolbar_event);\n",
       "        button.mouseover(tooltip, toolbar_mouse_event);\n",
       "\n",
       "        var icon_img = $('<span/>');\n",
       "        icon_img.addClass('ui-button-icon-primary ui-icon');\n",
       "        icon_img.addClass(image);\n",
       "        icon_img.addClass('ui-corner-all');\n",
       "\n",
       "        var tooltip_span = $('<span/>');\n",
       "        tooltip_span.addClass('ui-button-text');\n",
       "        tooltip_span.html(tooltip);\n",
       "\n",
       "        button.append(icon_img);\n",
       "        button.append(tooltip_span);\n",
       "\n",
       "        nav_element.append(button);\n",
       "    }\n",
       "\n",
       "    var fmt_picker_span = $('<span/>');\n",
       "\n",
       "    var fmt_picker = $('<select/>');\n",
       "    fmt_picker.addClass('mpl-toolbar-option ui-widget ui-widget-content');\n",
       "    fmt_picker_span.append(fmt_picker);\n",
       "    nav_element.append(fmt_picker_span);\n",
       "    this.format_dropdown = fmt_picker[0];\n",
       "\n",
       "    for (var ind in mpl.extensions) {\n",
       "        var fmt = mpl.extensions[ind];\n",
       "        var option = $(\n",
       "            '<option/>', {selected: fmt === mpl.default_extension}).html(fmt);\n",
       "        fmt_picker.append(option);\n",
       "    }\n",
       "\n",
       "    // Add hover states to the ui-buttons\n",
       "    $( \".ui-button\" ).hover(\n",
       "        function() { $(this).addClass(\"ui-state-hover\");},\n",
       "        function() { $(this).removeClass(\"ui-state-hover\");}\n",
       "    );\n",
       "\n",
       "    var status_bar = $('<span class=\"mpl-message\"/>');\n",
       "    nav_element.append(status_bar);\n",
       "    this.message = status_bar[0];\n",
       "}\n",
       "\n",
       "mpl.figure.prototype.request_resize = function(x_pixels, y_pixels) {\n",
       "    // Request matplotlib to resize the figure. Matplotlib will then trigger a resize in the client,\n",
       "    // which will in turn request a refresh of the image.\n",
       "    this.send_message('resize', {'width': x_pixels, 'height': y_pixels});\n",
       "}\n",
       "\n",
       "mpl.figure.prototype.send_message = function(type, properties) {\n",
       "    properties['type'] = type;\n",
       "    properties['figure_id'] = this.id;\n",
       "    this.ws.send(JSON.stringify(properties));\n",
       "}\n",
       "\n",
       "mpl.figure.prototype.send_draw_message = function() {\n",
       "    if (!this.waiting) {\n",
       "        this.waiting = true;\n",
       "        this.ws.send(JSON.stringify({type: \"draw\", figure_id: this.id}));\n",
       "    }\n",
       "}\n",
       "\n",
       "\n",
       "mpl.figure.prototype.handle_save = function(fig, msg) {\n",
       "    var format_dropdown = fig.format_dropdown;\n",
       "    var format = format_dropdown.options[format_dropdown.selectedIndex].value;\n",
       "    fig.ondownload(fig, format);\n",
       "}\n",
       "\n",
       "\n",
       "mpl.figure.prototype.handle_resize = function(fig, msg) {\n",
       "    var size = msg['size'];\n",
       "    if (size[0] != fig.canvas.width || size[1] != fig.canvas.height) {\n",
       "        fig._resize_canvas(size[0], size[1]);\n",
       "        fig.send_message(\"refresh\", {});\n",
       "    };\n",
       "}\n",
       "\n",
       "mpl.figure.prototype.handle_rubberband = function(fig, msg) {\n",
       "    var x0 = msg['x0'] / mpl.ratio;\n",
       "    var y0 = (fig.canvas.height - msg['y0']) / mpl.ratio;\n",
       "    var x1 = msg['x1'] / mpl.ratio;\n",
       "    var y1 = (fig.canvas.height - msg['y1']) / mpl.ratio;\n",
       "    x0 = Math.floor(x0) + 0.5;\n",
       "    y0 = Math.floor(y0) + 0.5;\n",
       "    x1 = Math.floor(x1) + 0.5;\n",
       "    y1 = Math.floor(y1) + 0.5;\n",
       "    var min_x = Math.min(x0, x1);\n",
       "    var min_y = Math.min(y0, y1);\n",
       "    var width = Math.abs(x1 - x0);\n",
       "    var height = Math.abs(y1 - y0);\n",
       "\n",
       "    fig.rubberband_context.clearRect(\n",
       "        0, 0, fig.canvas.width / mpl.ratio, fig.canvas.height / mpl.ratio);\n",
       "\n",
       "    fig.rubberband_context.strokeRect(min_x, min_y, width, height);\n",
       "}\n",
       "\n",
       "mpl.figure.prototype.handle_figure_label = function(fig, msg) {\n",
       "    // Updates the figure title.\n",
       "    fig.header.textContent = msg['label'];\n",
       "}\n",
       "\n",
       "mpl.figure.prototype.handle_cursor = function(fig, msg) {\n",
       "    var cursor = msg['cursor'];\n",
       "    switch(cursor)\n",
       "    {\n",
       "    case 0:\n",
       "        cursor = 'pointer';\n",
       "        break;\n",
       "    case 1:\n",
       "        cursor = 'default';\n",
       "        break;\n",
       "    case 2:\n",
       "        cursor = 'crosshair';\n",
       "        break;\n",
       "    case 3:\n",
       "        cursor = 'move';\n",
       "        break;\n",
       "    }\n",
       "    fig.rubberband_canvas.style.cursor = cursor;\n",
       "}\n",
       "\n",
       "mpl.figure.prototype.handle_message = function(fig, msg) {\n",
       "    fig.message.textContent = msg['message'];\n",
       "}\n",
       "\n",
       "mpl.figure.prototype.handle_draw = function(fig, msg) {\n",
       "    // Request the server to send over a new figure.\n",
       "    fig.send_draw_message();\n",
       "}\n",
       "\n",
       "mpl.figure.prototype.handle_image_mode = function(fig, msg) {\n",
       "    fig.image_mode = msg['mode'];\n",
       "}\n",
       "\n",
       "mpl.figure.prototype.updated_canvas_event = function() {\n",
       "    // Called whenever the canvas gets updated.\n",
       "    this.send_message(\"ack\", {});\n",
       "}\n",
       "\n",
       "// A function to construct a web socket function for onmessage handling.\n",
       "// Called in the figure constructor.\n",
       "mpl.figure.prototype._make_on_message_function = function(fig) {\n",
       "    return function socket_on_message(evt) {\n",
       "        if (evt.data instanceof Blob) {\n",
       "            /* FIXME: We get \"Resource interpreted as Image but\n",
       "             * transferred with MIME type text/plain:\" errors on\n",
       "             * Chrome.  But how to set the MIME type?  It doesn't seem\n",
       "             * to be part of the websocket stream */\n",
       "            evt.data.type = \"image/png\";\n",
       "\n",
       "            /* Free the memory for the previous frames */\n",
       "            if (fig.imageObj.src) {\n",
       "                (window.URL || window.webkitURL).revokeObjectURL(\n",
       "                    fig.imageObj.src);\n",
       "            }\n",
       "\n",
       "            fig.imageObj.src = (window.URL || window.webkitURL).createObjectURL(\n",
       "                evt.data);\n",
       "            fig.updated_canvas_event();\n",
       "            fig.waiting = false;\n",
       "            return;\n",
       "        }\n",
       "        else if (typeof evt.data === 'string' && evt.data.slice(0, 21) == \"data:image/png;base64\") {\n",
       "            fig.imageObj.src = evt.data;\n",
       "            fig.updated_canvas_event();\n",
       "            fig.waiting = false;\n",
       "            return;\n",
       "        }\n",
       "\n",
       "        var msg = JSON.parse(evt.data);\n",
       "        var msg_type = msg['type'];\n",
       "\n",
       "        // Call the  \"handle_{type}\" callback, which takes\n",
       "        // the figure and JSON message as its only arguments.\n",
       "        try {\n",
       "            var callback = fig[\"handle_\" + msg_type];\n",
       "        } catch (e) {\n",
       "            console.log(\"No handler for the '\" + msg_type + \"' message type: \", msg);\n",
       "            return;\n",
       "        }\n",
       "\n",
       "        if (callback) {\n",
       "            try {\n",
       "                // console.log(\"Handling '\" + msg_type + \"' message: \", msg);\n",
       "                callback(fig, msg);\n",
       "            } catch (e) {\n",
       "                console.log(\"Exception inside the 'handler_\" + msg_type + \"' callback:\", e, e.stack, msg);\n",
       "            }\n",
       "        }\n",
       "    };\n",
       "}\n",
       "\n",
       "// from http://stackoverflow.com/questions/1114465/getting-mouse-location-in-canvas\n",
       "mpl.findpos = function(e) {\n",
       "    //this section is from http://www.quirksmode.org/js/events_properties.html\n",
       "    var targ;\n",
       "    if (!e)\n",
       "        e = window.event;\n",
       "    if (e.target)\n",
       "        targ = e.target;\n",
       "    else if (e.srcElement)\n",
       "        targ = e.srcElement;\n",
       "    if (targ.nodeType == 3) // defeat Safari bug\n",
       "        targ = targ.parentNode;\n",
       "\n",
       "    // jQuery normalizes the pageX and pageY\n",
       "    // pageX,Y are the mouse positions relative to the document\n",
       "    // offset() returns the position of the element relative to the document\n",
       "    var x = e.pageX - $(targ).offset().left;\n",
       "    var y = e.pageY - $(targ).offset().top;\n",
       "\n",
       "    return {\"x\": x, \"y\": y};\n",
       "};\n",
       "\n",
       "/*\n",
       " * return a copy of an object with only non-object keys\n",
       " * we need this to avoid circular references\n",
       " * http://stackoverflow.com/a/24161582/3208463\n",
       " */\n",
       "function simpleKeys (original) {\n",
       "  return Object.keys(original).reduce(function (obj, key) {\n",
       "    if (typeof original[key] !== 'object')\n",
       "        obj[key] = original[key]\n",
       "    return obj;\n",
       "  }, {});\n",
       "}\n",
       "\n",
       "mpl.figure.prototype.mouse_event = function(event, name) {\n",
       "    var canvas_pos = mpl.findpos(event)\n",
       "\n",
       "    if (name === 'button_press')\n",
       "    {\n",
       "        this.canvas.focus();\n",
       "        this.canvas_div.focus();\n",
       "    }\n",
       "\n",
       "    var x = canvas_pos.x * mpl.ratio;\n",
       "    var y = canvas_pos.y * mpl.ratio;\n",
       "\n",
       "    this.send_message(name, {x: x, y: y, button: event.button,\n",
       "                             step: event.step,\n",
       "                             guiEvent: simpleKeys(event)});\n",
       "\n",
       "    /* This prevents the web browser from automatically changing to\n",
       "     * the text insertion cursor when the button is pressed.  We want\n",
       "     * to control all of the cursor setting manually through the\n",
       "     * 'cursor' event from matplotlib */\n",
       "    event.preventDefault();\n",
       "    return false;\n",
       "}\n",
       "\n",
       "mpl.figure.prototype._key_event_extra = function(event, name) {\n",
       "    // Handle any extra behaviour associated with a key event\n",
       "}\n",
       "\n",
       "mpl.figure.prototype.key_event = function(event, name) {\n",
       "\n",
       "    // Prevent repeat events\n",
       "    if (name == 'key_press')\n",
       "    {\n",
       "        if (event.which === this._key)\n",
       "            return;\n",
       "        else\n",
       "            this._key = event.which;\n",
       "    }\n",
       "    if (name == 'key_release')\n",
       "        this._key = null;\n",
       "\n",
       "    var value = '';\n",
       "    if (event.ctrlKey && event.which != 17)\n",
       "        value += \"ctrl+\";\n",
       "    if (event.altKey && event.which != 18)\n",
       "        value += \"alt+\";\n",
       "    if (event.shiftKey && event.which != 16)\n",
       "        value += \"shift+\";\n",
       "\n",
       "    value += 'k';\n",
       "    value += event.which.toString();\n",
       "\n",
       "    this._key_event_extra(event, name);\n",
       "\n",
       "    this.send_message(name, {key: value,\n",
       "                             guiEvent: simpleKeys(event)});\n",
       "    return false;\n",
       "}\n",
       "\n",
       "mpl.figure.prototype.toolbar_button_onclick = function(name) {\n",
       "    if (name == 'download') {\n",
       "        this.handle_save(this, null);\n",
       "    } else {\n",
       "        this.send_message(\"toolbar_button\", {name: name});\n",
       "    }\n",
       "};\n",
       "\n",
       "mpl.figure.prototype.toolbar_button_onmouseover = function(tooltip) {\n",
       "    this.message.textContent = tooltip;\n",
       "};\n",
       "mpl.toolbar_items = [[\"Home\", \"Reset original view\", \"fa fa-home icon-home\", \"home\"], [\"Back\", \"Back to previous view\", \"fa fa-arrow-left icon-arrow-left\", \"back\"], [\"Forward\", \"Forward to next view\", \"fa fa-arrow-right icon-arrow-right\", \"forward\"], [\"\", \"\", \"\", \"\"], [\"Pan\", \"Pan axes with left mouse, zoom with right\", \"fa fa-arrows icon-move\", \"pan\"], [\"Zoom\", \"Zoom to rectangle\", \"fa fa-square-o icon-check-empty\", \"zoom\"], [\"\", \"\", \"\", \"\"], [\"Download\", \"Download plot\", \"fa fa-floppy-o icon-save\", \"download\"]];\n",
       "\n",
       "mpl.extensions = [\"eps\", \"jpeg\", \"pdf\", \"png\", \"ps\", \"raw\", \"svg\", \"tif\"];\n",
       "\n",
       "mpl.default_extension = \"png\";var comm_websocket_adapter = function(comm) {\n",
       "    // Create a \"websocket\"-like object which calls the given IPython comm\n",
       "    // object with the appropriate methods. Currently this is a non binary\n",
       "    // socket, so there is still some room for performance tuning.\n",
       "    var ws = {};\n",
       "\n",
       "    ws.close = function() {\n",
       "        comm.close()\n",
       "    };\n",
       "    ws.send = function(m) {\n",
       "        //console.log('sending', m);\n",
       "        comm.send(m);\n",
       "    };\n",
       "    // Register the callback with on_msg.\n",
       "    comm.on_msg(function(msg) {\n",
       "        //console.log('receiving', msg['content']['data'], msg);\n",
       "        // Pass the mpl event to the overridden (by mpl) onmessage function.\n",
       "        ws.onmessage(msg['content']['data'])\n",
       "    });\n",
       "    return ws;\n",
       "}\n",
       "\n",
       "mpl.mpl_figure_comm = function(comm, msg) {\n",
       "    // This is the function which gets called when the mpl process\n",
       "    // starts-up an IPython Comm through the \"matplotlib\" channel.\n",
       "\n",
       "    var id = msg.content.data.id;\n",
       "    // Get hold of the div created by the display call when the Comm\n",
       "    // socket was opened in Python.\n",
       "    var element = $(\"#\" + id);\n",
       "    var ws_proxy = comm_websocket_adapter(comm)\n",
       "\n",
       "    function ondownload(figure, format) {\n",
       "        window.open(figure.imageObj.src);\n",
       "    }\n",
       "\n",
       "    var fig = new mpl.figure(id, ws_proxy,\n",
       "                           ondownload,\n",
       "                           element.get(0));\n",
       "\n",
       "    // Call onopen now - mpl needs it, as it is assuming we've passed it a real\n",
       "    // web socket which is closed, not our websocket->open comm proxy.\n",
       "    ws_proxy.onopen();\n",
       "\n",
       "    fig.parent_element = element.get(0);\n",
       "    fig.cell_info = mpl.find_output_cell(\"<div id='\" + id + \"'></div>\");\n",
       "    if (!fig.cell_info) {\n",
       "        console.error(\"Failed to find cell for figure\", id, fig);\n",
       "        return;\n",
       "    }\n",
       "\n",
       "    var output_index = fig.cell_info[2]\n",
       "    var cell = fig.cell_info[0];\n",
       "\n",
       "};\n",
       "\n",
       "mpl.figure.prototype.handle_close = function(fig, msg) {\n",
       "    var width = fig.canvas.width/mpl.ratio\n",
       "    fig.root.unbind('remove')\n",
       "\n",
       "    // Update the output cell to use the data from the current canvas.\n",
       "    fig.push_to_output();\n",
       "    var dataURL = fig.canvas.toDataURL();\n",
       "    // Re-enable the keyboard manager in IPython - without this line, in FF,\n",
       "    // the notebook keyboard shortcuts fail.\n",
       "    IPython.keyboard_manager.enable()\n",
       "    $(fig.parent_element).html('<img src=\"' + dataURL + '\" width=\"' + width + '\">');\n",
       "    fig.close_ws(fig, msg);\n",
       "}\n",
       "\n",
       "mpl.figure.prototype.close_ws = function(fig, msg){\n",
       "    fig.send_message('closing', msg);\n",
       "    // fig.ws.close()\n",
       "}\n",
       "\n",
       "mpl.figure.prototype.push_to_output = function(remove_interactive) {\n",
       "    // Turn the data on the canvas into data in the output cell.\n",
       "    var width = this.canvas.width/mpl.ratio\n",
       "    var dataURL = this.canvas.toDataURL();\n",
       "    this.cell_info[1]['text/html'] = '<img src=\"' + dataURL + '\" width=\"' + width + '\">';\n",
       "}\n",
       "\n",
       "mpl.figure.prototype.updated_canvas_event = function() {\n",
       "    // Tell IPython that the notebook contents must change.\n",
       "    IPython.notebook.set_dirty(true);\n",
       "    this.send_message(\"ack\", {});\n",
       "    var fig = this;\n",
       "    // Wait a second, then push the new image to the DOM so\n",
       "    // that it is saved nicely (might be nice to debounce this).\n",
       "    setTimeout(function () { fig.push_to_output() }, 1000);\n",
       "}\n",
       "\n",
       "mpl.figure.prototype._init_toolbar = function() {\n",
       "    var fig = this;\n",
       "\n",
       "    var nav_element = $('<div/>');\n",
       "    nav_element.attr('style', 'width: 100%');\n",
       "    this.root.append(nav_element);\n",
       "\n",
       "    // Define a callback function for later on.\n",
       "    function toolbar_event(event) {\n",
       "        return fig.toolbar_button_onclick(event['data']);\n",
       "    }\n",
       "    function toolbar_mouse_event(event) {\n",
       "        return fig.toolbar_button_onmouseover(event['data']);\n",
       "    }\n",
       "\n",
       "    for(var toolbar_ind in mpl.toolbar_items){\n",
       "        var name = mpl.toolbar_items[toolbar_ind][0];\n",
       "        var tooltip = mpl.toolbar_items[toolbar_ind][1];\n",
       "        var image = mpl.toolbar_items[toolbar_ind][2];\n",
       "        var method_name = mpl.toolbar_items[toolbar_ind][3];\n",
       "\n",
       "        if (!name) { continue; };\n",
       "\n",
       "        var button = $('<button class=\"btn btn-default\" href=\"#\" title=\"' + name + '\"><i class=\"fa ' + image + ' fa-lg\"></i></button>');\n",
       "        button.click(method_name, toolbar_event);\n",
       "        button.mouseover(tooltip, toolbar_mouse_event);\n",
       "        nav_element.append(button);\n",
       "    }\n",
       "\n",
       "    // Add the status bar.\n",
       "    var status_bar = $('<span class=\"mpl-message\" style=\"text-align:right; float: right;\"/>');\n",
       "    nav_element.append(status_bar);\n",
       "    this.message = status_bar[0];\n",
       "\n",
       "    // Add the close button to the window.\n",
       "    var buttongrp = $('<div class=\"btn-group inline pull-right\"></div>');\n",
       "    var button = $('<button class=\"btn btn-mini btn-primary\" href=\"#\" title=\"Stop Interaction\"><i class=\"fa fa-power-off icon-remove icon-large\"></i></button>');\n",
       "    button.click(function (evt) { fig.handle_close(fig, {}); } );\n",
       "    button.mouseover('Stop Interaction', toolbar_mouse_event);\n",
       "    buttongrp.append(button);\n",
       "    var titlebar = this.root.find($('.ui-dialog-titlebar'));\n",
       "    titlebar.prepend(buttongrp);\n",
       "}\n",
       "\n",
       "mpl.figure.prototype._root_extra_style = function(el){\n",
       "    var fig = this\n",
       "    el.on(\"remove\", function(){\n",
       "\tfig.close_ws(fig, {});\n",
       "    });\n",
       "}\n",
       "\n",
       "mpl.figure.prototype._canvas_extra_style = function(el){\n",
       "    // this is important to make the div 'focusable\n",
       "    el.attr('tabindex', 0)\n",
       "    // reach out to IPython and tell the keyboard manager to turn it's self\n",
       "    // off when our div gets focus\n",
       "\n",
       "    // location in version 3\n",
       "    if (IPython.notebook.keyboard_manager) {\n",
       "        IPython.notebook.keyboard_manager.register_events(el);\n",
       "    }\n",
       "    else {\n",
       "        // location in version 2\n",
       "        IPython.keyboard_manager.register_events(el);\n",
       "    }\n",
       "\n",
       "}\n",
       "\n",
       "mpl.figure.prototype._key_event_extra = function(event, name) {\n",
       "    var manager = IPython.notebook.keyboard_manager;\n",
       "    if (!manager)\n",
       "        manager = IPython.keyboard_manager;\n",
       "\n",
       "    // Check for shift+enter\n",
       "    if (event.shiftKey && event.which == 13) {\n",
       "        this.canvas_div.blur();\n",
       "        // select the cell after this one\n",
       "        var index = IPython.notebook.find_cell_index(this.cell_info[0]);\n",
       "        IPython.notebook.select(index + 1);\n",
       "    }\n",
       "}\n",
       "\n",
       "mpl.figure.prototype.handle_save = function(fig, msg) {\n",
       "    fig.ondownload(fig, null);\n",
       "}\n",
       "\n",
       "\n",
       "mpl.find_output_cell = function(html_output) {\n",
       "    // Return the cell and output element which can be found *uniquely* in the notebook.\n",
       "    // Note - this is a bit hacky, but it is done because the \"notebook_saving.Notebook\"\n",
       "    // IPython event is triggered only after the cells have been serialised, which for\n",
       "    // our purposes (turning an active figure into a static one), is too late.\n",
       "    var cells = IPython.notebook.get_cells();\n",
       "    var ncells = cells.length;\n",
       "    for (var i=0; i<ncells; i++) {\n",
       "        var cell = cells[i];\n",
       "        if (cell.cell_type === 'code'){\n",
       "            for (var j=0; j<cell.output_area.outputs.length; j++) {\n",
       "                var data = cell.output_area.outputs[j];\n",
       "                if (data.data) {\n",
       "                    // IPython >= 3 moved mimebundle to data attribute of output\n",
       "                    data = data.data;\n",
       "                }\n",
       "                if (data['text/html'] == html_output) {\n",
       "                    return [cell, data, j];\n",
       "                }\n",
       "            }\n",
       "        }\n",
       "    }\n",
       "}\n",
       "\n",
       "// Register the function which deals with the matplotlib target/channel.\n",
       "// The kernel may be null if the page has been refreshed.\n",
       "if (IPython.notebook.kernel != null) {\n",
       "    IPython.notebook.kernel.comm_manager.register_target('matplotlib', mpl.mpl_figure_comm);\n",
       "}\n"
      ],
      "text/plain": [
       "<IPython.core.display.Javascript object>"
      ]
     },
     "metadata": {},
     "output_type": "display_data"
    },
    {
     "data": {
      "text/html": [
       "<img src=\"data:image/png;base64,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\" width=\"640\">"
      ],
      "text/plain": [
       "<IPython.core.display.HTML object>"
      ]
     },
     "metadata": {},
     "output_type": "display_data"
    }
   ],
   "source": [
    "fig, axes = plt.subplots(ncols=2, sharex=True, sharey=True)\n",
    "\n",
    "ti = 6\n",
    "t = model_kgr.targets.Y.columns[ti]\n",
    "\n",
    "laplacian.distance.cali.plot_outline(axes[1], dict(color='tab:blue'), fill={'fc': '#e0ebf9', 'lw': 0.5, 'ec': 'tab:blue'})\n",
    "laplacian.distance.cali.plot_outline(axes[0], dict(color='tab:blue'), fill={'fc': '#e0ebf9', 'lw': 0.5, 'ec': 'tab:blue'})\n",
    "\n",
    "vmin = np.quantile(model_kgr.targets.Y.loc[:, t], 0.1)\n",
    "vmax = np.quantile(model_kgr.targets.Y.loc[:, t], 0.9)\n",
    "\n",
    "axes[1].scatter(model_kgr.targets.sites['x'], model_kgr.targets.sites['y'], c=model_kgr.F.loc[:, t], alpha=1, vmin=vmin, vmax=vmax, zorder=np.inf)\n",
    "\n",
    "axes[0].scatter(model_kgr.targets.sites.loc[model_kgr.targets.train_sites, 'x'], model_kgr.targets.sites.loc[model_kgr.targets.train_sites, 'y'], c=model_kgr.targets.Y.loc[:, t], alpha=1, vmin=vmin, vmax=vmax, zorder=np.inf)\n",
    "\n",
    "axes[0].set_title('Observed Signal')\n",
    "axes[1].set_title('Reconstructed Signal')\n",
    "\n",
    "plt.tight_layout()\n",
    "\n",
    "plt.savefig('reconstructed.pdf')\n",
    "\n",
    "\n"
   ]
  },
  {
   "cell_type": "code",
   "execution_count": 14,
   "metadata": {},
   "outputs": [],
   "source": [
    "def get_results():\n",
    "    \n",
    "    models = {'KGR': KGR, \n",
    "              'LinearRegression': LinearRegression, \n",
    "              'RidgeRegression': RidgeRegression, \n",
    "              'LassoRegression': LassoRegression, \n",
    "              'GLSKGR': GLSKGR}\n",
    "\n",
    "    init_params = {'KGR': dict(gamma=0.01, K_std=50, filter_func='sigmoid', beta=50), \n",
    "                   'LinearRegression': dict(fit_intercept=True), \n",
    "                   'RidgeRegression': dict(fit_intercept=True, alpha=50),\n",
    "                   'LassoRegression': dict(fit_intercept=True, alpha=1)}\n",
    "\n",
    "\n",
    "    model_names = ['KGR', 'LinearRegression', 'RidgeRegression', 'LassoRegression', 'GLSKGR']\n",
    "\n",
    "    opt_params = {metric: {model: {} for model in model_names} for metric in metrics}\n",
    "\n",
    "    RMSE = {'Missing Nodes':  {model: {} for model in model_names}, \n",
    "            'Labelled':       {model: {} for model in model_names}, \n",
    "            'Missing Dates':  {model: {} for model in model_names}, \n",
    "            'All Unlabelled': {model: {} for model in model_names}}\n",
    "\n",
    "    \n",
    "    metrics_bar = tqdm(metrics)\n",
    "\n",
    "    for metric in metrics_bar:\n",
    "\n",
    "        metrics_bar.set_description(metric)\n",
    "\n",
    "        models_bar = tqdm(models, leave=False)\n",
    "\n",
    "        for model in models_bar:\n",
    "\n",
    "            models_bar.set_description(model)\n",
    "\n",
    "            if model != 'GLSKGR':\n",
    "                reg = models[model](**init_params[model])\n",
    "\n",
    "                if model != 'KGR':\n",
    "                    opt_params[metric][model] = reg.set_data(features, targets[metric]).optimize()[0]\n",
    "\n",
    "                else:\n",
    "                    opt_params[metric][model] = reg.set_laplacian(laplacian).set_data(features, targets[metric]).optimize()[0]\n",
    "\n",
    "            else:\n",
    "                reg = models['GLSKGR'](**opt_params[metric]['KGR']).set_laplacian(laplacian).set_data(features, targets[metric])\n",
    "                opt_params[metric]['GLSKGR'] = opt_params[metric]['KGR']\n",
    "                reg.solve_GLS()\n",
    "\n",
    "            RMSE['Missing Nodes'][model][metric] = reg.RMSE_missing_nodes()\n",
    "            RMSE['Labelled'][model][metric] = reg.RMSE_labelled()\n",
    "            RMSE['Missing Dates'][model][metric] = reg.RMSE_missing_times()\n",
    "            RMSE['All Unlabelled'][model][metric] = reg.RMSE_unlabelled_full()\n",
    "            \n",
    "    return opt_params, RMSE\n",
    "            "
   ]
  },
  {
   "cell_type": "code",
   "execution_count": 15,
   "metadata": {},
   "outputs": [
    {
     "data": {
      "application/vnd.jupyter.widget-view+json": {
       "model_id": "a987941ebabd4336b7f118a737812933",
       "version_major": 2,
       "version_minor": 0
      },
      "text/plain": [
       "HBox(children=(HTML(value=''), FloatProgress(value=0.0, max=6.0), HTML(value='')))"
      ]
     },
     "metadata": {},
     "output_type": "display_data"
    },
    {
     "data": {
      "application/vnd.jupyter.widget-view+json": {
       "model_id": "",
       "version_major": 2,
       "version_minor": 0
      },
      "text/plain": [
       "HBox(children=(HTML(value=''), FloatProgress(value=0.0, max=5.0), HTML(value='')))"
      ]
     },
     "metadata": {},
     "output_type": "display_data"
    },
    {
     "data": {
      "application/vnd.jupyter.widget-view+json": {
       "model_id": "",
       "version_major": 2,
       "version_minor": 0
      },
      "text/plain": [
       "HBox(children=(HTML(value=''), FloatProgress(value=0.0, max=9.0), HTML(value='')))"
      ]
     },
     "metadata": {},
     "output_type": "display_data"
    },
    {
     "data": {
      "application/vnd.jupyter.widget-view+json": {
       "model_id": "",
       "version_major": 2,
       "version_minor": 0
      },
      "text/plain": [
       "HBox(children=(HTML(value=''), FloatProgress(value=0.0, max=50.0), HTML(value='')))"
      ]
     },
     "metadata": {},
     "output_type": "display_data"
    },
    {
     "data": {
      "application/vnd.jupyter.widget-view+json": {
       "model_id": "",
       "version_major": 2,
       "version_minor": 0
      },
      "text/plain": [
       "HBox(children=(HTML(value=''), FloatProgress(value=0.0, max=50.0), HTML(value='')))"
      ]
     },
     "metadata": {},
     "output_type": "display_data"
    },
    {
     "data": {
      "application/vnd.jupyter.widget-view+json": {
       "model_id": "",
       "version_major": 2,
       "version_minor": 0
      },
      "text/plain": [
       "HBox(children=(HTML(value=''), FloatProgress(value=0.0, max=50.0), HTML(value='')))"
      ]
     },
     "metadata": {},
     "output_type": "display_data"
    },
    {
     "data": {
      "application/vnd.jupyter.widget-view+json": {
       "model_id": "",
       "version_major": 2,
       "version_minor": 0
      },
      "text/plain": [
       "HBox(children=(HTML(value=''), FloatProgress(value=0.0, max=50.0), HTML(value='')))"
      ]
     },
     "metadata": {},
     "output_type": "display_data"
    },
    {
     "data": {
      "application/vnd.jupyter.widget-view+json": {
       "model_id": "",
       "version_major": 2,
       "version_minor": 0
      },
      "text/plain": [
       "HBox(children=(HTML(value=''), FloatProgress(value=0.0, max=50.0), HTML(value='')))"
      ]
     },
     "metadata": {},
     "output_type": "display_data"
    },
    {
     "data": {
      "application/vnd.jupyter.widget-view+json": {
       "model_id": "",
       "version_major": 2,
       "version_minor": 0
      },
      "text/plain": [
       "HBox(children=(HTML(value=''), FloatProgress(value=0.0, max=50.0), HTML(value='')))"
      ]
     },
     "metadata": {},
     "output_type": "display_data"
    },
    {
     "data": {
      "application/vnd.jupyter.widget-view+json": {
       "model_id": "",
       "version_major": 2,
       "version_minor": 0
      },
      "text/plain": [
       "HBox(children=(HTML(value=''), FloatProgress(value=0.0, max=50.0), HTML(value='')))"
      ]
     },
     "metadata": {},
     "output_type": "display_data"
    },
    {
     "data": {
      "application/vnd.jupyter.widget-view+json": {
       "model_id": "",
       "version_major": 2,
       "version_minor": 0
      },
      "text/plain": [
       "HBox(children=(HTML(value=''), FloatProgress(value=0.0, max=50.0), HTML(value='')))"
      ]
     },
     "metadata": {},
     "output_type": "display_data"
    },
    {
     "data": {
      "application/vnd.jupyter.widget-view+json": {
       "model_id": "",
       "version_major": 2,
       "version_minor": 0
      },
      "text/plain": [
       "HBox(children=(HTML(value=''), FloatProgress(value=0.0, max=50.0), HTML(value='')))"
      ]
     },
     "metadata": {},
     "output_type": "display_data"
    },
    {
     "data": {
      "application/vnd.jupyter.widget-view+json": {
       "model_id": "",
       "version_major": 2,
       "version_minor": 0
      },
      "text/plain": [
       "HBox(children=(HTML(value=''), FloatProgress(value=0.0, max=50.0), HTML(value='')))"
      ]
     },
     "metadata": {},
     "output_type": "display_data"
    },
    {
     "data": {
      "application/vnd.jupyter.widget-view+json": {
       "model_id": "",
       "version_major": 2,
       "version_minor": 0
      },
      "text/plain": [
       "HBox(children=(HTML(value=''), FloatProgress(value=0.0, max=50.0), HTML(value='')))"
      ]
     },
     "metadata": {},
     "output_type": "display_data"
    },
    {
     "data": {
      "application/vnd.jupyter.widget-view+json": {
       "model_id": "",
       "version_major": 2,
       "version_minor": 0
      },
      "text/plain": [
       "HBox(children=(HTML(value=''), FloatProgress(value=0.0, max=50.0), HTML(value='')))"
      ]
     },
     "metadata": {},
     "output_type": "display_data"
    },
    {
     "data": {
      "application/vnd.jupyter.widget-view+json": {
       "model_id": "",
       "version_major": 2,
       "version_minor": 0
      },
      "text/plain": [
       "HBox(children=(HTML(value=''), FloatProgress(value=0.0, max=50.0), HTML(value='')))"
      ]
     },
     "metadata": {},
     "output_type": "display_data"
    },
    {
     "data": {
      "application/vnd.jupyter.widget-view+json": {
       "model_id": "",
       "version_major": 2,
       "version_minor": 0
      },
      "text/plain": [
       "HBox(children=(HTML(value=''), FloatProgress(value=0.0, max=5.0), HTML(value='')))"
      ]
     },
     "metadata": {},
     "output_type": "display_data"
    },
    {
     "data": {
      "application/vnd.jupyter.widget-view+json": {
       "model_id": "",
       "version_major": 2,
       "version_minor": 0
      },
      "text/plain": [
       "HBox(children=(HTML(value=''), FloatProgress(value=0.0, max=9.0), HTML(value='')))"
      ]
     },
     "metadata": {},
     "output_type": "display_data"
    },
    {
     "data": {
      "application/vnd.jupyter.widget-view+json": {
       "model_id": "",
       "version_major": 2,
       "version_minor": 0
      },
      "text/plain": [
       "HBox(children=(HTML(value=''), FloatProgress(value=0.0, max=50.0), HTML(value='')))"
      ]
     },
     "metadata": {},
     "output_type": "display_data"
    },
    {
     "data": {
      "application/vnd.jupyter.widget-view+json": {
       "model_id": "",
       "version_major": 2,
       "version_minor": 0
      },
      "text/plain": [
       "HBox(children=(HTML(value=''), FloatProgress(value=0.0, max=50.0), HTML(value='')))"
      ]
     },
     "metadata": {},
     "output_type": "display_data"
    },
    {
     "data": {
      "application/vnd.jupyter.widget-view+json": {
       "model_id": "",
       "version_major": 2,
       "version_minor": 0
      },
      "text/plain": [
       "HBox(children=(HTML(value=''), FloatProgress(value=0.0, max=50.0), HTML(value='')))"
      ]
     },
     "metadata": {},
     "output_type": "display_data"
    },
    {
     "data": {
      "application/vnd.jupyter.widget-view+json": {
       "model_id": "",
       "version_major": 2,
       "version_minor": 0
      },
      "text/plain": [
       "HBox(children=(HTML(value=''), FloatProgress(value=0.0, max=50.0), HTML(value='')))"
      ]
     },
     "metadata": {},
     "output_type": "display_data"
    },
    {
     "data": {
      "application/vnd.jupyter.widget-view+json": {
       "model_id": "",
       "version_major": 2,
       "version_minor": 0
      },
      "text/plain": [
       "HBox(children=(HTML(value=''), FloatProgress(value=0.0, max=50.0), HTML(value='')))"
      ]
     },
     "metadata": {},
     "output_type": "display_data"
    },
    {
     "data": {
      "application/vnd.jupyter.widget-view+json": {
       "model_id": "",
       "version_major": 2,
       "version_minor": 0
      },
      "text/plain": [
       "HBox(children=(HTML(value=''), FloatProgress(value=0.0, max=50.0), HTML(value='')))"
      ]
     },
     "metadata": {},
     "output_type": "display_data"
    },
    {
     "data": {
      "application/vnd.jupyter.widget-view+json": {
       "model_id": "",
       "version_major": 2,
       "version_minor": 0
      },
      "text/plain": [
       "HBox(children=(HTML(value=''), FloatProgress(value=0.0, max=50.0), HTML(value='')))"
      ]
     },
     "metadata": {},
     "output_type": "display_data"
    },
    {
     "data": {
      "application/vnd.jupyter.widget-view+json": {
       "model_id": "",
       "version_major": 2,
       "version_minor": 0
      },
      "text/plain": [
       "HBox(children=(HTML(value=''), FloatProgress(value=0.0, max=50.0), HTML(value='')))"
      ]
     },
     "metadata": {},
     "output_type": "display_data"
    },
    {
     "data": {
      "application/vnd.jupyter.widget-view+json": {
       "model_id": "",
       "version_major": 2,
       "version_minor": 0
      },
      "text/plain": [
       "HBox(children=(HTML(value=''), FloatProgress(value=0.0, max=50.0), HTML(value='')))"
      ]
     },
     "metadata": {},
     "output_type": "display_data"
    },
    {
     "data": {
      "application/vnd.jupyter.widget-view+json": {
       "model_id": "",
       "version_major": 2,
       "version_minor": 0
      },
      "text/plain": [
       "HBox(children=(HTML(value=''), FloatProgress(value=0.0, max=50.0), HTML(value='')))"
      ]
     },
     "metadata": {},
     "output_type": "display_data"
    },
    {
     "data": {
      "application/vnd.jupyter.widget-view+json": {
       "model_id": "",
       "version_major": 2,
       "version_minor": 0
      },
      "text/plain": [
       "HBox(children=(HTML(value=''), FloatProgress(value=0.0, max=50.0), HTML(value='')))"
      ]
     },
     "metadata": {},
     "output_type": "display_data"
    },
    {
     "data": {
      "application/vnd.jupyter.widget-view+json": {
       "model_id": "",
       "version_major": 2,
       "version_minor": 0
      },
      "text/plain": [
       "HBox(children=(HTML(value=''), FloatProgress(value=0.0, max=50.0), HTML(value='')))"
      ]
     },
     "metadata": {},
     "output_type": "display_data"
    },
    {
     "data": {
      "application/vnd.jupyter.widget-view+json": {
       "model_id": "",
       "version_major": 2,
       "version_minor": 0
      },
      "text/plain": [
       "HBox(children=(HTML(value=''), FloatProgress(value=0.0, max=50.0), HTML(value='')))"
      ]
     },
     "metadata": {},
     "output_type": "display_data"
    },
    {
     "data": {
      "application/vnd.jupyter.widget-view+json": {
       "model_id": "",
       "version_major": 2,
       "version_minor": 0
      },
      "text/plain": [
       "HBox(children=(HTML(value=''), FloatProgress(value=0.0, max=5.0), HTML(value='')))"
      ]
     },
     "metadata": {},
     "output_type": "display_data"
    },
    {
     "data": {
      "application/vnd.jupyter.widget-view+json": {
       "model_id": "",
       "version_major": 2,
       "version_minor": 0
      },
      "text/plain": [
       "HBox(children=(HTML(value=''), FloatProgress(value=0.0, max=9.0), HTML(value='')))"
      ]
     },
     "metadata": {},
     "output_type": "display_data"
    },
    {
     "data": {
      "application/vnd.jupyter.widget-view+json": {
       "model_id": "",
       "version_major": 2,
       "version_minor": 0
      },
      "text/plain": [
       "HBox(children=(HTML(value=''), FloatProgress(value=0.0, max=50.0), HTML(value='')))"
      ]
     },
     "metadata": {},
     "output_type": "display_data"
    },
    {
     "data": {
      "application/vnd.jupyter.widget-view+json": {
       "model_id": "",
       "version_major": 2,
       "version_minor": 0
      },
      "text/plain": [
       "HBox(children=(HTML(value=''), FloatProgress(value=0.0, max=50.0), HTML(value='')))"
      ]
     },
     "metadata": {},
     "output_type": "display_data"
    },
    {
     "data": {
      "application/vnd.jupyter.widget-view+json": {
       "model_id": "",
       "version_major": 2,
       "version_minor": 0
      },
      "text/plain": [
       "HBox(children=(HTML(value=''), FloatProgress(value=0.0, max=50.0), HTML(value='')))"
      ]
     },
     "metadata": {},
     "output_type": "display_data"
    },
    {
     "data": {
      "application/vnd.jupyter.widget-view+json": {
       "model_id": "",
       "version_major": 2,
       "version_minor": 0
      },
      "text/plain": [
       "HBox(children=(HTML(value=''), FloatProgress(value=0.0, max=50.0), HTML(value='')))"
      ]
     },
     "metadata": {},
     "output_type": "display_data"
    },
    {
     "data": {
      "application/vnd.jupyter.widget-view+json": {
       "model_id": "",
       "version_major": 2,
       "version_minor": 0
      },
      "text/plain": [
       "HBox(children=(HTML(value=''), FloatProgress(value=0.0, max=50.0), HTML(value='')))"
      ]
     },
     "metadata": {},
     "output_type": "display_data"
    },
    {
     "data": {
      "application/vnd.jupyter.widget-view+json": {
       "model_id": "",
       "version_major": 2,
       "version_minor": 0
      },
      "text/plain": [
       "HBox(children=(HTML(value=''), FloatProgress(value=0.0, max=50.0), HTML(value='')))"
      ]
     },
     "metadata": {},
     "output_type": "display_data"
    },
    {
     "data": {
      "application/vnd.jupyter.widget-view+json": {
       "model_id": "",
       "version_major": 2,
       "version_minor": 0
      },
      "text/plain": [
       "HBox(children=(HTML(value=''), FloatProgress(value=0.0, max=50.0), HTML(value='')))"
      ]
     },
     "metadata": {},
     "output_type": "display_data"
    },
    {
     "data": {
      "application/vnd.jupyter.widget-view+json": {
       "model_id": "",
       "version_major": 2,
       "version_minor": 0
      },
      "text/plain": [
       "HBox(children=(HTML(value=''), FloatProgress(value=0.0, max=50.0), HTML(value='')))"
      ]
     },
     "metadata": {},
     "output_type": "display_data"
    },
    {
     "data": {
      "application/vnd.jupyter.widget-view+json": {
       "model_id": "",
       "version_major": 2,
       "version_minor": 0
      },
      "text/plain": [
       "HBox(children=(HTML(value=''), FloatProgress(value=0.0, max=50.0), HTML(value='')))"
      ]
     },
     "metadata": {},
     "output_type": "display_data"
    },
    {
     "data": {
      "application/vnd.jupyter.widget-view+json": {
       "model_id": "",
       "version_major": 2,
       "version_minor": 0
      },
      "text/plain": [
       "HBox(children=(HTML(value=''), FloatProgress(value=0.0, max=50.0), HTML(value='')))"
      ]
     },
     "metadata": {},
     "output_type": "display_data"
    },
    {
     "data": {
      "application/vnd.jupyter.widget-view+json": {
       "model_id": "",
       "version_major": 2,
       "version_minor": 0
      },
      "text/plain": [
       "HBox(children=(HTML(value=''), FloatProgress(value=0.0, max=50.0), HTML(value='')))"
      ]
     },
     "metadata": {},
     "output_type": "display_data"
    },
    {
     "data": {
      "application/vnd.jupyter.widget-view+json": {
       "model_id": "",
       "version_major": 2,
       "version_minor": 0
      },
      "text/plain": [
       "HBox(children=(HTML(value=''), FloatProgress(value=0.0, max=50.0), HTML(value='')))"
      ]
     },
     "metadata": {},
     "output_type": "display_data"
    },
    {
     "data": {
      "application/vnd.jupyter.widget-view+json": {
       "model_id": "",
       "version_major": 2,
       "version_minor": 0
      },
      "text/plain": [
       "HBox(children=(HTML(value=''), FloatProgress(value=0.0, max=50.0), HTML(value='')))"
      ]
     },
     "metadata": {},
     "output_type": "display_data"
    },
    {
     "data": {
      "application/vnd.jupyter.widget-view+json": {
       "model_id": "",
       "version_major": 2,
       "version_minor": 0
      },
      "text/plain": [
       "HBox(children=(HTML(value=''), FloatProgress(value=0.0, max=5.0), HTML(value='')))"
      ]
     },
     "metadata": {},
     "output_type": "display_data"
    },
    {
     "data": {
      "application/vnd.jupyter.widget-view+json": {
       "model_id": "",
       "version_major": 2,
       "version_minor": 0
      },
      "text/plain": [
       "HBox(children=(HTML(value=''), FloatProgress(value=0.0, max=9.0), HTML(value='')))"
      ]
     },
     "metadata": {},
     "output_type": "display_data"
    },
    {
     "data": {
      "application/vnd.jupyter.widget-view+json": {
       "model_id": "",
       "version_major": 2,
       "version_minor": 0
      },
      "text/plain": [
       "HBox(children=(HTML(value=''), FloatProgress(value=0.0, max=50.0), HTML(value='')))"
      ]
     },
     "metadata": {},
     "output_type": "display_data"
    },
    {
     "data": {
      "application/vnd.jupyter.widget-view+json": {
       "model_id": "",
       "version_major": 2,
       "version_minor": 0
      },
      "text/plain": [
       "HBox(children=(HTML(value=''), FloatProgress(value=0.0, max=50.0), HTML(value='')))"
      ]
     },
     "metadata": {},
     "output_type": "display_data"
    },
    {
     "data": {
      "application/vnd.jupyter.widget-view+json": {
       "model_id": "",
       "version_major": 2,
       "version_minor": 0
      },
      "text/plain": [
       "HBox(children=(HTML(value=''), FloatProgress(value=0.0, max=50.0), HTML(value='')))"
      ]
     },
     "metadata": {},
     "output_type": "display_data"
    },
    {
     "data": {
      "application/vnd.jupyter.widget-view+json": {
       "model_id": "",
       "version_major": 2,
       "version_minor": 0
      },
      "text/plain": [
       "HBox(children=(HTML(value=''), FloatProgress(value=0.0, max=50.0), HTML(value='')))"
      ]
     },
     "metadata": {},
     "output_type": "display_data"
    },
    {
     "data": {
      "application/vnd.jupyter.widget-view+json": {
       "model_id": "",
       "version_major": 2,
       "version_minor": 0
      },
      "text/plain": [
       "HBox(children=(HTML(value=''), FloatProgress(value=0.0, max=50.0), HTML(value='')))"
      ]
     },
     "metadata": {},
     "output_type": "display_data"
    },
    {
     "data": {
      "application/vnd.jupyter.widget-view+json": {
       "model_id": "",
       "version_major": 2,
       "version_minor": 0
      },
      "text/plain": [
       "HBox(children=(HTML(value=''), FloatProgress(value=0.0, max=50.0), HTML(value='')))"
      ]
     },
     "metadata": {},
     "output_type": "display_data"
    },
    {
     "data": {
      "application/vnd.jupyter.widget-view+json": {
       "model_id": "",
       "version_major": 2,
       "version_minor": 0
      },
      "text/plain": [
       "HBox(children=(HTML(value=''), FloatProgress(value=0.0, max=50.0), HTML(value='')))"
      ]
     },
     "metadata": {},
     "output_type": "display_data"
    },
    {
     "data": {
      "application/vnd.jupyter.widget-view+json": {
       "model_id": "",
       "version_major": 2,
       "version_minor": 0
      },
      "text/plain": [
       "HBox(children=(HTML(value=''), FloatProgress(value=0.0, max=50.0), HTML(value='')))"
      ]
     },
     "metadata": {},
     "output_type": "display_data"
    },
    {
     "data": {
      "application/vnd.jupyter.widget-view+json": {
       "model_id": "",
       "version_major": 2,
       "version_minor": 0
      },
      "text/plain": [
       "HBox(children=(HTML(value=''), FloatProgress(value=0.0, max=50.0), HTML(value='')))"
      ]
     },
     "metadata": {},
     "output_type": "display_data"
    },
    {
     "data": {
      "application/vnd.jupyter.widget-view+json": {
       "model_id": "",
       "version_major": 2,
       "version_minor": 0
      },
      "text/plain": [
       "HBox(children=(HTML(value=''), FloatProgress(value=0.0, max=50.0), HTML(value='')))"
      ]
     },
     "metadata": {},
     "output_type": "display_data"
    },
    {
     "data": {
      "application/vnd.jupyter.widget-view+json": {
       "model_id": "",
       "version_major": 2,
       "version_minor": 0
      },
      "text/plain": [
       "HBox(children=(HTML(value=''), FloatProgress(value=0.0, max=50.0), HTML(value='')))"
      ]
     },
     "metadata": {},
     "output_type": "display_data"
    },
    {
     "data": {
      "application/vnd.jupyter.widget-view+json": {
       "model_id": "",
       "version_major": 2,
       "version_minor": 0
      },
      "text/plain": [
       "HBox(children=(HTML(value=''), FloatProgress(value=0.0, max=50.0), HTML(value='')))"
      ]
     },
     "metadata": {},
     "output_type": "display_data"
    },
    {
     "data": {
      "application/vnd.jupyter.widget-view+json": {
       "model_id": "",
       "version_major": 2,
       "version_minor": 0
      },
      "text/plain": [
       "HBox(children=(HTML(value=''), FloatProgress(value=0.0, max=50.0), HTML(value='')))"
      ]
     },
     "metadata": {},
     "output_type": "display_data"
    },
    {
     "data": {
      "application/vnd.jupyter.widget-view+json": {
       "model_id": "",
       "version_major": 2,
       "version_minor": 0
      },
      "text/plain": [
       "HBox(children=(HTML(value=''), FloatProgress(value=0.0, max=5.0), HTML(value='')))"
      ]
     },
     "metadata": {},
     "output_type": "display_data"
    },
    {
     "data": {
      "application/vnd.jupyter.widget-view+json": {
       "model_id": "",
       "version_major": 2,
       "version_minor": 0
      },
      "text/plain": [
       "HBox(children=(HTML(value=''), FloatProgress(value=0.0, max=9.0), HTML(value='')))"
      ]
     },
     "metadata": {},
     "output_type": "display_data"
    },
    {
     "data": {
      "application/vnd.jupyter.widget-view+json": {
       "model_id": "",
       "version_major": 2,
       "version_minor": 0
      },
      "text/plain": [
       "HBox(children=(HTML(value=''), FloatProgress(value=0.0, max=50.0), HTML(value='')))"
      ]
     },
     "metadata": {},
     "output_type": "display_data"
    },
    {
     "data": {
      "application/vnd.jupyter.widget-view+json": {
       "model_id": "",
       "version_major": 2,
       "version_minor": 0
      },
      "text/plain": [
       "HBox(children=(HTML(value=''), FloatProgress(value=0.0, max=50.0), HTML(value='')))"
      ]
     },
     "metadata": {},
     "output_type": "display_data"
    },
    {
     "data": {
      "application/vnd.jupyter.widget-view+json": {
       "model_id": "",
       "version_major": 2,
       "version_minor": 0
      },
      "text/plain": [
       "HBox(children=(HTML(value=''), FloatProgress(value=0.0, max=50.0), HTML(value='')))"
      ]
     },
     "metadata": {},
     "output_type": "display_data"
    },
    {
     "data": {
      "application/vnd.jupyter.widget-view+json": {
       "model_id": "",
       "version_major": 2,
       "version_minor": 0
      },
      "text/plain": [
       "HBox(children=(HTML(value=''), FloatProgress(value=0.0, max=50.0), HTML(value='')))"
      ]
     },
     "metadata": {},
     "output_type": "display_data"
    },
    {
     "data": {
      "application/vnd.jupyter.widget-view+json": {
       "model_id": "",
       "version_major": 2,
       "version_minor": 0
      },
      "text/plain": [
       "HBox(children=(HTML(value=''), FloatProgress(value=0.0, max=50.0), HTML(value='')))"
      ]
     },
     "metadata": {},
     "output_type": "display_data"
    },
    {
     "data": {
      "application/vnd.jupyter.widget-view+json": {
       "model_id": "",
       "version_major": 2,
       "version_minor": 0
      },
      "text/plain": [
       "HBox(children=(HTML(value=''), FloatProgress(value=0.0, max=50.0), HTML(value='')))"
      ]
     },
     "metadata": {},
     "output_type": "display_data"
    },
    {
     "data": {
      "application/vnd.jupyter.widget-view+json": {
       "model_id": "",
       "version_major": 2,
       "version_minor": 0
      },
      "text/plain": [
       "HBox(children=(HTML(value=''), FloatProgress(value=0.0, max=50.0), HTML(value='')))"
      ]
     },
     "metadata": {},
     "output_type": "display_data"
    },
    {
     "data": {
      "application/vnd.jupyter.widget-view+json": {
       "model_id": "",
       "version_major": 2,
       "version_minor": 0
      },
      "text/plain": [
       "HBox(children=(HTML(value=''), FloatProgress(value=0.0, max=50.0), HTML(value='')))"
      ]
     },
     "metadata": {},
     "output_type": "display_data"
    },
    {
     "data": {
      "application/vnd.jupyter.widget-view+json": {
       "model_id": "",
       "version_major": 2,
       "version_minor": 0
      },
      "text/plain": [
       "HBox(children=(HTML(value=''), FloatProgress(value=0.0, max=50.0), HTML(value='')))"
      ]
     },
     "metadata": {},
     "output_type": "display_data"
    },
    {
     "data": {
      "application/vnd.jupyter.widget-view+json": {
       "model_id": "",
       "version_major": 2,
       "version_minor": 0
      },
      "text/plain": [
       "HBox(children=(HTML(value=''), FloatProgress(value=0.0, max=50.0), HTML(value='')))"
      ]
     },
     "metadata": {},
     "output_type": "display_data"
    },
    {
     "data": {
      "application/vnd.jupyter.widget-view+json": {
       "model_id": "",
       "version_major": 2,
       "version_minor": 0
      },
      "text/plain": [
       "HBox(children=(HTML(value=''), FloatProgress(value=0.0, max=50.0), HTML(value='')))"
      ]
     },
     "metadata": {},
     "output_type": "display_data"
    },
    {
     "data": {
      "application/vnd.jupyter.widget-view+json": {
       "model_id": "",
       "version_major": 2,
       "version_minor": 0
      },
      "text/plain": [
       "HBox(children=(HTML(value=''), FloatProgress(value=0.0, max=50.0), HTML(value='')))"
      ]
     },
     "metadata": {},
     "output_type": "display_data"
    },
    {
     "data": {
      "application/vnd.jupyter.widget-view+json": {
       "model_id": "",
       "version_major": 2,
       "version_minor": 0
      },
      "text/plain": [
       "HBox(children=(HTML(value=''), FloatProgress(value=0.0, max=50.0), HTML(value='')))"
      ]
     },
     "metadata": {},
     "output_type": "display_data"
    },
    {
     "data": {
      "application/vnd.jupyter.widget-view+json": {
       "model_id": "",
       "version_major": 2,
       "version_minor": 0
      },
      "text/plain": [
       "HBox(children=(HTML(value=''), FloatProgress(value=0.0, max=5.0), HTML(value='')))"
      ]
     },
     "metadata": {},
     "output_type": "display_data"
    },
    {
     "data": {
      "application/vnd.jupyter.widget-view+json": {
       "model_id": "",
       "version_major": 2,
       "version_minor": 0
      },
      "text/plain": [
       "HBox(children=(HTML(value=''), FloatProgress(value=0.0, max=9.0), HTML(value='')))"
      ]
     },
     "metadata": {},
     "output_type": "display_data"
    },
    {
     "data": {
      "application/vnd.jupyter.widget-view+json": {
       "model_id": "",
       "version_major": 2,
       "version_minor": 0
      },
      "text/plain": [
       "HBox(children=(HTML(value=''), FloatProgress(value=0.0, max=50.0), HTML(value='')))"
      ]
     },
     "metadata": {},
     "output_type": "display_data"
    },
    {
     "data": {
      "application/vnd.jupyter.widget-view+json": {
       "model_id": "",
       "version_major": 2,
       "version_minor": 0
      },
      "text/plain": [
       "HBox(children=(HTML(value=''), FloatProgress(value=0.0, max=50.0), HTML(value='')))"
      ]
     },
     "metadata": {},
     "output_type": "display_data"
    },
    {
     "data": {
      "application/vnd.jupyter.widget-view+json": {
       "model_id": "",
       "version_major": 2,
       "version_minor": 0
      },
      "text/plain": [
       "HBox(children=(HTML(value=''), FloatProgress(value=0.0, max=50.0), HTML(value='')))"
      ]
     },
     "metadata": {},
     "output_type": "display_data"
    },
    {
     "data": {
      "application/vnd.jupyter.widget-view+json": {
       "model_id": "",
       "version_major": 2,
       "version_minor": 0
      },
      "text/plain": [
       "HBox(children=(HTML(value=''), FloatProgress(value=0.0, max=50.0), HTML(value='')))"
      ]
     },
     "metadata": {},
     "output_type": "display_data"
    },
    {
     "data": {
      "application/vnd.jupyter.widget-view+json": {
       "model_id": "",
       "version_major": 2,
       "version_minor": 0
      },
      "text/plain": [
       "HBox(children=(HTML(value=''), FloatProgress(value=0.0, max=50.0), HTML(value='')))"
      ]
     },
     "metadata": {},
     "output_type": "display_data"
    },
    {
     "data": {
      "application/vnd.jupyter.widget-view+json": {
       "model_id": "",
       "version_major": 2,
       "version_minor": 0
      },
      "text/plain": [
       "HBox(children=(HTML(value=''), FloatProgress(value=0.0, max=50.0), HTML(value='')))"
      ]
     },
     "metadata": {},
     "output_type": "display_data"
    },
    {
     "data": {
      "application/vnd.jupyter.widget-view+json": {
       "model_id": "",
       "version_major": 2,
       "version_minor": 0
      },
      "text/plain": [
       "HBox(children=(HTML(value=''), FloatProgress(value=0.0, max=50.0), HTML(value='')))"
      ]
     },
     "metadata": {},
     "output_type": "display_data"
    },
    {
     "data": {
      "application/vnd.jupyter.widget-view+json": {
       "model_id": "",
       "version_major": 2,
       "version_minor": 0
      },
      "text/plain": [
       "HBox(children=(HTML(value=''), FloatProgress(value=0.0, max=50.0), HTML(value='')))"
      ]
     },
     "metadata": {},
     "output_type": "display_data"
    },
    {
     "data": {
      "application/vnd.jupyter.widget-view+json": {
       "model_id": "",
       "version_major": 2,
       "version_minor": 0
      },
      "text/plain": [
       "HBox(children=(HTML(value=''), FloatProgress(value=0.0, max=50.0), HTML(value='')))"
      ]
     },
     "metadata": {},
     "output_type": "display_data"
    },
    {
     "data": {
      "application/vnd.jupyter.widget-view+json": {
       "model_id": "",
       "version_major": 2,
       "version_minor": 0
      },
      "text/plain": [
       "HBox(children=(HTML(value=''), FloatProgress(value=0.0, max=50.0), HTML(value='')))"
      ]
     },
     "metadata": {},
     "output_type": "display_data"
    },
    {
     "data": {
      "application/vnd.jupyter.widget-view+json": {
       "model_id": "",
       "version_major": 2,
       "version_minor": 0
      },
      "text/plain": [
       "HBox(children=(HTML(value=''), FloatProgress(value=0.0, max=50.0), HTML(value='')))"
      ]
     },
     "metadata": {},
     "output_type": "display_data"
    },
    {
     "data": {
      "application/vnd.jupyter.widget-view+json": {
       "model_id": "",
       "version_major": 2,
       "version_minor": 0
      },
      "text/plain": [
       "HBox(children=(HTML(value=''), FloatProgress(value=0.0, max=50.0), HTML(value='')))"
      ]
     },
     "metadata": {},
     "output_type": "display_data"
    },
    {
     "data": {
      "application/vnd.jupyter.widget-view+json": {
       "model_id": "",
       "version_major": 2,
       "version_minor": 0
      },
      "text/plain": [
       "HBox(children=(HTML(value=''), FloatProgress(value=0.0, max=50.0), HTML(value='')))"
      ]
     },
     "metadata": {},
     "output_type": "display_data"
    },
    {
     "name": "stdout",
     "output_type": "stream",
     "text": [
      "\n"
     ]
    }
   ],
   "source": [
    "opt_params, RMSE = get_results()"
   ]
  },
  {
   "cell_type": "code",
   "execution_count": 65,
   "metadata": {},
   "outputs": [],
   "source": [
    "pd.DataFrame(RMSE['All Unlabelled']).T.drop('SO2', axis=1).to_csv('results/unlabelled_full.csv')"
   ]
  },
  {
   "cell_type": "code",
   "execution_count": 66,
   "metadata": {},
   "outputs": [],
   "source": [
    "pd.DataFrame(RMSE['Missing Nodes']).T.drop('SO2', axis=1).to_csv('results/missing_nodes.csv')"
   ]
  },
  {
   "cell_type": "code",
   "execution_count": 67,
   "metadata": {},
   "outputs": [],
   "source": [
    "pd.DataFrame(RMSE['Missing Dates']).T.drop('SO2', axis=1).to_csv('results/unlabelled_dates.csv')"
   ]
  },
  {
   "cell_type": "code",
   "execution_count": 68,
   "metadata": {},
   "outputs": [],
   "source": [
    "pd.DataFrame(RMSE['Labelled']).T.drop('SO2', axis=1).to_csv('results/labelled.csv')"
   ]
  },
  {
   "cell_type": "code",
   "execution_count": null,
   "metadata": {},
   "outputs": [],
   "source": []
  }
 ],
 "metadata": {
  "kernelspec": {
   "display_name": "Python 3",
   "language": "python",
   "name": "python3"
  },
  "language_info": {
   "codemirror_mode": {
    "name": "ipython",
    "version": 3
   },
   "file_extension": ".py",
   "mimetype": "text/x-python",
   "name": "python",
   "nbconvert_exporter": "python",
   "pygments_lexer": "ipython3",
   "version": "3.7.3"
  }
 },
 "nbformat": 4,
 "nbformat_minor": 2
}
