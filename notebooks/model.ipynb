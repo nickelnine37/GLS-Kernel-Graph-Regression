{
 "cells": [
  {
   "cell_type": "code",
   "execution_count": 1,
   "metadata": {},
   "outputs": [
    {
     "data": {
      "text/html": [
       "<style>.container { width:90% !important; }</style>"
      ],
      "text/plain": [
       "<IPython.core.display.HTML object>"
      ]
     },
     "metadata": {},
     "output_type": "display_data"
    }
   ],
   "source": [
    "from IPython.core.display import display, HTML\n",
    "display(HTML(\"<style>.container { width:90% !important; }</style>\"))"
   ]
  },
  {
   "cell_type": "code",
   "execution_count": 2,
   "metadata": {},
   "outputs": [],
   "source": [
    "%load_ext autoreload\n",
    "%autoreload 2"
   ]
  },
  {
   "cell_type": "code",
   "execution_count": 3,
   "metadata": {},
   "outputs": [
    {
     "name": "stderr",
     "output_type": "stream",
     "text": [
      "/home/ed/miniconda3/lib/python3.7/site-packages/ipykernel_launcher.py:4: TqdmExperimentalWarning: Using `tqdm.autonotebook.tqdm` in notebook mode. Use `tqdm.tqdm` instead to force console mode (e.g. in jupyter console)\n",
      "  after removing the cwd from sys.path.\n"
     ]
    }
   ],
   "source": [
    "import numpy as np\n",
    "import matplotlib.pyplot as plt\n",
    "import pandas as pd\n",
    "from tqdm.autonotebook import tqdm\n"
   ]
  },
  {
   "cell_type": "code",
   "execution_count": 4,
   "metadata": {},
   "outputs": [],
   "source": [
    "%matplotlib notebook\n",
    "np.set_printoptions(precision=4, linewidth=500, threshold=500, suppress=True)"
   ]
  },
  {
   "cell_type": "code",
   "execution_count": 5,
   "metadata": {},
   "outputs": [],
   "source": [
    "import sys\n",
    "sys.path.append('..')"
   ]
  },
  {
   "cell_type": "code",
   "execution_count": 295,
   "metadata": {},
   "outputs": [],
   "source": [
    "from model.laplacian import Laplacian\n",
    "from model.features import Features\n",
    "from model.targets import Targets\n",
    "from model.regression.basic import LinearRegression, LassoRegression, RidgeRegression, NaiveRegression\n",
    "from model.regression.glskgr import GLSKGR, GraphFeaturesGLSKGR\n",
    "from model.regression.kgr import KGR, GraphFeaturesKGR\n",
    "\n",
    "from model.utils import diag_i, make_ST"
   ]
  },
  {
   "cell_type": "code",
   "execution_count": 7,
   "metadata": {},
   "outputs": [],
   "source": [
    "laplacian = Laplacian()"
   ]
  },
  {
   "cell_type": "code",
   "execution_count": 240,
   "metadata": {},
   "outputs": [],
   "source": [
    "features = Features(transform='quantile')"
   ]
  },
  {
   "cell_type": "code",
   "execution_count": 29,
   "metadata": {},
   "outputs": [],
   "source": [
    "metrics = ['Ozone', 'SO2', 'CO', 'NO2', 'PM25', 'PM10']\n",
    "\n",
    "targets = {metric: Targets(metric, transform='log') for metric in metrics}"
   ]
  },
  {
   "cell_type": "code",
   "execution_count": 31,
   "metadata": {},
   "outputs": [],
   "source": [
    "model_kgr = KGR(gamma= 0.0037, K_std=20, filter_func='sigmoid', beta=62).set_laplacian(laplacian).set_data(features, targets['Ozone'])"
   ]
  },
  {
   "cell_type": "code",
   "execution_count": 34,
   "metadata": {},
   "outputs": [
    {
     "data": {
      "application/vnd.jupyter.widget-view+json": {
       "model_id": "",
       "version_major": 2,
       "version_minor": 0
      },
      "text/plain": [
       "HBox(children=(HTML(value=''), FloatProgress(value=0.0, max=9.0), HTML(value='')))"
      ]
     },
     "metadata": {},
     "output_type": "display_data"
    },
    {
     "data": {
      "application/vnd.jupyter.widget-view+json": {
       "model_id": "",
       "version_major": 2,
       "version_minor": 0
      },
      "text/plain": [
       "HBox(children=(HTML(value=''), FloatProgress(value=0.0, max=50.0), HTML(value='')))"
      ]
     },
     "metadata": {},
     "output_type": "display_data"
    },
    {
     "data": {
      "application/vnd.jupyter.widget-view+json": {
       "model_id": "",
       "version_major": 2,
       "version_minor": 0
      },
      "text/plain": [
       "HBox(children=(HTML(value=''), FloatProgress(value=0.0, max=50.0), HTML(value='')))"
      ]
     },
     "metadata": {},
     "output_type": "display_data"
    },
    {
     "data": {
      "application/vnd.jupyter.widget-view+json": {
       "model_id": "",
       "version_major": 2,
       "version_minor": 0
      },
      "text/plain": [
       "HBox(children=(HTML(value=''), FloatProgress(value=0.0, max=50.0), HTML(value='')))"
      ]
     },
     "metadata": {},
     "output_type": "display_data"
    },
    {
     "data": {
      "application/vnd.jupyter.widget-view+json": {
       "model_id": "",
       "version_major": 2,
       "version_minor": 0
      },
      "text/plain": [
       "HBox(children=(HTML(value=''), FloatProgress(value=0.0, max=50.0), HTML(value='')))"
      ]
     },
     "metadata": {},
     "output_type": "display_data"
    },
    {
     "data": {
      "application/vnd.jupyter.widget-view+json": {
       "model_id": "",
       "version_major": 2,
       "version_minor": 0
      },
      "text/plain": [
       "HBox(children=(HTML(value=''), FloatProgress(value=0.0, max=50.0), HTML(value='')))"
      ]
     },
     "metadata": {},
     "output_type": "display_data"
    },
    {
     "data": {
      "application/vnd.jupyter.widget-view+json": {
       "model_id": "",
       "version_major": 2,
       "version_minor": 0
      },
      "text/plain": [
       "HBox(children=(HTML(value=''), FloatProgress(value=0.0, max=50.0), HTML(value='')))"
      ]
     },
     "metadata": {},
     "output_type": "display_data"
    },
    {
     "data": {
      "application/vnd.jupyter.widget-view+json": {
       "model_id": "",
       "version_major": 2,
       "version_minor": 0
      },
      "text/plain": [
       "HBox(children=(HTML(value=''), FloatProgress(value=0.0, max=50.0), HTML(value='')))"
      ]
     },
     "metadata": {},
     "output_type": "display_data"
    },
    {
     "data": {
      "application/vnd.jupyter.widget-view+json": {
       "model_id": "",
       "version_major": 2,
       "version_minor": 0
      },
      "text/plain": [
       "HBox(children=(HTML(value=''), FloatProgress(value=0.0, max=50.0), HTML(value='')))"
      ]
     },
     "metadata": {},
     "output_type": "display_data"
    },
    {
     "data": {
      "application/vnd.jupyter.widget-view+json": {
       "model_id": "",
       "version_major": 2,
       "version_minor": 0
      },
      "text/plain": [
       "HBox(children=(HTML(value=''), FloatProgress(value=0.0, max=50.0), HTML(value='')))"
      ]
     },
     "metadata": {},
     "output_type": "display_data"
    },
    {
     "data": {
      "text/plain": [
       "({'gamma': 0.05179474679231213,\n",
       "  'K_std': 12.648552168552959,\n",
       "  'filter_func': 'sigmoid',\n",
       "  'beta': 5.963623316594643},\n",
       " 0.6111765405919927)"
      ]
     },
     "execution_count": 34,
     "metadata": {},
     "output_type": "execute_result"
    }
   ],
   "source": [
    "model_kgr.optimize()"
   ]
  },
  {
   "cell_type": "code",
   "execution_count": 241,
   "metadata": {},
   "outputs": [],
   "source": [
    "model = GraphFeaturesKGR(gamma= 0.0037, beta_f=5, filter_func='exponential', beta=62).set_laplacian(laplacian).set_data(features, targets['Ozone'])"
   ]
  },
  {
   "cell_type": "code",
   "execution_count": 245,
   "metadata": {},
   "outputs": [
    {
     "data": {
      "application/vnd.jupyter.widget-view+json": {
       "model_id": "",
       "version_major": 2,
       "version_minor": 0
      },
      "text/plain": [
       "HBox(children=(HTML(value=''), FloatProgress(value=0.0, max=9.0), HTML(value='')))"
      ]
     },
     "metadata": {},
     "output_type": "display_data"
    },
    {
     "data": {
      "application/vnd.jupyter.widget-view+json": {
       "model_id": "",
       "version_major": 2,
       "version_minor": 0
      },
      "text/plain": [
       "HBox(children=(HTML(value=''), FloatProgress(value=0.0, max=50.0), HTML(value='')))"
      ]
     },
     "metadata": {},
     "output_type": "display_data"
    },
    {
     "data": {
      "application/vnd.jupyter.widget-view+json": {
       "model_id": "",
       "version_major": 2,
       "version_minor": 0
      },
      "text/plain": [
       "HBox(children=(HTML(value=''), FloatProgress(value=0.0, max=50.0), HTML(value='')))"
      ]
     },
     "metadata": {},
     "output_type": "display_data"
    },
    {
     "data": {
      "application/vnd.jupyter.widget-view+json": {
       "model_id": "",
       "version_major": 2,
       "version_minor": 0
      },
      "text/plain": [
       "HBox(children=(HTML(value=''), FloatProgress(value=0.0, max=50.0), HTML(value='')))"
      ]
     },
     "metadata": {},
     "output_type": "display_data"
    },
    {
     "data": {
      "application/vnd.jupyter.widget-view+json": {
       "model_id": "",
       "version_major": 2,
       "version_minor": 0
      },
      "text/plain": [
       "HBox(children=(HTML(value=''), FloatProgress(value=0.0, max=50.0), HTML(value='')))"
      ]
     },
     "metadata": {},
     "output_type": "display_data"
    },
    {
     "data": {
      "application/vnd.jupyter.widget-view+json": {
       "model_id": "",
       "version_major": 2,
       "version_minor": 0
      },
      "text/plain": [
       "HBox(children=(HTML(value=''), FloatProgress(value=0.0, max=50.0), HTML(value='')))"
      ]
     },
     "metadata": {},
     "output_type": "display_data"
    },
    {
     "data": {
      "application/vnd.jupyter.widget-view+json": {
       "model_id": "",
       "version_major": 2,
       "version_minor": 0
      },
      "text/plain": [
       "HBox(children=(HTML(value=''), FloatProgress(value=0.0, max=50.0), HTML(value='')))"
      ]
     },
     "metadata": {},
     "output_type": "display_data"
    },
    {
     "data": {
      "application/vnd.jupyter.widget-view+json": {
       "model_id": "",
       "version_major": 2,
       "version_minor": 0
      },
      "text/plain": [
       "HBox(children=(HTML(value=''), FloatProgress(value=0.0, max=50.0), HTML(value='')))"
      ]
     },
     "metadata": {},
     "output_type": "display_data"
    },
    {
     "data": {
      "application/vnd.jupyter.widget-view+json": {
       "model_id": "",
       "version_major": 2,
       "version_minor": 0
      },
      "text/plain": [
       "HBox(children=(HTML(value=''), FloatProgress(value=0.0, max=50.0), HTML(value='')))"
      ]
     },
     "metadata": {},
     "output_type": "display_data"
    },
    {
     "data": {
      "application/vnd.jupyter.widget-view+json": {
       "model_id": "",
       "version_major": 2,
       "version_minor": 0
      },
      "text/plain": [
       "HBox(children=(HTML(value=''), FloatProgress(value=0.0, max=50.0), HTML(value='')))"
      ]
     },
     "metadata": {},
     "output_type": "display_data"
    },
    {
     "data": {
      "text/plain": [
       "({'gamma': 0.0019306977288832496,\n",
       "  'K_std': 20,\n",
       "  'filter_func': 'exponential',\n",
       "  'beta': 8.685113737513525,\n",
       "  'beta_f': 2.8117686979742302},\n",
       " 0.6629787707589792)"
      ]
     },
     "execution_count": 245,
     "metadata": {},
     "output_type": "execute_result"
    }
   ],
   "source": [
    "model.optimize()"
   ]
  },
  {
   "cell_type": "code",
   "execution_count": 268,
   "metadata": {},
   "outputs": [],
   "source": [
    "model_glsgf = GraphFeaturesGLSKGR(**{'gamma': 0.0019306977288832496,\n",
    "  'filter_func': 'exponential',\n",
    "  'beta': 8.685113737513525,\n",
    "  'beta_f': 2.8117686979742302}).set_laplacian(laplacian).set_data(features, targets['Ozone'])"
   ]
  },
  {
   "cell_type": "code",
   "execution_count": 269,
   "metadata": {},
   "outputs": [
    {
     "data": {
      "text/plain": [
       "<model.regression.glskgr.GraphFeaturesGLSKGR at 0x7f1532517588>"
      ]
     },
     "execution_count": 269,
     "metadata": {},
     "output_type": "execute_result"
    }
   ],
   "source": [
    "model_glsgf.solve_GLS()"
   ]
  },
  {
   "cell_type": "code",
   "execution_count": 270,
   "metadata": {},
   "outputs": [
    {
     "data": {
      "text/plain": [
       "0.7813106061337386"
      ]
     },
     "execution_count": 270,
     "metadata": {},
     "output_type": "execute_result"
    }
   ],
   "source": [
    "model_glsgf.RMSE_unlabelled_full()"
   ]
  },
  {
   "cell_type": "code",
   "execution_count": 273,
   "metadata": {},
   "outputs": [
    {
     "data": {
      "text/plain": [
       "<model.regression.glskgr.GraphFeaturesGLSKGR at 0x7f1532517588>"
      ]
     },
     "execution_count": 273,
     "metadata": {},
     "output_type": "execute_result"
    }
   ],
   "source": [
    "model_glsgf.set_Fvar()"
   ]
  },
  {
   "cell_type": "code",
   "execution_count": 276,
   "metadata": {},
   "outputs": [
    {
     "data": {
      "text/plain": [
       "array([[0.0903, 0.1621, 0.1301, ..., 0.4351, 0.4205, 0.3548],\n",
       "       [0.0908, 0.1676, 0.1332, ..., 0.459 , 0.4437, 0.3742],\n",
       "       [0.3858, 0.4954, 0.457 , ..., 0.6833, 0.6514, 0.5635],\n",
       "       ...,\n",
       "       [0.093 , 0.1563, 0.1314, ..., 0.3213, 0.3083, 0.2624],\n",
       "       [0.0969, 0.1619, 0.1366, ..., 0.3292, 0.3157, 0.2689],\n",
       "       [0.0943, 0.1683, 0.1383, ..., 0.3683, 0.3542, 0.3009]])"
      ]
     },
     "execution_count": 276,
     "metadata": {},
     "output_type": "execute_result"
    }
   ],
   "source": [
    "np.real(model_glsgf.Fvar) ** 0.5"
   ]
  },
  {
   "cell_type": "code",
   "execution_count": 278,
   "metadata": {},
   "outputs": [
    {
     "data": {
      "text/plain": [
       "0.0019306977288832496"
      ]
     },
     "execution_count": 278,
     "metadata": {},
     "output_type": "execute_result"
    }
   ],
   "source": [
    "model_glsgf.params['gamma']"
   ]
  },
  {
   "cell_type": "code",
   "execution_count": 300,
   "metadata": {},
   "outputs": [
    {
     "data": {
      "text/plain": [
       "array([[0.3705, 0.3705, 0.3705, ..., 0.3705, 0.3705, 0.3705],\n",
       "       [0.4829, 0.4829, 0.4829, ..., 0.4829, 0.4829, 0.4829],\n",
       "       [0.4502, 0.4502, 0.4502, ..., 0.4502, 0.4502, 0.4502],\n",
       "       ...,\n",
       "       [0.2332, 0.2332, 0.2332, ..., 0.2332, 0.2332, 0.2332],\n",
       "       [0.4356, 0.4356, 0.4356, ..., 0.4356, 0.4356, 0.4356],\n",
       "       [0.28  , 0.28  , 0.28  , ..., 0.28  , 0.28  , 0.28  ]])"
      ]
     },
     "execution_count": 300,
     "metadata": {},
     "output_type": "execute_result"
    }
   ],
   "source": [
    "np.outer(diag_i(model_glsgf.SN), diag_i(make_ST(model_glsgf.targets.T_, model_glsgf.theta)))"
   ]
  },
  {
   "cell_type": "code",
   "execution_count": 296,
   "metadata": {},
   "outputs": [
    {
     "data": {
      "text/plain": [
       "array([1., 1., 1., ..., 1., 1., 1.])"
      ]
     },
     "execution_count": 296,
     "metadata": {},
     "output_type": "execute_result"
    }
   ],
   "source": []
  },
  {
   "cell_type": "code",
   "execution_count": 285,
   "metadata": {},
   "outputs": [],
   "source": [
    "A = np.random.normal(size=(10, 10))"
   ]
  },
  {
   "cell_type": "code",
   "execution_count": 306,
   "metadata": {},
   "outputs": [
    {
     "data": {
      "text/plain": [
       "array([[0.6444, 0.8207, 0.6912, 0.7512, 0.6728],\n",
       "       [0.6539, 0.8438, 0.7201, 0.7809, 0.6899]])"
      ]
     },
     "execution_count": 306,
     "metadata": {},
     "output_type": "execute_result"
    }
   ],
   "source": [
    "G = np.array([[0.6444, 0.8207, 0.6912, 0.7512, 0.6728],\n",
    " [0.6539, 0.8438, 0.7201, 0.7809, 0.6899]])\n",
    "\n",
    "G"
   ]
  },
  {
   "cell_type": "code",
   "execution_count": 307,
   "metadata": {},
   "outputs": [
    {
     "data": {
      "text/plain": [
       "array([[0.6835, 0.8602, 0.7392, 0.7859, 0.7008],\n",
       "       [0.6706, 0.8685, 0.7703, 0.8003, 0.6957]])"
      ]
     },
     "execution_count": 307,
     "metadata": {},
     "output_type": "execute_result"
    }
   ],
   "source": [
    "G + np.abs(np.random.normal(loc=0, scale=0.03, size=G.shape))"
   ]
  },
  {
   "cell_type": "code",
   "execution_count": 309,
   "metadata": {},
   "outputs": [
    {
     "data": {
      "text/plain": [
       "(1382, 1570)"
      ]
     },
     "execution_count": 309,
     "metadata": {},
     "output_type": "execute_result"
    }
   ],
   "source": [
    "model_kgr.Fvar.shape"
   ]
  },
  {
   "cell_type": "code",
   "execution_count": 310,
   "metadata": {},
   "outputs": [
    {
     "data": {
      "text/plain": [
       "1570"
      ]
     },
     "execution_count": 310,
     "metadata": {},
     "output_type": "execute_result"
    }
   ],
   "source": [
    "model_kgr.targets.T"
   ]
  },
  {
   "cell_type": "code",
   "execution_count": 277,
   "metadata": {},
   "outputs": [
    {
     "data": {
      "application/javascript": [
       "/* Put everything inside the global mpl namespace */\n",
       "window.mpl = {};\n",
       "\n",
       "\n",
       "mpl.get_websocket_type = function() {\n",
       "    if (typeof(WebSocket) !== 'undefined') {\n",
       "        return WebSocket;\n",
       "    } else if (typeof(MozWebSocket) !== 'undefined') {\n",
       "        return MozWebSocket;\n",
       "    } else {\n",
       "        alert('Your browser does not have WebSocket support. ' +\n",
       "              'Please try Chrome, Safari or Firefox ≥ 6. ' +\n",
       "              'Firefox 4 and 5 are also supported but you ' +\n",
       "              'have to enable WebSockets in about:config.');\n",
       "    };\n",
       "}\n",
       "\n",
       "mpl.figure = function(figure_id, websocket, ondownload, parent_element) {\n",
       "    this.id = figure_id;\n",
       "\n",
       "    this.ws = websocket;\n",
       "\n",
       "    this.supports_binary = (this.ws.binaryType != undefined);\n",
       "\n",
       "    if (!this.supports_binary) {\n",
       "        var warnings = document.getElementById(\"mpl-warnings\");\n",
       "        if (warnings) {\n",
       "            warnings.style.display = 'block';\n",
       "            warnings.textContent = (\n",
       "                \"This browser does not support binary websocket messages. \" +\n",
       "                    \"Performance may be slow.\");\n",
       "        }\n",
       "    }\n",
       "\n",
       "    this.imageObj = new Image();\n",
       "\n",
       "    this.context = undefined;\n",
       "    this.message = undefined;\n",
       "    this.canvas = undefined;\n",
       "    this.rubberband_canvas = undefined;\n",
       "    this.rubberband_context = undefined;\n",
       "    this.format_dropdown = undefined;\n",
       "\n",
       "    this.image_mode = 'full';\n",
       "\n",
       "    this.root = $('<div/>');\n",
       "    this._root_extra_style(this.root)\n",
       "    this.root.attr('style', 'display: inline-block');\n",
       "\n",
       "    $(parent_element).append(this.root);\n",
       "\n",
       "    this._init_header(this);\n",
       "    this._init_canvas(this);\n",
       "    this._init_toolbar(this);\n",
       "\n",
       "    var fig = this;\n",
       "\n",
       "    this.waiting = false;\n",
       "\n",
       "    this.ws.onopen =  function () {\n",
       "            fig.send_message(\"supports_binary\", {value: fig.supports_binary});\n",
       "            fig.send_message(\"send_image_mode\", {});\n",
       "            if (mpl.ratio != 1) {\n",
       "                fig.send_message(\"set_dpi_ratio\", {'dpi_ratio': mpl.ratio});\n",
       "            }\n",
       "            fig.send_message(\"refresh\", {});\n",
       "        }\n",
       "\n",
       "    this.imageObj.onload = function() {\n",
       "            if (fig.image_mode == 'full') {\n",
       "                // Full images could contain transparency (where diff images\n",
       "                // almost always do), so we need to clear the canvas so that\n",
       "                // there is no ghosting.\n",
       "                fig.context.clearRect(0, 0, fig.canvas.width, fig.canvas.height);\n",
       "            }\n",
       "            fig.context.drawImage(fig.imageObj, 0, 0);\n",
       "        };\n",
       "\n",
       "    this.imageObj.onunload = function() {\n",
       "        fig.ws.close();\n",
       "    }\n",
       "\n",
       "    this.ws.onmessage = this._make_on_message_function(this);\n",
       "\n",
       "    this.ondownload = ondownload;\n",
       "}\n",
       "\n",
       "mpl.figure.prototype._init_header = function() {\n",
       "    var titlebar = $(\n",
       "        '<div class=\"ui-dialog-titlebar ui-widget-header ui-corner-all ' +\n",
       "        'ui-helper-clearfix\"/>');\n",
       "    var titletext = $(\n",
       "        '<div class=\"ui-dialog-title\" style=\"width: 100%; ' +\n",
       "        'text-align: center; padding: 3px;\"/>');\n",
       "    titlebar.append(titletext)\n",
       "    this.root.append(titlebar);\n",
       "    this.header = titletext[0];\n",
       "}\n",
       "\n",
       "\n",
       "\n",
       "mpl.figure.prototype._canvas_extra_style = function(canvas_div) {\n",
       "\n",
       "}\n",
       "\n",
       "\n",
       "mpl.figure.prototype._root_extra_style = function(canvas_div) {\n",
       "\n",
       "}\n",
       "\n",
       "mpl.figure.prototype._init_canvas = function() {\n",
       "    var fig = this;\n",
       "\n",
       "    var canvas_div = $('<div/>');\n",
       "\n",
       "    canvas_div.attr('style', 'position: relative; clear: both; outline: 0');\n",
       "\n",
       "    function canvas_keyboard_event(event) {\n",
       "        return fig.key_event(event, event['data']);\n",
       "    }\n",
       "\n",
       "    canvas_div.keydown('key_press', canvas_keyboard_event);\n",
       "    canvas_div.keyup('key_release', canvas_keyboard_event);\n",
       "    this.canvas_div = canvas_div\n",
       "    this._canvas_extra_style(canvas_div)\n",
       "    this.root.append(canvas_div);\n",
       "\n",
       "    var canvas = $('<canvas/>');\n",
       "    canvas.addClass('mpl-canvas');\n",
       "    canvas.attr('style', \"left: 0; top: 0; z-index: 0; outline: 0\")\n",
       "\n",
       "    this.canvas = canvas[0];\n",
       "    this.context = canvas[0].getContext(\"2d\");\n",
       "\n",
       "    var backingStore = this.context.backingStorePixelRatio ||\n",
       "\tthis.context.webkitBackingStorePixelRatio ||\n",
       "\tthis.context.mozBackingStorePixelRatio ||\n",
       "\tthis.context.msBackingStorePixelRatio ||\n",
       "\tthis.context.oBackingStorePixelRatio ||\n",
       "\tthis.context.backingStorePixelRatio || 1;\n",
       "\n",
       "    mpl.ratio = (window.devicePixelRatio || 1) / backingStore;\n",
       "\n",
       "    var rubberband = $('<canvas/>');\n",
       "    rubberband.attr('style', \"position: absolute; left: 0; top: 0; z-index: 1;\")\n",
       "\n",
       "    var pass_mouse_events = true;\n",
       "\n",
       "    canvas_div.resizable({\n",
       "        start: function(event, ui) {\n",
       "            pass_mouse_events = false;\n",
       "        },\n",
       "        resize: function(event, ui) {\n",
       "            fig.request_resize(ui.size.width, ui.size.height);\n",
       "        },\n",
       "        stop: function(event, ui) {\n",
       "            pass_mouse_events = true;\n",
       "            fig.request_resize(ui.size.width, ui.size.height);\n",
       "        },\n",
       "    });\n",
       "\n",
       "    function mouse_event_fn(event) {\n",
       "        if (pass_mouse_events)\n",
       "            return fig.mouse_event(event, event['data']);\n",
       "    }\n",
       "\n",
       "    rubberband.mousedown('button_press', mouse_event_fn);\n",
       "    rubberband.mouseup('button_release', mouse_event_fn);\n",
       "    // Throttle sequential mouse events to 1 every 20ms.\n",
       "    rubberband.mousemove('motion_notify', mouse_event_fn);\n",
       "\n",
       "    rubberband.mouseenter('figure_enter', mouse_event_fn);\n",
       "    rubberband.mouseleave('figure_leave', mouse_event_fn);\n",
       "\n",
       "    canvas_div.on(\"wheel\", function (event) {\n",
       "        event = event.originalEvent;\n",
       "        event['data'] = 'scroll'\n",
       "        if (event.deltaY < 0) {\n",
       "            event.step = 1;\n",
       "        } else {\n",
       "            event.step = -1;\n",
       "        }\n",
       "        mouse_event_fn(event);\n",
       "    });\n",
       "\n",
       "    canvas_div.append(canvas);\n",
       "    canvas_div.append(rubberband);\n",
       "\n",
       "    this.rubberband = rubberband;\n",
       "    this.rubberband_canvas = rubberband[0];\n",
       "    this.rubberband_context = rubberband[0].getContext(\"2d\");\n",
       "    this.rubberband_context.strokeStyle = \"#000000\";\n",
       "\n",
       "    this._resize_canvas = function(width, height) {\n",
       "        // Keep the size of the canvas, canvas container, and rubber band\n",
       "        // canvas in synch.\n",
       "        canvas_div.css('width', width)\n",
       "        canvas_div.css('height', height)\n",
       "\n",
       "        canvas.attr('width', width * mpl.ratio);\n",
       "        canvas.attr('height', height * mpl.ratio);\n",
       "        canvas.attr('style', 'width: ' + width + 'px; height: ' + height + 'px;');\n",
       "\n",
       "        rubberband.attr('width', width);\n",
       "        rubberband.attr('height', height);\n",
       "    }\n",
       "\n",
       "    // Set the figure to an initial 600x600px, this will subsequently be updated\n",
       "    // upon first draw.\n",
       "    this._resize_canvas(600, 600);\n",
       "\n",
       "    // Disable right mouse context menu.\n",
       "    $(this.rubberband_canvas).bind(\"contextmenu\",function(e){\n",
       "        return false;\n",
       "    });\n",
       "\n",
       "    function set_focus () {\n",
       "        canvas.focus();\n",
       "        canvas_div.focus();\n",
       "    }\n",
       "\n",
       "    window.setTimeout(set_focus, 100);\n",
       "}\n",
       "\n",
       "mpl.figure.prototype._init_toolbar = function() {\n",
       "    var fig = this;\n",
       "\n",
       "    var nav_element = $('<div/>');\n",
       "    nav_element.attr('style', 'width: 100%');\n",
       "    this.root.append(nav_element);\n",
       "\n",
       "    // Define a callback function for later on.\n",
       "    function toolbar_event(event) {\n",
       "        return fig.toolbar_button_onclick(event['data']);\n",
       "    }\n",
       "    function toolbar_mouse_event(event) {\n",
       "        return fig.toolbar_button_onmouseover(event['data']);\n",
       "    }\n",
       "\n",
       "    for(var toolbar_ind in mpl.toolbar_items) {\n",
       "        var name = mpl.toolbar_items[toolbar_ind][0];\n",
       "        var tooltip = mpl.toolbar_items[toolbar_ind][1];\n",
       "        var image = mpl.toolbar_items[toolbar_ind][2];\n",
       "        var method_name = mpl.toolbar_items[toolbar_ind][3];\n",
       "\n",
       "        if (!name) {\n",
       "            // put a spacer in here.\n",
       "            continue;\n",
       "        }\n",
       "        var button = $('<button/>');\n",
       "        button.addClass('ui-button ui-widget ui-state-default ui-corner-all ' +\n",
       "                        'ui-button-icon-only');\n",
       "        button.attr('role', 'button');\n",
       "        button.attr('aria-disabled', 'false');\n",
       "        button.click(method_name, toolbar_event);\n",
       "        button.mouseover(tooltip, toolbar_mouse_event);\n",
       "\n",
       "        var icon_img = $('<span/>');\n",
       "        icon_img.addClass('ui-button-icon-primary ui-icon');\n",
       "        icon_img.addClass(image);\n",
       "        icon_img.addClass('ui-corner-all');\n",
       "\n",
       "        var tooltip_span = $('<span/>');\n",
       "        tooltip_span.addClass('ui-button-text');\n",
       "        tooltip_span.html(tooltip);\n",
       "\n",
       "        button.append(icon_img);\n",
       "        button.append(tooltip_span);\n",
       "\n",
       "        nav_element.append(button);\n",
       "    }\n",
       "\n",
       "    var fmt_picker_span = $('<span/>');\n",
       "\n",
       "    var fmt_picker = $('<select/>');\n",
       "    fmt_picker.addClass('mpl-toolbar-option ui-widget ui-widget-content');\n",
       "    fmt_picker_span.append(fmt_picker);\n",
       "    nav_element.append(fmt_picker_span);\n",
       "    this.format_dropdown = fmt_picker[0];\n",
       "\n",
       "    for (var ind in mpl.extensions) {\n",
       "        var fmt = mpl.extensions[ind];\n",
       "        var option = $(\n",
       "            '<option/>', {selected: fmt === mpl.default_extension}).html(fmt);\n",
       "        fmt_picker.append(option);\n",
       "    }\n",
       "\n",
       "    // Add hover states to the ui-buttons\n",
       "    $( \".ui-button\" ).hover(\n",
       "        function() { $(this).addClass(\"ui-state-hover\");},\n",
       "        function() { $(this).removeClass(\"ui-state-hover\");}\n",
       "    );\n",
       "\n",
       "    var status_bar = $('<span class=\"mpl-message\"/>');\n",
       "    nav_element.append(status_bar);\n",
       "    this.message = status_bar[0];\n",
       "}\n",
       "\n",
       "mpl.figure.prototype.request_resize = function(x_pixels, y_pixels) {\n",
       "    // Request matplotlib to resize the figure. Matplotlib will then trigger a resize in the client,\n",
       "    // which will in turn request a refresh of the image.\n",
       "    this.send_message('resize', {'width': x_pixels, 'height': y_pixels});\n",
       "}\n",
       "\n",
       "mpl.figure.prototype.send_message = function(type, properties) {\n",
       "    properties['type'] = type;\n",
       "    properties['figure_id'] = this.id;\n",
       "    this.ws.send(JSON.stringify(properties));\n",
       "}\n",
       "\n",
       "mpl.figure.prototype.send_draw_message = function() {\n",
       "    if (!this.waiting) {\n",
       "        this.waiting = true;\n",
       "        this.ws.send(JSON.stringify({type: \"draw\", figure_id: this.id}));\n",
       "    }\n",
       "}\n",
       "\n",
       "\n",
       "mpl.figure.prototype.handle_save = function(fig, msg) {\n",
       "    var format_dropdown = fig.format_dropdown;\n",
       "    var format = format_dropdown.options[format_dropdown.selectedIndex].value;\n",
       "    fig.ondownload(fig, format);\n",
       "}\n",
       "\n",
       "\n",
       "mpl.figure.prototype.handle_resize = function(fig, msg) {\n",
       "    var size = msg['size'];\n",
       "    if (size[0] != fig.canvas.width || size[1] != fig.canvas.height) {\n",
       "        fig._resize_canvas(size[0], size[1]);\n",
       "        fig.send_message(\"refresh\", {});\n",
       "    };\n",
       "}\n",
       "\n",
       "mpl.figure.prototype.handle_rubberband = function(fig, msg) {\n",
       "    var x0 = msg['x0'] / mpl.ratio;\n",
       "    var y0 = (fig.canvas.height - msg['y0']) / mpl.ratio;\n",
       "    var x1 = msg['x1'] / mpl.ratio;\n",
       "    var y1 = (fig.canvas.height - msg['y1']) / mpl.ratio;\n",
       "    x0 = Math.floor(x0) + 0.5;\n",
       "    y0 = Math.floor(y0) + 0.5;\n",
       "    x1 = Math.floor(x1) + 0.5;\n",
       "    y1 = Math.floor(y1) + 0.5;\n",
       "    var min_x = Math.min(x0, x1);\n",
       "    var min_y = Math.min(y0, y1);\n",
       "    var width = Math.abs(x1 - x0);\n",
       "    var height = Math.abs(y1 - y0);\n",
       "\n",
       "    fig.rubberband_context.clearRect(\n",
       "        0, 0, fig.canvas.width / mpl.ratio, fig.canvas.height / mpl.ratio);\n",
       "\n",
       "    fig.rubberband_context.strokeRect(min_x, min_y, width, height);\n",
       "}\n",
       "\n",
       "mpl.figure.prototype.handle_figure_label = function(fig, msg) {\n",
       "    // Updates the figure title.\n",
       "    fig.header.textContent = msg['label'];\n",
       "}\n",
       "\n",
       "mpl.figure.prototype.handle_cursor = function(fig, msg) {\n",
       "    var cursor = msg['cursor'];\n",
       "    switch(cursor)\n",
       "    {\n",
       "    case 0:\n",
       "        cursor = 'pointer';\n",
       "        break;\n",
       "    case 1:\n",
       "        cursor = 'default';\n",
       "        break;\n",
       "    case 2:\n",
       "        cursor = 'crosshair';\n",
       "        break;\n",
       "    case 3:\n",
       "        cursor = 'move';\n",
       "        break;\n",
       "    }\n",
       "    fig.rubberband_canvas.style.cursor = cursor;\n",
       "}\n",
       "\n",
       "mpl.figure.prototype.handle_message = function(fig, msg) {\n",
       "    fig.message.textContent = msg['message'];\n",
       "}\n",
       "\n",
       "mpl.figure.prototype.handle_draw = function(fig, msg) {\n",
       "    // Request the server to send over a new figure.\n",
       "    fig.send_draw_message();\n",
       "}\n",
       "\n",
       "mpl.figure.prototype.handle_image_mode = function(fig, msg) {\n",
       "    fig.image_mode = msg['mode'];\n",
       "}\n",
       "\n",
       "mpl.figure.prototype.updated_canvas_event = function() {\n",
       "    // Called whenever the canvas gets updated.\n",
       "    this.send_message(\"ack\", {});\n",
       "}\n",
       "\n",
       "// A function to construct a web socket function for onmessage handling.\n",
       "// Called in the figure constructor.\n",
       "mpl.figure.prototype._make_on_message_function = function(fig) {\n",
       "    return function socket_on_message(evt) {\n",
       "        if (evt.data instanceof Blob) {\n",
       "            /* FIXME: We get \"Resource interpreted as Image but\n",
       "             * transferred with MIME type text/plain:\" errors on\n",
       "             * Chrome.  But how to set the MIME type?  It doesn't seem\n",
       "             * to be part of the websocket stream */\n",
       "            evt.data.type = \"image/png\";\n",
       "\n",
       "            /* Free the memory for the previous frames */\n",
       "            if (fig.imageObj.src) {\n",
       "                (window.URL || window.webkitURL).revokeObjectURL(\n",
       "                    fig.imageObj.src);\n",
       "            }\n",
       "\n",
       "            fig.imageObj.src = (window.URL || window.webkitURL).createObjectURL(\n",
       "                evt.data);\n",
       "            fig.updated_canvas_event();\n",
       "            fig.waiting = false;\n",
       "            return;\n",
       "        }\n",
       "        else if (typeof evt.data === 'string' && evt.data.slice(0, 21) == \"data:image/png;base64\") {\n",
       "            fig.imageObj.src = evt.data;\n",
       "            fig.updated_canvas_event();\n",
       "            fig.waiting = false;\n",
       "            return;\n",
       "        }\n",
       "\n",
       "        var msg = JSON.parse(evt.data);\n",
       "        var msg_type = msg['type'];\n",
       "\n",
       "        // Call the  \"handle_{type}\" callback, which takes\n",
       "        // the figure and JSON message as its only arguments.\n",
       "        try {\n",
       "            var callback = fig[\"handle_\" + msg_type];\n",
       "        } catch (e) {\n",
       "            console.log(\"No handler for the '\" + msg_type + \"' message type: \", msg);\n",
       "            return;\n",
       "        }\n",
       "\n",
       "        if (callback) {\n",
       "            try {\n",
       "                // console.log(\"Handling '\" + msg_type + \"' message: \", msg);\n",
       "                callback(fig, msg);\n",
       "            } catch (e) {\n",
       "                console.log(\"Exception inside the 'handler_\" + msg_type + \"' callback:\", e, e.stack, msg);\n",
       "            }\n",
       "        }\n",
       "    };\n",
       "}\n",
       "\n",
       "// from http://stackoverflow.com/questions/1114465/getting-mouse-location-in-canvas\n",
       "mpl.findpos = function(e) {\n",
       "    //this section is from http://www.quirksmode.org/js/events_properties.html\n",
       "    var targ;\n",
       "    if (!e)\n",
       "        e = window.event;\n",
       "    if (e.target)\n",
       "        targ = e.target;\n",
       "    else if (e.srcElement)\n",
       "        targ = e.srcElement;\n",
       "    if (targ.nodeType == 3) // defeat Safari bug\n",
       "        targ = targ.parentNode;\n",
       "\n",
       "    // jQuery normalizes the pageX and pageY\n",
       "    // pageX,Y are the mouse positions relative to the document\n",
       "    // offset() returns the position of the element relative to the document\n",
       "    var x = e.pageX - $(targ).offset().left;\n",
       "    var y = e.pageY - $(targ).offset().top;\n",
       "\n",
       "    return {\"x\": x, \"y\": y};\n",
       "};\n",
       "\n",
       "/*\n",
       " * return a copy of an object with only non-object keys\n",
       " * we need this to avoid circular references\n",
       " * http://stackoverflow.com/a/24161582/3208463\n",
       " */\n",
       "function simpleKeys (original) {\n",
       "  return Object.keys(original).reduce(function (obj, key) {\n",
       "    if (typeof original[key] !== 'object')\n",
       "        obj[key] = original[key]\n",
       "    return obj;\n",
       "  }, {});\n",
       "}\n",
       "\n",
       "mpl.figure.prototype.mouse_event = function(event, name) {\n",
       "    var canvas_pos = mpl.findpos(event)\n",
       "\n",
       "    if (name === 'button_press')\n",
       "    {\n",
       "        this.canvas.focus();\n",
       "        this.canvas_div.focus();\n",
       "    }\n",
       "\n",
       "    var x = canvas_pos.x * mpl.ratio;\n",
       "    var y = canvas_pos.y * mpl.ratio;\n",
       "\n",
       "    this.send_message(name, {x: x, y: y, button: event.button,\n",
       "                             step: event.step,\n",
       "                             guiEvent: simpleKeys(event)});\n",
       "\n",
       "    /* This prevents the web browser from automatically changing to\n",
       "     * the text insertion cursor when the button is pressed.  We want\n",
       "     * to control all of the cursor setting manually through the\n",
       "     * 'cursor' event from matplotlib */\n",
       "    event.preventDefault();\n",
       "    return false;\n",
       "}\n",
       "\n",
       "mpl.figure.prototype._key_event_extra = function(event, name) {\n",
       "    // Handle any extra behaviour associated with a key event\n",
       "}\n",
       "\n",
       "mpl.figure.prototype.key_event = function(event, name) {\n",
       "\n",
       "    // Prevent repeat events\n",
       "    if (name == 'key_press')\n",
       "    {\n",
       "        if (event.which === this._key)\n",
       "            return;\n",
       "        else\n",
       "            this._key = event.which;\n",
       "    }\n",
       "    if (name == 'key_release')\n",
       "        this._key = null;\n",
       "\n",
       "    var value = '';\n",
       "    if (event.ctrlKey && event.which != 17)\n",
       "        value += \"ctrl+\";\n",
       "    if (event.altKey && event.which != 18)\n",
       "        value += \"alt+\";\n",
       "    if (event.shiftKey && event.which != 16)\n",
       "        value += \"shift+\";\n",
       "\n",
       "    value += 'k';\n",
       "    value += event.which.toString();\n",
       "\n",
       "    this._key_event_extra(event, name);\n",
       "\n",
       "    this.send_message(name, {key: value,\n",
       "                             guiEvent: simpleKeys(event)});\n",
       "    return false;\n",
       "}\n",
       "\n",
       "mpl.figure.prototype.toolbar_button_onclick = function(name) {\n",
       "    if (name == 'download') {\n",
       "        this.handle_save(this, null);\n",
       "    } else {\n",
       "        this.send_message(\"toolbar_button\", {name: name});\n",
       "    }\n",
       "};\n",
       "\n",
       "mpl.figure.prototype.toolbar_button_onmouseover = function(tooltip) {\n",
       "    this.message.textContent = tooltip;\n",
       "};\n",
       "mpl.toolbar_items = [[\"Home\", \"Reset original view\", \"fa fa-home icon-home\", \"home\"], [\"Back\", \"Back to previous view\", \"fa fa-arrow-left icon-arrow-left\", \"back\"], [\"Forward\", \"Forward to next view\", \"fa fa-arrow-right icon-arrow-right\", \"forward\"], [\"\", \"\", \"\", \"\"], [\"Pan\", \"Pan axes with left mouse, zoom with right\", \"fa fa-arrows icon-move\", \"pan\"], [\"Zoom\", \"Zoom to rectangle\", \"fa fa-square-o icon-check-empty\", \"zoom\"], [\"\", \"\", \"\", \"\"], [\"Download\", \"Download plot\", \"fa fa-floppy-o icon-save\", \"download\"]];\n",
       "\n",
       "mpl.extensions = [\"eps\", \"jpeg\", \"pdf\", \"png\", \"ps\", \"raw\", \"svg\", \"tif\"];\n",
       "\n",
       "mpl.default_extension = \"png\";var comm_websocket_adapter = function(comm) {\n",
       "    // Create a \"websocket\"-like object which calls the given IPython comm\n",
       "    // object with the appropriate methods. Currently this is a non binary\n",
       "    // socket, so there is still some room for performance tuning.\n",
       "    var ws = {};\n",
       "\n",
       "    ws.close = function() {\n",
       "        comm.close()\n",
       "    };\n",
       "    ws.send = function(m) {\n",
       "        //console.log('sending', m);\n",
       "        comm.send(m);\n",
       "    };\n",
       "    // Register the callback with on_msg.\n",
       "    comm.on_msg(function(msg) {\n",
       "        //console.log('receiving', msg['content']['data'], msg);\n",
       "        // Pass the mpl event to the overridden (by mpl) onmessage function.\n",
       "        ws.onmessage(msg['content']['data'])\n",
       "    });\n",
       "    return ws;\n",
       "}\n",
       "\n",
       "mpl.mpl_figure_comm = function(comm, msg) {\n",
       "    // This is the function which gets called when the mpl process\n",
       "    // starts-up an IPython Comm through the \"matplotlib\" channel.\n",
       "\n",
       "    var id = msg.content.data.id;\n",
       "    // Get hold of the div created by the display call when the Comm\n",
       "    // socket was opened in Python.\n",
       "    var element = $(\"#\" + id);\n",
       "    var ws_proxy = comm_websocket_adapter(comm)\n",
       "\n",
       "    function ondownload(figure, format) {\n",
       "        window.open(figure.imageObj.src);\n",
       "    }\n",
       "\n",
       "    var fig = new mpl.figure(id, ws_proxy,\n",
       "                           ondownload,\n",
       "                           element.get(0));\n",
       "\n",
       "    // Call onopen now - mpl needs it, as it is assuming we've passed it a real\n",
       "    // web socket which is closed, not our websocket->open comm proxy.\n",
       "    ws_proxy.onopen();\n",
       "\n",
       "    fig.parent_element = element.get(0);\n",
       "    fig.cell_info = mpl.find_output_cell(\"<div id='\" + id + \"'></div>\");\n",
       "    if (!fig.cell_info) {\n",
       "        console.error(\"Failed to find cell for figure\", id, fig);\n",
       "        return;\n",
       "    }\n",
       "\n",
       "    var output_index = fig.cell_info[2]\n",
       "    var cell = fig.cell_info[0];\n",
       "\n",
       "};\n",
       "\n",
       "mpl.figure.prototype.handle_close = function(fig, msg) {\n",
       "    var width = fig.canvas.width/mpl.ratio\n",
       "    fig.root.unbind('remove')\n",
       "\n",
       "    // Update the output cell to use the data from the current canvas.\n",
       "    fig.push_to_output();\n",
       "    var dataURL = fig.canvas.toDataURL();\n",
       "    // Re-enable the keyboard manager in IPython - without this line, in FF,\n",
       "    // the notebook keyboard shortcuts fail.\n",
       "    IPython.keyboard_manager.enable()\n",
       "    $(fig.parent_element).html('<img src=\"' + dataURL + '\" width=\"' + width + '\">');\n",
       "    fig.close_ws(fig, msg);\n",
       "}\n",
       "\n",
       "mpl.figure.prototype.close_ws = function(fig, msg){\n",
       "    fig.send_message('closing', msg);\n",
       "    // fig.ws.close()\n",
       "}\n",
       "\n",
       "mpl.figure.prototype.push_to_output = function(remove_interactive) {\n",
       "    // Turn the data on the canvas into data in the output cell.\n",
       "    var width = this.canvas.width/mpl.ratio\n",
       "    var dataURL = this.canvas.toDataURL();\n",
       "    this.cell_info[1]['text/html'] = '<img src=\"' + dataURL + '\" width=\"' + width + '\">';\n",
       "}\n",
       "\n",
       "mpl.figure.prototype.updated_canvas_event = function() {\n",
       "    // Tell IPython that the notebook contents must change.\n",
       "    IPython.notebook.set_dirty(true);\n",
       "    this.send_message(\"ack\", {});\n",
       "    var fig = this;\n",
       "    // Wait a second, then push the new image to the DOM so\n",
       "    // that it is saved nicely (might be nice to debounce this).\n",
       "    setTimeout(function () { fig.push_to_output() }, 1000);\n",
       "}\n",
       "\n",
       "mpl.figure.prototype._init_toolbar = function() {\n",
       "    var fig = this;\n",
       "\n",
       "    var nav_element = $('<div/>');\n",
       "    nav_element.attr('style', 'width: 100%');\n",
       "    this.root.append(nav_element);\n",
       "\n",
       "    // Define a callback function for later on.\n",
       "    function toolbar_event(event) {\n",
       "        return fig.toolbar_button_onclick(event['data']);\n",
       "    }\n",
       "    function toolbar_mouse_event(event) {\n",
       "        return fig.toolbar_button_onmouseover(event['data']);\n",
       "    }\n",
       "\n",
       "    for(var toolbar_ind in mpl.toolbar_items){\n",
       "        var name = mpl.toolbar_items[toolbar_ind][0];\n",
       "        var tooltip = mpl.toolbar_items[toolbar_ind][1];\n",
       "        var image = mpl.toolbar_items[toolbar_ind][2];\n",
       "        var method_name = mpl.toolbar_items[toolbar_ind][3];\n",
       "\n",
       "        if (!name) { continue; };\n",
       "\n",
       "        var button = $('<button class=\"btn btn-default\" href=\"#\" title=\"' + name + '\"><i class=\"fa ' + image + ' fa-lg\"></i></button>');\n",
       "        button.click(method_name, toolbar_event);\n",
       "        button.mouseover(tooltip, toolbar_mouse_event);\n",
       "        nav_element.append(button);\n",
       "    }\n",
       "\n",
       "    // Add the status bar.\n",
       "    var status_bar = $('<span class=\"mpl-message\" style=\"text-align:right; float: right;\"/>');\n",
       "    nav_element.append(status_bar);\n",
       "    this.message = status_bar[0];\n",
       "\n",
       "    // Add the close button to the window.\n",
       "    var buttongrp = $('<div class=\"btn-group inline pull-right\"></div>');\n",
       "    var button = $('<button class=\"btn btn-mini btn-primary\" href=\"#\" title=\"Stop Interaction\"><i class=\"fa fa-power-off icon-remove icon-large\"></i></button>');\n",
       "    button.click(function (evt) { fig.handle_close(fig, {}); } );\n",
       "    button.mouseover('Stop Interaction', toolbar_mouse_event);\n",
       "    buttongrp.append(button);\n",
       "    var titlebar = this.root.find($('.ui-dialog-titlebar'));\n",
       "    titlebar.prepend(buttongrp);\n",
       "}\n",
       "\n",
       "mpl.figure.prototype._root_extra_style = function(el){\n",
       "    var fig = this\n",
       "    el.on(\"remove\", function(){\n",
       "\tfig.close_ws(fig, {});\n",
       "    });\n",
       "}\n",
       "\n",
       "mpl.figure.prototype._canvas_extra_style = function(el){\n",
       "    // this is important to make the div 'focusable\n",
       "    el.attr('tabindex', 0)\n",
       "    // reach out to IPython and tell the keyboard manager to turn it's self\n",
       "    // off when our div gets focus\n",
       "\n",
       "    // location in version 3\n",
       "    if (IPython.notebook.keyboard_manager) {\n",
       "        IPython.notebook.keyboard_manager.register_events(el);\n",
       "    }\n",
       "    else {\n",
       "        // location in version 2\n",
       "        IPython.keyboard_manager.register_events(el);\n",
       "    }\n",
       "\n",
       "}\n",
       "\n",
       "mpl.figure.prototype._key_event_extra = function(event, name) {\n",
       "    var manager = IPython.notebook.keyboard_manager;\n",
       "    if (!manager)\n",
       "        manager = IPython.keyboard_manager;\n",
       "\n",
       "    // Check for shift+enter\n",
       "    if (event.shiftKey && event.which == 13) {\n",
       "        this.canvas_div.blur();\n",
       "        // select the cell after this one\n",
       "        var index = IPython.notebook.find_cell_index(this.cell_info[0]);\n",
       "        IPython.notebook.select(index + 1);\n",
       "    }\n",
       "}\n",
       "\n",
       "mpl.figure.prototype.handle_save = function(fig, msg) {\n",
       "    fig.ondownload(fig, null);\n",
       "}\n",
       "\n",
       "\n",
       "mpl.find_output_cell = function(html_output) {\n",
       "    // Return the cell and output element which can be found *uniquely* in the notebook.\n",
       "    // Note - this is a bit hacky, but it is done because the \"notebook_saving.Notebook\"\n",
       "    // IPython event is triggered only after the cells have been serialised, which for\n",
       "    // our purposes (turning an active figure into a static one), is too late.\n",
       "    var cells = IPython.notebook.get_cells();\n",
       "    var ncells = cells.length;\n",
       "    for (var i=0; i<ncells; i++) {\n",
       "        var cell = cells[i];\n",
       "        if (cell.cell_type === 'code'){\n",
       "            for (var j=0; j<cell.output_area.outputs.length; j++) {\n",
       "                var data = cell.output_area.outputs[j];\n",
       "                if (data.data) {\n",
       "                    // IPython >= 3 moved mimebundle to data attribute of output\n",
       "                    data = data.data;\n",
       "                }\n",
       "                if (data['text/html'] == html_output) {\n",
       "                    return [cell, data, j];\n",
       "                }\n",
       "            }\n",
       "        }\n",
       "    }\n",
       "}\n",
       "\n",
       "// Register the function which deals with the matplotlib target/channel.\n",
       "// The kernel may be null if the page has been refreshed.\n",
       "if (IPython.notebook.kernel != null) {\n",
       "    IPython.notebook.kernel.comm_manager.register_target('matplotlib', mpl.mpl_figure_comm);\n",
       "}\n"
      ],
      "text/plain": [
       "<IPython.core.display.Javascript object>"
      ]
     },
     "metadata": {},
     "output_type": "display_data"
    },
    {
     "data": {
      "text/html": [
       "<img src=\"data:image/png;base64,iVBORw0KGgoAAAANSUhEUgAAAyAAAAH0CAYAAADFQEl4AAAgAElEQVR4nOzd91tb5xk//v5Ln+/1aT4N2DSzSZM2aWazm6ZZTZq0SZs2SdNMp5mNwXjgvfAeGANG7L23BhISQkhCex0thOb7+8OjI+mggTBIwuZ+XZeuxLKk84AEft7nPM99/wyEEEIIIYQQUiQ/K/UACCGEEEIIIdsHBRBCCCGEEEJI0VAAIYQQQgghhBQNBRBCCCGEEEJI0VAAIYQQQgghhBQNBRBCCCGEEEJI0VAAIYQQQgghhBQNBRBCCCGEEEJI0VAAIYQQQgghhBQNBRBCCCGEEEJI0VAAIYQQQgghhBQNBRBCCCGEEEJI0VAAIYQQQgghhBTNpgaQaDQKvV4PjuPgdrvpRje60Y1udKMb3ehGN7rdZjeO46DX6xGNRksfQPR6PX72s5/RjW50oxvd6EY3utGNbnS7zW96vb70AYTjuMRgSp3M6EY3utHtdr/ZbDZ8+OGH+PDDD2Gz2Uo+HrrRjW50o9v2uPEXHTiOK30Acbvd+NnPfga3272ZL0sIISSDYDCIzz77DJ999hmCwWCph0MIIWSb2OicnwIIIYTcoiiAEEIIKQUKIIQQsk1RACGEEFIKFEAIIWSbogBCCCGkFCiAEELINkUBhBBCSClQACGEkG2KAgghhJBSoABCCCHbVCQSwcjICEZGRhCJREo9HEIIIdsEBRBCCCGEEEJI0VAAIYQQQgghhBQNBRBCCNmmotEoNBoNNBoNotFoqYdDCCFkm6AAQggh2xRtQieEEFIKFEAIIWSbogBCCCGkFCiAEELINkUBhBBCSClQACGEkG2KAgghhJBSoABCCCHbFAUQQgghpUABhBBCtikKIIQQQkqBAgghhGxTFEAIIYSUAgUQQgjZpiKRCPr7+9Hf349IJFLq4RBCCNkmKIAQQgghhBBCioYCCCGEEEIIIaRoKIAQQsg2FY1GsbS0hKWlJUSj0VIPhxBCyDZBAYQQQrYp2oROCCGkFCiAEELINkUBhBBCSClQACGEkG2KAgghhJBSoABCCCHbFAUQQgghpUABhBBCtikKIIQQQkqBAgghhGxTFEAIIYSUAgUQQgjZpiiAEEIIKQUKIIQQsk1FIhF0dXWhq6sLkUik1MMhhBCyTVAAIYQQQgghhBQNBRBCCCGEEEJI0VAAIYSQbSoWi8FiscBisSAWi5V6OIQQQrYJCiCEELJN0SZ0QgghpUABhBBCtikKIIQQQkqBAgghhGxTFEAIIYSUAgUQQgjZpiiAEEIIKQUKIIQQsk1RACGEEFIKFEAIIWSbogBCCCGkFCiAEELINkUBhBBCSClQACGEkG0qEomgpaUFLS0tiEQipR4OIYSQbYICCCGEEEIIIaRoKIAQQgghhBBCioYCCCGEbFOxWAwulwsulwuxWKzUwyGEELJNUAAhhJBtijahE0IIKQUKIIQQsk1RACGEEFIKFEAIIWSbogBCCCGkFCiAEELINkUBhBBCSClQACGEkG2KAgghhJBSoABCCCHbFAUQQgghpUABhBBCtikKIGSrcPiCiESpFDQh2wUFEEII2abC4TAaGxvR2NiIcDhc6uGQbSoQimBM44Ddu1LqoRBCioQCCCGEEEJKxuIJoG3WDINrudRDIYQUCQUQQgghty1uOQS11VvqYZAclGYP6iaX6H0iZBuhAEIIIdtULBaDz+eDz+dDLHZ7rr+3uAMQ612lHgbJIhyJYkBlQ/2UAdM6ep8I2S4ogBBCyDZVqk3o0WgM0SJtODa7A5jSOotyLLJ+Tl8QbTIzehRWDKrsRftcEEJKiwIIIYRsU6UKIEuuZegc/qIcy8QFMKZx3LZXeG51WrsfIokJowsOdCssWA5GSj0kQkgRUAAhhJBtqlQBRGPzQWXxFOVYRm4ZYxpHcUq8eq1A4/tAiDZT52vW6Eb7rBlTWhfaZGa4/FQOmpDtgAIIIYRsU6UKIGqrF3Om4vyeN7iWMbxgRzgSLfzBFgeBmgrAsVD4Y90mprQudMktEOs5tEiNMLsDpR4SIaQIKIAQQsg2VaoAorJ4IC9SAFlyLWNw3o5guAgBRNXOAohFXvhj3SaG1Hb0KW0Q6zmIJCZo7cVZmkcIKS0KIIQQsk2VKoAoTG7IDMX5Pa93+tGvsmElXIS9BbPXWQAxTBb+WLeBcCSKfpUNgyo7xHoO7bNmyAxcqYdFCCkCCiCEELJNlSqAzBrdkCwVp+SqzuFHn9KKQKgIAWTmAgsgi4OFP9ZtIBCKoHvOghG1A2I9h945K4bVdioYQMg2QAGEEEK2qXA4jLq6OtTV1SEcDhftuJIlF2aK1JtDa/eje84Cf7AIX9/YMRZA5jsKf6zbgHcljE65GROLToj1HAbn7ehT2YqzX4cQUlIUQAghhBTVjN5VtKZzi3YfuuQW+FaKEEAG97EAIm8q/LFuAy4/6wEypXVBrOcwonage85SnKtVhJCSogBCCCGkqKa0LkwWqTmgxuZDh9wMTyBU+IP1/MACiORK4Y91G7B5V9AiNUGs5yDWcxjXOIsXFgkhJUUBhBBCtqlYLIZgMIhgMFjUdfcTWgfGFx1FOZba6kXbrBncchECSPuXLIBMnSn8sW4DJi4gCCCTi060zZrhLkZYJISUFAUQQgjZpkq1CX1M48CYpjgBRGXxoE1mBucvwqS2+SMWQEaPFP5YtwG9k3VB5wPIjM6FFqkJTh81IyTkdkcBhBBCtqlSBZBhtR0jC/aiHEtp9qBVai7OpPb6uyyADFQX/li3gQWrVxBAWC8QI6yelVIPjRBSYBRACCFkmypVABlS2zGkLk4AkZvcEElMsHuLMKm98hoLID0/FP5Yt4FZoxvtMrMggLRITdQNnZBtgAIIIYRsU6UIILFYDIMqOwbni9PvQWZwo1lihK0YAeTccyyAdHxV+GNtJq8VGDkEFLn/xrTOhS65RXgFRGrCkmu5qOMghBQfBRBCCNmmShFAItEYBuLdr6PRwk94pQYONyRGWDxFOKt+6jEWQEQfF/5Ym0lxg417xVvUww6r7eids65agmWC1u4v6jgIIcVHAYQQQrapUgSQcCSKPpUNAyobIkUIIDN6F5rEBliKsazn6INsIt/4fuGPtZkkl9m4/cUpDAAIg2hqAGmVmjFvKW4QIoQUHwUQQgjZpkoRQILhKPqU1qJ1vJ7WudAwY4CJK3AAiUbZJL6mAqh7q7DH2mwTp9i4vZaiHTIQiqBnzophtTCAtM+aMWukOQAhtzsKIIQQsk2Fw2FcuHABFy5cQDhcnOZvK2E28exTWhEqQgCZ0rrQMG2AodD7CoJ+Nok/8Rvg0iuFPdZmG65hY+f0yfsiIdbRvUD7QnwrYXTKzRjXOAUBpEtuwYzeVZBjEkK2DgoghBBCiiYQiqB7zoJepRXBcOEDyITWgfqppcJvbPbZ2CT+wktsM/qtpO8nNnaHOnnf0gS7z6UryCE5fwhtMjOmtC5BAOmZsxatRwwhpHQogBBCCCma5WAE3QoLeuasWAlHCn68MY0D16aWoHMUeGOzS8cm7A3vsc3ot5KOXWzsVkXyPu1QeijZRHbvCkRSYQ8QsZ5Dv9JWtApphJDSoQBCCCGkaPzBMLrkFnTPWRAIFT6AjGocqJtcKnxlJasiWYL32K8Le6zNJvqYjd0kSd6n7o6HkrmCHNLiDqBFakwLIIPz9qLtDyKElA4FEEIIyZdLx9b3h26PPgWl2ITuja/971ZYsBwsfAAZUttxdWIJi3ZfYQ9kmGQT9sF9wMG7it5TY0Ma/sbGvjSRvE/Zxu4zSwtySCO3nPEKyIjagZ45a1HCKSGkdCiAEEJIvhZ62aTMbSj1SDZFKQKIJxBCu9yMLoUF/mDhN74PzrMAorYWuLSrpp99NqbPsf+G1/h+OhZY5ayt4MrrbMza4eR98iZ2n2GqIIfUO/0QSUxY7D2HhaHriQAypnGgS16czwYhpHQogBBCSL74s8JOTalHsilKEUC45RDaZs3olJvhWynsJJPvun51YglKs6egx0p8NuZa2H8DXPbHhpaBQ/ew0LIVnH+ejXmhN3mf9Cq7Tz9ekENq7X6IpCY4zr4By9WPEgFkctGJtlkz3IFQQY5LCNkaKIAQQki+Zq+zSZlNVeqRbIqSBJB49aMOuRneAgeQaLzZXd3kEhSmAv+7IqtnS6+0w+wz4jFnf6zfwR4jbyzsmPJ1+nE2HlV78r6ZC/GrIkMFOaTK4kGr1AzHmddgvfxBIoDM6FxolZrh9BXn80gIKQ0KIIQQki/xpYKuiy+2UgQQlz+IVqkZ7XIzPAU+yx2ORNGvsqF+ygCZIccVic0wfY5tPjfOrH2VzGNmj5FcLuyY8sV3cJ8TJe/jmxOmXhXZRLNGN9pnzXDWvgLbpfcF+0BEEiNs3pWCHJcQsjVQACGEkHzxk7ICrYsvtlIEEIcviBapqSjLbEKRKPpUNjRMGyAudHO7saPA6ScAm5J9Rizy7I/lS/ZO1hZ2TPlI7eA+ez15/+gRdt98R0EOO6N3oUtugfP0y7BdeFcQQFqkJpjdBe5cTwgpKQoghBCSr5FDbFKmGyn1SDZFKQKI3buCZokJbTIzuOXCBpBgOIo+pRVNYiOmdQUOIAPVwPkXkuEiV0i1z7PHjB4u7JjywXdwX31FZuhAck9LAYwvOtCjsMJ16kXYz78tvAIiNRa+cWSeqB8JIYVBAYQQQvI1UM0mZVtl8/AGhcNh1NbWora2FuFwcaoOWT0raJYY0SYzw+UvbOhZCUfQq7SiWWzChLbA3bW7v2fVpLzWtfdOWGbZYwaqCzumfPDj5St48for4/tUmgpy2CG1HX1KG1wnn4f93JurlmCZCt84Mg8G1zLmLQWunkbINkUBhBBC8tXzQ0GXpWwHFk8AzRJTUTYaB0IRdM9Z0CI1YUxT4ADS9jnrp7HiiX9GOrM/1jjNHtPzQ2HHlA/nYjKATJxK3t/zPbtPdm3TD8kXBxhQ2eA68SwcZ14TBJBWqbnwZZPzoLJ4MEBNEQkpCAoghBCSr46vCrosZTswxztgiyQmOIoRQBQWtMnMGFbbC3os3PgX6ygeCbPPiOJG9sfqx5Jd00vNIk8GkNEjyfs7drH7xJc2/ZChCFsaNzRvB3fsaThrXxEEkG6FFWMaR8mXP83oXWiTUUUuQgqBAgghhOSr5d/xzboNpR7JLcvEBdAiNUEkNcFe4EpHy8EIuhQWtM+aMThvL+yEtv6dZKA4fC8guZL9sXzTQtHHhRtPvvTjbCwH72L7Pnitn6Yvy9ok/JWp0QUHuGNPwnnqD4IAMrrgQJfCUvA+MZlEouwzEovFMKy2o25qCRpb6a/GEHK7oQBCCCH5avx7fLNujsnlLSQYDGLXrl3YtWtX0TahG7lliKSmopRa9QfD6JJb0CW3YEBlQzRawABy+U9A74/s/48/DEydyf7Y+U72OWp8f/PH0fCesKP5WhZ62VhOPgr0VyXvb/4ofVnWJvGtsPdlXOOE+8hjcJ18XhBAZnQuiEpQCSsSjUGi5+AOhBJXaW6IjRhZsBf2s0PINkQBhBBC8nXt7fhZ4fOlHsmmKEUVrCXXMkRSI0RSE6yewgYQ30oYnXIzehRW9Bd6Lf+555JXEE4/IVzOtBrfLb3urc0dA19Sd+ps/s/hx3LxD8I9KY3vs/vHjm3uGAG4AyG0zZoxueiE5/Cj4E48IwggYj2HVpm58M0jV/EEQuhX2WB2BxLhdVBlR7u88BXbCNluKIAQQki+Lv+pYGeFS6EUAUTv9EMkYUuwLJ7CnuH2BELokJvRp7ShT2lFqJAB5OSjwPgJ9v/nnwcG92Z/7GwD+xxdemVzxxDg2Ovy48iH5Apw6B4Whrq+Sd5f/xf2WiOHNneMSDajnNa54Dn0G3DHnkoLIP1KW9E3gJvdAdyQGLFo94Hzh9AmM2NKy67GWKgvCSGbigIIIYTk6/zz6Zt1b2GlCCA6hx8iqREtUmPBl9i4AyG0y80YUNnQq7RiJRwp3MGO/AqYucj+//KruStcSa6wz9G55zZ3DHwPkvWEhslatmSs4W+skhfvyuvstQb3be4YwXrBiKQmiPUcPAcfgvvo42kBZHLRWZRSzalUFg/qJpcgWXLB6kmOUSQ1wcRRACFkM1EAIYRsTdY5wKoozrG81vzWzZ9+gk3KUjfr3sJKEUC0dj9EUhNaijCp45bZUp/BeTu65ywIhAoUQPilT/JG9uf6v7AqUtlMn2OPP/XY5o7DLIt/Pvfn/5yRQ8CZp4GmD1iRBd7Fl9lr9Vdu7hgBWNyBxOTeW/MgPIcfTQsgfD8QQ5EaEsZiMYxqHGiYNmBIbWdX6qTGRADZKo0RCbldUAAhhGxNTR+w0qbFMHaUnQVey/GH45OyqrUfW2qaPsAkyfmQUgSQRbsPIgkLIEausJM6fhnNsNqOLoUFy8ECBZAVr7A/zOrJ/GoTJ9njj/16c8ehHV7/57NvNwsboo+BG/9M3n/uuYL1KuELEYj1HLwH7ofn0MMZA0ir1AyVxbPpx8/EHwyjW2FBj8KK7jkLFCYPWuJjbJFujcaIhNxOKIAQQramK6+zij7F0Ps/NtmKrFH28/B9W6eB3FouvbJmn4lSBBC11YtWqRkiqbHgZ7f5vQajCw50yQtY1jXR/Tx+Fa3lE1YxLZvRw8nSt5tZGljZuv7PZ+d/2f6Pts+FP2+1T7LX6vp288YXp3f6E5N73/574a15MGMA6VZYC9/BPs7mXUGL1JRY+jWx6ET7rDkRQDQ2X1HGQch2QQGEELI1nfk9661QDHzPA1+OZnX8MpuaCjZp2+pOP8FKqeYQCoVw/PhxHD9+HKFQcar8qCwetMrMRVnW4vQF0SI1YWLRiQ65Gd5CBRCnhn0ujDPsz51fA9dyVLga2p/8LIU3Mfjxe0tSN5OvpeUToOkf7DOdOuaTjxSsWSK/DE+s5+Dbdze8B+7PGEAG5+3oU9kKWzxAMKbkkquRBTt6FNZERa5iXYkhZLugAEII2ZqOPrj5ZUqzafgbm2zZ59P/TjsMLA4AQX9y0pi6WXcrisVYM7zr7+b/HHkTYFMVbkxxCpMbbTIzRBIT9M7CLmtx+IIQSeJntWfNcAcKFLIss+xzwX//+n7KXeGqb3fysxTYxH/vxo+z12z/Iv/nNLzHAnjPD+yqI+/og+y1Wj/dvPHFzVvYVTCxnoN/bwV8++7OGED44Ogp1PuWgv9csgBixICKVeES6zm0z5ohM9C8hJDNRAGEELL1hINs8nPlteIc79If2fH04+l/1/QBm8j7HclJ41boYJ0LH5bW8/2rfRIYPli4McXNGt1on2VLsAq9rp6vtjSldaFNZgbnL9BEdineTZxbYn8ePsiu4GXT/X3ys+S1bN44Bvaw12z5JP/nXH2TLbPqr2R7QXiH7inYZ11ucqM9Ptn3V5fDv7ciYwAR6zk0S4wb7hezEo5AbfUmupxnIjVw6Ji1JAJHh9yMEbUDYj2HLrkFM3rXhsZACBGiAEII2Xr4NfWX/lic4/HVrVTt6X939U02MXMb4huHH2KhZCvjx7qeMq8nH1lf9aSbJFlyoWPWApHEBK29sAHE6lmBSGLEtM6FVukGSrq6jWx/RTaaPvb99sf3K0ydZZ+TbDp2sf0fNRWAc/HmxpTtdWsq1le84cJLwEA1e+/5z0vqcsPUjembZEbvQqfcArHOyQJIdTnEOlfWAMIH1eVgBLNGDnbv+gLJot2HPpUt5x6gaZ0LXXIWQHrnrGiYMWBi0QmxnkNPEfeiELJdUAAhhGw9NhWb/Jx/YfNf22cHHOrkn2Ox5OZyyeX0x597jpVLdajZY878Hrj+180f12biy7Ge+l3OhwWDQXz33Xf47rvvEDz4K3YGvcBm9GyiJ5KasGgv7MZeiydZ7rVFaoLDd5MBZOgAW5KUDd9NPByfGMsb2Z+jWaputX4KnPgte8xmlpq+8S/2mo3v5/8cvmv76GGg9il2XyiQDCAFKAQxoXWgW2GFWGtLBhCtI2MAYcufODh8QQyp7WicMeS1d8jmXcGC1QvfShh9KtuaAXRM40DPnDWx9Kt91oyZeCjqU9owrM6xP4wQsm4UQAghW48+vqTl7LOb/9p9u1k53WD87Hvq3o5MDQZPPsL2U/CT+suvFm9vys1aHGRjPfpAzocJqmDtv4t9bwqE78HBn2kuRmWh1H4TIqkJtnWeOU9ofD93xSppnfDvF3rY9385y7Kd5o+SZW4NUzc3pkzq3mKvuZ7iDcceYldsJk6ybu4A25fCf34KUAhiWG1Hn9IGyaIlEUAki9aMAaRPacOQmvVxaZeZBVdEcpkzedAkNmB80YFmiWnNbuZD8TFlGkO/0oZBlR2xzaxYtkogFKFmh2RboQBCCNl6VO1sAlT75Oa/Nr9MZeYC+7PHlAwgvT8KHxuLAYfuZn+n6U+eEb786uaPazMpbiS/pmj2CkKJAPLppwju3VGw8sKRaAxivQvccihx9rtVaoba6s3/RWIxYOYiOKcD0iUur8mg2R1IlHsVSU03v5fg5KO5K1ZNnRX2kTFMsce7dJkf3/h+Mizk0wAzX+efZ6959c38Hh+LseAkqxd+DfwSyFO/A+r+vHnjAxCNxjCosmNAZYNEY0oGEI0p4+R/TOPA9RkDeuNXJ0SS/ILrmMbB9hpJTBict0MkzV70IBKNYUDFQkaualzhAlbjsnpWMKWjfSZk+6AAQgjZevhyomssIbopLf9OdqEOB9kSmJoKNvlavXk3tJycyPNjavuMrZvfyqbOJse9kn2Snwgg//k3CyAF6PkAsLO7YxoHbN6VxFKXdZc2XXYhVlMBzVA9+vMszWriAoJmcrnOgANscpwmtfhAtopVo4eFYdk+zx5vlmZ+fP1fgOYP2WPUXWt+HXnjS+fmqsCViv98K9sA8SXgyP3sfm4puYdok8N2KBJFn9KKoXk7pOqlRACRqvVZN6LPpOwPyedzEwwnj8E/r0Vqyhp4U8eU6fjDajt6lVashAvUyBIsLI9pHDk3yhNyO6EAQgjZesaOJUPBZmv8O9vcfvCXrPSsbpQd69pb6ctN+DPBNRVsHwB/lWQ9m7tLgR/rGlWWEgHk3x+yANKxqyDD8a2E0a+ywcgts8ncnBVtMjPmTFl+10ej7L1J3UPhMSO8fydmWk+iW2FJLOnKJbXjdovUlHOJiz8YhljvSg82upGU76U185MH9ghDqc8Wv7oxlPnxV99gfTdqKgBF85pfR174q3WH7wMuvJjfc1IbKMrq2c9ELAY4FuJV1F4HLv5hc8YXFwhF0DNnxYjaAem8NhFAZKrFrAFEsCdEZsasMfccwR0IoV1uTmwiF+s5dMotkCxlvsIQCEXQPWdJVL1afRtdcKBbYcFysHABxMgtY3jBjmC48D1PCNkKKIAQQrYevk9Cro2/N+vaW6xR3OU/sXKoyjZ2rO7v0idu/JlsvvdHTQUwcoht3N3Kur5NVllyLGR9WCKAfPQBCyDr6R+xDtxyCB1yM3QOf2KtfbvMDHm2AMJPgFP2R0Qdi1iuLsd0w/68e0MYXMuC5nJGLvvmZZt3BUNqe3qlpNSrSdmWVHV9K1z2FF5hj59ryfz4S39kn/FDdwPSq2t+HXnh9zKdeTr/vVN8sQfLLAtCNRVAJJy8Ktjwt00P2/5gGF0KC8Y0DshUi8kAolTnFUA68yiJm1p8gL/1zlkxspB5I7k/GEaXnI0pWz+STrk5ZxWtjVpyLaNfZcsrWBNyO6AAQgjZeto+R7SmAtHD927+a196Bej9HwsU9e+wyleH7wMmTrElLKn4tfw1FWzN/uF7Mz9uq2n+iFXryrUMCCkB5MP3WQBp/U9BhuOIdyRXmT0YVNnRr7Tlbu5mkceXJ3Un7jLOi8FV3gnNjSq0yfIrqbvkSrkCIsvdeV3v9KNTnuF1278AjvxK2GhwtdZP06tFHbmfLWvK5NxzrOwtvwF8ExiXNAjs3YFY3Zv5B+SliXj/En1y31XQD5jEyR4gufqZ3ARPgIXRiUUnZEp1IoDMzs3lFUC6FVZMaXMHEJ0j2dU8n67qqWPKdMyCN7KMj7l7zlLQkEPIVkIBhBCy9TS8h5V9O7Cyb+fmvzY/+Rs9Apx+HBg7yv4rq2dXDVI3bfP9HWoq2KTu+MPA9PnCXJnZTHV/TnZ3149lfVgoFMLBgwdx8Kf/IrRvR8EaLFo8ATSJWT8OfrNvx2z2JTEwzrCxz14HwK5OjAx1w1tVBmPTdxBJjHlVtNI7/RBJTInNy7mqJylM7sxN7y68xBpR1lQAJknmJzd9kP69O/0EW0qYSe1TbN/I6cezP2YdItEYZqZGwVXeCe/1f+UfkNVdyb0tfOWuAJesQtf5NRvjJuKWQ2iTmTGldWF2TpkIIHL5bF4BpGfOilFN7p4cMgMr37t6GVWXwgJ/MH2Cz/mTY8p0zA33kcnDot2HDnlhQw4hWwkFEELI1nPpFSwfuAfL1eU5qzjdFH5iyPdu6PwvWxKTqXQqX03q5KNsffzpx9lm9EJcmdlMZ59NdttOuYqQFb8UZz0N7NbByC2jYdqA4QV2Fnpw3p67uzQ/AZ6sBcAmlMN9rfBXl8Nc/9ma+zl4qWfCW9boOzKqcaBh2gBD6lWScJCF0pFDucPctbfS989cfDl7WeOTj7Kyt3wY3iCnL4iR3ha4K8uwUPcVIkfyDMipoVs7nNznwpdx7tvN+pXchGxVypy+IFqlrMfGrEKRDCCzkrwCSJ/ShhGFll3J9JgyHjdTSd0prQttMjM4f/oEn79CN5OlGSK/hG+9DRDXY97izfvKHiG3AwoghJCt5/QT8Bx/Ev495cnmbpvl+MNs2Qvf1+P886yxIH/W3alJPnbmIoIH70Pg7B+SVYFmG9Ysb1tyxx5iS8VqKliIWotZyh7b9I+CDEfn8KNuagkDKlui2lCX3ILpbGVHtUPxjf9scj6qcWCq7wb81eWwXv4gZ0lVwcvYk1dAcm1eXglH0Ku04trUkmL1vDUAACAASURBVLA7O78XRd0dL8Xcl/lAl14B+n4S3lf/DtD+ZebHH3sImD6XXA64QSqLB6PtV1g1qetVCNbck98TJ08DJ37D/n8pHvrchuTXO3IIOPbrmxqT3OjOOJm2eVcSy+LkclkigCik03kFkEGVHeOTE4jVVLCgukquDeXZSjHbvCsQSYw5j9siNcHiKVyfDoXJDZGksCHndmPzrtCemVsYBRBCyNYS70zuOPs6vHvKgOAmN6s7dA+7isE3W6upYGv4Xdr0xnBjR+E98iicF95OljdNdL0u0pnKSJiVRc378SGgpgKOiWsIHbw3c3f31fi9Lg1/u/lx5rBg9aJ+agk9c1b0Kq0YVttzr+XnJ8Bd37ISqSobpH318FeXw37+7TWvZvAW7T582SDF4/sGch6PWw6hLd4zQpG6MZ7fC8HvSVG1ZT7Q2WeA4RrhfS3/ZkuzMjl8H/sM8gURNiAYjmJAZcNsey38e3diSnQCwX07szdNTDW4L7nJnP9anRpA2cr+f+oMG+s6hSNRjGkcGcsep24Ql89KkgFEMpFXABmat2N8bBDRLFXG+NLLmZZTiaTGjPuALO4AWqRrBxDzGmWcN0Jm4HBDYixoyLndTOuc1LzxFkYBhBCytcSr+ZivfAhvVRnCPufmvXYkLLwqcOI3ydK6AS59yVJ/JRzHn4X56kfJjejznfH+GuvoYbERqnY2CQxl30At4LMjVlMB+bAIy0d+w66EZBEKhbB7927s/vRvbA9IAbpeA4Dc5Eaz2IQOuTlxdrpHYcX4Ypa1/Kp4ZbLmjxIVipR9l+GvLofz9Mtok5mFQSELjc2Ht89M4I6v29CtsGBwPnM3a75jetpVGf5KjNfC/itvzHygk4+kf5+7v2PldleLxeL7WxpYSejVvWfWiV/SpG07CO/BBzHZegYre3ewz/paur5NNhrkQ5ZNxb7Omopkh/d18gfDGFTZM04OU3uzKGTTiQAyJx5Jm/TPiccgWRAGgxG1A+PD3YgeSL8ixflD6FVa0aPI3FW9RWrCQoZeIKnlmrMvwTIKl+dtshm9C40zBppQ5ykSZUvt8rkSSrYmCiCEkNJb8SSXWrmNQE0FdI3fwVNVhgCXvY/FTR2npoKFCIBNvmoq2IbgaDTeFfpa4uGR9q9gOvUqtPW7kl3Q+Y7o/twbYTfNzEV2POtcfo+3zyNyYCeGh3rhO/FU+pn5FIkqWH/9I6uCVffWJg1aaEbvQsesBa1SM7oVFowusGaEY9k2E/N7b669DZc/iDaZGQs9Z+GvLgd3/PfCUqwBd9blcGqrF2+cGsPPd7WhacaIPqU1Y58FfqlWn9KGIXVKSOGDUNDPQmC2qlaZ/m7oQOYStuFgskRvrqskebJ62JImQ/NP4I49jcmOS2zvVDCPiVnzR8l9Pw51vGqaLLnPSd50U8sNOX8IXQpLxgn7UkppZIV0MhFAlNNDaZN+78FfQ9t9Km0z+Xh/CyIHdiZ/jsH2fowtOtAmM2cNEazyGpc2Jr3TnwhFuQJIriIGGzWhdeD69FLOSm0kiV82mSlQklsDBRBCSOnV/ZmdDY7FEmdiVa2H4K4sg8+u37zjJBqvxZdudH7N/jxzkf355KPA+InEw4MNH0B39l2omqrYkg/Rx8nGhR7z5o0rl/ET8W7Vrfk9Xj+O4L4daBuahPv0izn3GCQCyDsvsgBy5fVNGrTQaLz7OX+VYUzjyNmXAbJ69jVfeDFxdULbfRL+6nJ4Dv82GV5iMfaeZem3obJ48MrxUdyxqw0XRrTokmcucypZYgFpaN6OPqU1WapVdo2F0liM7R2Kb4oXiEbiV0eahPdP1mZupLniTYbgjl2sK/oG8GfvzfWfw1n7Cqa76+HbU86u6K3l2tvJzfMuXXIJ4vR5tveDX4q1zn1YFg+7ypFpwp5aGGBOPJYMIFN9aZN+3767oW8/KLhvYtGJiZ4GFkBSfib47ufD6szdzMV6Dj0KKya06aE3da9QriVY+Sz7u1mjGgfqppYKGnJuJ74VdmV0raaUZOuiAEIIKa2gP9k0b04EaIcRq6nAbPcluCvLwJmyN9Jbt9RJFpDcqM1PYC+8BPRXJh6+cvlNqM5/BFnLUbbko/0LwDCF6IEKeM2bOK5c+K7mo4fze7yqHf7qctSPqOA4+0bO7uaJAPL28yyAXHplkwadFI3GEr0/WqQmdMrNGNc4E1cbMhJfSlQf0znY5FDXcRj+6nL49t+LfiUr5Rvjm+9Nn8v4MnMmN146OoI7drXhcI86YxWk1KpJaaVap84kQ0Ttk6x082r8XiJ1l/D+2eusctrqqwd+R3xDez/Q8wNw+dVc37416Rx+9IxOwLf/HhibvsdMfzO8VWWIZevanurCi8BANft/j5mNSzca73XzaMpyw/WdZdY7/WiYNgg39Mct2n2Jqw1z4pFEAFFNdKdN+v17d0Lfti+tmtVE5xWED+wUFFhYDkYSV9dyVdDKtAxvwepd8wpIq8wMlaUwyy5jsRgG5+24OrEEja1wIed2klo6mdyaKIAQQooiGo0hnKEJWKLkat2f2WSv7i3EaiowPdQOrvJO2HWKzRuETZncVAwA8x3xKyLD7M+rNgUv1z6P2cu7MNl5kZ1x7f4eMMsQ2LsDSvn05o0rl94f2Rjz3CsQnL4E954K3JgxwHLhrzl7eyQCyFvPsABy8Q+bNOikUCSaqHwlkpoSDd/6s0wGASS7jx+6G0qTG60yM5Za9yYmq0MqK1tO5WLL9bLtc5Gb3Hj20BDu2NWGn1oUGfuH8Es5htX2ZKnW5XhIGTmUbMR3/nm2aXu1xMR9RHg/v5E+sOrfM48pWdJ3cC973Q1YMDlhOPoCuGNPQ6IxQTLcDk9VGYLOPAoXpF7xSw1Go4dZrxK+D87y+vZhqSyerJNplcWDVilbJqWcHkq8p/Pj7cJJv84Jf3U5DKJKwf3TOhcmW88hvH8nu1IWt1YzQX4De6ZmhHMmd86lW2I9q6Imz2Pf0c2IRGMYUNlwdWIJSnOR9pbd4uzeFTRLTNlPYpAtjwIIIaQojNxy5jOI48dZ8PA7WAhp+gfCE2cwPjYA1+47YdVk7+S9/kGsKrXr0gGH7mYVsACg8e+ItfwHSrMH/mAY/qOPQHq9EkPdN9iEp78KYcscvFVlkM+MZD3Mpur4Kr4c6aW8Hu4ZOAzb/ofQM2fF0qV/sRLDWSQCyJtPsQCywclwJoFQ8sx0m8yMFqkJk4vOREPCaDRDAOGXndVUYGZ+CV1yCwzNPyUmq+NzWnQrLAgY5ZmvDjk1wNRZmJq/x/P7O3HHrjZ8dk0CkdQEIydcY+9dCaMzZeIqkppg867A4g5gufPH5FWhy39iYZAXCbEN23yp3tVNClO7jKfiq60Zp+PNMPPsWp7F4mgj3JVlmBOPQqznIBvvgaeyDH7LGlfoYjH22ZdeZX/ml4apu1j543PPCXuDrMO0zoWrE0sZf94VJjfa45N95VR/MoCMtggm/JJFKwsgN35MCwNTohPs51FyJfG6Lj/bjD+do5fH6IKDfW5WlW6VGjh0zFpyBpBOuQXibH1rNoiv9HZ9ypBxjwpJZ3YH0DhjQJ/KlvnEFtnyKIAQQopC5/BjSpvhTGrj39Ma4AVCEYyMDcO1+04YlZObOIiR9P0bqdWsRB8j3PgP9Kts0Np98O27CxLRUfQP9iG0fycwfBAugwruyjLIJrL0hNhszfEKXIfuYfsN1uDurIL50BPoV9qgrfsCsSuvZX1sIoC88TgLIGef3cyRAxCeme6SW9AkNmBK68Kgyo4BlQ2RTAEk3vgvVlOBMbEM/UobjI3fJCarM7MKtMvN8KnjE+ShA8nnhoMs0B59AMvV5fjP7r24Y1cb3j8/lbEb+uomdCKpCfNWL3qVVugvf4xw3dvsgatL5s53sqWDfKUs+7zwa+CbO1pmhffb55P3py7xukmLXSfA7fllYqIsnx6Gu7IMHr089xP55Wuqdvbn1M3xfbtZc07+6qTbmPd4UpcTZbpiIFlyxSfzHJRTvYn3VD1yQxhANCb4q8thbPwmLQzM3DjEfh75vVvIr5fHxKITHXIzPKu6jU/rXOiS5w4g3QorJjP9/toEK+EIeuasaBIbs/fGIQJ6px/1U0vonksPlOTWQAGEEFIUi3afsMIQwNbHH/t12hIafzCMobExuHbfCf3s8OYNIlO381QdXyF49W20y80YVhrh3VMGaddFdI1NI7hvBzBxEpoFFZw/3QnJSMfmjSuX6+8CJx9F5MBOuPPYd8K1fIOlYy9icN4O9fXvET2boRJTXCgUwt69e7H3ny+wMry1T23myAEgUcVqSutCn9KGuqklTOtcGIwvh8l49nJwH1BTgeiBCoyNDmBYbYf5+hfwV++Av7ocs9JptErN8EhE7P3sr0o+d6GX3edYgOfQb7Dv+w/x811tePXEKFpl5rQlLuZVPSBEUjYJbBYboal9B9aL77ExNv4daP1P8on8Rvnhg5kn6XzpXu2qz69lNhlYJFfW1WcjHImmTZ4XmqvgqPltYvwK6SS4yjvh1MzkfrF4tblEd/doNFlquPt7VkLYOM3u468Q5oGfTDfOGCFZSv85m9ImJ/uqie5EAFkYui6Y8EvVeviry2G6/lVaGJA07GUBZOpM4nXZ+5h7H8e0zoVWaXq38bF4kYRcz+2ds2I0W9W2DeKvErZKzdkrwxGBRbsPjTOGjIGS3BoogBBCikJt9aaXQeXPBqc2/wM7a94/PgWu8k4szPSxydHqJS43I9FEMEtVn57vsXLhTxBJTOialMFTVQbZ4A20TS9gZe8ORKbOYUymBLf7TkgGmzPvX0gRDEc33ljsymtA80cI7N0B7YRozYe7Gz6B7uRrGFE7MNe0B5GTv1v7GPErDjj9+MbGmkFq5+uJRSe64z0a0ipOperbDRx/GJEDOzHa14yJRScsdZ/Ac/ChRMlWkcQIbixeorjnh+RzWz5JLJuyXngXdV+/gJ/vasMzBwfRlVq+Ny61KhO/2bgr3jPEduYNLFz4EO5AiO2lufHP5BP58sh1b2UOtaHlePWyVc0L+aaPLt26y9wuuZYFVxEj0RgWr+2C9dhzySsgs2JwlXfCqhzN/CJBH7s6Y52Ll3dO2WN16B62JKtjF+sJY5bFw5w6r/EB7Ge3XW5Gq8yc8Wx+6mR/frwjGUAGrwkm/DLVIvzV5TBf+zQtDMjqf2InBFIq1rHyvrkDiFjPQSQxpnVD54sQ5Hpezj1LG8RXdOqYtdCehjwp4nvDMgVKcmugAEIIKYo5k1tYYQhgZU4P3Q2EhJN0bjmEnnExW9s+1pFcCrLR3huyelaZKNskYqAagTMvoEVqQt/IGLjKOyGf6EO7zAT3yefgVvSic3oenqoySPrqMy8fSmH3rmBK58q8zyFf554DBvfBd+B+aNoPrflw99X3oan9K8Y0DshEhxE5/Ku1jzG4N1516pGbH2cWq68w8LdhtR29WfpyoOd74MJLCO3fifH2C5jRuWC9/AFcJ55LbFhukZrA9R1GeP9ORDr+y5634mFXFKbPAwB0oiqMfHkX7tjVhkeq+9A7xzabp1KaPWhN2YDcp7QlJrLOky9g7vIXsHtXgPYvhY0a+Qpqh+6Jh9pVk6BYjPXSSNmnwAaVUsZZ1R7vM7J25aNYLIbxRYdg2dpKOALtxX/CfOaNxPhnFXJwlXfCLOvP/EKSy+x7xPezSb1yc/RBFqxa/8Ou+PBFG/LtQQP2mW+RmtCdpeRt6mR/fqw1EUA0A5eFIUM5D391OSxXP0777Mxe/ZYFkJSqZFq7P78AIjUJmv1F4xvAB1S5A8igyo7+bEsGN4gPbT0KKwZUto39vtgm+GVzIqkpLVCSWwMFEEJIUcgMnLDCEMDOvGdY9uPyB9E1MQtPVRmkg81sYyx/1ngjZi6wSVY2I4ewfOJJNEuMkIz3w11ZBrlsBt0KK6a0LugcfrRML8K7pwyS7kuZJ88pLO4AxjSOzGf583XqMWDsGGyn/gjd5U/WnABxF96E+sJHmFh0YrqtllXvWusMe99P7Pu7wf0ImaQ2nlsdQHrmrFgJZ1i/3fk1onVvwbfvLoibj0Ks52C78C7s599OLNcRSUwwNX8Pb1UZfE3xCmHyRhYwfTYAgHLoOhRf/B/c99VV3Pu/7ozLvlKXBK2+uY8+Dtm1H9mEtft7YZ8U/qoRH0IyOfU7YOyY8L7URpb5NLV0G4GgH9wy20vTM2dNrHn3B8NYOv0mjJc+EEzc3ZVl0E93Zn49Pjj1/JAefk78Fpg8DTR/yPYe8RvszfkXguD7kmRasrR6sj8/2pIMIP0XhSFDoYC/uhzWyx+kvS+Ky19iZd8OQZPN1UEy+xUQ4T6g1CptuZ6XLTBvRljglllJ2QGVLftVwS3E6Qtm/rktopEFO3rjvYVWF5YgtwYKIGRLy9Q0jNyaZvQuNEtM7Gwyb6Ca9SJYxe5dQfskqzYl6buOiLyZTYRsqo0NYvwEKz2azcQp+A8/jFapOXF2VqZUJ/oHTGqd6Jo1wbenHJKOs2tufjRyyxhS2zf2j/XRBxGdvgDdxX/BcOo1LAdzvxZ3+iWornzJ+iV0XGHVguKTzGA4KhhLYg/Iu4+yPSC5wtlNytbkbUTtyL6BtO0zeK+8A+v+h6Bt2QuxnoP93JuwXP0Y/uodWOw7D5HEBPWFj+DafSfc9fEiBn27BdXCpqUSyD//P/jzN/tR9k17ogoS/z3kN0xnW37jrXkQ4ob9bMI6sEdYiWygOhlAUoJbIBSBzuFnz2n6ALFzz8Pk9MK7EkYgFIFxoontX1jx5rfJ++IfgPp3oLG60TBtQKfcDG/89yK3HILx6PMw1Cf3SUjnF+GuLMPC6I3Mrzd2LNFjBYfuFl4NPP0E+/uG94C2z9L75uRBbnSjVWZK/MykWj3ZV480JQLIYu9ZwfdeLpfBX10O26X30t4X1cVPsLJ3R7KHCZLNJNcKIC1Sk6B7diAUQfecBSPq7P1DxHou7bPDfz1ivUt4VfcmOH2sgtew2n5LbKqW6DmY3RtcWroBfNniQZW94B3qSeFQACFbFucPYVLr3PK/jEl+prQuNM4YBMsf0PMD2+OwitWzgrZpNXx7yjHTfQVBSX3mUqfrNVwDnH0m+9/PXIRv/73olFugGbwKf3U5JBpzYr9C95wFw2o7vNU7IW09sebEQ+fwo1dpXTM0ZBXfGByU1ENd9xVMR55ljfR8NjZB5Jf9jBxik1kA3LEnoaz/gZ217WpiASReRlVr9wtKoyaqYL10N6uCtY4N0Wtx+oIYW3RgfNGR6Puw1oSOF7nxEYxn34Xl6DMwNn3LlkPVvgLz9S/gPXA/dJ3HMKJ2wHj2Hbgry+C8/Df2xO7vgatvJl5nRG3F5Oe/QOUPn+KOXW3oV1nRNmtO7MvhN0xn7J6tc8G/dydmWk5CYXILe4IA7LN7+D72uTzzNAC232VQZccNsRG9SisCRgVCB34JiegIuhQW9KtsGBadhW9PGcLBAGASC8tCZ3L6CcRqKjDfcgDdCivaZMk17w5fENaaR7AkqkqMW7JghKeqDIr+usyvl3rlZnUYP/sM21R/7W1W8SvRs2Q895sd5wmE0KVgPyP8lY7UKwSBEPt+85N99XBDIoBou08Jr3LIpuGvLof9wjtp783C+X8hsLecBc64Ca0jsb8o161dZhZ0z/YHw+hSWDCmyR1AJhedaJeb2X6glK93SG1P6y2zXvb4PqkxjQNdckva75VYLFaQvSc3a3zRgSVX6a468J+jYbWdnSyyrK9RJtkaKICQLUtl8aBbYUmc7SuFeauXNrhtVDQK2OcxpnHg2tRS4mxVIBRJbnZdxewOoHVGC9+eckx3nEdg6tK6JkJZ9e0GLr6c/e9nr8O7pxy9CgsWe2rh3/tLiHWuRIdskcSIGZ0L3v33Qtp8eM3P5qLdJzhjvW5BH1BTAd9sC+QNlbAc+A2bPPNN7rh4s7lTjyXOBrsPPgRFE+sePdDfxc62xye4cya3YBN2IoC8sJMFkIN33dw4M9A5/GgSG9EpT55dnhOPwn7uLYh1TjbZWr0niB/X9b9j8dx7sJ15A5a6f0Os5+A6+QKMjd/Ac/hRLLXujYeSP8JTVQbrubfYEzu+EnyeBuZtqPv8cTT873XcsasNN8RGtM+a0a2wwOBaztm8ji8DO915mXVbnjgpnLB37GJLsg7dDVz8A8zuALoVFnTKLayKlsQErd0PY8NXcOy9H2NyDfqUNqh7zrI9Gtxyyh6LHM02Tz6C0PFHwFWVQyyVCDZRWzwBOKvvhq7reHLci1Z4q8ow23Ux83K9of3JALL66uOFl9jn6MrrLGD57PFKXkN5vecqiwfN8atdmZr+LQcj6ErpVr4wdD0eQHZA23VCGEAkEyyAnHsz7b1ZPPselqvLk8UHfDaMzqrX3Egu1nPoir8/vHwaGIr1HGZ0LrRITXD4kv8e2L0raJs1Q+/c2Bl4q4cFkIl4yFld1cngWobaunUm2UNqe8Yu98Xii/fuGdc40TFrod4pt6gli50CCNl6AqEI+pTsbKVgz0CRzehcwjP2ZP3iy0wmZmZwdWIJaqsX/mAYUzoXQjc+Bpo+SHuKkVuGSGKAv7ocU61n4Bs5lezSvBFd37Jmh1lEFCJ4qsowNGeAruMwW4Kj5xIdsvkyn56aByBt2r/mZ1Np9qBtVnjWdF28VqCmAm5FL6abDsO555dsssOXgOV7Txx7KNGjwrP3Lsy2sglp39AQQvt2smpGAMR6l2ATdiKAPFfOAkhNRfYN+uskXeLQPiu88qFvPwh/dTmkah3GNU50ys0Zl1kGrv4F6nMfwHL5A9guvAuxngN37GkYmn+C68SzMN74IX7fk/BWlcF86lU22W75RPB56pRbUPXFXzDz48O4Y1cbzgwtsu+L0oZOuRkqixciSbIHSOqN3wQ93d/Mqh9NnxcuUWv5hG3UvvgyYnV/xrDanuhvIdZz6JmzYnDejt6xSfj2lEM10QmxnoO2+xS4Pb/EpNaJqEMTb0qYo2Tu0Qfh6jsMrrIMmv6Lgk3UBjsHrvJO4QZunZMtEWw/nfnqcX8V2xxfU8F6m6S6/Ceg939s2Vd/FRDg2OMWetd8v5eDrKP8oMou2DORuuTPuxIWTPb5q4y+fXdD13lE8P2fE4/AX10Ox5lX094bfS3bC4SubwAA0aYPoL3yKQbX2Mch1nOJQgSxWAwOXxAOX7JM9FrPFUlNsKQsPTJyy2iYMbArZBvAF2rgf89wfuHvC5mBw5A6S9POIotGYxhU2TM3lS0Szh9KvGc9WYodkK1vXKmnAEK2niXXMpolRrRKzXD6SncFYkxT2kvNt4X5DsRqKqBoP4Vrk0uQGThYPSvoU9mwUv8em8itoneyijb+vTsxKToBT/8RYdO0m9X2GVvfnsWKshueqjJMKDRYatkD95HH8Obpcbx2chT1U0uJM6zuw7+F7Hpl5qtj4ycAZSsAti59Q2UinYtATQXsqlFMtJ2Du7IM80Z7ciMxvzn40N1A80eIRULwVpVB1nkeYj2H7vF4/5L4laPxRYfgrHQigDz7CwT37kCspgIrwfUvJwmGo4IrGdFo5r0V5mv/gb+6HCea+vCjSIGOLFeH/Bdfh+rCv2G6/hWcp19moS9+5cNR+yeY6z+HWM/BW/MAfHvKYTr+ElvKdeOfrFwu2LIVkdiEj778HPrvy3DHV63Y16lKLsWZNWN4wZ61d4RcNgN/dTnEY33oVVoRktSxK0R8QGv6gB1r7BjC/XvQqxQu5ZrSunBDbESbWMs2WQ9ehVjPQdd5FJ4D96NNZobDpBX24sjk8L0w9NXCfPgpGBu/Eax5X9JrwVXeifkxYRdx394KiFuOZQ6+vT+yoHH8YbbRPFXdn1lIP/cca+7INyucX7vnjcMXFIS5TF3HueUQ2maTk33NwGX4q8vhrXkA+vaDgq9BOT0If3U5nKf/kPbeGE+9Dt+ecnbFC0D4ypvQnf/7mvs4xPpkNSvOH0K/yoZJrVPQiDJ3ADEK/j1YtPtQN7m04f4g/MZ9sZ5tkk+9yhKNxjCktqNLXtrVALxINIZ+lS1jj5diSS3t3VfA8si3KyO3XPITq7FYDB0zGgogZOuZ1rFuuSKpacPra28W/4ufNrhtkKIZsZoK6C/8HU1iI8Y0DmjtfjRLTFi+9CZbyrKKzsE2Lvv23Y2p5qPgeuLLRuRNGxsLX90nC69qEO7KMkjkczA2fQvXyefxUFUvHqrqFZwhdR99HLN1PwgmCgmnHks0rJvUOiFavfF+PSxyoKYCxnkxhrsa4aksg1SpSm6AXhoHIuHE2eyw38Uqh/Wxpm7tk0oWQBZ6EhuuU5c9JQLI7/8vPHt2wltVhhGVYd17VpZcy4IJiW8lLFhqw9+cta/AX12Ov+45i0f39mVcbgIAvrMvY+7iZzCIdsN99AkWNg4+CF3HYdgvvAPrlX9CrHWwyeu+u2E68gwLeQ1/A9o+B8AmSvWTerzz5Q+w/vj/sHNXI/7bNJsYC1smZcy4QZ5NgIdYAJmZQqfcjGXpDWG53evvstK8SD+zz99GFxyY0rri+1aOxK8C1cBz6GHWcV0b3+St6cv8jY1GWXjvOgvdxX/BceZVtErNieU4i0pWqlo5PSQMIAfuw0zTQcHvzmg0hiXXMvwtuxC9+mdg7CgguyY8q17/DpvUn36C/X1qd/Q1WFaVW860n8HlZ5utp+OTfU3/Rfiry+E5/Fvo2/YJvgbVZA/81eVwnXw+7b0xn3gZ3j1lQOunAIDwxVegO/MuxjW5l1GJ9az4Qc+cFRqbD80SI5olRjSJc3dQT70CsmhPVg2TGTg0TBvSrvSsV2oPk9VlZZeDrElhk9gouPpSKnwhgVJedUhtOpmznxDJSG5yl3xJXyAUwY0JNQUQsvXwzapWX/IupnAkin6VTfAPDrkJ0jpEayrg2v8rtEqNGFTZrN5AgQAAIABJREFUMaV1on5qCb6zL7Mzsqss2n0sgMQnUs62/7GJ0OqeCut1/a+JCWomTvU46/0xK4b52qdw1P4J5d92YMe3HYKJCHfiGciv/je9/jy/ZCW+D2FYbccNifHmmxHGl69p1EoMDPTCU1WGqakxxDq+YsdZHGDVlOLr+VecS6xHyXA7xHoObTMaVi1I1YZwJIo+lU2wxCMRQJ7+/2Crvg/uyjK0T6szB6sctHY/+lW2RIlSvheE4KyyzgVvzQPwV5fjne9q8MDunqzL09wnn8Pcla+h6zwC74FfsUn1/nug7T4J65V/wn7hHUjnWaM67thTMB96gv2eqHuLncEH+/m9MKrDH7/cB/v/foHHvr2MDy/PCN7HyUVn1rX/8+PtbLnYnJJ1XZfFe3YE4v8+XX2DbXoHO/uf6yw6Wz72I8R6LnFlrV9pw6Bch2iuK3vhICIHdmK64zwW2g7Dt/9etMuMiTXv6uleVipaLhMcz3vwQYgb9sKQcrbeEwihS26B+sKHMNe+Dr2TVeoaUrPqbnqnH7F4t/cYX4430R197eC/5FpGiywZ5iYWnWldqu0pZ67Feg6Lvefgr94B95HHsNRSLQwgE53x9/fptO+n9dhz8FaVIRY/mRA8+yJ0p9/KaxkVv/RvUutEe7xZ4lr7P/hbm8wsWG41qnGgU27Z8FLh1GaYLVKToMIU/9kSSUwlXfbEWwmzpXZD6tJddeCvkPMhP7WYhScQosI1a5jSujC3wWWDG+XyB3FtREUBhGw9w/FmVaWs8c3/ot0Kv/RvadPnET1QAU9VGUZGh9CrtKJPZUPd5BK8J59hTfBWUVlYTX9vzYOQNO6Do/kbNhGaOruxsVx9A+j+LutfWxZYF+k58Rislz/AUu3buGNXG6uglLKcyHXqRcxd/iI9HPNdri+8mOh50DhjuPmSlQu9QE0FZOpF9I9NwbunDJNDnQg3/iO5NIbfKHzqdwiYlCyATAyyCZPEwKoFKW4kyo3eSNnEHAqFsHv3bvz00s9h2f8wvFVlaJtSrftnTmn2CKozpU4Q+BsfGHx7yvHOVz/grh86BX1hAqFI4v9dR5+Eqv6HxBlysdbOyu/2noO5/nM4av8E+ayE7RE4+wYsNY+wK5XxPQwr4QhWwhGcGtLgya9OwPHTL/Da/2rxdu1EXhNNsT65QVq6YIBIaoJDzt4LvqJYYp8EABMXyLqUS6zn4Dj7OszX/gOxnoOh+Udwx3+PKa0LLRIDKxKQYYJv8QQwu2jAyr4dGO24AtVEF/zV5RiamE6cfVYNNbIrXmqd4Hiew49Aer1ScPLE7A5AJDXCfOVDGGr/DJHEiGaJCT0KKzpmLehSWBBq/BditU/Bv3cn7GOX2BMP3sUahq5h0e4TvOdTWlfaxNziCQgDSE8t/HsrwB17EgbRbmEAjJfBdh99PO37aT/C9v5EG/8BAAie/j10J1/LaxkVv8+iL17GNd/Pg1gv3MAeigf6wXk7miUbO1G2aPclPj8iqVEQHPmrIz3xviqlXmrE/x5Z3U+nmFKbTq7eSzZrdG+4KMDtjL8SXuqN+yYugIsDCgogZGtJrc0vkppK9sskEGKXvuUlPlNwy5s4icixh8BV3wVlyyF0xc8YtsrMcB95VNDNmCc3udEuM8Nz6DeYbdgDa8MXbPK3uqnbel14KTFpzGRJMweu8k4op/phP/8XyE78NRFArk4kJ3mO2j9BdfHf6RN1yRU2zhO/QTDMlio0TBsEE4p1mWsBaiowNm9Cv5SVJZ7srkPo4qvJM9Ocnv3/4Xvh102zJWSSaYj1HDpmLfDv3QnIriUqx1yfSR9P9OyzsB19Gt49ZeiYlAv6JORDsuQSfJ2zRvb+pU7elNMD7Iz27jvxry+/xC/+2y4ILTqHH1NaJ6LRGJwHH8F8YxXUo6J4L5b5xD4K440fwJ14JrFHwHL1I9j3/xoKkxuhsy/AdOMH9KlsmDN5cLRXjQe/ugTXT3fikz1H8HTNYN6TTf7svFjHltGZFUPCZph8yVoklwxmey3rlX/Cfv5tiPUcjI3fwHXqRYj1HFplZvj33ZXxyp7MyKFpRApvVRlGu69DOs/2kkh6ribWvCs6a+HZw8aYejz30cehqP9BMMlgod4E6+V/wHbxb2ljbJYY4Wn4GOH9O7F47j10S3UsqB65HxBfyv0BMEmgWLKjLeU9n9a5BO8vIFw6I9azDfm+fXeDO/57GG78KBiPeqQ5vjzrkbSxOg89Ak9VGSLXWfnllROPQX/ilbzfW5HUhFaZKa8rJqm33jkrRhZYEQffShhdcla+d6O9KOYt3kSpapHUKKgwxTdY5CvxbbTnyEbxS8JK2a9EbU1+vyYXnYIrqVNaV8mXF21l/L9LqdUQS2He4qUAQrae1G65ongpy1Lg/4Ep5Wa728LIIYRPPw197Z9hPvcO2mTmRKdk7sADwGRt2lMkS2wPkPvI7zB3/SeYr37EJn9DB25qCL6VMFvrfub3rA9CFqoFNdvoPd4OZ+0r6D/8j0QAqelObmB2nH0D8+f/lV6ggO8uXVOBwEoQ3QoL6qcMNz85kV5F7ODdGFBaMai0wl+9A5Oikwieeiq5JM0+nzimV94Ox0+/wP6GQUwusjX43v33AjMXE92Wb4iNacsKI6ceh+n4S/DtKUff1Oy6/3Ga0DpwdWIJcqMbsRjbO7V6Azq7mrEDpt134csvP8Idu9rQMG1IFJmQLLnQPWcB5w/BeeBBqEUHoJzqh7+6HHMzw/BXl0M93Ah92z54Dj+a6KJtaP4Rrn33Y2zRAcfhxyC79iN65lgFvf1dKuz4qglc5Z04erwGO77tSOw/WOvGln/dz4KC1AytfELYDPPU74Dx4wAAhcktmHyvvhkbv0nsZTBd/xLO2j9CrGcborl99yMyeUbw/QyG2dn1kZlZuCvLIB1ui1/ZeBQLjf9Dn9IK30oYc837wR14IO143PHfY/7aN4nN0bFYDKMaB3oUVtgu/jVjd/GOWQvmhxpg66pBs3gJXXILBlV2RI/+Gpg+l/3NDwWAg3dBPXQ9raP86g3VBtdyYqmRWM9B23UCvv33wnXiORibvhM8l78C5T346/Svr+bX8FSVIVz3FwDAytHfYOnYS/kHkBx7f3LdBlWsv0kkGks0D5zWudA+a97QGeXUz0+Pgl0h5pZDgveNLwOctuyzyPh/FzdUXnyDUr9f0zphoY9RjaPkZ/e3Mn+QvX+TWmfez9E7/Te/jzGLSa0TDWPzFEDI1sLvvRicZxVqSnU2wxMIoV3OKraQDRjYg9C5FyFrqILnwAO4ITagVcqa+7mrf4nwTPrZ1WmdC11yC7hjT2K+4UcYL7zPJn8pjcfyFYvFMKV1sn0YJx9hFaSymFHp4Kksg3qkCa4Tz6LhwEeo+K4D/+/rNuxqSK6zt114Fwtn30sPFnVvsZK4NRXwOtk/0g0zhpsP0VNnEDn2cKJTs7fmQYgb92Ll0K+SS9LM0kQA8Y2dhe6bn+OXX13HY/v6cXlMB/eBB4CpM4kqRasbsQFA+PhvoT/1Ovx7yjEyLcXg/PpKfg6p7WiaMSaasrXLzWkb0A3NP8F99HHMVf4WP37xN9zxdRvOj2rh8AURiZf2FElM0Nh8cO69F5r2I4lKVOrhRviryzE/1gpd13H4DtyXWJ6l6zwG99670S43w7b/Iejb9kOsZ8tlvrkxizt2tYGrvhtdl/bhjl1tuDyuyzi5PNI7jycPDKBvjgUntlfjdxDrOXTKLZDLZoTNMI89lJiYr9UEj994LtazSmCOs29ArGfr1x0HHsLKiPDKniM+uZXKpPBXl0M51cc+d5feh/ns2+hSWKBz+KGo+wauY0+lHc918gUs1n+dWCbDn7UeUTtgP/82LFc/SnvOiJqtpR9UsfA4HZ/wBo/9JufPDL/vab7zJHrnhN8DkcQo2Ai/+kqRrvMovAd+Bdepl2Bq/FoYQAbr2JK9A/eljdWz7154KssQuvwGG8LB+2E88mzeQaJbkezGvp4bv4E9EIokSueK9ezKyEYqYSnlYnSkBNg2mRmjGgeM3LKgulpLSgnmUuELLmQqF1wsUgMn6HovkrJCH/zqifFFKsubDV/CeD2f10mtc1P3wvLLF9umqAoW2WL4KhtD8/a0TX/FxP+gjq3jB1Vuct98z4ccjNxyxn4Jt4SeHxC8+CrGuhvg31OO3kkphubtGFuwwVNZhoC4Pu0pYxoHXj0xhonvH4am/lsYzv4FsZqKxAbj9eB7ymhsXuDIr4CZixkfF4vFMDTHukhrBq/Cc/hRnKz6BI9U9+HeH7vw/vmpxD94fdWvQfTjy8JfyrEYcOzXrDRrTQU8ejnaZGY0izcQokcOIXzqSbTHKyxxx57G3JVd+P/Ze8/nps69bfT/OM/seWbe8+18c4rBdnA6AdKAJDsd2AkhO2SHJBBCSEiQbbmCQe42rhjcsE1xt+Xee1lqlmVZsiSrd1nu9nU+3FrLaq5ASPbLb+aeSSyx1pK0yq9cZZ727BjIIUpYdAHSfA3yqOfwUmwjQuOacTy7D+aMt7E2kAOdncBf3HXzl5aWkJGRgdTP/z9M5BFvhRGKtyN4Bd0waB3Xo0WkQ++U0Qd+RSmt0Jeeg6HkDAauvY+0sK8RyOYiq30KRscC01WtGFWBp7LCnPgi5K23IJDIXS7ZN+FMCoFkuA3yjhI4k0KgbMyAI+11yNsLMZu0Dy0iHexp+xm1qTGFBZFVAgSyuTDfeAdTNRzsiWz0KCTpld0hRVBUIwLZXCRwJ0ApXVOLvE+YBHOIJyDnIC2Ze+MVgH+X8UXo3MQET95RDGfyPlAKM0Oip5SEj6DPOAxnR4rHdyozOFDLU2OcP+qaAPWRQoabAnvaG2jkKcBTWSAp+c2vT4b51gmo7rMYyI7BJQowqrDAVPg1w0dxX2MKC+p4atTz16FJdTwNnNmHN4c+zhqxlh4KSU2SD6fCW0TEHbtPKa2M14751gloKiI8/q2ss5TxCPE+VmfSPlg5wZgv/gIAMJ/6EjSZvmT1R72G5Gam8+9OHH8oKdhZwm/q72ln9kPD1+p4atRQM+u/h5cM8JMIm6sxV/sw6n4PGXSDiv6+6vka6Ozz681LyV/DM+WvGAbHAmp5anRPGrd+M4iaYJfE4NO0epigz6E2nvxpAfI0/lqxsLyCNpdZVJPwyUGg6BF7j3T7F+qg3LR7xSNXOGi4kCsWllfQLzM+8c7XrqOJjfny02gZJKThyX7iWTA2pYaNEwwHv87nn/RIjXgrsQPNEW9i+kEk1PlfYTUt1EPBanV1DTOWOf9uz25BT7JGp00kURdW+H3fwvIK2sU6OBIJ2dmRth/Xr7Lwr5x+HE7pxPEckgQ+GJ7BzfDjeMD+0FOgwK51waLKgPRQWCU9qONpdlVELy6vYn5pBSvt12HP/xQ1FHFgN9/+Aqrb3xIPBBqSJutkChBnxQWMRwbjvbQufHKjB++ndsF04whWetKhts6hnq9h4I2rq2uMCtalN/8XwtvnCN+CP+aD3d8saFJqr9RIZE35ar8wJ9rHovHq5yiMOIZANhfXG8ahMDkZXf9mkQ4DU0ZYOUGQdxS7yOchmKmNJ5OA0R6IhBScyS/Ckf4GbNlH3YjqJsymvIzptlvMPqOqyQTEnP85NJVsvJ3YgRM5/R7H1SM14IWYJnyQ1oXX4lvxza1Bcrz3f4ep4CtQSmKq182TEMUqWce69LEbuX8zDwoaLiaQyGAo/RGG0rPMa5rMf8LefA0AaXpY7U5MtN9Bq0gHMdUPZ1IIxvnDoJRWF/H+BQzX30KP1Ahl4fcwlP7osz9TwSlo7l1ifkeFyYlaHkmWTbe/hLYizO9xton1Hold27ge5qwjWHNxXfyGXYPVtFBM3o9Gr9SIcf4IIwvs3bF3x+5TSmJMab/xJkwFJ6F9cNm3aHO5pFPu55PrnDAnvwr7rc+wsrIKR2IwDJnvP/YCxJ3XIlKvw4Dcr6kdh1lOuF0ddX73567Q9bBck0cRDJST9+RkgWmVTPcCRGOdZ4RjHlYW+b85aPPM7Z6vzkUiqf6oZJfX1tYg1thJESRUPC1AnsZfK+gHev8UwbA/KQiU0bGAWp6GwfxuFQvLK+iRGh9KtYuBC7nd2PX2BXCF2ife+dp11F/C3P0fUUfNwJFxgNH7F0jksHKCYBY0e7x9bY10lF+Lb0E1621MlbOgzj2OlbR9Hh4ejoVlDMnNfn0k3MPoWEAdT4MukZIkkBNcv+9zuEja9tTXoGjOgTN5H36PYuOn0lFXEdKBMYUF76d1ISvsC1RGvOdZWEy7SMqmKSA9FBaqBnV8za6KaJHahvYJPZR3/4Ay9wT6p0y4Vj+OgdSTMGUegT0hmHyWjutEwtVVgMwVncBI5Es4lt2Hkzf78WZCO/RZ/8RyRwIUJifq+RoCtXFNOBYXF3H5jz9w6dA/wCu85Ep2R1HPV29buYsmtw/KzOiZNPqVNK0aVYDHehZVBUkojTmJ+tiPEcjmIrpaiAGZyZUga4j6nUjlcvcuB6Uknha6uxeZRDylWYJUTgQcicEw3jyGuORkGOP3gifTwJkUAnlHCbPfy/d5CI5uhLH4P9CVX8B3hUN4Nb7V49iu1o0jkM1FNTWDU/kDeOM6ed1QehaGO9+vd755cnIOSrjA4iyjQkZ384Y3kXIVj/Uxx28s/ha68gvMa6qcz2Gti2J8h/ra62HlBGGUx2OI+yIhj3m/vuw8tBlH0CSYgeHWl9De/8NnfwRm9Qvq+BrMWOYw6OIDUUorzPnHfeBOG63+KRP0me9joT1p4xPAosBK2j5M3bmIQRmZ8NB8F29FJ2+ujJKbCnvm236nMtNtt1wFCFFBo//Om1IT9bOMt2HM+gA6sw02TjCsWb5qWY9j1fHUUFvn0CUxMDyn7knj7lWhjJOYTQzBWHvlNvZNIIpPMmgvl1rek5vGeHPM6gUaqCxzDNTQXRXraXiGwuTEvWGVhyHtZmFxLoIr0D6yqZLevgCuQIs+qelpAfI0/noxt7jCmJi1ifU7gkA9ytDZ51HDUzMmR6ura5tesM7FZbRP6B+qQ7XkGiGLNeuddbHGjnsjqife+dp1VJ/HbCVJhozF30Jfeg6U0grh+DisnCBohZ0eb6fH6CExTahgHcZI/gVosj/Bcuo+Dxdz8+wiOiWGLWEAauscaig1WkbFZBsbmL7REy97xpuYqePAkRCM78NjEVcnwtniEbxytQWZ7ZMIZHNRdOU/qA57B3x3suNIIZB9gECxsvbD0luAOr7GQ7pzO0Enoo1CLRRF56Ar+g8opRVvJ3agMOYUZpNegI0TjOW8dwkkTVTNFCALmQfRyX4D39wexA9Fw3g1vgXanE+x1HIVU3oH6vkaDMnNaBRpMWOZg0xnxR+XfsNvh/6BseIIAvfhDe5I/IHuiHorCrU8uImhq+9iVG5EbFYBhKwA/JhYiBuR32Iw/igC2VxEVglcPCviyTAybUHd8CRsnGBM9RAzRdONI2i/8iGm2M8itrAeeyK52BNRjzbOv9CcegbfhBPYGa2UNdV9jzmGi2VjCI1thu7urzAWfYME7gQDs7rZKQOltOKD9C4cTukEpbTiWj0pRpoEGiLve/dXt+SPlsytApwmLKfug2yowa/ksPcSisUEQjbUDEv+59BUhK8n4XlfwlT5O9NpFLbfw2wiKVYkQ61wJoVAOD6+XsxQA7BygjDAveNXPYpSEo6SvvQcw7eo5WmYAokQvuO2nXCrsz6CrZF49djnl6AwOT3vg6YpopxVcAYj0wTi5UzeB55Mizqep4ohT2XxwO6rGpJgz3zXLy9luiWPKUB4svWihYblmXM/hj7jCCgpKVj9qWU9lgKErwF/xuoBVeuVGnffddePw5EQDF7bvS333SDQYkL7ZGXh3X1JnoRAjLtIzfpvQiZDdDNkJxPc/9tiQmvHg5EZtIm3d75qbfOoprb//s1iZXUNfVPEO4dSWp8WIE/jrxc0HnxQZt4VttY6t/RIsKla2zyqxmYY0qHOPr+puoZ9fglNIu1Ddajo6U+XqzuxuEyS8btDqr+vtOCD7+Co/gP1fA0hImcdAaW0QiQYg40TjGlBLwBycxrX2GB1LqFRqEEgm4t7rKNoTzsD7Y33SPJ37zSzWZ1tHlyBdsuJ07SREF9bB0aJKziN4fcKnY14FNiy38PorV9guLoXp8I5uNUjA7tKgD2RXHxyowcHOW1ozvkdzazX0T/lBs9rvwqUEkw6Cv4Jc0sK4VzssIimE9H+KRPj+j0kMyEoqhFJEd8RKVtOEObufIWl+j/gHLoDZL4K5BzCYsoLqI94Bz+VjuLSPR5CYpqgzjuBhcYojLukjccUFtRQanAFWnB5Svz6y8/47eA/MFJ+lRQgVB8ahVrwVdtTkqEnTN7JUm38lxCyApCem4PMiFPojNiPPewGxIWdxcT1QwiJacLv93io5WkY2W1KaUX72AQcCcEQdlcjq30STZHvoCPsVYjDn8GBiDs4kdOHsyUjCIpsQHAUF1+zkzAR/sw6Yb2vmjmGcyWkcKRVqJqEWuyJ5DLKZmeLR7Ankss4pDcKyHl3rV5MCoVKtkeSs5D+CkCVYsmshDMxBG3NdeiXGbcsQHhyPZnOtN2GM3kfgZfRBcjtb6ErO8+YN8rbbjNws8kBrkuGWOqxPWXhGZjTDmI27TUoGzN89qcv+wmGkjNoEGjRJtZ7dIuJKeK17RcgOZ9h+n4YhqfNaB3XoZbn5c2kF2MpdR8jg2vJ+9h1/N0+SWq/F3RGVZ8IW/ZRUjB5KXMpmrOYAoQvVfoUc6aCk9CnvYUeHjlf/KllPZ4CRI2RaTMa3EwX+6dMu5alXVVTcCQEQ9B6Z8t9P6za1qMI2kyyQaB9Ih5Z7hxR5jfhEYd62/wSuEIynXnSamF/pVhdXYNEZ8f80grGlBbUUhq0jm/vfFWYnKgcm0HTI1A9m18i8Hoarvq0AHkaf7mgE/khuZmQO7cJgaJDqndsO3naLGYsc6gcnUGLy2VVaSauwRtNQejR9MOQ5t07OObZRejtJCmp52ueGBn/oePu17DVRaKOr8FUzwMmoRBTfbBzgiHkDQMg31+rWAep3oGyQQUC2VyUhn2AmuunoE9/hxQgdIIPIg1YMaravAu34MC4fAaNAi06evsJeZtWMfIKupOtzvwQxWEfQcgKwLGIdDQJtchom0SgK3G9/ICH+qIkjLGeRwNvZn0D1ecJAR0Ayk/BUstGHV+DjgnDtnlEwLqL+KjC4sLGs3B3iHwfkeE/w8YJgjkxFLZ7P8FQ+iOmuDewlnMIKPgQC8kv4G7Y+wiv4CO2lvAfpnNPYq72MsaU68TNPqkJAzITqkam8fNPZ/HrwX9g5EEKkzh2TxrRKCKwv62Kf7pwc0+UxqbNGAp/AaKwANxjHcUway+Gy+OxN6oRl8N/g5rzMl6Nb8XZ4hG0ifWoptSMapZgYhI2ThC+jiSqVQ8iP4KJsw/OpBDUDQgwqrCgb8qIV6+24MW4ZtwoLIGQFYDB3nZGKYs+ju8Kh/HG9VaXdO/boJRW3B9WoXJMhTNFwwhkc7E3qtEjQX/jehtO3RyALesIZuo4691nvhbOGweB4dtQTvJh5QRBONyFer4GTaKNJXjp5Uh7HYaSMwRSJVh3ZFcW/wh10RmGp6FsusEQ7qV91T4JOKUkpo62rCOkqGkv8tmX7u5FGItOo3PCgAaBp0O7LfsoVPWJ2064Dbe/hLzsdyIwIDWiRaRDv8y0fk/W8rGUso8hgdtvvAlnUgiSE6IQVytiGjI0Pp9WdKKURBnNmvO+Dy+GUhJ+CF2ACCRy5u+0AaWh5AzMaYdQ10uI+o60/X9KAdLA16J9Qu9BuB+Q7d6jY0k5DHtCMMZbfH9H77XTaerjCL19gYGW8p9AMeSPc0UXQ+vwsCdnYPxXjPmlFXRPGqGyzKHXNV1vEem2BVMTqm1oEGhRz9cwkuk7CpOU4V3SEsADsqcFyNP4iwbdxRiWm5nR9uLy9rG1owrLQ0ki0qE0O1E5ul75y42zaBJpN1S5Mrg4Iw9j8EPDWaqoGUxo7eiXmdAo1KL5MfuR6O0LOyrydhR3jsPCvYo6noYQiF3J1cRIOxyJwegZHsXc4goUJifuj6gwIDMhp0OKQDYX96M+xd2Y4zCkHiTTi6JPmM1KdHbcHVJtrs7RGAZ12QW0jesx0NeJ2cQQrBkm/L6VJsjykj9GLetNKKOfR1hOOcYUFtwdUjLJatu4DjWVpRCyAlDVQ61voPgzoCuR/HfNBVjunkODQLtjgqrSvE4YtuR9DHV1LMNTuBjOguHqHhjS34Km/Bco87+GsIKDpbzDQNlJzCaGoCDsE1xvECOtVYJANhfjOV/DXvGLD3GTUlpROTyNcz+ewcUD/8BITY6H5GvHhAFcgXZLLsiMy6nZI0nr6IGQFYD+7LOYCH8GssjnIBIJ8GlmD34KZ8N6PQhvcVrxdf4ARqYtjM8BpbRCJBJCd2UPjoWn4Va3jOF/ECjO+n6qqRncG1aira0BQlYA7j0oY84t+j1f5w/gzYR2widIftGDzDyqsOA/hUP4sXjY49i/KxzCHnY9xiOeQ+nNRPRIDUzyZ8t8F0s9mRgc6IIjIZghh29nWXP+yZDn3Y0DVWW/QH3rFCglITjP1F5zFVL1TMFOTWlQ0j/tQe4f54/AkXGQ+b3clzuB3nvZM99hpIq3s0yFX0N37xLz/8NyM6M6RE6AESymvABD6iFQCjOcyfuI70rYFzhTOMx0yWmujDtHiHaF15edh6HkjGcBwk1hfneheGL9c/OGXAaUv8CRfgACoWBDtazHsZqEOlSNeQotuKtj7TQW5X2wJwRjojl/y323jT85SDIddMOh1U1N788MekJMJ7GUkp4M2ZjpzOOGh62trT0xD5TdBMPTk5vRKTGgXaxHo0i7JX8ScBH+x/Wo5+9SdKA/C7j5LoCC0PwUAAAgAElEQVR1QRj6HvC0AHkaf7mg5W9Hpi07Hm3TknE7nZr4C4XJiWpKDa5QC+vcEsQaG6qpjS9CnQsruZ0HxLRx1q9aFo2vbR3Xo02sR51LUah1XP/YyPjzSysYkpt3193YThR+BHNzIor6plE1qsRs6itQtORicqABzqQQNA0KoHIRZenR8HUuSbibOSdREv4xTEmvYD7jdeDWe8xmx5QW3B1Sbfp9r5Z/Bc2tr9AlMYDX1wx7QjDmjXK/76XND9viP8VAxIukUy0ikq1dEgMC2Vwcy+4lyW9LBylAGhrIhGBtjThG0xK/LTGwFHyJRiHxO9ku4Q/LixBPTjIytrasw1DVJ+JM4TBevtKC7yLioI4NhC7nU0yVXcJM7gkI78XAkfchUPkjk/hld0hR0CtDIJsLKutb6O/8gO5JX6nYqpFpXDh/FuHv/C96a25jNjEEkqFWjwf7VgW1uxwpvYrzkiFgPYMBoRT2tDdgvHUClNKK3M4p/BafjNnEEHyW0oBj2X0+SZZIMAZlzPM4HpWNMYUF6qrodTKywpfoPT7Wh/GwAGRkZTDQJfq1L3L7cTi5gzG1cy9gKKUV4rFej4KFUlrRN2VESmU3pOxncSoiEaGxzaih1OicMMCY9QFszRx0tXM9zo/tJfKnSOfeRWxnkvD7RGShR2pEu1gPTUU4+RxdDyBsLoIzKQRJXBEC2Vz8Wk55btfP90EprdBURMDs+s69lyPjIBRNmds+bmPxf6C7+4vH3+jzekrvwNxULxaSX4Al8UXwpUoylbn+BppZr+PftwaZya3O7jspU1fHwZL3MXTlF2As/o/Ha6r6ROZ3F4mEzN8nRnvgTAqBpiIcs6mvYlxAJiDO5NA/pQAZcjXG3P827OJV7UaCfV7aRbyHmnK23PdOp6mPI2g3+yd1LO4ICfp7aRHpMKa0MOfY4+bKWOeWMDJtfmJO8DsNurHZLNKidZxMMrfj47Ls8uvonjT68Lm2Hb3pxDMJnrnd0wLkafwlgx6jjiosGJSZtz0qBNb5I9spWhaXVzflisgMs6jjaRiX1TGlBfeGVRsa8tCQre1wVkYVFoj8dO7pG+iw3IwmoY65UB/W6GqzsM0voX1C//hG1vlHYGjNwBe5/dh/rRXW3A+hrrkCaW8lnEkhaKOmCIRBRHgPdXw1wiv4CGRzMZJ9BqVh/4Q+PgSOnKNA7pvMZnulRpIYblJsrtw8Ak3uMfRPmTDeWwcbJxh2kwYAubnqbPOQaO1YXF5Fv8yEdrEe96I+x1Tk84xsKv2QO1s8grtDxMSudngSQlYAqu/eJMo3TpfE71S76+DSYc1+Hy0inYd52UaxsroGpdmJxeFimDKPMJAgR/oBKJoy8V5qFz7N7MWZuHRMRz0HfdFpiErDYc77FFP32DDkfoqV+t9hit+L5LBvUDaoQOWYCoFsLgazvoe64Bt0SAw+5mstIh2o0QHYE4Jx/koylNHPY3KwkXm9Z9K45bF7S6tSSivuXv03WqIPg1JaIRlqhphal76VDLfBmRSCM+lVeD+tyyfJEvMGMRX5LE5zCCRF1ZDsSjBf9JuUjfNHIGU/i7j4GFivB6Ghdb2A+jyrFx+kdfklc1NKQtY2FZ7y2Sad5LZ29yA4uhG/llPonzJBm/Mp1JVs9LXVuLgZk9tOXPXlPzP+JR5JeFU01FkfM1LG+rLzBMKUlohLUWyYr4dg/7VWBEc3Ym9UIx4Mz2y5L3fndZ8CJO11KFpyt33chjs/QF/2k8ffRhUWBjo3MdCAuaQQ2DhkIuRMCkFN0vcQsgJwOqeNgel4mxCuH+dn0N37Dcaif3u8Rk+CvCFr9PkzU3MVzuQXIaYGNi1Q/4w1Mm3ZtTHfrLgFNk4w5I1bF4UPJff7iIKW8+6eJPDoXSl/PUR4J7GU0sp4G2ms84zwx8MgEbYK8+wiOiQGD5PNv3LQJrS1PNJQHZKb0cDXbtl0pPOpAZkJDXwtJnW74KF2JQGZrwHw5Qs+LUCexl8u6IuFUu68s0Sf4Nv5N3r7AkamzRsWCxKdHQ0CLeOyOiAz4e6Qyj8Gd2kOSp0R90Z85e309gXMLXomcP0yE3qkvrJ2aqsnnEXJTYWh9Cw6J4i50q6MrrYIGjq2GaFwxjK3u5sPAOQcgrY9Bx9n9CCQzYX65pfQ3v+dMRobkOrQJCKmW5SSuACfLRnBvthmyEou4B7rKGZiA2HO/5y5kdFOqi0iHcPR8YnVVSynvwht5ocYmbZgqqcCVk4Q9CZSyAnURMmmhkcUVDokBnD5GuSFHYc6NpBR3xlVWHx8LdrGdehnhaD+1hUCD9QJSQFCw7vGSmBPfRVtYj2Rk97oGF1hnVtC67gOqtp4WJJfJXwIhQXO5FDI225jX2wzLpSO4lxyMSbZz0J39yJm6q7DmvM+1PcvQ5V7ArPcGOiv7sHVsB/AFZAOZSCbi56ss1DlfcFIW7t/jm6JEcP9nbAnBONkVBomwp9hfFroRLOOp97U20YwY0OjcL0AGZKZ0Bn2MirTf/WbRNEQGlZWKd5KbPd5fWK0BxPhz+DX7AeglFZMt+a7MP6v+92eSMiHKuZ5hIdfhJAVgA9jijDkgmd8mN6NTzJ7mMTYvRCilAQWZcnzddCmoU+8KTU+vtGDwymdGJm2QJX3BaZLfwW/o8IvN2OzJSmPgDouEPeqKjwcw2dqr0GbcZRJqoxFp2FPCMbFiAhcCv8DY2GBCGRzcbtXhtevteK9VN+izXvN1BBok7/XZlNexnTr1nAfeunLzvtMbZjfWm5Gf/N9zCaGkC6+y7H+8vUkCFkB+CM1n7lfCtU2H4NKTSUblvxjLsiYZyGorrnCFBbjvCHm7/TkVMlNZSZeDERPvrEb/eNcYy7X+N1Mke0CLmycYCi4aVvup2fSyKgyPqlQWeZQx1d7yHn/mWF2oQTceU0dEwb0So2uY9Og3eUj9riCNvac+psIw9CNzbZxPSpGZojpKH9rI0n6ux5VWHYPA++4Rp6Na2uMGe5/TQGytra2q67D0/jrBm1KRidAO5HUU1nmUMtXo46ngWmLh4HaOofeKeOG/BL6gUm7+XZLyBiyy1/XpzEclvsX8GBkxkNdYmV1DQMyk8d0gZYR9IcZVpo9u4Ta+7/Dln304XTmtwh6crMRnndxeRU9UiN6pMbdwdpuvIKZjts4mtpJphqZp2EoOeNSBCJd7VqempHn7J8iLuhvXG+F9sFlNEa8BXnUc9AVniY3stVVBgfsMUruuE5MAOlwmrCUug+69HdBKa2Qdd6BlRMElXmWgeqR30GHfpkRLeM6pLdOIiPsK5iv7XU5V1vQINB6eBeQxMuEGtZbaLvxE/mtJ5vIsc2Te9eauA6OhGB0iVQYkpu3VBDRWOdRy1NjovQPmBNCMaqwMMpJgw1FCIzkIrVFgkv5DRCHPwN1VTTjoaC7+wsU+f+GuiEBmrhARIT/ggGZEWMKCwIjuWi+cR6q7M/R7AVboJRWDMrM6O9qhJUThI8isgmZu9lTDrRBoMGE1g7n4rJf+OHItKcrcWtVEYSsADRU+Vf1EY6Pw5kUguu5BXjNy5ODUlohGmyBkBWA+NImUgx034MzKQT2G29uuD3L9SBkxJ7HdNRzOBRRgqx2Mpk4mtKJEzl9jESv+3SHUpjhTHmJIae7L0VTJkNqjqwmCmjtYj2mCn6A/Na3kHaV7zjhzeCwwGc9g30RVdgb1YhPbvSAy9dAyU2BPu0t5p5nyT8GVczz+CPid7Tf4WAwLBgnXFC1yw942BvVuOW+VPUJsGX798VwJu/zS1zfaOnuXoSx+NsNXx9tKSeTxYRgKJtuYDYxBAej7mKM9TwSr0cx9xVvBSxKuQ4V01aEwXz7C4/X1FXRcCbv83CCp5RWpsihZXolQ81+OUJ/9tpOQucvLGM15L5Un7TlPp5U0u8e9DNqUGbekd/GwvIKZIbZh26iGRwLTLOKXl0u93O5kaAWHvd0RmefJ8IZMtNjaQo+6qAbm2MuVAl9vm5lmqyjGiEp+Q2U8iFQGK1x5Nm4vMhMqOjf7W9fgMwuLGNk2vzUdOa/KPT2BUTVCFFDkZtM/Q5u7BNau0uxYWsjNYXJiTaxfsPONM0JqOdrSId8gvAy/JINH3wHZ/prqBlTeiSbtvklNIu0HrAtWg3GH59Ebpz16BDoy3/GbMrL6J00PBIdbn8xpXdsakykssyhhqfelIC/YayuAOmhmO66gzcT2xHI5qIm+UeYb52AojmLEHKVpIPo3tE6nt2HI6md0FSyMRC9H5KIZ6C88zPW0kOBRafHGL6Or4FerwUyXgIK/kn4GABgmHCRYw+AUpJOuiXxRUzqHB6j5SG5mUjSCrQ4XzqK1Ij/eKjq1PHVfmVWb4UfQ1/icaJ8M1II5Bxk9m2d6IKNE4xh/jiBZ7h4RBuFRGdHA18LdenPcCQEg1JYwJ+chjMpBOVlhQhkc1HP1+BKxQCErADI6pKgaM6GI20/DKU/Ql38A0S16ZiJeR5/sFnMMb4Y14zq1AvQZn2Makrt49UxKNXj0oUfkPzR/4t3WLkQsgJQVOgJz+lwTd/6pshD3Tv56XVxFyilFTO18dDEBSI/7HP0StQ+3xmltII/NQNnUghy8rPxQkyTz+sdjVUQsgJQ0DQASmnF5GAjnEkhGybUAskU4QRUsuFMCsHRKxX46ib5t28nduCrmwPgyXVwJoVA1n2X+XdCsWSdvOw14dJURcJy8zNQSiu4btK84juXoc7+FPL2Il+H7k3WzU4ZXo8oR0FJISrHVLj8gI/QuGacyOmDoikTltT9THJuzT4KcfgzyExgQclNhSntTQzKCHQurpZwQQamjJvuz131y2MpzOR76Nxa8pVe2vu/w1T49YavS7tIATKbGALtg8swX9uLvRF16A/bh5T4P9AvM/lVwKKUVmgfsGC6/SU0lWyYbx33/A0qIuBIe90ljNDJ/F3WfZf5DLTssj+53j971fE1u5J+NQ/dh5UTxEgjT/VUeEwh3RcNVd2N2tajCtrQdKewM4tzESPT5h0JyvgLnW0e9V6cM7pBN6G1o56vIdzRbcrM7iY01nlUj83sWnjgzw5/PL16vmbTHGl5ZRWyqiuwJr9KvmPJLou65khSgCzYmQkV87v93QsQ2/wSuiSGp5rP/0Whs80jNK4ZZ4tHmAtlq0qdDlqxoY6n2dK4T6KzbwrVoju7dXw1JvUOtLq8Ger8aYyXnYQzKQQ93Z0eN2WNlXiJuCs10VJ0laMzPrAmuoCiL1DDnR/gTArBkES1a5nHrYKnsqCOR6REvVUxllbI9IN8p+qd80QWnUB6KCa7H2D/tVY8z+bixpUL0KS9i4SYi9Cn+u9qv5fahWNZfVBXRUMc9zLGwwIgLQ8jTtROE/T2BUYpqo6vgXGgjDHjg1ZA9j3dg4XkF2BOIuo4iqZMmFP2Y1RhYaZsdNFTz9eghlLjw4xu5MQTrL49811m+94jf0ppRVLkj+BfPUgeQO3xWCk5AbV1DgbHAkaG+2HjBENM9WNUYdkUb7u2tsZ0h40l37mcnw1M1/5XTiYOJbRjTGFBXqcUw6w96K3Oc02QQmEs+ga6uxcxVH8Liujn8VtMLHOMBzhtuJP8K8zZH3gUtvQakupx8vhHOL//f7D/ciGErADEJnl2YoflZlRTajQIND6fY2VpAcLmInRNkOTZkf4G7iZfwGtXWzZO1lxKSeW3iczusNwTFlZeTiYobaOEryGmiIu4Ne8jv9ujic+0WtbFgi7si23GkMyEg5w2fFtA4Duzqa9iuiWP+XcTIx1+je7Idfe9hyzsoYR2nMjug6I+GbbMtzHdkofZ1Fc9/k1i44Tf73hwyoi3EzvwVmKHB5SPXSVAYCQXvQ/SGQWngSkjxDGhELIC0Fsc7TPJSGoiRopt45tPXhRNmXCkH/D5O12IuZs1brW0FWEw3f5yw9fpQoB4c3wF2dWXsSeSi6Ho15F25QK6J42wzvkqYFFKKwO9orkgHq89uAx75tuuKcf6pEzeUUwKD9ckhIZyesv1/tlrtypBhv5SWDlBjDmksejfPpLEzPXqgiRvR73occW0cd14cyfNQRrG/LBFgTdMmVISI8g2sR58FYHwDj2EKMB2goah1fHU0Fh3oQz1JwdtQuv+ndXxN5cq1tnnMXHndzgTyaSXLuo2gxL7DS6LPJdnjYwnF30Mf/sCxOJcBFeohczw98DiPY2tQ2OdR3B0I/6V28/c5LZzkS8urxsUNfC1Wxr38VSb43YHZCbwmwrQ1tNP4FiuB2iDQINBuclz6lb0CWYTQyCszUAdX8OQ08QaIhXrDm+yzhGZ4WaXnr77CNfbKdhYdJokpAKB3wLhYWNtbY3pYPsrrHS2edTxSOe8QaD1S5zfNFzkbHFfDV660oyQmCaw2L9DFBmMq2E/gLrqvwA5wGnD6YJBqGuuQH01BEJWAAZKYrGQ8gJgU7ukX0kB0sDXwnrnP0DFGSL3151M9i0kJHdbQggohQWqhiSYMt5G96TR1RFavxEOyszonDDglastKEkLgzMpBJa8j5kun7fqCqW0IiKWDVl0IKzOBaDmZ5jLz6GGmgFXoEXLIN8lpcplbvb0g3ptbQ3zSyvM7+6ua2++/S8GSiIcF8EYvxfHwtOQ1ERkSJuEWrwZUYxUrpBJvMz5x6F9wMJY6wPIIp/DxavrBcSR1E7kJVyCLeuw/4RGqsepYx/g3Ov/D168XIYp9rM4HxnDcCjoRU9OanlqDyWURUkL7AnBGBkdAl+qgjMpBOGcRHya2btpsuZIPwBuQTwC2VwPPgSltCIzNwuisABQUkK2Fo6LmM/pb1s8mZbxhXAmhaCsn7jVZ7RO4rX4VvzoamTQimL+EmdvMrkl7xOoq6KZ/z9XMoJ9sU2YasmHMzkUysZ02DMOMa/f6pYjkM3FAU4beiYNqOWpca1+HLE1Ihy43oY9kVzkd8s89jEkN+H1a624wiEGkGPTZryX3A4BKwAzsYFQ11zx4XJku+Sp6enwRstfgUQp16dP0t7KbSfWmqrIDb97SmmFvL0AzqQXSNGecQiDsYdwMKENg3Fv4UbMj+iSGHygF/TS3bsEU+HXUNdc8SkwdfcuwZrzgcd1RCnJJHM25WVM9tcTKJaLI0TkeiWPtKjYyarb5nPKO/Q9hbBygqCpigSltMJUcNKHkO9+He6W7P6oQmZYn9LvpOjS2efRIzXuqInmj2xP+zW5fy80z27IJd5Cc3IehSGxv6AnCn8FZ/rtBG1C632+bqRqtba2hlGFBbKic8x1NSw3gyvcRVFXf4kUIDY1pF6F0N++AKEJy49LovRp/PkxY3FiTyQXR1PI2L1eoIHKsnXn3V1nvkm4NWFqQGZCzSYE2x6pEbyoUHAzCZmWVuYamSYTg373bk7+YTgSg6EqPMPAv1ZX19DjUmrqclNqoqV2+6Sko+B+Qx6aNqHVrbtpKiCTFdFI984fPE4T0B4PrGx8w19cWEDHuAY9k0bUusjY7kGpLAz/gYbi7IgHYlMD6aEQ9DchOLoRn2b24sfwGAhZAciJ/DeaIt7ymSxQSitC45pxoWwUM7XXYLkeBCErADW3OXAkBmPZIPXo6LSPijGbtA/mgTLYGmLhzDmMhaUlrA7kEYfkhGDw5DrM1FyFKfsDtImJ54Q3r6NHSkjblfnxJOG9/QXzYOvwAx/5+Vo6ZJHPwapTYLHwc0justErNWJk2uID+aHxtiura5DqHWif0IOnNMNsm4XRsYAGASH6WXM/dEFJFBAJxjAZ8Sy+uZrHdM7HFBaERDfht7sUoyJmyzoMdVU0xofaMcl+FhcSspjv5rPMXqTG/7Ehf2JIqsd3//oA517/H+y5XAHdlT34KTwSBT3+O8mNQq3HdbUweAv2hGCMdVRiYIBMKk7E5OKnO6ObJmvWnPfRW8hGIJuLqjFPVaf45ERIIp5h+BV0YbORrwUNK6KvlbFpM16/RjxGXooj5H1KaYU5/7iHs7m7zOs4f8RtexbMpr0GRXMW87fbLknjhsoSBu6lSHoLJ3L6UMtT452kDrxxvRUhMU04lNCOvVGNjNv6u0mdKB2c9nvscbUifB8eCysnCPWjcrzMfgBNXCCzD3VVNCz5nzPvL+6bRiCbizv9/rfHJOm074nX32lYn7S/btuJNZHK/WTjfbXexGzqK5hNeRmOxGBUhR/GuTsjGLh6FNlRp4n6msv8zPvf0oaJxJDwn16v/QJL/ucumFUt83d6ukND89wNC4Xjol0XEOOC0R3JKnuvOj5pjOw0NO03YeMEQ/uAQCct+cdgyT+28X62wW98nEGLs9CfeTvPZoA0Fjsm9NtuoplnF/26vvtTU6N5djREjb7nPorpxOrqmk/RJDfO/ilqW48q3E1o3c+jjVAiNERZW3jaJd4xsHuhhdpfSAFilvkUQn/7AoSGYrRPPB58/NP482NCa0dgJBevXyNjd5qDsVW4j2bbtiBMra6uoVtiROXojN+HBv36CGsvWuI/w5jS4lG5j7ouRvpBsJb9BixpB2FLeQ11PBVUljnYXfyPjgmDB3GQVqSglSjcb5K9UqOHK7P7A3jHDx6aGG2Z3vAtixVnIX4Qh0GZ2WXmtH7Dn10gRG/acZYeaxsdC9uXgTRNAemhGO5tQyCbi/AKPr6KSII4/BkIbnyJCtZh3PZKdodkJgRGchFVLYSqPgnOxBCIWAHIz02FjRMEvXSESYYppRWTrYWwckLQOCRCVwchVJukw1hsiYM9gWDT+VIFNJVsmG4eA1eoRe+U0YcQe6efJHft90hCYyz+lsEW97jxHOh1OqkcUvazME/2Yzb1FYxVe8qrzqa8jOm2W8w5rLbOQaS2oZanwcBgP7SZH0J1+98Qqm3MeUu7SAsmpGjv7oSQFYDce7Ue230rsR1f3Rxg1IBmU1+B+H4cRnkUJBHP4GxaOWpdU6uv8wdw5UrYhgpSQ1I9vj/xHs6+9j947nI17Ikv4JeIcERVC/2+nybu0zjgWW4MbJwg5KfH4mxcMmycYLwWcRcJ3Am//55e5lsnwCv8DYFsLgp713//MYUFrNhoyKOeW+dXuCBbmxGhncn7YMn7mIEyfZ0/wBQEv9/jgVJaYSz+1sPPQlN+EfbMd1wcg3U1Lrrgmeqp8LjeQ2ObEZ9HChBB1tdoCnsDeyK5CIomxUZO5xSSmyTYF9uMc3dG0DauQ6fE4LfApleLSItvwq9BExeI5OpBvBlRDDsnGM6kEGjv/+5Dzn4wQqSVb3bKNv1+5R0lfmVpBRNSXzL+FosUBx9s+DrN5bJnvgtNXCBuh32KamoGfdc/Qh77KzTwtR5wR/elL/8ZxpLvoKpP9OH46Mt+gqnglM9vQfNbGDneOs66XK+Qt+3P5b28z4+drt36JCibs0gBcv93UEorrHkfwZrz/sb72SXX5FGFWGNjmjc7MfybscyhRaTbdhNNYXL6VYr0ByeieXZ9bvf17cCwtxM0dMwd8TCpI9LjbeInbwy5nfBnQlvH02xoKUA3SU23/uVxv9jVuVd1jlGIpJSEV0sfw9++ANHZ5lHDU4Mr0MI0uwi5cXbbikmPMuaXVsBXWZ+oPN5/S4wqzQiM5CIoqpGpumUG/xeKewjUVubG2C0xekwdvIMmRd4fUfm9SS2vrKJ5XAse61mMRb2MkWmzz9iXgYatrmI1PRTyst/gSAxGR1cnpo1OaF2OsUNeo0t35+hGgRaUq6NMKzN1S9Y77XRHXN5etPOLX/CAXPjKwQ3fslD4OWZyjmFMYWGMpejvTGFad+SmVy1PzahPaazzWxci+nGspYeio7sLgWwuErgTSCx6AGP8Xlhy/4n7ER/im1uDHvtoEmgRyOYipVnCSG1KIp5BVGombJwgDHQ3o9aldEISpKvr3VOFGaakV6DvyMFc5QVYEvYxI2RCpj2FOlfDwnuicb1BjEA2F3yX+Zu+7DxTyHpD4yilFV9kdmAy4lnM1FyBlROE8W5PWIv9xltQuqQ16/hqCGbIg3uUouBMfhHO5H0wZL4HrkDLFFOzKS8zfhW371dDyApAT7+ndOzx7D4cSe5kEjBnUgiuxVzE6duD+OhqOU7lD6DdBUU8WzKCsOiIDV2ih6R6/HD8ML5/7R/YG1GH2ZSXERHDxneF/h2+6SKUJtSbSr6FjROM4us/4lL4H5DFBCEwogH3h1UY9mPYtp7s/QdThWcJVKptHf50q1uOi+EsaOJf8Hi/I+Pghrj4UYUFs6mvwJ75DiNqcK2eGFkGRnIRUcl3JbTrbttcgRaqnONQFH7PEJnp7TGSvWOeMLJ/5fbj+LUyWK8HoSVsP9qiD4Mr0ODTzB58mdfv99i2s364kg551HM4n8vFF1duEQGEjAPQlV/wIYA3CQkhPq1lc6gRTdT2VumiFcjcORVbLZLwv7Px640ZsN94E5a8TzAZ8SwK406DUlrRk3QctyKOo21c7yNjTS992U8wlJyBqiGZ4VzRy3DnBwZW5y4eMFN3Hbbs9zAx0glnUoiHUaXHJGuHy3T7SxiLvtn1v9+t+7acmwZ7QjB05RdAKa2wZR+FI+PghvvZijz8uEOoXpfdbhBoN5Vvdw+FycnkadsJwYwV7RN6H9L6hNbuM70ec/HsetwaeFyBljHBfJjQWEmOKZixMs87upP/OOXxH1Wsra35NaHd7Lejm7l0/uE+yd/xVKniDMlDNDwMT5s9EB5/+wKE/qJq+WqGTCvW/PmYvN3gG5+G/+iRGhAYyWXIltxt4CyXV1aZ7iyl3FqukB4xVo2p/V6Ei8urqBhVQMgKwGTEsxiekPmMfZkHzqITq2mhGGsqxmxiCEbqb0Ois0OgtrqNqtd5Ie4j5F6pkYFh+VOKsWUddmnep+38wTN8m1z447UbvmU+/0NYEl8ENb2uBmVxLmJllRCjW73IrqMK4k7f4lIHG5SbINHZNx6rq0exmh6K2s4+BLK5uNE+ySRBs3A5cP0AACAASURBVCkvoyXhJIKiGhFRKUANpUZKswQFPQRPX9Arg6IpkxRgUc/hm6t5cCaGQNjbgDGFBcNyE2JqhFDf/c3DQ2Am/xR0pefgLP4S2hvvMZ1Rfdl5aIq+I2ZMAi2GvTgdP5eOITSumYE2ae//wUD5/HXdvro5gAH2K7ByguBIftEHvkEbLpLfX40BmQlcgRaTA/UMxMZ+4y30So0YlpsZ2V36eK/kFmE8LMBnu+dLR/FiXDPEYwTy5EgIxuXw3xAS04SQ6EacLRkhssIiHS4/4OECO9LVDfdNAoekevxw7G1899r/4qWYBsymvYZkTiQ+SN/Ya4Ke5jgWlmG4QaCH1TGf4nrYd2gO24+gqEYMT5PPWkPN+ChvUUordOUXoCn4xqUutW4O+FlmL2JiLvtMbKy5H/rtTo9MW1A9poYlZb+rCHnblXxoGAhUbC2B5RDC80mSOEgMmM96C5KaRGIC11HMbJPmFggmpB77ut4gxosRFZiIeAb8sOehvXVy18mq+2JnFkAc/gyOXysDO4PwGSw3PyMGgK4JAf3eXqkRgWwu4uvHfbbzx30efigihSPt/M6f8oS3iUQCH1WprRattrbR66qGZNiyDkOR+yWErABwc8NAKa3oSf0KxeG+Hivuy1B6FobSs4RT4wUTNJZ8x5gyuqt2qatjYcn7mDn/tff/YK4bMTWw69/Bkv+5B9xtO4svVcKRcRAiIQ91vO01yrxDWpsIe0Iw9KXnQCmtZCqX8tKG+9wt1OtRhXszpkmoY4wmtwq5cRa1/gRc/MTqKkma/fknCWasfuF89XyNRwOvRaR7JNB8pdmJqjEiwkHzXejvgPZleVhlr8cZtGeWtwlt4yYFGv28oyfytHHprqZ891zy+aohD8VESvlfUIDQsl6NAi0a+Fri0OkHp766ugaZYXbbDP61tTVobfPbxrtP6hxofoyqC/83RbNIyyQPd/qnfaBB/sLiXPRIKrdSC6FlXBsE/rc9v7SC4u4JCFkBmAh/BoLBNp8ElDmuWSNW0vZhsL0KjuSXwKvLxYjCwnShyUNjXXGCllyllKRzU8sjDxTa28LdLM6RcZDp8vnD266trUFlmfO5AToXl7HanUou/KH8Db+3uZzDsHKCGKfhWp4aMoMDBhcvwTtJd19DctLNqByd2XjUrejDanooyloHCdymTw6eTMMkDDNlv+DftwaYbnUgm4sX45oRyOaimpqBojmHfP7YQBxm34YjMZjpVme2EbLxcOqX0JedZ45LWn0d5vRDcGS9i+nb35LEhDcIcfYp3Ao/hqK+adTwfEm8x3P6cDilE5MD3PXvnEfMpryVV4bkZnxbMIjPrxRBNNLt13/AVHCSwXXX8zVocKmz0LKhqvokD6KwQCJ36+QO4wInE1L2sz7E2vh6MqkZHBokULH4vfglPIy5Zi4/4DOQwat14/ghPAaOxGC/nhVDUj3On3gb373xf3AgvgmO9DdQkB6NVzZRsWoUaNE9aYBIZYKFQwwCu9j7URD+GUrCPsRbie0YmbYwbskdXp03SrleDARFN+KP+wQ2U0OpsSeSi8rcGA+CN6UkjuXq6hif7bSL9eiWGGFIPYTZRE+p3tevtSKQzQXHBQdTVUZBnfURuiQGmC0WID0U1rFqmFL2Q869wfy76bZbJAH0gi+1T+ixh92AMdbz0F3Z41EYPMzKu0cmXe+xb6Kg6CZDqDcWnWYSdPq9YwoL9kRywa705Sp8fKMHoXHNGFNYIO2vY7ge7pKu44JR13Snb9vH5+7X42/N1HFgzXkfncmnIGQFQMIljt49Gd+hLOx9DG4iGWwoOQN92U+E15HhqdpF1N1+hTP5RcjbC5i/E++Q44yhJV2kOJOIKeFufwdr7oc+Yg3ekFjvJRJSDESlgb/9aQAdK6trmKyKhyMhmJnOOdIP+J1e0auO78vV+zPDnU/Q6nIg305IdHZUjc1sq4lGPwv9PcNHFev7/2d6NxIbJ1zfi8aDq9cxYUD35MNPJ+hkvJ6vYYRt6GPYtTLUnxi0yIm3Ce1mxeOYCypFT+Rn6q4zzzEGtjVSCIwWM/9mQzRE+VdAeihW5T0MMoU+hr99AUKrEQy5xv003MUbZ2hxLqJHatz2+G9ucQUj0+ZtFRS0jOZODPOexsZRNaZikqnUZglaRDr/7uNuoTQ7Ueumcz3mxdHwDqNLhnWjG6hzcRk3m8YgZAVgPCwA4435PioSDM/EosBy6j70djbBkbYfwtoMDMhMqOWt457r+OvjecGM1QPO0+z6fO4kevq12dRXicRo+QW/XJi5xRX0uOBQ7sc+IDPByY0mBUh7PAByI3W/LlZW12DPOAgbJ5gZsbaL9ehx3cDdx9w1lNoDq+++/I1yrc4lsq+pdqymhSKPO4JANhf3h1XE4TvlJTIFqAgHpbTiZtcUUlskyO6QYl9sM55nc9EjNTAKN5brQXgt4i60cXuYY/3pzigC2Vx0RL/DKMhQSism+uoYX4LJe5FMx3c06VNkhn2J2BqR36TizcR2nLzZj4mRdleBkMAUfUaX8+2gzIxangaNIi3OFA3jxbjmjZOrO99DX/YT8zCkpVNpl23aSI1OdOnutDMpBMKRHpyOTIQq5nlGWrRNTHxoil1clftt/aRQigvEjxHReM9l9HitYRwSnQN1fDUy2ibxbcRVWDlBPt1weqnqEzAcsx9HU7vgyDiIuvw4BLK5PiN792urbVyP5t5h0rktOw9B2LPov/IOUsL/jS/z+tHmOo8kOrsPjI9SEgdsc/5xvJ3UgRM5BL702+1WfBh9G1M1CT6JIF+q8pHKpZSkYJ7SO2DNPgorJwjm3I+Ya+7kzX4CV2olBZzg/lXYso8SLLdxEkgPxYqagjnrPUw8iFtPqGvjYct+z+9n/2d6N4ajX3clvj/tOtl1X+29fRCyAvBxRBZ6q3LhTHoB2vt/wHj7S+iK/gN9+c8e798X24Tfyimf7RxN6WRI/TRB25nkWZSJeaRodXcW32rJusrIeTrtv5CgFayKr5zGJPtZyLrKQCmt6Mk+j0rWuz7cKfdlLPkO+vKfoWjO8Zl6mQq+gvb+70Q+ufUm83daupcupozF364XICMdu/4dbNlHPRoC7WI9DnLa8PKVFh/jO3rRcD1pf92mHeWNYmF5BZMPYuFIDIaxiEDXZlNfIRO4DSSFN8Pu/xkxMm1hJuM0bHc7IVTbNuRcegftNO5PvnxQTqT2aaju1/lk6lXH13gk2r1S4yPhBtOGxI0CLSOnT8v90+T3JymLvFU4Fpb9mtBulFfR06dO0QxzXdGNNK5ACzF9jpd/RaYbIIgSntLs3yPkzgkgPRTLk60+k5i/fQHibdxGKa2o5at9xkS0QY1hm7JsVucSeqTGbRUUNFm3lvf4ZN/+1FhdBcT164Zuf3KUDiiYAiSiUoB2MelqbBS0ZJw3Rn8znWutbR71fM2GXRL7/BLSakliIGQFYPJuhI+KBE1QXtIIsZy6D+09XbDfeBMTNSnomNB7FCzuNy9vHCSttKSyzIEr0CKySgAuX0MSdZcTsKnwa79cGHry434jEWvsqKbUsFdcJAVI7UXMLiyjfULvIVetsszBlPQKZhNDMFN7FZTSysCwWkTr5HNKacXJvP4Nu+KEVOZ5IxOoreTzTnCxkrYPSfUUAtlcNAldZGsX+VddHeuzvXvDSkTXEBI0MXwjN8H3k1sgiXiWcXF+L7ULQdGN6GaFgl/BYf69QCInsKiEYIxzc1wdyiYMxR9Bctg3jC+E+yLqUo347R4FMUUSe0VTJiNNbJ9fQpNIiypqBjyVFXLjLH4pH0PQJq7Uunu/+TVwoxM6Ge2m7Zqe0Pt1JoWgsbEB34ZfhSF+L/hTM+iTmsAValHLV6Nrkqh1JVf2kkIm+jmcj+UgrVWCQDYXeV1TMDgW0CjSoqBXjlPhHJji926Y0MzUXEV31CF8ltkLe+bbGCiLd0HgNvdUkAw2EYJw6y0IWQFQx+1BeVYMbvXIXIpqs2TSKNQy7rveSeu3BUOM2ERW7A8YiD1ElM+y30cNpd6QQ0InGK3jOswuLGOp4BM4EoKhzvmMeR7E1YkYcjiltIJXlYzFrIPkBJ1qJ9eG0wRn8ReYuPM7U7gYSs8y3WjvNSQ3wZR/nDQF7v2262TXfQnHRRCHPYOTUTcw3UQI3TOVUZjJ+hjTeV9CffeSx/tfvdqCsyW+XIdDCcToM7ZGiInRHkYhbTbtNeY94jFyztATz+0s2m+DL1X5fV1dFQ1D7qfghJ/BTOzzmBxoAKW0oi//EupYhzySd8lQq4dSFSF+XyTSuqmveGzXfPtf0FaEwZF+wEORTF/+M4zF/2EKdtPtL+FMDt0xt8V72W+8xUweeqVGvJvcgdDYZrxytQUHrrf5LaRoGNhUTwWahLotJ/Xe4VxcxuRdNmYTQxgYKX3P30iRaye8i8cRdPJNKdefgdsxp6OUlg05l95B+Icav9LwNM8jrYXc72i1TFqVir7XDMnNj8QokJ52uCfs9DGMutQU/2qNZ/d8xt201/08ahvXY1Du23ylJyaDQiJY4Uzex0xhPZ71uW8Ct98n+5CNwp76GpyzfnL34k+B9FAsiuoZuXn6GP72BYg7nIVeTULPym5+aQUdtPP0Ng3tdPZ5tI7rtlVQ6Fxk4zq+ZldGRH+50ArIw1k//kR2f6tbxkByzhaPbEkoV5oJuc39xKaUpFoXqP0/EJRmwsNgigivG6h1bgmce+0QsgIwyAqCPPekzwOIlvybkw9iKXUfWvuHYMs6AmnVdVSOzXgkT+6Tlh4/Y/06nhr8GSvuu1RuvsjtAzVtIBj/9AOw5n7olwujtRFH1pZxHRwLyzDNLqJJpEXl6AzxxkgPBcpOQmFyomJUxWBiZxeW0TGhhy2RPOzo7hu5katR68V3+SC9a0P/AW8lELqD0is1Yk1YgZW0fYiq5iOQzUWfC45hufkZM2XYLClY92p4AbE1Qoyw9mCkKgNDMhOCoxtxrmgIAtYzKMhe306TQAtdxhHYOMEQ9ta7SMY1GIw9hPiw7/FWom+XlMvXMMR3kWCMFAgttxjpY5qf0yExYHZhGQbHAsIekM+0EcREXRUN883PfH5reQfhCl3LzMF01HMQSGRMckYXIHklpfghIgaOhGCMyXSo5akZ5bUxhQUvxjXjYjFJMifZz+Jy4g2MKSxIa5lA9yQ5nzslBpQPKvBFeAr0V/dAKPavTKWpiEBT5GF8kdsPa+a7mKrhIDCSi5ga/0pYzOdoL4AzORQ9A4MQsgKgu7IHUz0VzHXhWFjG6uqahzQmvVT1ibBlHUG8iyxePTaD3LATmInbC3VVFAzZH6FDYiCKYV6eJO6JGHN9l/4Lq+mhcJYQkYExhQUtIi3eTuwAV0C+s9HaHCynv0QaK4IHQMZLwOoqlivPQVl8jsGOW3PeZwpyf8tQ+qPH9O5hl2BCCkX087iSmYeZOg5s2Ucxfi8Wpuz3Ybr9BSR3PAuQg5w2nL496LOd1+IJ5OzUzQFQCjPEVD/jFUPDeWjzxZ3IzdKQRG9ODKW0onpsBhN3/oA49WOwwy/Aci0IYorAu/qL2GhmvU6mnkorKIUFjowDjNoTpbTCVPg1dPcu+YV5WfKPuXhSb0LZmL7+/d/5AYbSswyXzJL3MQNbcvcL2elypL8BZ1IIBgQTOJraheDoJhT0ynB/WIWQmCbGGNd90UR4WffdXUmy2uaXIClnwZkYAvOtE6CmTVvyWQj09+HJ1buNvql1HP9WXEv3GJ42496walvTG8EMadp5e4DR6pRdEgPOlZCp+ktXyBS6zjWZpjv99P1yx7KxXkHD8OjnnPsxkP2qt93Y/jNifmkFlNLCTH7o6b33ebRRY5cuWPgCvmuC+h5jRMoULfM2klu47qG2gRLYE4Jh1Sl8D6jgQyA9FAu8CrSIdB738799AeLPYKVnkoze6ItixjKHWh5xrdwuiVdpdm7bgVuiszMYwR07RbvFwvIKxBrbtglNK6trj2fiMjNCTq7pnke/7W1EVjsx23o1vhX/yu1nXE793eR09nk0ibR+4SKdE56Soe5B4zppDKf3ti3ORVwp5kLICkBZ2PtQJ+73wC663+Ds461YTHkBjYMCDMQewnAJ26dYoQnyi8skMez2QwgblJuQ1zWFQDYXeyK5aBwlTtiW/GNwpB/wi9mUG2dRx9OglqeGWGtHl8SARiGZYJjzjxHs5c130SM1opbSMCNpuXEWtWMqBqLhSD/AkJSH5WYf7gfdXY2r9dXZpz8bjQF1uAj+bWI9FkfvYCnjFVy6R2GPS9WMUloZ2IR7YuFv0Wo+sykvo0dqQH/YPhSns1Hi8kMoaqMwFfksvo/i4NTNAbyT1EHgQxnfw3I9CDwBj0kQhiJfQXT4eeyJJPCuskEFivumMTBlZAzeHoyomMRG3F7KkCDpKRt9fVuci0yHnZ5mjSksSG2W4M2EdvxQNAxVfSLG4w8gJKaJKbwopRXj3DyI2YE4FpHuIpmTRJ/mhjiTQhCXkQtWXCycSSHoEOvQPWmAaXaRwR0fSe3EiaxuAqcJewbRmbcxIDOh2S0JGlVYUMdX44uoG1BEP+836RyWGZF65hC+/yAYp/J6ob9xBDN1HLwW34ozGyhh0Yuoj72PuwNS8FnPwBi/F+KxXh9i5pTe4SPgQJOOq6kZBkZRGvYBrNeDYCz+FuqczyCYsbpki/3DXzxkNstPkS7b/TN+TSOH5GaMNhVjJW0fsLxIBBpy3yT/tjEM5uJ/gyvQuvxbXvAgPXsvbUXYhtO73Sxa9lfaWwVNJRv6vM8hrryOpbwjWCw+Aalr+kp3MN9N7sAXub6qW6GxzQiMJGaI9N9owQO6eKCLXKFYvO3j26xoOZjQhlz2V2iJ/QDh0RFk2+OEID9UdgVdrBdR1Es8S+iJhTu8zVRwCtr7vzPu5u5CCZa8T6CujiUGkg3r5prGotPQ3f2FkRS2ZR1mxDp24m/ivWZTXoYzMQRfJ5YiJKbJwzjyy7x+vHHdd7pCf5/yjhK0jut3THo2zy5i8s4l133+cw9+nGS4ze9xPmnvCfcG2qBs+1OGfpkJd4dUW05v6AZWx4TBxyyPJlR3TxrxQXoX9rh4g50TBgay5d7ppz25dhsrq2vkeS0hKlLdk0aPYyD7eLKqZN6hts6hVaxjCi+6Qe59HtGfx7m4DJHaxuRJ9Pvpibyh5Az4Vw+Bw51YR4zox0mOmB4KOPSwt3Bg4wTDoJL4HtCt94D0UDhHytAo8hR/+dsXIP7kMUcVFtTyNJjUOTC/tIKeSSNax/VbWs+7B02Y2o7k2IBLLWgnCgFra2ueTtogniatYt22pygW5yJGFJZHL/2rHCQnlqj60W53m5HiGq1+kN6No6ldzE3O+/sCSAHaIPDFhlNKkkhvNB6lpQQ3wnAaHQuIyq+EkBWAq2E/QHtlDwaEvh3Aer4GptEaLKa8gJLucdSxDqE27YLP+2jTQfPsIlrFBK7XM7le0PRMkiIrgTvOFCC/3G4hBLCSc7BxgtHCV/pgNunzv3Vcj3q+hiSgCgs6Jwww3TiCtZvvYil1H7jUNAZl5PswOhZIF0ugZKAkdk4wBOO+yjr0oonhJ/3IjdIFIt1x0dnnGaWp2b6bmM88iO+LhhHqxpfQ3b3I8CA2SwpoNR9HuougGrcfV9k/4duCIeyNasTo2DCsnCCEZxbhIKcNH6R14QCnDXHX4+BIeRnHbrRjKvI5yNuLMBIegqRr4QhkcxFdI2T8G/ZENuKlKy3YE9mIIbmJJITJoaC6ueh0K2DdrzP7/BJznt4dUuD07UG8fLUFgWwuXo9vRWAkFy0lCRgJ24tANhfFXSLwptTomjDgWnw4RsL24tKNUghZAaBGyHfq7sx9Mf7/5+69vpu69rbR/+N85+Yb5+qcO8PGYJtOIJCEQMgG0gjpPdkBkpAGyL1g3HvBuGIwxg1Xyb3jqm7LtmxJtrosudu4POdirjm9VFzI3u/37v3OMeZIkFWWltaa81eekoCkxLtYSDiCGm4tozLNbSoLPs/uwetxLZiNPwKFwAtxD8tQIyVFkFETgdlR11n/9McY8veCXOxeNe8bM+OXC144e2wPrhX0wJj2NqaqI/FOagfOJ7bi5hMxPszsxsWUdrxyrwmnopqYS7r5yU+wPvoema1jaBYchz3aB/KRcTdY4yTPtZ5ObWMW5pNfgZjz1zgQIoIwkEBgZtNehy7rI0zZF7eED7gFF6XfEk5H5S9o5Yk/8K/RwdZnWE8msCt0JgMF75LXtkZjseBD1Ej1W0rw8udkbSxHzIz5y8Euf1L1s/GOpzAV/wpN9pcwNWcAD94ACj+Aoz6KGZr2TUzjUkqHm9O8WGvHgRARznIJeOswWVso5GpINgiJjtfNGFHv+vhoIDIkc05IRZzSWFbAxyj2/zvupaZjIfEogxQOlsfjucAPWa3ksyjkkHw+Ce5teZ/CWCZg1z6f+O+4f4lLci9iqjqKPW7L/wzG0tuQjU6wtcH+4F0uidu9w7vT1NoJ1j1iPz4ITEVWm/P5SWwYgXewcLObw03qxaNpzv1LnhDm2WWMFv6KhXg/OLIuM6NI0rWt9nisW0Fn/k+MjY0NFoxLdLt3ZqdSsE/7JhkUeatBIUDdYzbUyJz5Lsura4RfNmrBofAGvJPaQdbXLg2EciMqXTr0/6wXCP9YOjm0BIUzU4RDjWx3Rsn/p4ZYZ0fF4BQ7Jr7sP392jFjRNmKB3rGIVpWZxUmUV02T66EnAegX7MfZuFaGGFkbadhMQAxSzJb/Cke0D/RqmdOxzC+vAtlvAimHMd9TwODi7Bj+0xMQviICf3aOEhlK2SQhKlLTt91eKINaO8oGJnf1fFoR4BONdxqOhRfoGbc53bhq8xxK+ichm9wdjtTCBZL/cgUGTRe5sAby/7Xvu8sRzQXh3+T14mRU07aLHB+P6mlWS935QMAmkW6Q0w93TVLMs8vwz3wCpcAL1wNCoA/3hnzQXTmmRmqAqbsIiwmHECccxjPBmyiL/Yfb86ja1bBxFg1KI87GteDDzC6nv9fIDAioILCeL3J68HrQYygFXoj2/x4KgRcCC5uczBU3NjbYtSfm5HHp+z1X22BPPInVsh+xlHAQTT2D3GKph0I/A6HCiAEV2eyk1ZlQCLyQmOU5GeifsGF/sBB+YfUMr8+frlWwccscC4YdLamYSX8TX+b04OS9zddS7X7K59hqjnVXkaCU8yGwZF5GSuiP+DkgEF/HFDLCOL86G1qlwIGgGmQ+I10bccABaBqzIBXsxaOsGPiF1eNAiAgnIhuR0zGOgAoZPs/ucYJYKJVyVEumoNxis1xcWcODNgIVvFZIoADf5vchq02NvgkbzsQ046fAECgFXvANrkVLyj9gevob3k5qR1DQHzDEnsCjulYoBF5oaSY8Em1jFhYSDmE+zhc/BEaiJDsKc0mvoE6+yS0b1BJ1kj9KJPALFcEYewIKgRfyqxsgVBjxTLy58VCYYXl9IxQCLxRV1bmd374xM26++f/i5NH9+PPJAPTpl6CvjMCPD/vhHSSEb6gIF5La8X56F95N64R3kJCtt/bsD2B4Foyo2mEU+V/ETPwRSLR2N2EH8+yy2wZI4VsSnYMFEQNhp0i3K84Pupwv4Fh8gaUXJOBw5YK4iUxUXCNrVu2feO7BdKtNZYG4qwEbKYcBhw5ojiAkSgB4noHV7AtoUBox3Eo6blsR9iU64vy9EO8HnTDprwW7HoPfg5hoeYjJvG8w9fgnrAw8AjJOEvhCdxpWVtdZ4PdhRjf+nuwsk9ytJvK8PxUNMighvY751fSx7mqOz6Hd9fFRSKKrwlRENekASrO+R2nwe8hpH2PdPInOAVl1OgYF+5hnieFZMGZTX+OCa6JkN537EQzlgR59S2YyL2CqJgb2B+8yOWuJbhOaJVNzJNmEw5jO+4RwMTpK/9JvQJNAVcAe3I5Ndvt7t9oK31ARfnMh/9OupbYxa0dCtml2ya3TbnAsYezhz6wzJFeNsgSEkvld58sQv//Vw5NXVY1sZ+4r7SRUDE7t2L2Z5Ymx1LnAjhdX1tA4ZEJJH4EqU++me7VDqFeY8EzsfN/+FWUy/uATuCnczL6wgiaeWqVrkvTfORZWVtE0bEL5wBQTRKAJBf+81MoMKBuYRKvKjGHDDMoHN7k5lHRPuV+5qXehEHjBN7AKleIpNA2bsNKbB6QdJ2vuaAPmCz7CdJQPNMo+p2MZ0NqxnnkGSDmMuY4st33gPz4B6Rm3oUWu83ijCuVGVEsNvAtld/J1NFsv6d+ZMMXHA77MxU4NFHsnbFhZXWdKWtUSouSwGz8Rg2MJrSrzv16BYbyNXFjt8f/a993liKhW4mZgAKIf1zAzQr6PBh2rHM6dvxi6Tlc+EOAcuNOb0ZXoZpxZwq2UfKgC9uDzgDjoI7w9tsRFciPGG+5jOv44IqqVKBFcwJO7Xzk958ucHqQ2j6J5iCgDCeVG+IXVY3+wkJDNuec1KE24+USMAyEitKjMCMuvwlTYPlTkxWLI3wt3Mp86VZb51RnX4xqYsMER44uFxhjMxfmir6uJHW/vBFHoko+osRDvh7KyIgwI9uN2wJ8e/QXquUrnx1lEVUgo8+BCy+s00aJArcwAU100LBl/x8dZ3Xg9dtNtWidMZFXf7QIDCiGxpV8gAWfOVShzr0Mu2INnCTc8+h20j1jgGyrCgRARvIOF6BIcgrQ0GgqBF8ofZeBiMuGzpPEM8Fxn+wjB/G4FLVhZXUdRLxFLOB7ZiDMxztdGdrsaXwdEYTJsHy5GV6Mj4gLUWZ/DO0gIUW44ZtPeQG03UVmrqCiGROfAZF08ZtNeh/XeAVwLCEN3cQzsyafRxuMoqc1zqJEZkMIRzvtDjkMh8EJtRz96xm2o4pE2idCCHgq5FMMBe3ArOd/te/aNmXHzzP/GkaOHEFIhhj7jXeifeYRuWgAAIABJREFUhaBGqkfQMzlaVJsBIeVmlfQRJbP55FegbcjEnTIZEgK+hf0B8XwQKYxOVU5PXQzKTZBorLj5hATN2khCJJ6L9YW+4Dusrq2ze9UV0ujWuay6Sdas+iAM8Zya6WwaMkMu7maOvKi7TZIWABA/xkbGKXSrrVBVRMGW8obb6/mTXnNjwnS0qiweuzMvO+eTTkDTmIXJzCuYqQ0BFOXkWHPOA71Z5DA5aczPs3tw1oXHxDfvPBPTDN9QEfzLZZCN6Ri8ix77TIwPkuvcVbRcZ5vKgvzOCciYeaGzCMVH95/j9dgWN6lgOoca8qAQeCGqhqwp9pwrMJYJMJNxHlNVkdxjJJmg55QvZz2bfg6TdfGw53wI/bMQ9jj11yFwORKsWwu/I+tJW9Guz3nfuA1/FEvQrrJApp4iPCmBF2qKMz0+/4OMTpyNdz7vVNFOV5+2rSndi7V19Izb3BAVuukFqPN/5Ios56AYUrLvpGnK2XJt4kNePY355dWXLkwuvViDbX5lW9laT54StTL9jqiNldV1tKjMpIu3g2wvdeEWc8Iy0snN/XtueRX1SiMiqoc4nzATjkY04qfHg2geNrt1QBr+Sbgaf+2ihTbTzBIalJvCGq5J0n/nIHLxela02djYwJh5DmUDkzgb14oyroN3KaUD76R2cEqeVpT2T6J3woalF2toG7GgVWXBeNtjzMf54rvQeKiD9+LVoCcIfqZAg9KIlYZwoOgTIOMUIH6ExbTTmI7ywfBAKzsW2zxRnl1LewVIOYyZ1tT/eQnIwGA/ZuIOQ65yDyYGXarCu81UadWttH8SavPcts9d5eEBXTfe7YbWtoAqCSH7jphmmZLWc7WN+ULsNHTTC6hXusvU/dNjrAlIOYwXdf7/LeSqoHIJpIK9EOWGMTNCTzhLT74ZEp0Dma1jjKvgygcCuEV0C48OOvSORfwen4XRoL24EpqFybB9Tnr6dDYPmyErj4Et5XX8USLBY/9LeBzyMft7r9oK72AhPn3wHAMa0gV50qtjKl83i5zVaG48GsAxTm1qWNLDcM2qgD0ITXngBAnaDp4iG9PBEeMDfXcxZmJ8MdxWwoIKodyI5mEz4zqk5D1Crf/rKIr+ET6hIgbfkOgckKr16ChNhXdgHVNZivKQpFC1kpVVcm47uA6krjwYhsz3cCWjCxeSNqu2muZcp0pom8rilki1qizobiaSusaMy2gfscCQ8xnmk1+BPdoHxtzPiHpO4jE3k71PuGTpx4f9aBYchyjtVygEXmisLERK0wh+K/asAtQ5aoVIbkSVVL/tWrG+voFqjr/gHST0SFBtaybJ0y+ZlegLPIK+2PdwIEQEdWU0ZjLeQs/wBBQCLzx8SCRGqcHaVLg3bgYGYbwmHpbkN5ykPQ2OJdRI9ejX2PB9QR8aBCcx5O+FpkElRkyzaBuxbLqUz6+gRmqAXDmEybB9+CQoGZUuFcJ+1SRuvvp/48DRE4irk0OfdQWTZYEez00ZJ5CQ1aZmvAV1ZzmuPxrAm3croFTIuIDE4LRu0qol/z5lAadaj/yucRwMqYEjxodUgmN8YS3+ib3ek/GYGy+s9k8SsDdFOBl90imSG6EaVpDnTA2Q5KPuNnntcC2QchijehtG836ELvcr1CuNzmTJESuqpHrUK0zobRfBEeMDSW0WOkasqJZur9a1mzmXegajtcmwpL+NlbZEdkzIOMk60ZS39n1BH16Ndk54ywem2G/TPmLBFznEW6e0T4uFhEOYaCmAREc4VZqQv8E3qGpLaVmx1o5v8voYRPFKQg0c0T5O/AoqhPDjw37i5eEiFSzROTDWXgyFwAvhFWJIx43ccTyE6envjNRqz/4A+mehrJMgGyPFxJz2cWhjTkInSsF03idOhH+amPAJ2+YnP3nsqEonzDA/+dlj8Si3gxiehlYqIB+ZwGjQXqgC9kDT4DkBiawlHZ863nmjinaTdQkM0uJJLMU2T9QKXdcUjXUB43nfkwQk9TXWbdqOH0c5VltBrylfbafYBSB74aR9EbJJ4nPTojJvaz1AEwn+9e7Jn8p1LL1YQ9OQCXVy47aKlsBm4USic/cZoXvet/l9eIXrqL+V1IYPM7sh1trd9sI2lQVNQybophd27enGH5a5ZXaf0EKbbnrBicvQoHROkv47h2TSDpHCyLo1iytrkEzakd0+zlRFJToHjt1txNm4FjQOmdCiMhOVryEThgwzzD5A23AfunuHcTnwPuxRPvg6+iHeT+uEUG7EcumPZM0tfB9oDMNivB+mo3wg7RKxBHbKvojGIRNWk4+QBKQx7n9WArKxsYGm2lIoBV5ob/dM2OLPOpmRGclsexxcC7BaYtjUPN5i8N2rX4YcpjLOsptRpDRi2DiLGi7rb9hCn9l1vIyzKH/MLL3YnjQ2IiItsyffo33E8k/L2L3siHwshNLfCz2FQcyM0JWMBmxK0LouOlfvd+MEF8QPau2okTqrn7n6bXjy1xi3zOPX6BSog/finchiaEL+5rFa3z8xjbHyCDjuX8JXub3I938PhQHvbwZt/SQweD2OVP8blSbEN6jIY7EtOHa30en4v8juYSpNqsF2hr0eCdyDmIRYtKjMsM4tY3FlbUtymUTngGJoCI4YH4z0NcEWfxxablPtn5hGtYQYDFITrTupD/Ek7GPocr6Ed7AQIZWbMApNUw7MkftxNrAANVI9zsa14kxMs5vyE03i6AbRPzGNjhErNMW3MXn/I1xO6cB76ZsQDhqAjvbWo2OE3AN85a2ecRvq5EaMiwkBdqnwE6jNc5jI+Zpt0HMppzk1pfNu37+kX4fvCvrQOWaB0P9VlN39jCiaNVduu0bUSA2QTjqgtS3syK1qU5lZApLbOe72XpRPkPaolCQ/oW/h7eR2TFVHwXH/EgbGLVD6eyErMxESHfU3+BwjIfsRFhkCXU00TCnnna5d12t+LPkSTHf3o1k6AcfCC4yYZtlx0+t8cGgMc7G++EdYAi4ktTthcAelcvx86n/B6+gZZLWoYMj+GLqntz2em5ZhE7yDhIgVqpgHg2qw0+mapdcC/15lnUou4R/Q2Dfdxjlp4D6FiuHgHTE+mH32J3u9JwgBrTazKrDInwTsrdEwzbrfFzUyA7Q6LXnOeBuBXzXfJa+d6ABSDsNinIIp/SIsNXfRr5lm3MIBDSHzDxtmMKi1QyETYznhIObF5VhZXd/S6+Rl5kzGeQxVRGM25TTQn8uKQEg5DEiKAJDks1ZmwC9Fgzh217kb8bBLw9ZK/m8VVTuM2dTXoBOlkoC57TFUAXuwP7AWN594TsIzWkZZUh0nUuHVu7UY8vfCgOgRe84TrvuX3jIK68OvPEoSj3VXQinwQkhxF4NKDskGSPEh4QikEyYCr6qMYNeDbHQC3Worjt1tRK+/L4aqUmAr+MJJOWsu+RSR5dXaYb3ng8mwfYRTlngUmuZcp2PQV0ZwcDl3WJWAU7G7ktGFbrEcCoEXpsK9MVkb5/G8tKrMOBBCOkv0MSoTPlUTvW1iMGGdR8nApJtM74hpFppcsqbNJZ9iRaeFeD8n3gt/Utl2T5xIet83KI27CoppIVSkMKJj1OoRacAftDjLLxbVSHeGns9zwiSNStOWXSI6KHSUnHNnuJnesYhamQFXMroYDPGLnB68xuuuR9UOO0mIU3g8X4J+t4PecxLdJuxTbZl3WoObX8KM8b9y8JEdFFo+bplHg9KIHK57/XVuL9pVRMb9VFQTGpRG9l1qZHq0qsyM3zNZFw95xClcjCDwyMTsPPiF1uPZ4BRWci8DnUmkkPPwPSKiEO0DceszJj4yappDtWQKL5IOASmHYRdG/s9KQFbX1vGsOBsKgRcelxTvuMh7kjH1NCycSZ1r+8/ToJn9czXhIuyWhDag2eSu1CtM6Bi1ok5OfpyOkU1pWOrg7kkZS2WcRYV46qWVtxT6me2hYlz1zZH9Pls0/1k30ZcZKdnZxPzvSSCDyvA9MCxzy1hb39gyAL+cQjDllORdJzc4VZFdX+cKnbPMLaNRacLNiDhMhPwN78TVYSzYG/1V9xFd564eY6gIwnTuVVxO7cAD/6so8r/IughUq/xAiAh94zaItXbECofZ5u0dJERC/aY86juppDUq0Tkw0tfIVGWkQX5Ijg1EpWQKQrkRrSozZFMOt8CMzmFJD2ZifCEdeA5j2t8Zhlqq1sNU8iekaj1zEv4qKh/5cb9jJuM8Lia34y1OV12i4xyoI7zxcUAiesatKOrRYH+wCDdcfAgovJFPeOsdn4b64c/Q5XyJcwltTso9lOAm721BjcwApX4GIl5bu0amJ9edXkyCsNJvMLP0ApqH1zAf5wfHg3eIQkfRdSJfuc19Xxd0DqUBb0Mh8MJwf8uWz9stoZKOAY0dPqEiHA5vQL/GHQZHO0wtZYRjUyc4gz9KJKzTUSc3QBHojZQEYoJnLroBy+MfIQnwQVZSKLTPImDKuORUAKCwO1qBtOV/hvk4PzQp9W74cro29Q4Rsm5laT68g4QIKN/ky0j7OvDTyf+F/+/YOTx+PgZj7ufQFP3u8fwM8ly4qdGdYliF99I6cZm7ZiU6z8ozlJfRMWJF2cAkVLxrW6LbdOg2lt4mnZAa/8371UNC4WYg2siZbnYmw7FIvEf4ais1MgP01mnyHJUQKHgH6EohrzVIiYKWcQjLiYexJi1lUAax1s5gi0xNb3mWyE+OtwHYuhCy3eyfmEaVRM82e0fWZYwVXMNK4kGSfFAeXsphQF7q9Dl/lkjhF+rsP5PJKQdWSjY7XMfuEr8Qx4N32P0vF+ZAJtiDQ+ENeOVek1MySueFxDa8EdfCFOvq5XoM+XshLCoC/RM29I3b8GFGF3xDRehWWwkpvOyO2/uM9ggx5E+4a9r6dOJHop1mQfawuBuOrMuYqo50kvr1L5dhf7AQA4IDyE+LYF4hEp2DeSNNtBQQnotgHzGLLbjJwdg2eWx8M0YazIu1dqZI9+kD0iX1C6tHWhnhSTlifGCoCNrydyPCKJvrIzVK1VfddRPjoGNjg0hRlw1MoVu9GUwvrqyhd8KGyZwvCPcp8RhUg0TZbj7p+JbHQfmEGus8NjY2oDbPOXEwxi1zKB2YdOILbjUop8zpPtkmnuDHO2x93YUvCS2GtAybd/QNoeIZNBbid/2VeiI6cyGxDVczCSfzVokUvqEidi2fimpif6OTGqPyuyCOhRc7Ijz4yRA9P0OGWSdZ25dxXF9f39gWOvfPDIo+oHtDtUyPAc00aqQGZLURdc0LSe0o5IoVhyMaIFIa2fcTyY2okujZfa+vDEPv3TfxZjS5N1ue5cI7SIg4oQIvko8AshK27s7Hkc71QGMxS4wHNHZUD4xvJiDVIf+zEpCV1XVUPEyCQuCF9KwMjzcrf+4WIjVlX0SN1MCkD7cbNLPvGbftmhxGeSN08xnkFhTKZeibmIZIacTM0gvMLL1Al9rqEWYlnbSjZJfGPnRsbGyga8y6fadG+QwbKYdhT3kN9QoThHIj67K8WFvfdYD2V8b6+gbyU0Ix5O+FieJbzFiLuswurqyhZ9wG69yyx8qoROdgUqzUubt9xOIRR0+f36g0oV8zDSjKseggldUGpQk3w+5BG7oPH6W1QBp8COnxpCPjWjmkhnOno5tREPYlSgVvoaiXVCJvl0pZlbykj+Avb5VK4RtaD7HWjnPxrU6E0rNxrfg8m+i/86vEvSEnkRn1OwY0pM3cqrKgSqJ32jz4wVlSbiGmow6gpV8Mfd7XDCJBuyrD4i5iVhbnh7eD85CfnYSF+IOIrJIwvw/phAnzicegC9uH34I3Mdg/FQ1ifzBRf2KbEJfEKfWb+Hux1o6xnO+hf/gDTsc0OxkAKoaGMJ94DM295FyuchjpRqUJLcMECjC3vAqYlCQIq7iGjY0NGEv+IM7tnGrOXPJJErTzkgjqUEsfq494B0LBqxjy34P2jrYtA0Vawdytc658iqiDeZJElegcjCSrKQ+BQuCFBsFJPOnVwlARBGv2FSL7GnIYCffuoEdtxfO4DzCc/zO6BX6ozg6HpiwIpvvvOyUWrvwla+G3mI0/4tHLhnYeOoemOIJuCb7J68X+4E05ZUVnNW688n/h/zl2EdUDGpgLvsJEoTucRqmUQ6KdxpGIBtx8IubO/0FINFaci2/Dp5w6mlhrR40HQ1bZlIOtJdVSA5T95DpUKggXgUq9qpvyMBPji6X6MPZaTwkF39gTANASSa6T5xlMKccJJiLVwzK7RBIHeSmR4KUiG3YNea20mPxXP8i8o56J9Wga9uAHZRkB1snvwocdbrf/dIxaUSnRo2ecqPv0TtggUhI4pC37A9jjjmA15RiwMr8phc5TI6TJp3+FnPB/JjaDwDiRimHiWbCc3I530zqZ1K1E50DNw3gMCvYhsmaIQbb4x0hhSXEiZ88YY/Rh/BlwG2fjyHq1P5h0wiQ6jkjuIVhWDbRg2H8PAnJroH8WCnv2B5DoHIxoPdpbzxSuaLGlX6bAsbuN+DjrOcZCfXA7yB9TBd/D/ORnSHQOAuWK98PzukLsDxZCGewLpcALlQnX3QwLLUXXMJ33CeOZdKutuJjcjjMxzRBr7TgT08zkxT+6S/h+c8mnYHr665a/YdAzOfYHC5nwibYhkyQgFcFoGTZ7lHSnsuRNQ2YmT72wsso4W9a8zzgy/SFWmJnJvLCZdHmYLcMEQmxwLEGo2HRgf7G2js5RK2qkhh0D/aUXBL3B53PsJKSzsLLq5uVQrzBBskOhlnbGO0Y9J2n8QdcKic4ZarnGxU2tKgtOxzTjm3yi6pfcRBTKKFTqcESDE9+QxlRChdFN9GcnwR81Lxmi50c66XCCL76MGaPGOv9PqXJtN2gsSot4QrkRQgVB2SQ1kELokYgGJh5xIESEaomeqYgOukDYjKW30HL3Mt6Mb8V80gmMCDPhHSREZFEDKZRou4HnGdhIOYzZ+MOYjfVFv7AQ0/MrTKygsneYPDflMKYr7rh59pV3q/5zE5ClF2t4lh0BhcALsfH3dkxAPDk2exo0QCUEne2rCHzFhu0woK7H7UnZhT+rpcTU0OBYglBu9CgH3DtBdLV3Ayvjf3bTsAmdY9tk7PJSrCUfwkzsQfSoia9Ev2Yaa+uk2tKttu7qZttprK1vuJ2rtfUNPIv7AcMBezDx6CYOhdfj92IxcyGd5rC0avOcR7KpREcqIFRqlQalfCUhfvdJoiNVlg6lBhsph+HoK2ZGZr8EhWAybB++zO5Gd9AJRAX/hJPcewc926wiW4quw/z4GnxDRaiIv4ZKwVkkcSo0X+X24NjdRifuxDd5vUyrn+KKywdIcnI8shE3HpPuAh8n3x32Bh5EOhM9B7V2Vq2gM7JmCH5h9fg2IBLa0H2o6BmGvuRPhrmmSc1IfzNUAy2wR/vgjcCHeFpJFC/6B/rgGyrCr0/ErIKoDt2PuLCb7Jz1jlvxyr0mJ0gVJfu5mixaC7+DqfgmjvG+F9sU1CbUyYzsd9HaFlApmUKd3LDJgbKMcG7uvwIAZutCYU04CfG4CQuJRwnuu/g2qjnVrWqpAZ1jVtTINnH5LbEfo0twECOBe9Da3eNRNU+iI4noy7TSR0yzCKtSeDRnlOgckGinsZBwCNaHX0EVsAftAScg1tphLBNgKusqesZtEEe8irjQXxBfr0KN4DUkBX6LdsERDDy9B03xbZiyP3KrmFEyMr32HEknt4Q1dKutaBkycgTdx+jX2PB5dg8LMsfbn2Aq3BuHgqvRMWKF/fH3UBfccPoeUrUeCwmHMdorIolkXh90wkTMpr0Bic6Bk1FN+PEhkWjt5zZ6Vxw59QKhZmGyQSLtSs3WqNqZZOA5ZmN98aI5ir2WD3PlBwJOePr2OHKd9OWwIgslrrPO1uILknj05wGpR4gZIQAscp2RrNeB7HPACgkQdNML0FjnGadmu+FaSfY062Skk1Il0TOsvcGxhOZhMzSZH2EuzhfrFdfJG5oUmwnIiBDAZvIZWqkgUru8+yy8ijzWx0tKvi8gOHnzk5+Ys/uDpFAMBvhCrLXjZFQT3ufdwy3DZpyJacbp6Ga3zshs6mtoKIjEe+mdOBnV5JSgUB6H6/cdFndDFbAHd+6XwlTyJ2wFX0Kic2wS47urMJN5AZO1cRjpb8ZCvB+SSpuY3K0j1g+/BgaiOf4LWB4TZUH5COnmZebm4ECICI7kUxgP/htSQ37AbKqzYeFMxnlMVUfBVvAl9E9+w+XUDnhzvhG5HRPYHyxEYIUMh8Mb8E5gJnSh++B48A6shd9u+RvWK4xOJp06USoW4v3QmnYDx+42olHpLiBjcCyhRqZH7zgRTphbXmXQpwGNHdN5HzMnd7o+T+d9wn4zT5NAZgzoUltRPjCFjhFS3TfNEshQ15gVjUPbi9lQgzr+b+2W2LsMvioUfQ2xOTBtyx2hfDQKH+MT5F3XN76yJS1KzS+vOkGnj0Y04GbRICS6TThgftcExFo79geL4MPriGzGVM4iRJJJ+46IFaoIxdYdrltQyyt8vowZo0I/44TG+FcO105s15iVrUnU8JV6LtH/f9itcTPK5cc1NZFX8XZSO3efxsIvrB4x2QUkqbBrAUU5NlIOw5JxEXOxvuivzYFpZoklQ1XdcpaAWEt/c/PsOxtZ+5+bgCysrKIy/TYUAi/cDXdvAXsKMHbDraCkx9201vhE4K4xQnjeyUjQlYPgadZICWZRZZxFSf+kG36Rr9T1Mq6o9CJt2a7SK32CF0mH4IjxgWxkAv0T0wz72DRsYt2Zf3aMmefcqgEv1tbRFnmJkAELruHV6CZ8m9/HXDun7IuoGJzC83EbeidszASOPw9znhXf84zUamQGho+nogGNShNi6obRM25DZ08P1pIPwdJZgGqpHn3jNvwaEICpiAO4/mgAQv/TiPX/DlltanyR0wO/UBFEHGTO+vBraB7dhHeQEC1ZtyD0P81wwn9PJhKmxyIbWZDGh1l1q604HNGAb/P6mJZ/YAV5LV8pqP3uBeSFb70xSnSkFXwwrB7vp3chJDIMo0F/Q/+4FVPV9+C4fxG/PhGjsZyQv0d7ajHaK4Lp7n68GvgELQNyRnj/+P5znIxqgv5ZKGYyzqM54iIehX/p1J6lFVSKtW0eNqNbbXVSB5HoHLDlfw5j6W34hdXjVokUfRPTqJGRzk29woTeCRvbgGaXXqB1xAKVcXbznrOpSRBWdwsAsGwawUB7DTpGrbDnXCEdopK7UBlnoTLOYtK+iOXVNYxxRYS+iWn0pH8PucALY0F70SNWoFZmcDNapNfIboibdGisC6iRGbgEd/N+bh7erCrOpZzGXOpp6CO8MXrvFUh0Duif/gld9mcYNs5CHHUecQHf4fPsHrQHnEBC2C9o8z8BXU00Jh7/BnP+F26fO2qaY5Uk09PfYEs5u2WhhCYrCwlHMNGcB4mOdCneS+vE0bsNGK5JxWj4IRy924iuMStmS65hPN9ZRppCycY7nuKtpDZcvd8NQ3kgg77R31aic3gMMADiBVIpmYKQM8kUSyiHhHT/JlofYSH+IDqGjZiJP4K19kSn17tK69bIDM5CHZ3J5DoRPwbgTFynZqOLK2tA3kWgNZqTj6wnr11fI/9OOw4YJLv+/flDa1tw4jB5XNNlRFxk3DLvBFGbWXoBS+E3WE44SLowAGAb20xAxprYc6WTdmKAyav4SnQO3CmVwscFlhVeTZISbclt2HI/hlhrR1T4n5CHHXW6hzNbxtCmsuBcfCsOhTeguM9doncm460tuRGOrMtM1Yo/h2SDGAncg1tpj2ApusaUsqjkrbqjhJkM0s7sd4lPcT6xjSTv8X5ISY1DTuBHmMolyoJKpQIL8X74OeY+Lqd2YDbtDVgiD+Ce/z8wGf8aMyxkIgkdJbAUXUNj7KfYHyxCavMoDoc34O0kooRX2K3B1cxuXAlMhS3qAKyF38Ke8+G2v+P5xDa2fk/WJWAh3g/Por8hBHWZ3o0zSb2qKIfAOreMfs30ppx1zhXmwk7liC1F12HL/3zHeKaK66iJlCTBlk8RSNRu4KTjljk3BIEbtNFlzG4Ru9DOwFbwIvMsSXaoeh09R9S1m8ZMtHJOTX9pQcOx+IKDRRpYkkH3yVoZUWlMbRpF5yjhN3gHC914WbRzs7GxwZJ5Jx6Zh+Fq80C7IXwExcuYMQ5o7P9lJpKeoKp0Bj2Ts6TjSEQD9nMKkZXiKbciJtu7C75E8d0v8W5aJ6ZzrsJQEYRX7jUhMTmWrFVrLwBNF9aTD0OX/y1mE45ioCoTWtsCUzJr6JGR56YehfnxNadz2Txkxt5bpf+5Ccjs0gtUJ/0EhcALEYE3mEHWVnO3HA2agbviDz2Nae5Etw5b8E1eH4Qy/Y7yd5Rj4np8Yq0deZ0koKNE9K4xkmRQLgolkNNAulKsfyn3Vb1jEZUSvUfzPTbEj7CSeBCOGB8MyQfZ8XSMkMpyjVS/K4PGnUbvhM0NO7ryYg2K0MMYCdwDbe7XuJDUjg8zu5nU8bBhFhWDU2hQGp0WKv453B8swr4gIS7yoE3tIxa0qMzQOxYh5AwIbz4RwztIiHq5EV3NVVhNOgRdYyZECiOahsz4M+A2pu4dxp0yGcoF55Ee+AV6x0mSeTiiAR9xONPp3I8gzvuDwCIehaA18BT+wSUbJ7jE453UDlxKIZvW6ZhmfJO3aQp3vXAAfmH1TO6WVheJV8IhSHQOtNx7H4Whn217ff9eTCR8hXID8lJC0B/gB4mOVOm0USfgHSREUnw4Uy8a666GLnQfXgsrh1gzzcmq3md40YmEczBUBKEo/HPUR1xmLtwSnQP9GhtOxzTjQlI7xFo7+y1cr2t7zofQVwTBO1iIgAoZqqV6DOrs6Bwl6kF8vPHGxgasc8vOUCK7lsmr0qHQz6BOZoSp5A/MxfpiqC7Trfq0vr6Bfs00RHIjlAVEAUsT8jcxAHucAAAgAElEQVQ8V6rZ454SkN2agALUYM+AzlGSeFVL9WhVWdDAw9XOZL7tRJof0NgxVnADlsJvMD2/AmnCu0j1/xwHw+oxFHYEqpoU6FMJZ2fi4Q1YH33n9rm66QV2no1lApjT395yDRgxEbGL+eRXoG3M2vyuUj18Q0XIjrqJ1sCTeCOuBX0aGxbKf8FE3ndugeRCvB8mWgtxJaMLF5PbifJR0Q3mPxFRs6k65wkOZp5dRpVUj7YRokozIFM4Sbtq69Mxl3IazcNm6Er9nYJugAZxBqfjdxLfeJ5BrhNZCQBC+qXnyGkdf3wVqP6NPFfXs/n6qpuE+/YXB91wt4L3EZf6rdfcjaqbxKNk1kAecExuJiCaTvY8jXUBMZxPEh8CebNIjCM8o0+JzoHCboL17ikMQWfQSfiGihAS8DPGok+ztfJ8YhtORjXhxL1G+IXVo6B7wuPxu3px8OdM5tuYrI11e1ypVGA0cC9uJ+U4wcCY70lrIWbTz0InTMKwuAuzsb54OzgPd8qkLEmRNDzC/cBP0RZFJJ6HpH2YjfXF5aD7CKqQMwf06JCf8TzkFEbKI0lnuKeZI70PQvzgBkr8L+BXTvmOdgAPhIjQM25FZusY/BOzOA7SLcxkvLXtOnvj8QATAZiqicZCvB+Kwz8hqmP9k04ds7V1Z8hkDVfI4yMg7A/exWz6OQLX5NQBjeX+sD94b9vjoL8huR8MGDHNOb1vjczgJGDhdL1xvBTXAp6buAM3FlfWoLbMb6m82DtOPDu2EsShylYDGjtLKACyLnSOWZ0SEj7Jne/3Q+G9rcMkyYjhIIBdY2QNiqwZQo1Uz7pcrjLr/HuQdlW3LcQC6HLp6AvlRgxwtgD0sa2SvbnlVbd9qXPMuituzl8Zngxf6fyzhBQoqHM8NSx90ru1H5A95wpyIv6Bq5ndTInuzfhWxMdHYDHxCPlQ2xjWkg9hrDgAs0knIa1MgVI/Q45FakBLrxiL8X5A1uswFHzrdC4jqpXY++d/cALiWHyBurhviBOw/7cMY7/VpFX07Qafn0E7GttdoDSZoBlmZtvYjpnwVs6UmS1j2MddFJS30DhkgkhuZJApyaQdI6ZZBqWq4/622zFmnkOv6BF6Gp5ubR40kM/kMKl84YCGLAQ94zbUyf553WuKm3Zt9y7NWDEWtBeKIB/oHnyKq5ndeCuxjWFBu9Wcq71U70aGk+gcTOHhlXtNbkox1VJCyqLt0/c4Y7XoumH01eZiJfEgRqsT0aqyoHxgCv4Bv0EfcwJRtUN47H8JFXc/Ze8VykEeHnVr4Mi6jOYHd+AdJITqWQz6go/jw4xuEpwFEyjY9UKyaYm1dviGinCrVOoWKNBriCoqUbdoic6BxphP8CT4itP3mWh5iJG+BrYIH45owJc5BNLS8CAATYITaB4yQyHKhcJ/Lw4E1yEy5FcGx1F3lkMdtBfvJIrYgmOoCIJYa8eb96qhDt4LdUcp4kN/gjj8JDq534B+PpXlTWoYQdcYacPXulzXjqzLGCsLdyI/r66tY355FWrz3I5KU5g1kCCsOYI9RGEGGmEKkRruKff4UtPsEurkBmjLAqH094I+3Bu9o3pWjeNvorQy9zKdPaqQQq5LGzrHrKiWGjhxAFKpm869yhKQ+aTjqJMbYHh8DavPfsLc8iqU6Z/igf9VeAfWwRTpg4mWh7DnXIH+WQgm8n6A/ekN9+/FE1HQ1adBm/etm7oOHZQnNZd6hikh0fn7UwmSb3+CP9/dj++CEtA3bsFy5e/Q5n7tdG5Ug52cL0E2vsztweuxLbBnvw/9s1Cy4QcJkcpt9pQH59o1Zupommm0qMzoUYwyyIlE5+CUwS5uKfxhm1+BUEGkcT1u+H05TnwJvnqNE5S25BuiX59ymPCL/kXDE0yMP+l52bLaWh8IFH28+e95y2YCoutlDxtnlpDOEc5psUqic+CHgn6ccjEJ7RyzwDtYiMToAPQKfHC9cADFSbdhS98MsKmoxLmENicCu+ukhoGe/jabfg46YaLb43LVKMaC9uJWXDrsD96DvjKM/W0+6Tg0TdnE9V6UimFJDwwR3vh74APUSPWQjhtYoaQu6Roq/M8hvEoJVX8LjBHeOBeYT4xO7/8dC/F+aCy4i0b/U4gP/hGHwhvwW6A/dOE+yGxSIj34azSFnGNCEWnNo0yFkB7P2PMaTs0qhq25W827T9txOSgLYq0d+qq7WIj3Q2HgBwTS0jXhZGo7u/QC9byucK3MALHO7gR9cty/BEfWZeYnshDvh8naWI/qfltNkYLA+yh8mCQgW8vjLq4QMrmr9Hn3mM1Z3pob45Y5tHKu2a5u1nR6ch3X2uYxaV906l7UyTatA8Ytc6R7w93L9Hz1uQhIaG0LaB2xoE1lwTMxUZa8z+Mv+YSKICiTMTiWd5AQd3h7LJ1UIIN2cii8i4619Q323al5It9njHbtXfc52tnin9/OMauTgA/ft+y/gojuylfhzxuPSPxB4enfFfQRDlirestraibzApIjbuLz7B6CZCi7g3fTOhEVFYz5xGPkQ5fnsJp8CLLKZMykvo6xmkSyt2oJ7L2jlyhBruddgiH3cyee3JWMLpwOr/n3TUBW19axvLq2JQRqen4FjVFXMeTvhQz/T1hGvNVs2wWkiq9z7dS632LQthd1840RDu+IGd7qQvmlaBDeHLmP4kVrOI355mEzg6gMaOwMi9k8ZN6xS8MfAxo7pnI+x0Ted9A7FrH0Yg3yKQIFGjHNYWNjA+u9DzCTcAxzsb5Qd5a5HSdN5F5GGcvgWHIi0lNiqWs7cknTj9GgvWgMv4ipzA/wfUEfTkU1sTYn9e8QyY1cQkEWwm61lSPAkoCI+kDwPS26x2wQKozs3FNuxhfZPZCVx2Ax3g/DFVF4rrYhv2sCIQE/w5DwGtJbRpHjfwU9CZv+Hv0aG/zC6vF7sQSz6edQlh4I39B6aEWpkIcewZvxrcytNbtdjRjOsZU+xsdQ92tsOBhWj7cS25yUbHSiVMymvkYWvvhvUBZ4yel3sD94F8bSW+hWW/FhZhf2B2++VvnoFioFZ5HWPIrE9DQoBV6IrOhBjP/3sEf5QNOcC3VbEYb8vfBDPiEQm4t/gfXhN5DoHIh+WAGFwAs93W34PTgImlBvDExY2blTDI9ArLXj78ntOBnVhI4RMyolU26u9DMZ5yEvvQfvICHCqpUv7xhLA7G2GPbQyipZyLvqSzEX54ul8S6PL6VdkOHScMzF+WIm1g8DE9NYXVsnyRTvWGkH52W4TeZZohEv5AQSpudXoDbPMRnMnnEbrIXfcgnIQczHH4JQbsRS2XWg5ncsrqxhNPcHFPq/g6MhlZiP84W6sxzTeR/DWO4PTc5XmCn/ze1z7QsrqJNtBgHbGWER/LmB805IcPptBrV2SNI+w08XfXDlmxsYnLBgtfYOpnK/dApMRvoaMB/nB60oDTceD+B4ZCPmUk5jqDoZIRwfgcq/biXcsbCyitYRCyas82gdsaBrSMcCTInOAWO5P6bzPkatzIBRkzsMjhZfhHJyXt3w7YMPOb6ECMBmZ3pQa2e/DwCg8ifC9Ug5TLoM/8LhiQfSyhWydizazBqJQzsdy7ObCYhezB62zC0jv3PCrcLrKoVM58l7TbgeEILRwL2QaKyYqo6EI+uy03OEcoNHFTf+tBV8CVPJnx7/xpf5ddonJKNQB+/F7egEBrWif5tLPQNdfRohjtenY0g2gLGgvfg2mphlbvJEKqEtC0RnxHl4Bwnxa3QKVAF78F40uW6oGp62IQP69HfwJPYn/PR4EKVx11ArOEOKgpE/w5T2NvvsvgkbDoXXM7EPiW6Tb0dVrSSarfmZTdkBaBCcRMuwmbi7x/jisf8l8lmtY7Dx9jnK/+AHsD3jzgHsTMZbmM79iCVACwlHoG3IwFzyqW1/E/6kUuYNLnChrSClWym3UQEcfqdueZWY09XJjBjlYhdPsB0CG3de38U6Ajniq0nxpX77NDYn0Qr+fcvelwtoqzkIML3++dX7Y3eJGSHt3vuGilgxjj/r5ASKbZlbRrXU4FbI0DsWGTGdFnn5Rc6mIWLc5+ozVC3Vs3VrfX0D8ikHqiR6JwEf+n47FbW3GnPLqxjdBiLsyS+Jzu/y+/BqdBMrusYIVR7FJiQ6B0RyA7rVVsylnMbd8Dv4Nr8PtoIvYSy9hc+ynyMiwh+zSSfY5853ZOChsBOdgScwUhGNjlErqiR6NCpN6O59jvk4P6w9+giGrKvsXPaqrfALq8eP2W3/ngnI9PwKOjgTOVf/B0pIss4to/XuRYwE7sHjwPfx0+PBHW/S9h1I4nxVq76JnbF9BscSSgd08AkRsSq2bQdjQDlP5YE/L6V0YF+QEH8UE2WYKqkeNRxeXaggJkZCOYEeUWOjzlGrRwKUbX4FKsOsU5JAM3Dzg6vQPfgUE9Z5tkA2DZnZzTLdnAJL8huYSzgKTVO223FSnPdu3NrpGNTaMai1s8zfOLOESg+uqMuSEqgC/4bH0ddgSL+I359KcDCsnlU9qRrOc7WNwWg6Rwn3Ib5ehaJe0k0I4ToUuR3OkILmIZLAULjTschGnIxqwljRLczH+WGoJBSDWjtSm0cR4X8dppRzaFQaURDxDaYeOMu9vp3UjvfSOjGXfAoPkkJwOqYZmsYHGAs/iKN3G5BQTzoEIrkBQrkBB0JEzIWbBmx0vpfeiX1c5WZg4DmkE2YnjwtR8jVUBZxz3vjT34Tx0Y84G98Kn1CRk0SwqfgmigMu4VrhAD4LSYY2dB96pTKk+3+GqXBvaBsy0Pg0HTLBHuR0kI7LZG0sHNznDTQ+hULghV9yW/BpQDymwvdBMTyMGpkeSqUcC/EHoVRIUdynxf5gIQRlMtTJNitXX+X24Nv8PsylnkHP0xi22LneyzuORTuTV+UP48wSTGYTVsuvk+dsMTTWBcjKCEzCnnCcJbxa27wTRrhGZoBcv70iiuuYnieJQLXEmdy4vk74Wa0qC8zFv5BuYsZ5zMX5onnIiNWyHwHhHSyvrmGi6DeUBryNzxKrOGUgEfM90D34DHNVd9w+l79G0Y1/q8SOdmgd9//u0VfAmPUBbrx7DB98cwNynRUbokAYcz93apUPdzyDI9oHsrIo/P5UgiPBVViI88PPIRFEzjG8nj1/KxLr6to6E5HoGLGijSPGyxseom9imhGlq6Xufj900C5IlUTvDvOiClbqFrdzVC3Vb75n3e3NwH7pX0sG1U0voJoXbPZNTKNORnT2q14Wtrq6snmcvE6NbX4FJf06JwiKROfAhxndeJsHOWXrSlonvgiIgTlyP+QjE9BXhsGe/b7b83aalsf/gPnJT26PD2jsnC+Hs3lf56gVNWIN1MF7cSfyHoN3bgbd5zFZG89eOyjuJ0iGAuK1JB8ZZx0yfWUE7A/eRUL9CELiEogkcCkJLu3ZH7DEgeLUJToiT92TeQ2hVQpohUmYTXvd6fgKuzUQ8iB91FCQGiJSfxpPsz/nV3QIDqOsfwrGMgEskQdQIrgA7yAh4utVTtKuKuOsk/JPq4qgGvjQp9n0N2F9+BVR03oWgvnkVzh/kYNuBqtbzQGNHdUSg7P63zY2AlvxBfg8FTom7YuolhLTZOmkY8squ1BudPJNo+tg+4gFassmJJJCXSncqlKy6aTuSVq/RmqAUGFkwSuVthfxfr8zHKw5vp4E1m8nOcvJ8/f/nnEbg8/WuvieDBlmWIdiZsldfa+Vg6jVuUB4O0etqFcSsSCVcRY1Uk50gEs4X6yts+7Oy8ZOdBhnltAzbtuySMYn77vOzx48x9n4VlwvHIB3kJAVakN5nl8SnQN94zYcjmjAracSLCQcwp3QEFwvHGBS2NcLBxAaeguOpFMsljPPLkNQLkOD4CRac/wh0RFI3qDWjt6eTszF+mKl+GsYMt9l12cKh57IbpT9eyYg9KKvkRrcVAOofJppdgldYW9gNHAvhGGX8EF615Y3qFBmwIl7jchoHdsW9sHHOLriFT2NKfsiwrgqoHewEL8Wi3c0BnQlVEp0pBp5MKyeVeQlOlJNpC0relOWD06hccjEQSsMWxKgdNMLaBwywTa/gsWVNQxqpzFinCXO6fcvw5D5HuRTDsj1DqYkVa8g6ljDZXdhTb/AEQ/dsb200/AyBojdaiuEciNLztTmOZT0T7pB4pZb4tARdAoF8X/AlHKOScZ1q4lJkqdFky46vz4R436rmuGjvTnPAk/XA13EbnEyuaNZXxE+wRPiuBtVO4Ro/+9hzSTVQurdwH+P648GcCS8HgvxhxARFYF3Ujsw0ZKPyQgfIu14vxt+YfWsWnSzaBD7A2txKPAZWlTOv7+gnJhiHQ2twULCEYy3PcZU1Wa1Upj2G4T+p51eM590HCNpVz3iXa2F36I4/FMcCBHhUlAWHDE+GJb0oCzsQ6iD9kInTERmUjgk/vtZtUneUAh7tC8Gx/TQ1qdjNPwwvAPrcC4wD8aI/dDKOlCvNELeS0zFVAMEwnAhqR1XMjZ11wu7NPAOJlWomcTjaHmSCO8gITJax16eO7QyT4KwnsyXex03dNMLkDxLxkK8H6xJZ5hgw8LKKpqGyf31XG1DvXL3/h900A3KkxmoXE+CcUN5APnsh19hNtYXPSN6bJR+B9QHYXVtHeMlAei6ewEF1Q3M2I8s9r9iMusjzNcGuX0uhS9Sorsn6AMdjkWynk1nEcM3t8Ay5U1c++AMPvj6BlT6aaAxDNP5nzoVSOQNhZiL9YW5LhqBFXKcDSyALeoAPgxIRlTtEPo1RIK8WqpHpVi/ZdWVFkkoJn4h4TCeP8tA05CZJV01Mv2WPJyNjQ1M2RcxappzT7gU5eQ60XYDIAlPK9fVcgqoGsM2A/v1f17Jjz8ci84E3XoFkffWTS+QiuLLGLpubBDJ4JTDgHWUPWxfWPEYPFxK6cD7Hva/0CoFfk0kkFqlXMw8i3YT1PKnufgXWAu/c3u8VmbAdNwRKOs2kwsxV63uHrNgPGQfAsKDGeyTPocS16l3xxNRBxQCLwhF1ZDoSIeVJuTUuFOic2CitZB0KLTkHNPOwUTLQ9jyPoWxTACJlvLZiCSvpvEB5pOOb/v9JloKsJBwCKqBNk4e2h2+Q6cq9xp6BT7Ibh+HsfQW9OHeqBCcY1woyrtY5/gfLby9vmuM+ODwO4xzqWdgKbrGOChzqWc2FRDHtxc22G62bKPiyeeRefpN6Tq9uLKGLjURbKFd1xqpZ56Bq8oorfhTU0SaiFGvEcqbqpZuCkpMeoCnNw+ZnRI2qvjWO77ZpbqQ1IaP7ncjjPvb9cIBN04UPf9NwyYo9KQbUsP7rpSYTiFonri6HSPk9Z44hPUKE5qGTaiS6tnvSwun9oUV1rneKabcamhtC2hVmT0iclzJ+66TFijyusbxfnoXxFy8+UeJxOl5eVx36UYe8aO5HnIPvxaLYX30PczFv+B2mRTBgb9hOuk0W88NjiXceDSAGsFrKI3/2en9BntaMRvri4XS6zCmvc1ix6MRDTgX34p2uebfMwEZMZHKgSdVBir3aXAsoS/kOMaC9qI38jxxT1V7bp2+n05aT8GV8l1xOuhCyscrehpa2wI+ut9NiHyRjfguv8/NhIs/KHm800UzvqyfQHMOhTc4+ULQWSMl/AuR3Ig6mZEzw9FvSYCiAb5YZ4d0krQDaYAwk/4mrGnn0a22EUUoDuNI/UhGS8PhyLrMoCCezudu3E/poDdHGc8JdlBrRxknH8jHQy7XBaI2+ALykgJgSTrD8LpVEj1qt0hAqKHUV7m9Tnr4bye143R0s0dxgl+KBnE4vAHNQyZ4BwuhiDmPmRhfjD4mRMnACjkSAr6BIfM9dI1ZPTpuJzeN4GBgJaz3DuDHwHAEVsgw3vYY9igfnIwkSlxvxm/CInrGrbgX9ieEAa+5tbCf9pGq5tW7BQQLLEqF4Vkw7DmE91GX5Y9mwfHN76KxYCHeD7LoczgQInJajMnGfBUV8deIGlhqJSP8dka/C6W/F7SVkQgJ/hPD4UfYa1rb2zAX64ve7lYYygNhyb6Ck1FNOBT4DObI/ZgeqEDHiBXition/P4nWc/Z9xRr7Xg7qR0n7tZDEPA7jHf342FeBun69Gh2NH5yG6vLJAjrz32513FD71jEQDXR6jenvuUEgxkxkUpVpUS/JYdiu0E18T0JOpANXo+p6ihGKp2J8YVKMwk8/RJoCicmYhV3Ycn4O0Z76zljv2FYHv8DpsfXoc98H0sNd90+l8rM8omtU1tgvRdWVtE4ZII1+0N3rwatHdOxR/Dj1fN4/+vrGDXYgeYIzBV87AQxEFdnYinhIBYbIxEnGsaHgSmYDNuHs4EFaFSSjbiOg0ZVS7fGndNBK3VzSa9A/CwFdXIj7A/exVRlOAlod+ggexzDNeQ6mRpw+pw6mUvFsT2ePO/+mZf/jB0GP+Ac0JCNlu4Fu5HodBuZr5JjtWvZQxS66hdKlMcCK+RoHjI7ebG4TtKx9INqoBXGMgFs+duLWXiaxtLbHlWZamUGLCYcglSYzYIfKvjRr5nGaKgv7oXcZN0Ftj7lXIXhGcGSa5pyEFpYD6XAC0O99ZDoNpXXRvqaMFkbz9ZebWMW5pNOsPex5RMPjfH2JwwmQl872ku4bdQziCYtniZJUk5AKRezQsBWz53K+woSwd8QK1TBVHwTEyF/gzDwDY7nJmO/+dyyu2eGROdw2/uJ98hvTP1qNv0cz5hxdMvj2Glu509B4yuPeztnKrv0Yg39mmlUS/WQy6XQ5f+A52PGLRMXV0dwWsyt4riXtNBZIyNdTqocRz8P2JTrluhIlfytxDa3vfLPEin8wupd4rsuXErpwK1S8reoWgJ5bvFQ6KVc1galyemz6VpJVT4pb4X/+q4xd6gb/73bVBY3WBvt+FDIbo3UsCNKxtMYMc1umbzQZM+V00PnpZQOJ9l8ic6BE/eacK3QWRr/p8eDJAHJJHLQnwcl4E6ZlHVA79UOITjgF5gTz7A9b9K+iC9yevBM8CZyw5yVOqXPmzEb64uZij9gTnkTfeM2nIlpxonIJtQrjP+eRoTTdgfzamh3Ie3Qtl7TsAlqyzxkQT5QhfhAn/QGvIOFuFMmczv51HnaO0iI26XSbTcDPnlRouMMrLYJmjTWBRyPbMR3BX14I64Fn2R1b7sBU+4GX6pUonOQzD2YaDS/cq/J7TsI5WQj7RzdxOFTbGmNSxsRIEpB1RID6mRGJkcq0ZEAcS75FBxJr6J1xII6ubtyC6n2v8dJJ17zeEG7tlu3G7TV2jxkhkhphN6xSDClcqMblGKp5g4qgi4hLy0C0/HHNzW+OycgkhvdNKsHtXYc4WR330vvZBr5/RobHj0nlfhAD12Qd1I7mErWa7EtGAo5CHu0DzSPifnTr0/EyAz6Err7H0IoNxJMbopzB6J5yIRXAp9iJHAPvgyMRfOQCeqOUrLZqQ14Jp50avNLdA5oUy9Bc++o2/GItXYcjWjEregE5qxrLLvDgoW63LvoEhxi5pVUD18Segzn4t2x3zOZb6MhmzjJF7TIGd5+PPkiFAIv3A/7ASEBP2Mq/gwkOq5SI9FiIeEQ+msewPrwG5iKbyKrTY0zsc0wJ5zCfEcGVMZZ9IqKOInLUkh0zqowWVwHquPB71AF7EVW1E28cleEKxldrBL0UmN93Ule9WWHcWYJ/XV5WIj3gyHjHSfPnPX1DUxY59E5Zv1L5prU8K5VZXbrqlJ4lkaYysiljhgf6PWThATdcg8AMF6bAFvKG1xllxj7mZ/8DOPD72HKuIyVlliPn833AqndpmtACx7G7E9gLL3tvDmo9bBH++CHT9/B+19fx7jJAbRGYbHgKhNqEGvtkFTE40XSISwLg5HVpsaPAWEYDdqLk+G1vHXSgDHzHMYtcztW96i05Uzq65A/iycclbQ3MFGb6CTR+VJjRESuE6OcPTRkmEFJ/6RzkaMnkzwv/9LLf8YuxqhpDtUcL6hzzLqzyMJ2I/tNcqyzRvYQhXEcjWjEq9HN8A4i69vpaGejT/6UjWlZAmAsvcX8OF5m8osh/DWrVjpF1AM7i1hAWy3VY4zzaRoOP4rUwK9YMkFfS+W5qTz0l8lVGA3cy5IGpULGkiadMJl5zvD9ZyQ6wk2haxvtHDIDVy54p90EmXprkr22Ph1zqachH1EzmfKtnjud+xEUAi8ElkthKbqO0cC96Ap7A/uDhfi9WMyU/Si8eSuZUzrnE485dUod9y8yR3SlXLzta7eb20GlXeVlXfd2+ZQDA5ppVEtJfDDRSrqgXVLllhAsVyNmCqeqkenRO2FjXdUaKVECG9TaUa8gnRW6LvN5DJdSOtz8biQ6B3582I+TLjHSZ9nPcTaulZCtIxtR1KPxCMGm1yftwtbJjIy7QYvPtGPKV9KjkxRZDB7l/7ea1H+EJjQvq7ZIh1hnR7XUPdYDdrZ2OJfQ6maY+3psixtPhpo4/5RSgoV4P7wbmIGQKgUsRddhKbqG9JZRhPr/jMn411gSpbEu4P30TjwVXECG/ydo5/1eym4RZmN8YakMhiXpDPK7JhgvVqL7N3VCnzRZWTvJ1eSFZnpCuRGyyWmoAvagL+J1zCWfwufZPTgU3uBEPG4dtuBoRAPeS+vEofAG3CwSb4u/09oWnKp/223uAMnYD4SIICiX4VIK8XfQ2hYwYZ33qDJFzX9cF6UvsntwOqaZOa26Vu2bh80oH5xiBkT0RibHaHDrugxo7GgaMjM1L/ZeWjsWEg5hPv4gGhQG1Ej0GJY8x3jbY1b1IZvNh4wY6umCbuSM5+jYjrzLd+hsVJpYW7ZVZXFT3Fiq/B3FQe8iPzMWjhg/NCoMDFvr6TjoBX0qqgln41rxRwnhjNC/f/rgOQ6HNzhVQkiw34Drj0j2//2DFuKCG+cLI+e4+0NBP/JCPoMu+zNUy/Sbkrguv9u7kU+gEHYtOsoAACAASURBVHjh9/gHkOgcDEMsG9O5HatieJg53nrC9t58MoiijDDMxvpiqvh3mJ7+ykyxhI/iMCDYj3ouoaFVTXnAPnzLk/RtHjZDpDBiNvlVjIvSiFII95tPtORjNv0cjBHeyA/7GsnhP8ORSciZbSpyv60UfICxYn/Y089jqiYaEh1J8vT3P8CiMATWuWUM1OZgIY7AHiQ6B4Ir5fDmrtmbT8Q4GibEXPIplKUJGDSxqEf714PL9FeYutHLDvPsMnq4hGky6yOPXbu/VJ3GpkqKJ2lvmnSrGgipdbSzHDMxPpg2aoBHHxLjPAATDfdhTziOybp4zKYTjo/p6W8w5n0Ja/pbWO1IdntvwLmC6akAwR/jljlosr+AodjZ4VkxpIQ92gfff/ERPvj6BrSWGaAtFisFV5y8jVQV97CefBgvau/gSa8OgoDf0evv6yRzTT0udjOkkyTwsGe8heHye6iRTGEh4QhU9dk7uiRvOdQtbnAlrW0BJQOTzjj4wULyvKJPXv4zdjEsc8sQKY3/P3tv/tbE1caN/032eYoCQmtt3Vqr1draRW2tta221rq02pV9UWTfUfZVEZAdEggQ9i2QnQCBLGQPWQBxAT7fH86cSYYElz5t3+f5vu99XedqDclkZjJz5tz3/VkwpLb9qSonJ0qPkX1d8VxfdC6lhqjUWMyf0adnzl9k7v8KZk7xhVI9bxAvIa4IxujcIgRSLdayQrAoakCLhBS6eDKCGpgxL0GesAfl4R8zppOeBRA1KF1J24m5nnK8E1cHbeyr7MKfSj9PTQ6yEs1kPxI4+2Gr/JY1NbRWXYCl+qpPx4Maqsqnprc8Ph0vA+68Q5DMm1k/jq3e68z/AMrwbbhWOQRr1QUow7dBknAAIfEd+KFSBL3dDRS/B/Wk0Icr4G+spIewalqO4pOw5R/H0Mgwe/wv+1vRsRU6gkKNNi/sB2at+CC7HxWD8+idtqJF7BF50fEysJwajN6R4S07IJttC6gCXydTSBawBRMj21kZnVsEX+7hjdHuaLfSwkrGbvalOVM4zEEWiHVMUpLYhW9KRrE/uRujczYExRIT4837yZeZ0KEgDuEdcjOkTPeb7i+FiG02IRTrCK+rYXLBB0L/rEFFMDzbf/G50jsGZ21omFzgSNfT2GpdScf+lG5847VOEOuceH8TdJqe8+3RPFxOK8NSShCORBYjsW0KluqrsFZdwL1RDeLDL0Od+ja75pw2u3E4oxf1MR+hKPwk8rzg4FODrXAlB8HQeguLaW8gol7Gyl+Ldf+lCYhSQ6r9w2o7x4gG8LT1WiQGSGd1mIp4Bd1Jp7CSthN86QKCYvkcMvqXRcMIjusAT2bEGzcF+KFqnLMIsrgfcRYgs5sUqujFuFXI9E6i8NMsx+f55MaQ6p0QKM2Q6BZJxe2xB69scD70UVCY1DqwL6kbXxaNIK+HQI6aJrnVGpHGwbbXKLGpRWxA5ZCGbWnSoCaF/hwuJfNmOJMC4UgKROOYGqLeVlYmlFbbjfURWCz9HPq2VDjyDuFSpciHY+AtbelefQKxzrFlErJZO5waKPmr0KzW/4jKiE9QWkwkVkVzZmzfxOXwTiYuVYkQEt/JytxeqhRht1d1hC8zYmdcB04XeG60etECAqI9SU1adRvkYdvgytoL692LEOtIh+R+3OfQl54jVZLe+wSTO8+tGl3PJWTtgtpm8rBjW+ezPueearyvpAVjeGrBR0JYrHPCUBcGZ3Ig5ou/gaHyItuB4tfchjxsG5omSGIzNTkEd0oQ5GHbkNw0wV5HrVIDRtRWOJKDoBKUs9ulSjXLmbuxkhYMc811GJpvwll4HGIdwcNOGd1ARyQWS07BmUJ8H8Q6YgY1V3EJj+u+x9O1dah4t+FOCWJJpTndM6wx2umCYVxKJJCn7l4hq0g2rH5xt1ifMCuAJ3/Od8a+/BhDnYzCTdHZLbkSfzYGZm1+1Y3oPTgkVkAjKIR0hLSiH1rmgIqPWVK9trcCrmSC/aZu9aa632EqOo3FnIPYGMn3+70Uwz3BwESf1Vl6urYOa9UFqDcZDKomBuBICsT5c1/hk28uQ29zA/0ZWCv/mPUT6FSYsdAYC2SH4mnzdfCkRqSGn0d72H5cqOAafW7lObA5FEbyYLfnf4iZulh0SuawnBoMaXfNn5eo1Az6wJXMrlW0SAzcpFP2gLyv/vuX/44XiKdr61hgzDD/46j8lOzrI0/X7uHjNQiUZryd2oPAWD4OZ/TiULqQYwbpbyzl7IOuI5eQ/Zk57mUGXaB7vzY4a0OvfB7r2aFYVfLQpfTIwq8x3UVZ4jtoCjuI5dQgKBSeOdxy7zKsVRewkhaMoaZi7IqsgyVhO2aHyDw6JRllkpYRAo9ipHGNDVFYLPZwWKx3L7JwK+u9S7DevQhNVxEHpvUi3YSF1iQ489/3eJQwxRV/w537NlQRr+CHQgGMJWchD9sGddI+7E4Q4JvSUegMJqxnh0LeUbolJp8djOGivi0NK2nBcOa/j56497Av8i6mIl5BW4uvCuXLjFap0YeftpVkdDlTzAt7IEG7lKuQRTs0vb2CLb0mqFonvfbljG9H37QVPLmJXbTz5SY0MQaKdD0woXVweAzexnk5m9YeH+cO4EPGCJKOn2vECInvxKn8IZZ8/lHuAI74IaL3qggcfGx+keMNR7vKFF4+Ou9L6p7QOlA7rt/SPdzfoDSCWQsxkH0Z+Pq8bRnWpUcsp612XO/3swbnwy07U2KdE2/6gVuduD2Eo5l96FVZ8UutGBcrxhEQxcP7WX24lFQAV3Ig3omsQKZgmi1c8GVGJIRfhDL5IPsslRtc2JPYBX7SaVRFfsIWdgdnbcgryoczKRCa9kw4U0JwumAY76R65K//KxOQEZWOIzPpDYNi23oSI2RKJZTh29CScYltsX6WP8QeYHHfHFGmaiIT316mTe2t9T+msXMSDNoCHFLbcLpgGBVDmmcq9wzM2FhFkm8ZydiROTvqJxbQL5rAelYoMN/Pvt+fBO81xhAvt2cGTWKicZ3XszX2U6iyQqiyILqRVJ7vDms5pMwna1ySqveQTs9hKuIVzET9C2PyGcwxahumB3+wDrAU7ytpzYciMoAQkTdVHOhEsb6+AevSIwypbVt2lmxbGC9S7wVv/PzDuh9QEnESZWUFcCUHQTyrZyX2xDonOmRGbI/hI61DhQmtA2/e6sLpgmFENZDO0dmiEY6+u1jn8eygE9m3ZWMIje/EEMMXammuIw+RvBOwVZ4HT2rE9mge+tLPQF9xEd1TFsj6m/2qoxTdr4cifBvGJ8hNNz1ODLDkSqXnISAxQqiywlb5LZYzdmElLRj8URl4MoIl9a5aWErPwJ0SBGfJKWiLv4L+LunIdDaUQh62DTVDJGmaGe2AJWE75GHb0DZEHqw0oXO5yENtrPM+u11nwYcwNMWxCZD13iW200VxsWb3KiAqZ00oqQfM6NwiZmoi8bTyJADAIiDJIdX+vz+mZdvdh9KFKE++CnfeuxBrHUjlq9CtND8Tj/x3hmPlMYaE7aSqWXbhufyEl40JrWPLbXo/wMaGerGUGoR16wypbA/nAQD0ww/gSg6CvfQLmO//RB72DVEwFZyAO3v/ltwXOg+OM7KZz/MvWW28Dk3JeY685cxIO5ZTgyCSyNEwriEd28FsbJR/yJIxWyQGOJsjgOxQrDVcRo/KgtKIU7gb/gFrPuhtFvYiQbs3lsITmKsNx+CEBEupQRjrbX+mC/MzY8UOtP9G1KOYcKw8hlBl4SZGFKrV9uuf+55/Mqq/IPvqdUwUAfBzzSRimuS4fn8SwYx4ScwmRRvv4Sz4EIbmmwyW++qW79tqEAjqXp/n0LBCjY3sUGyoiZFl7biehbRo7SuQpBxFX9hrcKcEQTrjmTvNNT/DXnYWK2nBuFeWi9ei6uFOCcLsYAPEOlJgIUaCIsx3l2Il/TXP57wgZJbqKwTeNd7NEuW9IVtinRNKqYjpJgxteXxUaUusc7LE+K3eu5yxCzOR/8K57GbM5p6EPGwbjGl7sD+lm8BclNN4khkCcXPelsaUdFDDRW1HHlbSguHOOYDmqCM4lcmHKuIV/JFwy6/nxosOf9V2f14bYp0TSYxU/NkiX/la693vsZIWjMGuxi0XuiNzdggUnoIi7WaMzS+iYWKBXbRPaB2c80LJ8t48hiMZvTiS2YeAaN/r2h+cKKaJQNiPZRNlSrHOicgGKbZH81jYMh2TjMGzWOcxXqTS7v3TROJftuDcktQ9MGN77u/qPaj6qljnRMvkApomDT4GzP5i6RERSpk2u9nCQ9OkgYgybWwA1V9gTTcODSNtTjk2LRIDDqYJ0eHVvQmN72SNOOn4qngEb6f2sMT9gCgeDqT04HzZGH5IyIYzKRB7I6txRzgLc+0vsFV8g7F5OxLDL0CS+C57DBNaB0LiOyFI/wbtNz7BQUYOPLJBhu8ibsJ0cztmOgrhTg7C/iQBvirxXF//lQlIv1zLWbB6kyxpG6tDboZ4YgSKsG2ovRPDEjjjWxQIiOahS2nBqTtD2JvUjbmuEsz1VeOdVCHOFo2w1UIqS+t9MYxpyE1TxZjDRTZIn5mttkuNCIgmi9tr1YTY3CIxksXg4AgeZ+xktekBT5Y9oXWguG+OJB/RPFy5RxbYY/N2n4r/5jE4SxSlfqqeYJKVWY70Jb1Y/VXYK3gDkIdtgzJ8GxRyKfqrUzAeEQxB/m/sBGyu/QX6oi/x441UKMO34XJxNwKiubJ33tUOg/MhupTmLauw1AV18754t4hXn6xh2ryEpXvnkR9+GuV3K+BKDsKkcoaDVaSk9ENpQlJ5j+KhdHAOGZ1E1epIRh+OZnJJ/NSvYtdNAerG9QiO68Alr2qAvLMcsrBt6M+5AHvZWfxUPYmgWD7mi77Gwt2rRJK5j5CEFQruZDg9wsNyahCLN6ambbTaNsm4praLZrGS/hos93/EcmowhKPj0NhW0Dtt5VRZHNkH4E4LxXrp+3BXnsVs1XX0qqzobrsPedg23Osm21UP1EMX9yoUYdugkJBKtEBhxpjGjg2XAY8zdmKgu5Xdrr3sDFstXM7YBVvFOZaQSpVBVp+sAdphPMkMgTM5EPIpIus7rLZD1ZCIteKjAICV7lS4koOgY1SVhNPE/DGxbQqvxXdAknDAh/C8lUHd3x2u1Sfo7+/GSmowZiuuPrOb+WeCqsz5Cwo1Euuc6B/sJ46wZgVQdAgYLQQAGCb4cCYHYilrDxZaEshiqDEWptvHsZL1JjBZ5XfbVFFlWG33MdPyF49a/4Cu+Cxn0UGx8ROzBg9UYzgPKD0G2YITdeN6DMza8LT1FyA7FOt136F32oqaKNJqpzr8tEv9oiaO87ZltEqMMBWfgbb6F0yMk26esL/3hR7MLxoPH69BpFnkCgRoBsiiviv+L/uevy3qzpF99bpnvH2qxDrGDJSBqiR7yXBvHtTHg8ppvuxCVtNdgpUMLnetU2GGVDXNuLUPQmNbBl/hUTrUOx5iMv1jSMNegTM5EGKNZzFnqg+Ho/gEVtKCkZKVjoPJfA70STXRx6hRiTEvrGIgVQ4fXqK55hpDGu+HueZn2Cq+9oGLeQjtgi2Pz1sdbCtfE7HOkzDMRf8bX6behzTtA9I9z3wThzOIElPnEEl4JPWpzz2v1HCRdseX0l9HdfgxRDVIMZPzMXrDXkdG49aJ0/NGm9RXotu+/BitEl+4zs/3xQiI4nEq1OxzifmtxF33/RKwN88DlHtGVTz5cl/eKx2U50tV5HgyE2vg6118pGNPYhculHP5TlR8Zk9iFyvGQIu5W8G36TqmR2WBwfkQ7TIiuUu9Pp5F6n6ZQQuDw3M2fJI3gJN3BreUR/aOabMbdSI9RubsLIqkQ874LD15CGSHwjVShXYZKXDS35N2MryPe0cMH+H1XH40RYucKx3FnsQutEgMEChMuHxXhB/iUrGYuANvRNahbHCO4Y6dhVjnREbUBYwnHGIh+AMzxPBUmPsDpFkn2WLkgeQe/BARh4X4ACi6q+BMDsTOqCbENnvWUP+VCUiXZI6TgHgb6lBcnlBlxehAJ4G/FOSw1RIe4+8Q2yxHUCwf16onYC87C0v1VbyX0YvP7gyxEyTNuGnVjcImelVWZDIL2p/uTfo1xqJBNdmL+tSIbiJV+C4luUH7hgmOE7IH7PYp9pIaweyI4eOLwmG2KsCTmfDmrS587wVv8Hej10/o8W0ZcbNM75jmuOz606+m43ImWcjKw7ZhoL8XtZm/oCtsNxLCL0IUvw9jc3bMlV9CffRxnI4rgCMpEEMjw9gezUN0oycpovK/y4+eQmMjahZbQTC2kvzzrpzaGd8Xa+kZ5EZ8icraGpKASOX4MKefrWr8zsjm0snmQEoPJrUO1k08JL4DJ2774mZ5MiPeSBAgKLYD2xm4EP2bjpeBkYjXUJ92CfaSz7A7QYAvCoexUHQGprpfMW12o7dfSK4xCXfi20xwZKEDklHOpDx9PxxL6a9jZrgNSylBGB/px9r6BiM3TYh+UvUC3ClBsBZ/Btzeg43qM3C0xqBVaoBQ0AJ52DaU88l5mO8px2zUvzAT+S9WDpf1o7DNYC0rBAODveykb717EfY7H2AllbT57aVfMA/sb9Dl1YbGih1PM0PgTAmBaN7OTtKKlhys39kHAFjvuoml1CCoa8LY8xAc14ErdydwKLIUxhsBPiROf2p2/0QsP3qKgeEhLKcGY/rur3+K/Pdnw5un0T0wjEcZOwGjmBjhicoAACZ5H5zJgYyXAfHcWWhJgCn3KFYzXyf+Fn6Czl2UU/U8aNtjfjQMhZ9zFHmopOnYnM1jPjaSDxS/x3LhFhwPgcbLQHYoNu5/if5pG9qijyI34ktWeY0+YJ9l2OodWvsK2qRGLJR+g4V7V6AWCeBMDkT36KRf3tx/EpvVyWCYIAvm/oy/9Hv+lmj4AcjbzXnp6aaFHZXkpUWwrZ4Z5vs/wVZ5nlWKetlFFMur8DIsbJeaoFarWLd258oTTGgXWeK9wfkQyttfQB62DXPxQZztGRpj4bpzFCtpwfglIRlni4YZngqBjXo6yQrM9dcw320liVTNz+x2THW/sfwS0rk/wyQTHs8mbxL+VsfnrfJF5Of9Jw9U/EMT8298frMM4wmHoAj/F5YzduF4Tj8+yh3AyNgoUbx7kPDc80oNF6kPiTMpEJXhx5HbMwOZagaTMbvQFHUUgzMvDvnxHt78ChqbhXbo+Kp4BK8ya5LNaqJLOftZueOtvstbNXQrsR1/gyj6WWByraJVYsSdnlkERPHwQKTHwTShj7pbSHwnrm+q5lMDwh0xfHznlZzsSezya0hIB+3ajHupdNHOx1ZrqJcddF3XP2PD8aQGHE9u9Msb9I7lR09ZPmePykLkiSUGtmOzvmwHskNh6LqDdq/C8Kjaxory/FQ9yb4WEMVDfIuCs1+UL3soXYhTd4Y4r/8QfQu2WzsQEtmITME0jA/CYC8l8uy3Y7/D4I3DGGRENhomiYLrYOE12Es+w76kbpajdiUiCtrYVyEWPoAlYTt2RT7gGEj+VyYgLeOznCybLzexMpnDc3b0TFkwNGtHH59AZ7IrqrGcShQzxDon9iV343XG5bphUg9H0aew3rtEpMhyB1g4F21FUiUmqq8/OGtDVAPBIH5bNubXWItG+dA8ayznkYAlFe1J0QjcKUF4NFIKwENMHZy14aviEexJ7MLYvGdC75u2omFiAe9l9PrVdPceXUoLviwaIdrjLQoOl8K29MhvhYMnNeKTyDxoYv4Nedg21DXUofzmt+iJew8tBVHoDXsdx7L7UBX1KaqjPkFLv4jB13bgSGYfPsju97mpnCtPoDK58UCk3xKqNm9bRtWwxgdzKtaR5NLifsTgtY0wFpxAZsTXuNfUDHdKECYnxnGmyEM6+7JoBAdSetgLPJqB1/GZxDMgioezW0w4teM6hMR34OQd7rk11YejJ/4Iim7+gOn0o2xXZSH/JGxNkTA6V9E1OMKqsnh/djPhcXhsFCupHhnHYbUd4z0NWE4NgqS9CHKlAq7kIMxOdAMgC4phRhJwSjwMV3IQjC03WaWeJz0p6Joyo7tHAHnYNpQ1E23z2fZsyMJegS7uVcwONbPkT8fKY2BBhI3sUIjEk+hmJEFnq67BmfoagfuUfwVH0acssax1k2PuWuEhWPKOsh20/hkb5B2l2Mh+jahSdUTiUfpOzFR4oBz7krrxXkYvrkREw5YY6MOV8Sb7/ZPx8PEa+scniMnk/aiX8q75T8Nb0EIwLCLdUP0okVdlVL3MM+NsAkIXSPq2VJiz3iXvlzdsuf0JrQP1ogVfUz4/8URwE6aCTzkVPY2gEM60XbiZU4zItAK4VlaBsWKg6F1Ylx6B5XXVMpX4qpOkYhj7Lu7EXWC3MzBDFhCPn74YvI5q/evKv4e56nuYxxqwmBiIwSn93w/RszIV+7Hiv/d7/opouQ4wST+N9U16/1TPn85ZWz0vDI2xcBR9QrwytpBWf9ZgfSnUXPNOw7yScWufAMAVIzG7VjFf+h00Mf/GQHgoeF6L3oWWRLhzDmA5NRjfRd1CRL2UY2jokaVWcTwxvM0GxTonTA/CSGFINgFjfSQWSz6DueY6bBXnPPvPSJbP9VVveXzmmuus4Iez8DgMzTf9vo+Kf+jjXsWpmDsYit0HaTSBtZ66PYgjGb2YEg/DnRIEfUPsc88rTWioeIk1YTuKw0+gcVIPsc6JwbYKyMO24VqpgP29n6eq5T02S+MCRLVoMw9VrCOqU3Tx6m2UK5m3YDk1GPZbO1hvFX/jRN4gfqkhPmjPI0V7j2G1HV1KM+asy2iTGhH2QIodMXyMzdvxad4gx5ZgbM5OYFnNXCQCVcskReMJ9vXzZWMIvdGJP+okfk366DqmU+ExOqTCR1uR7f/MaJUS89SKqJOojDqJ/plnowGoYhbdP7nBhVap0YM8sWuwnh0KVXMqByaWwhS2d90U4CSTVHQrLX5dzyk0PSiWj59rPH4g0U0yXI6MgSVhO3ZEtuLuiAZzNeEwFZxEm9SI4vhvIYx/D8JpKyzuR7gjJAnjeMUfcBR9goRWJQKiedh9S4Co+GjMxGzHuLAZurhXsT/mPmfN+1+ZgFQPTHFIPpTw7E2eEmkcENSXQB62DZn1QiylBLG+BN+Vj3Faia47R2CtuoATtwdxLKuPrdRTqUzKQ6C6/iNzdlyuErEEWm+1p81Bje8eiPQo6mP+f5yphouH4UwOhLMnhxyfV2diX1K3z0JZoCAa1KcLh3Ag2bcNunl8kjeIgCgewuulHCWcrSBP16sn8WV0BtwpQVCEbUNeYT7KIk+gL/Vz6Pg50Ca/hcAYPupjP4Wm/KKn3dx7D38wk4I3npJ+54TWgZox/ZbwCaXRhbdTe/x2JqiCl97xEPUTeuhzjyMt4jxq2gUkARnrx+W7xFRoUuvAoXQhPs8fRmyzHK/d6MQAUxka19hZ1YyLTPdodqiFhRHR0aU0+yRC1rsX0ZN6BilRlzAQvReH0on2uOH2R3C034Dz4RN0ieRYTvWVZ/Q2uRqctaFzeALulCCWPzEwY4P19vtw1lxCi2QB0pl5OJMDYZF4YHkmhiw7218LZ3IgjONN5KGeuwsYyoVY7wBfSIy6imvJIrWnJBLdYW/AkRiIud67rEPr2voGMNcLZIdCrdGiSUwcbPWN8XiUTrgd5pqf4cw/RvDg9y6jRWLgdK/Wm69BX/kD6w/TN22FrLsWG5QQ23IdTzNDoCm9wFaIjmX3YUcMH79H/Apnuq/pV7vU9JfCa140Hj1dQ9+kEkupQZDVJvzlFfZnhbeOfOeIBE8yQwhZOvcNQFoDALBqFGwCQlWCNO2ZsGfswdPMEGCqbcvtLzgeomGSeOk8D9q2JkyB5c5xDi9Mx8uELfMAzlz4Eae+vQLX8kNAVA4UvI2NjQ1yLQHA3c/I9Vh+HCNzdqiS30FHYSS7HVqVe1F4HSVMzlf+CFvlOTiGyrGY+hrmrFt3mv+ycBnIsTDn/786eGFEindTbBYYOZzRy5qvbvWsILyIt1n/jZddQM2MtDMcODX7WovECJtG7iN/TMPifoTZ8stwpwRBELGXU8nW8TKwnLELi4k78E1EIor61XDnHWJ5ZTMjbez3zQ41M8qCWjjzP2ChimIdgU4RaKwMhsYYOIpPwHr3oo9rO/Ub2er4LPcus+T8xZJTvp45zJgSE1SD8UYAPovIxEDEG5DeeAsracH4pngAb6f0QCUi3XLTg7Dnnldvw8WVtGAY4gNwJ/xzdpGmmuiDPu5VHI4qxfnSMQTFdiC+WfHc7dKx2cYA8IhAbH7vXmZNQuFP7D4qldDGvgp52DZM1Sf6/Z6xOTsCY/k4dWcQRucqFvwYCm41KBdUtuBCq9SAr4pHsD+ZPD/Pl41hb1K31/Pb4hdW1Sb1FCC9oUZN4gUcyyLPpo9yuT4YRX1zSOGp0CwhHmn0dYpaeJkE5Md7Ez5CPd6jVUrgTdXhx8AP34eeKfMzi0beEsDe/6XnanlBgSeZIVDUxnM4Qsey+/BumhBfl4xiH3MOm8UGlmPsvU/UwHnz335/IMFPEREw3tyBgCgeOmQmKO+FY+H2xxiYteFuwnl0xB6BQGnGlMmN+BaSyMhr4uDM/wBj83YcSO5BWL0UKUnRkEcHYUjYDnXUv/B5Sh1nH/4rE5DKXiUHKkAJrBb3I47WcVd1FibDXkV2hwzu5CAWP0q5Ab8yqiBLOfthq/wWpwuGcShdyMqHmd2U0E6cjKlrsEjjwBnG3O7DnP4toSNr6xssVIsnM7JwLKo9rZoYgCs5CKZWYiZGjWjoTZTQqtx0kRrRP23DT9WTpALgx0DPexzOICpDl6tEHDfkrSBPB1J6EJdBXKGnI1/BHzdvojbsCCYKLxGSYdYedMhNsDAeEPTc6fg5bKvfe/KjjqkDszbUrAtBhAAAIABJREFUMaaH/mJC68DrN0llxbv9Rrex4HiIedsymsQGzGccQWLEBTwQDJAEZKiL/T3rxvXYGdfBkqnGNdzzs4vpetH27FL2PvaB9qxhqzyPkdvfIzb8KvrCXmMnElPu+3B1JuPJ2jr6FFospQRBPcBVJSHqMO9CrCPkL7FyGs7kQMyM8CDWEe6DK2M3Ho6Wo0tpRrdMD1dyEJbFHlnZh4/X0KU0Q92SBmvmfpjVkx635tFCGJ2r4A+MQx62DYV3SRWvOuki+FHvMlXD22yVBABrymZ1utE1ZYbC4MLT4XysZYXAlRwETVMC3HkHYas4h4Xqa74cglUXxqbm2YqRUGWFZLDd40nQcBEb2aEwlZxlF0Jnisj9Eh/1E1x5B30n4Ge4df+d8XRtHX0KDZZSgiBtSH95H5L/IOj8ItI4IBBNkYRC3U3OI9PZsBo1bAJCBQ5m2nPgTt1JBCxmOrfcPjU628rt2DvWB7JgzzuKPpWnCrjQkghL7lF88d1VfP7tFSw/XCWdmU1Vd5R9SPa5+D1MaB2wZ+7nYOS9lWRe6LwwBZLZu7/AWX4GK73ZcOS++6e8WF46Vl3kWGY6/v7v+k9DEAeUHPV5eUjNddf+umQUAVG8Z6rgzPdUYCU9hFT3Ge7WywwKiaIcOFqZdWul5HxaVT77aV9+jOnKnwl5OfEDvJHg4WBoO2+zC/mzEckQqqzEHZ1JLtikY0bDSX7ceQc5czoV1pBPqVhVP3v5WR+YGX2OUcn5zcdHJXzFOqffz7PnYawLK2nBsCRsx9nIFAyGhUCW8h5W0oJxtawfb97qYrs35pprzz2vcqWCJdGvpL8GbeyrKIj2kOwVskkspwbj28RCbI/mIzCGzxbYXmQMzdo5UvcbGxssOdz7fZNaBwJj+PjjgRR7k7rxTckobrUpkdg2BWEPgbqLw/6N0dLf/X5PHWOk/EF2H/SOh5gx+4rtbDUmtORaEmkdaJeZcCSjl63e/1YrQVAsn+2k0O8p6ed2+4YYmJG/dZVYR1SygmK50LIPc/qxP7kbAoWH65HXM4NLlSJiGPiC+z+pdWBHDB87YvgcCVrvwZOZUDumJ+utsAA0ifTPhKx6+6G0S00YnScm1FQwxqUew8O0YKjuR3L2IyiWj19qxQwBnxwv7Q4l8ZQcSByFrVHjZnpfx7co8GvE75i7sRMBUTz0TVugrouGvfBjiDSLqEs8h7boo+Ax5rO/1RLukLolxcesOT8jGhORO9Hd04mpiFfwW0E95+//lQlIv5y7SKUY44FZG+eiHq5OwmBYCEr61XCkhkLTXQKxjjhO/1ApYk/qSsbrsFV8ja9LCHyHElFplk4XR95qTcey+xAQxcPBNCHHXMc7nqytI7FNiYAoHnqnrehSmjnZuUpEnKU193/Hk7V1NjGgmac3D0GsI1nykNqGdObvmxfrm8ceBob0VfEIOuRmltjkT2mrcZJIz9ZXkolfHbMdv0T8gfbw/Ziri4KmqxjLGbsg1jlhq/ga5tpfINY54Sj6BIZG0ko+mtWHw16ydtRQSKiyoFVi3JJkPKS2YUcMHwFRPJ8uCHUiVRqJZJ869R3ciPgBTf2TWEoJgri/FYOz5POUXJXe4V/P/Z1UoQeWxXhfLDQ/H4drLzsLVeU1RERcx0RUKDvZmbMPYaknEwAwoVmEK4VgYL3b4PShNzhrg0BphlpvIAnIYCPEOicEciNW0nYC8nroHQ/BlxvhSgvFU7EH27+xsYHhOTs0d69BV3gaNpPGk4BMVGD1yRr6xCqSgJSVYlRtQ3HkZ+hLPgHXnSPQt6V48PoAIL4H3H4La4xC2fr6BiC5j43sUCyl7YSiJQdLWXtgLzuD+epf/f5u3hro3UoLpON9Hp+F+2cJAa7sM/Y6+/EeI4gQfwnOgg99zvGf1T7/T2N9fQP9U2a4U4Igbs57rkneXxm0wzqstqNbOoe1LKajkR1KkkQAi3YbnMmBWE5/jYXxyVtvYzk1mLxvrnfL7W9sbGB03k5Iic+LkTtw5B7EfPVvMNZHQKwj1WNz/ic4/d1VnP7uKlZXHwGSauK74h2F7xDeSv4BSPQOONLeYPkqYp2TM/e8SFjcBJ4xVR2OpdKTWO+6iYcVn/9zAgVzvcDTf64T9qdDmEgkmzfFZnlQ6sPzLMnX2WEit07EDm690MLKe0yJPapU3s/khzqGU2NX++ynY+UxpqsJRGow/TSCYvns9ijpWhv7b3wfRxKKxZLP2M6DN7eOLvrlSiWWs96EVlDAbmehOYFN3hdaEuHMPwZH8Qn2mUWH684RLLQmw1Qf7mMoK9Z5SPpiHTcZ8TmPDFTKnrgD5yMSMBIWhOlcQtAOq+pFaHwnZodaCJzqBeSOFXIJQ6Lvw3Lmbqij/oWSmx65bNn0HBGKEDagVWLAu344Ec8am5UmHSuPwfMihNeLFpDWoUIHA2HO6JzGZ/lDCGSe1wFRPFyMSYIyfBvaw/ejN8f/MVEFrXdSe6CxrTzT6NDfaJUYWD5G6I1O/MjAqOh2qbdbEaNsWjeu99lGYCwfAdE8ZHf5rg8qGKi8tzHhrpsChMRzHdVP3hlCcGwHmsUGNgF43qAQp10JAgTG8lkLhd/qJCwvq1tpQW73DOrDDkMetg1VPZP+RTuceqDgbYwrVKxscbfSgu4pC2t+2CY1YH5CAFdyELQ1noSwZ8rCKrJSNE7NmBYl/eTYc7pmOAgWmph4FwYGZ23IEkwjPOI6lPGvIyCaB+mCE+7OJDwp/xRKowvNKefREPk+WiUGdE9ZcPXuJHbGdUDHz4E7923OubmXE4WhiFC0C7ogD9uGrHtcHtb/RAIi0jjQNLnA6t7T14fLo9AZ9hbuj+lgzdjnX7mCwX/ay77EBcashspmUiwkX2aCzODEvG0ZLQw2cn8ycZl981bXlvKhq0/WyOQfRZy3B2atHNm46XGivjNXfpmFKvFkJnxXPo7dCVxFDtr2G5mzo16k9+k2VI9qOcpNYp2Txf5+kjfIGsmtrW/4NdC5Vj2JoNgOqPiFWM7YBfWtNxEV8ROGo3ZBx8tgK2RinceldvNknNg2xYGYtUmNkC4Qz5PuKQt6VL4mYmvrG+iQm1h96YAoHmrHPJMHVemgE5Y2dT9iw6+iY2KaJCA9pONwJLMPIczxNkz6Tj5iHdH9Doji4WarAoMKQu4z1kf6fS/n4VP8GRYeRCAzNRbm5NfZ38OWdQAPB24DIGZu9rTd0HbeQYvEwKobmRhyVpvUCIXBheXlJbiTg6AUkm5c5+Q8HqYHs0poBudDrOTuB8ZLOedp2uyGLv8UZu/+DNeS25OAMCTk8Vk9FGHbUFCYh5zuGdwN/wDK4otYLD6FhQeRXMOp0UKg+DD3YlXxgOxQPMzbD1FLPlbSX8Ni8Smo7oX59bHwxgkLFGbIZUxXxjDJ+hM8KjmONuaepHjSe4kXOARQ9gHzJ91f/4oYmLVBX/I1hvo6fEnJf2NQjlnPlAW9Cj3W6e+ZHcpeD86lFbiSg+C88z57riZa87GavpO8Tzv0zO8gyfsLQNvGS7CU8TpcqSGs34+59lcYi8/g82+v4osLV/H48WNAVgfkvM79bN5u8pvn7YbC4IArOYhTRW6XvRy8jqrwKGpisVL8IZHEbbz8wp//vyamWoGuGz4vb17cDaltPvCKzWNqcpCV4N6KYP2soZRNMAtlAmPpn2FM53Tj5Dp16nz207X6BFO1MVhJDcZg7gVCVGXgr5Q7NxP1L/yeRngF3oUvSjyXzJtZHw9qTkj9icQ6JxZak9lERd+WCtftw2xRxnv/SVISA1vFNyycy/vvi6WnWW4M5cb5Ow90v53JgfghIg4TYQHQl53HSlowEu73YEcMH+qBB1hJI67mzz2vVCJYPISl7H1QRbyCqpQf2b+zMGiGv3I8h5gdv+jvtlkie9rs5hQnvy0bI5V7xn+selTLytdGNkiRwlMhOi4MC7d2ojrqU3Qln/b7PZcqCWT9zcQuqIxuYkr4HK+MxskFlA7Mo1lsQJuUFDDrRQvsIlqsc6JkgCQc1IzwRosCAVE89Kh8+RwUAeGPCzU2b8fOuA78dI+gI2jSEBDFY+X4xTrilxEQRYSEKLxYMmeEamLrc353mAjgFPSqERrfiW/LxtAsNmB7NA8f5w0w37+I9A4VmsIOQh62DaUPWvzLlk/zsZEdirGRflZoYnDWhmaGgC7WkcLvZM8DuFOCOIp2dD/KBufQzRTDk9qnWARJ2cA8p3BBYWve0LTuKQvKh+YRE3EVE7G7ERTbQWR/B7KAio8xb1tGR9o5VIcfQ7OE/G7flhH7Ca2gAEtZb3Gf+wVREIbtQl1nL+Rh29DQxoWw/08kIGIdUV3aTGgaLryGprCDaBEbYco54reyQxUwFks/x5W7E9h1U8BCQVQmN9plZIEwMEuUYGgVKSS+A6HxnQiO60DXFgovDx+v4fc6CQJj+BiYsaFOpMfOeI/75vRYJ5kwi89hgjGJG59fxDupPfh8k441JXJK9aRd91ZiF86XedQcvi4hhHN6EVJlg+3RfBxKF2J0zlPpEGk8D6hJrQM9UxbsT+nGyTuD0HXkYilnP7SZ7+FW+PeYidmBOUERh0y9WPo5WyWlC2yxjjzoQuI7WIUuvszEqkcMq+1+na4fPV1DzRiBpmV1TSM0vpPTQqaLl8FZAivQJe9BZMQ19Cn1WE4NhriTLHSu3Z9kVS7GNXZI5kwcZ12Bwkzwq0wCwh+WgBruPW+SNtz+CFP3Ixi381BybantWMzYg8ejJFEwu1dhyXoH861pBB8qIS6x9GHVIiEL7I31NSylBkHaQdRcOsfkRP1ovs9zUso+BIZyOefJ6FyFJWMfpppSSLv89h7yYGccwCe1dijDt6HgdhppEUcegvFBOGyV56G/exXCaauHBNyfThaM3sEYtT0uOY7x9gpGDesDKO5Hwej0TQyMzlW2G9ghN0M5M0v2Z76fwEJyXsd60WEIVRb0z5AFUEAUD22p56Ar+pKjkz6pdaBV8uI+EX91jMzZwZOZOBr1/0SsPiHQOp7MhIEZKzl/46Xkv7NdAAiMypkaCkuZB3Yx3laCJxkh5H0L48/8jrX1jRcjf0/excO0YLiSg1i5bcu9y1go/w6fnb+CL7//kSQg8gau9OvaE/LvB98B2aGY0RvhSg6CesDTSn8ZYy2AqcLKTJDW3cJqwXtk2x2RL/z5/9tDzEi5v+giVKzzSNGupAW/ECzVe4g0DkzI5IyUbRe7gBuZswO6EQ80c1MsPXoKZf0tLKcGY6joOmtWKtZ5OhzK8G1IKiRzJZHYvQSxjqu6JZtWsxK9K2nBnGtP357OJCoW6HiZcOcdxFLOPmg78jjHYC8jsCrX7cOMJwi3E+/dNTHX/srxGvEeWkEBljN3YzltJ36MiIQ8/F+Mo3swMh+QxetUF1GX81eI2TymxCNMcjUOd+47UIRvQ13OH5z3ePuSfOHHBfx5o01qgMm1itUnaxBu8rY4eWcIAVFkoUyRHOMaO0dyn8gaH0P1ja/QeeMDv99xPKefVaEc1yyii7EBGFHbMKL2FZ8ZUtvYAmpAFA/5vWoIVRbkdM1w+EwU+p3TRRLsj3IHfDzJ6KBFY3/dEfpZakxIidMBUR7TZ++k5IHXNua7S4kE9RaE+iyBB4b/Q6UIwXEdLIT/rUSPKXJy+xRaww6QBKT0jt/nLkYLsZYVgpEBAUuKJwV4A9u16p6yYLKjkvXzotv3pgOIdU68flOAy1UiVnG1XrTA6eoMzBL5/CtepP12mQmNEwbcDP8BQ9F7EXqjkxQoh3KB8uPQOx6iP+sbVIV/iArGBPuz/CEcShdC1HwHrrTXOE2CvrJICMLeREwFH/KwbRANcDtO/zMJiL8xkvcd7oUfQ/eUGQv5J2B4ELHlxOsoPomfa4jsGNXFpp4cw2o7GiYXWFwtxRMeYyr2zeIFv+2ypUdP8dM94v3RLjNCoDTjrcQufFdOFtjUFdtQ+DlaJEbCZZmyYrsfFQcqhTpvI0oQJ28PceBOVPWpcpCoU/AY/5F9Sd3Yw1zkLRICZ6JSv5NaB3sMFLqkb0slpPyiU8iP/ALGGwEYbC2HUshUnOZMcBSfYImKtKpE94OqSgzMWlnCfqvEsKUZ2fKjpyhksIaVQxp8XTKCNxIE7EXKl5sgXXCyJkC6xF34I+IXiOZtWEkNhpRHYHW0hXqAMRmc76kgkDHtIsbmF/FApMf3DEQrUzCN4bERLKUEwXr3+2deQyKNA6a8Y1DUxHCSsP4ZG1zpu7A2UcX+1pa8Y5iqicGQ2oYBJmGyVZyDofoaOr2Sr9WMUEy0kgdG1/AYUTPyXkje+xwQJnHOk9O9BFdyEOSCKgKZKj3GVMp5AIinhCRiO4pybuJ0wTD6o/dioeUWzDXXoC/5GhNaLwiMIA6o/YZ7sZoJWXS9+kuIe+qwlBIEV84BKB/c8Htte2vF82QmqHQmsj+qdiD/AFD8HnBnH6R6kojWjevxahQP/elnoK/4Hs1iA8vVot29fxL+5B0TTALUpfyTTux/MqhkasPEAvl98naTiZwmciBFjMWMPdDf/wX9MzaMzi1inF+Jp1lMAmKU/DU7I63BanownCnBLGfJVnEOuqofcer8FXz9w08kAVG2kO9dYxI1yplo/w3IDoVuborhOLWz95C3T9OLBBXjmKxPw6PbbwNVJ4C+tL/mOP8vCNmC64XhIXRI5kyeBKQj96U+2y4zgjdGEhAq9NImNRJ5+nkGmrniywF6+HgNiqZ0LKcGY6wqhqOuNDPcBndKEJEWr6mDWOfkqFfN91Sw3h9irQNLWW/B0BRP9sHr2ptpyYAzKRBi7SJTXNuHlYzXMd9dyjkGa9UFxnl9J9NRuM/5O+GfkAImVdPydy707elw5x3CctabiIz6DdORr8BUH46VtGCUNJEKvLStgHRJCo8/99x6+0bZcwg8p704jvMe1+3D0LenQaxz4nsGxfEyvx+FmFNRjAmtAwqFDMuZu3EqrYmsD6J5CInv9Pt5c+0vsJd/hdrUyxBEveP3PW8kCBAS34nt0aSjQLm0n+QN4Ghmn0/xOL1jmoVLB0TxcKtVCYHCjLAHEmyP5rES32PzdhZVIpyyYkcMH388kPjdhyOZRIyhQ+6fu/FHnRhZEV9DNCnCb15y/kW9pGNCk5+AKB7u9Mx6/eZprAqbv+1GNRL7hXGNHS0SAyuGQ9dsVCgn7IEU/PB9UIRtQ3lOrH/RjY4oPM0MwVBP2zPNDue7S0mXjVFuE+uciKiXYXsMn11bvZ/Vh0/yBhDbRNAJnQoTp/s1qXXgYsU4Hog8yVaL1IDuKTOSw79Dd9R+vJEgIPf58G2g9BjMrlVM3j6HivCPUNo/D5GGeKwdzxmAorMCSylBaJMsePb1biR4YXtxKq0JyvBtLDeWjv/pBGQ08zSKw09giIFYGO796PMe2uJ0FH2CiHqi5DTLSI4Oz9lZnJ233nPjJGkDXqwkC9rSgXm/6jmu1Se4WDmONxIEaJOSBONgqselk+JuFws+YtVnaDa6mf/RJjUSGA7DE6EOtxNaB1qo1nsUD7faCMGqimm3nbg9hJ1xJKvsVVkhUJohnLZiYMbGZvm/1kpQNjhHlJ2a4uAo+gS2inMwFp+BKzkIkoE2DHXUMK1pHRyFH7FERU13CdypoRhi9r9ZbMCOGD5+vDfBmsvRSjklpXuHc+UJK0/cJF5AcT9pqRb1kZueJjHU9EefEIJfIv6AyujGcuYbkLaS9vy4xo6Q+A5Wr1rXkcvsrx4DMza0S02sR0hhvxoKEfFXoOY5W43+aRtsue9BWZ+A6V5PEtYzZcFS6k7Ww2V9fQOWolOQV/yCOesSA9czYLHkFOZqwjk+LI9z92CyicABewb6ifqRRek5KXXngM5oznl6alVjKSUIirEe8kL1GfJgV5N/yw0ujEWGoigjEsey+iCOeQ06fg6MDVFYuPMJl+Dd9ivQdJV7sTp1ZHuNl6EebYcrOQju1J2YaU71Cy/0dsttkxoxa3YTaI60hvy3+gyQ8xoMjhW0SgwYm7fjfNkYZu+chqn2Z0j0ZOHSznj2/NPdB++QLjjROGnwCxH8O4P6/tSM6UkV6c4+oDeZ8U0YAUA6hJb8jyBrygRPbkKT2ABxTx2Ba2WHApapv2ZnlM1EOrnyGpYzd0Osc2Kx9HNo7v+OE+cu4/zlayQBUTFiA0+Y+9htJP8WJgLZoTBOjcCZHAiVSIgWiQH90+T+38oDyF9QjwBRYw4e575FlJ7+F2Rx/0tiiuHLvcwiVKxzYjnrTcK76Mx/4c9Qee8+uYYV4aDmqmbXKunkZYeSRHVTrD5Zg7yN8Jkm69MQEMXDbQYqNj3WBWvCdsjDtkHQSRIKY30EFks/Z5871P2cXKunYS/9wkcKXdqUBUdKCEQaB7Sd+VjO2MV2SziL6JrrcOcd8oKhpXH+Trw/yGveruibB/2bO+cA0uJ+wnzMv2FovomVtGDcbyNCK6KGTKykBfsQcr8qHkGBUM15jSpmKRQy6DLfI/5c9zfBx4o+Zbszv9SKERzX4XffthrtUhOUBheGGY6FWOdRNTt7sxBBsYTv8XaKf+VN6r3SdDscwvA3MD7PFX+h3AOqysmTGVkVTgqLousWOj7LH8L+5G4WKhTZIEWb1IhvSkaxN4mbYO1iKvnxzcTtnCfznwjQ7x+Z8+24iHVO1A7PkASvOg+nC4axN4kkCIltRCnzx3tkzRUQRawN2N+8kRpd++eeXq4SYZcXpP6TvAHsiOEju2uahT6JdU5cqhKhJ3IPpiJeQW3yRR/RnqVHT7F+/ys8yQzBYFfjM39TKuJA4bRiHTEg3J3gOXfflY/hrcQu/F5HiPxCleWZxHpKcB9R25AR/jVawg9ib1I3kegfLQBKjsC29AiqonMoDf8EKQxMbn9yN04XDGOmtwZPM0PAF2vZ4uN8XRRaww5gV9QDzET+y8eL5386ARGlHEduxFnIDS7oqi7DWH7e5z0UP+os+JC1nJfpnT566t6DqgMk86YYYpaKVc7yDsfKY+aG6cbAjA0j83Z8kN2HDxmMJiWseU9EXxQOY5+XrBwdrVIjDM6HrEkQdfxunFxAbJMc26N52MmYvYl1HkdwSv6l6g58mQktEgOG1XZ8kN3PGvWxN1Mdcb+2VF+BO+8QqWZKhiDubYIrOQgTU2pY896HvCYO4/OLmB5sgjM5EJ0ij5zt9xXjCIrl48GEHsJpK8sV8Kd0ZFt6hOhGOaOmYMWE1oE3EgSsOVA34zpKF7sLN3bgWmQk9IsrWM7ZD1mjBy6Q0TmNeyOkgqZvS2GJiZSkVTowh2PZ/WgQ6TE7yoMrOQi2wk/RN21F95SF4xZKB09mgjvvXUw3p0IqrGeTsE6ZAStpwYCymT0We9V5qCuusEZLXUoz7Lffh7L2Bscr5mn+O5A3ZWBkzo5+YQdRP3JoPCel6SrQ9gv3YtIQjPb07DTzniscDoDS6MJg1JsoSf0F+5O6oI7djvnuUuhak2HOPsRKMAMgBma8MO72V51ke7w/YFb2w5kcCFdyEPSdeX7vRW/J61YpA7EpeBsYuUO20/wTkB2K5SUXcXll2sWGO5/C1hzNEuAlesIR6pu2/qOLf+9QGl14INJvyeX6O0OkcaBWpCf3ReFBQBDLQKtEAAiEakCmRt3oHJRGN9SWJWjH2j0cID/k3j8Vqy5Yxhsx1lbKQFtscBYex0LTDdQNz0CptRAS+EwH+d7HjHuynYHejeQD2aGwSIhzu0I8jDapkcVvL74EvO7h4zUIlGaMtxbhaWYoSWiZRP//xfPD2+DyZQY1/nuWHO3m0SEnJm1TBiecyUTye1ht9yjnTfOZ68UXgvdkbR1yfjGWUoKg5BdzFnuqiQHo44i0q1xEOv1U0EOso/Lmu9n9MD34g00uvM1gh3l3Yck7ipE5OzRdxWyCMTvcyjkOY30E+zfXnaM+ClXu3LdZDilFCYh1TiIMofUUJ6nZoev2YUgqw+BOCYKOl4GVtGC08kmRcLg6kRD+vcjuPAZv/+kmfy9vgv1U2lFyPlq5Xhu2iq9Z80UqebrZKPBZo9MLqUCr6nN990kCEp3BQpc/yRtkF47ew5l/DAstt9BZmYzRsEA0i7nFU7peCq+XEr7GqBatEiOEUwTiE3qjE6/d6GTh4yNqG4LjOvDjvQnS4Yji4ecaMRonF5iqPfccvZsmxME0IQ6mCvFeZu+Wx/ll0QgCvYQONg/JjBZTEa8gMSkOB1J68GXRCILjOvAbo5Z6PKcfH2T3E6PDao/RobnmOstB8rfdzbC4VokBd4SzGFLbCNqF4QR/WTSCwag3MR35CtpufIr+GU/RcmNjA2Nzdqzm7cPjjJ0Y7qx95m9KoYeOok/Z107lD+E9L9QMJfB/XTKK0Bud6J22+rVnYO8lxo9FonPidsQZPAg7jLdTeghiaKwYKDoE58Mn0JScQ2nESfxWR87bazcI70U72oyN7FAMK+ZYdUxjfQSaIw5hZ2QTNDH/hrq/jvOd/9MJiPjWQaRFX8SsZQn62j9gKjzl8x6qr+3Mf5/9QYbUNjx66jEF3PwZqmxFOyHRTTK/Jnv25cc4XTiMg6lCzFqWIFtw4eSdQbyTShb9FOe6lLUHYh1peb1+sxMXyrlu2ixEZeWJl1QvqQwkt0/h5O1BcvN5ydMltJJ9TOGpSFWAyWwntA70qqy4N6JFQDRXkq5XZcVs2Q/QlXwDY93vWEkjvhAmjQp2BfFS6R6VwJ77HtRNieiesmBipBfulCD0DHhIWEKVFaHxnThbNIJOhQkVg/P4umQErWKDX9fV6/eJrDBd/F+sGEdofCfG5uxsF6VdasKExo6F+ABcjYyB2b2K5TuHIX+QxDlXk1oH+DITtPXR7MOoXWbCkNrGVndapUaYxxqxnBoMS+576Ju2YnjOjt5pK1okRnQpLRhW2zHJdJce3T4AbUcUS2jOAAAgAElEQVQOxnqI9KNMNYt2kRqP0neyECgAcD/4EabK71h/hCmjG9aMvZDUp3EgKBslR6FuSUWH3IwRYTNRP1qyeE4KL4wkCd4hrcGT7F2wupntdERyFqrTZjd6Yw6gIvEK3oxrgS7uVaj76zDTngdHxm4utOj+l0D3Te7219fJ9rpvwq0RE+JzUiBs/SV+70VavReqSIKpW1wh3BVBHNlO1w3ijr1sxei8p7Jmyj2KxY5kzraWHj39Rw0AN8esZQk1Y3r0TVs5evj/RMgWXGiYXCCdwZKjpDvlBa3a2NhA/4wNPLnJIxGsHfIkIE79X7YvesdDDHfWsvKm7rxD0LensRhxAF4VbcY00iT1+GZkh8I+eh/O5EBIpGJ0KEzErVdh8q/oskVQQ9ZxXgVJzrNDiTzx/4sXijnrsl8juecNe9kZwkl8hpu19xBpyPxocq1icfkxHKmvQd1ZyHIm19c3WMlvrPn+/mvrG5ALqrCUEoTZ/lrsiOGzHg1K6Tjmov8NVcQrmBIPMYuqNLZYp+28jaXsvey+0IqvtxQwrdgKp8wYmLFhvqecfQ/1YaKDdilWMl6HqT4cjuKTnL8TOXPSGfJW81loSYDlvgdZYam+AmvVBTgLPmRd2LUCArnq6WpHQBQP/eXk2URVJcmagqw9gmL5HNIzhWmPSJUQxLwLZfg2zDFu8J7v9JDis5iqOu8ZlezNo2fKAoHSzBEu0AgKsZQahPMRCUhoVeJIRi+u359EnUjPLcpqHVjOfAMaQSFGWwogDXsFeZtUpqhHGEVl3OmZAV9uYtWXsrqmERjLx8/3idkd5SrUjOkg1hExnR/vTUKgIBD2C5tkhqMaZWwnZTN03XtcqhRxFJ02D5lqBqYb2/FHxC8IiCYJ0x4GMj+pdSD0Rieu3J3A/mQiQ0w/Z6s8z3Te/Cc/72f1+SSWdOxN6sK5UrKt4zn9GI8hSmcDMfvQNcVAgteeYtntgFA8jeXUYKym78Qof2vTTLHOo/7mzD/GvnY4Q4jP8j2O5h1yI6ty9eatLvRP255pDknXYjNmN0qiPse98GM4nNFLio+MP9TK46fQl3yNipjTOF82hhG1DQHRPFy/L4ZJ0sn4j2nY+clU9xtaot/H9sg2GG4E+Ehg/08nIMobu3Er5jo0thUYW27CnPe+z3vUA/VYSQ2GNftdxDUTBQW+zIhlBgbgrYtMx6+1EgTHdUCkcSAgmodr1ZMsbMs7rEuPWKdOi/sR1JYlfFs2xqpnlRblkEkvPQRirYNVKbgjnOV8H+3EPF1bh2OFSHdOaB3YdVOAfUnd2BnXgUuVInxZNIK3GXPF3+rIPlYOkW1WeTmXinWk3bvrpoDjOsmXm2CpugDD3StQ3Y9i1TwW7VZgYRwb2aFwGdVYKz4CqyATLRIjesYkWE4NxoiwBWPzi5BPTUHTXYLP8odwOF2IZokBv9US6FOBUO0j6TpldOPb8jG8fsMzMZQOzrHQNmqUVDmswdXKYejiXsXVmBuwLj3CctGHUNRw5RQp2X268jqWU8mDplVK+AZUmapVaoR9uAprWSF4WnCQTRhWn6xBY1tm5f6axAYIFGas3d4La18x+nuI+ZVUoQBfpCLQKa+F0VNeBB5Vf83+2/3wMVypIZhszef6S1R8DCsvGQ9Eekx23Sd+DrSiDJDFe81X3ItpIBMo/8jz775U8mA3KwAQaWVB3BFU3DyPvZHVMNwIwMwIDxM8UtHGulcCUv4RMJjte4MVvA0M5uCpZYZwQJKD4B67t+X9SLXIWYz/vdNErSg71NMJcWgx6yX7bM08AIcwd8tt/p8IjW0FteP6LeW0/86YtSwRw7alR0D5cc/584LkjczZMaaxe5Ij/ZgnAfFOXP/DMDpX2WtcrlRgKXsvNB230S71Sn4YE0sW009JxrMCIr3clw9nciDGZVPoUpohW3CiR2V5pqb95niytg6hyoIxwX2SnHs5af+/eH5s5WT9vGGpvkLgSX58MPwNgYJI3z9ZW8f6+gZc2fsgbcxAu9TkUc7bLFrgFRsbG5AJ6+BOCcLMCHFnph18hVwKVcQrmIv+N6YkZIFGkg7SNdDxc+DOOcDuy8xwG5tcUL8cWrGlhRLK4SOqUlyTX9qlcBZ8CG3nHdJd8VqILWfsYmX8NYJCLGe9Seaze5fgKD7hWYxWfANzzXVieHjvB1aVayUtGOO9rQiI4kFY9Du7H7R78nXJCAvvyfHyipgdbsVyajBOpLeiMeIw7Ld2+Di2G+sjWE5KGfPsfJ5E/+ZnZsPkAodToG9LgzMpEFciotj1CO1stTCcTrHOI788PdaJ6f5ayMO2IbpulLP9E7cHcShNyKoqJbQp0TNlQQyD3BhS2/B5wTDeSuzCpNaBj/MGOCiQN2914QdG4TM4roP1b/MeRMjEwCE4bx4dciPK/Chg0aFQEB5T8o1fCQy8X40jmX04eWeImPVFk2Tpg+x+Vr1KrHPCUXyS4R61+d3u3qRujmCQ9zh529OVOJgqhDRuF+TxuyCPeBU8qQGO5UdAw0WsVnwGoZBI6y6nBmOyo3LL4xDrPAaclM8n1jmxO0Hgo5RKrRoOJPewQkv+ulxiHUGDyAxOzFmXcS/6BCrCP8IH2X2kez9RCeTvx+On6zCUfIm7N87ik7xB3Bsl689Uvgo2JeGD2Y3zaJcR/ytzzXW0xX+MgCgerInBPtys/+kERBW3E/HxYdAtrsAuyIQly5cgNSesIm7kOe+wnIiGCT2cKx7Twc2f+bZsjMUhvnajE9+Vj0O24PTZX7NrFccYoo99+TF0iytomFhAVtc0vigcxqWIGMxE/gtLKUGQzJlwnZHC3YxR5MtM7Pbdq0/Yi6SgV40PsvsRGMtH5ZCGJEaMKc/FinG8eauL5Yd4u3COzdl91KbEOgKRWqr6Csst4ZDVEXUSV0owVh49JhVZCvkoOoSVgXzwFSa0TGjwOGMn5J0V6FVZoe3Mx0p6CCtpXDuux0VGgi+6UcZRDFtb30D/tA1nioaxJ6mbNfsZmyd8jit3J4j617QVYQ8kCIlsxFTEK7gSlwT78mMsl53C1L1wzjHQZM1e8yOcyYGYHmhEm9QIEaPGJdYRLoqzv4Acz2ZPA5AHo3v1CWYtS5AbnNjI2w3XSBV6hQKspAVDNDGOvkk5SRw0A54PCpMIgZzG00dYTd8Jedc9rhLR3VNY7ryFVokR8s4K4iC+7vV3fypV7b9xuyJjxczvMQuAOKPybnyE8ujTOBxVAkvCdqgmBjDcWUtI7g+98KSF7/jI/AIgVQyzAnAt4GFaMNwpQXgsbfB9HxNa+wpaGKk9k2uVqBVVnST7JatjOQp6x0O0Mq3dxdRdcA2VbbnN/xOhta+gTqR/IcO+v+O7BQozIeBXnQBqz3F+VwBQGFxc7hS9F7NDgYeLf9m+mN2rEPb3sgu0lfQQKHiFiMkuxf3aB3j69CmrlsYmPrQjYiB+D0udSXAmB2JIoYFQZYFz5QmkeqfHNf0FYo2Bv453N3oSkMX5v+w4//8eWvufS0DookXd/2x4h1jn6X5QzywAeFx0FNONSWgSL3iuV2kNEVfYImQDzXCnBEE10Y/9Kd1sNXhSroQ8bBsW4l+FUkqeU/PdpSzvw9vglSweZeyiXjJH5nlasZ3QEjEZqpJFORXex6PtzCeqQXe/Z5MZmYopBGodnMSMlaTXOmAv/wqu2++x21ksJi7p9rIzsJedZVW5VtKCoRxoRkAUD915P3n2VU3mxX3J3fiyaARv3hLg6xJPcjQ72ABLwna8FlkPRc4pH5Uvsc7J+JuQ4mrjpN6HJP2iY2a4jZUwNjTGwHZrB36P+JVVnBqctaFHReT0u6csaJcZMXfvV3L82kXMjPIxFfEKfiz0EInH5uwsnIqK9/xWK8HQrB3f/n/sffdfU/f+/9/kvbe2gFKt1Q7b2ltr9+7tuN2109pWVHCgIksJS4aCDAWRGULYewSyWSEkgQyyA2HD8/vD+7zf55wQQHv99Pp93L4ej/ejRU7CyckZr/EcBQOMME99KX6+RdQs4+t4jsVzyW34OK+PdNND+BcPclEZ57aCs9h3sQkdY068f60XL15pwyUO9dI87MC/8nrxXDIPqaLKaaG8Iro2K5pUFh9+ujWE3eflUJq92HexCcPnotGZ8Br0J3egcUAD7wCZLC+k7sJw2Rn4EiMwmxQJnfzGlp/FUX4cnoTH4L1KZG8Vk24mnSzcjsLrDqW2oXvCxdTJQt+P8rpsvgWYXEHcPfMG8k++jTczu0kBoioFsg5gbW0djvwPUZ7wOZ5LbmVInDKFBV4DaVYtu4xoH3OibdSJmVs/QJ7wLnbGyuC7sk/k4aOy/H9QgJyu1IZ1tlRZfBg7E4ELF2Mx7Z2HryMH7tT9G7bRS7MwmxSJ1ZznWPegtM8Mp8B0MHS9ndWDw2kdUFl4gk3/5MbkxeZbwKHUdrx/rQfe4BLsnMMvfR/prQzuJrsT2rEJPJfchjfTO+C4/ZMITyg0kaOu2MKThHYjrjTy41eKO+w2kIv2Yh3pOigm3UzNgfIl2P5orJgvfBfLLQnQ16YTGM7Vp0jndWaEJ73mHMSa4gabFKzkPIcpeToadHZMSYkixIk7SkScbUCPwYVPuJP884IB1Gt5JSzfPCmm3snuxoupbahV8z4u72T14IWUNvQYCAH926JB7D19B7qYHfg+PgXe4BLmij/GWPFx0WdoHp7BgMmN1bvfYjYpEkP117nRspfhous0NgRaUvkkbnUL8vP6OrkBKMvR09NJJCN7OqHWEdUoTPXz23anExgSjaAba2nRcGlC3Kpvf4yVpni0jTkxJs8BsvaLf993Dbj+UshrPhJr/msrRBAcszuI2ovvo+DkG3jzdAbcCY9BqRpCb4ecJHFeM/950vcAmvLNP3PQjeWruzGfEiWCmIWGw7+AWrUNdRobgVDV/UIUsCTRgLGNQcRmAuRaGpx0kw7O0J3N//Z/Iaa986gcmobC9OCS+XsNm28BneMuUpSXfgCUvMsmRzTW1tbFJnwzw/y5K5yc/Yfhml1EUw8R5ehrqcZcchSGZIV4/8sf8NtvvxMSuqWf/F2/lbyIQmw8k4AkGsHaGPgSI9A2bEfneHjj0e2Cws4GOupJkS+JFhfQf8WWISz472dR3Liu7c62JHbKGxBxpkrexWzDBfQZ3bzcurKEiCtsEvqBJgSSIqHXKnGY6zarLD5U9eihi9kB58XHoNcSvD3lJahMTkxJk3gehsUHlcmN4JU9rDBQWUjjTmf1M04MLQTIlETcCaeqWtbqc9DrVCIyO/XaoIUZ70EyA2/+2wxCrbIQHs1UbQJmbn4Gb+4bpDPOwbwN3VWIONOA5rSv+f0YNTB514t1w/i8YAB7LzSxZ/pE5x0Y4/6BZy/Vw8lBfQw9taJ9N8sz2WSofcwp4tLcz3KUHWOcAUfZMdgvPIqzJ79nhs3U22XURrxCFKOT8CRFwySTQGUhvB1D7N/xeSo/oclrN+LjU0lQ3DyFWpUNj51pwO9cMv5yWgfe4DwmlGYvDiQ04xFOyVI4yTgiIRAmKafsmb6Jm/h/ukZUvQimRInsGmgj99Pr/UxN9PuSIey5wCuCzV3dR7hT3IRMuNpH6fcRPkelal9SjQ0RZxpgOL8L8rRvoYvZAUVFChYynsZ6wyn40p+FL+VxuCXPw5P0OEbleVt+FsP1L6GL2QF1zD/w8y0lO3ZpIfA4WiC8nNaBPg6G3jnmImucb4R3G1xoGSGTbLM7COnZV5B18gO8d62H+Oapb7NGg/P6B6hO/grR8aTJvfdCExr0dsxauMaZcwwm1xzq1FbYir5B19WP8WxSKwLpz27w6nvoC5ADCc1E9SfMlzAe9wguJpyDzbeAYH8RvMmPiyYaikkP1BWJpEOccxC3BojzY36nkZG9w73vodQ25tNBJMY60TnmEuHH19bWYXYH8UxiKz653gff/DJxUlfzGLvJ1gIYYv+O0VN/Q1Uz0dnOqOvnxrbFUFk4lRGBROnSCoEndI2LpySDJi/DWOa0TeC19E5mIEM7ELvPN+IVSSfeye7BU5dbRFi/QRORU12+/irQLYGxtRCehAj4rr1MPhAlm9o15IGiLIbZHYTC5MF6yXvw1seTjljVWQRTopAsJfJ5rSMzTAP88NUO1KqtjC8z5Z1HndqGVyRkXzvHXEx17JxA0UKut+OjvD4ciL0FXcwOfHdRAt/8MuZufwnDze9Fx6Fey43/y/+NxSu7oLh7BR1jThhmZgVkeCvmGuL5JC6MQguLlSUiT6uvhVI1CH9iJNramjBl4AoQm4rfdiCfKPbQ4JKyDfCRO58DjXHQTPlgbpAAeYfEv1cWb3xo5z4nVgKaaBVBYczuIKovf4JbJ1/Gx6eSEEiMRLtyGCplP5mw2LXkdcvzIvnesLEUxLokmigtbYG9980vc54nHISoMY4/pg49k5Ol08S+kSn4EyOxoKvf/G//F8LuX0CVcnqD6sifEc7ZRQxMekgiV/YpL69ME/xwQa9FSTQ5Px9Q+ILLaBwkOOOBulz4EyPRJy/DR1//iBMnTpACZFohLpDog2fORcwn73wDb/LjTL3uj0av0Y2BnlZyDqbvEU8I/4otg8qp3m8CRqU7FS13Ua2yipQfhavP6Ea9NoxxaPUPQN0v4mnvYAGBdm4SqkkHNNIcqMwevJ3Vg5e5Z3lSrRq6mB2kONGRhNXQU8OJgJg57wmx54Q393VRMVCnIdw0OhGioi/CKQldtDgxNeeRgiN1N5sGaAxTXOJfze1HNRMj8We/hGDKLgalmk1/GrrqK5i4/iVT1aJCNxOd5Xg8vhFNKZ+SYombxKTIeeVLOgn4rngQSrMX463F0J/cgW8L+xika7xfTKQmEC+yD0qzV8SluZ/lLP2WcVtcRV9g+vxOJJ/6guUJbaNOdI67sLC8Crt/AUuKIgRSotGpGkXvhBttPb0wn30EH5y7xl7zbdEgrsV+BH/mC6hRWbFHALPbe0EMCfqVg2pnhBQY72b34KUr7SjeBE4ebnUbtjc6DF1UcYwqiqksPH/l2aRW5jAfV63FzjgZBoxuVpwGU6LCGl3fUZCJVEL9MGrV1g3wJopQOcNJ4ZrjI1GbHw9tzA64Lj0GX96bCPpdGC+PxVxyFJyFn8KTug+T8uwtP0vzpbcwfHIHJs/8A4+drsN3xYNhoXkUFvdGRheGzF70TBD7ANJY5JsYMq0dmimCwjG7g2g+9xIkJz/Gx3l9pDmurWAGtZ7r70Em+R47Y2V46Uo7jqR1oHnEgUXHGMsh19bWMWoPwJT/Key3foLS7BXJSf9/UYBQFYGnEzeqRqnMXozH/h2Xki7BEVjAsuYuAkmR6BrjnR5bRmYwWXWBJGjZTzFSeWaLAZppX9gCpGfChcizDTjGmQm+d4106oUSnnOLKwx/uu9SE766qcDs4grTt6c3dlNzPhwXiNTgl0mF2HOhCWr1oEiJhDqY007T+vp6WBfR1pEZlPaZ8WicDLFVWjyf3IaP8vqgNHvx5KVmRHMa3I+daWDqWPS1GsMUfJJn0NPbjdXcF4CBPLiGauC9HIHZwg/IwfeaedJz5pOA+jZWVtdI5/bu15iv/Z3I7Jb9gmBKFArbdByRzIyDya1E7eJ8I+o1NkZEV0150aCz47nkNnyY2wvttB+1ahtXDJEL40LdMGrVNryR0YX3kysIBOtyNgILy5ir+AHGG2JHWkaILn4Hq2m7MVqZgCGzVwRLkGpsmK/9HUh/fPtkbynInKk9tklyDrVK4TVrRRwMAKTbJ5xm2LltXOPi96z8FpCdgHtuCf7mVIL9FwbFTdOki+7DqKBoWF0meHwuprzzuJv0NSpjXsA3p88hmBIFqWoSZjNXBNFtZ2fIz6buzT/z2iqf4G6xHVXCYhwBKiFLITrccaNTu84hPYF1Gdo3fc//RjgCC6hRW8PCKP+vY2F5lRcoqPiSJGuSaGDOufmL6LW4Cbb+j0ZgYRly7RRmkyIxUpkAX2IEOuRV+Ozoz3wBYlNxEw8jeZHiBtnnxQAxsix+H66rT6Fea4fqPyjoBkxuKAZ6yb1ZWNT/FdtG6KT9XhdNrHuaa9AysrHJpbKQTnWtygqt1bdxutUST+S3hdGfC+S/uOm+Uh6ZykJ4ENTH6ehNBYZP7hDBpcYGmji505GwUrgzt39EIPMQ20+phjRG6PEY75OKOJfC11LZWYrj92e/hKnaBDI9H5ngfkfkgOlEQzs6jlnJ06By7yqzF8HUaChqr2Gi8Dsma0yl/o3tJdif0IzmxPcRyHyB+50Cn93oF8mj/lKmws5YGT7J70P9rQxoY3bgZrcRM7d+4CYzrWG/N43BwhJ7muTfzyIu8LugMrnhyX8X5rOPIDeOl6lvGZkRNxWqjsJfdhQ1Kitq1VY0K7SwX3gU/zqVwkjwzya1ovXCEcxKnkadxoanLxMCN1XAEsrv9ky4wk43/n2jH88ktTDH7lCLgnBLqrFBprWHFRHabI33yxFMiWImyyqLj4j4cBYHZ2p0UJq9BGkSR6YW1AQzdHJCF3WQz+80YmDSgxr1xsL+xSvt2HeRkOhtFx+D/FY6PjqVjOLqenSNO2F0zqGtvYXsW2Vs2EmBcMm1NlSdPISJ+N0IpkThSDKf97WFKcr2JzTjw9xeqKe8UFqIJxbxBLHy17zaBn97JlD/OyyeIDrPH0Lyyc/xRcEAgWHqq9jzKHDjbbReO4adsTI8GifDZzf6SYPeQ3NI4nm2vLoG2/WPYS4lZtC+a69gujaBcbge+gKEdvx3hdO9NrkwdvpvuJyaRCRIR2WYS45Ci5qvnhu0djiqYjkuwD40Dtu5UagetWprWAI6VWigbppf3VRg/6VmNOrtRHYQpANFpW4fj2/ED6VDCC6tMHlJCp8yN+VgLjkK+pM78O6pNHxXMogxBTnRqBlUvda2QTmqT+BPQleT3oFK5TSeuijH93nNePKCHF8WDuCOYgovpLRhZ6wM72b3ILlhFPsuNqFaxZvB6PVaknQ05GE96wCgKkVwjKheBcs53kGAM5oz926UxZT+ipXK79AyMgPbza8QTIlC/cAIV8yN4/H4RjzHFSG3+8zoMrgQXFphLtn7Ljbjq0IFZgKL6BhzsuLqmcQWfJDbi7tDUziU2o5v0ivhvPgobpRXILi0grnq4zDlix1pmecA10meqTmDSdcc8U/hIF4yrR2Ld78jD8ZwBYIw5r2838bsDOG79NRjaVq1Aau/oXAw95KfAzbxe9b+DNQeI/8fyhsBNkpXusa3NZ2b9s7jTuqPqI95GifPnsLclb2cFv88mZ70XSMbuifuzcAuc99GiFlIrK+vE1MpHady1JsphrWlPw7o7mJ1bR3tY0609PRjNikSa1Nbu3f/2eGaXUSt2oYR2x+7yT2wqDoKZOzdHnJEvTe2wNb/kQguraBp2AFvyhMw3/4N/sRI1Mtl+ObHX/gCJLSo7skACl5hjugreS9hJv1FVKusPBH5D4TS4oVCqSR/q/jtB/QJ/zfCEVi4pwlIKNZ7dKgDwZQodLVIGbw29DXNw0ThKqxhZ3/uxmlubya5F28SQs+S70p4laLX0juhj32MSdCS/eNN+axVZ0Tkb5WFQLTsFTFQWXzoN3qY+at7bon4aPU1bJC/pWtYo0AwdTf7W66iz2Et+R6VQ9PoU2o5ojUpEoTeHMHU3Wwf1UY7gslRGGgowVjxMZEqVzB1NyZbC/BcciuaL74Jb/7bZBLT34ro8434IkT58myNDo+dacDx0yehPfkIlGYvHFxzb3SoS7QtzRl0w3qW9At5JPe6PNff4+BpE/Bn/RPGuH+g7CyvHNqkd4gNbcs+xWLDGbSNzhB1TZ0J3ssR+PJUPFLlY0xa2JSwD7NX9kKmtePFVKLUSRWwQmHgwtXKFTzflwxh74UmxNfqmUrpdp+lTmPFIJc4h/J420adYQsTQ08tgilRsN/5jf0bheXvjJWhXGFB8/AMUrkcsKB7EsPaIVbUCgsXus5z1g6VQ1Ow+xcYxEm4DS1yHj0thfPSY+iqysPOWBku14+gTm2DVGODXGuDs+RrGHqqOXXC1E0/+9GiQchPPQ1X5ksIpkQhs464rkedk4dVuKpUTqG0zwyd1Y9RewBlA1PonnAxsSMKv1qpPQ4Uv4Mp7zwGzh9Ewsmv8W3RIOF7UYPatVUEb7yF3hsn2HE7dVeDAZObb0py1gEA4Cn4EIbSX6Gy+ODNe5NJadNi/6EuQOgJuTNWtuGEUhvtGD31NyRJrhAN+olWLKbuglzBV9x1aht8lZzsZfrjjOR0bgsptw9ze/GUQKHheDlxT5dpeaUYvdXPdQB9iDorx6/lKiwsrxJ1F84EUGUh2M1gShRMZ/6BT09fRq3aykbBU9IU9BiIolOohj51aBfuVwMHhalK+ITD/v0dSdeLUamcxqsSAoEq6gl/sQ9rhxBIjIT1Liftqq/CunUIC6m7sCTl/CKCbr6TLokG9NX8DrXEY/32R+gyuGDP+4AQtfWjjHi+M06G70oGOVlgoo4zyEncDpm9iDonx7HbSvgXlqHmpiIqiw8f5BAeS43KigMJzTiRc5cobnW3YmF5FUHpaVhyeEdaCiPzzS+zTvJafQxW19Yx7SWwBCppvHTr38Dtj7dPxtnEoAtY8GFdEo2lsSYyCQrB6mNMJi4cxhvJz4shiVj9b0TtCAAazxDjQWGEEn3pMZ/bXKXJ5ltAmeQEWmKeQGr8L/CnHyTHIrhMPDmqv+c2pIXTxOafGeA78dsUKjqrn3d5H7opJvZnP02mQiBFs7ylGXPJUYBzdOu//ScHVZYbd4Rxnv0zo/ZnAbdjo6w3C3otXnvmgf55Kn/ruPocnDc/w2xyJOpa2vDdz8f5AkTIBQOA9iTCW+G4RasZ++DIfg13h6aJPOMfDO20D0o9x3Wp+PLBfMD/kXDOLm4KH6ar2+AiwguCIkQ7NrMmumwAACAASURBVIG5K3vR2tNLOqFh3qNWbd3g5cRCX70RFtiVBtx8Y9N9FSrknajQIOIMgRc9cbEJI+f3cBOPUa5IIMneiLJHpPwUbvVOuNHECZ7MLq5ArrdD3088NYSkceHSjvLdd1tlLGZy3kKj3o7u/gEGpVJZeK4ALYjoJEM7aiC8w/YajJTGsN/pRkaZVO1r6Z2oOf1PjGV/hGBKFPKLi7EzToZK5dSG/SnoNiLubAwM53dBZSEeI8EUsc8JOS4KTjiCQIQOp3Xg7ayeTY/NZsub+zp7/7m0J2GI/Ttk53m39gadXTwlLn4HaE/CTGARC8ur6BxzIpC0C7+ficN3xYM4XanF3tgKBJKIcpNcZ8PrGV04ktaBOM4dfLNiYsjsRZVyGg06O05UqBFxpgG/ceqjdJuucVfYIpnkdlZMe+fRZ3RvyJXqQuBFdE10VSCYEgXH7Z9E77MzlrjAD5nJdKCkj1d2osWoP+ufIjlmun66pUR0fCOkGsJ9HTR5N+zzwKQbey80IfJ0DbwJERiS30Tk2QbmoxG6/NmHMV13OezvqDqqKv4AM+bU6PU4kNAsyltDF4Wum91B3B2agnaaN4EmXmxuAh2/cQRW3zxU8U/h/Mnv8NNtJRGgoQa1K0uYv/46NKVx2Mk5vme1GkgTnTZzjW3sFJq7+T5GSn6HyuKDRXYVjrJf4M8+zIrAh7IAiTxViVv9Znx9U8EKkCrltOiAaiamMXLyb0jNyiBJmLkXy1d3o7GPN5Cp09gwd+d79tDXT3uwM1aGs9XhCxCiHiUX4RbjawmJ5+7gFGYCi0zZiZraUUjU4sqqyDtBZSFSgrNpBxBIioS0PBcqC+fwmhKF6ZqLqFVbobduPPDDYZxu6zV2NOjtsF//FxSpb2P41N9RVyJBvcaOo0WDjOwVuhSTHuhVxL04cOM9cizG5XzXvZ3zbFjw89wBSTQwIuV3qFsCFL4GlcULR9YrbEweHU+8QHbGySBpHsOuc3L8VKpErdrK8JADRjcrVOYWV0RQqR9Lh/B4PCF77TonR0JhJWaTI9Hb24XFlVUE5RdgzXqDEdYoYX1haYXvJHOJN+X0DEx6INfbsVz0DjH72w6O5LeSbSz9Yv4E9WKYdfDbhkqU6u6SKUAofl0eyydV0l/54oCGVSlW/lGWkKR+Cxy83b+Asqwz6I7Zhdr4d2Av/IzXER/IIwXF2hoppLaD+ADEk0KYaG4SZneQl1nV3SWvoZCZ/H8Sh1RwhYq8jhDbfZat//afHFQMYdL14AjdfyioB8h23A56LT5gaNIK1yCZSj+C2bzXsJC6C7KuQfx47Fe+AGHTOI771HQOKP83+f/sp7CWFg1b3nuoGJwi5MQ/GKP2ADTjHHxQ+usD+HT/O0E7/qH3evpcUllIF7iB82kRJTCTM5BqbBi2BVAboqRFpU439eyhAgVCb5qOFJKobhImV5AVOpQQSzvnhsvPiNSodMPDbBJBDf82S6jYs2B5lXl6qfpaEUyJgjf3jW2TcXNjFryp+9BtcKK9q1Mk3avXKhknhBYZY4oW6HUqBBIjoelvw3DZGQHhfRL+tKegrr6KatU0muKeR+6p9zB17hEcu5jCjInDLZOc9zux3T1NJio6lWgb3cgoxw0hyTnlTNxvAULVnAy9deQZfnonui7wRP96rR1jDkEzreBVMgHlYsjshefKAVy9fBKvSDpx+GoHvkkm3itzyVFo0ZrxYW4vnksmfIpnN3FWV1l4CeVatZWdF5/d6Mf+S2QK1TxM/IXCKZUqBLxZwoeyijr/dRw8KxQKRWWanaVHRcXBzjgZXuO+ozqNDfUaQqb/slCB1KwsTMT9HY0X34Au818bJgz/4j4nhSlPCApu4fq1XI19Z2vgT4qEuuU2Dia14gOOZ0xXdqsBDVobfLmvwVpzIexxK+gmk6XppCfhLD1KCkrtEAq6jYyAPmgiTV4h0V+qscEwMwurbx5Nww44/AtoGyOcn3qtHcM2P2kk5ByEzbeA4fgncPrUT/jtjppwwQSojcXrr0JXfh57LjThsTMNqKLNKAGcncbSzXcwcjuOFWadYy5M1aeQc97kengLkC8LFXhV0on9nI5xTtuEuAAZN0F/cgfScnIQWFgGrEqspu1Ge18fBiY9DCO6cPtzxgWYsLnx2JkGxFSEJ3Bda5vYMEmgjuN5HROw+ubhX1hmrt1Udu5CnZ5xOIQVMJUSFGqMT9UTFanx2yfRNjrDq4kIYkJAqBZeVM3DDjjz3oGtMhZzaU9CU5NOsPdhsLx01aqsaGtrgi8xAktXH+e7/RTmQaE7NPmmSabgJKImNBMzs3BefZaNp59NasXBpFZGfvrnlXa8k9WDtlEn67zJtQT2ltQwgoXlVbi47t2Q2csmXK0jRCUk+3YlZpMi0TfQh+XVNcy3JMORcZjdgNpHyXhzbXmR78RzfhoUlkChBav5L/GchfHGzU86RiRX8twIffXGYgPY+AAeuhm+S90cTwjHACk+QhMsmuQ5dOTn9sRtYSiOwAJu5SZAGfMIRs7uxlhNKi+MQPfLM0l4JJJoYHlhy/fDzTfuaVIyE1hEn9FN+E/UJZtyWm6+QfxLQBKN1vo7WEjdJT5mD0FQ1/pNO7t/VjSc4guQrUjXywtkm+uHH+ifp/wyU/a7WEzfj+Wru9GmHMWx47/xBcjyAoH0tV0mL6r/jUDHACD3eaxJomG98SmqVdO8eeEfCMPMLIYtHOwz1DTzr9gyvMElyLT2DZ4I9Ro7ajmX6ia9Az0TLtRryXNEriMP/4FJAl2y+RbYc4y+nnST7WGfSeQPm0QYbwBAWwJRd9skzO4gS8jSW8axM06GmArimG1NP8wSePpMpypQjrJjcN3896bPNSoZu7Syxquq9RKI2VaFC12G7ir4EyOhGjejjZNfp2pctBCizUKyTzUYUXbDlxiBYc0g9BWXEEyOYvwQd9qzGCy/DKXZC3f2EdxJ+R66mB345tS5LVWdLA0SRgynAi8UJkaX2mjj5HkroLL48NmN/vC82G3WbDrhs1BkRsupp6C+eJDPMdQ2cZMm93lAwRvVjtoDmEl/EeWS3xF1To5H42S4eYO812xSJDq1BnxZOIB9l5qxP4E34Au3qJllvcaOq02Ec3EkrROHUtuY15fFQ5pfoegXYfG5sLyKNk6aX2XhuUHCJnG3gag+GZrI9+kq+gIqC4Hx9U648UxiC05XaljzslFvxxMcZ+P4mTMYO/135J39FNUxz4usDSj/9pPr/QyZYfMtMA6LTGtnDQGl2Yv6/hEEkiKhba/Au9d6RAWaYtKNyLMNOFo0CG/+27BVxYU9bl/fVCA6vhGzV/bAdvcUVziLp2FNegekGpvouNVpyHdLRVGWV9fQy0H9qZgDcg4CGU/A7l/ARHw0Tpw6jthKLWlIGJoY2mMp/wh0dy7h+ZRWPJPYgjq1jfBEVlfINsO17JxZLXwD43fj0TI8A5nWTpof3ERvbKDp4SxAPsxoxt6LTdh7oQmf3ehnEnbCg9ylHIEuZgfybxYSbsbMCNYl0Rjo72I3WrnejuXi9xncxGxzYvd5OX65rQz75YZK5KksPpT0mrlx3Ah0Vh+n7EROsGZOXi9FPsYUsvQ2Pxq46cWUNBn+rBcJqUiegSGzF6byk/AlRsB06zjhroQJymcILUBaR2fguvYqrDUXEMh8Hpq7SaKu16DJK9p3ejGq+0gBwlyHpwcZqRQqzoiOJt/KEvJfQzO/QxwBado9C0/y4+xm/Wp6JxvDtQw78O8b/SKDIZXFh/IBohJxrW2CFBUCmeG8TlLwSTh319tVXAEypMTq2joWOjPglDzPHpIMozrvIft48w02/nfOEgd52llZy3qKFE6hcLLQcI6JyeYZe4mELU22FwWwnVB8fG8mcOPlje/Zdpl/KJd/BjSdDTnRBVMXAKj5kcBztoiZwCJu3UiDLmYHLGcfQV+HnMfrLs2RIltfTXT5M57Ynrxc+gFH0J/ecrPg0grv80CnQpTTInBct/rm0VtfRBTntit+/uSYXyIPqf+kY/9AgrrIZ+zdejvqWi80pnxA0TPhwuT1z7F8dTfW0qIxMu2By+2B1+vlScf9uaS4D7rFBfSNI1iXRGOq6FveXPEPhsUTxKSTuwf1Zj6AT/a/E1SdLrQzXKe2iZKfQZMHtWob+o0e9vCnifv80irzVKKvpz9v6ulCm1QjUgKz7MkQN1vCxLRAMphyOp9PacP+hGZm8KYxEMg1VRwydpbBXfgxHOW/bprAUv8oYeOvu6ebdLiLv9r0dXSNqPvhS4zAqLoXnS28OafK4oN2bJKDSSezAsTYXoKxnjr4EiMwabFAW5XCChD1pAPO9EPQ3LmIgUkPUfuRJsOdEImbOclbmudN1acyYj11t2b+JHSZvQimPs6amELkwP0sir+nDu7FJ1+D4eI+0fkjatJkPgmob7Efze4grFmvoyuPOInvjJNBfzeRFSC96mH8fFuJRzlC9OX6zaWCZVo7lBYvWkdnmD/bExeb8HpGF5r0DqK+ub7OIELC17JGJHeejjkC7Byj05EhztdCqrGhZWQG7WNOKKslpEAtJMR7qcbGrAGUZi/hp4450TIyg9OVWpyo0MBQL8Gs5GlM1VxC37lncCiV9we5O0hEjVLlo2jQE54kU4Q0uiHV2Jg1gMriQ5d6DLPJkRjrqcNPt4bw2JkG9HMQtfKBKeyMk+HtrG54bnzAuE7CpTR7sf9SMz7J6xadn0LRgkET+dxCJA7JHwm0cnWNeKABnECElhgNO/1zrDnm8PhhiY/EsVMxiK/TkzyVqnLOe7GS9xKGKxPx460h/FKmIq+fXeQtAIT84YJXYa5LQrliCgOTHjINNXvhz34JtspYtGlMD18BIpEpGfTqknQYUefkOH5bPJbMl3ZDF7MDMuldAg/hOtkjijbIdQ52o10tfJ08yCXRsFhJZftd8WDYi2J/QjM+ySdj2CGzF7UqG6QcRjBJNoI6tRUKk4fxP2pUVg4Dx5OcJ11zrOMzXXcZvmsvc5i+RMi0dliKjmI+JQqLNcc3PQ7hJIKlGhvax5xwZ5Cbm+/aEejKz6HX6GIXaI3ailq1jSXslKjn1pPRNNPcd46SJOfWv0jnn0b6HpJ8UC4IjYkWQBINt90CX2IEw5F+lEf8Px47Q8wRqaSdQuC+ntdBSF4lvSbmd9BtIFJwVAmLSsjJZdUIJEWiT6XD+vo6lvry4bn6FJum1Gu4EbF/muxj5TcMpuKeW0KdmjxgW4btRN5TVwlkHWA8hbDh4OR2nWPkZ8prGJFuhMpQeVTKm2hPJPj40Oi8AhS9Sf6/9H2+m0xjwccR3zkJ3KI3ifP5FuGaXcTt4hzoYnZgKj4CMqVZPC4veZcUAwP5pHO1XVBDvPtx2rZryGsop6XiS0B+mu2fuj4PS1ejH6hy04OIheVVdBlcIlO1/0q0XiTHL+vA9tum79kS2vJHY9DkhbH4R+IdE8akEwCBgGU/Tb7f7KeB1kvk34vexLokGpZbx3n+0R+MtbV1kkDkHCRT17/inkNoVhvapKKFSZ2aiJs06R2oU9vQa3ShTmNlUqvr6+tQTXkh1/F49Ua9Y3up6pyDpCvelkDO5fLPgIovNt1c+CyjkqQUbuMu+IhXmGKJ9m5MthbCn/3Spjh4lYXAzTrGnCwJHbb50d5DuBuOsp+3TcY1hin4EiNgHahGX1sN5pKjGEeEThzsFTzPw9SUi7GmAviTdsHhD0JTm465ZN7t3JH5MobLz6F3ws1UjGbT9sPcuLWc6nRdIvzZh0kxIk0SqV0JVyDjICyyNKgsPpyu1ODRONmWhc2GZXKzz+LJfxeBxEiknPwMtotRovOHKfYJ0QBc2P0LsOR+iInin7AzVoZ/Xm2Ho+wYgqnRCCRFQqFSIrZKy75j+r0PmgjfQ9iRp3L9AyY3rneRHOGRWBk+yusTSfmP2gOiJF5lIY3IQRN/nnqDS5DpyPVAERAmF2nidow54Ztfht2/AHUlSdg9N97nlJ+sIh5Uo96BQZNHRCQnctBHYGlIx0j8XuzjRBRUFl7Ct210BnJuckh5dlKNDZ3jLhEXpWNIj2ByFCYH5UhsGBHJ5lIY2rOJrXAXfhK2+Kau49ly4mNjbMoTEbpVFtIU75lwYcgivrbZlEMQRucsKoemydTTY2cFyMyMHbb4nfj+VCySGkZJo2mygyFC1vIOYaQmBd0GFyv4/FxRA07kiMX1w3A2paFJ72B8sCGzF9M1FxHIfB6NQ8aHrwBp15qw90IT+4KeutyMz2+IiVmnbkihP7kD/R0NBB7CqTjZNS2oVVuZS+p63iFGRp62TeNAQgu+LFRs+HKrlNPYGSfDlUaCo+udcKNKOY2mYQfjjXSOu1ClnGYqTrf6yXSktTyDjKchNomarrkIX86r8Oa/jenKM6jT2DBf+gn5Imt+3PQ40BG7sMNFT2hPGrm5efPfxsitk+ifdEOuI5OBeo0dAyY3atRWDJq86KRdIkMrkbukS0isFkbmk4RUGMqb4AjZc8Y+YjSXTIiC35cOYWesDE9yuE0qo1ej4i86qoEu1fBSuCO2AOo5CMFjZxpw+GoHdsbKoGgjrrn9WkJiXlOWIJC6F60cjrlWYyVdbDq1aDxDusnr6+yYdYw50akzkgJkvJGotvTnbn7ShfIx6NiZKl4Jk2k2uegjP8tjNxLMAV45CCA42u508e85RSEM15JCMHOfqNMULjxzS7h9uwi6mB3Qp72FOnosaDTHk2JnG1Ioi8pvyT4s3Ic0LYWrVf9AfhaofQUWljEqzcBS5lP3/n5/UiyvrqHP6P6PIEMPJDqSyfHbwjeBRdZ+4NaHD3wX1FNeGMtPketjK45JTwa5tlov8Ypd3NTMfOfU1lCd+wm/lVwPf8U9x9ziChr19g0qjnUaK5su02Syy0CeWSP2ABr0dnbfBThzU4Hk6QYITrgofZ+cE3SCKokm95JNQqjY1TXuZMlpWvMYXEVfkAmCkU8CZ9MOwNyYheCVPWGN3+hqFxRSAGn8NfcMbJBZ3WwNTHrgvnIAs125ULVWYDYpkk1iaLLuLCaKj3NpT2KqPhXjNSnwSA7Cv7AMTX0uKUBSo6Gy+GDLeh2G8lh0jbswl/YkTE25CGS+AIvsytYFSC3JEVQWAtkmx2OjSaSQF5DIqSq1hvB7tiy4JqZZATJ3ZS88CcQF3XXpMagnZ7gcw8p7vyzOboAvu+eWYLzxFWZKvsXhq+1IkI7Ak/8uvHlvIpAYCZWyH4kyklgLZYdlWjuahx2sIz8kkFA2OmdRwk3GdsbK8HWhAo16PqGl4jLCzxLKVaEcoG6Diyk6zS6uQGnxsint7OIKhu9ewlxyFLx5bzERA6oERYuiSdcca5CqLD7YK2LgufEBTC3XYYmPwKOxfOH3iqSTGfw16R0ILq1gfX0dvUY3yhVT7HPS/W4dUGI+JQpWTRtuc5501PX9q0LCd4482wBn0ecionxowTOkG0YwOQqd0mLMJkXC0F0pKjSmvPMwOmdFx00qLC65sPrmUamcRvuYEyuOEXY9u6dG4bjwKL4+dQ6S5jFiLC0QzlnPfR5jdWloG3WK4HAAyLNtsJBMzQ1NQN4LCHbnYmJmFnOLK2jSk/sTFWOS92kevgJkKvkZ/JZXg0fjZOgzuvDyVeKUKfwyPkkpw3js36HoacHy6hpj4M/qiGJVPTfiQ9Z+AiOQRMNuNeFgUiubcoT7crvGyUXSbSAKDA1aO3afb8TPt5TsxkVfc6NrEhGn6+C+HEmIwCCJokxLqnFr9Xl4c1+Hu/ATWG4dR8vIDFYLOez93a82PQ60iqYdAwql6p5wwZe6D6amXLgLPsJY0TEMmr2o5/5eI6eoRSv4lmFO19vQxJFaD22ttnTtWdKtF8KDANb5X9ZWIpAUidnkSIwOtjNznRevtGNg0oMqJYFbZbbymNcz1cRwsG/cSroqEN9UDiQ0I/KsHI/GNUDTTt5fMWokf1d3Fwupu1DPTXVkOq7rSpWeerMYMYrCElpHZtCr1JCCy9LH8RTSyPvZVIRrMVjIf7ZQ5+frh4G+bM6ALaRDTKFfE63k59pjRIEqNAbyeLnKvBfEBoM0OK8VJn9s6trsdABAitKq2kroYnZAeevcRrIoJYkVvEoK7u2i9hjHFbmPqQBnRof638jPDSeBu18DNjUWXCaYpClYzvvnvb/fnxRra+tQmDybk2v/rKDFfaiUabjIOciTvx9gjNj8mKxJYOfK6uoqpFIppFIpVlcF0qtraxsNPLmpmbnmovih81f8qREq9y5MPqjMOU3wRu0BxjVsH3PijmKKySfTZxVtdDGJ862i5icyGUvfQ56twoZEmKDQWPoce+xMA3nOGpyMRKue5Du1gcxDsFXGMi7IZgk1lVqlYXYH0dRLVLQ2I/AKV7fBBXvO21hpOo/h9jIEkiJFiX/wyh4mpevLfQ3W6vMwlp2EM/ctzC+tQi0vxFxyFOauPgGVxYep7LdhKj+JtlEnm+IQ34ON3hHCZa0+B2/em6QAkWewiUrodu6Cj5hyEDUzzG41bPs56dKOjjOJ4mBKFKznd+Kz0wmEk8BxcKQUSgOE9ZOaXVzBRMkxOG9wHBuzF3NpT8J+h0h6Dyu7kdVK4FTvX+tlx1mut6N7gjchFiqYOQILqFZNMyj39yWD6DO6WWHp4QQXhNOeWrW4m7+2ts7gg9TNfWV1TeRjs7q2DmPFOQSSIuG79gpahmfQPeFiPCgqwOAILGDIzPN4naVH4Sz5GsbOMjguPIqo0zWQa+3omXAx5S4K+55fIvdDKiJEoGGCAqRXgYXUXZgZ6UatxoonLxF7ApXFh8NXOxB5lkDXTDe+FBHl6fqqUIH9Cc3Q6zSYTYrEQEc9/ImRMHbcEuWJnrmlDWalUo2NyOkKghpnD5q8fB4kiYbX0AdPQgTikq+iXDFFVFqFeVLOQUw2ZKFJ79gAh8P1l4hoUfrjpCl67VlgqIh9B/R7oupi8pbWh68AscU/isGOOmRwiSyVa2XdC6MbR+Kuw3z2EQz2tZMPzxE3V4fr0D7mRNnAFMZtHNSl4SQZLU0b8WJqO3M5F64jkg7m0qqyEDxs55gLdRobnrrcgs+FhCqzB7rhYWS2juP504XwJUawLvfa2jr6J0lFbLkbh6ms12Er+gamgm9I5+nas2SfOPJ0uKBVNL1g6Zirb8IFf9IuTLbehLPoCxgLj7IHB638F1dW2WhdRtUNqIQaV4htKgGad4hMFShPhMack/xbTwZmkyMRSIrE2EAz0jjuxhuZXSgfnELPhAuPnWnAqbtatAzP4I2MLhxMasWuc3K4ij5jhHeq4qI0e/GKpBOPxMqw50ITuupL4L0cAeUEVwyMSLF8dTekykk20VpdW+ercTqlmHUwKcYmvQMKBWdw5tARmFnLBVI0pO8h28tO8J+NqkZRKFLh6+QCGiraSDCn5OBRzum74ktCLA6NoZvkewbIQ1o4kmTHmitMpga4qZRp0/MBILjvzs42+C5HYLhHyjCnLNbX+eJxi44kC1kMR4a+jySSfv6mc+TnlgtECSvzSUB+GoHGy1gveuve3+9PDPWUd4Pc9Z8etGAOxxsKjbxDWzYp/mhMzMxiqimTcXmWlpZw4sQJnoS+VVR+QwqQ+ivsIf9X/PmxsLyK5hEHegyhBYgVvUYXGrR2dn9wzy2xqYbS4kX54BTD+VPZeCFnUnRPCRctF/j7aE8G+W/dL5tuLrzXqyzERI8+Zx1lxEtDZeKhOb6cV+G6+alIdjbcCjXNs/rm0ThA/Dy2mzrQAmaq5AesV34Lc2cpIaQLEv9ZyVMIZBzEXNqTcBd8DPud32Au/AaO4q/IM7b5NuaSec8RS+4HmCo7jmadlcBjOm5tSSamy1YZC8914sVhbrzGJiqhy1l6lCWlA5NuHEptx94LTZBrt/eDUVmIF1gwJYp5gejjIvHt5VwmKEMRFOweSQUHrEPsGC+urGKs8iI8mUTmWDtmJKT2xmz4EiNgVrezaUZslZblJiO2AAZMbjRzUHH6LF9bW8csN83bdU6OnbEynKhQi3golDMqPNdr1RsLZeqdxpAvYWDA9uo4+BMj4c96EXUaG/RWP2v0Cn1ldFaex0sLv/E+KdwJj2H/6dso7jEhizMgvD1g3jAFsHiC6DO64Q4p8Fu6erF0ZRdchn7UaYj58stpHVCavdh9vhHvZPVgZ6wM6pyvwvKY3s7qweG0Doyo++FPjIRO2Qtv4i5MthZw5wW5hgPcdS+87qQaGz/d4iLACSqNO2Z58RpJNPw6OeFH9Uh5+4lpBS/Ak/00pltyucnWDBQmD/+mBa+ShoQkmuRHWftF6A4q0qTX6xBMiUJj3Z2HswChjqUqCzFeeUKAvSvqMeHI6RzMXHwUgwrO9IQSN3WV0Fp9qBicwrTdQf6NS8ycU+M4ktaBN0OmKV0GJx4704DfK3hd5pYRUiFLNTa8dJWY69Dfjfc3IJj6ODLq+vHRqWQEkiJFOH9KvBsp+R3O/HcxXvgDTHkfweLkdJKvPROeOyCIYRvvNdJv9KBJ78CAwUYq3s4y2Et/gPnG5xi2kSpbWImS0TohWJndQV6/vTt9awWe64d5qVChP8TKEpe4x2A+JQr+xEiM9zeglNPL/ji/D3JO8pHC5c7XkMnHc8lteCurC/6811jiSqcVikkPPr1OeCTPJrVC31IK7+UIqCc56VtDM1bTdqNZNY4q5TRvfDbeSPaHGgG6xonJGjexUvU280k9LRKazgEl7wH1v4t9Bzh+C4OZFL9DoDID+Rs71evrpLKnJKvSD3h8vDDo9CQMjpZF4Wvk+9BXkffcSpYVgH9hGQ3aaUw05aN7zM6KTVGsrRFZTGXxlu8FgByP7cjQobG+Tl7TnkR+7kzlYRi3PyIdj3uZvvwXgspk/1djIP/eyeU3jmyUb34A4Q0uITBwi+H376sA4XxMuUb3FAAAIABJREFUppqvocuwuWfNX/F/G0sra2HVgeo0NgyaPKgcmg47oTK7g6hRW0WdUM0UIaK2jZLO5PJ2RSU9h3MOkglZxl5yT90kKCmXJmE/lQ5BwsmFUo6FMPH3XH8PgYznROpY4Vbz8IyIB+AILKBBMUIS4qacbRNyuc6B6boEoOBVOLuL4U3aLfo9cTLfhUDmIThLv4Wz9CisOe/CcTcGy6trULZVkWZcxnOkeMj/BLbbP6NRNcEpVt1lhctW+2GviIH7xodQWYgRo73iRPjt7vwGd8FH7OcGrQ17LjThiKBputUaUfdz/JhjmEuORNvJJ3CxsBJzyVFQ9HVuxPLPDPN8US7W19cxLM9HIHk3VGYPRgfbOTWjRvgSI2DXNKN9dAb/yutF87CDnZMO/wKUFn6qIPQbocX0vkvNjPMrhMqGWhswL7AQ/pmK805rGZ4hpnjhzsWaU8SOIP0gmXb4FxiXqHOMn5wIVUh9OUT0Z3SoA/7ESBw6fQNXGsfw2x01Is42MCM/qshGP5NnbokZv9JJZWtXJ5au7ILfpEK9xo7vS4YQHd9IvEjiZAxa15H+FVw3P93wHb6Q0oYPc3sxqmglYgiGYXhS92GigfCMaBN6YXl1A0xTqrFtQAAsrhBu5LR3njRJuWf5rKKMTLT6GnnfNQpV95qArP1wdhagTm3jm9w0it/mkTb5/9xASh9zBIgwktFOCpDyaw9nAWLoqWYHnpCuyJfdOjKDH0uH8EZsNvyJEVAqB/g34LrNVt88GvR2OG1cFd+XDUii4bGM4M3MLrwiEetypzePi9zPVRbepKVp2IE3M7vx0lVed3uisxzBlChcLynFr6eIeRDrCmvKsHLnK7SNOWEu+x2LpZ/AWBYD67W34J/hyNOlH5BKcYsQckloha0eN8OfGAlDTzWmbh+HNe9DTLrmUKe28nAr8F2nWgrT0ZSTE8FtIN39zaLwdb56papQ7NgeAG5/jMXUXfAlRkDZVoVaFVGB+I4bm9aqrXgtoxOvSDrxQQ6vA16vsWMu5zDpugOsWOgzunG8XIWdsTIcvtoBQ2sR5pKjoJvmHiymbqxLotGnGUaNWoBPpQUVdf2eHiQ3smEiP6fvqmGEKdQeI6v8M8LZ6EgWS96GupJTZaferPCd6uyn+AQ/HL8D4CczVGlMgKNlcfsjsj89GffUEacTnoFJz5ZdnnuOtsvks9xv5D7Ha8MP5BP+ijyWkJVlJ0iX/K8IH9TI8V7I5TffYPyaBx70nK/+/v4KkPrfSQHSUSTuev0Vf2pQP5dQ+XWKNy8fnAqrZuWcXUTr6AzBdHMx5Z3nmlXWe/PJGakj5w5V7ZPFbKli5t+EMK+y8LKzwn+j049g6uNhoUjC57OQMO+aXYRskMCMJtuKt03I6zQ2OLqLgfQ9mC/9FA7JIdHvfdeOcJ4ir5Pkv/ATzEhegEOegpXVNQx1yTCbFMlMDyevf46Z0qOQK/SEGNwrhbP4K8zc+mHrAoR77+3211p1doMzPJWx11SlYbxPtuXrabEwJU2B8+KjqIl5DpWtvfAnRqK1sZZNAOYoryucES+A0b56BBIjoR0dh7G9lFPtGocvMQIuVT0UJg+bdAj9OrTTPkaKFprC0nOZyvlntoxvSJR1Vt4XLRTuRGPMQXiljXoH1FPhhRTmawhUzHvlSTSPkPegKlvNgsJFqEJKBAUkzCTzjdhsnK7U4uO8PpbfUEW20OJ9aWUNbaMzzJi6rbMNy1d3Y25aj0a9nTmuv5XZzUj7T1xsQm3K15jOeW+D9cTeC034vmQI6s46BJIiEfTY4E1/DqM1xDVd2IReDrlHUEimMNbX16GZ9pFirieDPMMl0Qh25ZAJy0AbX5RSARr3BJDxBDy9RczwUaScdutDvilJl6ABO+2dRy2X13pT96G/LOnhLECo5rXK4kOqnHxRx2+r8CiHFTyalIdAUiQ0GoGKU+5zgOIGAgvL6DO64Z8eJQeAq+58Fh3eu9aDF1PFJj5f31RskN+Vae3QWX3oHHfho7xekbwsNbS5k3sRqac+I94HshNkH9oTgRsvY9obxHzdSaDiC7jlifBkH8GqY5gfWW+DA3fPLaFeS7CPlExumJiALzEC4/0NmLxzGo6ct2D3E5JfaFehZWSGh+moSu9Neaf4bUKqlkTzqlA0rh8Gcg5i6cou+C5HQNVSjlqVFR/l9SGr1YBBkwf1Gju+LBjA/oRm7LvUhC8KiXBAndqG+exDLKESksaSuKr/nWs9mGovxKpkD3OcpzfB8VEdu2EA4D7PfoF7exsWV1bROjqDGpUVho7b5N9Xlsj0o+JL0rEbyCcEcyEJmD5QKRH2zmcEhrYZmVtIas85CAwWbNyGKmj5pjYS+mn0XSMXfPUP9wS1oQQuOg1jErx/NLol5Hq539BX894hi7Pk/6lnSukHW8Ix/udDfYs/TttFybtbdpb/o6AQxvrf7q8AaYwDJNGw9laIHZP/ij81hJj30KRaPeVDtWpaBE+iEVxagcLkYTKcAG/S2Wd0bz/9AHjIqMAfYqsI7QIL13RtwgbIkbP0W+I8nf3Shu2FS65ziM5BX3AZMo0VzoJPMKLe3H9CWKy5homyz4pkLzrbxc9/yv9wF/yLJP95b8KbFA1n102sra1jqLcNsxyfQGXxYaLgGziLv2I8lLGBZszc+mFbSWBH2TG4ij7fdn+poqbw31pHHHg0TgZ94gtwlB3b8vXj/Q2cnHApTGf+gfLYV6EeN8GfGIleeRk6x13iqdlkJ8cXFRvaGkdU8CdGYnSoE1PSFAQyX4B60gFfYgS8Q5VQC5TV6GRgcWVVZK4sFDug3kQvcUI0xb0mUYEMEPWtOk5Yp3mY5A2hxTU1OJZxjt/hYqX6J8IBSX4cJu7va6fJRKZe8Dqm3MZU2QqgGxlDMCUKX56/iqNFg3jxShve5VAxdHoSuk/Un4b6kXS0N2Hl6m4sOsbRMjKDrnEnPi8YwM5YGaLjG6E0e/HS1Q6UJHyN9vMvIuqcnHFf+idc2Bknw5kaHRTy26TpvTSH2Zwj0JfHQ2XxiYooAKy4EnJDQoM1MVs4ERtJNOabEwkkUdGNBg7SBYeezwvTH4d/4Bbq1FbUqa1icReqrslZX4gg6wDzgescc8GRcRhTlWcfzgKEEmtUFgK52hlLdKffze7B9U4jBrvlCCRGQjes49/gxstAbxbW19dh9y9g1aomB4BLCANmDT7O78PBEIfO55Lb8N41sZkLvUi00z58dVOB3ed53W1jayH8iRFouvolyk69gsUru3gyctM5vriQxQCV32CtPxcrOS/wPgodyST53CKCSytM0YQqfkwZRwg2b7ANhrvxcGW9zNSfalU2TMzwnhUDJje7+KmR4LZR+gGvbhJqUMednCtZTxElh74K1iWo09gwPjOLjjEnfr2jZt9VqnyM/X4h6yDjJqyurTOiPMWMfnajHzMd18WFEjcGdhpV4q4GJXkz45saVvFXDk3D1HKddOYBMs24cYRsZ2hmniZY5To91HiRXoiV35LvrT0pPEyu8DWSvK+vc+PFOxu3MTSR96RdAwGOlsXsDI+lbj6/7VcjJJ7KdQ5o/tMEUFvx4FSWvGbyOdL3kGnIXxE+tBXb8r9Y3PrX/92xtHH3xaaz91eAtFwAJNFwKGWie81f8ecHTWxCk2oqW7pZgegLLm8g5w6ZPffu6TLnJPDSmeF72pxCaMIpNllkVzB3Ze+GhJwk/h9vmVA3hEA/hBPi7ZJ5BuNxTgOZ+zCvvLNhSuMu+BdTwpqSpmAu7Un4EiPgVEoBAIOKHgSSIhmB3HDzB7iL/o0WTgp4dKiTg01t/TnupUhRWcSGhcL1z6vt6D+zH578d0Xy96HL0F1F+B4DbRg59TdUX/4EKpML/sRIqBsK0aR3oG10hi9CGTJAPBWz2J3wJUZgoqsCjrJf4C78GEqTh0CbFGUYERQaQlTGmIOX0w3tmvca3Xgzsws7Y2WoU1sJ5EcQK6tr6JlwQa5zoE5jCyunTknXUs0WSm5VR7F0ZRfxQ+OuAepcLiS2O2cXUaexQWOYYnA6Ks18IiEJH+T0Ivp8I34sHYLKwk8ewiESKOdBMelBd7scq2m7seYxMbEIpdmLn0qH8GPpELoNLnyY14u0uK8gO/kUdsbKUMGhcqjlQ0bLOAakN4jf1toaFgrfxvDt0+Sa0NmhneavCcpl2Qy2Joq6X4gya8YTWJSehD8xEkNDCl7t0DnKI2Mk0ZhTVjBvIVHBePdrsh3XrCJ5VxP7NeX8yHR2BEo+g+/Ozw9nATLZViS42RC/iP0JzUylamygkeDUxgSd+qI3iQcDDcoR4Kr5WdMQvigYwIEEXiKubcSJR+NkOFuj21CAWDxBmN1BHC9TYWecDANGcoGX5ydBF7MDHWefQ+epJ8jJQHkF9b/xyb70V6DqO44TsI8kq5Jo4jORvmdLv4S1NR77SAl3NoMKvsQIjKh6MVKVDF/G8+zGW6mcFilDGJ2z6J3g1CT6c+9NeafsU94hO1Sql55Y3O/9g3eYhGOdxopp7zxG7QFclA6zAqR1dIYVIEsZB0h1zEU399laR4mZ48+3lHB35IgLJU4ham2yW9yd60rjcfTZTwHKEtYVvKOYwnRjOi8x2nWVvxDcBl7PmnZ26HdDo+YncjG2XCAwqdAoeY/Al5aC5H3GZBu3oYoRY7Lw0yQadb/cczeRYmV7J9wbcZd/JNbXt3bjvp9YWyXmh5Lo8JyYv4LEcC05Rnc+337b5vNitbYHGR4j2Y/2xPsrQDpSSBPC1Htv3fK/4v8seiY2JvV1GsL5a9I77qtA3NR4cNMX3J9sspDPKFzmxizMXd0n+jfb3dOMq7BVQh4qxSo0uN0umRdi5bGyFFZVzFX0OdsPc+M1ooaVGAH3OFGHHFINIZAUCc/1dzFk9mK8+Bf4b36Etg4CdRpR98NWFQdv/jtb7ouz9FvMlH637T6bmnKZ4pZw/VauRndMNCyXHkfU2QbktRvDvp7CpS6UdUAXswOKAsJN8STvwagsGzUqq8hXhcGcQ54RFk8Q7tQnYZZncoZ5JzBo8sKbvAfB/iIOEm5j3xGdKky65lCnskIzPsmkYmkMmrz4MLcXu87JN5X3nvbOs8leOPGLmQApGurUG/0uWNz5nG/6cZxLiyeIOiFcHTxvSaPTsWkWnYYkJ1/EsxxcLJEzWqSQ6HBBi4DeCTf6O+qJ/5LfiiEz4awIv6O7g9P4tmgQF09+g5aT+0UyvXntRhw5nQNd4TEM1WRiUfIEAGC59GMYSn9Dv9EDqUbchKYy2xv4PeGCGibnHMTS3e/gT4yEQqVCk95BYHmucb6ZKonGorYGTcOOjd8XhfBrK4ilgSRa5Cm3ukb8h+z+BaDhJPw3P3k4CxChBviQ2YuP8/tQ0mti/zbeRyTIxo2T/Bvc+lCcABmaRZ3ooEmBo8WD2HuBJ7Rf4XB41app0clAZctmAou4UKfHzjgZ6rVEVeDC+RPQxeyAJuZvGD71N3IyUPJt9Q98F59WlX4rIRoXv0MmH6Gwn02COlVSyM3M+AB8iRHQa5XQ1EgwJznAuA/VqmmRyoFvfpnXfe7JIFOA7aLiCyD/RbJvAZv4d5ScXv5vIH0P5gbLGLmQyjdaffMo4EyFhFMmqcaGZcle3kEbYONUlcWHszU63OwxwdeRLS6UVhb5CZYwqA49QKBhvVkASFewbGAKjvrLPHyKGium7yE3nVDjQWWxeBol/ZWQf2uPhfdqoRdqGJlCFlSulxrP+SzhjzediI3Lw/9eEELYmhBD+9BE8dvks1DJ479iY9Cu4n+bJyNQtbuvAoSqHtm1f85+/hWbRv+k2CGawiwc/gWeWPqQxLR3niWlwqUbHoaxvUT0b9aaCwimRGG6NmHLhDw02aJ4+1BifrjVMjKDXoHUa7jXUolgW2Usg1z7EiPgsRJkgEqvQyApEu6Cf2HQ5MXYrROYK3wfXR1NCCZHQa9TcSZ2r2y5L67iLzFz+8dt95nuQygvplI5hf6YCOhiduDJ2DK8mdkVvoBpuQ5fcjR2nZVh4sxOTElTyOe8+iwmpSkoV0yJZI0ZzDkkprzzsGa9DltVHGbTn4GlQYJ+oweeKwew2JvHoFC0MUkLDbM7iM4WKeau7IVsyCCaYmimiVw/Ja+Hk/deWlmDwuTZVCbaG1xCvca+QWRBFLc/5qFBi+TccfgXUKOaFiXotEuvURDH8WENkcqdlTyN62lxzLOEmgi2jhDzv3BhdJIJS7fBhcGOOuK/NDuDSdecyINnYJIUELFVWpw7+R008fuxP4H3v7tYN4wTp45jNikSE4VHsZhNGrVrd7+GpfQndIw5N3iD2f0LkGqsGOmqQld3+9a+TdSu4MYRLJd8SKB56mEml8yaVpY+QBKN1WEp2sacIvI9AL6palXycKxwORIAdKbCn33kIS1AmnK3vCANPbXwJUbAaJni34Di92kM1/DMfUk0FiZ78fNtJXafl7P3+aJgAPsuivGfKosPdWornLOL8AaXkMlJrpX0mnC9cxKnT/0My7lHoIvZgdFTf0Ow6AOe2HznM15diHbTAZLMSqJJ597QxJOUtwiqZtWgtUNn9cM90glfYgR0w8MYqsvDwpVoLK+som3MuXEUJoz7MafjiEih2E+0xHPE1R+AzCexNFiCJk4ej+ILnbOLqFVbEXW2AV8W8saRdSorGXvSffAYYa1PRoOO74pJNTbMtqeTgkIY2U8zHWkW8ljefbfkXaZA1jNBChB3TRw/vVCWcMf9NfJzwEZ+NnPqaYrrYudw+WkyzSp+h/B5wh2j+t95M0SHbuM2ACn4it7iyfDhYm2NFFcr28MfhA/Juq3GzP+toDeerUwf/9eDKq5t4ZvwpwSVU1Zcx/r6OhwOBxwOx/aiBgN54eGZf8WfHhTaIWzS1WuIZKba4uP9HB6CCGesu9maqk8hzuPN+VtuV6exweQK7wWx3d8InSBTHkK7ANJGoWDTtQkw9FQjmEzUH31coqQeMyKQGAnXzX9jYNKDsbJYLBS8hb52KRFSGR6GRXYFgcwXti5Abn4KR/nxbfeZGrcJTRtZIXf6UYzH/h1XC2/j0TgZatVWvJnZha9v8obLZnkmhs9FI/p8I8YrzmF0iBQqtowjmK6JR7liSqweNZAf1qjU6puH8cZXcBd8zMGTKtBjcMMleR7L3VkMCkULYgrts3iC6JORKUxz36CoWTpqJwTyUDWp0NhK9psiQWpC/bGEUfwOyQMEz2Qq2CNUlaRoA21XPYIpUdCNECi5P/slVGaeYAiPnglSsAqhZqFBxYTaR51Qt9cQe4Cgm0xs1FaWd9KpXEH3JJLif4XzytN4N7sHhzj7iWO3lEiK/YZIKSdFYzGPayjX/ISZW0cZPE1YoFGfD1fOGzDcOoHg0hYFyLVniUhK8TtYvX4EgcRIdGkMfEFIYdaU7zkuR8+Ea6MYDpX3X/Dxlg5T/eH/5tBN+FOffDgLELM8c+sCpLuSaE9bZ/g3qDrKEzdnZ8jILecgg/IsGrtwokKNiDNEUSunfQJPXmrGh7livfEhs5fpHwcWllHSR1wr05vH8V52DxLP/oxZyQGYzj6CyTP/QKD+LD9hoByKtTUCv5L+Sv6dQn/K/817T4Qm+SFBCTt1ahvGHbPw6pvhS4yAdsyIftlNLF3ZhfWVRXSOu3iyULjYjM8QGjU/kUmNJJp08YVBJXwbTgLXnsGqohDtY05Gdg8sLBN5Xa0dOe0TaNTb0cBJ7TaoLaQAuf4SeS9lCRZSd0GmskBl4TG5821X+UKBRuHrG7vqdLIEkEKk4SQAwnspV0zBd/c4gYwBPOeDbh86Vem7xu8XQDg8ZZ8QnLOyZOMxon+bGfNMhz+WdGIkib4/s79NQqh8s0F54mEIen6EO2Z/BQl63f+3ifrr6+SBE04eeqsYKgo/Hf0r/vRQWsQQDobznl/G4soqD6V5CCJUDWirZW7M4kwIq7fcLtw9sHsTrkm4106FTIj6BL5bKosPlrIT8F6OgLlBgrGBZuKgnfoEU4nSTFrhT4yEs/gr9E64MVZxHks3XsdQWxXmkomEsLkxG7NpB7bcF+Iz8fu2+zzeV89JE4uVkVRmL3FkT4mCrrEQkWfleOJiE3bGyhBxtoEVVRZpCrpO7RU1BlUWH6auvQP73RhUKaehEqiKoScjrFKnzbeA4VunEEx9nPNq6UHnuAuurMNY7bwKByeKQ80GadI77Z1Hv6wIwZQotHW2i4oECtuiBeR9QwLBFw2bka0BkNzi9keiexj1whAm0pSjqmsuFTnTe/PfRvu1n4ltwEUpjO2lUFk2SkILgx4PmdYOYw8Ha1vwY3aRVwJVWcgUpcvgQp3aBnNjFmbTDhCp3zMN+H/sffd7G2UW7l91997YiVnaEtpSFxaWXXpfYIFlWXpgWUINjp3iFCdxEseJ47jETtx777aKuyxbvRfLcpX03h++OdM0I8mOAwqr93n8QKSRNDOSRt855y3DRi9eOzeIc9++xk/i1i9wDe/GL7BU9jaua2x8A4IQXGVxB94Tj2Gh9CP14FiKWZiqBcpfQ+TE3Vg6mIXuCZNgTBC0CXoOTk87bvZLnOgAMHYIsVjIsts2Ln9FhplGBH/OSr8CxPLd72BuOJK4I9BTyQoQp6jyrPuYLaLXQqyrfe4xVn1xCc7rBiG9+4E8xuO748dWXOiX+o1ToEtobRMr6xE06my8TuH/fdOE6uNfIFj4GAKnnoA3/04Ee84I2oULTwkcw+p/8NaziEZZkVL3sSjURYWaw4EcRKq48KglXT1zJzBYMdBSzrQnqwEMGr2Jk4nbf2Ci1mSo/0RYNMunM6MX2O2dB9i5HTmPAaMXDToH/9piLm3vnAfXNFa0T7vQojUy7iOdo6EzWDu8G81DLKxo0MiCG9c789jUQIwK2VQLkJ7X3iNMf7DYizETC9paqnhPsDCda+GE//nC4wv3smofYAtn8YW28wDr/Mi4izxoQqIi0uNBX75jtyXU+qQK6vCxcMz4H9BfHaRvmKz5tfckfUFFKzVJfk0EbVvm8kNXLnS3MvhVQe499JuVEs/7V4R8YqP2t9B+nl/YJpuAyK+BYlqv2t+YrDNPkBd0hoqvEcjdhdmWIkxrBhHKy4L7xOP8b+yExYdgbhZcl99Hn8GDmeoDiJx7HLqOCoQOZkE7b8NCRzHCh/ZAY1Kf/PjOPQf71f8kPS+UHD05qZfet+hhtsXctOaVs4O8Nf7vRNrW0ZKv0LTvHpzqkhYwi2dfg6/iX2jQOTAp1hV25TK9owyO4Co0NUf519QZTOicccN9+mnEOn9mXXedHZ2yhGx7YBUjDey97W2vl7A1TN4w6nS2hFqKZKCiIeF34OwjjMEg0rhS4SK37u0zeDBZXygxSfCUvAbtmXfxu68b8VUeOwe6uYU4S2gxKMm9Qe9AQMv9Rq6HEY2yqRsZSTRNMBOEOp0di21nsXz4dhT1sMT7y0OL+POxHlz//m9YPnQbgrlZWL/MGZm07sdK6auo1dqkNsoQjGu8BQ/AdPH9+NwwgphOXv0uokdzsHQwC+0ToslQyCk4WnFrozlnKJ4KPl0v2PTT2kuNJWIZTs8CZHH//8H8tZ+hMbMQPiVnC2N3GQK5u2D1ihbKTV+yzjcp9h06djvHyd+ca8eBhmn87utG3PNzO053zUuoVyMLPgzMe3mv6dWNCB/6lP1tM7L2NyPnuxbMX/0OgdNPwln+ESynnsXS4EXWMQeEEJb1ZdadFzvZuKYYfYF0CJ65hOeDhOhXxyyw+FewrLmKYG4WRo1u9LbXYuPIHmDJAY3Zr2gDx6N1v0QArgoanyl17WmS0H+cTQyGTkNr8ePqqJUP8BF36dunXeicdeO6xoZOzSwrQI4z4RR6j2L98G509LExMI1eN9sPxFuU1n0cT1m58goLvQOYm1XtR8CJuzCtH0HVqAXLl99ghQIgWI6KwnB4viPAwvTERY84XE+JakLidO0VdjxqxQUZICRxO0sVYppAHadPSiuQ41cKepb/WXACPv6zmQaIRCJobW1Fa2srIhGVHyjCbCP7zCcJzczg5mPKHsTVUSvqdHYML/gkTbN0hNEdUtSBxP+uX1Hu9CsUIHI3JJ0oa0LtT96ZJ4jdmzTmAKYrv8fSwSzo20oxMTWJ0MEs2M+9xP/GzjiWEDi4G87yf6NnzoOZ64cQLXoI0+2XsHQwC5pFD38s2gWX5PXFNDH/2b/CVvNN0vMyrRnkxe3i28mdKZyfDVfZB2ifciKvaQYacwCPH+3Gw4dZ5EDt4fdR+9UfMSxyyho3+TF/4T2ErryN1iknDGLjgtZvFdcMzuAqBpvLEM7PRujo3dCY/GifcsF97nmg7TtewH1dY5OYBDiXVjFSV4RwfjYGWyoknXoW3GxPGCKYCvrnPWidjH9veZy+X2AmcGuvSJRZ5Rrd0oX0mMmP6eqfsXRCyIdxX34X8+fewu++bsTR40c4etYMmifUs0dowjJo9CIyVScRwJPGV2MOCLoZrQ0LHSUIH9qDXgNnkHRtAvcebEfvj4/DfvkDBA9mY6OSY3h0HsDmpefROukUXE85bETY5NF3+G5YL/xd3ThE7HBV/wmiR3MQPLibd0Zb34zyTXx+HbjQg9WNiHrTG2BNrtP3swJHCb6F9CxATN/+Hxiu/sC/MWTfJumUdF5CIHcX7OIuSNt3zMmJE8rwVAEuEC4624LmCQe+uqrn+XsacwD62QV4Lr2FtnEDqsetmK/+AZqOSmxEoohwnee7DrCkzs8rtXwokG5mHm2DYwiNVQm0q5N/4ChMfk6w/G38gVKAHhVICTBhC6Jm3ApHcBUro2UI5O3BwLwXPZynNLzzmLYHMaDCQQTAFWbJsyZ4zp6SQH6+g90+VsImBv3HMecMoXxYKl4jdxaq6KtGLegZn0T0KD3vJtDxEzaO7EFvB0u75wNSHBwPAAAgAElEQVR02n6IT9JWcqO6+Ix0orG5Dhy/HZauC6ges2Kl5DkmAAcEy1HrqLB9xRvMJg5g+hFx0UNC24IcZW1Gdz57/cFTTLCvhtUAe46zj6hvs0WQKxqly6YV1sPMBMJn/LX3JH1BjQela8KvhC2J0DfXAdf0L7NjGSSEJ7QGo3uZb0pQPtBymhYg9gCjoiRbaOtnjTA3FSScGmjMTDPokF0DSUuQ6HGdnKW9nKK24Fnmgxw15gB0V3OxnJeFkfZq6AxmLB3MguWyYEpicIXgy78DjsrP0DXjxkz9ccRO3wdjezGCB3ezKUr/da5Lvsjvc8ukA42cK5LGHEDg1BOwXv8x6XmZnNQze9/RTsnturlFhPOzsXTiIfjPPCW57yfOkbJyxIJL376M5u//LLl/dNGPudLPsFb6EnrmPFh0L7PG2uYam9LWvBf3PrqW1tDV3cZCGjmHr5ZJJzwlrwFNX/IL7tYpp4QS7g6tYez6SYTzsjHWeF4ypXByYumWBJOEVDBu9ku0HHE4cRdrXMq68uMmf9xnacoexEzZV/AXPcOfL+eVD+G88Dqy9zeh8kIBP5FqmmAaXSWsbkTQN+9hxbLMWYwcuNhnw4YpO7MqnuccyzSLXtx/sAP35rYj+9tmTPx4L4zXDsBy/jVsNjDaOXqPIFbyNHrmPOiZk+oxKIfEfzAH9nOvqDeoqVm6ZAeav0a0IAeBQ3egecIpBCySsY72ilRDeyNYC6VnAWL57ncwVH7DdzooEVxSgHQUw39wt3QhRmNDsj+lLv7GClCQg9hMo6J/+uww+0L1tNejddIJ7+E/YKHyP/yb2Wfw4I/5nbjjx1b0z3tgv/of+M49x/Nul/UNPLePX7wuu9liuv17hQPl+HRmFXGOCGZfGI16B9yhNawPFcN/+C7mujDQxxb1zkkseJZZBe6e5d0dJCBnp2QgoXlBTnxnn5JRJ2v4CYLZF0blqEUSikej7DotC8Vq1DvQP65j4iuaDDV/jc0jezDQfAUac4C3GUbrfibiF2PgRHxS+LnHWLq9GKfvh6P9JGrGrVg9+6Qw4YhGGHUkKroo1X8iTFXavpcWPeSaJRfDy/enKze5rqb4ydTE/ymCijsySMjgFgMZF1BxnAbYUgGSQdqBmhLU2ZcnRKcLyJEn2UI71T+54BbgtARJihy1Ra6F68Lz29awDndvZzM0i14s5WbBUvOt5LXch++F4+qX6Jh2YablLHD8dtjaCuHJux21Whv0Ay2sSz41yVPknEurwhrE5EP48O+TCu415gD0MwaWsC5LPNfPzPF5JcuHb5e4ZPUZPLjjx1bkfNeC81/+BYNHX5Y8dnjBh5nK/di88DQ0Fj/si1wn3NjJfh/rP4k7T+7QGpqHdGziwrl3NU044Cl9B6j7mNkhTzsxKVuQe5fXMX7tGJbzsqGrPSaZ1LlDTJDdpJfRwLaIGceSOhMkFhNcGmUNyeW1zTiBu8kbhqHkn/CUvM6fL5br8jKaJ+wwtp3jHLJG0ah3YFplv2OxGGyBFbaI11cxSjYHT2gNDXo2wWzUO2D2hdE86cBMdwWvPbkybMLtPzBNj/mnHMw2nESP3oCNMEeDHSwEzj0GvTWgqEMZXnDD//MuOIueUzcZMbQKzmCdBxAtyIH/yD1o0juE80lrW9IBprB2TYpYDMH8O9KvALF99zsYrnwpKkDiLyqLbWfhy7tNyuXsK2AaDM1lVu3SCY9scMLjOkX/dEN/LcL52RipK8LglBH+n3fBWvkF/7Sji34cbZvFxf5F7oP4ObzFL2N4wYemSQfCM9x0wLcgLOCDNtZZV8pF4BO8FTQGMnhCa+iadcO3vI6NgVPwFtyPBp0DwxoNW9RbhuEJrbFJ0On7lTMlav8taCISofNntl/k4iWG18CLj1D6LNCdB2dwFdc0VomjCAUO1XOe9J2zbgyPjgkFSNgL1H2MzSN7MF53BqOLxL31s9RyEo8TtGXS9xIATt0raDgIxU/C3ZyP61ob1k89yBx71ND+gxDC1/JfaS4DaV0o10WO0WJ2nlOZKjV8Fj/RuQGQ9WZCx7MM0hd0feg6+GvvCY9MAXJrg8TTA/NJdIC/MpxLqU1AUi5AFJowZl84Kc2rQSfNDyGwAkl47GhtIVbys9HR2w2NOQDPkb0wt53mtzd5w3AWPARbzTdon3JhYqSTOW1e/xSrhQ9geMGH/v4enjbVM+fhu8kaLi18YmqKFRVDzUmPVztv40PxxLdPTE3y+g9GCZqW3N8+5cRTx3tx5as/wXjxA8l9A/NeTNXkIXLmIQTCG1i1cDRaXXk8fZyDJ7SGeq0V4UO3wVrHaPINegd8Ff8Crv0TG5EoRhd9caF3/vA6tDVHsJyXjenqAxKalG+ZWejWae1SGtgWsegJo39ehQlC5jMj57gF9GDC53IEV7F49jWJRbK9+mv4zj0LjTkAU0shr1VS+0zFQZY5tsEFLNZp7WibcsK3vM6Kt+5qTl9j5j/rr53pwVJuFvStpRJtDYVMW/0ritb8E4sO+A7sgvt0gkYo6Tcjm0DvUcQKcuA99iAa9A4hG2Z9mW1D2lYxo+QGEDz5ePoVIPbv/i8MpZ/yVm5KF66FlkL48u+QcAkxdJpRXgZOSjvY0SjfvZf7p2vMARh7yhHOy8ZU5feY0fbDd2AXXBXCgl3OLXWWfwRPyRsYMvrQMunAysKQ8KbQQtu/yBbqSosNPsSuKek5WVmPQKcbR3BlHZHeo/CceBRVoxZMGYwcF6+bbUiUH6WCp+Y9thhOBtI/KPh/Y2OFUZeCViZo7/gJvmVmryi2hDV5w6jlHBl8y+vQWPwYHx8SFWZWoPpdRI7uwWRNHoYXfEJgUcNn8ZMaudg7FuMSyKuk211+Ab7671jmyLE7WRGqBq5rAIBLq39XuE9blpgmQxeRVM6p37SjmQlUrCVNNc0gPUGTz94jv/ae8MgUILc2SHhNNp6q9JNfGdTl3rkCJL4JQxawiR5Xq1V2EKT0a42ZdZJHG4qxemg3WgfHMG7yo6N/CAarwGU3+8Iwn34O5sbDTFxvtLPfpaKHgPN/gtEdQuvAKAuyG2lH66ST71CTHmZ2mCYkU3H72W/w4prGhn4Dp9kw+RDOz47LTZnUj7PbOb3J7HBb3HONm/xwFD0PR9U+ye19Bg8m6gsRJf0qmWT0H4/PVONAtrXGjhJMTuj498Jf8znftFPSGgRWNqCvyUfoYBYMFf+RFMrk1lQzbr0hd0erfwUaNQoXdfB1FSk1f/3hddgKn4FVZBBgu/Y9T3MzNx7lKXHyTBpVjJey4GQRbIEV1Gpt6Jn1YI2LVND21MbpoCamZxHOz8ZoV500c0R7BThxF2KxmKLz3YLJBN+BXfCdVGF0AKzgJH3ucBFiBTnwnHgUdVq7kPBO1u0DJ9h/7Zrkx5sCghdeTsMC5Pv/i7mL/2YWrpMONOgcGJNxQo2Nx+A9/Aep9exYCbOXFAfVEY79HtBXYswU78ax0FGMUF4WTBffg3v0GgscKheEz7NOKbfUVfYBb7/XNuUUOge0WCaR08W/sEW9HNEIVxClYIO57Mbm0RxELSOIdR2E+9RTqBy1wOxwS4sY1zT7t8LYFFVvpSZ8Jf3DqXsTb1fxOtD2HUJrm+iYcUlCrxzcVIT4yGZfGDPaAel5KX8N0aM5mKv4Gv0GL+q0nKd77UfxkxpyDKNkdo5OhxlZAnnVWwhc+wKNOivTxiQ6t/SFi8XiRe4TV7lKX2WCQjzO0ud+cSrNuJlR/pom09ftJoMEEAUApgsyBcitDaK89s550DnjStuEerKU34niY5zLPJHbraYyZanTxovXASH9enTRj0GjF6Ntldg4koM2zRznTiQtXKz+FTSOzkC74BI0AKXPsu/3xb/AubSKptEZzlL4Ouq0dl7o7Aiuok5nw2L7OYQP3RYXLtg140aDngmXxcL45cO3Y7GtSLLttHaIdeLH+xDO342FzouKx+0/8zRs176T3NYz54G+9SILx4tsCjlFzV9zNOv4RgkF/onXY3VaO/x1/0047Q+tbWKyOhdLB7OwePljSdbHMmdJe3XMekPujuH1TXVqMjk9ET1/riX5cx17CMbrufxxWut+RrDwMWjMAVjq87iCryUuk0YV3LRCjM1IFEMLXoyZ/IjFmOnQaE9jXGFK7/NAf7eUaqWSWE+wmgzw/7wLweMPKt4ft1/jpYgV5MBd+GfUauzomeOKHWIR9R7h9Ms701gNVvwr/QoQx/f/F4YL7/O81qZJR5wTlrH+MLxH75U6HtDCsuFzaVcbYDQebRk0Mrs9Nk47iaWDWXCffhobA6exdDALS1eEtGI5t9R9+V24L78ndJ1cHD1Jc1lYaLumGB2sr0D5YE/cyarXZCDe+Ewj0PY93GefQ63WBldwRWp7SqnvFa/HP0fF66kJXwdPsec480Di7areApq/xtpmBANGj4SLSx0ScsbaiESxsjginBeHHrj0N0QLcmC6/CGXa2FnRcy1fwq5KfwTzksrbjX6Wu1HCFV+gA6NgRUgiS4whlZBs3PtA2kuA6XUzzYqP3auhSvS7vvFF5Jaix91Wnuc3V4GtwhoSjl46tfeEx6ZAuTWBtnx9sx5+GtuOoLsSOWBv9v54zNPZFNg7/I66rSJX6NWJaiO0q+HF3zsXE5Zsbo4zOeX8L9RHMSi+gY9R8Fp/ZZ9vy+/gKXVDbTorVjOY1MLsWaFih1LzbcInH5SsUgyuEJ8d5xuXzp+P8xNxyTbzoz1MjG0fhzBkw/DUp+neNzBwkdhqT8YV+joOqsZPXrFLwQ3V/+DOV0qXKfEhRq/vzo7Ak0/sqA/FYTXNzF99ScsHcyCteQdiU6DrHBrxq03z90xYGbHRq6YlAOmgs1IFIHDd2Km/iR/nCxY8kE2Dbn+A6PPDdSnnsulEu7oD6/zn8nhRS+GethkjCZMGnMAc0PNLENlWAudVWSDzjNElF/fZZqC/+ddCBXco3g/AC4LjZuQTNYgVpAD15m/4ZrGJhgMEYuIaPquqeTHmwKCdfvTrwBx//j/YCx+h7dnbeOyJcRfnvnrB+EteFDKeaUvUOWbQk4EoXAvMF6KCVtQ4p/Oqtl8BHOzED56J9DyX6zkZzMrVw5itwKNOQDPxb/DeeVDoesUsAmdTVpo27VA8RPqi9TT97PKMxmI1qW5DDR9BfeFV9FCdosn7xaoRuOX2HYK4UFq49Q4ED8ykbsTwIq7xn2IxWLQWQKSHwKx7RwPi4iCZRkGip9ArCAH9uI3BFenpVWm/+BCBXms+Nnj5tvZv4NWZRFU838QvvwGescnmOXvYp/6/pMdqm+BPxYec81xLhkSUJhcQc4vHrqntwZxTWNDWxqLTTNIAKJejpz/tfeER6YAubVB9rEU4pZOAYRiUBq6nMmwnT9iRsinwBSEq5a4Lk6Ll4MWwf0GLzN54Wgug0YvmvQO1GltkkabUySqr9PaGQ2ZcnIq3uDdMwOH7oCh+bTwm829Vvu0C/aSt+C+/J5iAWL2hdlkQLT2CRY+BmtdrmTb2ZF2XujuvfAKnOUfKx770rH74oqXjmkXtP3c713AIjRQS57mdJYX485TYIXRpeIKkNa8+BBh2fmdrfoOwdwsOM6+JBFEk11swhTzGwVpWMkVc+Jq4u0jG1jOy4a2uURoVDefQKhgLzTmAOw1/2XTrb5q/v1KCnnosQL01gB6ezp4gTvfcO8pRzg/G82aRUZXJ1AyeVhZ++Jf0CCQuwvhIwq6XkLvUcEshytonOdeRPWYVequeuw2wajIPZv8eFNAsO1o+hUgnp92YeHcm7w9q1KK6nzNAXiOPyLt+NDisfgJVqmJwS34ZxxLkrEmVbOB3F0s2O/CnxE9moOoaJxoD0gFau7iV2G6/BGzQJx1I7ISEHQDtDi1jqh2EQAkvk8MSlAfLATqPoa79B2h03XmQVZVA8yVqSAnXrANsM6E2LZWDVTEyF2n5Lj+L57qtRmJMvpX8ZPA5hp/cRUL0/muQ0EOsNDD3ouCHHiK/ooGvQONE9yPQqVC6GA0KtV8+IzKHMTOA1i98CyGRoZZAZKIo+hfFDQ7lW8KlrwA88I+fb+ymxgg1fkk6aLsNKbsQVSPWdOa651BAkQ2ucL10q+9Jzyi0SgsFgssFguiKmP8DNIXc84QGnQO9lsps+FMJyQrDrbyN7zgkyzoCeIphtrj1LJSxBlWvCkKhGuu3hqQ0NtcS4JmhO+Ak812NWNPaC1+uAsexOy1PPTMeviufywWQ5/BA/eJR2Gt/SluP+v1LGQxFotheNHLU8b9Rc/AVrNfsu3cUBPTC8zMcS5NLykeuxJ9q23KBf14P7egnBEcIE/+QVlnCabXaJp0YER0jut1dgQ7jye0nF/bjGCu8hsEcnfBc+opyX0UyndTzVWck8LC+cRdydknyx6sHMrGUFs1f5wUEKgxB+Co2se0Nz3lqNPZJNMxVfQfZ2vTBJhzhtDV28sJ3AeE1249g+UjdwjFLkEeOSHDknEIwdwsrBzKVqVpoVOUv8Y1WB0XXsfVUau0kXz8DrZWKshRzkjbBoL9JelXgHh/2gXT2VfRPuXCgNGraJ1ruPo9PCcfl15wabF+/Pb4xX3RQ8DwWRhcoTguquPql/Dm38GC/Whxefl5/qGuJYG/OjDvhfnUs5gr/RTNE0520SeHhev/Eh5vGuBfUxHiMLxEmOE4i50HgJr34an4ULC95fI4ADDtxLHb2LbyFPMLT6X2WuTxnKCTAUBInJfvY8jFhydKRpKUIVKQw4rEE3cCp+9H8ORDqBi1QG8LsPdRzba46CF2cQSE0Bz5CLDvGNaK/oSxoW5WgCQKeSRBmqFNGmpISPQjThcyGuf+gph1LqFyxCJ4c2dwayEWYz/sqVAvM8ggBSx4llGntd9QivQvgSVu4apWHGzlb9CoHCa4uhFRZEvQX78hsVMYWRrX6+y8o5AtsBJXfADgE7+pALH4V/g8KvptNHnDsB1/ApNXvobOEmDU35ATADBh9iBwMBsLHSVx+ykOWTR5wzwNy1v8EhxVX0jXQZyDp25ukVGEjj8Qf+wqAvbWSScmJnVCw5T4/fQ30xB3jkJrm2iWvY91WhuW+ori9A1ibESimK/8GoGfdyFwPJ6G1GfwMFrdyk3SNlLj0G9i9Gm5i6YcXgPWD+9GZ2crf5wLHSUsn8Pkh7P8I4Tzs7HQeVExFFMR4kmDCkzeMNr7B5jAfaybf21LfR6CJx+Jp3vZxjk2h1Hx+VbnmXvW6qHd8eHShJZvhPgD7jw5Lr6DyhELRhZ9wnYn7wYavxBMlnYAQU1d+hUgvgO7YCl6EQ16B8bNfkXnKkPlN/Celi2UxVQf+Y/8uceAwVOKXuH2sg9hPfM8W7gW5LBKXvRBIf7q6KIftVobguefhbnqP6gatbJRLS0syl4Sdfq7ualLsfLBXn4+fkqjBH0le77GfUDlm/DXfCFUwJf+JrhslT4niOB8C/HHPnAy+WuRAFucDK6Exi+kIUX0OO519daAdJRKk6mCHNZVKcgByl7CytE70DXrFn5ILr+gfE5KnxNupxGqvAIfOY+NwvsxMdDM8lGCNvX9j0ZZsTZRnfr7QBBbLTsnU3/cDsDgYsGP6Uy1yCAJputZqmwGGewATN4w6nQ2dEy7EofR/spINp3Yyp+a5TBReeRsCfrjGQsq186RRR/aplyo0wmUGrWJkljTUq+zC9qFKy/zlF53aA22M8/DVvk5givrbAHHNQytxikEcndhZrQjfgIiej6iro0u+uG59BZcZVIr3fneq1xmhB1GLsBOuyDVuFJautzCt2nCgal57vfM2Mmaf8d+L/y+GTvjjnuZex+HjOx9pOMPDV2SWMzKEYnGsFC+j+kRjsRvN7KoPp3aEZi4Sc+Sg2sMJ7DpBwDrKDaO7EF7/yB/vogGpV1wwVX2T4Tzs7HYdlYxFFMR3fnApb8m3MQWWEHr4BjvnsavUbnsubhih8yHVAJiN2bbsXQwC2uHdjM6uxIaPgNq3mf/zzV4HWX/RPmwNOMNhXtZo7sgh2lqdgDB2b70LEDsp5/FtXEbpu1BaDnfbEkBcuUr+IpkC2WHTtppF4PTY9AFW1KAlLwNU8m7iJx9lD225j2JjS/ZxPXMedA25cTmxb/BW/8DKkYtGFrgLvqn7mW0Knp9QxunO1GhW6ilpMtBuRTV7wJXXkak7XuBdlb+Gkt/j8XYaxE/zzIsfY5EkxgxSIBd+lzi7Zq/luZkjJdKphIbkaj0wj1dL5yX4SL23/pPsXFkD1w+kaDq0l+VqWLV7zJjAYAdG3FWxdCVY7Pg95jpq2GuHmpfNgJpcC4+o+xUpoaQUziWREXOTcCCZxnlw5a07nRmcGshEomgq6sLXV1diEQytL5bDaRPbJ9yCb9FaYjwOnM6GjQqTye28kfaUDkNNRaLYWTRh1qNTfF1xNoOJeitLCekVhsfciiHWIwtCUV0z/Ld4Ug0hpXK9xCt/VjIUeAMT5YmWxHMzcL45IxCAWLjA5ZX1iO8DoTcN8XbGrvLuNRsD2ZGOznxslayjX7WyIUY1ktub9A7MGvzcHTiOlY4lTwt/L4phM2F15kuhc4vH8Y8xjVKVWg+sVgMpiufwn9gF1bysxkdVQStxX9ztY3EwljxAef/lNxAxtCGzSN70DIyw+uWDH01XD6HBe5LbyOcnw1Ty0nFUExFdP4sYdYowbm0ihYu6HFuqIl/r1xl/4T70tuSzwYAdUo6h9hMA0J5WVg7vJufvsVBHDrpNwEFObCXf4LyYYs0tPP0/axQ2cG1T9A8nX4FiP/nLDhP/QUVIxYseJbjbHA15gDmLn8O/3nZm+mZE4mdZV8eUXq3fALiOPcyTGUfI1r1Fntsdz7TV3Cgi2fThAO9Bg9iJU9juT2Pt6MDwIqP47ezQqQgh7konbhLPY9CLn5WAwnbL78Qv0Cv/gd7DqIUkSXbbCPr1Bva2HapjBwBwVGh7KXE27V+ywooQrJwmolqdn/hXsFFgTJHlhzCdheeAvqOxT++6Suh4CE9Scgl3WamAZGje2DsuMBcPTaTcEnJoUxMY0sF4rR7FeeJm4VFTxgVIxYpLzODDG4AGRH6rQ3KvhDnTKQjVtYT06O28tcrCvWTY3Ujggkbc7uSC95bVVLQCQZXCG3TTvTMepJSgagpObLgQ53OLg1EFqPpS2auwi3siFkRHS3B0uE70CozxNGYGQWLGARibQoFIIu3ZbSg3dCY/JiYnolbuGrMAUxOTnCZFdJpS72O0xNwDqG49gELLT52G9tXBatV+fvIhzHruTA7NZoPAEvZR/Ad2IXVQ9lxDcJpexAdMy6JPe+Ogux318OqFsMSTFxFpCAHrRN2vtiaG6zn8zm8F15FOD8b5sajqEtVPN/+Q9JgYt/yOppHpjn75lr+vfIWvwxH5WfxnzXKllJLJp+sQTgvm+mb1WhT4pgGzmXUVrUP5cMWaC2i9+nMg2xbpfXXNhH0ONOvAAn8nAV34Z9RNWqB2RfGoic+4XTu0scIlrwsfQKyWivIidcAcIt3pbAi56m/YLHyP2yacOreuMAYElZfHbVi0hYEip/AZu8xFhpDbxB1DoqfZP+dqmUFia5C+WCVMi+UQOLyc4/Fu2rVfsQuGKSLcE6y/R6/xIoEmuIkKoTEIB/w8tcSb9f+Axs1E6hIWuxV3p7skc8+InAISW8iHh2ef5yJ7eXozhdoYbSP8gmHsQuxghys9x4XQnUSgfQmqZoBEMgP+8SdibUiNwEmbxgVo5a0XmhkcGshU4Dc2qAE72SL618bYpepGy1AklGp1KYtjXoHpu3qC51INIbVjUhKBh+khRg0elWdtQAw98myFwWu/rHfs+ZY89cIX3wBtVpbnG1wvc4uybPon/egY9oFW81++M/+VbKtWBitMfkQPpSDhY5iyTZTupE4UTMrdDg9AVGSKjgTmLMPqwqN5e/joJGJ5FdnWpV/l0Wwl/0L3p+zmR5BRuGZd4XQneA9vWGI8zJSoV2PnEf09P188acxBzA73Mbnc/jOP49wfjYs9XmJC1Ax5I1bBQRXN9CiNWI5T0qZC5x6ApbrP8Z/1tRiCQjaMqwe2s0KEDXnqiuvsDUdwDs12mr2o3zYAr3Y8vfsw0D5q+z1VFy3tgpa86dVARL8OQvek4+jZtwKR3AVVv9KHG1q7uK/ECqVZV5Q0FdBDvt/MbgPHV2wxc/lPvEYTNd/ZPasYxeZ7uLY7/mHbkai6Jp14+qYhYnNzj4CDJ2G3hbAJF3QLr8gTCqO3SZoHdTs3uQJ3Gpo+YZb8N7FPKTFVKqmL4GrbwuL8rBXEJyXPssmDrGYsD/JQBazlW8m3q4rV0rT6s7jaG8tytuPl7J9KXlaqKDJMMA0IGynRhUbPCU4bIg7GWKQyKz124RiOB6UOXLmAWY/vBUcvz2pnd7NgNkXRtWorCuRQQY3gEwBcmuDwveaJ5zSfIA0w/pmFB0zLLH9RgsQcsdU02eIpwbyyUJKgXEpgIqcPoMHjRMJgmH7jrGmJOV0UXP0wp+x0ZGLzhkXumelBjvylHeioIuD8OjP1HISoYJ7+H8HCx+DtfaAZJuZsR6OmqWJK0Cs/hVhIkCa0iuvqDorrW2yZiy9j6THWZvv4TrjKjQfAM7L78Nx6F5GB5LpJ03ecEJ63A1DnPZd/mq88YwcvUcQK3mKNyaQnEf9OPxFzyCcnw3r9R9Rr7PHhWIqQk5dV8DqRgQdk1aE8rJg7L7Cv1ehgr0wNh5H06RDGr5N1D4KpJZjtJi5uhbkMP2sEsTMGm69aKv7EeXDFhawSTj3GFtHp0JxTxFpW4AETzyEWi3rBDiD8QmnhgvvI1QmezPXloQvuZyCc+VloP0HxbRU75F7YWkSjeQoT0TEU+w1iGziTt8PjJxHILwhVL6Vb7DHVP1dmDgU5LDnUkIK1TAAxs2jYzr2e2n2RNv37PPeNkoAACAASURBVGIxXsoEbrEY24+6j1nRcew2wfpTbT/EMHMi/qvvJN6u5zBLeRfvB1HAlDByni30Lz/PJhnUXSnIkSaaq2WjiJM66b2JyrpUFNhY815SqzsAQvGWSKejhlP3JdfJ3ARY/Su4Oia7KGSQwQ0gU4Dc2nBzbkx8GneaYoMrCtQE4lv5S8Xxa8DoRfu0S3nBvQMgx63OGbeiIxeP0WL226UrF6hNtDaYa2a5ZCJ6uVLK+5yTOXeamwrgOrwXXSJHUHPjUYnzlafkDTivfCg57tlhFmw3MS3Vm/DiaWIDnH8cGDjB1g8FOSw4VYb1TSb0pwKE9DgbppGk7kjuy/+A+fiTrBsvowxZ/Ss3d4I3dpGxWwC2Rmv+OvH2rd8C5a/xxgQasyh1XjOIwKknWAFSsx+NetlUYj2srJFIsemsNfsRzM0SUu0XPYxC134RrZOyz1qy9R2FSyeiaZ3/E3vfCYV7YW/MQ/mwRToxLH5SYPrInVa3ibQtQEIn7ufTTr0ixwkaq84X/wPLFbI3k+gxhXvjn5xLA3eH1lCnlU5TfPm3w9ZxRthWIV1yaMEriKS4UEMJrv2TPeb6v9j9pItQy4ro/FnwXk6E6nfZgpc+ROJJRnc+17XIFdwVGj5jr0/b04hOLdlbDAroI0cENfQflwYeNn0p0KqUQBOMitf5DBCs+OKpYYX3KFPFtGVsWyBuOsWDuJCX/ppacUCCsFQT6cU492jyIu0mwB5YRfW4laXuZpDBDiBTgNzaIDemhiT0ol8bkWgMXbNscnGjBUj7tCupDo4S4uUTkJTEwimAJgGNeock4yN+R7jfq4GT7Hej6CHBrTLkktjsaszKKe+kWzU2n4Yv7/eS4yJ7Vvq34+qX8J17Ttqs7b/GiadNcefDtbQm6FFP3cu0oqTTVNBRygtJng7n4DJQEgTUeUvfgvH0y6wAMbRK7vOH13dsOqWI4SJ27gHWpCRTGzXUfgRc/5fkczSpH+fscXsQPPkwwvnZsFXti7cPHj6r3ASt/5TpbJLAEVyF/2AOFtrOQWMOQD9jYNqTnuvKGWCJqP69R4X14EK38jZyFkjZi7D0XEL5sEW61ih5mh3XDupf07YAWTm+lw8bovTNpgkHro5bMbrox8L5vyN8VfZmxmLsy66UBl75JtD8NbzL66jT2lGnZV0jjcmHQO4uOPtFC19jZxzPTWP2o8/AjX2VFq31n7LHNH7B3lDSRaiNxlLwhAbAuhNlLwoFhbig6T/OqteSp4WKni4e9EeTBhKkJwIFKdX+O/F2g6ckLmF8x0TNcpgKlup/SCdUcnvg43cof5FIxB6NxulzeKxyYZCn7k1tsjRwkr1+IpqcGkqeTn4BuwlwBFdxTWOF0b2cfOMMMkgBmQLk1ga5MdVp7WndmIjFWNicnG60nb+2KZc0n0ABix6p2QzZxaZElUkBZPlbPWZN3LmnZmbzf9jv+NV3OK0oW6A6RInqfAEyIV3QEgNkqrUESwezUK+18ttba39E4PSTwkSk6RhCx/ZKztd8T4WiPS9P9ar/hDVQj93GGpwj59k6SoHiJi8kOykA0yNKGldB4NIbmC1+nxUgE9XbPfXbgzgEMBX9beUbQPPXkty4iakpZo873IalY/exAqT8k3haVHe+siA/Rd3v6kYEgUN3YqbhJDfBYtqTofFxdFIItRiJWBydPwu6ZLkzLOHk3dLGbyyGGXsQ5cMWPg8HAGOvkD4omclPikjbAmTt2F3onHFhdSPCW79d19rQNs14l4tnX8dKzcfxT1K4V9lp4Oo7QNOX8IfX0T7NLAvrtHZo522sABkR0YdMA3EOTdP2IEv3jsW4RavsC9T8Nbu97TvW6aAPodrCX76IV0PJ00JxI3++kfPC7aSloMnLybsFZ6pE1a8YRGMiSzY1DJ9lehRC9bvsceIxnhhE2SIP6eO3s/NY9iIT6QGsuCjIASZr4h8/08B9oVcFOpccNIosyGEX02TQXGYFT0EOsyDcCqr/oezWdZPhXFpFrdYuDSLKIIMbQKYAubVBbkzXNDbMu0LJH/ArQilQeDt/qQju7QEp1ZrcmpbUtBpbBC3EyalTFeTaeOUV1v3uPMD+3fQlANb5b9AJCfFK++lbZtuMtZRhOS8L9WMG/rhsNfvhL3qG//dC50XOFcsnu40F6ClOWlr3C1OZ2SbmcKRCp45GY+iedfOFJJ8/E7Syx8vdR0VYuvgqZi7+G+sn9qbmyrmT6DkkGNk0fC7NMVPCxWeA7nxJbIPYznj56F0I52fDcfkDvlHOg+IQ5EZI1z5ga7kUEDp+L3TVh6AxB2BqOYXlI3egc5oLvpYXholyTVq/FTQ9U7Xx96usu+acLHNMck0pfVZgsMgp8NtEehYgeb/H+tHfo3/eg81IFGubEXTMsKKh1+BB+5QL5qJXsFqr0IUuekh5zFXzPtDwGSLRGJzBVTiCq6jT2qCfMSCQuwtuvWhhT1QkEZ/Ru7zOeH5E85IvWjt+Yrd357GKkz6ECmE+AKS6hkQ4+7A0oVScvq0tY7edfVj4QJDbQ817QsFSkAOYB5O/FnlKN36ReLuxEkYLI1Rw+helDA+AVeGlz7Exb0GOcNw17wlfyM11dcoaHcNqIHHhRkVXw2eJ9x+QZpOoTanUsLHCPge/MFxLa2jUO5gRQgYZ7ACi0SiMRiOMRiOiKh7+GaQvKOCvetyaeCGcBiA3pxstQFIR3BPTgRymOmfcaJ92qaagbxU00bmmkeUyyEHBuafuZYYy5P7IMSiouUq2tkNGH1omHVgWLWgp/K+riYUONg/p+HNhv/qVhHJFwYS6eWFKInHKMgfQPetGn8EjFDrdeUJ8gHh9oXbccx5eh8JPo5Y9SRudoZKXMHPpU6wVPb416/udALmRAZwY/O+Jty/6IzBcJClkdQYLs8ftq0b4UA4rQC6+E6/LaPpKufmcavQCgLXTj0BfxcwEHJWfwXv+RbRNuTC8qEA9lLujitG4jzVM1WhanOuVfA007wrFF9eXX2BU+IKcHXMATc8C5OhebBzZgzHuZEejMYyZfHCH1qC1+FGntcNa9ALWG76Kf5LiJ5UFRtc/5EOAACFhVKfXIpC7C97ZfmFb56Q6n1HlDeOLhIETbGpBH0I1a1rtFUHXQFj2sA+L3yTcdvIPjHZ04k5hokGgYkO88KeOy2ixoBmRP04N1MUgT2g1aC6zxT6BnBHIyk0O8r9u/ZZtRwVE637B8lftvIqPKeRi2R0XnlJ+HRoPphLwuNAjFCDz7cm3TwN4QmtonnRIk1AzyCCD/1nQArZq1JL2k9FBBWF4Kn+ji360T7v4YqJJ7xDcJ1VANrnDCz50zrjROOHA4g4XaL3cIl7VAQsQmnoFOYx2TQWJ1wAgntI0aPTGidrJQay9rQGrh3ajY3AEI1yivKPyM3gvvMKfq7mh5jjBuan5BEIFezG6yGho7dMu1GrtwsJ5sFDYxwQUKvFx0ySrhaZRZAA016L6uOULz2G2bB/WSp5jkyDCLxHo27pfoGa3fc+csNRAVH5dBVxLgmZYu+BCOD8bxq5ShPOzEc7PhvPCG2ibckoLW56SLjPUqXorufidw/rZJzBR8T005gD8RX+BvfprNOlVjCbUApwBIapBjaalYuO74FlGxYhFqsu58jLbVkmDu02kZwFy4lFEC3LgCwrjH+K9Gd0hVI1aYD/zLDaavol/kqq3lMdRdR8zgTgH6ipoR/sQyN0Fv0kUuuPl+IwOXfzzkNZAvmglt4HRYjaqog+h2GZWDLEvNcHYxW67+BdgLcSmGgU5bNuzj7D/F9vX0WRAfFvYyyYLdOEjSpZCqFAcQi5uAb8/8XZyITg5IzQpFIQA6/xUviHoU0gwP3iKFQ2A+nkFACs5bJgE4b0SaD+6Dibef0D4IUhUJKYZvMvraJtyJu64ZZBBBv8zoFyGSi4zK50hdhTayl/LpBONEw5+0dugd2DGkVjvQov2zhk36nX2HXO/EmPA6EVnsvA8cTQALQDFDUYAw4te/rwMzHvjFrQ0deju7cL64d3oH+jhJybOKx/Cc/FN/lxNj/chnJ+NKd2YoAtpPIylE39Eo54VZIGVDVj8KxhZ9LEwx/FLIs2oIelx9xmESRbvvsYzGNTpzOHiv2K2/GusXXlTWCsQ7TtoTfq6NwSaBADJE8n5YqqZp8iNmfzQmPwI5+/GYusZhPOzsXz4drjOvRQ/WSNKurwhW/FGas1RABsXnsF0+TcYm3fy2S71OjuMbgWaZdlLQMePyk9U/S6jnKlFHFDTWeaQtegJxzc1yl9j2564M6VjSAXpWYCc4RaSCkp7EuI6Tz+DzVYFL+fNdWV+WsNnEt4f0brG+1oRzM1C0GEUtqVAQ8tw/PPwo8Ye6e2jF4TR6pWXBQqUGieSxGlrog+U9gqXpn4f+9BQ6rahlVGYCnKk4UAbq6xoURqHba4J0xG1aY4cKz7ui5PEI1tePFFxVKegyQHYl//qO6wDRHxY8fNsrqufV4AVT8Sp7PhRPamduI6pjHf9i8JFV82eLs3gD6+jc8aVWupqBhmkgEgkgv7+fvT39yMS2Rl6Sga/HGihzWdUpTHGTH60TjpTKjqGF3wYmPdimEsa11r8vFtUvc4OQxK9SywWQ6/Bg6pRC0YWfYjehIC74UWvMiVGjI1V4XdmpkFxkyl7EI2cFW+/watIFRsz+dE3MobI0T0Y62vlNRjuy+/Bffld/rxNTmg4p6ZukVD9AAKn/sSYI6LPCK8lmKwR9jFBjgdBPMlq0DuY+QFNDRLkja2cewpzVd9ireZDoRlMTVfbeNLXvSHUfsRYMABjqyQyAApY+HWBeJKmMQewfPh2WBryEc7PxtLx++EqejY+wb3idfZ4KngI4sC/JNi89Dzmyr+CdmyIez971W2kK7kASSXQfcVPKq+LVJrtJm8Y1WNWaVODoiZO/iGlY0gF6VmAFL8kcP5lIOqU+9RTiHYkSbMUg3IfOESjjMM50l6NYG4WQj7RF48mAUp8SLJ7lWsqdBVCB6DiDUEXYRtT3h/fglBcEHqPsg/K8Fk2MqPXMg2wfS/ISX1cSReE5v/EFy5qWAuxbcXjUSWQfoKcEIg/quZxTfZzNCWiLybljgTMLPRI6bwCrPCgKY54lCoHdR7U3LjEoGLrl7j47RAC4Q30zHokIVUZZHAjyIjQb21Q6F71mDXtqZkasx8tKRYgDXoHmiYdqB6zYmTRh6XVDbRNO9E750Gdzp6S3kVjZkWL4yZNjMdM/uTOY7EYayomaHSJrXgpV0M+VZlxLGF4YhqxghxM9tWjnZuYuC+9DVfZB/x5I8vWucEGQah+7Vv4zvwlPq+CYGgVfgvXkhsZDC96+dev09oFV8bCe+LjCURYO/snGKp/xHrj18JvODUh1ZK8dwrV/xD0F+QeqganYCksT34PFeyFrWY/wvnZCJx+Eu5TT8U7U1GzWP4al19InsDOIXLlVRjLPsd02yWE83dDa7Sr20jTlEMJZPSjRtMSN3dFMPvCuKaxSpsaFCJNeSo7gPQsQErfZAcqTzMHsLLOAoA8hU+o896U0PLfuITvQaMXQ02XsHQwC6th0ReP6EBKDlZ+k7KmYrpOeEzVW0IyeiJOZcXrUsF805fssXMtwmtQddrwGfv/cJKOixin7xfySQKW5NvTGLU7L/F2c83chGpZKHQKctjxKIH0NzQlIis6ftI0pH5eAdF9I9JRqhzkFqYrT36sRG8ryGEXnFsAwdUN9M17lH9EMshgG8gUILc2qJFWM26FPZDe1Ey9NRiXzaH2V6+zY8q+BI05wDdcpu1LqNXaUKu1paR3mXeFeCObm4FZ51Jqxc2ZBxUXeQRx0HLPnEfRatXsC2PW7AAKcrDYf5UPL/ReeBXOik/586Y1OhDOz8Z8T6VEqO4qek5dhG8eFH4LUzCiGF3085Sxep3IlfHMg8o0Hw5rZx7F/PVcrHcdEnScpFVVy0vbKYgX/+JMECXwmlMnNiNRptHhck+WTvwRzopPEM7Phvf8i/CefBzds25pDsyFP7Nzcew2qV1tIq2GDNGqt2Aq+xjGqm8ROPUn3rVM8befdB5KuPgX5kKqRtOyDCmuDy3+FVzXyiYu1OBNxTwpRaRnAVL+T9VuP11w/YWPsYlBqmj7ThA8c9BbAxi8dhpLB7OxIQ53obHpjEJ4n5o+ROw2VfOeoEcQ6zPkmLjKFu8hF/t35ZtsYkEieEpM9c6zD48KLU0V5/8k0JLoNRKBLNmSndf5Drbdil8oWhKlg1OFriuXakXosZPXhLwSJd2NeCIl0/JI0Lp/axczmtykQk9LAyytbmDQ6E0seswggy0gU4Dc+ug1eBgtOc21YVN2aep3or86XXyRsby2ydOqUtG7BFc3diz3QwnRaCzeElUJF55K2DykLJfRRT+flSIPNoxEY9jcZFbzroErfMHiPf8iHFX7hHNn8iN8aA8WOor525wVn8J69mX18Ebq+CsFOCtATKWr09mFLjklqatg/fQfYaw/hPXhYuG1yLxHW5bSa28b5x5jDAwg3sVTDrHtP6Si+8Cpx+G+9DbC+dlwX3ob3mMPomdWZo1b9JCwWPctCLeXPJ36mrXmPVhLP4Dt3KtwlX3AzAkmnRJ3NB6JEtYp5bzyTdaEl4MocLLPptW/glqtXTpVpWZ2ouJti0jPAqT6M0F0rIBxsx/Bkw9vzcpNQTtgcIUwWHkEwcN3Sj9AiTIpXFPsPte09Haqmu1a1vGnkLtEi9v1ZeYmRV0DslNb8bPHtn0nFA8UbLgV/+VLfxOSK1cSBzfxOH578vO62CtMqEinUvK0cgAkILg/TF2PF2edfZhdGNwzyucVkE6kEnlpd+ex7eY7UjtWCugRXyTSGMtrmxhZ9Ek9xzPI4AaQKUBufQwavbiutaW9NmzWuYSGLRQgSnx3f3gdvQbPTRGV3zRceZk1GlWmC8TqGJj3omvGHb+gFePk3fD1FfMFiP/sX2Gr+UZy7kIFe2FqPsH/21X2ARbPvSkNlROD6OCp5JJBSqWr09mFyVvJ06zbroKNwvux0FiAjclajsK9JjQNh06n9NrbQizGHEepyFFyIBVDc5ndz70Ho4tCweU/8xS8519kDljlH8N/dC96DR7p4wv3CtpbsS1xIrtcOWr/DWfpu/AfugPm5uOq1DwAiWnpZx5kKedq6e+kRZY1tm2BFTToHNKp6vUPuc/Jo6kdQwpIzwKk7huu86/syDDvCmH55INCRZsKunLjOvQmbxijFQfgP/5g/PZKaeeAyEZPpqkgLp1/kS2QKbAlmfai6UtWGEWjvPUbYjEhUJE+HNorWxf/VLzBeJlEl0oFhfckP6+k3QjahOlE5RvqlXH5a6yYIuqW+CJV/ipzhqDzp/Sek6B+poFpYdTctgZObk1UXvbS1nQ1vzJWNyIYN/t3zMs+gwwyBcitj5FFH2q1drhD6V2AiFOlU6FgqdGbAisbt9Y1sPrdhF1jSlXv5YIa4xa0Ypx7DKHOAtTpWMZJ4MyfYbv+g+TcBQsfhbUul/+3+9LbmC/+hzpFjwxg1NwlZdBbWRYLFSD85K3q7wlzLjZP3gNTSyEii/3s9ZbswqJ2K3T6rYK3+OcYLRNX2b/VirzBQskie8ImTO58555D4PSTCOdnw17zXwQO3cmCGAmxGJcoX8mKGLEm5tyjqa9Z6z/F0smHEMzNwsxoh5A4r7TP4owTOU7+gRVUdR8LInwxlNxYwcyeGvUO6VSVnF0T6We2iPQsQJoOqHfDwToGm6cfSMg3jEN3vpCEycERXIXuyjfwn1I4oafuU07rJF2GfDoTiwmuWY37hJRtUZihInTlbOpAzgtUMZc+y6Yjx25jH4718Na1CjXvC9zOzRQXF2dSOK/ic0BuUvWfsOJFCZdfYML2hW62rfhL2PA5u0Dz4Y8KU69YjN03cTWxld3Yxa1pOmhMmgo9LU2QmX5ksJPIFCC3PsbNLBsr3c0pFjzLqNOmVoCoCm5vRdR/qk5PBqNXdXNZIB3TLvTPJyhAyl/FauN/0TzpQKPeAd+JR2CpPyg5d/KpiLv4Vcxf+hCBFRXqLlHO1broMkzYBC1PndYmFL6dP8etsSQ4eTc2x0oF613nhGDtmqI97bYgNw6Sm+jIQcHJHOZFhbO3+BUsHb8f4fxsWOoPIpi3B0MLogKEmqXT9ayg68oV7iv6Y+pr1qYvsXpoNwK52dAaHWiddGJ00a+8bc8hpvWQg9ZN+ip17ay2THEa5AyuonnSIf0Oksb2wp9TO4YUkJ4FSNvR5ALuU/fFB70kQu/RuAA7T2gN06VfIHBe4eJQ9BAwdCb+dtOAUL2roeW/wsI/mfhbrvcgoVrtRzfuOEAfmBTFZQDYSC6ZJ7dDJ0wrXNPs/0mjovQ6l/7GCkDLMNtm7KJwX89hNroVT1WUcOIudo7KXlR36Zqo3hqlqvELQcuSQQb/g8gUILc+9NYAGnSOm6p32AmYvOHUCxCtHZ40n+ikjImrSTvfPdz0o33apa7VAID6TxCteR8W/wqjVx25H+bGw5JzJxemO4uew8KVz9XzSmIx1gS99s+UDodsg8dNLNiQ/9xNVDMWx+YaW/fIg+8ojZsmLsYutpgtyFG38N8JEG3ePcP+PdfC/j1Vq+z61bhP4phq9rHP7eiiH66SNxE+dBvC+dkwtZzEUm4WxhZEBSPR5+fbueTzL4T7Tt+f+pq1dT/WD++G7eRT0JgDaNQ7MKUWvjlwQnkqwWez1LMCT6nAHDmvKCp3Lq2iddIppXU2fiHQ7XcI6VmAdJ9Rd0QiUEJ4qug/zjh4IgRWNlhn4JKCe5OabzJ18RO5UbV9Lyz8lxyJ92tznU1LyOJslXsjunK3xMtUBCWPH79j+8+hBCo63DPMwrYgR0hT3VDg5l54iiWYE81K7BVOFTglkys4nwHgvrzFiZ0kiOKV6kRjO8L+DDL4DSEajWJ6ehrT09OIptqkyCCtMM0tCAPh9DanMHnDqNPZkhYfYyY/GnQqjj+/UQxw2RptUy71TjfAuvMcVcq7vA7vobsleg+NOT4bxFn4FExXFQTIYpx5QLpYTgDS8pAzE/+5o2aqc1LQY9ICn2cxVAORTUFjS0YwogX/jsPEUb4o4yRgYUGEBTmSbDgeNe9JdKb2wCqua2yo1dqxUPw2n4K+0FGCpdwsaIyiZjTFCZgG4qIfktkUS9D+A9YP78b05X18QS5JJRdj+CybrsjB58i1ceGLL8RvM3CCmQfI4FpaQ9uUU0rrbPpqS1S9VJCeBcjAJenITAlqGg01DJ6KE8+srEdgvvAOlirej99ebaFLblerCU4YJX4nWlCLUfYS6xwU3iPwEsdLb/zN7jq4JXeLlCHO5aAvt/aKemF27jFWoNDjxO5ixk6OAyq7YMU9B8efVCsMASZWHyxMfdpDwv5U6WkZZJBBBmmGOWcIjRMOdYpNmsDiX+HF04n+RhZ8aJxw/E+5/VFKfOukE+PmBAWIqGMdWtuEP/92zDeflpw/R+Vn8F54RShAjj8Ke32S/IkLf2aN0xQw5wyhQcfC+ZonHVii92lzja1jJqrZ+qkgR8jYoqJjqpb9+8wDQi5Y4T3Ki+OdgszVikf7D8raibKXJEY5ntAaeuY80FsDMFx4ny9ADH0sQ27CaBYeS26edg1b04jXb1tZs3YdxMaRPRhqLOEpiao5P+Olyms8sXuoWvhizyFF2pw7tIaOGZd0CknMngR0wq0iPQuQkSpOD6GQik04dlvC1M04KFSJG5EoHOdfxVLNZ/HbU4CLHLONybvm5IBQkJOa+1T7D1yx8Vfhtvl2jpepkq2RCmiBfeaB7T+HEkj3YRsTCjIaayrRt4j7GLQKo1cC8UGpCFHDhacYje7sIzvnmEGaETUxWgYZZJBBmmPBsyxdCKYprCkWIENGH1omHcqWo79RjHPOUi2TTmgtCQoQ0i9srGJtM4KlvN2YbjmHcc4ad3TRD1vNfviLnhFcsI4+AE9bQeId6D8uDUVOAKN7GfU6O28NG14XvU8XnxHEygU5QibXxoq0+Xjpr0z/WZDDig81B82dgOYy09PK0Z0vXXMRZG5V0WgMK+sRBMIbMFz6GOG8bIQP7cHcUBOCuVmYNswLj6UpkHuWrXnOiAyOjt2W+pq19yg2j+xB+8Awxk1+1CVyudNXssJPvo4RZ6sNnFRm07T/wFzaZPAur6Nz1i3VlRGjRk3wvg2kZwGibRBGR0rgbXKvpf7koxfiuG6xWAzes88h1KAQY1/xBrM3c02ziQa9uVOchVwkwcWxr0D4AiaalBBIu1AjmsTQwrxGYTqTKij47+wj238OJfCiriHhgkjCdM8cc9wS2wWToD+yyT7w4qKMxoSXn088iSh9ltHStsKjTAavIXnoYgYZ/IYRiUQwOjqK0dFRRCK3kLNQBjxM3jDaplQyAtII9sBqSgXIwLwXbVPOW8vp6gZBwu6mCQf01gRrBgqO85sQi2widDAL+pYSDMx7cXXMgp5ZDyz1eQiefETQhBy6G/5uBT3rNrHgWUadzo5+gxdt07L3qXEfW2gfu43pEmiSsLYkNCoBRk269DfOwObTxLkcNwoVmhH6jikXPoV7pTpVDmubERjL9yGUl4Xlo3dhdqQdwdwsGA0zwkbWEcFMZ+IqZyIU2fqadfgsNk8/iEY9K/QSUiz5Nansfl7sP8kmZ0qN6OavmXuZDL7ldXTPuqU0SGqUX3kltWNIAelZgExxQXezTcobisU1qWK8VNGlaeXcU1jvVFiEVv+DfZmGizgxOTdmS2bhBgh2sKnqC+iD0vadcBt9YRsUpjOpQlfBnmOnuwvi0R5V30SvsmvZOFc8ahR7cMsRi7FOgUrmC48rr7AR8cm7WUcjgwwyuGFkROi3Psy+MDpnXNJOdBrCGVxFfQoaEMo8WNv83ylASFfRlEhsDIi62iPAxgrCedkYaylDvXpIDwAAIABJREFU54wbzZMOtE+7YGo5iVDBPdCYAxg3+eHLuw2hwfgF9XZBZgJ9Bg865dkUI+fZ/pW/ykKVSfi84uPE2VxGV+M+JkovyGGFwLHbUqdObxUdPyp37RVo+YhscFSx64pPZar5DksHsxA6di9mxnoRyN0F67zIdVOsZSV6edi79TXrWggrLiNap5xonXSia9atbiJA7BM5fV0cGaG5rBzjUP8Jy1aTgfJ2JEVPJ+dOm6JbWipIzwJkbpB7s+qUN+R9nVUKFCWohc+oeTNf/5CNEknPQaNE7RXG5UsEKlpS1RdENtmHY7hIevvp+6VFyVZB0wkli7YbAV1MjJ3M6aJwrzAVIUpWx49s21hs63Q5JVS9xS5ox35/48+VQQYZAMgUIL8F2AIr6J51p/3EwLmU2gSkZ86Drlk3NiP/O6YIZPXaoHdg1rmkviFPZWoAVoNYPZSNoZYKtEw60WvwoGnCgYWOEoQP7YHG5MfQvBfB3CysjFfs2L6SmYBiajsFMg+cYEyFwr2ssFh2S2n1ZLJDU4GCHNZ0vRlo+FxZbK7kACV26FKAs/EggrlZCJ58GNPaIQRyd8E5Py5sQEY4ayGhAPDMbWvNurYZQceMC1WjVkzaEizQ1YyRaFoWtKo3zmveVwx2DoQ30DfvkerKSFOsMDHZLtKzAFnQCI4JShCr+1OFvootXsWIRgV7VznqP2W2dMRTJJs4WnAnAlGfCnJSTy63a+PpWg2fb01oL4exS6A37STWQsI4degMsyymooSEZRR6E40k7CikjGv/FKyJ1QrTDDLIYEvIFCC3PhzBVfQaPGlfgLhDa6jTJp+AJE0D/w2Cpgr1OjsMLhUjFsKp+5gj5LIb64d3o6+thgUTmv2o09kx33sV4fxsaI129E3bsHQwC5uTtTu2r2ZfGPU6Ox+OJ8FqgGko3LNCMRK0Sd2hAMZ6KMhhDp3mQWG7m4Gr7ygHJI6Xxk8FvAaByaEAf8dxBHJ3IXDqCUzqxxHI3QWvYVjYgA/2iwjZbpahba1Zo1w+zHWtTRoIKIdahIG4MFHLPql8k4nLZQisbGDQ6JUaQfQcYs9x9Z2UjyEZ0rMAMU+xKQNNHeQIexNWqYpQSnykrv1iX/z2zV+zrnvV39k2p+5lkwo1Lp0YlOnxawucKXdjBzl7AKTJ5H0FjHJFYUb1nwjCMkDo2Mw2Jn7OZKj7mH1ZCnJYlyGDDDK4YWQKkFsfzqVVDBq96hSNNIEntJZSDkjSML7fIGhRX6e1Y8GznHhjCrgL2rBxeA96O+r5wq5OZ8fcUBPC+dnQz8yhW2fAcl721pq1ScDczGzJM0to6mHsZBR2oo4BQkf+3KMi4faMyvN4EsceJEPpc4zJIgfRx8XgQ5aVA6SX+84imJsF35m/QDc5iWBuFpbmROtHMUNGPPXYzpoVgj1zwuaCmGolBk1j1pfV3VvLXhTYKiIsrbICRGJs0cvl8ylNk7aJ9CxArAY2ZVDzTBZrEFKFUgVIFrJKlXf792zhXvK0UITYNazDn0zUTdqL47envn83A/TFrtw5zh4AqaCKUkOJanXhKXYfjTa3M61SQtOXgmhti1/iDDLIQBmZAuTWhzu0huEFHzbSnLLkW15Hvc6OcZM/YQHSNuXCyGIK7pG/IdgCzCGsTmuHyZtEN0o5FT4jNo/sQXdnCxr1Dsw6Q6jT2TEz1otwfjYm9eNoH9FjJT8bWOzd8X1NmM4NsDXBmQcYS8JnFNZQgJSdwU8KhpWf5/qHijShlHH2EWWa/dT1eJYKLdRVwonXx0qxdDAL7qLnMD41i2BuFsJzovXIaLGw9onFBIbNdtasAMZMfmgSuaIBrHAjsbnk+ESGSTSNkmeklTzNwqBlCK1tYnjBh5DY2IJcVRU0I9tFehYgdqMQPKe4ociFKVUo2edqLrMPiJL4qSuXLaxP3SdwBQcLuUDDJKLuyRr2WkrWb78kSLBW/Y+df27SYrR+K1gFF+4VJj8FOWwqQpX/QveNvV7rt6xbIh7jZpBBBjeETAFy68O3vI4xk1/KxU9DBMIbaOQC7BIVIC3JsjB+g3BwAv16XQoFSOt+oPw1wD2LyNE96O3rQtu0E86lVTRNOqDVjiGcn42ZsV60DYxg7dBu9cX9NkBuZkktgwHGImncJ5jUODnBtkMnrE1WA5xAvV35OUqf234eWizGaF5KVHalNSHvXKVczMcmriKUlwXb2ZcxOLmApYNZWJ9pFTaQ292e/xNbM25nzQrA5F1Wt98liGMRxNBVCE1wcucKmKXbUEabDMtrmxg1+aXGFmSuVPvRlo4hEdKzAHFZuLwHFes4sb9xqjC0xo+gOn5UD1XpPcreHNIcXPuAnfiew8mj6GnastMBgFsFCap2sGLlQc5WjfuEAqfoIfZ6RX8UxpjE/UwUKpkKOn9mfM2tvu8ZZJCBKjIFyK2P1Y1I8kVrGiCwsoHGieQFSNOEAxOJRLe/QbiW1tgERGeHxa8SOEfoP87WJg4dokdz0D80gJ45D1bWI2ibdmJYN41wfjbmhprQ0deH9cO72YJ/h8CKJXtyxy6AUaev/wtwTUlpVrQgb9wn6ETVLGqLHmLN3O3Q2ROJvylrbTUg3KYkTBdjuh4r+dkwnXsTvVNWhA5mITLdINzfc0hq+nPlZcam2c6aNVUsOZQbs2MXmXQAYKHRJIgXQyXWILy+iXGzHyvrounQ0GmBZr9DSM8CxONkQqaBE8ob8mmTykIhRZAlmjiD4uo7TOithMFC1uUvyGFULer0d+WyTIpEIO5dog/yLwH68pGAfidx6l72Aa/9t1ARX/gzez0S7puHdu6L13tEmKw49De+/xlkkAGi0Sh0Oh10Oh2iN8sGM4MMwHjlTZMsQTtRAZLUCeo3CNLH1OnssCYrQEi7YBlCrCAHQ2Pj0Fr8iEZj6Jn1oGfCxAqQnip0dXdg88geJgrfITiDbALSoHNgzplEMN/0Fcv8oImH18BuJ20oaTMK9zKDHzmiUWEdth0dSKLJgxItSS0xnGBow9qh3TAWv4POaSdCeVnSwqn9B5akTrj2AVt/bWfNmirErqRikEEQIEyg5GsnlXT2WCwGZ3BVagRBxgFqa+ZtID0LEL+PfQh6jypvKA5YSRWLvewxy27htrOPsLGSEsjPuiCHvR6JrVWSIyWY53JM6M3/tUC6jMYvdv65zzwIjJyTOkxcfp4dt/aK4HxFrhI32oERZ6vs4MU0gwwyyCCDm4/Q2iZaUihAUhJi/8bgD6+jQedArdYGeyCB4xEg6Cc4DYNuapo/X6OLfrROOBA+tAeTzecx0teKaEFO8pytLUA8rVn0JJm8tX/PMkGUxN2FewVtxvnHlddiROHe7uJdnEwuB9nUBizCba3fMnqbGhZ6sH54NwwlH6B10onlQzmM6kSQB/u1fMNyM7azZk0V/JRHZvTTd4xpcgHBBGD8EuBbYLeRcVCq2STk7qrkKLZNpGcBEggwzp9aSnWiD5UayOptyc7+vb4sODkpQexkFfYK9rut+5MHsVCxIw+5+TVw6l72pdhpUH5K+atCVknFG5yYbIjRsIbOxI9et4uRc8L7oeJQkUEGGWSQQXoivL6J1kknBo3exAWIznZLUMp2EsFVRk+7rrEmtlwFhG56dx5QkAOnw8bnNUzbg2jUO1gQYc1RmMdalMXHNwCyU05JMN+dx9ZyZlEmBcHQxuhDgLpTFTUwt7JQFkNNfA0ou0fVfsQoY2qwDGHzyB7MXvoEjXoHwkfvkpolyYP9eo+yZvp21qypQi1lvfNnwY10Nci0MKRNjmwK2hFyJkuG8Uts+x1cT6ZnARIMcvZgPylvqGY7lghyEQ59IFxTytvrq9j9x25jHEXSddR/woRViUBftuInUt+/m4Vzj7EE8Z1G8ZOMi1r6LKOlAUD1u0KRV/YSmxZt571SwnipcCGiIjKDDDK4IWQoWBn8UljdiKBtyomB+eQFSFIdxG8MNB26rrXBuZSkAIlGWTO07CX2eyhKwKaQwMDJRzBZ9ROWJprjdQ43CE+ITUDqU6GLkWkPXwg4lber+rvywpbWUsduYxqErYJ3P1UQcrumuTXgtHBb5RuJF9h2LSJH92Duyj5Uj1mxcuI+1hwlyIP9xkpYE3in1kFqUKJSte6XOqCu+JmeuSCHUdPMChOgRKCmfOv+Hdvt9C1AKl5XTwHnx3lbGCvaxtljfEb2b/pgrqtU8PRGFf2R/Zsse8tfZR+yhK81xral8devCfIM32mUPM34ksVPslEfwLiOx+9gF8i6j1kngLJI5O4LWwUVhNvlgmaQQQZxyIjQM/ilsLoRQfu0C/2GxAVIvc6enIb0G8PKegStU07Uam1wh5K4HgGM+kzaCFG0gCO4ilqtDbaTT8F09b+ITjcIjpQ7BC9np1yvs8GRbFozfJZR0Yk2pvbbXfsR05PKQU5Vpc8yOtNWMXZR3QxISZdx8RmgO1/9+dwziBbkwFC1H5WjFqyceljqIlX5hjTYj9aRpoGtr1m3glP3sWJHDArTFkM89aBsPHk4oRp05Wz7HWxop28BUvWWeiWqlvyYCHIXAHKSUAMJyckli7yWzz6i/EVReq2Lz6S+fzcL1pGb86EvfRboOsguLsNF7Lbm/wgCrs6f2TZUuKl1PlIFfZFlHZ8MMshg+8gUIBn8UljfjKJjxoU+gyfJBMSefArwGwMVZ3VaOzypFCB9BcLvoUgoHF7fxJQ9CHfxKwhd3ydEAuzgdJP0Kte1tuQWseOlrADgg/BUJjEt/2VBw0qPP/kHJmYXaytSRXe+1JVKDKX8kaKH1N1XAcC3gFhBDozXDqBm3IrVs09KtcqXX5Ayd2jyQ4v9m5X2fvbh+P2+9s/4/BQKkZ66zij0W9EpUxNYIbhwu0jfAqT6XXXxdCJenxrk47bGfYmpVFSxV7/L/k1BMsduSx6KQ8VKMresWxllL7EPYuE9AgfSNCDwECmQJ1nnI1XMtQgX3FQr9gwyyCAhMgVIBr8UNiJRdM660TuXvABJaRH+G8JGJIrOGRfqdXb4llP4HtKC/sRdyvcTA0Fbpr7NNkF5LnVaO7zJ9lVfxSY1s02JGSddB5WzPojCNXAiccNYDY372LRICfJwwFiM5WboytWfj3PVsjQdQa3WjrULf5VqlYkZQqB153DRjmtxJBAzUQiVbyhPjc4+zIqPtu9Y2HaqoGJWSauzTaRvAXL9X+r2sdtZ1MptyK6+nVjNT6L15v+wf0c2hAVw05eJX4tGe2Uvpr5/txoqXmddi2O3sYuMHDON0sp/7QZtFRe6FTs+GWSQwfaRKUAy+KUQicbQNetGz6x6ATJm8qNB54A//L/1WYxEY+iedaNR70AgvJH8AbR4ppwHOTp+Yt340Qs7HgcQWGEFSKP+/7d359FRVPkewG9WkrAmDFsAA4gsgoLjsIgKAo4giMCAAiJEHEcclXk6vBGdhwQdEBEdhk3ZJCyRLQgMSwRCNggEEhZBCDsBEkJWskG27vT3/VFUJ51Or3S6Ot3fzzl1jqlUV93qLmJ9u+69PzM+J7mru3zzaujLw1MbpG5E1f/fLs9KZWl3IdnODwz3pKleALG06MFsUjXUDJE9mJUr69AaRCZnoGzLn6WxrjJ5cp5q2yNqTu12H69p0qbwt2sOCzv+Ko3jqD5exRS5srqxLmoWctwAIhewqYn2cZ4Fjb57Q3pN+hnp5y2TDM+yBVSOGalapj50uLTOVF9EecozS9JlXfPfadLApxUv6A7iksnvX8IPhgeBWULudmfjb3OIXBkDCNmLRiPVqYi/nG0wgJy6cReRyRkoKDHjJtzJHL2ag8jkDO2MVkZpNFJ3cENdaOQaEElrpO1sqOBBPZeDF8z4nOR7NXkGJUNdweQvGOVZsWRynTF53K88hay5No6XuqvVpHqRwoLb0s/GqpU/CCl3j2/C4SvZKP/5r7r3g2uG6Rf22xosrbf0ntUSP7+rG4QAaQxyTeceOVv6An7zm8bvgau7/GA8UdUnPA/JcQNI5OzK7k/VmXqcVxM5FMj9/UKH685eUJ08fWzVi2nTG9K6OBODcOTKlKam663L5BmvaihiA0AqNLTqxcraIA/bB1WeRWLNsIfbDxFpMYCQPSVcy8FhIwHkRMpdRF/IQFGpSumm2l1iSi4OXshAobnha98/pfoZNUneJfVOSPheugm3oaJSFaIuZEh1MEx9TnJ3+cTVUnsMke+ZbhzVXf/zu9Kg56LMmn9vjEYj3YOcDa/593IF9osR0s/aqXKNlAx40BOm4NR2nLiRC/Wuj3R70tTUhatqDTNL7lktUdMsYlXH51Z1bLk0Q+uPQ6RB+uaS77urd/V6CI4bQKoXdKlKO7WaBf/DLLxTORuBWlXZPcgQuRvVpX2V63Z+YF4fOPmxm6npeuuyU2HShWysO9Se6Q/Gzbzw8MeTx9UoXdyRyIkwgJA9Hb+eg0OXsgwGkMTruYi9mIniMrXSTbW70zfzLAtf12KlsRM1kZ8oHJhV89iKh3DvwZTBsRczUVJu4nOSZwSNXyT1mDBEo5G+XKz+pfBPr0vjQCoqpDBRteaGKXIXq2uxhrdZ8YJUWR6oDEvVn8JUd2EvSgtzcDPnPjRVhwrI3fQv/qK7vXzvUpvjV2vqTlV1fG5V53dWtudqtPnHkJ9mJa56uLZW4bgBJHa+4YqUcn9AS75Vv5f9YMBRQpXBRwmGt5e3qTpDwv7/e9Ata6nxY5UUPBjA/pH57XNGcu2O1S89/L7k6eMcobYKkZNQq9U4ffo0Tp8+DbXa9W76yL6SUnIRZySAHLuWg7hLWShVud61eCY1DzEXMnG/zAZPf+QeHD//xeZdweWCkocuZ6FMZeIeTG5H9FzphtiYnR/oPk2o/gQj/G39bkbGyON+jVVQX/1S5f7lLkblFtSgqTrVrXzfdy1GdxuNRrpvsfFsZDqqD1mQixMm79bfVg5ay/sDGefMP0bKYek1Vce4PCTHDSCHvjM8iFueWcESxXelNy/lcOU/CkNFCGWZF3S/4Y9bIL3u+ErjrysvlrarPgezq8m7Jb0PthgEJz+iNTSlHhERObRTN+8i9qLhAHL0ag4OX8mGSu16RTGT0wts9/RH/sI1dLjNe2IUl0kFJePN+Zzupkjt+OUz0/cBh/+t+7Sm7J7uGA1TM5dWZ84TjdDh0oydgBREVr1o2SQ3Uf+qbFP1WbWqOrLENj1BDKk+21f18S1VyeOhLZ2V68bRyhm9bMRxA8iRJYYfHf72s+WDkUsLK9PpzQTrpkST+/KZSoByF6+IGZbt39loNFL/0/WjHn5fcoAMf/vh90VERHb36y3pW35DAST+sjRLlsYFZzq8klmI2EtmdGsyR4VaGnNRC1+ElpSrEXspE0evmvE5yV8c/ndaZVFnQ+QvluVuStXH7SatMb2PquSZt9RGnihVnbUq6UfpZ0vEfSOVJACqFPk7rb/dvWzjXf4fljxbmEweBnDjiP62ci2QlQMteyIj13Q7Ffbw7X3AcQNIwg+VRe2qk4vbWEJ+KnElsrILl9rCmTZ++/lBAlxvfDuNRtrO0DTCriR+keHP0RJyojfULY+ILFZRUYFLly7h0qVLqKit7gFED5y7nY+oZMMBJO5iFpJSammqUgeXkn3PvG5N5lo3slbuQ0pVUtHERHM+p+K8yi8OTd3cyxPNyIPA75yVfs69Lv0sF4c2VMywOnkmMGM2jq/s0XJ4YWXhaXNVLeanrTVnomdNbTiyRLfwtRzebp+qeft1Iy3vzi7PRFq94vpDcNwAkrgKCHut5g2tmdu6ogJYOUgqzHMqzLpuQfI/AHNmDlg1GDjwueXHcDZl921TiV3u0+jMA/uJ7IyD0MmermQW4sD5DIMBJPpCJs6k5indTEXcyr2PI1eyUW6r7mfhb0v/zzRVt8xCckX7Uzfvmt64vOTB2M1xpm945S8Z5Yl/rsdJPxc/uB60YzrOmtfQuAWma7FtmVRZ10KentYSVeuTyF2UijIt24ctVA9b2VektmReqHn77VNrrjxvzO1TD6ZUtmAiABMcN4CcWGu4687J9ZY9ipNtfUu6KI8skS48S8kfwG/bTG/741DjhQ7JcisHcVwNkQ0xgJA93cy5j33n7hgMIJHnM3DxTi3VSnBwqXfvI+FaDtQVNup+tvcf0v1KzNe22d8DckX7s+YERfmLw9Dh5vWE+GlcZZ0JuUuW/GRWVSb9XNPA6pr88pnpbvDb/iyNNwaAPX+3rDAfUPlUoOC21ENm5aDaG2hujHxsuUucXIfNUN2UcztqLiBtjLxPQ6UXrOC4AeT0T4afUiStsbyvHgAc/FIqT29N0gUqp+Y154Nb+4rhCpxknTUvS39UiMgmGEDIntLyirHvXLrBALLvtzu4nlWkdDMVkZ5fjKSUXFTYKoDEfG1e2QALqdQViL+SjeR0M28aV78kBQdzpgOuWrm8pi+aN07QLQ5tzLZ3TM+ateP9yoBmzvbVacd9nJLatXGCZa+3lcuRujN4yQPwLR3nbEzGuQf3vztttkvHDSDGZiQ4vtK66VhPbZDmmt71N+ueTsj9GeXCNcasH23zbx5c3rqRQGSI0q0gchoMIGRPGQUl2G8igNzKraVibQ4uo6AEJ2+Y0a3JXMdX2rxyNQBUVGhw5Eo2rmQWmveCtSPMn0Dml88qp5OtPq4BkJ5oVJ1u1ph1I4EToca32fU36YtpoLLmiCXkLmaX9ktPTwwVz65t2sDxoPvXtRjp51IzPyNzyIUazX0CZQbHDSDG+tMZG6BuTEp85eNAS0rQyyoqpIRszpiGn163PE2TcT+Nk+YTJyKbYAAhe8opKjXaBWvfuTu4k1+idDMVkVVYit/SbDj+5bdtlVXIbUij0eDo1RzcyLln3gvCXntQk8SMeiRVZ3OKniv1WKkq4XvpPsAUtUqaBczUzfLef1R2u/pxqGWVwWVrX5Ge1mx7R6raroSM89J7nHNV+vlihOkZwCwljysx5wt4MzluAJErl1edU/l+rnRBHVls3RiOgvTK+Y+rV9y0tU1vSPNak+1smcRQR2RDDCBkT/n3yxF5PgOnb+YZDCBZhaVKN1MRKnUFCkosnJnTmGsxtXavc/x6jvlPqrZMktqx433T2yZ8X/nl8i+f6ne5vrBXChblJkKqOcWmgcoCftoq5lbcXIe/DRz6Vvpi29QMqbVFrrkmz3plTakKU3KvVT7tsRHHDSAajZRIT2+UfqkqlRK0XA07fIrlB6iokPa5vH/tzskMSI/2bFiwhSA9Hq2psA4RWYUBhOypqFSF6AsZOHnjrl74OHMrD/vP3cHde7wObUKextaGsxbJTtzIxe08MyuG//wX82ewrDpD6Y73gZh5ur+Xi0ibquBtahYoWeRsqdvUvZwHharjTbexul8+k8auyGUelCAPD7geJ/18Kkx6MmNLcgFDG96DOW4AAaRHcXKXm+i5UqKTp5b7+S/WHWT7ew8KtBy1TaMNUZVJxYCIiByUWq3G8ePHcfz4cajV/HtFtUsuYnf8Wq5eADl14y4ikzNs+xTAlRXcNn/SHAv9euuu+V3l/vuh1A5zxkck75KecFRUSE9Cqg84V5VJJQ5MzcSknZ0q3fh20V9J3bzkb/fv/Ga6jdUdXii1ydrX20KF+sEX63ukn60dJ22M/JTlarTNdunYASR2vtSvTp5pIHl35UCYHX+17iCx35iXjImIiMhmVA+mcD16NUcvgCSl5CLmYibul9mw37orU5VKM1BdP2TzXV/KKESuuU+q5OmA9/7D9LbXYiuLDa59pebuYz+/KwUHY64clPZTZmKcStwC6cvs26el7fNumm5jdad/quzaf1/BIpprXq4sEnhksXmzjllCHsIgP2WxxS4dOoCc2Qqs/qPUr271S9I/KEB6bLb//6w7yNlw209PRkREREbJA5gPX87WCyDHruXg0OUslKr4JM5m7uXUSl0KTU2zkxqyf6Z0z2XOFPpyrbW8m9LUvTU9vTn0remb6+p1MQw5shjYGlwZfIqtmATgyoMpcA3N2movVWfxip1fOZjfVooyre+mZoBjB5DUJOmE14/WLRBToba+e1NRJhC/SJliMUREDqSiogIpKSlISUlBBf8mkh2cvJmLuItZegHkyJVsHLmSbbtCfOQYouZI93HmFPmTq53L08pei9HfRh6IXmZkEPyJUOm+0RR5RtXkXdLxrLmvlAv0VZ8y2N62/VkKZ0Dl2BZbKi+W6pzkXrfZLh07gNzLrny0dVmhwT1ERE6Kg9DJ3n5Ly0NUcqZeADl0KQvHruUo3TyytbgF0j2cObXX5Hs+uadK2kn9beSQkv6r4f3E/0d6smFK0o/AhjG6g98tJc/Yak4Xs9q0+6PK9zhihjTDl4Nz7ACi0UgXxcpBQKlrVkclIqotDCBkb5czCnHgfIZeAIm5kInTN21YB4Mcw5El0g26XOHcGFVZZfX2qnUtqqpQS13zz2wxvJ+DX0gzkZpyaoNUbT3hB+urmKtVUnexQ99Z93pbOfA5sOfv0n//dxoQ9S9l22MGxw4ggPQYKWKGLQ9DRERgACH7u5lzv8ZihAeTM3D+dr7SzSNbkyuyx3xt3varX5JupI2N1d3xvvEnKnumm9fl68wWqTRDzNfA9qnmtc/Q8ZQuERD3TWWxx5//Uidqpjl+ALmfK82IQERENsUAQvaWlleMfefS9QLIgXMZuJJZqHTzyNZObZDChLk3xGFjpWrny/tXTjxU3fGV0qxPpQaul23vmHe8c9ulHjb7/ql8F6qHlfADsHG89N+bJ+pPYeyAHD+AEBFRrWAAIXvLKCjB/hoCyL7f7phfXZvqDnk8x+GF5m0f/rY0yHz1Hw1vcy9HmnXKUOXxqjNCGXNhb2WVdnO6iDmy0z9VjmPZMAZIWqNse8zAAEJE5KIYQMjesotKa+yCte9cuvnVtanukGeYOrLEvO13fyxtv2GM8e3Ao/HyAAAgAElEQVQOfQesHSHNzlTdj0PMqwB/+cEUuj+Nk6bkrcvO/7eyiOOaYZU1QRwYAwgRkYtiACF7y79fjsjzGTh9M08ngOw/l47MAjOra1PdcfmAdJOf8IN520eGSNuHv218u4L0mmuFyAPZL+0zfSy5/seqwcCJtea1z1Fdi3lQxLHgwfuyU+kWmcQAQkTkotRqNeLj4xEfHw+1mgXgqPYVlaoQfSEDJ2/crfYE5A5yigz0+ae66/oh6cbYnC5RgFTLYnl/aVpZU7YG63ftKsp6UEskwfTrbxytLPVwbrt57XNUqSek88i9/iCA7Ve6RSYxgBAREZFdlJSrEXspE8ev5WrDx6kbdxGZnIH84nKlm0e2ditRuiE2d0yCPGvWgc9Nb/vLZ/qDx+U6IRnnTb9evmlf3l/5WaweVvZl3SKO1w8p3SKTGECIiIjILioqNEi4loPDl7O1AeTYtRwcupyFUhWfwjkduVK4oQHj1Z3Zav6sWUcW61cgT3sQKvLTzG/b8v5SGKnLCtKl85DH3NSB82EAISJyURUVFUhLS0NaWhoqKiqUbg65iPPp+ThYpRhh3MUsJKXkKt0sqg3yN/PmDoq+tM/8Lltnw6XZsKr+7boaLb3e0BS9VWVeqAwg2ZfNa5+jKi2qfN+W9wcyzindIpMYQIiIXBQHoZMSbuXqFiM8cD4DlzNYA8Qp5d2UbojPhpu3vTwuw1ilc1lKvLTtvezKded2SIOwNRrTr8+9VhlACjPMa5+j0mik8171ojQLVvFdpVtkEgMIEZGLYgAhJWQXlWL/uTs4c0uaCeuXc+lI4xS8zqko07JB3nd+k7a/GGF6WzlApJ+pXHdyHbBupHnHyk+tDCA1Tedb16wfLRVyzL2mdEvMwgBCROSiGEBICffLVIi5mInE67n49VYe9p+7g9x7vP6cUklB5dgEc+TdkrZPiTe9bXmx/oxPRxYDWyabdyw5HK160bwnJo4u52qdePIhYwAhInJRDCCkhIoKDY5elQaiJ17PRczFTNwvUyndLKoNqjKpa9DlSPO212ik7lrlZtaEWTdSmmEr+4o0gD3qX8B/PzTvtcV3HxQ9/JN525NNMYAQEbkoBhBSyvnb+TiYnIHDl7Nx9GoOKiqc4Btoqln6GUBVSzVedvwViP4K2Pu/lUUF9/+fea8tuy+9ZutbtdM2MooBhIjIRTGAkFJu5d5HxNl0HDiXgd/S8pRuDtVVB78ANk+UnrLs+fuDKXy/Me+16nJp+11/q902Uo0YQIiIXBQDCCkl734ZEq7lIO5SFm7l3le6OVRXydPOrhosjTe5Gi2NhTCHRgOsGADsn1mbLSQDGECIiFyUWq1GTEwMYmJioFazCBzZl7pCg5JyNbtfkfUu7JECiLUhYvUfzX9iQjbFAEJEREREdc/tUw9mzTps3etDhwPHVti2TWQWBhAiIiIiqnsqKqRuV1WroVviyBLg9mnbtonMwgBCROSiNBoNMjMzkZmZCY0zzINPRER1AgMIEZGL4iB0IiJSAgMIEZGLYgAhIiIlMIAQEbkoBhAiIlICAwgRkYtiACEiIiUwgBARuSgGECIiUgIDCBGRi2IAISIiJTCAEBG5KAYQIiJSAgMIEZGLUqvV2L9/P/bv3w+1Wq10c4iIyEUwgBARERERkd0wgBARERERkd0wgBARuSiNRoO8vDzk5eVBo9Eo3RwiInIRDCBERC6Kg9CJiEgJDCBERC6KAYSIiJTAAEJE5KIYQIiISAkMIERELooBhIiIlMAAQkTkohhAiIhICQwgREQuigGEiIiUwABCROSiGECIiEgJDCBERC5KpVJhz5492LNnD1QqldLNISIiF8EAQkREREREdsMAQkREREREdsMAQkTkojQaDe7du4d79+5Bo9Eo3RwiInIRDCBERC6Kg9CJiEgJDCBERC6KAYSIiJTAAEJE5KIYQIiISAkMIERELooBhIiIlMAAQkTkohhAiIhICQwgREQuigGEiIiUwABCROSiGECIiEgJDCBERC5KpVJhx44d2LFjB1QqldLNISIiF8EAQkREREREdsMAQkREREREdsMAQkTkojQaDcrKylBWVgaNRqN0c4iIyEUwgBARuSgOQiciIiUwgBARuSgGECIiUgIDCBGRi2IAISIiJTCAEBG5KAYQIiJSAgMIEZGLYgAhIiIlMIAQEbkoBhAiIlICAwgRkYtiACEiIiUwgBARuSiVSoUtW7Zgy5YtUKlUSjeHiIhcRJ0NIBqNBiqVCiUlJVy41PlFrVbb8p8SERERkcOqcwFEo9Hg7t27uHTpEpKTk7lwcZolPT2d1aiJiIjI6dW5AJKeno7k5GSkpaWhsLAQxcXFin97zYXLwyzFxcXIycnRhhAiIiIiZ1anAoharcaFCxeQnZ1ty8MSOQQ5hLA7FtkLB6ETEZES6lQAKSkpQXJyMoqLi215WCKHUFxcjOTkZJSUlCjdFHIRDCBERKSEOhlAeINGzojXN9kbAwgRESmBAYTIQfD6JntjACEiIiUwgDiQ0NBQCCEMLjExMWbt5/bt2wgJCcHp06f1fhcSEgIhbPqxme38+fMICQlBSkqKzfet5HnZirNf3+R4GECIiEgJDCAORA4goaGhSEhI0FvM/ZCSkpK0+6kuNTUVCQkJNm65ecLDwy0KUpZgACGyHAMIEREpgQHEgcgBJCkp6aH2YyyAKIkBxDhnv77J8TCAEBGREhhAHIi5AWTr1q3o3bs3GjVqBF9fX7Rv3x5TpkwBAMTExNTYfSskJARAzTfqQUFBGD58OHbv3o2ePXvCx8cHXbp0we7du7Xt6tKlC/z8/NCrVy+99iUlJWHcuHEICgqCj48PgoKCMH78eNy4cUPv3KovVUNSZGQkBg0ahIYNG8LX1xf9+vXDwYMH9c5/z5496NGjB7y9vdGuXTssWLCAAYTICiqVCmFhYQgLC4NKpVK6OURE5CIYQByIfJN+7NgxqFQqnUWuDXH06FG4ublh/PjxiIiIQHR0NEJDQzFp0iQA0nso72fmzJna7lupqakADAeQNm3aoHv37ti0aRMiIiLQp08feHl5YdasWXj22Wexfft27NixA506dUKLFi10pkIODw/HrFmzsGPHDsTFxWHz5s0YMGAAmjVrpq3ZkpWVha+++gpCCCxbtkzbrqysLADAhg0b4ObmhlGjRmH79u3YvXs3XnnlFXh4eOiEkIMHD8LDwwPPPfcctm/fjvDwcPTq1QuPPPIIAwgRERFRHeA0AaSkXI0rmUUOsZSUW1dIztggdA8PDwDAt99+CyEE8vPzDe7HWBcsQwHE19cXaWlp2nW//vorhBBo1aoV7t+/r12/c+dOCCGwa9cug8dXq9W4d+8e6tevj0WLFmnXG+qCdf/+fQQEBGDEiBE66ysqKtCjRw/07t1bu65Pnz4IDAzUuQYKCwsREBDAAEJERERUBzhNALmSWYRXFh92iOVKZpFV5y8HkPXr1yMpKUlnOXHiBAAgLi4OQgi89NJL2LJli05okFkTQJ555hmddWVlZRBCYMKECTrrL126BCEElixZol1XVFSETz75BI8++ig8PDx0gtN7772n3c5QAImMjIQQAtu2bdN78jNjxgy4ubnh3r17uHfvHtzd3fHhhx/qnVdwcDADCBEREVEd4DQBxJmegJgaA7Jz504MGjQI9erVgxAC3bp1w8aNG7W/tyaADB8+XG9bIQQ++OADnXUpKSkQQmDBggXadSNGjICfnx/mzZuHgwcPIjExEUlJSWjWrBmCg4O12xkKIGFhYUanHxZC4NatW0hNTYUQAnPmzNFr64wZMxhAiCxUVlaGOXPmYM6cORyETkREduM0AcQZWDoLVmlpKWJjYzFkyBAIIXD06FEA9g0g+fn5cHNzw+zZs/Xa5uHhYVYA2bdvn/apSvUnP/JSVlaGe/fuwc3NjU9AHJCpAGlpLRtTSkpKIITAvHnzHnpfFy5cMLv9d+7cwS+//AIhhGLTWduSLWbBsvdnL7t58yZCQkLw22+/mdy2RYsWZrVx06ZNNr22iIioZgwgDsTaaXjl8RrLli0DAJw9exZCCHz//fd629o6gMifWfX/WS9duhRCCJ0AsmvXLgghEBERobNtUVERmjRpgr/+9a8mz5VjQBxT9Zo1w4YNg6+vr9W1bEzRaDRISEjA7du3H3pfJSUleu3s1q0bunTpore+vLwc+fn5SEhIQFGRdV0tHYktAoi9P3vZ4cOHtaHBlJMnT+q0ZdKkSRBCIDo6Wmd9Tk6OTa8tIiKqGQOIAzFViDArKwuff/45pkyZgrCwMMTGxmLnzp0YOHAgvLy8cO7cOQDSoG5fX188++yziImJQVJSkvZ/prXRBat///4ICAjAqlWrEBkZiZkzZ6JVq1Zo0qSJTgC5fv06hBAYNWoUDh8+jKSkJOTk5ACQZsFyd3fHuHHjEB4ejri4OGzbtg2ff/65zjiSAwcOwN3dHc899xx27NiBbdu2oVevXmjbti0DiAMJDg5G/fr1zd6+rKxMO9ObI+jTpw+efvpppZtR62qjDoiln721LAkg1cldNp0hRBIR1UUMIA7E2CxYQgisWrUKe/bswcsvv4zWrVvD29sbzZs3x7Bhw3D48GGdfW3atAldunSBl5cXhDCvDkh15gaQtLQ0jBkzBv7+/mjYsCGGDh2Kc+fOISgoSCeAAMB//vMftG/fXjtYvWo3sbi4OAwfPhwBAQHw8vJC69atMXz4cISHh+vsY9euXXjyySfh7e2NRx55BF9//TXrgDgYYzehchemzZs3Y9q0aWjZsiXc3NyQkpKC9PR0TJ06VVt3pnnz5hg8eLC2e6Gspm4yP/zwA4QQiI+PxzvvvIOAgAA0bdoUY8eORUZGhkXtNxZAauqCNW7cODRt2hTnzp3DoEGD4Ofnh8DAQHz77bcAgEOHDqFv377w9fVFp06ddMZsydLS0vD222+jVatW8PLyQocOHTB37lxUVFTobLdo0SJ0794dfn5+aNiwIbp06aL9920pJQJIXl4ePvroIwQFBcHLywtt2rTB9OnTdab2BoCNGzfiD3/4Axo2bAg/Pz88+uijmDp1KoDKz6D6Ym63KWMBxNi1dejQIbz11lvw9/dHo0aNMGXKFBQXFyM1NRWjR49Go0aNEBgYiE8//VQvUJeWliIkJASdOnXS/u1+5513tF/CyPbt24fnn38e/v7+8PHxwSOPPIKxY8dyjA4RORUGECIH4UzXtzkBpHXr1pgwYQL27NmDXbt2IT8/H2fPnsWHH36ILVu2IDY2Frt378bkyZPh4eGhE0KM3SQ++uij+Pjjj7F//34sX74cjRo1wssvv2xR+60JIL6+vujcuTOWLl2KAwcOYOLEiRBCqsfTuXNnrF27Fvv27cOQIUPg5uamM3YhNTUVrVq1QocOHbRPEkNCQuDt7a3zBFD+kuLjjz9GZGQkIiMj8f333+Pvf/+7Recns3cAKSwsRLdu3dCiRQssWrQIBw8exHfffaf94kImF1SdNGkSfvnlF0RFReHHH3/UFlzNz8/HihUrIITAv/71L+1TYnO7TVkbQDp06IAZM2YgMjISc+fOhbu7O4KDg9GjRw98/fXXiIyMxMcff6zTJRaQCj4OHDgQDRs2xNy5cxEZGYkVK1agRYsW6NGjB0pLSwFIswx6e3tj2LBh2LVrF2JjY7FhwwZMnDhRL6AREdVlDCBEDsKZrm9zAshLL71kcj9qtRoqlQrPPvuszpTQxm4Sq9+Mf/nllxBC4O7du2a335oAIoTA3r17tetKS0vRpEkTuLu7a7tHAsCdO3cghMA///lP7brg4GA0btxY7wZ6zpw5cHNzw9WrVwEA77zzDlq2bGn2eZhi7wASEhICT09PnDlzRme9PBNedHQ0gMrzNvZvoba6YBm7tv7xj3/obDt06NAax9t16dIF/fr10/4sB8eq1wcAxMfHQwiBNWvWAKh8Hy5evGjxORER1SUMIEQOwpmub3MCyIoVK/R+p9FosHjxYvTs2VM7zbS89OzZU7udsZvE2NhYnX3KxTN//fVXs9tvTQDx8vLS63bz1FNPoX379nr78Pf3x8SJE7U/N23aFK+99ppeHZyTJ0/q3KCuXLkSQgi8+eab2LVrF3Jzc80+p5qUl5cjNDQUoaGhKC8vf6h9yYx99k8//TR69+6td565ubkQQmDWrFkApLFeQggMHz4cW7duRXp6ut6+lAggcXFxOtvKTztu3ryps3706NFo3bq19ucxY8agefPmeuetUqng7++PyZMnAwCSk5Ph6emJfv36Yf369UhJSbH43IiI6gIGECIH4UzXtzkBZNeuXXq/mzt3LoQQmDZtGvbu3Yvjx48jKSkJgwYNQufOnbXbGbtJrD4tqzXT5lo7BsTc/bRo0QJjxowBID3lMTU97DfffANACmgrVqxAnz594OHhAXd3dzzzzDPaJweOwNhn36ZNG6Pn+f7772u33bZtG1544QV4e3tDCIEnn3xSZzyYEgGk+rVlaD/Vr4fnnnvO6HkPGzZMu210dDSGDRsGPz8/CCHQsWPHGmc0JCKqyxhAiByEM13f5gSQ3bt36/2ua9euOmMBZE8//bTTBhAAaNKkCUaMGGGwDs6dO3f09lFUVITdu3fjqaeegq+vb41PCZRg7LPv2bMnnn76aYPnWf1JAiB91lFRURg0aBDc3Nxw8uRJAHUrgIwaNQqBgYEGz/vy5ct67VCpVDh69Chee+01CCGwY8cOi8+TiMhRMYAQOQhnur6tDSCPP/44Ro4cqbMuKSkJbm5uTh1A3nzzTQQFBVn1h3jz5s0QQiAqKsri19YGY5/9zJkz0ahRI6Smplq832PHjkEIgR9//BEAkJiYqNM9zRL2DiCrV6+Gm5sbTp8+bXFbMzIyIITA559/bvFriYgcFQMIkYNwpuvb2gDyySefwN3dHf/6178QFRWFJUuWoHnz5mjfvr1TB5Bbt26hdevW6N69O1asWIHo6Gjs3bsXS5YswdChQ5GVlQUAmDx5Mj766CNs2bIFcXFx2LRpE7p3746AgADk5eWZfX6ysrIyzJ8/H/Pnz7fLIPSCggJ0794dQUFBWLhwISIjI7Fv3z6sXLkSf/rTn7Q36J988gneeecd/PTTT4iNjcX27dvx/PPPo169etqnBfn5+fD29sYLL7yA2NhYg0+KamLvAKJSqTBo0CA0a9YMc+bMwb59+xAZGYnQ0FC8+eab2sHp//nPfzB+/HisXbsW0dHR2LNnD0aOHAk3Nze9sU1ERHUZAwiRg3Cm69vaAFJcXIyPPvoIrVq1go+PD/7whz9g7969GDdunFMHEED6pvuDDz5Au3bt4OXlhaZNm6JXr174/PPPtdfE6tWr8cILL6B58+bw8vJCYGAgJkyYgOTkZLPPrSol6oAUFhbis88+09bDaNy4MZ588klMnz4d2dnZAKSJA4YMGYLAwEB4e3ujRYsWGDFihN5nuG7dOnTq1Amenp5614Mx9g4ggPRef/3113jiiSfg4+ODBg0aoGvXrnj//fdx/fp1AFK9mJEjR6Jt27aoV68emjZtikGDBuGXX34x67yIiOoKBhAiB8Hrm+ytNgIIERGRKQwgRA6C1zfZGwMIEREpgQGEyEHw+iZ7YwAhIiIlMIAQOQhe32RvDCBERKQEBhAHdObMGbz99tvo0KEDfHx84OPjg44dO+Ldd99FUlKS0s17KMHBwQgKCjK53bJlyxAaGlpr7TC0/5iYGAghdAqe2YurXN/kOBhAiIhICQwgDmb58uXw9PREt27dsGjRIhw8eBBRUVFYunQpnn32WQghcPXqVaWbaTVzA0i3bt0wYMCAWmuHof0zgJArKS8vx4oVK7BixQqUl5cr3RwiInIRDCAOJD4+Hu7u7hgxYoTBbyO3bt2K27dvG93P/fv3a6N5NlEbAaS8vBwqlcqidjCAEBERESmDAcSBDBs2DF5eXkhPTzf7NfKc+2fPnsUf//hHNGjQAH379tX+/scff8STTz6JevXqwd/fH6NGjdKrGTBgwIAab8arh4WUlBQIIbBgwQJ89913aNeuHerXr4++ffvWWGMhNDRUO9d/ly5dsG7dOrMCSFBQEIQQOov8GjkgrF+/Hn//+98RGBgINzc3XLhwASEhIRBC/5IMDQ2FEAIpKSlm73/jxo345z//iVatWqFhw4YYPHgwLl68aLTdD8vZr28iIiIigAHEYajVavj6+uKZZ56x6HXBwcHw8vJCu3btMG/ePERFRWH//v0AgK+++gpCCEyYMAF79+7F+vXr0aFDBzRu3FhbTRiwPIC0a9cOQ4cOxc6dO7Fz50488cQT8Pf3R35+vnZb+aZ/5MiR2L17N8LCwtCxY0e0bdvWZAA5deoUOnTogKeeegoJCQlISEjAqVOnAFQGhNatW2Ps2LHYtWsX9uzZg9zcXLMDiDn7b9euHSZOnIi9e/di06ZNeOSRR/DYY49BrVab87FYxZmvbyIiIiKZ8wSQ8hIg65JjLOWW30BmZGRACIHx48fr/U6tVkOlUmkXjUaj/V1wcDCEEFizZo3Oa/Ly8uDr64thw4bprL916xbq1auHN954Q7vO0gDyxBNP6NyIJyYmQgiBTZs2AQAqKioQGBiI3//+9zptvXHjBry8vB6qC5YcEPr376/3O3MDiDn7r/6+bd261eJq2pZiACF7Ky8vx8KFC7Fw4UKOASEiIrtxngCSdQlY3t8xlqxLFp+7sQDSo0cPne5CCxYs0P5ODiDV37OIiAgIIbB161a9/b388sto0aKF9mdLA8inn36qs11paSmEEPj6668BAMnJyRBC4Ntvv9Xb54ABA2wSQBYtWqT3O1sGkOXLl+usv3jxIoQQ2Lx5s8m2W4sBhOyNs2AREZESnCeA1PEnIMa6YJ0/fx5JSUnYtWtXjQHEz89P7zUbNmyAEAKHDx/W+92f//xneHp6an+2ZgxIdUIIhISEAAAOHz4MIQTCwsL0ths3bpxNAkhNwcqWAaT6IHT53GtzamAGELI3BhAiIlKC8wQQJzB8+HCjg9BrCgDyIPTqTD0BadmypfbnIUOG6Axcr9oeawKIPZ6A1DRL1bx58yCEQGlpqc76BQsWMIAQ1YABhIiIlMAA4kDkaXhfffXVGvtjWxJA5DEgr776qs761NRU1KtXDxMnTtSumzp1KgICAnRu3HNycuDv729VAKmoqECrVq3w9NNPWz0G5Pe//z169+6tt95YANm0aROEEEhMTNRZ379/f70AYun+GUDIGTGAEBGREhhAHMwPP/wAT09PdO/eHYsXL0ZUVBRiYmKwceNGjBkzBkIIrFixQru9oQACVM6CNWnSJERERGDDhg3o2LGj3ixY8fHxEEJg7Nix2L9/PzZu3IiePXsiKCjIqgACAKtXr9bOgrVnzx6LZsGSz6tevXrYvHkzEhMTcfbsWQDGA0hBQQECAgLwxBNPYMeOHdi9ezfGjBmD9u3b6wUQS/fPAELOiAGEiIiUwADigH799VdMmTIF7du3R7169eDj44OOHTti8uTJiIqK0tnWWAABpCDw5JNPwtvbG40bN8bIkSNx/vx5ve3WrVuHrl27wsfHB48//ji2bNli9RiQqsd+7LHH4O3tjU6dOmHNmjVmFyK8ceMGXnrpJTRs2LDGOh2GCgUmJiaiX79+qF+/Plq3bo2QkBBtGKoaQCzdPwMIOSMGECIiUgIDCJGD4PVN9lZeXo6lS5di6dKlnIaXiIjshgGEyEHw+iYiIiJXwABC5CB4fRMREZErYAAhchC8vomIiMgVMIAQOQhe32RvHANCRERKYAAhchC8vsneOAsWEREpgQGEyEHw+iZ7YwAhIiIlMIAQOQhe32RvDCBERKQEBhAiB8Hrm+yNAYSIiJTAAELkIHh9k70xgBARkRIYQIgcBK9vsjcGECIiUgIDCJGD4PVN9lZeXo6FCxdi4cKFnIaXiIjsxqkCSJmqAsVlakWXMlWFLd8SciEMIEREROQKnCaAlKkqkJiSi5iLmYouiSm5DxVCoqKiMGXKFHTu3Bl+fn4IDAzEq6++ihMnTli9T2dz5MgRhISEIC8vz+p9hIaGQgiBlJQURY5fEwYQIiIicgVOE0CKy9SIuZiJI1eykXg9V5HlyJVsxFzMRHGZ2ur3YOzYsRg4cCC+//57xMbGIjw8HH379oWnpyeioqKs3q8zWbBggdXhQZaVlYWEhASUlpYqcvyaMIAQERGRK3C6AJJ4PRdnU/MVWRKv5z50AMnMzNRbV1RUhBYtWmDw4MFW79dZ3L9/v9YCgLkYQMhZlJeXY8WKFVixYgXHgBARkd0wgDhYADFk4MCB6NSpk846lUqFb775Bk888QR8fHwghNBZ2rZta3B/wcHBCAoK0lsfEhICIUSN686dO4fx48ejUaNGaN68OaZMmYL8/HydbS9cuIDx48ejefPm8Pb2Rtu2bTFp0iSdJw2XL1/GhAkT0KxZM3h7e6NLly5YunSpwbacPHkSY8aMQZMmTdCyZUu98xRCICYmBgBw5coVvPXWW+jYsSN8fX0RGBiIV155BWfPntXZd01dsMw5T3mbmo5/6NAhCCGwceNGvXNZt24dhBBITEw0+JkwgJC9cRYsIiJSAgNIHQgg+fn5aNy4MUaPHq2zfvLkyfDw8MDHH3+MX375BWvXrkXz5s0hhMDHH3+MNWvWGNynNQGkc+fOmDVrFiIjI/Hvf/8b9erVw5QpU7Tb/frrr2jQoAHatWuH5cuXIyoqCmFhYXj99ddRWFgIADh//jwaN26MJ554AuvXr8eBAwcwffp0uLu7Y/bs2TUeNygoCDNmzEBkZCTWrl2LadOmQQiB7du3IyEhAQkJCdprJi4uDtOnT8e2bdsQFxeHHTt2YNSoUfD19cXFixe1+zYWQIydZ2pqqtHjP/XUU3j22Wf13tdevXqhV69eBpA1LFUAABQcSURBVD8PgAGE7I8BhIiIlMAAUgcCyMSJE+Hp6akzEP2nn36CEAIrV67U2Va+sd69e7fRfVoTQL755hud9e+//z58fHyg0WgAAIMGDUKTJk2QlZVl8LhDhgxBmzZt9D7jDz/8ED4+Prh7967ecWfNmqWzrSVdoNRqNcrLy/HYY4/h448/1q43FkBMnaex48v7PX36tHZdYmIihBBYt26d0bYygJC9MYAQEZESGEAcPIDMnDkTQggsWbJEZ33//v3RtWtXve2PHTtm1s2uNQGk6hMEAFi+fDmEEMjIyMD9+/fh4eGBd9991+AxS0pK4OnpiWnTpkGlUuksEREREEIgIiJC77hnzpzR2Y+xAKBSqTB37lx07doVXl5eOt2khg4dqt3OWAAxdp6mjl9aWormzZvjnXfe0a6bNGkSmjVrZnLAOwMI2RsDCBERKYEBxIEDyOzZsyGEwNy5c3XW3717F25ubpg+fbrea7Zt2wYhhMkZs6wJINnZ2Trrq97Ep6WlQQiBL7/80uAx5W2MLevXr9c7bvUnKsYCwLRp0+Du7o7PPvsM+/btw/Hjx5GUlIQePXpgwIABNbbdkvM0dXwA+Pzzz+Hn54e8vDxkZWWhXr16+Oyzzwy+LzIGELI3BhAiIlICA4iDBhA5fFQfFwEAZ86cgRAC3333nd7v3nzzTfzud7+DSqUyuv+pU6eiZcuWeus/+OADqwJIcXGxyScg8lOSt956C0lJSTUuOTk5Jo9rLAD4+/vjrbfe0lvfunVruwWQ9PR0eHl54bvvvsPcuXPh4eGBmzdvGnxfZAwgZG8MIEREpAQGEAcMIF9++SWEEJg5c2aNv7958yaEEDrdfACpQJ6Hh4fRpxCyefPmwd3dXdutCJBuRjp27GhVAAGkMSD+/v5621X14osvokePHmbd7Bg67uLFiyGEQHJyst5rAgICMHXqVJ11e/bsgRDCZgHE2PFlb7zxBh599FG0bdsWo0aNMnmuAAMI2V9ZWRnmz5+P+fPnM4AQEZHdMIA4WAD59ttvteMV5BmWqi6y/v37w9PTE3PnzkVkZCTmzp2L+vXr4+WXX0ZFhelK7NevX4eXlxdeeOEF7N27Fz///DMGDBiA9u3bWx1A5FmwOnTogJUrVyI6OhqbNm3ChAkTdGbB8vf3R+/evREaGoqYmBjs2rUL//73vzFw4ECzjhsTEwMhBKZOnYqjR48iKSlJu//JkyejXr16WLhwIaKiovDNN9+gWbNmaNOmjc0CiLHjy44fP67tVnbw4EGTnwfAAEJERESuwekCSF2vhD5gwACjYyRkmZmZmDBhApo0aQJvb290794d3377rcmuV1VFRESgZ8+e8PX1RYcOHbB06VKrx4DIkpOT8dprr6Fp06bw9vbGI488grfeektnAHZKSgrefvtttG7dGl5eXmjWrBn69euHOXPmmHVcAPjss88QGBgId3d3nTogeXl5+POf/4zmzZvDz88Pzz33HA4fPowBAwbYLIAYO35V7dq1q3GiAEMYQIiIiMgVOE0AKVNVIDFFegKh5JKYkosyleknEOTc5HE6y5YtM/s1DCBERETkCpwmgABSCCkuUyu6MHy4tqtXryIqKgp9+vRBq1atcP/+fbNfywBC9lZeXo7Q0FCEhoaivLxc6eYQEZGLcKoAQqS04OBguLu7o1u3boiPj7fotby+yd44CxYRESmBAYTIQfD6JntjACEiIiUwgBA5CF7fZG8MIEREpAQGECIHweub7I0BhIiIlMAAQuQgeH2TvTGAEBGREhhAiBwEr2+yNwYQIiJSQp0MIMXFxbY8LJFDKC4uZgAhuyorK8OcOXMwZ84cBhAiIrKbOhVAysvLkZycbHVjiRxZYWEhkpOTLapmT0RERFTX1KkAAgDXrl3DrVu3oNFobHloIsWlpaXh0qVLvLaJiIjIqdW5AFJQUIDk5GTcunULBQUFKC4uRklJCRcudXYpLi5GdnY2kpOTkZeXZ8t/UkREREQOp84FEHm7a9euITk5mQsXp1guXLiA9PR0Pv0gu1KpVAgLC0NYWBi7/hERkd3UyQAiKy8vV/zbay5cbLGo1Wpb/lMiMgtnwSIiIiXU6QBCRETWYwAhIiIlMIAQEbkoBhAiIlICAwgRkYtiACEiIiUwgBARuSgGECIiUgIDCBGRi2IAISIiJThUAMnPz4cQAqmpqSgoKODChQsXLrW4ZGdn49NPP8Wnn36K7OxsxdvDhQsXLlxcY0lNTYUQAvn5+coHkGvXrkEIwYULFy5cuHDhwoULFydfrl27pnwAycvLgxBCW+XclkunTp0UT3u1kRyd6WmRs3xGznIeBQXOd50502fjbOfkbNeas30+znhOznjNOctn42znUlDgnNfbw3xOt27dghACeXl5ygeQgoLaGwPStWtXm+9TSbX5XinFWT4jZzkPwPmuM2f6bGTOck7Odq3JnOXzqcpZzskZrzln+WwA5zoXwDmvN8D6z+lh3486E0CWLl1q830qyRkvZGf5jJzlPADnu86c6bOROcs5Odu1JnOWz6cqZzknZ7zmnOWzAZzrXADnvN4A6z8nlwkgzobvFdkDrzOyF15rZG+85sieeL3pcqgAUlpaipCQEJSWltpyt06J7xXZA68zshdea2RvvObInni96XrY98OmAYSIiIiIiMgYBhAiIiIiIrIbBhAiIiIiIrIbBhAiIiIiIrIbBhAbCg0NhRACSUlJSjeFXMCiRYsghEC3bt2Ubgq5gIf5+yaEQEhIiO0bRU4pISEBY8eORcuWLeHl5YUWLVpgzJgxOHr0qMX7On/+PEJCQpCSkmL7hlKdx/s25TCA2BAvZLKnHj16QAgBIQSOHTumdHPIyTGAkD0sXrwY7u7u6Nu3L9avX4+4uDhs2LABffv2hbu7O5YsWWLR/sLDwyGEQExMTO00mOo03rcphwHEhnghk70kJSVBCIHhw4dDCIG//OUvNt3//fv3bbo/qvsYQKi2xcfHw93dHa+88gpUKpXO71QqFV555RW4u7sjPj7e7H0ygJAxvG9TDgOIDVW/kJOSkjBu3DgEBQXBx8cHQUFBGD9+PG7cuFHj66Kjo/Hee++hadOmCAgIwOjRo3H79m0lToUc3HvvvQchBH777Tf069cPDRs21AkNKSkpEEJg/vz5mDNnDtq2bYt69erh6aefxsGDB3X2FRISAiEETp48iTFjxqBJkyZo2bKlvU+JHFz1v28DBgzAgAED9LYLDg5GUFCQzjoGEDLH8OHD4eHhgdTU1Bp/f+vWLXh4eOCVV17Rrrtw4QLGjx+P5s2bw9vbG23btsWkSZNQWlqqvWarL6GhoXY6I3J0vG9TDgOIDVW/kMPDwzFr1izs2LEDcXFx2Lx5MwYMGIBmzZohOztb73UdOnTAtGnTsH//fqxevRr+/v4YOHCgUqdDDqq4uBiNGzdGr169AACrV6+GEAJr167VbiMHkLZt2+K5557Dzz//jPDwcPTq1QteXl46fanlABIUFIQZM2YgMjISO3futPt5kWNjAKHapFar4efnhz59+hjdrnfv3vDz84Narcavv/6KBg0aoF27dli+fDmioqIQFhaG119/HYWFhcjKysJXX30FIQSWLVuGhIQEJCQkICsry05nRY6O923KYQCxIVOP8tRqNe7du4f69etj0aJFeq97//33dbb/5ptvIITAnTt3arXdVLesX78eQggsX74cAFBUVIQGDRrg+eef124jB5DAwECUlJRo1xcWFiIgIAAvvviidp0cQGbNmmW/k6A6hwGEalNGRgaEEBg/frzR7caNGwchBDIzMzFo0CA0adLEaKBgFywyhvdtymEAsaHqF3JRURE++eQTPProo/Dw8NB5BPzee+/pvW7fvn06+9u3bx8HGJOeAQMGwNfXF/n5+dp1U6ZMgRACly9fBlAZQD788EO91wcHB8Pb2xtqtRpAZQA5c+aMfU6A6iQGEKpN5gaQ119/HUII3LhxAx4eHnj33XeNbs8AQsbwvk05DCA2VP1CHjFiBPz8/DBv3jwcPHgQiYmJSEpKQrNmzRAcHGzwdbKYmBj+4SQdV65cgZubG8aOHYu8vDztsnfvXggh8OmnnwKoDCBz5szR28eMGTMghNAGGDmAsFsCGcMAQrXJ0i5YaWlpEELgyy+/NLo9AwgZw/s25TCA2FDVCzI/Px9ubm6YPXu2zjalpaXw8PDghUxW+eyzz2ocVCkvrVq1glqttuoJSNX+rUTVVf87NWTIEPTt21dvu+HDhzOAkFVMDUJPTU3VDkIvLi7mExB6aLxvUw4DiA1VvSALCgoghMC8efN0tlm6dCmEELyQyWJqtRqBgYF49NFHERMTo7dMnz4dQgjs3r3b5BiQwYMHa9cxgJA5qv+dmjp1KgICAlBaWqrdJicnB/7+/gwgZBV5Gt4RI0ZovyCRqdVq7TS8R44cAQAMGjQI/v7+Rv927dq1C0IIRERE1GrbqW7ifZtyGEBsSL4gT5w4AQDo378/AgICsGrVKkRGRmLmzJlo1aoVmjRpwguZLLZ7927t1Lo1yc7ORr169TBq1Ci9WbC2b9+Obdu2oVevXvD09NSZR58BhMxR/e9bfHw8hBAYO3Ys9u/fj40bN6Jnz54ICgpiACGrVS1EGBYWhkOHDiEsLAzPPPMM3N3dsXjxYu228ixYHTp0wMqVKxEdHY1NmzZhwoQJKCwsBABcv34dQgiMGjUKhw8fRlJSEnJycpQ6PXIwvG9TDgOIDS1btkxbmwEA0tLSMGbMGPj7+6Nhw4YYOnQozp07h6CgIF7IZLFRo0bB29vb6FiN8ePHw9PTE8eOHdOGlS+++AJt2rSBt7c3nnrqKezfv1/nNQwgZI7qf98AYN26dejatSt8fHzw+OOPY8uWLRwDQg8tISEBY8eORYsWLeDp6YnmzZvjT3/6k8704bLk5GS89tpraNq0Kby9vfHII4/grbfe0nky95///Aft27fXDipmHRCS8b5NOQwgNvS3v/0N7u7u2m9eiJQiPwFZsGCB0k0hJ8G/b0TkbPh3TTkMIDZw4sQJ/PDDD2jQoAFGjRqldHOIGEDIZvj3jYicDf+uKY8BxAbatWsHf39/vPHGG+xbSg6BAYRshX/fiMjZ8O+a8hhAiIiIiIjIbhhAiIiIiIjIbhhALBAVFYUpU6agc+fO8PPzQ2BgIF599VXt9G1VnTx5EoMHD0b9+vXRuHFjjB49GteuXdPZ5tKlS5g+fTp+//vfo3HjxvD390e/fv0QHh5e4/EzMzMRHByMpk2bwtfXF3379sXBgwdr5VyJiIiI6jIl79tSU1PxP//zP+jfvz8aN27MGdiqYQCxwNixYzFw4EB8//33iI2NRXh4OPr27QtPT09ERUVpt7tw4QIaNmyI559/Hnv37sXPP/+Mbt26ITAwUGcK1SVLlqBLly6YO3cuDhw4gIiICAQHB0MIgS+++ELn2KWlpejevTvatGmDsLAwHDhwACNHjoSnpydiY2Pt9h4QERER1QVK3rfFxMTgd7/7HV588UVMmDCBAaQaBhALZGZm6q0rKipCixYtdCpLv/baa/jd736HgoIC7bobN27Ay8sLn3zyiXZddnY2NBqN3j6HDx8OPz8/nXnM5bmqq86DrlKp8Pjjj6N3794PfW5EREREzkTJ+7aKigrtfyclJTGAVMMAYgMDBw5Ep06dAEihwNfXF1OnTtXb7qWXXsJjjz1mcn9ffPEFhBBIT0/XrnvxxRfRuXNnvW2/+uorCCGQlpb2EGdARERE5Brscd9WFQOIPgaQh5Sfn6/tKwgAFy9ehBACy5Yt09v2f//3f+Hm5oaSkhKj+3zhhRfQrFkzqNVq7bqWLVvitdde09t2z549EELoVbcmIiIiIl32um+rigFEHwPIQ5o4cSI8PT21A5qOHDkCIQQ2bdqkt638tMJQQgaAVatWQQiBRYsW6az38vKqMZ0fPXoUQghs3LjxIc+EiIiIyLnZ676tKgYQfQwgD2HmzJkQQmDJkiXadfKFvHnzZr3t5Qv5zp07Ne4vIiIC3t7eGDt2rF4fQy8vL7z33nt6r5EDSE3/cIiIiIhIYs/7tqoYQPQxgFhp9uzZEEJg7ty5OuutfZS3b98++Pj4YPjw4SgrK9P7PbtgEREREVnH3vdtVTGA6GMAsYJ8Ec+ePVvvd/JgppqeVgwZMqTGwUzyRTxkyBCdGRSq+uMf/4guXbrorZ83bx6EELh9+7YVZ0JERETk3JS4b6uKAUQfA4iFvvzySwghMHPmTIPbvP7662jevDkKCwu1627evAlvb2/MmDFDZ9v9+/fDx8cHL774otFBTt9//z2EEDh27Jh2nUqlQrdu3dCnT5+HOCMiIiIi56TUfVtVDCD6GEAs8O2330IIgaFDhyIhIUFvkV24cAENGjRA//79ERERge3bt6N79+56BW0OHz4MX19ftGvXDtHR0Xr7qzofdWlpKbp164a2bdvip59+QmRkJEaPHs1ChEREREQ1UPK+DQDCw8MRHh6O+fPnQwiBDz74QLvO1TGAWGDAgAEQQhhcqjpx4gQGDx4MPz8/NGrUCKNGjcLVq1d1tgkJCTG6v5iYGJ3tMzIyMHnyZAQEBMDHxwd9+/ZFZGRkbZ82ERERUZ2j9H2bucd2RXwHiIiIiIjIbhhAiIiIiIjIbhhAiIiIiIjIbhhAiIiIiIjIbhhAiIiIiIjIbhhAiIiIiIjIbhhAiIiIiIjIbhhAiIiIiIjIbhhAiIiIiIjIbhhAiIiIiIjIbhhAiIiIiIjIbhhAiIiIiIjIbhhAiIiIiIjIbhhAiIiIiIjIbhhAiIiIiIjIbhhAiIiIiIjIbhhAiIiIiIjIbhhAiIiIiIjIbv4f7XWx/GWb8LEAAAAASUVORK5CYII=\" width=\"800\">"
      ],
      "text/plain": [
       "<IPython.core.display.HTML object>"
      ]
     },
     "metadata": {},
     "output_type": "display_data"
    },
    {
     "name": "stderr",
     "output_type": "stream",
     "text": [
      "/home/ed/miniconda3/lib/python3.7/site-packages/matplotlib/axes/_axes.py:5293: ComplexWarning: Casting complex values to real discards the imaginary part\n",
      "  X[0] = start\n",
      "/home/ed/miniconda3/lib/python3.7/site-packages/matplotlib/axes/_axes.py:5294: ComplexWarning: Casting complex values to real discards the imaginary part\n",
      "  X[N + 1] = end\n",
      "/home/ed/miniconda3/lib/python3.7/site-packages/matplotlib/axes/_axes.py:5299: ComplexWarning: Casting complex values to real discards the imaginary part\n",
      "  X[N + 2:, 1] = y2slice[::-1]\n",
      "/home/ed/miniconda3/lib/python3.7/site-packages/numpy/core/_asarray.py:102: ComplexWarning: Casting complex values to real discards the imaginary part\n",
      "  return array(a, dtype, copy=False, order=order)\n"
     ]
    }
   ],
   "source": [
    "fig, ax = plt.subplots(figsize=(8, 5))\n",
    "\n",
    "site = '16_1_10'\n",
    "\n",
    "x = model_kgr.F.columns\n",
    "\n",
    "y_pred = model_glsgf.F.loc[site]\n",
    "y_obs = model_glsgf.targets.Y0.loc[site]\n",
    "y_unc = model_glsgf.Fvar.loc[site] ** 0.5\n",
    "\n",
    "\n",
    "y_pred.plot(lw=1, label='Estimated',  ax=ax, alpha=0.8)\n",
    "\n",
    "y_obs.plot(lw=1, label='Ground truth',  ax=ax, alpha=0.8)\n",
    "\n",
    "ax.fill_between(x, y_pred, y_pred + 2 * y_unc, alpha=0.2, color='tab:blue', label='2$\\sigma$ uncertainty', zorder=-1)\n",
    "ax.fill_between(x, y_pred, y_pred - 2 * y_unc, alpha=0.2, color='tab:blue', zorder=-1)\n",
    "\n",
    "\n",
    "ax.set_yticks([])\n",
    "\n",
    "\n",
    "\n",
    "ax.legend(loc='lower left', fontsize='large')\n",
    "\n",
    "\n",
    "ax.set_xlim(x[1050], x[1500])\n",
    "ax.set_ylim(-4.5, 2.5)\n",
    "\n",
    "ax.axvline(x[1256], color='k', alpha=0.5, ls='--')\n",
    "\n",
    "ax.text(x[1265], -3.5,  'Test Times', fontsize='large')\n",
    "ax.text(x[1190], -3.5,  'Train Times', fontsize='large')\n",
    "\n",
    "\n",
    "for item in ([ax.title, ax.xaxis.label, ax.yaxis.label] +\n",
    "             ax.get_xticklabels() + ax.get_yticklabels()):\n",
    "    item.set_fontsize('large')\n",
    "    \n",
    "plt.tight_layout()\n",
    "\n",
    "\n",
    "# plt.savefig('prediction-time-series.pdf')"
   ]
  },
  {
   "cell_type": "code",
   "execution_count": 197,
   "metadata": {},
   "outputs": [
    {
     "data": {
      "text/plain": [
       "DatetimeIndex(['2017-01-02', '2017-01-03', '2017-01-04', '2017-01-05', '2017-01-06', '2017-01-07', '2017-01-08', '2017-01-09', '2017-01-10', '2017-01-11',\n",
       "               ...\n",
       "               '2021-04-11', '2021-04-12', '2021-04-13', '2021-04-14', '2021-04-15', '2021-04-16', '2021-04-17', '2021-04-18', '2021-04-19', '2021-04-20'],\n",
       "              dtype='datetime64[ns]', length=1570, freq=None)"
      ]
     },
     "execution_count": 197,
     "metadata": {},
     "output_type": "execute_result"
    }
   ],
   "source": [
    "x"
   ]
  },
  {
   "cell_type": "code",
   "execution_count": 180,
   "metadata": {},
   "outputs": [
    {
     "data": {
      "text/plain": [
       "[<matplotlib.lines.Line2D at 0x7f153ae9be10>,\n",
       " <matplotlib.lines.Line2D at 0x7f1544180a58>]"
      ]
     },
     "execution_count": 180,
     "metadata": {},
     "output_type": "execute_result"
    }
   ],
   "source": [
    "leg.get_lines()"
   ]
  },
  {
   "cell_type": "code",
   "execution_count": 173,
   "metadata": {},
   "outputs": [
    {
     "data": {
      "text/plain": [
       "['__class__',\n",
       " '__delattr__',\n",
       " '__dict__',\n",
       " '__dir__',\n",
       " '__doc__',\n",
       " '__eq__',\n",
       " '__format__',\n",
       " '__ge__',\n",
       " '__getattribute__',\n",
       " '__getstate__',\n",
       " '__gt__',\n",
       " '__hash__',\n",
       " '__init__',\n",
       " '__init_subclass__',\n",
       " '__le__',\n",
       " '__lt__',\n",
       " '__module__',\n",
       " '__ne__',\n",
       " '__new__',\n",
       " '__reduce__',\n",
       " '__reduce_ex__',\n",
       " '__repr__',\n",
       " '__setattr__',\n",
       " '__sizeof__',\n",
       " '__str__',\n",
       " '__subclasshook__',\n",
       " '__weakref__',\n",
       " '_agg_filter',\n",
       " '_alpha',\n",
       " '_animated',\n",
       " '_approx_text_height',\n",
       " '_auto_legend_data',\n",
       " '_axes',\n",
       " '_bbox_to_anchor',\n",
       " '_clipon',\n",
       " '_clippath',\n",
       " '_contains',\n",
       " '_custom_handler_map',\n",
       " '_default_handler_map',\n",
       " '_draggable',\n",
       " '_drawFrame',\n",
       " '_find_best_position',\n",
       " '_findoffset',\n",
       " '_fontsize',\n",
       " '_get_anchored_bbox',\n",
       " '_get_clipping_extent_bbox',\n",
       " '_get_loc',\n",
       " '_gid',\n",
       " '_in_layout',\n",
       " '_init_legend_box',\n",
       " '_label',\n",
       " '_legend_box',\n",
       " '_legend_handle_box',\n",
       " '_legend_title_box',\n",
       " '_loc',\n",
       " '_loc_real',\n",
       " '_loc_used_default',\n",
       " '_mode',\n",
       " '_mouseover',\n",
       " '_ncol',\n",
       " '_oid',\n",
       " '_path_effects',\n",
       " '_picker',\n",
       " '_prop_order',\n",
       " '_propobservers',\n",
       " '_rasterized',\n",
       " '_remove_method',\n",
       " '_scatteryoffsets',\n",
       " '_set_artist_props',\n",
       " '_set_gc_clip',\n",
       " '_set_loc',\n",
       " '_sketch',\n",
       " '_snap',\n",
       " '_stale',\n",
       " '_sticky_edges',\n",
       " '_transform',\n",
       " '_transformSet',\n",
       " '_url',\n",
       " '_visible',\n",
       " 'add_callback',\n",
       " 'aname',\n",
       " 'axes',\n",
       " 'borderaxespad',\n",
       " 'borderpad',\n",
       " 'clipbox',\n",
       " 'codes',\n",
       " 'columnspacing',\n",
       " 'contains',\n",
       " 'convert_xunits',\n",
       " 'convert_yunits',\n",
       " 'draw',\n",
       " 'draw_frame',\n",
       " 'eventson',\n",
       " 'figure',\n",
       " 'findobj',\n",
       " 'format_cursor_data',\n",
       " 'get_agg_filter',\n",
       " 'get_alpha',\n",
       " 'get_animated',\n",
       " 'get_bbox_to_anchor',\n",
       " 'get_children',\n",
       " 'get_clip_box',\n",
       " 'get_clip_on',\n",
       " 'get_clip_path',\n",
       " 'get_contains',\n",
       " 'get_cursor_data',\n",
       " 'get_default_handler_map',\n",
       " 'get_draggable',\n",
       " 'get_figure',\n",
       " 'get_frame',\n",
       " 'get_frame_on',\n",
       " 'get_gid',\n",
       " 'get_in_layout',\n",
       " 'get_label',\n",
       " 'get_legend_handler',\n",
       " 'get_legend_handler_map',\n",
       " 'get_lines',\n",
       " 'get_patches',\n",
       " 'get_path_effects',\n",
       " 'get_picker',\n",
       " 'get_rasterized',\n",
       " 'get_sketch_params',\n",
       " 'get_snap',\n",
       " 'get_texts',\n",
       " 'get_tightbbox',\n",
       " 'get_title',\n",
       " 'get_transform',\n",
       " 'get_transformed_clip_path_and_affine',\n",
       " 'get_url',\n",
       " 'get_visible',\n",
       " 'get_window_extent',\n",
       " 'get_zorder',\n",
       " 'handleheight',\n",
       " 'handlelength',\n",
       " 'handletextpad',\n",
       " 'have_units',\n",
       " 'is_transform_set',\n",
       " 'isaxes',\n",
       " 'labelspacing',\n",
       " 'legendHandles',\n",
       " 'legendPatch',\n",
       " 'markerscale',\n",
       " 'mouseover',\n",
       " 'numpoints',\n",
       " 'parent',\n",
       " 'pchanged',\n",
       " 'pick',\n",
       " 'pickable',\n",
       " 'prop',\n",
       " 'properties',\n",
       " 'remove',\n",
       " 'remove_callback',\n",
       " 'scatterpoints',\n",
       " 'set',\n",
       " 'set_agg_filter',\n",
       " 'set_alpha',\n",
       " 'set_animated',\n",
       " 'set_bbox_to_anchor',\n",
       " 'set_clip_box',\n",
       " 'set_clip_on',\n",
       " 'set_clip_path',\n",
       " 'set_contains',\n",
       " 'set_default_handler_map',\n",
       " 'set_draggable',\n",
       " 'set_figure',\n",
       " 'set_frame_on',\n",
       " 'set_gid',\n",
       " 'set_in_layout',\n",
       " 'set_label',\n",
       " 'set_path_effects',\n",
       " 'set_picker',\n",
       " 'set_rasterized',\n",
       " 'set_sketch_params',\n",
       " 'set_snap',\n",
       " 'set_title',\n",
       " 'set_transform',\n",
       " 'set_url',\n",
       " 'set_visible',\n",
       " 'set_zorder',\n",
       " 'shadow',\n",
       " 'stale',\n",
       " 'stale_callback',\n",
       " 'sticky_edges',\n",
       " 'texts',\n",
       " 'update',\n",
       " 'update_default_handler_map',\n",
       " 'update_from',\n",
       " 'zorder']"
      ]
     },
     "execution_count": 173,
     "metadata": {},
     "output_type": "execute_result"
    }
   ],
   "source": [
    "dir(leg"
   ]
  },
  {
   "cell_type": "code",
   "execution_count": null,
   "metadata": {},
   "outputs": [],
   "source": [
    "axes[0].legend"
   ]
  },
  {
   "cell_type": "code",
   "execution_count": null,
   "metadata": {},
   "outputs": [],
   "source": [
    "axes[1].text"
   ]
  },
  {
   "cell_type": "code",
   "execution_count": 36,
   "metadata": {},
   "outputs": [],
   "source": [
    "model_kgr = KGR(**{'gamma': 0.05179474679231213,\n",
    "  'K_std': 12.648552168552959,\n",
    "  'filter_func': 'sigmoid',\n",
    "  'beta': 5.963623316594643}).set_laplacian(laplacian).set_data(features, targets['Ozone'])"
   ]
  },
  {
   "cell_type": "code",
   "execution_count": 261,
   "metadata": {
    "scrolled": false
   },
   "outputs": [
    {
     "data": {
      "application/javascript": [
       "/* Put everything inside the global mpl namespace */\n",
       "window.mpl = {};\n",
       "\n",
       "\n",
       "mpl.get_websocket_type = function() {\n",
       "    if (typeof(WebSocket) !== 'undefined') {\n",
       "        return WebSocket;\n",
       "    } else if (typeof(MozWebSocket) !== 'undefined') {\n",
       "        return MozWebSocket;\n",
       "    } else {\n",
       "        alert('Your browser does not have WebSocket support. ' +\n",
       "              'Please try Chrome, Safari or Firefox ≥ 6. ' +\n",
       "              'Firefox 4 and 5 are also supported but you ' +\n",
       "              'have to enable WebSockets in about:config.');\n",
       "    };\n",
       "}\n",
       "\n",
       "mpl.figure = function(figure_id, websocket, ondownload, parent_element) {\n",
       "    this.id = figure_id;\n",
       "\n",
       "    this.ws = websocket;\n",
       "\n",
       "    this.supports_binary = (this.ws.binaryType != undefined);\n",
       "\n",
       "    if (!this.supports_binary) {\n",
       "        var warnings = document.getElementById(\"mpl-warnings\");\n",
       "        if (warnings) {\n",
       "            warnings.style.display = 'block';\n",
       "            warnings.textContent = (\n",
       "                \"This browser does not support binary websocket messages. \" +\n",
       "                    \"Performance may be slow.\");\n",
       "        }\n",
       "    }\n",
       "\n",
       "    this.imageObj = new Image();\n",
       "\n",
       "    this.context = undefined;\n",
       "    this.message = undefined;\n",
       "    this.canvas = undefined;\n",
       "    this.rubberband_canvas = undefined;\n",
       "    this.rubberband_context = undefined;\n",
       "    this.format_dropdown = undefined;\n",
       "\n",
       "    this.image_mode = 'full';\n",
       "\n",
       "    this.root = $('<div/>');\n",
       "    this._root_extra_style(this.root)\n",
       "    this.root.attr('style', 'display: inline-block');\n",
       "\n",
       "    $(parent_element).append(this.root);\n",
       "\n",
       "    this._init_header(this);\n",
       "    this._init_canvas(this);\n",
       "    this._init_toolbar(this);\n",
       "\n",
       "    var fig = this;\n",
       "\n",
       "    this.waiting = false;\n",
       "\n",
       "    this.ws.onopen =  function () {\n",
       "            fig.send_message(\"supports_binary\", {value: fig.supports_binary});\n",
       "            fig.send_message(\"send_image_mode\", {});\n",
       "            if (mpl.ratio != 1) {\n",
       "                fig.send_message(\"set_dpi_ratio\", {'dpi_ratio': mpl.ratio});\n",
       "            }\n",
       "            fig.send_message(\"refresh\", {});\n",
       "        }\n",
       "\n",
       "    this.imageObj.onload = function() {\n",
       "            if (fig.image_mode == 'full') {\n",
       "                // Full images could contain transparency (where diff images\n",
       "                // almost always do), so we need to clear the canvas so that\n",
       "                // there is no ghosting.\n",
       "                fig.context.clearRect(0, 0, fig.canvas.width, fig.canvas.height);\n",
       "            }\n",
       "            fig.context.drawImage(fig.imageObj, 0, 0);\n",
       "        };\n",
       "\n",
       "    this.imageObj.onunload = function() {\n",
       "        fig.ws.close();\n",
       "    }\n",
       "\n",
       "    this.ws.onmessage = this._make_on_message_function(this);\n",
       "\n",
       "    this.ondownload = ondownload;\n",
       "}\n",
       "\n",
       "mpl.figure.prototype._init_header = function() {\n",
       "    var titlebar = $(\n",
       "        '<div class=\"ui-dialog-titlebar ui-widget-header ui-corner-all ' +\n",
       "        'ui-helper-clearfix\"/>');\n",
       "    var titletext = $(\n",
       "        '<div class=\"ui-dialog-title\" style=\"width: 100%; ' +\n",
       "        'text-align: center; padding: 3px;\"/>');\n",
       "    titlebar.append(titletext)\n",
       "    this.root.append(titlebar);\n",
       "    this.header = titletext[0];\n",
       "}\n",
       "\n",
       "\n",
       "\n",
       "mpl.figure.prototype._canvas_extra_style = function(canvas_div) {\n",
       "\n",
       "}\n",
       "\n",
       "\n",
       "mpl.figure.prototype._root_extra_style = function(canvas_div) {\n",
       "\n",
       "}\n",
       "\n",
       "mpl.figure.prototype._init_canvas = function() {\n",
       "    var fig = this;\n",
       "\n",
       "    var canvas_div = $('<div/>');\n",
       "\n",
       "    canvas_div.attr('style', 'position: relative; clear: both; outline: 0');\n",
       "\n",
       "    function canvas_keyboard_event(event) {\n",
       "        return fig.key_event(event, event['data']);\n",
       "    }\n",
       "\n",
       "    canvas_div.keydown('key_press', canvas_keyboard_event);\n",
       "    canvas_div.keyup('key_release', canvas_keyboard_event);\n",
       "    this.canvas_div = canvas_div\n",
       "    this._canvas_extra_style(canvas_div)\n",
       "    this.root.append(canvas_div);\n",
       "\n",
       "    var canvas = $('<canvas/>');\n",
       "    canvas.addClass('mpl-canvas');\n",
       "    canvas.attr('style', \"left: 0; top: 0; z-index: 0; outline: 0\")\n",
       "\n",
       "    this.canvas = canvas[0];\n",
       "    this.context = canvas[0].getContext(\"2d\");\n",
       "\n",
       "    var backingStore = this.context.backingStorePixelRatio ||\n",
       "\tthis.context.webkitBackingStorePixelRatio ||\n",
       "\tthis.context.mozBackingStorePixelRatio ||\n",
       "\tthis.context.msBackingStorePixelRatio ||\n",
       "\tthis.context.oBackingStorePixelRatio ||\n",
       "\tthis.context.backingStorePixelRatio || 1;\n",
       "\n",
       "    mpl.ratio = (window.devicePixelRatio || 1) / backingStore;\n",
       "\n",
       "    var rubberband = $('<canvas/>');\n",
       "    rubberband.attr('style', \"position: absolute; left: 0; top: 0; z-index: 1;\")\n",
       "\n",
       "    var pass_mouse_events = true;\n",
       "\n",
       "    canvas_div.resizable({\n",
       "        start: function(event, ui) {\n",
       "            pass_mouse_events = false;\n",
       "        },\n",
       "        resize: function(event, ui) {\n",
       "            fig.request_resize(ui.size.width, ui.size.height);\n",
       "        },\n",
       "        stop: function(event, ui) {\n",
       "            pass_mouse_events = true;\n",
       "            fig.request_resize(ui.size.width, ui.size.height);\n",
       "        },\n",
       "    });\n",
       "\n",
       "    function mouse_event_fn(event) {\n",
       "        if (pass_mouse_events)\n",
       "            return fig.mouse_event(event, event['data']);\n",
       "    }\n",
       "\n",
       "    rubberband.mousedown('button_press', mouse_event_fn);\n",
       "    rubberband.mouseup('button_release', mouse_event_fn);\n",
       "    // Throttle sequential mouse events to 1 every 20ms.\n",
       "    rubberband.mousemove('motion_notify', mouse_event_fn);\n",
       "\n",
       "    rubberband.mouseenter('figure_enter', mouse_event_fn);\n",
       "    rubberband.mouseleave('figure_leave', mouse_event_fn);\n",
       "\n",
       "    canvas_div.on(\"wheel\", function (event) {\n",
       "        event = event.originalEvent;\n",
       "        event['data'] = 'scroll'\n",
       "        if (event.deltaY < 0) {\n",
       "            event.step = 1;\n",
       "        } else {\n",
       "            event.step = -1;\n",
       "        }\n",
       "        mouse_event_fn(event);\n",
       "    });\n",
       "\n",
       "    canvas_div.append(canvas);\n",
       "    canvas_div.append(rubberband);\n",
       "\n",
       "    this.rubberband = rubberband;\n",
       "    this.rubberband_canvas = rubberband[0];\n",
       "    this.rubberband_context = rubberband[0].getContext(\"2d\");\n",
       "    this.rubberband_context.strokeStyle = \"#000000\";\n",
       "\n",
       "    this._resize_canvas = function(width, height) {\n",
       "        // Keep the size of the canvas, canvas container, and rubber band\n",
       "        // canvas in synch.\n",
       "        canvas_div.css('width', width)\n",
       "        canvas_div.css('height', height)\n",
       "\n",
       "        canvas.attr('width', width * mpl.ratio);\n",
       "        canvas.attr('height', height * mpl.ratio);\n",
       "        canvas.attr('style', 'width: ' + width + 'px; height: ' + height + 'px;');\n",
       "\n",
       "        rubberband.attr('width', width);\n",
       "        rubberband.attr('height', height);\n",
       "    }\n",
       "\n",
       "    // Set the figure to an initial 600x600px, this will subsequently be updated\n",
       "    // upon first draw.\n",
       "    this._resize_canvas(600, 600);\n",
       "\n",
       "    // Disable right mouse context menu.\n",
       "    $(this.rubberband_canvas).bind(\"contextmenu\",function(e){\n",
       "        return false;\n",
       "    });\n",
       "\n",
       "    function set_focus () {\n",
       "        canvas.focus();\n",
       "        canvas_div.focus();\n",
       "    }\n",
       "\n",
       "    window.setTimeout(set_focus, 100);\n",
       "}\n",
       "\n",
       "mpl.figure.prototype._init_toolbar = function() {\n",
       "    var fig = this;\n",
       "\n",
       "    var nav_element = $('<div/>');\n",
       "    nav_element.attr('style', 'width: 100%');\n",
       "    this.root.append(nav_element);\n",
       "\n",
       "    // Define a callback function for later on.\n",
       "    function toolbar_event(event) {\n",
       "        return fig.toolbar_button_onclick(event['data']);\n",
       "    }\n",
       "    function toolbar_mouse_event(event) {\n",
       "        return fig.toolbar_button_onmouseover(event['data']);\n",
       "    }\n",
       "\n",
       "    for(var toolbar_ind in mpl.toolbar_items) {\n",
       "        var name = mpl.toolbar_items[toolbar_ind][0];\n",
       "        var tooltip = mpl.toolbar_items[toolbar_ind][1];\n",
       "        var image = mpl.toolbar_items[toolbar_ind][2];\n",
       "        var method_name = mpl.toolbar_items[toolbar_ind][3];\n",
       "\n",
       "        if (!name) {\n",
       "            // put a spacer in here.\n",
       "            continue;\n",
       "        }\n",
       "        var button = $('<button/>');\n",
       "        button.addClass('ui-button ui-widget ui-state-default ui-corner-all ' +\n",
       "                        'ui-button-icon-only');\n",
       "        button.attr('role', 'button');\n",
       "        button.attr('aria-disabled', 'false');\n",
       "        button.click(method_name, toolbar_event);\n",
       "        button.mouseover(tooltip, toolbar_mouse_event);\n",
       "\n",
       "        var icon_img = $('<span/>');\n",
       "        icon_img.addClass('ui-button-icon-primary ui-icon');\n",
       "        icon_img.addClass(image);\n",
       "        icon_img.addClass('ui-corner-all');\n",
       "\n",
       "        var tooltip_span = $('<span/>');\n",
       "        tooltip_span.addClass('ui-button-text');\n",
       "        tooltip_span.html(tooltip);\n",
       "\n",
       "        button.append(icon_img);\n",
       "        button.append(tooltip_span);\n",
       "\n",
       "        nav_element.append(button);\n",
       "    }\n",
       "\n",
       "    var fmt_picker_span = $('<span/>');\n",
       "\n",
       "    var fmt_picker = $('<select/>');\n",
       "    fmt_picker.addClass('mpl-toolbar-option ui-widget ui-widget-content');\n",
       "    fmt_picker_span.append(fmt_picker);\n",
       "    nav_element.append(fmt_picker_span);\n",
       "    this.format_dropdown = fmt_picker[0];\n",
       "\n",
       "    for (var ind in mpl.extensions) {\n",
       "        var fmt = mpl.extensions[ind];\n",
       "        var option = $(\n",
       "            '<option/>', {selected: fmt === mpl.default_extension}).html(fmt);\n",
       "        fmt_picker.append(option);\n",
       "    }\n",
       "\n",
       "    // Add hover states to the ui-buttons\n",
       "    $( \".ui-button\" ).hover(\n",
       "        function() { $(this).addClass(\"ui-state-hover\");},\n",
       "        function() { $(this).removeClass(\"ui-state-hover\");}\n",
       "    );\n",
       "\n",
       "    var status_bar = $('<span class=\"mpl-message\"/>');\n",
       "    nav_element.append(status_bar);\n",
       "    this.message = status_bar[0];\n",
       "}\n",
       "\n",
       "mpl.figure.prototype.request_resize = function(x_pixels, y_pixels) {\n",
       "    // Request matplotlib to resize the figure. Matplotlib will then trigger a resize in the client,\n",
       "    // which will in turn request a refresh of the image.\n",
       "    this.send_message('resize', {'width': x_pixels, 'height': y_pixels});\n",
       "}\n",
       "\n",
       "mpl.figure.prototype.send_message = function(type, properties) {\n",
       "    properties['type'] = type;\n",
       "    properties['figure_id'] = this.id;\n",
       "    this.ws.send(JSON.stringify(properties));\n",
       "}\n",
       "\n",
       "mpl.figure.prototype.send_draw_message = function() {\n",
       "    if (!this.waiting) {\n",
       "        this.waiting = true;\n",
       "        this.ws.send(JSON.stringify({type: \"draw\", figure_id: this.id}));\n",
       "    }\n",
       "}\n",
       "\n",
       "\n",
       "mpl.figure.prototype.handle_save = function(fig, msg) {\n",
       "    var format_dropdown = fig.format_dropdown;\n",
       "    var format = format_dropdown.options[format_dropdown.selectedIndex].value;\n",
       "    fig.ondownload(fig, format);\n",
       "}\n",
       "\n",
       "\n",
       "mpl.figure.prototype.handle_resize = function(fig, msg) {\n",
       "    var size = msg['size'];\n",
       "    if (size[0] != fig.canvas.width || size[1] != fig.canvas.height) {\n",
       "        fig._resize_canvas(size[0], size[1]);\n",
       "        fig.send_message(\"refresh\", {});\n",
       "    };\n",
       "}\n",
       "\n",
       "mpl.figure.prototype.handle_rubberband = function(fig, msg) {\n",
       "    var x0 = msg['x0'] / mpl.ratio;\n",
       "    var y0 = (fig.canvas.height - msg['y0']) / mpl.ratio;\n",
       "    var x1 = msg['x1'] / mpl.ratio;\n",
       "    var y1 = (fig.canvas.height - msg['y1']) / mpl.ratio;\n",
       "    x0 = Math.floor(x0) + 0.5;\n",
       "    y0 = Math.floor(y0) + 0.5;\n",
       "    x1 = Math.floor(x1) + 0.5;\n",
       "    y1 = Math.floor(y1) + 0.5;\n",
       "    var min_x = Math.min(x0, x1);\n",
       "    var min_y = Math.min(y0, y1);\n",
       "    var width = Math.abs(x1 - x0);\n",
       "    var height = Math.abs(y1 - y0);\n",
       "\n",
       "    fig.rubberband_context.clearRect(\n",
       "        0, 0, fig.canvas.width / mpl.ratio, fig.canvas.height / mpl.ratio);\n",
       "\n",
       "    fig.rubberband_context.strokeRect(min_x, min_y, width, height);\n",
       "}\n",
       "\n",
       "mpl.figure.prototype.handle_figure_label = function(fig, msg) {\n",
       "    // Updates the figure title.\n",
       "    fig.header.textContent = msg['label'];\n",
       "}\n",
       "\n",
       "mpl.figure.prototype.handle_cursor = function(fig, msg) {\n",
       "    var cursor = msg['cursor'];\n",
       "    switch(cursor)\n",
       "    {\n",
       "    case 0:\n",
       "        cursor = 'pointer';\n",
       "        break;\n",
       "    case 1:\n",
       "        cursor = 'default';\n",
       "        break;\n",
       "    case 2:\n",
       "        cursor = 'crosshair';\n",
       "        break;\n",
       "    case 3:\n",
       "        cursor = 'move';\n",
       "        break;\n",
       "    }\n",
       "    fig.rubberband_canvas.style.cursor = cursor;\n",
       "}\n",
       "\n",
       "mpl.figure.prototype.handle_message = function(fig, msg) {\n",
       "    fig.message.textContent = msg['message'];\n",
       "}\n",
       "\n",
       "mpl.figure.prototype.handle_draw = function(fig, msg) {\n",
       "    // Request the server to send over a new figure.\n",
       "    fig.send_draw_message();\n",
       "}\n",
       "\n",
       "mpl.figure.prototype.handle_image_mode = function(fig, msg) {\n",
       "    fig.image_mode = msg['mode'];\n",
       "}\n",
       "\n",
       "mpl.figure.prototype.updated_canvas_event = function() {\n",
       "    // Called whenever the canvas gets updated.\n",
       "    this.send_message(\"ack\", {});\n",
       "}\n",
       "\n",
       "// A function to construct a web socket function for onmessage handling.\n",
       "// Called in the figure constructor.\n",
       "mpl.figure.prototype._make_on_message_function = function(fig) {\n",
       "    return function socket_on_message(evt) {\n",
       "        if (evt.data instanceof Blob) {\n",
       "            /* FIXME: We get \"Resource interpreted as Image but\n",
       "             * transferred with MIME type text/plain:\" errors on\n",
       "             * Chrome.  But how to set the MIME type?  It doesn't seem\n",
       "             * to be part of the websocket stream */\n",
       "            evt.data.type = \"image/png\";\n",
       "\n",
       "            /* Free the memory for the previous frames */\n",
       "            if (fig.imageObj.src) {\n",
       "                (window.URL || window.webkitURL).revokeObjectURL(\n",
       "                    fig.imageObj.src);\n",
       "            }\n",
       "\n",
       "            fig.imageObj.src = (window.URL || window.webkitURL).createObjectURL(\n",
       "                evt.data);\n",
       "            fig.updated_canvas_event();\n",
       "            fig.waiting = false;\n",
       "            return;\n",
       "        }\n",
       "        else if (typeof evt.data === 'string' && evt.data.slice(0, 21) == \"data:image/png;base64\") {\n",
       "            fig.imageObj.src = evt.data;\n",
       "            fig.updated_canvas_event();\n",
       "            fig.waiting = false;\n",
       "            return;\n",
       "        }\n",
       "\n",
       "        var msg = JSON.parse(evt.data);\n",
       "        var msg_type = msg['type'];\n",
       "\n",
       "        // Call the  \"handle_{type}\" callback, which takes\n",
       "        // the figure and JSON message as its only arguments.\n",
       "        try {\n",
       "            var callback = fig[\"handle_\" + msg_type];\n",
       "        } catch (e) {\n",
       "            console.log(\"No handler for the '\" + msg_type + \"' message type: \", msg);\n",
       "            return;\n",
       "        }\n",
       "\n",
       "        if (callback) {\n",
       "            try {\n",
       "                // console.log(\"Handling '\" + msg_type + \"' message: \", msg);\n",
       "                callback(fig, msg);\n",
       "            } catch (e) {\n",
       "                console.log(\"Exception inside the 'handler_\" + msg_type + \"' callback:\", e, e.stack, msg);\n",
       "            }\n",
       "        }\n",
       "    };\n",
       "}\n",
       "\n",
       "// from http://stackoverflow.com/questions/1114465/getting-mouse-location-in-canvas\n",
       "mpl.findpos = function(e) {\n",
       "    //this section is from http://www.quirksmode.org/js/events_properties.html\n",
       "    var targ;\n",
       "    if (!e)\n",
       "        e = window.event;\n",
       "    if (e.target)\n",
       "        targ = e.target;\n",
       "    else if (e.srcElement)\n",
       "        targ = e.srcElement;\n",
       "    if (targ.nodeType == 3) // defeat Safari bug\n",
       "        targ = targ.parentNode;\n",
       "\n",
       "    // jQuery normalizes the pageX and pageY\n",
       "    // pageX,Y are the mouse positions relative to the document\n",
       "    // offset() returns the position of the element relative to the document\n",
       "    var x = e.pageX - $(targ).offset().left;\n",
       "    var y = e.pageY - $(targ).offset().top;\n",
       "\n",
       "    return {\"x\": x, \"y\": y};\n",
       "};\n",
       "\n",
       "/*\n",
       " * return a copy of an object with only non-object keys\n",
       " * we need this to avoid circular references\n",
       " * http://stackoverflow.com/a/24161582/3208463\n",
       " */\n",
       "function simpleKeys (original) {\n",
       "  return Object.keys(original).reduce(function (obj, key) {\n",
       "    if (typeof original[key] !== 'object')\n",
       "        obj[key] = original[key]\n",
       "    return obj;\n",
       "  }, {});\n",
       "}\n",
       "\n",
       "mpl.figure.prototype.mouse_event = function(event, name) {\n",
       "    var canvas_pos = mpl.findpos(event)\n",
       "\n",
       "    if (name === 'button_press')\n",
       "    {\n",
       "        this.canvas.focus();\n",
       "        this.canvas_div.focus();\n",
       "    }\n",
       "\n",
       "    var x = canvas_pos.x * mpl.ratio;\n",
       "    var y = canvas_pos.y * mpl.ratio;\n",
       "\n",
       "    this.send_message(name, {x: x, y: y, button: event.button,\n",
       "                             step: event.step,\n",
       "                             guiEvent: simpleKeys(event)});\n",
       "\n",
       "    /* This prevents the web browser from automatically changing to\n",
       "     * the text insertion cursor when the button is pressed.  We want\n",
       "     * to control all of the cursor setting manually through the\n",
       "     * 'cursor' event from matplotlib */\n",
       "    event.preventDefault();\n",
       "    return false;\n",
       "}\n",
       "\n",
       "mpl.figure.prototype._key_event_extra = function(event, name) {\n",
       "    // Handle any extra behaviour associated with a key event\n",
       "}\n",
       "\n",
       "mpl.figure.prototype.key_event = function(event, name) {\n",
       "\n",
       "    // Prevent repeat events\n",
       "    if (name == 'key_press')\n",
       "    {\n",
       "        if (event.which === this._key)\n",
       "            return;\n",
       "        else\n",
       "            this._key = event.which;\n",
       "    }\n",
       "    if (name == 'key_release')\n",
       "        this._key = null;\n",
       "\n",
       "    var value = '';\n",
       "    if (event.ctrlKey && event.which != 17)\n",
       "        value += \"ctrl+\";\n",
       "    if (event.altKey && event.which != 18)\n",
       "        value += \"alt+\";\n",
       "    if (event.shiftKey && event.which != 16)\n",
       "        value += \"shift+\";\n",
       "\n",
       "    value += 'k';\n",
       "    value += event.which.toString();\n",
       "\n",
       "    this._key_event_extra(event, name);\n",
       "\n",
       "    this.send_message(name, {key: value,\n",
       "                             guiEvent: simpleKeys(event)});\n",
       "    return false;\n",
       "}\n",
       "\n",
       "mpl.figure.prototype.toolbar_button_onclick = function(name) {\n",
       "    if (name == 'download') {\n",
       "        this.handle_save(this, null);\n",
       "    } else {\n",
       "        this.send_message(\"toolbar_button\", {name: name});\n",
       "    }\n",
       "};\n",
       "\n",
       "mpl.figure.prototype.toolbar_button_onmouseover = function(tooltip) {\n",
       "    this.message.textContent = tooltip;\n",
       "};\n",
       "mpl.toolbar_items = [[\"Home\", \"Reset original view\", \"fa fa-home icon-home\", \"home\"], [\"Back\", \"Back to previous view\", \"fa fa-arrow-left icon-arrow-left\", \"back\"], [\"Forward\", \"Forward to next view\", \"fa fa-arrow-right icon-arrow-right\", \"forward\"], [\"\", \"\", \"\", \"\"], [\"Pan\", \"Pan axes with left mouse, zoom with right\", \"fa fa-arrows icon-move\", \"pan\"], [\"Zoom\", \"Zoom to rectangle\", \"fa fa-square-o icon-check-empty\", \"zoom\"], [\"\", \"\", \"\", \"\"], [\"Download\", \"Download plot\", \"fa fa-floppy-o icon-save\", \"download\"]];\n",
       "\n",
       "mpl.extensions = [\"eps\", \"jpeg\", \"pdf\", \"png\", \"ps\", \"raw\", \"svg\", \"tif\"];\n",
       "\n",
       "mpl.default_extension = \"png\";var comm_websocket_adapter = function(comm) {\n",
       "    // Create a \"websocket\"-like object which calls the given IPython comm\n",
       "    // object with the appropriate methods. Currently this is a non binary\n",
       "    // socket, so there is still some room for performance tuning.\n",
       "    var ws = {};\n",
       "\n",
       "    ws.close = function() {\n",
       "        comm.close()\n",
       "    };\n",
       "    ws.send = function(m) {\n",
       "        //console.log('sending', m);\n",
       "        comm.send(m);\n",
       "    };\n",
       "    // Register the callback with on_msg.\n",
       "    comm.on_msg(function(msg) {\n",
       "        //console.log('receiving', msg['content']['data'], msg);\n",
       "        // Pass the mpl event to the overridden (by mpl) onmessage function.\n",
       "        ws.onmessage(msg['content']['data'])\n",
       "    });\n",
       "    return ws;\n",
       "}\n",
       "\n",
       "mpl.mpl_figure_comm = function(comm, msg) {\n",
       "    // This is the function which gets called when the mpl process\n",
       "    // starts-up an IPython Comm through the \"matplotlib\" channel.\n",
       "\n",
       "    var id = msg.content.data.id;\n",
       "    // Get hold of the div created by the display call when the Comm\n",
       "    // socket was opened in Python.\n",
       "    var element = $(\"#\" + id);\n",
       "    var ws_proxy = comm_websocket_adapter(comm)\n",
       "\n",
       "    function ondownload(figure, format) {\n",
       "        window.open(figure.imageObj.src);\n",
       "    }\n",
       "\n",
       "    var fig = new mpl.figure(id, ws_proxy,\n",
       "                           ondownload,\n",
       "                           element.get(0));\n",
       "\n",
       "    // Call onopen now - mpl needs it, as it is assuming we've passed it a real\n",
       "    // web socket which is closed, not our websocket->open comm proxy.\n",
       "    ws_proxy.onopen();\n",
       "\n",
       "    fig.parent_element = element.get(0);\n",
       "    fig.cell_info = mpl.find_output_cell(\"<div id='\" + id + \"'></div>\");\n",
       "    if (!fig.cell_info) {\n",
       "        console.error(\"Failed to find cell for figure\", id, fig);\n",
       "        return;\n",
       "    }\n",
       "\n",
       "    var output_index = fig.cell_info[2]\n",
       "    var cell = fig.cell_info[0];\n",
       "\n",
       "};\n",
       "\n",
       "mpl.figure.prototype.handle_close = function(fig, msg) {\n",
       "    var width = fig.canvas.width/mpl.ratio\n",
       "    fig.root.unbind('remove')\n",
       "\n",
       "    // Update the output cell to use the data from the current canvas.\n",
       "    fig.push_to_output();\n",
       "    var dataURL = fig.canvas.toDataURL();\n",
       "    // Re-enable the keyboard manager in IPython - without this line, in FF,\n",
       "    // the notebook keyboard shortcuts fail.\n",
       "    IPython.keyboard_manager.enable()\n",
       "    $(fig.parent_element).html('<img src=\"' + dataURL + '\" width=\"' + width + '\">');\n",
       "    fig.close_ws(fig, msg);\n",
       "}\n",
       "\n",
       "mpl.figure.prototype.close_ws = function(fig, msg){\n",
       "    fig.send_message('closing', msg);\n",
       "    // fig.ws.close()\n",
       "}\n",
       "\n",
       "mpl.figure.prototype.push_to_output = function(remove_interactive) {\n",
       "    // Turn the data on the canvas into data in the output cell.\n",
       "    var width = this.canvas.width/mpl.ratio\n",
       "    var dataURL = this.canvas.toDataURL();\n",
       "    this.cell_info[1]['text/html'] = '<img src=\"' + dataURL + '\" width=\"' + width + '\">';\n",
       "}\n",
       "\n",
       "mpl.figure.prototype.updated_canvas_event = function() {\n",
       "    // Tell IPython that the notebook contents must change.\n",
       "    IPython.notebook.set_dirty(true);\n",
       "    this.send_message(\"ack\", {});\n",
       "    var fig = this;\n",
       "    // Wait a second, then push the new image to the DOM so\n",
       "    // that it is saved nicely (might be nice to debounce this).\n",
       "    setTimeout(function () { fig.push_to_output() }, 1000);\n",
       "}\n",
       "\n",
       "mpl.figure.prototype._init_toolbar = function() {\n",
       "    var fig = this;\n",
       "\n",
       "    var nav_element = $('<div/>');\n",
       "    nav_element.attr('style', 'width: 100%');\n",
       "    this.root.append(nav_element);\n",
       "\n",
       "    // Define a callback function for later on.\n",
       "    function toolbar_event(event) {\n",
       "        return fig.toolbar_button_onclick(event['data']);\n",
       "    }\n",
       "    function toolbar_mouse_event(event) {\n",
       "        return fig.toolbar_button_onmouseover(event['data']);\n",
       "    }\n",
       "\n",
       "    for(var toolbar_ind in mpl.toolbar_items){\n",
       "        var name = mpl.toolbar_items[toolbar_ind][0];\n",
       "        var tooltip = mpl.toolbar_items[toolbar_ind][1];\n",
       "        var image = mpl.toolbar_items[toolbar_ind][2];\n",
       "        var method_name = mpl.toolbar_items[toolbar_ind][3];\n",
       "\n",
       "        if (!name) { continue; };\n",
       "\n",
       "        var button = $('<button class=\"btn btn-default\" href=\"#\" title=\"' + name + '\"><i class=\"fa ' + image + ' fa-lg\"></i></button>');\n",
       "        button.click(method_name, toolbar_event);\n",
       "        button.mouseover(tooltip, toolbar_mouse_event);\n",
       "        nav_element.append(button);\n",
       "    }\n",
       "\n",
       "    // Add the status bar.\n",
       "    var status_bar = $('<span class=\"mpl-message\" style=\"text-align:right; float: right;\"/>');\n",
       "    nav_element.append(status_bar);\n",
       "    this.message = status_bar[0];\n",
       "\n",
       "    // Add the close button to the window.\n",
       "    var buttongrp = $('<div class=\"btn-group inline pull-right\"></div>');\n",
       "    var button = $('<button class=\"btn btn-mini btn-primary\" href=\"#\" title=\"Stop Interaction\"><i class=\"fa fa-power-off icon-remove icon-large\"></i></button>');\n",
       "    button.click(function (evt) { fig.handle_close(fig, {}); } );\n",
       "    button.mouseover('Stop Interaction', toolbar_mouse_event);\n",
       "    buttongrp.append(button);\n",
       "    var titlebar = this.root.find($('.ui-dialog-titlebar'));\n",
       "    titlebar.prepend(buttongrp);\n",
       "}\n",
       "\n",
       "mpl.figure.prototype._root_extra_style = function(el){\n",
       "    var fig = this\n",
       "    el.on(\"remove\", function(){\n",
       "\tfig.close_ws(fig, {});\n",
       "    });\n",
       "}\n",
       "\n",
       "mpl.figure.prototype._canvas_extra_style = function(el){\n",
       "    // this is important to make the div 'focusable\n",
       "    el.attr('tabindex', 0)\n",
       "    // reach out to IPython and tell the keyboard manager to turn it's self\n",
       "    // off when our div gets focus\n",
       "\n",
       "    // location in version 3\n",
       "    if (IPython.notebook.keyboard_manager) {\n",
       "        IPython.notebook.keyboard_manager.register_events(el);\n",
       "    }\n",
       "    else {\n",
       "        // location in version 2\n",
       "        IPython.keyboard_manager.register_events(el);\n",
       "    }\n",
       "\n",
       "}\n",
       "\n",
       "mpl.figure.prototype._key_event_extra = function(event, name) {\n",
       "    var manager = IPython.notebook.keyboard_manager;\n",
       "    if (!manager)\n",
       "        manager = IPython.keyboard_manager;\n",
       "\n",
       "    // Check for shift+enter\n",
       "    if (event.shiftKey && event.which == 13) {\n",
       "        this.canvas_div.blur();\n",
       "        // select the cell after this one\n",
       "        var index = IPython.notebook.find_cell_index(this.cell_info[0]);\n",
       "        IPython.notebook.select(index + 1);\n",
       "    }\n",
       "}\n",
       "\n",
       "mpl.figure.prototype.handle_save = function(fig, msg) {\n",
       "    fig.ondownload(fig, null);\n",
       "}\n",
       "\n",
       "\n",
       "mpl.find_output_cell = function(html_output) {\n",
       "    // Return the cell and output element which can be found *uniquely* in the notebook.\n",
       "    // Note - this is a bit hacky, but it is done because the \"notebook_saving.Notebook\"\n",
       "    // IPython event is triggered only after the cells have been serialised, which for\n",
       "    // our purposes (turning an active figure into a static one), is too late.\n",
       "    var cells = IPython.notebook.get_cells();\n",
       "    var ncells = cells.length;\n",
       "    for (var i=0; i<ncells; i++) {\n",
       "        var cell = cells[i];\n",
       "        if (cell.cell_type === 'code'){\n",
       "            for (var j=0; j<cell.output_area.outputs.length; j++) {\n",
       "                var data = cell.output_area.outputs[j];\n",
       "                if (data.data) {\n",
       "                    // IPython >= 3 moved mimebundle to data attribute of output\n",
       "                    data = data.data;\n",
       "                }\n",
       "                if (data['text/html'] == html_output) {\n",
       "                    return [cell, data, j];\n",
       "                }\n",
       "            }\n",
       "        }\n",
       "    }\n",
       "}\n",
       "\n",
       "// Register the function which deals with the matplotlib target/channel.\n",
       "// The kernel may be null if the page has been refreshed.\n",
       "if (IPython.notebook.kernel != null) {\n",
       "    IPython.notebook.kernel.comm_manager.register_target('matplotlib', mpl.mpl_figure_comm);\n",
       "}\n"
      ],
      "text/plain": [
       "<IPython.core.display.Javascript object>"
      ]
     },
     "metadata": {},
     "output_type": "display_data"
    },
    {
     "data": {
      "text/html": [
       "<img src=\"data:image/png;base64,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\" width=\"640\">"
      ],
      "text/plain": [
       "<IPython.core.display.HTML object>"
      ]
     },
     "metadata": {},
     "output_type": "display_data"
    }
   ],
   "source": [
    "fig, axes = plt.subplots(ncols=2, sharex=True, sharey=True)\n",
    "\n",
    "ti = 6\n",
    "t = model_kgr.targets.Y.columns[ti]\n",
    "\n",
    "laplacian.distance.cali.plot_outline(axes[1], dict(color='tab:blue'), fill={'fc': '#e0ebf9', 'lw': 0.5, 'ec': 'tab:blue'})\n",
    "laplacian.distance.cali.plot_outline(axes[0], dict(color='tab:blue'), fill={'fc': '#e0ebf9', 'lw': 0.5, 'ec': 'tab:blue'})\n",
    "\n",
    "vmin = np.quantile(model_kgr.targets.Y.loc[:, t], 0.1)\n",
    "vmax = np.quantile(model_kgr.targets.Y.loc[:, t], 0.9)\n",
    "\n",
    "axes[1].scatter(model_kgr.targets.sites['x'], model_kgr.targets.sites['y'], c=model_kgr.F.loc[:, t], alpha=1, vmin=vmin, vmax=vmax, zorder=np.inf)\n",
    "\n",
    "axes[0].scatter(model_kgr.targets.sites.loc[model_kgr.targets.train_sites, 'x'], model_kgr.targets.sites.loc[model_kgr.targets.train_sites, 'y'], c=model_kgr.targets.Y.loc[:, t], alpha=1, vmin=vmin, vmax=vmax, zorder=np.inf)\n",
    "\n",
    "axes[0].set_title('Observed Signal')\n",
    "axes[1].set_title('Reconstructed Signal')\n",
    "\n",
    "plt.tight_layout()\n",
    "\n",
    "plt.savefig('reconstructed.pdf')\n",
    "\n",
    "\n"
   ]
  },
  {
   "cell_type": "code",
   "execution_count": 23,
   "metadata": {},
   "outputs": [],
   "source": [
    "def get_results():\n",
    "    \n",
    "    models = {'KGR': KGR, \n",
    "              'LinearRegression': LinearRegression, \n",
    "              'RidgeRegression': RidgeRegression, \n",
    "              'LassoRegression': LassoRegression, \n",
    "              'GLSKGR': GLSKGR}\n",
    "\n",
    "    init_params = {'KGR': dict(gamma=0.01, K_std=50, filter_func='sigmoid', beta=50), \n",
    "                   'LinearRegression': dict(fit_intercept=True), \n",
    "                   'RidgeRegression': dict(fit_intercept=True, alpha=50),\n",
    "                   'LassoRegression': dict(fit_intercept=True, alpha=1)}\n",
    "\n",
    "\n",
    "    model_names = ['KGR', 'LinearRegression', 'RidgeRegression', 'LassoRegression', 'GLSKGR']\n",
    "\n",
    "    opt_params = {metric: {model: {} for model in model_names} for metric in metrics}\n",
    "\n",
    "    RMSE = {'Missing Nodes':  {model: {} for model in model_names}, \n",
    "            'Labelled':       {model: {} for model in model_names}, \n",
    "            'Missing Dates':  {model: {} for model in model_names}, \n",
    "            'All Unlabelled': {model: {} for model in model_names}}\n",
    "\n",
    "    \n",
    "    metrics_bar = tqdm(metrics)\n",
    "\n",
    "    for metric in metrics_bar:\n",
    "\n",
    "        metrics_bar.set_description(metric)\n",
    "\n",
    "        models_bar = tqdm(models, leave=False)\n",
    "\n",
    "        for model in models_bar:\n",
    "\n",
    "            models_bar.set_description(model)\n",
    "\n",
    "            if model != 'GLSKGR':\n",
    "                reg = models[model](**init_params[model])\n",
    "\n",
    "                if model != 'KGR':\n",
    "                    opt_params[metric][model] = reg.set_data(features, targets[metric]).optimize()[0]\n",
    "\n",
    "                else:\n",
    "                    opt_params[metric][model] = reg.set_laplacian(laplacian).set_data(features, targets[metric]).optimize()[0]\n",
    "\n",
    "            else:\n",
    "                reg = models['GLSKGR'](**opt_params[metric]['KGR']).set_laplacian(laplacian).set_data(features, targets[metric])\n",
    "                opt_params[metric]['GLSKGR'] = opt_params[metric]['KGR']\n",
    "                reg.solve_GLS()\n",
    "\n",
    "            RMSE['Missing Nodes'][model][metric] = reg.RMSE_missing_nodes()\n",
    "            RMSE['Labelled'][model][metric] = reg.RMSE_labelled()\n",
    "            RMSE['Missing Dates'][model][metric] = reg.RMSE_missing_times()\n",
    "            RMSE['All Unlabelled'][model][metric] = reg.RMSE_unlabelled_full()\n",
    "            \n",
    "    return opt_params, RMSE\n",
    "            "
   ]
  },
  {
   "cell_type": "code",
   "execution_count": 24,
   "metadata": {},
   "outputs": [
    {
     "data": {
      "application/vnd.jupyter.widget-view+json": {
       "model_id": "672065600d674c2da82bc3b680ad8132",
       "version_major": 2,
       "version_minor": 0
      },
      "text/plain": [
       "HBox(children=(HTML(value=''), FloatProgress(value=0.0, max=6.0), HTML(value='')))"
      ]
     },
     "metadata": {},
     "output_type": "display_data"
    },
    {
     "data": {
      "application/vnd.jupyter.widget-view+json": {
       "model_id": "",
       "version_major": 2,
       "version_minor": 0
      },
      "text/plain": [
       "HBox(children=(HTML(value=''), FloatProgress(value=0.0, max=5.0), HTML(value='')))"
      ]
     },
     "metadata": {},
     "output_type": "display_data"
    },
    {
     "data": {
      "application/vnd.jupyter.widget-view+json": {
       "model_id": "",
       "version_major": 2,
       "version_minor": 0
      },
      "text/plain": [
       "HBox(children=(HTML(value=''), FloatProgress(value=0.0, max=9.0), HTML(value='')))"
      ]
     },
     "metadata": {},
     "output_type": "display_data"
    },
    {
     "data": {
      "application/vnd.jupyter.widget-view+json": {
       "model_id": "",
       "version_major": 2,
       "version_minor": 0
      },
      "text/plain": [
       "HBox(children=(HTML(value=''), FloatProgress(value=0.0, max=50.0), HTML(value='')))"
      ]
     },
     "metadata": {},
     "output_type": "display_data"
    },
    {
     "data": {
      "application/vnd.jupyter.widget-view+json": {
       "model_id": "",
       "version_major": 2,
       "version_minor": 0
      },
      "text/plain": [
       "HBox(children=(HTML(value=''), FloatProgress(value=0.0, max=50.0), HTML(value='')))"
      ]
     },
     "metadata": {},
     "output_type": "display_data"
    },
    {
     "data": {
      "application/vnd.jupyter.widget-view+json": {
       "model_id": "",
       "version_major": 2,
       "version_minor": 0
      },
      "text/plain": [
       "HBox(children=(HTML(value=''), FloatProgress(value=0.0, max=50.0), HTML(value='')))"
      ]
     },
     "metadata": {},
     "output_type": "display_data"
    },
    {
     "data": {
      "application/vnd.jupyter.widget-view+json": {
       "model_id": "",
       "version_major": 2,
       "version_minor": 0
      },
      "text/plain": [
       "HBox(children=(HTML(value=''), FloatProgress(value=0.0, max=50.0), HTML(value='')))"
      ]
     },
     "metadata": {},
     "output_type": "display_data"
    },
    {
     "data": {
      "application/vnd.jupyter.widget-view+json": {
       "model_id": "",
       "version_major": 2,
       "version_minor": 0
      },
      "text/plain": [
       "HBox(children=(HTML(value=''), FloatProgress(value=0.0, max=50.0), HTML(value='')))"
      ]
     },
     "metadata": {},
     "output_type": "display_data"
    },
    {
     "data": {
      "application/vnd.jupyter.widget-view+json": {
       "model_id": "",
       "version_major": 2,
       "version_minor": 0
      },
      "text/plain": [
       "HBox(children=(HTML(value=''), FloatProgress(value=0.0, max=50.0), HTML(value='')))"
      ]
     },
     "metadata": {},
     "output_type": "display_data"
    },
    {
     "data": {
      "application/vnd.jupyter.widget-view+json": {
       "model_id": "",
       "version_major": 2,
       "version_minor": 0
      },
      "text/plain": [
       "HBox(children=(HTML(value=''), FloatProgress(value=0.0, max=50.0), HTML(value='')))"
      ]
     },
     "metadata": {},
     "output_type": "display_data"
    },
    {
     "data": {
      "application/vnd.jupyter.widget-view+json": {
       "model_id": "",
       "version_major": 2,
       "version_minor": 0
      },
      "text/plain": [
       "HBox(children=(HTML(value=''), FloatProgress(value=0.0, max=50.0), HTML(value='')))"
      ]
     },
     "metadata": {},
     "output_type": "display_data"
    },
    {
     "data": {
      "application/vnd.jupyter.widget-view+json": {
       "model_id": "",
       "version_major": 2,
       "version_minor": 0
      },
      "text/plain": [
       "HBox(children=(HTML(value=''), FloatProgress(value=0.0, max=50.0), HTML(value='')))"
      ]
     },
     "metadata": {},
     "output_type": "display_data"
    },
    {
     "data": {
      "application/vnd.jupyter.widget-view+json": {
       "model_id": "",
       "version_major": 2,
       "version_minor": 0
      },
      "text/plain": [
       "HBox(children=(HTML(value=''), FloatProgress(value=0.0, max=50.0), HTML(value='')))"
      ]
     },
     "metadata": {},
     "output_type": "display_data"
    },
    {
     "data": {
      "application/vnd.jupyter.widget-view+json": {
       "model_id": "",
       "version_major": 2,
       "version_minor": 0
      },
      "text/plain": [
       "HBox(children=(HTML(value=''), FloatProgress(value=0.0, max=50.0), HTML(value='')))"
      ]
     },
     "metadata": {},
     "output_type": "display_data"
    },
    {
     "data": {
      "application/vnd.jupyter.widget-view+json": {
       "model_id": "",
       "version_major": 2,
       "version_minor": 0
      },
      "text/plain": [
       "HBox(children=(HTML(value=''), FloatProgress(value=0.0, max=50.0), HTML(value='')))"
      ]
     },
     "metadata": {},
     "output_type": "display_data"
    },
    {
     "data": {
      "application/vnd.jupyter.widget-view+json": {
       "model_id": "",
       "version_major": 2,
       "version_minor": 0
      },
      "text/plain": [
       "HBox(children=(HTML(value=''), FloatProgress(value=0.0, max=50.0), HTML(value='')))"
      ]
     },
     "metadata": {},
     "output_type": "display_data"
    },
    {
     "data": {
      "application/vnd.jupyter.widget-view+json": {
       "model_id": "",
       "version_major": 2,
       "version_minor": 0
      },
      "text/plain": [
       "HBox(children=(HTML(value=''), FloatProgress(value=0.0, max=5.0), HTML(value='')))"
      ]
     },
     "metadata": {},
     "output_type": "display_data"
    },
    {
     "data": {
      "application/vnd.jupyter.widget-view+json": {
       "model_id": "",
       "version_major": 2,
       "version_minor": 0
      },
      "text/plain": [
       "HBox(children=(HTML(value=''), FloatProgress(value=0.0, max=9.0), HTML(value='')))"
      ]
     },
     "metadata": {},
     "output_type": "display_data"
    },
    {
     "data": {
      "application/vnd.jupyter.widget-view+json": {
       "model_id": "",
       "version_major": 2,
       "version_minor": 0
      },
      "text/plain": [
       "HBox(children=(HTML(value=''), FloatProgress(value=0.0, max=50.0), HTML(value='')))"
      ]
     },
     "metadata": {},
     "output_type": "display_data"
    },
    {
     "data": {
      "application/vnd.jupyter.widget-view+json": {
       "model_id": "",
       "version_major": 2,
       "version_minor": 0
      },
      "text/plain": [
       "HBox(children=(HTML(value=''), FloatProgress(value=0.0, max=50.0), HTML(value='')))"
      ]
     },
     "metadata": {},
     "output_type": "display_data"
    },
    {
     "data": {
      "application/vnd.jupyter.widget-view+json": {
       "model_id": "",
       "version_major": 2,
       "version_minor": 0
      },
      "text/plain": [
       "HBox(children=(HTML(value=''), FloatProgress(value=0.0, max=50.0), HTML(value='')))"
      ]
     },
     "metadata": {},
     "output_type": "display_data"
    },
    {
     "data": {
      "application/vnd.jupyter.widget-view+json": {
       "model_id": "",
       "version_major": 2,
       "version_minor": 0
      },
      "text/plain": [
       "HBox(children=(HTML(value=''), FloatProgress(value=0.0, max=50.0), HTML(value='')))"
      ]
     },
     "metadata": {},
     "output_type": "display_data"
    },
    {
     "data": {
      "application/vnd.jupyter.widget-view+json": {
       "model_id": "",
       "version_major": 2,
       "version_minor": 0
      },
      "text/plain": [
       "HBox(children=(HTML(value=''), FloatProgress(value=0.0, max=50.0), HTML(value='')))"
      ]
     },
     "metadata": {},
     "output_type": "display_data"
    },
    {
     "data": {
      "application/vnd.jupyter.widget-view+json": {
       "model_id": "",
       "version_major": 2,
       "version_minor": 0
      },
      "text/plain": [
       "HBox(children=(HTML(value=''), FloatProgress(value=0.0, max=50.0), HTML(value='')))"
      ]
     },
     "metadata": {},
     "output_type": "display_data"
    },
    {
     "data": {
      "application/vnd.jupyter.widget-view+json": {
       "model_id": "",
       "version_major": 2,
       "version_minor": 0
      },
      "text/plain": [
       "HBox(children=(HTML(value=''), FloatProgress(value=0.0, max=50.0), HTML(value='')))"
      ]
     },
     "metadata": {},
     "output_type": "display_data"
    },
    {
     "data": {
      "application/vnd.jupyter.widget-view+json": {
       "model_id": "",
       "version_major": 2,
       "version_minor": 0
      },
      "text/plain": [
       "HBox(children=(HTML(value=''), FloatProgress(value=0.0, max=50.0), HTML(value='')))"
      ]
     },
     "metadata": {},
     "output_type": "display_data"
    },
    {
     "data": {
      "application/vnd.jupyter.widget-view+json": {
       "model_id": "",
       "version_major": 2,
       "version_minor": 0
      },
      "text/plain": [
       "HBox(children=(HTML(value=''), FloatProgress(value=0.0, max=50.0), HTML(value='')))"
      ]
     },
     "metadata": {},
     "output_type": "display_data"
    },
    {
     "data": {
      "application/vnd.jupyter.widget-view+json": {
       "model_id": "",
       "version_major": 2,
       "version_minor": 0
      },
      "text/plain": [
       "HBox(children=(HTML(value=''), FloatProgress(value=0.0, max=50.0), HTML(value='')))"
      ]
     },
     "metadata": {},
     "output_type": "display_data"
    },
    {
     "data": {
      "application/vnd.jupyter.widget-view+json": {
       "model_id": "",
       "version_major": 2,
       "version_minor": 0
      },
      "text/plain": [
       "HBox(children=(HTML(value=''), FloatProgress(value=0.0, max=50.0), HTML(value='')))"
      ]
     },
     "metadata": {},
     "output_type": "display_data"
    },
    {
     "data": {
      "application/vnd.jupyter.widget-view+json": {
       "model_id": "",
       "version_major": 2,
       "version_minor": 0
      },
      "text/plain": [
       "HBox(children=(HTML(value=''), FloatProgress(value=0.0, max=50.0), HTML(value='')))"
      ]
     },
     "metadata": {},
     "output_type": "display_data"
    },
    {
     "data": {
      "application/vnd.jupyter.widget-view+json": {
       "model_id": "",
       "version_major": 2,
       "version_minor": 0
      },
      "text/plain": [
       "HBox(children=(HTML(value=''), FloatProgress(value=0.0, max=50.0), HTML(value='')))"
      ]
     },
     "metadata": {},
     "output_type": "display_data"
    },
    {
     "data": {
      "application/vnd.jupyter.widget-view+json": {
       "model_id": "",
       "version_major": 2,
       "version_minor": 0
      },
      "text/plain": [
       "HBox(children=(HTML(value=''), FloatProgress(value=0.0, max=5.0), HTML(value='')))"
      ]
     },
     "metadata": {},
     "output_type": "display_data"
    },
    {
     "data": {
      "application/vnd.jupyter.widget-view+json": {
       "model_id": "",
       "version_major": 2,
       "version_minor": 0
      },
      "text/plain": [
       "HBox(children=(HTML(value=''), FloatProgress(value=0.0, max=9.0), HTML(value='')))"
      ]
     },
     "metadata": {},
     "output_type": "display_data"
    },
    {
     "data": {
      "application/vnd.jupyter.widget-view+json": {
       "model_id": "",
       "version_major": 2,
       "version_minor": 0
      },
      "text/plain": [
       "HBox(children=(HTML(value=''), FloatProgress(value=0.0, max=50.0), HTML(value='')))"
      ]
     },
     "metadata": {},
     "output_type": "display_data"
    },
    {
     "data": {
      "application/vnd.jupyter.widget-view+json": {
       "model_id": "",
       "version_major": 2,
       "version_minor": 0
      },
      "text/plain": [
       "HBox(children=(HTML(value=''), FloatProgress(value=0.0, max=50.0), HTML(value='')))"
      ]
     },
     "metadata": {},
     "output_type": "display_data"
    },
    {
     "data": {
      "application/vnd.jupyter.widget-view+json": {
       "model_id": "",
       "version_major": 2,
       "version_minor": 0
      },
      "text/plain": [
       "HBox(children=(HTML(value=''), FloatProgress(value=0.0, max=50.0), HTML(value='')))"
      ]
     },
     "metadata": {},
     "output_type": "display_data"
    },
    {
     "data": {
      "application/vnd.jupyter.widget-view+json": {
       "model_id": "",
       "version_major": 2,
       "version_minor": 0
      },
      "text/plain": [
       "HBox(children=(HTML(value=''), FloatProgress(value=0.0, max=50.0), HTML(value='')))"
      ]
     },
     "metadata": {},
     "output_type": "display_data"
    },
    {
     "data": {
      "application/vnd.jupyter.widget-view+json": {
       "model_id": "",
       "version_major": 2,
       "version_minor": 0
      },
      "text/plain": [
       "HBox(children=(HTML(value=''), FloatProgress(value=0.0, max=50.0), HTML(value='')))"
      ]
     },
     "metadata": {},
     "output_type": "display_data"
    },
    {
     "data": {
      "application/vnd.jupyter.widget-view+json": {
       "model_id": "",
       "version_major": 2,
       "version_minor": 0
      },
      "text/plain": [
       "HBox(children=(HTML(value=''), FloatProgress(value=0.0, max=50.0), HTML(value='')))"
      ]
     },
     "metadata": {},
     "output_type": "display_data"
    },
    {
     "data": {
      "application/vnd.jupyter.widget-view+json": {
       "model_id": "",
       "version_major": 2,
       "version_minor": 0
      },
      "text/plain": [
       "HBox(children=(HTML(value=''), FloatProgress(value=0.0, max=50.0), HTML(value='')))"
      ]
     },
     "metadata": {},
     "output_type": "display_data"
    },
    {
     "data": {
      "application/vnd.jupyter.widget-view+json": {
       "model_id": "",
       "version_major": 2,
       "version_minor": 0
      },
      "text/plain": [
       "HBox(children=(HTML(value=''), FloatProgress(value=0.0, max=50.0), HTML(value='')))"
      ]
     },
     "metadata": {},
     "output_type": "display_data"
    },
    {
     "data": {
      "application/vnd.jupyter.widget-view+json": {
       "model_id": "",
       "version_major": 2,
       "version_minor": 0
      },
      "text/plain": [
       "HBox(children=(HTML(value=''), FloatProgress(value=0.0, max=50.0), HTML(value='')))"
      ]
     },
     "metadata": {},
     "output_type": "display_data"
    },
    {
     "data": {
      "application/vnd.jupyter.widget-view+json": {
       "model_id": "",
       "version_major": 2,
       "version_minor": 0
      },
      "text/plain": [
       "HBox(children=(HTML(value=''), FloatProgress(value=0.0, max=50.0), HTML(value='')))"
      ]
     },
     "metadata": {},
     "output_type": "display_data"
    },
    {
     "data": {
      "application/vnd.jupyter.widget-view+json": {
       "model_id": "",
       "version_major": 2,
       "version_minor": 0
      },
      "text/plain": [
       "HBox(children=(HTML(value=''), FloatProgress(value=0.0, max=50.0), HTML(value='')))"
      ]
     },
     "metadata": {},
     "output_type": "display_data"
    },
    {
     "data": {
      "application/vnd.jupyter.widget-view+json": {
       "model_id": "",
       "version_major": 2,
       "version_minor": 0
      },
      "text/plain": [
       "HBox(children=(HTML(value=''), FloatProgress(value=0.0, max=50.0), HTML(value='')))"
      ]
     },
     "metadata": {},
     "output_type": "display_data"
    },
    {
     "data": {
      "application/vnd.jupyter.widget-view+json": {
       "model_id": "",
       "version_major": 2,
       "version_minor": 0
      },
      "text/plain": [
       "HBox(children=(HTML(value=''), FloatProgress(value=0.0, max=50.0), HTML(value='')))"
      ]
     },
     "metadata": {},
     "output_type": "display_data"
    },
    {
     "data": {
      "application/vnd.jupyter.widget-view+json": {
       "model_id": "",
       "version_major": 2,
       "version_minor": 0
      },
      "text/plain": [
       "HBox(children=(HTML(value=''), FloatProgress(value=0.0, max=5.0), HTML(value='')))"
      ]
     },
     "metadata": {},
     "output_type": "display_data"
    },
    {
     "data": {
      "application/vnd.jupyter.widget-view+json": {
       "model_id": "",
       "version_major": 2,
       "version_minor": 0
      },
      "text/plain": [
       "HBox(children=(HTML(value=''), FloatProgress(value=0.0, max=9.0), HTML(value='')))"
      ]
     },
     "metadata": {},
     "output_type": "display_data"
    },
    {
     "data": {
      "application/vnd.jupyter.widget-view+json": {
       "model_id": "",
       "version_major": 2,
       "version_minor": 0
      },
      "text/plain": [
       "HBox(children=(HTML(value=''), FloatProgress(value=0.0, max=50.0), HTML(value='')))"
      ]
     },
     "metadata": {},
     "output_type": "display_data"
    },
    {
     "data": {
      "application/vnd.jupyter.widget-view+json": {
       "model_id": "",
       "version_major": 2,
       "version_minor": 0
      },
      "text/plain": [
       "HBox(children=(HTML(value=''), FloatProgress(value=0.0, max=50.0), HTML(value='')))"
      ]
     },
     "metadata": {},
     "output_type": "display_data"
    },
    {
     "data": {
      "application/vnd.jupyter.widget-view+json": {
       "model_id": "",
       "version_major": 2,
       "version_minor": 0
      },
      "text/plain": [
       "HBox(children=(HTML(value=''), FloatProgress(value=0.0, max=50.0), HTML(value='')))"
      ]
     },
     "metadata": {},
     "output_type": "display_data"
    },
    {
     "data": {
      "application/vnd.jupyter.widget-view+json": {
       "model_id": "",
       "version_major": 2,
       "version_minor": 0
      },
      "text/plain": [
       "HBox(children=(HTML(value=''), FloatProgress(value=0.0, max=50.0), HTML(value='')))"
      ]
     },
     "metadata": {},
     "output_type": "display_data"
    },
    {
     "data": {
      "application/vnd.jupyter.widget-view+json": {
       "model_id": "",
       "version_major": 2,
       "version_minor": 0
      },
      "text/plain": [
       "HBox(children=(HTML(value=''), FloatProgress(value=0.0, max=50.0), HTML(value='')))"
      ]
     },
     "metadata": {},
     "output_type": "display_data"
    },
    {
     "data": {
      "application/vnd.jupyter.widget-view+json": {
       "model_id": "",
       "version_major": 2,
       "version_minor": 0
      },
      "text/plain": [
       "HBox(children=(HTML(value=''), FloatProgress(value=0.0, max=50.0), HTML(value='')))"
      ]
     },
     "metadata": {},
     "output_type": "display_data"
    },
    {
     "data": {
      "application/vnd.jupyter.widget-view+json": {
       "model_id": "",
       "version_major": 2,
       "version_minor": 0
      },
      "text/plain": [
       "HBox(children=(HTML(value=''), FloatProgress(value=0.0, max=50.0), HTML(value='')))"
      ]
     },
     "metadata": {},
     "output_type": "display_data"
    },
    {
     "data": {
      "application/vnd.jupyter.widget-view+json": {
       "model_id": "",
       "version_major": 2,
       "version_minor": 0
      },
      "text/plain": [
       "HBox(children=(HTML(value=''), FloatProgress(value=0.0, max=50.0), HTML(value='')))"
      ]
     },
     "metadata": {},
     "output_type": "display_data"
    },
    {
     "data": {
      "application/vnd.jupyter.widget-view+json": {
       "model_id": "",
       "version_major": 2,
       "version_minor": 0
      },
      "text/plain": [
       "HBox(children=(HTML(value=''), FloatProgress(value=0.0, max=50.0), HTML(value='')))"
      ]
     },
     "metadata": {},
     "output_type": "display_data"
    },
    {
     "data": {
      "application/vnd.jupyter.widget-view+json": {
       "model_id": "",
       "version_major": 2,
       "version_minor": 0
      },
      "text/plain": [
       "HBox(children=(HTML(value=''), FloatProgress(value=0.0, max=50.0), HTML(value='')))"
      ]
     },
     "metadata": {},
     "output_type": "display_data"
    },
    {
     "data": {
      "application/vnd.jupyter.widget-view+json": {
       "model_id": "",
       "version_major": 2,
       "version_minor": 0
      },
      "text/plain": [
       "HBox(children=(HTML(value=''), FloatProgress(value=0.0, max=50.0), HTML(value='')))"
      ]
     },
     "metadata": {},
     "output_type": "display_data"
    },
    {
     "data": {
      "application/vnd.jupyter.widget-view+json": {
       "model_id": "",
       "version_major": 2,
       "version_minor": 0
      },
      "text/plain": [
       "HBox(children=(HTML(value=''), FloatProgress(value=0.0, max=50.0), HTML(value='')))"
      ]
     },
     "metadata": {},
     "output_type": "display_data"
    },
    {
     "data": {
      "application/vnd.jupyter.widget-view+json": {
       "model_id": "",
       "version_major": 2,
       "version_minor": 0
      },
      "text/plain": [
       "HBox(children=(HTML(value=''), FloatProgress(value=0.0, max=50.0), HTML(value='')))"
      ]
     },
     "metadata": {},
     "output_type": "display_data"
    },
    {
     "data": {
      "application/vnd.jupyter.widget-view+json": {
       "model_id": "",
       "version_major": 2,
       "version_minor": 0
      },
      "text/plain": [
       "HBox(children=(HTML(value=''), FloatProgress(value=0.0, max=5.0), HTML(value='')))"
      ]
     },
     "metadata": {},
     "output_type": "display_data"
    },
    {
     "data": {
      "application/vnd.jupyter.widget-view+json": {
       "model_id": "",
       "version_major": 2,
       "version_minor": 0
      },
      "text/plain": [
       "HBox(children=(HTML(value=''), FloatProgress(value=0.0, max=9.0), HTML(value='')))"
      ]
     },
     "metadata": {},
     "output_type": "display_data"
    },
    {
     "data": {
      "application/vnd.jupyter.widget-view+json": {
       "model_id": "",
       "version_major": 2,
       "version_minor": 0
      },
      "text/plain": [
       "HBox(children=(HTML(value=''), FloatProgress(value=0.0, max=50.0), HTML(value='')))"
      ]
     },
     "metadata": {},
     "output_type": "display_data"
    },
    {
     "data": {
      "application/vnd.jupyter.widget-view+json": {
       "model_id": "",
       "version_major": 2,
       "version_minor": 0
      },
      "text/plain": [
       "HBox(children=(HTML(value=''), FloatProgress(value=0.0, max=50.0), HTML(value='')))"
      ]
     },
     "metadata": {},
     "output_type": "display_data"
    },
    {
     "data": {
      "application/vnd.jupyter.widget-view+json": {
       "model_id": "",
       "version_major": 2,
       "version_minor": 0
      },
      "text/plain": [
       "HBox(children=(HTML(value=''), FloatProgress(value=0.0, max=50.0), HTML(value='')))"
      ]
     },
     "metadata": {},
     "output_type": "display_data"
    },
    {
     "data": {
      "application/vnd.jupyter.widget-view+json": {
       "model_id": "",
       "version_major": 2,
       "version_minor": 0
      },
      "text/plain": [
       "HBox(children=(HTML(value=''), FloatProgress(value=0.0, max=50.0), HTML(value='')))"
      ]
     },
     "metadata": {},
     "output_type": "display_data"
    },
    {
     "data": {
      "application/vnd.jupyter.widget-view+json": {
       "model_id": "",
       "version_major": 2,
       "version_minor": 0
      },
      "text/plain": [
       "HBox(children=(HTML(value=''), FloatProgress(value=0.0, max=50.0), HTML(value='')))"
      ]
     },
     "metadata": {},
     "output_type": "display_data"
    },
    {
     "data": {
      "application/vnd.jupyter.widget-view+json": {
       "model_id": "",
       "version_major": 2,
       "version_minor": 0
      },
      "text/plain": [
       "HBox(children=(HTML(value=''), FloatProgress(value=0.0, max=50.0), HTML(value='')))"
      ]
     },
     "metadata": {},
     "output_type": "display_data"
    },
    {
     "data": {
      "application/vnd.jupyter.widget-view+json": {
       "model_id": "",
       "version_major": 2,
       "version_minor": 0
      },
      "text/plain": [
       "HBox(children=(HTML(value=''), FloatProgress(value=0.0, max=50.0), HTML(value='')))"
      ]
     },
     "metadata": {},
     "output_type": "display_data"
    },
    {
     "data": {
      "application/vnd.jupyter.widget-view+json": {
       "model_id": "",
       "version_major": 2,
       "version_minor": 0
      },
      "text/plain": [
       "HBox(children=(HTML(value=''), FloatProgress(value=0.0, max=50.0), HTML(value='')))"
      ]
     },
     "metadata": {},
     "output_type": "display_data"
    },
    {
     "data": {
      "application/vnd.jupyter.widget-view+json": {
       "model_id": "",
       "version_major": 2,
       "version_minor": 0
      },
      "text/plain": [
       "HBox(children=(HTML(value=''), FloatProgress(value=0.0, max=50.0), HTML(value='')))"
      ]
     },
     "metadata": {},
     "output_type": "display_data"
    },
    {
     "data": {
      "application/vnd.jupyter.widget-view+json": {
       "model_id": "",
       "version_major": 2,
       "version_minor": 0
      },
      "text/plain": [
       "HBox(children=(HTML(value=''), FloatProgress(value=0.0, max=50.0), HTML(value='')))"
      ]
     },
     "metadata": {},
     "output_type": "display_data"
    },
    {
     "data": {
      "application/vnd.jupyter.widget-view+json": {
       "model_id": "",
       "version_major": 2,
       "version_minor": 0
      },
      "text/plain": [
       "HBox(children=(HTML(value=''), FloatProgress(value=0.0, max=50.0), HTML(value='')))"
      ]
     },
     "metadata": {},
     "output_type": "display_data"
    },
    {
     "data": {
      "application/vnd.jupyter.widget-view+json": {
       "model_id": "",
       "version_major": 2,
       "version_minor": 0
      },
      "text/plain": [
       "HBox(children=(HTML(value=''), FloatProgress(value=0.0, max=50.0), HTML(value='')))"
      ]
     },
     "metadata": {},
     "output_type": "display_data"
    },
    {
     "data": {
      "application/vnd.jupyter.widget-view+json": {
       "model_id": "",
       "version_major": 2,
       "version_minor": 0
      },
      "text/plain": [
       "HBox(children=(HTML(value=''), FloatProgress(value=0.0, max=50.0), HTML(value='')))"
      ]
     },
     "metadata": {},
     "output_type": "display_data"
    },
    {
     "data": {
      "application/vnd.jupyter.widget-view+json": {
       "model_id": "",
       "version_major": 2,
       "version_minor": 0
      },
      "text/plain": [
       "HBox(children=(HTML(value=''), FloatProgress(value=0.0, max=5.0), HTML(value='')))"
      ]
     },
     "metadata": {},
     "output_type": "display_data"
    },
    {
     "data": {
      "application/vnd.jupyter.widget-view+json": {
       "model_id": "",
       "version_major": 2,
       "version_minor": 0
      },
      "text/plain": [
       "HBox(children=(HTML(value=''), FloatProgress(value=0.0, max=9.0), HTML(value='')))"
      ]
     },
     "metadata": {},
     "output_type": "display_data"
    },
    {
     "data": {
      "application/vnd.jupyter.widget-view+json": {
       "model_id": "",
       "version_major": 2,
       "version_minor": 0
      },
      "text/plain": [
       "HBox(children=(HTML(value=''), FloatProgress(value=0.0, max=50.0), HTML(value='')))"
      ]
     },
     "metadata": {},
     "output_type": "display_data"
    },
    {
     "data": {
      "application/vnd.jupyter.widget-view+json": {
       "model_id": "",
       "version_major": 2,
       "version_minor": 0
      },
      "text/plain": [
       "HBox(children=(HTML(value=''), FloatProgress(value=0.0, max=50.0), HTML(value='')))"
      ]
     },
     "metadata": {},
     "output_type": "display_data"
    },
    {
     "data": {
      "application/vnd.jupyter.widget-view+json": {
       "model_id": "",
       "version_major": 2,
       "version_minor": 0
      },
      "text/plain": [
       "HBox(children=(HTML(value=''), FloatProgress(value=0.0, max=50.0), HTML(value='')))"
      ]
     },
     "metadata": {},
     "output_type": "display_data"
    },
    {
     "data": {
      "application/vnd.jupyter.widget-view+json": {
       "model_id": "",
       "version_major": 2,
       "version_minor": 0
      },
      "text/plain": [
       "HBox(children=(HTML(value=''), FloatProgress(value=0.0, max=50.0), HTML(value='')))"
      ]
     },
     "metadata": {},
     "output_type": "display_data"
    },
    {
     "data": {
      "application/vnd.jupyter.widget-view+json": {
       "model_id": "",
       "version_major": 2,
       "version_minor": 0
      },
      "text/plain": [
       "HBox(children=(HTML(value=''), FloatProgress(value=0.0, max=50.0), HTML(value='')))"
      ]
     },
     "metadata": {},
     "output_type": "display_data"
    },
    {
     "data": {
      "application/vnd.jupyter.widget-view+json": {
       "model_id": "",
       "version_major": 2,
       "version_minor": 0
      },
      "text/plain": [
       "HBox(children=(HTML(value=''), FloatProgress(value=0.0, max=50.0), HTML(value='')))"
      ]
     },
     "metadata": {},
     "output_type": "display_data"
    },
    {
     "data": {
      "application/vnd.jupyter.widget-view+json": {
       "model_id": "",
       "version_major": 2,
       "version_minor": 0
      },
      "text/plain": [
       "HBox(children=(HTML(value=''), FloatProgress(value=0.0, max=50.0), HTML(value='')))"
      ]
     },
     "metadata": {},
     "output_type": "display_data"
    },
    {
     "data": {
      "application/vnd.jupyter.widget-view+json": {
       "model_id": "",
       "version_major": 2,
       "version_minor": 0
      },
      "text/plain": [
       "HBox(children=(HTML(value=''), FloatProgress(value=0.0, max=50.0), HTML(value='')))"
      ]
     },
     "metadata": {},
     "output_type": "display_data"
    },
    {
     "data": {
      "application/vnd.jupyter.widget-view+json": {
       "model_id": "",
       "version_major": 2,
       "version_minor": 0
      },
      "text/plain": [
       "HBox(children=(HTML(value=''), FloatProgress(value=0.0, max=50.0), HTML(value='')))"
      ]
     },
     "metadata": {},
     "output_type": "display_data"
    },
    {
     "data": {
      "application/vnd.jupyter.widget-view+json": {
       "model_id": "",
       "version_major": 2,
       "version_minor": 0
      },
      "text/plain": [
       "HBox(children=(HTML(value=''), FloatProgress(value=0.0, max=50.0), HTML(value='')))"
      ]
     },
     "metadata": {},
     "output_type": "display_data"
    },
    {
     "data": {
      "application/vnd.jupyter.widget-view+json": {
       "model_id": "",
       "version_major": 2,
       "version_minor": 0
      },
      "text/plain": [
       "HBox(children=(HTML(value=''), FloatProgress(value=0.0, max=50.0), HTML(value='')))"
      ]
     },
     "metadata": {},
     "output_type": "display_data"
    },
    {
     "data": {
      "application/vnd.jupyter.widget-view+json": {
       "model_id": "",
       "version_major": 2,
       "version_minor": 0
      },
      "text/plain": [
       "HBox(children=(HTML(value=''), FloatProgress(value=0.0, max=50.0), HTML(value='')))"
      ]
     },
     "metadata": {},
     "output_type": "display_data"
    },
    {
     "data": {
      "application/vnd.jupyter.widget-view+json": {
       "model_id": "",
       "version_major": 2,
       "version_minor": 0
      },
      "text/plain": [
       "HBox(children=(HTML(value=''), FloatProgress(value=0.0, max=50.0), HTML(value='')))"
      ]
     },
     "metadata": {},
     "output_type": "display_data"
    },
    {
     "name": "stdout",
     "output_type": "stream",
     "text": [
      "\n"
     ]
    }
   ],
   "source": [
    "opt_params, RMSE = get_results()"
   ]
  },
  {
   "cell_type": "code",
   "execution_count": 25,
   "metadata": {},
   "outputs": [
    {
     "data": {
      "text/html": [
       "<div>\n",
       "<style scoped>\n",
       "    .dataframe tbody tr th:only-of-type {\n",
       "        vertical-align: middle;\n",
       "    }\n",
       "\n",
       "    .dataframe tbody tr th {\n",
       "        vertical-align: top;\n",
       "    }\n",
       "\n",
       "    .dataframe thead th {\n",
       "        text-align: right;\n",
       "    }\n",
       "</style>\n",
       "<table border=\"1\" class=\"dataframe\">\n",
       "  <thead>\n",
       "    <tr style=\"text-align: right;\">\n",
       "      <th></th>\n",
       "      <th>Ozone</th>\n",
       "      <th>CO</th>\n",
       "      <th>NO2</th>\n",
       "      <th>PM25</th>\n",
       "      <th>PM10</th>\n",
       "    </tr>\n",
       "  </thead>\n",
       "  <tbody>\n",
       "    <tr>\n",
       "      <th>KGR</th>\n",
       "      <td>0.615449</td>\n",
       "      <td>0.735879</td>\n",
       "      <td>0.599236</td>\n",
       "      <td>0.749145</td>\n",
       "      <td>0.633629</td>\n",
       "    </tr>\n",
       "    <tr>\n",
       "      <th>LinearRegression</th>\n",
       "      <td>0.723574</td>\n",
       "      <td>0.768096</td>\n",
       "      <td>0.773384</td>\n",
       "      <td>0.816315</td>\n",
       "      <td>0.777558</td>\n",
       "    </tr>\n",
       "    <tr>\n",
       "      <th>RidgeRegression</th>\n",
       "      <td>0.704979</td>\n",
       "      <td>0.744427</td>\n",
       "      <td>0.780301</td>\n",
       "      <td>0.783974</td>\n",
       "      <td>0.731608</td>\n",
       "    </tr>\n",
       "    <tr>\n",
       "      <th>LassoRegression</th>\n",
       "      <td>0.679058</td>\n",
       "      <td>0.724803</td>\n",
       "      <td>0.739269</td>\n",
       "      <td>0.759241</td>\n",
       "      <td>0.701147</td>\n",
       "    </tr>\n",
       "    <tr>\n",
       "      <th>GLSKGR</th>\n",
       "      <td>0.662691</td>\n",
       "      <td>0.745393</td>\n",
       "      <td>0.665544</td>\n",
       "      <td>0.785514</td>\n",
       "      <td>0.665610</td>\n",
       "    </tr>\n",
       "  </tbody>\n",
       "</table>\n",
       "</div>"
      ],
      "text/plain": [
       "                     Ozone        CO       NO2      PM25      PM10\n",
       "KGR               0.615449  0.735879  0.599236  0.749145  0.633629\n",
       "LinearRegression  0.723574  0.768096  0.773384  0.816315  0.777558\n",
       "RidgeRegression   0.704979  0.744427  0.780301  0.783974  0.731608\n",
       "LassoRegression   0.679058  0.724803  0.739269  0.759241  0.701147\n",
       "GLSKGR            0.662691  0.745393  0.665544  0.785514  0.665610"
      ]
     },
     "execution_count": 25,
     "metadata": {},
     "output_type": "execute_result"
    }
   ],
   "source": [
    "pd.DataFrame(RMSE['All Unlabelled']).T.drop('SO2', axis=1)#.to_csv('results/unlabelled_full.csv')"
   ]
  },
  {
   "cell_type": "code",
   "execution_count": 27,
   "metadata": {},
   "outputs": [
    {
     "data": {
      "text/html": [
       "<div>\n",
       "<style scoped>\n",
       "    .dataframe tbody tr th:only-of-type {\n",
       "        vertical-align: middle;\n",
       "    }\n",
       "\n",
       "    .dataframe tbody tr th {\n",
       "        vertical-align: top;\n",
       "    }\n",
       "\n",
       "    .dataframe thead th {\n",
       "        text-align: right;\n",
       "    }\n",
       "</style>\n",
       "<table border=\"1\" class=\"dataframe\">\n",
       "  <thead>\n",
       "    <tr style=\"text-align: right;\">\n",
       "      <th></th>\n",
       "      <th>Ozone</th>\n",
       "      <th>CO</th>\n",
       "      <th>NO2</th>\n",
       "      <th>PM25</th>\n",
       "      <th>PM10</th>\n",
       "    </tr>\n",
       "  </thead>\n",
       "  <tbody>\n",
       "    <tr>\n",
       "      <th>KGR</th>\n",
       "      <td>0.608420</td>\n",
       "      <td>0.883679</td>\n",
       "      <td>0.638532</td>\n",
       "      <td>0.692877</td>\n",
       "      <td>0.592155</td>\n",
       "    </tr>\n",
       "    <tr>\n",
       "      <th>LinearRegression</th>\n",
       "      <td>0.764155</td>\n",
       "      <td>0.864438</td>\n",
       "      <td>0.924089</td>\n",
       "      <td>0.818205</td>\n",
       "      <td>0.773625</td>\n",
       "    </tr>\n",
       "    <tr>\n",
       "      <th>RidgeRegression</th>\n",
       "      <td>0.764472</td>\n",
       "      <td>0.864822</td>\n",
       "      <td>0.925000</td>\n",
       "      <td>0.819010</td>\n",
       "      <td>0.774243</td>\n",
       "    </tr>\n",
       "    <tr>\n",
       "      <th>LassoRegression</th>\n",
       "      <td>0.767042</td>\n",
       "      <td>0.867911</td>\n",
       "      <td>0.928360</td>\n",
       "      <td>0.820848</td>\n",
       "      <td>0.775833</td>\n",
       "    </tr>\n",
       "    <tr>\n",
       "      <th>GLSKGR</th>\n",
       "      <td>0.678349</td>\n",
       "      <td>0.904138</td>\n",
       "      <td>0.686995</td>\n",
       "      <td>0.722991</td>\n",
       "      <td>0.655298</td>\n",
       "    </tr>\n",
       "  </tbody>\n",
       "</table>\n",
       "</div>"
      ],
      "text/plain": [
       "                     Ozone        CO       NO2      PM25      PM10\n",
       "KGR               0.608420  0.883679  0.638532  0.692877  0.592155\n",
       "LinearRegression  0.764155  0.864438  0.924089  0.818205  0.773625\n",
       "RidgeRegression   0.764472  0.864822  0.925000  0.819010  0.774243\n",
       "LassoRegression   0.767042  0.867911  0.928360  0.820848  0.775833\n",
       "GLSKGR            0.678349  0.904138  0.686995  0.722991  0.655298"
      ]
     },
     "execution_count": 27,
     "metadata": {},
     "output_type": "execute_result"
    }
   ],
   "source": [
    "pd.DataFrame(RMSE['Missing Nodes']).T.drop('SO2', axis=1)#.to_csv('results/missing_nodes.csv')"
   ]
  },
  {
   "cell_type": "code",
   "execution_count": 26,
   "metadata": {},
   "outputs": [
    {
     "data": {
      "text/html": [
       "<div>\n",
       "<style scoped>\n",
       "    .dataframe tbody tr th:only-of-type {\n",
       "        vertical-align: middle;\n",
       "    }\n",
       "\n",
       "    .dataframe tbody tr th {\n",
       "        vertical-align: top;\n",
       "    }\n",
       "\n",
       "    .dataframe thead th {\n",
       "        text-align: right;\n",
       "    }\n",
       "</style>\n",
       "<table border=\"1\" class=\"dataframe\">\n",
       "  <thead>\n",
       "    <tr style=\"text-align: right;\">\n",
       "      <th></th>\n",
       "      <th>Ozone</th>\n",
       "      <th>CO</th>\n",
       "      <th>NO2</th>\n",
       "      <th>PM25</th>\n",
       "      <th>PM10</th>\n",
       "    </tr>\n",
       "  </thead>\n",
       "  <tbody>\n",
       "    <tr>\n",
       "      <th>KGR</th>\n",
       "      <td>0.592735</td>\n",
       "      <td>0.539675</td>\n",
       "      <td>0.552580</td>\n",
       "      <td>0.770604</td>\n",
       "      <td>0.654792</td>\n",
       "    </tr>\n",
       "    <tr>\n",
       "      <th>LinearRegression</th>\n",
       "      <td>0.652398</td>\n",
       "      <td>0.662703</td>\n",
       "      <td>0.521524</td>\n",
       "      <td>0.798053</td>\n",
       "      <td>0.773413</td>\n",
       "    </tr>\n",
       "    <tr>\n",
       "      <th>RidgeRegression</th>\n",
       "      <td>0.607211</td>\n",
       "      <td>0.604531</td>\n",
       "      <td>0.551308</td>\n",
       "      <td>0.728811</td>\n",
       "      <td>0.665495</td>\n",
       "    </tr>\n",
       "    <tr>\n",
       "      <th>LassoRegression</th>\n",
       "      <td>0.537975</td>\n",
       "      <td>0.541524</td>\n",
       "      <td>0.402299</td>\n",
       "      <td>0.661069</td>\n",
       "      <td>0.585522</td>\n",
       "    </tr>\n",
       "    <tr>\n",
       "      <th>GLSKGR</th>\n",
       "      <td>0.626720</td>\n",
       "      <td>0.539121</td>\n",
       "      <td>0.643153</td>\n",
       "      <td>0.815208</td>\n",
       "      <td>0.667832</td>\n",
       "    </tr>\n",
       "  </tbody>\n",
       "</table>\n",
       "</div>"
      ],
      "text/plain": [
       "                     Ozone        CO       NO2      PM25      PM10\n",
       "KGR               0.592735  0.539675  0.552580  0.770604  0.654792\n",
       "LinearRegression  0.652398  0.662703  0.521524  0.798053  0.773413\n",
       "RidgeRegression   0.607211  0.604531  0.551308  0.728811  0.665495\n",
       "LassoRegression   0.537975  0.541524  0.402299  0.661069  0.585522\n",
       "GLSKGR            0.626720  0.539121  0.643153  0.815208  0.667832"
      ]
     },
     "execution_count": 26,
     "metadata": {},
     "output_type": "execute_result"
    }
   ],
   "source": [
    "pd.DataFrame(RMSE['Missing Dates']).T.drop('SO2', axis=1)#.to_csv('results/unlabelled_dates.csv')"
   ]
  },
  {
   "cell_type": "code",
   "execution_count": 28,
   "metadata": {},
   "outputs": [
    {
     "data": {
      "text/html": [
       "<div>\n",
       "<style scoped>\n",
       "    .dataframe tbody tr th:only-of-type {\n",
       "        vertical-align: middle;\n",
       "    }\n",
       "\n",
       "    .dataframe tbody tr th {\n",
       "        vertical-align: top;\n",
       "    }\n",
       "\n",
       "    .dataframe thead th {\n",
       "        text-align: right;\n",
       "    }\n",
       "</style>\n",
       "<table border=\"1\" class=\"dataframe\">\n",
       "  <thead>\n",
       "    <tr style=\"text-align: right;\">\n",
       "      <th></th>\n",
       "      <th>Ozone</th>\n",
       "      <th>CO</th>\n",
       "      <th>NO2</th>\n",
       "      <th>PM25</th>\n",
       "      <th>PM10</th>\n",
       "    </tr>\n",
       "  </thead>\n",
       "  <tbody>\n",
       "    <tr>\n",
       "      <th>KGR</th>\n",
       "      <td>0.317762</td>\n",
       "      <td>0.202276</td>\n",
       "      <td>0.544492</td>\n",
       "      <td>0.534491</td>\n",
       "      <td>0.493960</td>\n",
       "    </tr>\n",
       "    <tr>\n",
       "      <th>LinearRegression</th>\n",
       "      <td>0.439377</td>\n",
       "      <td>0.374526</td>\n",
       "      <td>0.344250</td>\n",
       "      <td>0.474253</td>\n",
       "      <td>0.497572</td>\n",
       "    </tr>\n",
       "    <tr>\n",
       "      <th>RidgeRegression</th>\n",
       "      <td>0.443431</td>\n",
       "      <td>0.380649</td>\n",
       "      <td>0.350041</td>\n",
       "      <td>0.478920</td>\n",
       "      <td>0.503214</td>\n",
       "    </tr>\n",
       "    <tr>\n",
       "      <th>LassoRegression</th>\n",
       "      <td>0.466472</td>\n",
       "      <td>0.410098</td>\n",
       "      <td>0.372237</td>\n",
       "      <td>0.497190</td>\n",
       "      <td>0.524526</td>\n",
       "    </tr>\n",
       "    <tr>\n",
       "      <th>GLSKGR</th>\n",
       "      <td>0.310504</td>\n",
       "      <td>0.051383</td>\n",
       "      <td>0.625151</td>\n",
       "      <td>0.546650</td>\n",
       "      <td>0.450996</td>\n",
       "    </tr>\n",
       "  </tbody>\n",
       "</table>\n",
       "</div>"
      ],
      "text/plain": [
       "                     Ozone        CO       NO2      PM25      PM10\n",
       "KGR               0.317762  0.202276  0.544492  0.534491  0.493960\n",
       "LinearRegression  0.439377  0.374526  0.344250  0.474253  0.497572\n",
       "RidgeRegression   0.443431  0.380649  0.350041  0.478920  0.503214\n",
       "LassoRegression   0.466472  0.410098  0.372237  0.497190  0.524526\n",
       "GLSKGR            0.310504  0.051383  0.625151  0.546650  0.450996"
      ]
     },
     "execution_count": 28,
     "metadata": {},
     "output_type": "execute_result"
    }
   ],
   "source": [
    "pd.DataFrame(RMSE['Labelled']).T.drop('SO2', axis=1)#.to_csv('results/labelled.csv')"
   ]
  },
  {
   "cell_type": "code",
   "execution_count": 33,
   "metadata": {},
   "outputs": [
    {
     "data": {
      "text/plain": [
       "{'KGR': {'gamma': 0.07196856730011514,\n",
       "  'K_std': 10.985411419875584,\n",
       "  'filter_func': 'sigmoid',\n",
       "  'beta': 5.963623316594643},\n",
       " 'LinearRegression': {'fit_intercept': True},\n",
       " 'RidgeRegression': {'fit_intercept': True, 'alpha': 686.6488450042998},\n",
       " 'LassoRegression': {'fit_intercept': True, 'alpha': 0.01151395399326447},\n",
       " 'GLSKGR': {'gamma': 0.07196856730011514,\n",
       "  'K_std': 10.985411419875584,\n",
       "  'filter_func': 'sigmoid',\n",
       "  'beta': 5.963623316594643}}"
      ]
     },
     "execution_count": 33,
     "metadata": {},
     "output_type": "execute_result"
    }
   ],
   "source": [
    "opt_params['Ozone']"
   ]
  },
  {
   "cell_type": "code",
   "execution_count": null,
   "metadata": {},
   "outputs": [],
   "source": []
  }
 ],
 "metadata": {
  "kernelspec": {
   "display_name": "Python 3",
   "language": "python",
   "name": "python3"
  },
  "language_info": {
   "codemirror_mode": {
    "name": "ipython",
    "version": 3
   },
   "file_extension": ".py",
   "mimetype": "text/x-python",
   "name": "python",
   "nbconvert_exporter": "python",
   "pygments_lexer": "ipython3",
   "version": "3.7.3"
  }
 },
 "nbformat": 4,
 "nbformat_minor": 2
}
