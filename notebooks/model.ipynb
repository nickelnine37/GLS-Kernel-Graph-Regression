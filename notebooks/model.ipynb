{
 "cells": [
  {
   "cell_type": "code",
   "execution_count": 1,
   "metadata": {},
   "outputs": [
    {
     "data": {
      "text/html": [
       "<style>.container { width:90% !important; }</style>"
      ],
      "text/plain": [
       "<IPython.core.display.HTML object>"
      ]
     },
     "metadata": {},
     "output_type": "display_data"
    }
   ],
   "source": [
    "from IPython.core.display import display, HTML\n",
    "display(HTML(\"<style>.container { width:90% !important; }</style>\"))"
   ]
  },
  {
   "cell_type": "code",
   "execution_count": 2,
   "metadata": {},
   "outputs": [],
   "source": [
    "%load_ext autoreload\n",
    "%autoreload 2"
   ]
  },
  {
   "cell_type": "code",
   "execution_count": 10,
   "metadata": {},
   "outputs": [],
   "source": [
    "import numpy as np\n",
    "import matplotlib.pyplot as plt\n",
    "import pandas as pd\n",
    "from tqdm.autonotebook import tqdm\n"
   ]
  },
  {
   "cell_type": "code",
   "execution_count": 4,
   "metadata": {},
   "outputs": [],
   "source": [
    "%matplotlib notebook\n",
    "np.set_printoptions(precision=4, linewidth=500, threshold=500, suppress=True)"
   ]
  },
  {
   "cell_type": "code",
   "execution_count": 5,
   "metadata": {},
   "outputs": [],
   "source": [
    "import sys\n",
    "sys.path.append('..')"
   ]
  },
  {
   "cell_type": "code",
   "execution_count": 6,
   "metadata": {},
   "outputs": [
    {
     "name": "stderr",
     "output_type": "stream",
     "text": [
      "../model/regression/basic.py:3: TqdmExperimentalWarning: Using `tqdm.autonotebook.tqdm` in notebook mode. Use `tqdm.tqdm` instead to force console mode (e.g. in jupyter console)\n",
      "  from tqdm.autonotebook import tqdm\n"
     ]
    }
   ],
   "source": [
    "from model.laplacian import Laplacian\n",
    "from model.features import Features\n",
    "from model.targets import Targets\n",
    "from model.regression.basic import LinearRegression, LassoRegression, RidgeRegression\n",
    "from model.regression.glskgr import GLSKGR\n",
    "from model.regression.kgr import KGR\n"
   ]
  },
  {
   "cell_type": "code",
   "execution_count": 7,
   "metadata": {},
   "outputs": [],
   "source": [
    "laplacian = Laplacian()"
   ]
  },
  {
   "cell_type": "code",
   "execution_count": 8,
   "metadata": {},
   "outputs": [],
   "source": [
    "features = Features()"
   ]
  },
  {
   "cell_type": "code",
   "execution_count": 9,
   "metadata": {},
   "outputs": [],
   "source": [
    "targets = Targets('Ozone')"
   ]
  },
  {
   "cell_type": "code",
   "execution_count": 10,
   "metadata": {},
   "outputs": [],
   "source": [
    "model_kgr = KGR(gamma=0.01, K_std=50, filter_func='sigmoid', beta=50)"
   ]
  },
  {
   "cell_type": "code",
   "execution_count": 11,
   "metadata": {},
   "outputs": [
    {
     "data": {
      "application/vnd.jupyter.widget-view+json": {
       "model_id": "546610f7f2d04b71b3e909856847e72b",
       "version_major": 2,
       "version_minor": 0
      },
      "text/plain": [
       "HBox(children=(HTML(value=''), FloatProgress(value=0.0, max=9.0), HTML(value='')))"
      ]
     },
     "metadata": {},
     "output_type": "display_data"
    },
    {
     "data": {
      "application/vnd.jupyter.widget-view+json": {
       "model_id": "",
       "version_major": 2,
       "version_minor": 0
      },
      "text/plain": [
       "HBox(children=(HTML(value=''), FloatProgress(value=0.0, max=50.0), HTML(value='')))"
      ]
     },
     "metadata": {},
     "output_type": "display_data"
    },
    {
     "data": {
      "application/vnd.jupyter.widget-view+json": {
       "model_id": "",
       "version_major": 2,
       "version_minor": 0
      },
      "text/plain": [
       "HBox(children=(HTML(value=''), FloatProgress(value=0.0, max=50.0), HTML(value='')))"
      ]
     },
     "metadata": {},
     "output_type": "display_data"
    },
    {
     "data": {
      "application/vnd.jupyter.widget-view+json": {
       "model_id": "",
       "version_major": 2,
       "version_minor": 0
      },
      "text/plain": [
       "HBox(children=(HTML(value=''), FloatProgress(value=0.0, max=50.0), HTML(value='')))"
      ]
     },
     "metadata": {},
     "output_type": "display_data"
    },
    {
     "data": {
      "application/vnd.jupyter.widget-view+json": {
       "model_id": "",
       "version_major": 2,
       "version_minor": 0
      },
      "text/plain": [
       "HBox(children=(HTML(value=''), FloatProgress(value=0.0, max=50.0), HTML(value='')))"
      ]
     },
     "metadata": {},
     "output_type": "display_data"
    },
    {
     "data": {
      "application/vnd.jupyter.widget-view+json": {
       "model_id": "",
       "version_major": 2,
       "version_minor": 0
      },
      "text/plain": [
       "HBox(children=(HTML(value=''), FloatProgress(value=0.0, max=50.0), HTML(value='')))"
      ]
     },
     "metadata": {},
     "output_type": "display_data"
    },
    {
     "data": {
      "application/vnd.jupyter.widget-view+json": {
       "model_id": "",
       "version_major": 2,
       "version_minor": 0
      },
      "text/plain": [
       "HBox(children=(HTML(value=''), FloatProgress(value=0.0, max=50.0), HTML(value='')))"
      ]
     },
     "metadata": {},
     "output_type": "display_data"
    },
    {
     "data": {
      "application/vnd.jupyter.widget-view+json": {
       "model_id": "",
       "version_major": 2,
       "version_minor": 0
      },
      "text/plain": [
       "HBox(children=(HTML(value=''), FloatProgress(value=0.0, max=50.0), HTML(value='')))"
      ]
     },
     "metadata": {},
     "output_type": "display_data"
    },
    {
     "data": {
      "application/vnd.jupyter.widget-view+json": {
       "model_id": "",
       "version_major": 2,
       "version_minor": 0
      },
      "text/plain": [
       "HBox(children=(HTML(value=''), FloatProgress(value=0.0, max=50.0), HTML(value='')))"
      ]
     },
     "metadata": {},
     "output_type": "display_data"
    },
    {
     "data": {
      "application/vnd.jupyter.widget-view+json": {
       "model_id": "",
       "version_major": 2,
       "version_minor": 0
      },
      "text/plain": [
       "HBox(children=(HTML(value=''), FloatProgress(value=0.0, max=50.0), HTML(value='')))"
      ]
     },
     "metadata": {},
     "output_type": "display_data"
    },
    {
     "name": "stdout",
     "output_type": "stream",
     "text": [
      "\n"
     ]
    },
    {
     "data": {
      "text/plain": [
       "({'gamma': 0.003727593720314938,\n",
       "  'K_std': 91.02981779915217,\n",
       "  'filter_func': 'sigmoid',\n",
       "  'beta': 62.505519252739695},\n",
       " 0.644421206675043)"
      ]
     },
     "execution_count": 11,
     "metadata": {},
     "output_type": "execute_result"
    }
   ],
   "source": [
    "model_kgr.set_laplacian(laplacian).set_data(features, targets).optimize()"
   ]
  },
  {
   "cell_type": "code",
   "execution_count": 18,
   "metadata": {},
   "outputs": [
    {
     "data": {
      "application/javascript": [
       "/* Put everything inside the global mpl namespace */\n",
       "window.mpl = {};\n",
       "\n",
       "\n",
       "mpl.get_websocket_type = function() {\n",
       "    if (typeof(WebSocket) !== 'undefined') {\n",
       "        return WebSocket;\n",
       "    } else if (typeof(MozWebSocket) !== 'undefined') {\n",
       "        return MozWebSocket;\n",
       "    } else {\n",
       "        alert('Your browser does not have WebSocket support. ' +\n",
       "              'Please try Chrome, Safari or Firefox ≥ 6. ' +\n",
       "              'Firefox 4 and 5 are also supported but you ' +\n",
       "              'have to enable WebSockets in about:config.');\n",
       "    };\n",
       "}\n",
       "\n",
       "mpl.figure = function(figure_id, websocket, ondownload, parent_element) {\n",
       "    this.id = figure_id;\n",
       "\n",
       "    this.ws = websocket;\n",
       "\n",
       "    this.supports_binary = (this.ws.binaryType != undefined);\n",
       "\n",
       "    if (!this.supports_binary) {\n",
       "        var warnings = document.getElementById(\"mpl-warnings\");\n",
       "        if (warnings) {\n",
       "            warnings.style.display = 'block';\n",
       "            warnings.textContent = (\n",
       "                \"This browser does not support binary websocket messages. \" +\n",
       "                    \"Performance may be slow.\");\n",
       "        }\n",
       "    }\n",
       "\n",
       "    this.imageObj = new Image();\n",
       "\n",
       "    this.context = undefined;\n",
       "    this.message = undefined;\n",
       "    this.canvas = undefined;\n",
       "    this.rubberband_canvas = undefined;\n",
       "    this.rubberband_context = undefined;\n",
       "    this.format_dropdown = undefined;\n",
       "\n",
       "    this.image_mode = 'full';\n",
       "\n",
       "    this.root = $('<div/>');\n",
       "    this._root_extra_style(this.root)\n",
       "    this.root.attr('style', 'display: inline-block');\n",
       "\n",
       "    $(parent_element).append(this.root);\n",
       "\n",
       "    this._init_header(this);\n",
       "    this._init_canvas(this);\n",
       "    this._init_toolbar(this);\n",
       "\n",
       "    var fig = this;\n",
       "\n",
       "    this.waiting = false;\n",
       "\n",
       "    this.ws.onopen =  function () {\n",
       "            fig.send_message(\"supports_binary\", {value: fig.supports_binary});\n",
       "            fig.send_message(\"send_image_mode\", {});\n",
       "            if (mpl.ratio != 1) {\n",
       "                fig.send_message(\"set_dpi_ratio\", {'dpi_ratio': mpl.ratio});\n",
       "            }\n",
       "            fig.send_message(\"refresh\", {});\n",
       "        }\n",
       "\n",
       "    this.imageObj.onload = function() {\n",
       "            if (fig.image_mode == 'full') {\n",
       "                // Full images could contain transparency (where diff images\n",
       "                // almost always do), so we need to clear the canvas so that\n",
       "                // there is no ghosting.\n",
       "                fig.context.clearRect(0, 0, fig.canvas.width, fig.canvas.height);\n",
       "            }\n",
       "            fig.context.drawImage(fig.imageObj, 0, 0);\n",
       "        };\n",
       "\n",
       "    this.imageObj.onunload = function() {\n",
       "        fig.ws.close();\n",
       "    }\n",
       "\n",
       "    this.ws.onmessage = this._make_on_message_function(this);\n",
       "\n",
       "    this.ondownload = ondownload;\n",
       "}\n",
       "\n",
       "mpl.figure.prototype._init_header = function() {\n",
       "    var titlebar = $(\n",
       "        '<div class=\"ui-dialog-titlebar ui-widget-header ui-corner-all ' +\n",
       "        'ui-helper-clearfix\"/>');\n",
       "    var titletext = $(\n",
       "        '<div class=\"ui-dialog-title\" style=\"width: 100%; ' +\n",
       "        'text-align: center; padding: 3px;\"/>');\n",
       "    titlebar.append(titletext)\n",
       "    this.root.append(titlebar);\n",
       "    this.header = titletext[0];\n",
       "}\n",
       "\n",
       "\n",
       "\n",
       "mpl.figure.prototype._canvas_extra_style = function(canvas_div) {\n",
       "\n",
       "}\n",
       "\n",
       "\n",
       "mpl.figure.prototype._root_extra_style = function(canvas_div) {\n",
       "\n",
       "}\n",
       "\n",
       "mpl.figure.prototype._init_canvas = function() {\n",
       "    var fig = this;\n",
       "\n",
       "    var canvas_div = $('<div/>');\n",
       "\n",
       "    canvas_div.attr('style', 'position: relative; clear: both; outline: 0');\n",
       "\n",
       "    function canvas_keyboard_event(event) {\n",
       "        return fig.key_event(event, event['data']);\n",
       "    }\n",
       "\n",
       "    canvas_div.keydown('key_press', canvas_keyboard_event);\n",
       "    canvas_div.keyup('key_release', canvas_keyboard_event);\n",
       "    this.canvas_div = canvas_div\n",
       "    this._canvas_extra_style(canvas_div)\n",
       "    this.root.append(canvas_div);\n",
       "\n",
       "    var canvas = $('<canvas/>');\n",
       "    canvas.addClass('mpl-canvas');\n",
       "    canvas.attr('style', \"left: 0; top: 0; z-index: 0; outline: 0\")\n",
       "\n",
       "    this.canvas = canvas[0];\n",
       "    this.context = canvas[0].getContext(\"2d\");\n",
       "\n",
       "    var backingStore = this.context.backingStorePixelRatio ||\n",
       "\tthis.context.webkitBackingStorePixelRatio ||\n",
       "\tthis.context.mozBackingStorePixelRatio ||\n",
       "\tthis.context.msBackingStorePixelRatio ||\n",
       "\tthis.context.oBackingStorePixelRatio ||\n",
       "\tthis.context.backingStorePixelRatio || 1;\n",
       "\n",
       "    mpl.ratio = (window.devicePixelRatio || 1) / backingStore;\n",
       "\n",
       "    var rubberband = $('<canvas/>');\n",
       "    rubberband.attr('style', \"position: absolute; left: 0; top: 0; z-index: 1;\")\n",
       "\n",
       "    var pass_mouse_events = true;\n",
       "\n",
       "    canvas_div.resizable({\n",
       "        start: function(event, ui) {\n",
       "            pass_mouse_events = false;\n",
       "        },\n",
       "        resize: function(event, ui) {\n",
       "            fig.request_resize(ui.size.width, ui.size.height);\n",
       "        },\n",
       "        stop: function(event, ui) {\n",
       "            pass_mouse_events = true;\n",
       "            fig.request_resize(ui.size.width, ui.size.height);\n",
       "        },\n",
       "    });\n",
       "\n",
       "    function mouse_event_fn(event) {\n",
       "        if (pass_mouse_events)\n",
       "            return fig.mouse_event(event, event['data']);\n",
       "    }\n",
       "\n",
       "    rubberband.mousedown('button_press', mouse_event_fn);\n",
       "    rubberband.mouseup('button_release', mouse_event_fn);\n",
       "    // Throttle sequential mouse events to 1 every 20ms.\n",
       "    rubberband.mousemove('motion_notify', mouse_event_fn);\n",
       "\n",
       "    rubberband.mouseenter('figure_enter', mouse_event_fn);\n",
       "    rubberband.mouseleave('figure_leave', mouse_event_fn);\n",
       "\n",
       "    canvas_div.on(\"wheel\", function (event) {\n",
       "        event = event.originalEvent;\n",
       "        event['data'] = 'scroll'\n",
       "        if (event.deltaY < 0) {\n",
       "            event.step = 1;\n",
       "        } else {\n",
       "            event.step = -1;\n",
       "        }\n",
       "        mouse_event_fn(event);\n",
       "    });\n",
       "\n",
       "    canvas_div.append(canvas);\n",
       "    canvas_div.append(rubberband);\n",
       "\n",
       "    this.rubberband = rubberband;\n",
       "    this.rubberband_canvas = rubberband[0];\n",
       "    this.rubberband_context = rubberband[0].getContext(\"2d\");\n",
       "    this.rubberband_context.strokeStyle = \"#000000\";\n",
       "\n",
       "    this._resize_canvas = function(width, height) {\n",
       "        // Keep the size of the canvas, canvas container, and rubber band\n",
       "        // canvas in synch.\n",
       "        canvas_div.css('width', width)\n",
       "        canvas_div.css('height', height)\n",
       "\n",
       "        canvas.attr('width', width * mpl.ratio);\n",
       "        canvas.attr('height', height * mpl.ratio);\n",
       "        canvas.attr('style', 'width: ' + width + 'px; height: ' + height + 'px;');\n",
       "\n",
       "        rubberband.attr('width', width);\n",
       "        rubberband.attr('height', height);\n",
       "    }\n",
       "\n",
       "    // Set the figure to an initial 600x600px, this will subsequently be updated\n",
       "    // upon first draw.\n",
       "    this._resize_canvas(600, 600);\n",
       "\n",
       "    // Disable right mouse context menu.\n",
       "    $(this.rubberband_canvas).bind(\"contextmenu\",function(e){\n",
       "        return false;\n",
       "    });\n",
       "\n",
       "    function set_focus () {\n",
       "        canvas.focus();\n",
       "        canvas_div.focus();\n",
       "    }\n",
       "\n",
       "    window.setTimeout(set_focus, 100);\n",
       "}\n",
       "\n",
       "mpl.figure.prototype._init_toolbar = function() {\n",
       "    var fig = this;\n",
       "\n",
       "    var nav_element = $('<div/>');\n",
       "    nav_element.attr('style', 'width: 100%');\n",
       "    this.root.append(nav_element);\n",
       "\n",
       "    // Define a callback function for later on.\n",
       "    function toolbar_event(event) {\n",
       "        return fig.toolbar_button_onclick(event['data']);\n",
       "    }\n",
       "    function toolbar_mouse_event(event) {\n",
       "        return fig.toolbar_button_onmouseover(event['data']);\n",
       "    }\n",
       "\n",
       "    for(var toolbar_ind in mpl.toolbar_items) {\n",
       "        var name = mpl.toolbar_items[toolbar_ind][0];\n",
       "        var tooltip = mpl.toolbar_items[toolbar_ind][1];\n",
       "        var image = mpl.toolbar_items[toolbar_ind][2];\n",
       "        var method_name = mpl.toolbar_items[toolbar_ind][3];\n",
       "\n",
       "        if (!name) {\n",
       "            // put a spacer in here.\n",
       "            continue;\n",
       "        }\n",
       "        var button = $('<button/>');\n",
       "        button.addClass('ui-button ui-widget ui-state-default ui-corner-all ' +\n",
       "                        'ui-button-icon-only');\n",
       "        button.attr('role', 'button');\n",
       "        button.attr('aria-disabled', 'false');\n",
       "        button.click(method_name, toolbar_event);\n",
       "        button.mouseover(tooltip, toolbar_mouse_event);\n",
       "\n",
       "        var icon_img = $('<span/>');\n",
       "        icon_img.addClass('ui-button-icon-primary ui-icon');\n",
       "        icon_img.addClass(image);\n",
       "        icon_img.addClass('ui-corner-all');\n",
       "\n",
       "        var tooltip_span = $('<span/>');\n",
       "        tooltip_span.addClass('ui-button-text');\n",
       "        tooltip_span.html(tooltip);\n",
       "\n",
       "        button.append(icon_img);\n",
       "        button.append(tooltip_span);\n",
       "\n",
       "        nav_element.append(button);\n",
       "    }\n",
       "\n",
       "    var fmt_picker_span = $('<span/>');\n",
       "\n",
       "    var fmt_picker = $('<select/>');\n",
       "    fmt_picker.addClass('mpl-toolbar-option ui-widget ui-widget-content');\n",
       "    fmt_picker_span.append(fmt_picker);\n",
       "    nav_element.append(fmt_picker_span);\n",
       "    this.format_dropdown = fmt_picker[0];\n",
       "\n",
       "    for (var ind in mpl.extensions) {\n",
       "        var fmt = mpl.extensions[ind];\n",
       "        var option = $(\n",
       "            '<option/>', {selected: fmt === mpl.default_extension}).html(fmt);\n",
       "        fmt_picker.append(option);\n",
       "    }\n",
       "\n",
       "    // Add hover states to the ui-buttons\n",
       "    $( \".ui-button\" ).hover(\n",
       "        function() { $(this).addClass(\"ui-state-hover\");},\n",
       "        function() { $(this).removeClass(\"ui-state-hover\");}\n",
       "    );\n",
       "\n",
       "    var status_bar = $('<span class=\"mpl-message\"/>');\n",
       "    nav_element.append(status_bar);\n",
       "    this.message = status_bar[0];\n",
       "}\n",
       "\n",
       "mpl.figure.prototype.request_resize = function(x_pixels, y_pixels) {\n",
       "    // Request matplotlib to resize the figure. Matplotlib will then trigger a resize in the client,\n",
       "    // which will in turn request a refresh of the image.\n",
       "    this.send_message('resize', {'width': x_pixels, 'height': y_pixels});\n",
       "}\n",
       "\n",
       "mpl.figure.prototype.send_message = function(type, properties) {\n",
       "    properties['type'] = type;\n",
       "    properties['figure_id'] = this.id;\n",
       "    this.ws.send(JSON.stringify(properties));\n",
       "}\n",
       "\n",
       "mpl.figure.prototype.send_draw_message = function() {\n",
       "    if (!this.waiting) {\n",
       "        this.waiting = true;\n",
       "        this.ws.send(JSON.stringify({type: \"draw\", figure_id: this.id}));\n",
       "    }\n",
       "}\n",
       "\n",
       "\n",
       "mpl.figure.prototype.handle_save = function(fig, msg) {\n",
       "    var format_dropdown = fig.format_dropdown;\n",
       "    var format = format_dropdown.options[format_dropdown.selectedIndex].value;\n",
       "    fig.ondownload(fig, format);\n",
       "}\n",
       "\n",
       "\n",
       "mpl.figure.prototype.handle_resize = function(fig, msg) {\n",
       "    var size = msg['size'];\n",
       "    if (size[0] != fig.canvas.width || size[1] != fig.canvas.height) {\n",
       "        fig._resize_canvas(size[0], size[1]);\n",
       "        fig.send_message(\"refresh\", {});\n",
       "    };\n",
       "}\n",
       "\n",
       "mpl.figure.prototype.handle_rubberband = function(fig, msg) {\n",
       "    var x0 = msg['x0'] / mpl.ratio;\n",
       "    var y0 = (fig.canvas.height - msg['y0']) / mpl.ratio;\n",
       "    var x1 = msg['x1'] / mpl.ratio;\n",
       "    var y1 = (fig.canvas.height - msg['y1']) / mpl.ratio;\n",
       "    x0 = Math.floor(x0) + 0.5;\n",
       "    y0 = Math.floor(y0) + 0.5;\n",
       "    x1 = Math.floor(x1) + 0.5;\n",
       "    y1 = Math.floor(y1) + 0.5;\n",
       "    var min_x = Math.min(x0, x1);\n",
       "    var min_y = Math.min(y0, y1);\n",
       "    var width = Math.abs(x1 - x0);\n",
       "    var height = Math.abs(y1 - y0);\n",
       "\n",
       "    fig.rubberband_context.clearRect(\n",
       "        0, 0, fig.canvas.width / mpl.ratio, fig.canvas.height / mpl.ratio);\n",
       "\n",
       "    fig.rubberband_context.strokeRect(min_x, min_y, width, height);\n",
       "}\n",
       "\n",
       "mpl.figure.prototype.handle_figure_label = function(fig, msg) {\n",
       "    // Updates the figure title.\n",
       "    fig.header.textContent = msg['label'];\n",
       "}\n",
       "\n",
       "mpl.figure.prototype.handle_cursor = function(fig, msg) {\n",
       "    var cursor = msg['cursor'];\n",
       "    switch(cursor)\n",
       "    {\n",
       "    case 0:\n",
       "        cursor = 'pointer';\n",
       "        break;\n",
       "    case 1:\n",
       "        cursor = 'default';\n",
       "        break;\n",
       "    case 2:\n",
       "        cursor = 'crosshair';\n",
       "        break;\n",
       "    case 3:\n",
       "        cursor = 'move';\n",
       "        break;\n",
       "    }\n",
       "    fig.rubberband_canvas.style.cursor = cursor;\n",
       "}\n",
       "\n",
       "mpl.figure.prototype.handle_message = function(fig, msg) {\n",
       "    fig.message.textContent = msg['message'];\n",
       "}\n",
       "\n",
       "mpl.figure.prototype.handle_draw = function(fig, msg) {\n",
       "    // Request the server to send over a new figure.\n",
       "    fig.send_draw_message();\n",
       "}\n",
       "\n",
       "mpl.figure.prototype.handle_image_mode = function(fig, msg) {\n",
       "    fig.image_mode = msg['mode'];\n",
       "}\n",
       "\n",
       "mpl.figure.prototype.updated_canvas_event = function() {\n",
       "    // Called whenever the canvas gets updated.\n",
       "    this.send_message(\"ack\", {});\n",
       "}\n",
       "\n",
       "// A function to construct a web socket function for onmessage handling.\n",
       "// Called in the figure constructor.\n",
       "mpl.figure.prototype._make_on_message_function = function(fig) {\n",
       "    return function socket_on_message(evt) {\n",
       "        if (evt.data instanceof Blob) {\n",
       "            /* FIXME: We get \"Resource interpreted as Image but\n",
       "             * transferred with MIME type text/plain:\" errors on\n",
       "             * Chrome.  But how to set the MIME type?  It doesn't seem\n",
       "             * to be part of the websocket stream */\n",
       "            evt.data.type = \"image/png\";\n",
       "\n",
       "            /* Free the memory for the previous frames */\n",
       "            if (fig.imageObj.src) {\n",
       "                (window.URL || window.webkitURL).revokeObjectURL(\n",
       "                    fig.imageObj.src);\n",
       "            }\n",
       "\n",
       "            fig.imageObj.src = (window.URL || window.webkitURL).createObjectURL(\n",
       "                evt.data);\n",
       "            fig.updated_canvas_event();\n",
       "            fig.waiting = false;\n",
       "            return;\n",
       "        }\n",
       "        else if (typeof evt.data === 'string' && evt.data.slice(0, 21) == \"data:image/png;base64\") {\n",
       "            fig.imageObj.src = evt.data;\n",
       "            fig.updated_canvas_event();\n",
       "            fig.waiting = false;\n",
       "            return;\n",
       "        }\n",
       "\n",
       "        var msg = JSON.parse(evt.data);\n",
       "        var msg_type = msg['type'];\n",
       "\n",
       "        // Call the  \"handle_{type}\" callback, which takes\n",
       "        // the figure and JSON message as its only arguments.\n",
       "        try {\n",
       "            var callback = fig[\"handle_\" + msg_type];\n",
       "        } catch (e) {\n",
       "            console.log(\"No handler for the '\" + msg_type + \"' message type: \", msg);\n",
       "            return;\n",
       "        }\n",
       "\n",
       "        if (callback) {\n",
       "            try {\n",
       "                // console.log(\"Handling '\" + msg_type + \"' message: \", msg);\n",
       "                callback(fig, msg);\n",
       "            } catch (e) {\n",
       "                console.log(\"Exception inside the 'handler_\" + msg_type + \"' callback:\", e, e.stack, msg);\n",
       "            }\n",
       "        }\n",
       "    };\n",
       "}\n",
       "\n",
       "// from http://stackoverflow.com/questions/1114465/getting-mouse-location-in-canvas\n",
       "mpl.findpos = function(e) {\n",
       "    //this section is from http://www.quirksmode.org/js/events_properties.html\n",
       "    var targ;\n",
       "    if (!e)\n",
       "        e = window.event;\n",
       "    if (e.target)\n",
       "        targ = e.target;\n",
       "    else if (e.srcElement)\n",
       "        targ = e.srcElement;\n",
       "    if (targ.nodeType == 3) // defeat Safari bug\n",
       "        targ = targ.parentNode;\n",
       "\n",
       "    // jQuery normalizes the pageX and pageY\n",
       "    // pageX,Y are the mouse positions relative to the document\n",
       "    // offset() returns the position of the element relative to the document\n",
       "    var x = e.pageX - $(targ).offset().left;\n",
       "    var y = e.pageY - $(targ).offset().top;\n",
       "\n",
       "    return {\"x\": x, \"y\": y};\n",
       "};\n",
       "\n",
       "/*\n",
       " * return a copy of an object with only non-object keys\n",
       " * we need this to avoid circular references\n",
       " * http://stackoverflow.com/a/24161582/3208463\n",
       " */\n",
       "function simpleKeys (original) {\n",
       "  return Object.keys(original).reduce(function (obj, key) {\n",
       "    if (typeof original[key] !== 'object')\n",
       "        obj[key] = original[key]\n",
       "    return obj;\n",
       "  }, {});\n",
       "}\n",
       "\n",
       "mpl.figure.prototype.mouse_event = function(event, name) {\n",
       "    var canvas_pos = mpl.findpos(event)\n",
       "\n",
       "    if (name === 'button_press')\n",
       "    {\n",
       "        this.canvas.focus();\n",
       "        this.canvas_div.focus();\n",
       "    }\n",
       "\n",
       "    var x = canvas_pos.x * mpl.ratio;\n",
       "    var y = canvas_pos.y * mpl.ratio;\n",
       "\n",
       "    this.send_message(name, {x: x, y: y, button: event.button,\n",
       "                             step: event.step,\n",
       "                             guiEvent: simpleKeys(event)});\n",
       "\n",
       "    /* This prevents the web browser from automatically changing to\n",
       "     * the text insertion cursor when the button is pressed.  We want\n",
       "     * to control all of the cursor setting manually through the\n",
       "     * 'cursor' event from matplotlib */\n",
       "    event.preventDefault();\n",
       "    return false;\n",
       "}\n",
       "\n",
       "mpl.figure.prototype._key_event_extra = function(event, name) {\n",
       "    // Handle any extra behaviour associated with a key event\n",
       "}\n",
       "\n",
       "mpl.figure.prototype.key_event = function(event, name) {\n",
       "\n",
       "    // Prevent repeat events\n",
       "    if (name == 'key_press')\n",
       "    {\n",
       "        if (event.which === this._key)\n",
       "            return;\n",
       "        else\n",
       "            this._key = event.which;\n",
       "    }\n",
       "    if (name == 'key_release')\n",
       "        this._key = null;\n",
       "\n",
       "    var value = '';\n",
       "    if (event.ctrlKey && event.which != 17)\n",
       "        value += \"ctrl+\";\n",
       "    if (event.altKey && event.which != 18)\n",
       "        value += \"alt+\";\n",
       "    if (event.shiftKey && event.which != 16)\n",
       "        value += \"shift+\";\n",
       "\n",
       "    value += 'k';\n",
       "    value += event.which.toString();\n",
       "\n",
       "    this._key_event_extra(event, name);\n",
       "\n",
       "    this.send_message(name, {key: value,\n",
       "                             guiEvent: simpleKeys(event)});\n",
       "    return false;\n",
       "}\n",
       "\n",
       "mpl.figure.prototype.toolbar_button_onclick = function(name) {\n",
       "    if (name == 'download') {\n",
       "        this.handle_save(this, null);\n",
       "    } else {\n",
       "        this.send_message(\"toolbar_button\", {name: name});\n",
       "    }\n",
       "};\n",
       "\n",
       "mpl.figure.prototype.toolbar_button_onmouseover = function(tooltip) {\n",
       "    this.message.textContent = tooltip;\n",
       "};\n",
       "mpl.toolbar_items = [[\"Home\", \"Reset original view\", \"fa fa-home icon-home\", \"home\"], [\"Back\", \"Back to previous view\", \"fa fa-arrow-left icon-arrow-left\", \"back\"], [\"Forward\", \"Forward to next view\", \"fa fa-arrow-right icon-arrow-right\", \"forward\"], [\"\", \"\", \"\", \"\"], [\"Pan\", \"Pan axes with left mouse, zoom with right\", \"fa fa-arrows icon-move\", \"pan\"], [\"Zoom\", \"Zoom to rectangle\", \"fa fa-square-o icon-check-empty\", \"zoom\"], [\"\", \"\", \"\", \"\"], [\"Download\", \"Download plot\", \"fa fa-floppy-o icon-save\", \"download\"]];\n",
       "\n",
       "mpl.extensions = [\"eps\", \"jpeg\", \"pdf\", \"png\", \"ps\", \"raw\", \"svg\", \"tif\"];\n",
       "\n",
       "mpl.default_extension = \"png\";var comm_websocket_adapter = function(comm) {\n",
       "    // Create a \"websocket\"-like object which calls the given IPython comm\n",
       "    // object with the appropriate methods. Currently this is a non binary\n",
       "    // socket, so there is still some room for performance tuning.\n",
       "    var ws = {};\n",
       "\n",
       "    ws.close = function() {\n",
       "        comm.close()\n",
       "    };\n",
       "    ws.send = function(m) {\n",
       "        //console.log('sending', m);\n",
       "        comm.send(m);\n",
       "    };\n",
       "    // Register the callback with on_msg.\n",
       "    comm.on_msg(function(msg) {\n",
       "        //console.log('receiving', msg['content']['data'], msg);\n",
       "        // Pass the mpl event to the overridden (by mpl) onmessage function.\n",
       "        ws.onmessage(msg['content']['data'])\n",
       "    });\n",
       "    return ws;\n",
       "}\n",
       "\n",
       "mpl.mpl_figure_comm = function(comm, msg) {\n",
       "    // This is the function which gets called when the mpl process\n",
       "    // starts-up an IPython Comm through the \"matplotlib\" channel.\n",
       "\n",
       "    var id = msg.content.data.id;\n",
       "    // Get hold of the div created by the display call when the Comm\n",
       "    // socket was opened in Python.\n",
       "    var element = $(\"#\" + id);\n",
       "    var ws_proxy = comm_websocket_adapter(comm)\n",
       "\n",
       "    function ondownload(figure, format) {\n",
       "        window.open(figure.imageObj.src);\n",
       "    }\n",
       "\n",
       "    var fig = new mpl.figure(id, ws_proxy,\n",
       "                           ondownload,\n",
       "                           element.get(0));\n",
       "\n",
       "    // Call onopen now - mpl needs it, as it is assuming we've passed it a real\n",
       "    // web socket which is closed, not our websocket->open comm proxy.\n",
       "    ws_proxy.onopen();\n",
       "\n",
       "    fig.parent_element = element.get(0);\n",
       "    fig.cell_info = mpl.find_output_cell(\"<div id='\" + id + \"'></div>\");\n",
       "    if (!fig.cell_info) {\n",
       "        console.error(\"Failed to find cell for figure\", id, fig);\n",
       "        return;\n",
       "    }\n",
       "\n",
       "    var output_index = fig.cell_info[2]\n",
       "    var cell = fig.cell_info[0];\n",
       "\n",
       "};\n",
       "\n",
       "mpl.figure.prototype.handle_close = function(fig, msg) {\n",
       "    var width = fig.canvas.width/mpl.ratio\n",
       "    fig.root.unbind('remove')\n",
       "\n",
       "    // Update the output cell to use the data from the current canvas.\n",
       "    fig.push_to_output();\n",
       "    var dataURL = fig.canvas.toDataURL();\n",
       "    // Re-enable the keyboard manager in IPython - without this line, in FF,\n",
       "    // the notebook keyboard shortcuts fail.\n",
       "    IPython.keyboard_manager.enable()\n",
       "    $(fig.parent_element).html('<img src=\"' + dataURL + '\" width=\"' + width + '\">');\n",
       "    fig.close_ws(fig, msg);\n",
       "}\n",
       "\n",
       "mpl.figure.prototype.close_ws = function(fig, msg){\n",
       "    fig.send_message('closing', msg);\n",
       "    // fig.ws.close()\n",
       "}\n",
       "\n",
       "mpl.figure.prototype.push_to_output = function(remove_interactive) {\n",
       "    // Turn the data on the canvas into data in the output cell.\n",
       "    var width = this.canvas.width/mpl.ratio\n",
       "    var dataURL = this.canvas.toDataURL();\n",
       "    this.cell_info[1]['text/html'] = '<img src=\"' + dataURL + '\" width=\"' + width + '\">';\n",
       "}\n",
       "\n",
       "mpl.figure.prototype.updated_canvas_event = function() {\n",
       "    // Tell IPython that the notebook contents must change.\n",
       "    IPython.notebook.set_dirty(true);\n",
       "    this.send_message(\"ack\", {});\n",
       "    var fig = this;\n",
       "    // Wait a second, then push the new image to the DOM so\n",
       "    // that it is saved nicely (might be nice to debounce this).\n",
       "    setTimeout(function () { fig.push_to_output() }, 1000);\n",
       "}\n",
       "\n",
       "mpl.figure.prototype._init_toolbar = function() {\n",
       "    var fig = this;\n",
       "\n",
       "    var nav_element = $('<div/>');\n",
       "    nav_element.attr('style', 'width: 100%');\n",
       "    this.root.append(nav_element);\n",
       "\n",
       "    // Define a callback function for later on.\n",
       "    function toolbar_event(event) {\n",
       "        return fig.toolbar_button_onclick(event['data']);\n",
       "    }\n",
       "    function toolbar_mouse_event(event) {\n",
       "        return fig.toolbar_button_onmouseover(event['data']);\n",
       "    }\n",
       "\n",
       "    for(var toolbar_ind in mpl.toolbar_items){\n",
       "        var name = mpl.toolbar_items[toolbar_ind][0];\n",
       "        var tooltip = mpl.toolbar_items[toolbar_ind][1];\n",
       "        var image = mpl.toolbar_items[toolbar_ind][2];\n",
       "        var method_name = mpl.toolbar_items[toolbar_ind][3];\n",
       "\n",
       "        if (!name) { continue; };\n",
       "\n",
       "        var button = $('<button class=\"btn btn-default\" href=\"#\" title=\"' + name + '\"><i class=\"fa ' + image + ' fa-lg\"></i></button>');\n",
       "        button.click(method_name, toolbar_event);\n",
       "        button.mouseover(tooltip, toolbar_mouse_event);\n",
       "        nav_element.append(button);\n",
       "    }\n",
       "\n",
       "    // Add the status bar.\n",
       "    var status_bar = $('<span class=\"mpl-message\" style=\"text-align:right; float: right;\"/>');\n",
       "    nav_element.append(status_bar);\n",
       "    this.message = status_bar[0];\n",
       "\n",
       "    // Add the close button to the window.\n",
       "    var buttongrp = $('<div class=\"btn-group inline pull-right\"></div>');\n",
       "    var button = $('<button class=\"btn btn-mini btn-primary\" href=\"#\" title=\"Stop Interaction\"><i class=\"fa fa-power-off icon-remove icon-large\"></i></button>');\n",
       "    button.click(function (evt) { fig.handle_close(fig, {}); } );\n",
       "    button.mouseover('Stop Interaction', toolbar_mouse_event);\n",
       "    buttongrp.append(button);\n",
       "    var titlebar = this.root.find($('.ui-dialog-titlebar'));\n",
       "    titlebar.prepend(buttongrp);\n",
       "}\n",
       "\n",
       "mpl.figure.prototype._root_extra_style = function(el){\n",
       "    var fig = this\n",
       "    el.on(\"remove\", function(){\n",
       "\tfig.close_ws(fig, {});\n",
       "    });\n",
       "}\n",
       "\n",
       "mpl.figure.prototype._canvas_extra_style = function(el){\n",
       "    // this is important to make the div 'focusable\n",
       "    el.attr('tabindex', 0)\n",
       "    // reach out to IPython and tell the keyboard manager to turn it's self\n",
       "    // off when our div gets focus\n",
       "\n",
       "    // location in version 3\n",
       "    if (IPython.notebook.keyboard_manager) {\n",
       "        IPython.notebook.keyboard_manager.register_events(el);\n",
       "    }\n",
       "    else {\n",
       "        // location in version 2\n",
       "        IPython.keyboard_manager.register_events(el);\n",
       "    }\n",
       "\n",
       "}\n",
       "\n",
       "mpl.figure.prototype._key_event_extra = function(event, name) {\n",
       "    var manager = IPython.notebook.keyboard_manager;\n",
       "    if (!manager)\n",
       "        manager = IPython.keyboard_manager;\n",
       "\n",
       "    // Check for shift+enter\n",
       "    if (event.shiftKey && event.which == 13) {\n",
       "        this.canvas_div.blur();\n",
       "        // select the cell after this one\n",
       "        var index = IPython.notebook.find_cell_index(this.cell_info[0]);\n",
       "        IPython.notebook.select(index + 1);\n",
       "    }\n",
       "}\n",
       "\n",
       "mpl.figure.prototype.handle_save = function(fig, msg) {\n",
       "    fig.ondownload(fig, null);\n",
       "}\n",
       "\n",
       "\n",
       "mpl.find_output_cell = function(html_output) {\n",
       "    // Return the cell and output element which can be found *uniquely* in the notebook.\n",
       "    // Note - this is a bit hacky, but it is done because the \"notebook_saving.Notebook\"\n",
       "    // IPython event is triggered only after the cells have been serialised, which for\n",
       "    // our purposes (turning an active figure into a static one), is too late.\n",
       "    var cells = IPython.notebook.get_cells();\n",
       "    var ncells = cells.length;\n",
       "    for (var i=0; i<ncells; i++) {\n",
       "        var cell = cells[i];\n",
       "        if (cell.cell_type === 'code'){\n",
       "            for (var j=0; j<cell.output_area.outputs.length; j++) {\n",
       "                var data = cell.output_area.outputs[j];\n",
       "                if (data.data) {\n",
       "                    // IPython >= 3 moved mimebundle to data attribute of output\n",
       "                    data = data.data;\n",
       "                }\n",
       "                if (data['text/html'] == html_output) {\n",
       "                    return [cell, data, j];\n",
       "                }\n",
       "            }\n",
       "        }\n",
       "    }\n",
       "}\n",
       "\n",
       "// Register the function which deals with the matplotlib target/channel.\n",
       "// The kernel may be null if the page has been refreshed.\n",
       "if (IPython.notebook.kernel != null) {\n",
       "    IPython.notebook.kernel.comm_manager.register_target('matplotlib', mpl.mpl_figure_comm);\n",
       "}\n"
      ],
      "text/plain": [
       "<IPython.core.display.Javascript object>"
      ]
     },
     "metadata": {},
     "output_type": "display_data"
    },
    {
     "data": {
      "text/html": [
       "<img src=\"data:image/png;base64,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\" width=\"640\">"
      ],
      "text/plain": [
       "<IPython.core.display.HTML object>"
      ]
     },
     "metadata": {},
     "output_type": "display_data"
    },
    {
     "data": {
      "text/plain": [
       "<matplotlib.collections.PathCollection at 0x7f3ee7bf5b70>"
      ]
     },
     "execution_count": 18,
     "metadata": {},
     "output_type": "execute_result"
    }
   ],
   "source": [
    "fig, axes = plt.subplots(ncols=2, sharex=True, sharey=True)\n",
    "\n",
    "ti = 120\n",
    "t = model.targets.Y.columns[ti]\n",
    "\n",
    "laplacian.distance.cali.plot_outline(axes[0], dict(color='tab:blue'))\n",
    "laplacian.distance.cali.plot_outline(axes[1], dict(color='tab:blue'))\n",
    "\n",
    "vmin = np.quantile(model.targets.Y.loc[:, t], 0.1)\n",
    "vmax = np.quantile(model.targets.Y.loc[:, t], 0.9)\n",
    "\n",
    "axes[0].scatter(model.targets.sites['x'], model.targets.sites['y'], c=model.F.loc[:, t], alpha=1, vmin=vmin, vmax=vmax)\n",
    "\n",
    "axes[1].scatter(model.targets.sites.loc[model.targets.train_sites, 'x'], model.targets.sites.loc[model.targets.train_sites, 'y'], c=model.targets.Y.loc[:, t], alpha=1, vmin=vmin, vmax=vmax)\n"
   ]
  },
  {
   "cell_type": "code",
   "execution_count": 12,
   "metadata": {},
   "outputs": [
    {
     "data": {
      "text/plain": [
       "({'fit_intercept': False}, 1.1276376116519338)"
      ]
     },
     "execution_count": 12,
     "metadata": {},
     "output_type": "execute_result"
    }
   ],
   "source": [
    "model_linr = LinearRegression(fit_intercept=True)\n",
    "model_linr.set_data(features, targets).optimize()"
   ]
  },
  {
   "cell_type": "code",
   "execution_count": 14,
   "metadata": {},
   "outputs": [
    {
     "data": {
      "application/vnd.jupyter.widget-view+json": {
       "model_id": "",
       "version_major": 2,
       "version_minor": 0
      },
      "text/plain": [
       "HBox(children=(HTML(value=''), FloatProgress(value=0.0, max=50.0), HTML(value='')))"
      ]
     },
     "metadata": {},
     "output_type": "display_data"
    },
    {
     "data": {
      "application/vnd.jupyter.widget-view+json": {
       "model_id": "",
       "version_major": 2,
       "version_minor": 0
      },
      "text/plain": [
       "HBox(children=(HTML(value=''), FloatProgress(value=0.0, max=50.0), HTML(value='')))"
      ]
     },
     "metadata": {},
     "output_type": "display_data"
    },
    {
     "data": {
      "text/plain": [
       "({'fit_intercept': True, 'alpha': 1206.792640639329}, 0.7298939607869788)"
      ]
     },
     "execution_count": 14,
     "metadata": {},
     "output_type": "execute_result"
    }
   ],
   "source": [
    "model_ridr = RidgeRegression(fit_intercept=True, alpha=50)\n",
    "model_ridr.set_data(features, targets).optimize()"
   ]
  },
  {
   "cell_type": "code",
   "execution_count": 15,
   "metadata": {},
   "outputs": [
    {
     "data": {
      "application/vnd.jupyter.widget-view+json": {
       "model_id": "",
       "version_major": 2,
       "version_minor": 0
      },
      "text/plain": [
       "HBox(children=(HTML(value=''), FloatProgress(value=0.0, max=50.0), HTML(value='')))"
      ]
     },
     "metadata": {},
     "output_type": "display_data"
    },
    {
     "data": {
      "application/vnd.jupyter.widget-view+json": {
       "model_id": "",
       "version_major": 2,
       "version_minor": 0
      },
      "text/plain": [
       "HBox(children=(HTML(value=''), FloatProgress(value=0.0, max=50.0), HTML(value='')))"
      ]
     },
     "metadata": {},
     "output_type": "display_data"
    },
    {
     "data": {
      "text/plain": [
       "({'fit_intercept': True, 'alpha': 0.02442053094548651}, 0.7283141901929902)"
      ]
     },
     "execution_count": 15,
     "metadata": {},
     "output_type": "execute_result"
    }
   ],
   "source": [
    "model_lasr = LassoRegression(fit_intercept=True, alpha=1)\n",
    "model_lasr.set_data(features, targets).optimize()"
   ]
  },
  {
   "cell_type": "code",
   "execution_count": 19,
   "metadata": {},
   "outputs": [
    {
     "data": {
      "text/plain": [
       "<model.regression.glskgr.GLSKGR at 0x7fea5f2a9208>"
      ]
     },
     "execution_count": 19,
     "metadata": {},
     "output_type": "execute_result"
    }
   ],
   "source": [
    "model_glskgr = GLSKGR(**{'gamma': 0.003727593720314938, 'K_std': 91.02981779915217, 'filter_func': 'sigmoid', 'beta': 62.505519252739695})\n",
    "model_glskgr.set_laplacian(laplacian).set_data(features, targets).solve_GLS()"
   ]
  },
  {
   "cell_type": "code",
   "execution_count": 32,
   "metadata": {},
   "outputs": [],
   "source": [
    "def get_results():\n",
    "    \n",
    "    models = {'KGR': KGR, \n",
    "              'LinearRegression': LinearRegression, \n",
    "              'RidgeRegression': RidgeRegression, \n",
    "              'LassoRegression': LassoRegression, \n",
    "              'GLSKGR': GLSKGR}\n",
    "    \n",
    "    init_params = {'KGR': dict(gamma=0.01, K_std=50, filter_func='sigmoid', beta=50), \n",
    "                   'LinearRegression': dict(fit_intercept=True), \n",
    "                   'RidgeRegression': dict(fit_intercept=True, alpha=50),\n",
    "                   'LassoRegression': dict(fit_intercept=True, alpha=1)}#\n",
    "    \n",
    "    metrics = ['Ozone', 'SO2', 'CO', 'NO2', 'PM25', 'PM10']\n",
    "    models = ['KGR', 'LinearRegression', 'RidgeRegression', 'LassoRegression', 'GLSKGR']\n",
    "    \n",
    "    opt_params = {metric: {model: {} for model in models} for metric in metrics}\n",
    "    RMSE = {metric: {model: {} for model in models} for metric in metrics}\n",
    "    \n",
    "    laplacian = Laplacian()\n",
    "    features = Features()\n",
    "    \n",
    "    metrics_bar = tqdm(metrics)\n",
    "    \n",
    "    for metric in metrics_bar:\n",
    "        metrics_bar.set_description(metric)\n",
    "        targets = Targets('metric')\n",
    "        \n",
    "        models_bar = tqdm(models)\n",
    "        \n",
    "        for model in models_bar:\n",
    "            \n",
    "            models_bar.set_description(model)\n",
    "            \n",
    "            if model != GLSKGR:\n",
    "                reg = models[model](**init_params(model))\n",
    "                \n",
    "                if model != 'KGR':\n",
    "                    opt_params[metric][model] = reg.set_data(features, targets).optimize()[0]\n",
    "                    \n",
    "                else:\n",
    "                    opt_params[metric][model] = reg.set_laplacian(laplacian).set_data(features, targets).optimize()[0]\n",
    "                    \n",
    "            else:\n",
    "                reg = models[model](**opt_params[metric]['KGR'])\n",
    "                opt_params[metric][model] = opt_params[metric]['KGR']\n",
    "                reg.solve_GLS()\n",
    "            \n",
    "            RMSE[metric][model]['Missing Nodes'] = reg.RMSE_missing_nodes()\n",
    "            RMSE[metric][model]['Labelled'] = reg.RMSE_labelled()\n",
    "            RMSE[metric][model]['Missing Dates'] = reg.RMSE_missing_times()\n",
    "            RMSE[metric][model]['All Unlabelled'] = reg.RMSE_unlabelled_full()\n",
    "            \n",
    "    return opt_params, RMSE\n",
    "            "
   ]
  },
  {
   "cell_type": "code",
   "execution_count": 13,
   "metadata": {},
   "outputs": [],
   "source": [
    "models = {'KGR': KGR, \n",
    "          'LinearRegression': LinearRegression, \n",
    "          'RidgeRegression': RidgeRegression, \n",
    "          'LassoRegression': LassoRegression, \n",
    "          'GLSKGR': GLSKGR}\n",
    "\n",
    "init_params = {'KGR': dict(gamma=0.01, K_std=50, filter_func='sigmoid', beta=50), \n",
    "               'LinearRegression': dict(fit_intercept=True), \n",
    "               'RidgeRegression': dict(fit_intercept=True, alpha=50),\n",
    "               'LassoRegression': dict(fit_intercept=True, alpha=1)}#\n",
    "\n",
    "metrics = ['Ozone', 'SO2', 'CO', 'NO2', 'PM25', 'PM10']\n",
    "model_names = ['KGR', 'LinearRegression', 'RidgeRegression', 'LassoRegression', 'GLSKGR']\n",
    "\n",
    "opt_params = {metric: {model: {} for model in model_names} for metric in metrics}\n",
    "RMSE = {metric: {model: {} for model in model_names} for metric in metrics}"
   ]
  },
  {
   "cell_type": "code",
   "execution_count": 8,
   "metadata": {},
   "outputs": [],
   "source": [
    "laplacian = Laplacian()\n",
    "features = Features()"
   ]
  },
  {
   "cell_type": "code",
   "execution_count": null,
   "metadata": {},
   "outputs": [
    {
     "data": {
      "application/vnd.jupyter.widget-view+json": {
       "model_id": "cd730450d3084c24bd8fce5836f29ab6",
       "version_major": 2,
       "version_minor": 0
      },
      "text/plain": [
       "HBox(children=(HTML(value=''), FloatProgress(value=0.0, max=6.0), HTML(value='')))"
      ]
     },
     "metadata": {},
     "output_type": "display_data"
    },
    {
     "data": {
      "application/vnd.jupyter.widget-view+json": {
       "model_id": "845e399ea65c428da526f93fb77284d6",
       "version_major": 2,
       "version_minor": 0
      },
      "text/plain": [
       "HBox(children=(HTML(value=''), FloatProgress(value=0.0, max=5.0), HTML(value='')))"
      ]
     },
     "metadata": {},
     "output_type": "display_data"
    },
    {
     "data": {
      "application/vnd.jupyter.widget-view+json": {
       "model_id": "e88620592406483e96b23ad7a1ba93c4",
       "version_major": 2,
       "version_minor": 0
      },
      "text/plain": [
       "HBox(children=(HTML(value=''), FloatProgress(value=0.0, max=9.0), HTML(value='')))"
      ]
     },
     "metadata": {},
     "output_type": "display_data"
    },
    {
     "data": {
      "application/vnd.jupyter.widget-view+json": {
       "model_id": "",
       "version_major": 2,
       "version_minor": 0
      },
      "text/plain": [
       "HBox(children=(HTML(value=''), FloatProgress(value=0.0, max=50.0), HTML(value='')))"
      ]
     },
     "metadata": {},
     "output_type": "display_data"
    },
    {
     "data": {
      "application/vnd.jupyter.widget-view+json": {
       "model_id": "",
       "version_major": 2,
       "version_minor": 0
      },
      "text/plain": [
       "HBox(children=(HTML(value=''), FloatProgress(value=0.0, max=50.0), HTML(value='')))"
      ]
     },
     "metadata": {},
     "output_type": "display_data"
    },
    {
     "data": {
      "application/vnd.jupyter.widget-view+json": {
       "model_id": "",
       "version_major": 2,
       "version_minor": 0
      },
      "text/plain": [
       "HBox(children=(HTML(value=''), FloatProgress(value=0.0, max=50.0), HTML(value='')))"
      ]
     },
     "metadata": {},
     "output_type": "display_data"
    },
    {
     "data": {
      "application/vnd.jupyter.widget-view+json": {
       "model_id": "",
       "version_major": 2,
       "version_minor": 0
      },
      "text/plain": [
       "HBox(children=(HTML(value=''), FloatProgress(value=0.0, max=50.0), HTML(value='')))"
      ]
     },
     "metadata": {},
     "output_type": "display_data"
    },
    {
     "data": {
      "application/vnd.jupyter.widget-view+json": {
       "model_id": "",
       "version_major": 2,
       "version_minor": 0
      },
      "text/plain": [
       "HBox(children=(HTML(value=''), FloatProgress(value=0.0, max=50.0), HTML(value='')))"
      ]
     },
     "metadata": {},
     "output_type": "display_data"
    },
    {
     "data": {
      "application/vnd.jupyter.widget-view+json": {
       "model_id": "",
       "version_major": 2,
       "version_minor": 0
      },
      "text/plain": [
       "HBox(children=(HTML(value=''), FloatProgress(value=0.0, max=50.0), HTML(value='')))"
      ]
     },
     "metadata": {},
     "output_type": "display_data"
    },
    {
     "data": {
      "application/vnd.jupyter.widget-view+json": {
       "model_id": "",
       "version_major": 2,
       "version_minor": 0
      },
      "text/plain": [
       "HBox(children=(HTML(value=''), FloatProgress(value=0.0, max=50.0), HTML(value='')))"
      ]
     },
     "metadata": {},
     "output_type": "display_data"
    },
    {
     "data": {
      "application/vnd.jupyter.widget-view+json": {
       "model_id": "",
       "version_major": 2,
       "version_minor": 0
      },
      "text/plain": [
       "HBox(children=(HTML(value=''), FloatProgress(value=0.0, max=50.0), HTML(value='')))"
      ]
     },
     "metadata": {},
     "output_type": "display_data"
    },
    {
     "data": {
      "application/vnd.jupyter.widget-view+json": {
       "model_id": "",
       "version_major": 2,
       "version_minor": 0
      },
      "text/plain": [
       "HBox(children=(HTML(value=''), FloatProgress(value=0.0, max=50.0), HTML(value='')))"
      ]
     },
     "metadata": {},
     "output_type": "display_data"
    }
   ],
   "source": [
    "metrics_bar = tqdm(metrics)\n",
    "\n",
    "for metric in metrics_bar:\n",
    "    metrics_bar.set_description(metric)\n",
    "    targets = Targets(metric)\n",
    "    \n",
    "    models_bar = tqdm(models)\n",
    "\n",
    "    for model in models_bar:\n",
    "\n",
    "        models_bar.set_description(model)\n",
    "\n",
    "        if model != GLSKGR:\n",
    "            reg = models[model](**init_params[model])\n",
    "\n",
    "            if model != 'KGR':\n",
    "                opt_params[metric][model] = reg.set_data(features, targets).optimize()[0]\n",
    "\n",
    "            else:\n",
    "                opt_params[metric][model] = reg.set_laplacian(laplacian).set_data(features, targets).optimize()[0]\n",
    "\n",
    "        else:\n",
    "            reg = models[model](**opt_params[metric]['KGR'])\n",
    "            opt_params[metric][model] = opt_params[metric]['KGR']\n",
    "            reg.solve_GLS()\n",
    "\n",
    "        RMSE[metric][model]['Missing Nodes'] = reg.RMSE_missing_nodes()\n",
    "        RMSE[metric][model]['Labelled'] = reg.RMSE_labelled()\n",
    "        RMSE[metric][model]['Missing Dates'] = reg.RMSE_missing_times()\n",
    "        RMSE[metric][model]['All Unlabelled'] = reg.RMSE_unlabelled_full()"
   ]
  },
  {
   "cell_type": "code",
   "execution_count": null,
   "metadata": {},
   "outputs": [],
   "source": []
  }
 ],
 "metadata": {
  "kernelspec": {
   "display_name": "Python 3",
   "language": "python",
   "name": "python3"
  },
  "language_info": {
   "codemirror_mode": {
    "name": "ipython",
    "version": 3
   },
   "file_extension": ".py",
   "mimetype": "text/x-python",
   "name": "python",
   "nbconvert_exporter": "python",
   "pygments_lexer": "ipython3",
   "version": "3.7.3"
  }
 },
 "nbformat": 4,
 "nbformat_minor": 2
}
