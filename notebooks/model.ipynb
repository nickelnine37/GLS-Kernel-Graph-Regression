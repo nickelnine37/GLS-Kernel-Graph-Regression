{
 "cells": [
  {
   "cell_type": "code",
   "execution_count": 1,
   "metadata": {},
   "outputs": [
    {
     "data": {
      "text/html": [
       "<style>.container { width:90% !important; }</style>"
      ],
      "text/plain": [
       "<IPython.core.display.HTML object>"
      ]
     },
     "metadata": {},
     "output_type": "display_data"
    }
   ],
   "source": [
    "from IPython.core.display import display, HTML\n",
    "display(HTML(\"<style>.container { width:90% !important; }</style>\"))"
   ]
  },
  {
   "cell_type": "code",
   "execution_count": 2,
   "metadata": {},
   "outputs": [],
   "source": [
    "%load_ext autoreload\n",
    "%autoreload 2"
   ]
  },
  {
   "cell_type": "code",
   "execution_count": 3,
   "metadata": {},
   "outputs": [
    {
     "name": "stderr",
     "output_type": "stream",
     "text": [
      "/home/ed/miniconda3/lib/python3.7/site-packages/ipykernel_launcher.py:4: TqdmExperimentalWarning: Using `tqdm.autonotebook.tqdm` in notebook mode. Use `tqdm.tqdm` instead to force console mode (e.g. in jupyter console)\n",
      "  after removing the cwd from sys.path.\n"
     ]
    }
   ],
   "source": [
    "import numpy as np\n",
    "import matplotlib.pyplot as plt\n",
    "import pandas as pd\n",
    "from tqdm.autonotebook import tqdm\n"
   ]
  },
  {
   "cell_type": "code",
   "execution_count": 4,
   "metadata": {},
   "outputs": [],
   "source": [
    "%matplotlib notebook\n",
    "np.set_printoptions(precision=4, linewidth=500, threshold=500, suppress=True)"
   ]
  },
  {
   "cell_type": "code",
   "execution_count": 5,
   "metadata": {},
   "outputs": [],
   "source": [
    "import sys\n",
    "sys.path.append('..')"
   ]
  },
  {
   "cell_type": "code",
   "execution_count": 236,
   "metadata": {},
   "outputs": [],
   "source": [
    "from model.laplacian import Laplacian\n",
    "from model.features import Features\n",
    "from model.targets import Targets\n",
    "from model.regression.basic import LinearRegression, LassoRegression, RidgeRegression, NaiveRegression\n",
    "from model.regression.glskgr import GLSKGR\n",
    "from model.regression.kgr import KGR, GraphFeaturesKGR\n"
   ]
  },
  {
   "cell_type": "code",
   "execution_count": 7,
   "metadata": {},
   "outputs": [],
   "source": [
    "laplacian = Laplacian()"
   ]
  },
  {
   "cell_type": "code",
   "execution_count": 240,
   "metadata": {},
   "outputs": [],
   "source": [
    "features = Features(transform='quantile')"
   ]
  },
  {
   "cell_type": "code",
   "execution_count": 29,
   "metadata": {},
   "outputs": [],
   "source": [
    "metrics = ['Ozone', 'SO2', 'CO', 'NO2', 'PM25', 'PM10']\n",
    "\n",
    "targets = {metric: Targets(metric, transform='log') for metric in metrics}"
   ]
  },
  {
   "cell_type": "code",
   "execution_count": 31,
   "metadata": {},
   "outputs": [],
   "source": [
    "model_kgr = KGR(gamma= 0.0037, K_std=20, filter_func='sigmoid', beta=62).set_laplacian(laplacian).set_data(features, targets['Ozone'])"
   ]
  },
  {
   "cell_type": "code",
   "execution_count": 34,
   "metadata": {},
   "outputs": [
    {
     "data": {
      "application/vnd.jupyter.widget-view+json": {
       "model_id": "",
       "version_major": 2,
       "version_minor": 0
      },
      "text/plain": [
       "HBox(children=(HTML(value=''), FloatProgress(value=0.0, max=9.0), HTML(value='')))"
      ]
     },
     "metadata": {},
     "output_type": "display_data"
    },
    {
     "data": {
      "application/vnd.jupyter.widget-view+json": {
       "model_id": "",
       "version_major": 2,
       "version_minor": 0
      },
      "text/plain": [
       "HBox(children=(HTML(value=''), FloatProgress(value=0.0, max=50.0), HTML(value='')))"
      ]
     },
     "metadata": {},
     "output_type": "display_data"
    },
    {
     "data": {
      "application/vnd.jupyter.widget-view+json": {
       "model_id": "",
       "version_major": 2,
       "version_minor": 0
      },
      "text/plain": [
       "HBox(children=(HTML(value=''), FloatProgress(value=0.0, max=50.0), HTML(value='')))"
      ]
     },
     "metadata": {},
     "output_type": "display_data"
    },
    {
     "data": {
      "application/vnd.jupyter.widget-view+json": {
       "model_id": "",
       "version_major": 2,
       "version_minor": 0
      },
      "text/plain": [
       "HBox(children=(HTML(value=''), FloatProgress(value=0.0, max=50.0), HTML(value='')))"
      ]
     },
     "metadata": {},
     "output_type": "display_data"
    },
    {
     "data": {
      "application/vnd.jupyter.widget-view+json": {
       "model_id": "",
       "version_major": 2,
       "version_minor": 0
      },
      "text/plain": [
       "HBox(children=(HTML(value=''), FloatProgress(value=0.0, max=50.0), HTML(value='')))"
      ]
     },
     "metadata": {},
     "output_type": "display_data"
    },
    {
     "data": {
      "application/vnd.jupyter.widget-view+json": {
       "model_id": "",
       "version_major": 2,
       "version_minor": 0
      },
      "text/plain": [
       "HBox(children=(HTML(value=''), FloatProgress(value=0.0, max=50.0), HTML(value='')))"
      ]
     },
     "metadata": {},
     "output_type": "display_data"
    },
    {
     "data": {
      "application/vnd.jupyter.widget-view+json": {
       "model_id": "",
       "version_major": 2,
       "version_minor": 0
      },
      "text/plain": [
       "HBox(children=(HTML(value=''), FloatProgress(value=0.0, max=50.0), HTML(value='')))"
      ]
     },
     "metadata": {},
     "output_type": "display_data"
    },
    {
     "data": {
      "application/vnd.jupyter.widget-view+json": {
       "model_id": "",
       "version_major": 2,
       "version_minor": 0
      },
      "text/plain": [
       "HBox(children=(HTML(value=''), FloatProgress(value=0.0, max=50.0), HTML(value='')))"
      ]
     },
     "metadata": {},
     "output_type": "display_data"
    },
    {
     "data": {
      "application/vnd.jupyter.widget-view+json": {
       "model_id": "",
       "version_major": 2,
       "version_minor": 0
      },
      "text/plain": [
       "HBox(children=(HTML(value=''), FloatProgress(value=0.0, max=50.0), HTML(value='')))"
      ]
     },
     "metadata": {},
     "output_type": "display_data"
    },
    {
     "data": {
      "application/vnd.jupyter.widget-view+json": {
       "model_id": "",
       "version_major": 2,
       "version_minor": 0
      },
      "text/plain": [
       "HBox(children=(HTML(value=''), FloatProgress(value=0.0, max=50.0), HTML(value='')))"
      ]
     },
     "metadata": {},
     "output_type": "display_data"
    },
    {
     "data": {
      "text/plain": [
       "({'gamma': 0.05179474679231213,\n",
       "  'K_std': 12.648552168552959,\n",
       "  'filter_func': 'sigmoid',\n",
       "  'beta': 5.963623316594643},\n",
       " 0.6111765405919927)"
      ]
     },
     "execution_count": 34,
     "metadata": {},
     "output_type": "execute_result"
    }
   ],
   "source": [
    "model_kgr.optimize()"
   ]
  },
  {
   "cell_type": "code",
   "execution_count": 241,
   "metadata": {},
   "outputs": [],
   "source": [
    "model = GraphFeaturesKGR(gamma= 0.0037, beta_f=5, filter_func='exponential', beta=62).set_laplacian(laplacian).set_data(features, targets['Ozone'])"
   ]
  },
  {
   "cell_type": "code",
   "execution_count": 245,
   "metadata": {},
   "outputs": [
    {
     "data": {
      "application/vnd.jupyter.widget-view+json": {
       "model_id": "",
       "version_major": 2,
       "version_minor": 0
      },
      "text/plain": [
       "HBox(children=(HTML(value=''), FloatProgress(value=0.0, max=9.0), HTML(value='')))"
      ]
     },
     "metadata": {},
     "output_type": "display_data"
    },
    {
     "data": {
      "application/vnd.jupyter.widget-view+json": {
       "model_id": "",
       "version_major": 2,
       "version_minor": 0
      },
      "text/plain": [
       "HBox(children=(HTML(value=''), FloatProgress(value=0.0, max=50.0), HTML(value='')))"
      ]
     },
     "metadata": {},
     "output_type": "display_data"
    },
    {
     "data": {
      "application/vnd.jupyter.widget-view+json": {
       "model_id": "",
       "version_major": 2,
       "version_minor": 0
      },
      "text/plain": [
       "HBox(children=(HTML(value=''), FloatProgress(value=0.0, max=50.0), HTML(value='')))"
      ]
     },
     "metadata": {},
     "output_type": "display_data"
    },
    {
     "data": {
      "application/vnd.jupyter.widget-view+json": {
       "model_id": "",
       "version_major": 2,
       "version_minor": 0
      },
      "text/plain": [
       "HBox(children=(HTML(value=''), FloatProgress(value=0.0, max=50.0), HTML(value='')))"
      ]
     },
     "metadata": {},
     "output_type": "display_data"
    },
    {
     "data": {
      "application/vnd.jupyter.widget-view+json": {
       "model_id": "",
       "version_major": 2,
       "version_minor": 0
      },
      "text/plain": [
       "HBox(children=(HTML(value=''), FloatProgress(value=0.0, max=50.0), HTML(value='')))"
      ]
     },
     "metadata": {},
     "output_type": "display_data"
    },
    {
     "data": {
      "application/vnd.jupyter.widget-view+json": {
       "model_id": "",
       "version_major": 2,
       "version_minor": 0
      },
      "text/plain": [
       "HBox(children=(HTML(value=''), FloatProgress(value=0.0, max=50.0), HTML(value='')))"
      ]
     },
     "metadata": {},
     "output_type": "display_data"
    },
    {
     "data": {
      "application/vnd.jupyter.widget-view+json": {
       "model_id": "",
       "version_major": 2,
       "version_minor": 0
      },
      "text/plain": [
       "HBox(children=(HTML(value=''), FloatProgress(value=0.0, max=50.0), HTML(value='')))"
      ]
     },
     "metadata": {},
     "output_type": "display_data"
    },
    {
     "data": {
      "application/vnd.jupyter.widget-view+json": {
       "model_id": "",
       "version_major": 2,
       "version_minor": 0
      },
      "text/plain": [
       "HBox(children=(HTML(value=''), FloatProgress(value=0.0, max=50.0), HTML(value='')))"
      ]
     },
     "metadata": {},
     "output_type": "display_data"
    },
    {
     "data": {
      "application/vnd.jupyter.widget-view+json": {
       "model_id": "",
       "version_major": 2,
       "version_minor": 0
      },
      "text/plain": [
       "HBox(children=(HTML(value=''), FloatProgress(value=0.0, max=50.0), HTML(value='')))"
      ]
     },
     "metadata": {},
     "output_type": "display_data"
    },
    {
     "data": {
      "application/vnd.jupyter.widget-view+json": {
       "model_id": "",
       "version_major": 2,
       "version_minor": 0
      },
      "text/plain": [
       "HBox(children=(HTML(value=''), FloatProgress(value=0.0, max=50.0), HTML(value='')))"
      ]
     },
     "metadata": {},
     "output_type": "display_data"
    },
    {
     "data": {
      "text/plain": [
       "({'gamma': 0.0019306977288832496,\n",
       "  'K_std': 20,\n",
       "  'filter_func': 'exponential',\n",
       "  'beta': 8.685113737513525,\n",
       "  'beta_f': 2.8117686979742302},\n",
       " 0.6629787707589792)"
      ]
     },
     "execution_count": 245,
     "metadata": {},
     "output_type": "execute_result"
    }
   ],
   "source": [
    "model.optimize()"
   ]
  },
  {
   "cell_type": "code",
   "execution_count": 262,
   "metadata": {},
   "outputs": [
    {
     "data": {
      "text/plain": [
       "array([[ 0.    , 16.9531, 20.6364, ..., 68.4942, 73.2838, 77.1548],\n",
       "       [ 0.    , 21.4125, 21.7238, ..., 69.9054, 74.2975, 77.191 ],\n",
       "       [ 0.    , 18.8218, 19.9492, ..., 70.0688, 73.3459, 77.7561],\n",
       "       ...,\n",
       "       [ 0.    , 10.8833, 12.9392, ..., 58.6139, 58.6506, 59.7825],\n",
       "       [ 0.    , 14.0943, 14.2845, ..., 59.8592, 60.381 , 61.6803],\n",
       "       [ 0.    , 12.5154, 12.7835, ..., 58.7208, 58.7265, 59.9571]])"
      ]
     },
     "execution_count": 262,
     "metadata": {},
     "output_type": "execute_result"
    }
   ],
   "source": [
    "np.sort(features.diff, axis=1)[]"
   ]
  },
  {
   "cell_type": "code",
   "execution_count": 247,
   "metadata": {},
   "outputs": [
    {
     "data": {
      "application/javascript": [
       "/* Put everything inside the global mpl namespace */\n",
       "window.mpl = {};\n",
       "\n",
       "\n",
       "mpl.get_websocket_type = function() {\n",
       "    if (typeof(WebSocket) !== 'undefined') {\n",
       "        return WebSocket;\n",
       "    } else if (typeof(MozWebSocket) !== 'undefined') {\n",
       "        return MozWebSocket;\n",
       "    } else {\n",
       "        alert('Your browser does not have WebSocket support. ' +\n",
       "              'Please try Chrome, Safari or Firefox ≥ 6. ' +\n",
       "              'Firefox 4 and 5 are also supported but you ' +\n",
       "              'have to enable WebSockets in about:config.');\n",
       "    };\n",
       "}\n",
       "\n",
       "mpl.figure = function(figure_id, websocket, ondownload, parent_element) {\n",
       "    this.id = figure_id;\n",
       "\n",
       "    this.ws = websocket;\n",
       "\n",
       "    this.supports_binary = (this.ws.binaryType != undefined);\n",
       "\n",
       "    if (!this.supports_binary) {\n",
       "        var warnings = document.getElementById(\"mpl-warnings\");\n",
       "        if (warnings) {\n",
       "            warnings.style.display = 'block';\n",
       "            warnings.textContent = (\n",
       "                \"This browser does not support binary websocket messages. \" +\n",
       "                    \"Performance may be slow.\");\n",
       "        }\n",
       "    }\n",
       "\n",
       "    this.imageObj = new Image();\n",
       "\n",
       "    this.context = undefined;\n",
       "    this.message = undefined;\n",
       "    this.canvas = undefined;\n",
       "    this.rubberband_canvas = undefined;\n",
       "    this.rubberband_context = undefined;\n",
       "    this.format_dropdown = undefined;\n",
       "\n",
       "    this.image_mode = 'full';\n",
       "\n",
       "    this.root = $('<div/>');\n",
       "    this._root_extra_style(this.root)\n",
       "    this.root.attr('style', 'display: inline-block');\n",
       "\n",
       "    $(parent_element).append(this.root);\n",
       "\n",
       "    this._init_header(this);\n",
       "    this._init_canvas(this);\n",
       "    this._init_toolbar(this);\n",
       "\n",
       "    var fig = this;\n",
       "\n",
       "    this.waiting = false;\n",
       "\n",
       "    this.ws.onopen =  function () {\n",
       "            fig.send_message(\"supports_binary\", {value: fig.supports_binary});\n",
       "            fig.send_message(\"send_image_mode\", {});\n",
       "            if (mpl.ratio != 1) {\n",
       "                fig.send_message(\"set_dpi_ratio\", {'dpi_ratio': mpl.ratio});\n",
       "            }\n",
       "            fig.send_message(\"refresh\", {});\n",
       "        }\n",
       "\n",
       "    this.imageObj.onload = function() {\n",
       "            if (fig.image_mode == 'full') {\n",
       "                // Full images could contain transparency (where diff images\n",
       "                // almost always do), so we need to clear the canvas so that\n",
       "                // there is no ghosting.\n",
       "                fig.context.clearRect(0, 0, fig.canvas.width, fig.canvas.height);\n",
       "            }\n",
       "            fig.context.drawImage(fig.imageObj, 0, 0);\n",
       "        };\n",
       "\n",
       "    this.imageObj.onunload = function() {\n",
       "        fig.ws.close();\n",
       "    }\n",
       "\n",
       "    this.ws.onmessage = this._make_on_message_function(this);\n",
       "\n",
       "    this.ondownload = ondownload;\n",
       "}\n",
       "\n",
       "mpl.figure.prototype._init_header = function() {\n",
       "    var titlebar = $(\n",
       "        '<div class=\"ui-dialog-titlebar ui-widget-header ui-corner-all ' +\n",
       "        'ui-helper-clearfix\"/>');\n",
       "    var titletext = $(\n",
       "        '<div class=\"ui-dialog-title\" style=\"width: 100%; ' +\n",
       "        'text-align: center; padding: 3px;\"/>');\n",
       "    titlebar.append(titletext)\n",
       "    this.root.append(titlebar);\n",
       "    this.header = titletext[0];\n",
       "}\n",
       "\n",
       "\n",
       "\n",
       "mpl.figure.prototype._canvas_extra_style = function(canvas_div) {\n",
       "\n",
       "}\n",
       "\n",
       "\n",
       "mpl.figure.prototype._root_extra_style = function(canvas_div) {\n",
       "\n",
       "}\n",
       "\n",
       "mpl.figure.prototype._init_canvas = function() {\n",
       "    var fig = this;\n",
       "\n",
       "    var canvas_div = $('<div/>');\n",
       "\n",
       "    canvas_div.attr('style', 'position: relative; clear: both; outline: 0');\n",
       "\n",
       "    function canvas_keyboard_event(event) {\n",
       "        return fig.key_event(event, event['data']);\n",
       "    }\n",
       "\n",
       "    canvas_div.keydown('key_press', canvas_keyboard_event);\n",
       "    canvas_div.keyup('key_release', canvas_keyboard_event);\n",
       "    this.canvas_div = canvas_div\n",
       "    this._canvas_extra_style(canvas_div)\n",
       "    this.root.append(canvas_div);\n",
       "\n",
       "    var canvas = $('<canvas/>');\n",
       "    canvas.addClass('mpl-canvas');\n",
       "    canvas.attr('style', \"left: 0; top: 0; z-index: 0; outline: 0\")\n",
       "\n",
       "    this.canvas = canvas[0];\n",
       "    this.context = canvas[0].getContext(\"2d\");\n",
       "\n",
       "    var backingStore = this.context.backingStorePixelRatio ||\n",
       "\tthis.context.webkitBackingStorePixelRatio ||\n",
       "\tthis.context.mozBackingStorePixelRatio ||\n",
       "\tthis.context.msBackingStorePixelRatio ||\n",
       "\tthis.context.oBackingStorePixelRatio ||\n",
       "\tthis.context.backingStorePixelRatio || 1;\n",
       "\n",
       "    mpl.ratio = (window.devicePixelRatio || 1) / backingStore;\n",
       "\n",
       "    var rubberband = $('<canvas/>');\n",
       "    rubberband.attr('style', \"position: absolute; left: 0; top: 0; z-index: 1;\")\n",
       "\n",
       "    var pass_mouse_events = true;\n",
       "\n",
       "    canvas_div.resizable({\n",
       "        start: function(event, ui) {\n",
       "            pass_mouse_events = false;\n",
       "        },\n",
       "        resize: function(event, ui) {\n",
       "            fig.request_resize(ui.size.width, ui.size.height);\n",
       "        },\n",
       "        stop: function(event, ui) {\n",
       "            pass_mouse_events = true;\n",
       "            fig.request_resize(ui.size.width, ui.size.height);\n",
       "        },\n",
       "    });\n",
       "\n",
       "    function mouse_event_fn(event) {\n",
       "        if (pass_mouse_events)\n",
       "            return fig.mouse_event(event, event['data']);\n",
       "    }\n",
       "\n",
       "    rubberband.mousedown('button_press', mouse_event_fn);\n",
       "    rubberband.mouseup('button_release', mouse_event_fn);\n",
       "    // Throttle sequential mouse events to 1 every 20ms.\n",
       "    rubberband.mousemove('motion_notify', mouse_event_fn);\n",
       "\n",
       "    rubberband.mouseenter('figure_enter', mouse_event_fn);\n",
       "    rubberband.mouseleave('figure_leave', mouse_event_fn);\n",
       "\n",
       "    canvas_div.on(\"wheel\", function (event) {\n",
       "        event = event.originalEvent;\n",
       "        event['data'] = 'scroll'\n",
       "        if (event.deltaY < 0) {\n",
       "            event.step = 1;\n",
       "        } else {\n",
       "            event.step = -1;\n",
       "        }\n",
       "        mouse_event_fn(event);\n",
       "    });\n",
       "\n",
       "    canvas_div.append(canvas);\n",
       "    canvas_div.append(rubberband);\n",
       "\n",
       "    this.rubberband = rubberband;\n",
       "    this.rubberband_canvas = rubberband[0];\n",
       "    this.rubberband_context = rubberband[0].getContext(\"2d\");\n",
       "    this.rubberband_context.strokeStyle = \"#000000\";\n",
       "\n",
       "    this._resize_canvas = function(width, height) {\n",
       "        // Keep the size of the canvas, canvas container, and rubber band\n",
       "        // canvas in synch.\n",
       "        canvas_div.css('width', width)\n",
       "        canvas_div.css('height', height)\n",
       "\n",
       "        canvas.attr('width', width * mpl.ratio);\n",
       "        canvas.attr('height', height * mpl.ratio);\n",
       "        canvas.attr('style', 'width: ' + width + 'px; height: ' + height + 'px;');\n",
       "\n",
       "        rubberband.attr('width', width);\n",
       "        rubberband.attr('height', height);\n",
       "    }\n",
       "\n",
       "    // Set the figure to an initial 600x600px, this will subsequently be updated\n",
       "    // upon first draw.\n",
       "    this._resize_canvas(600, 600);\n",
       "\n",
       "    // Disable right mouse context menu.\n",
       "    $(this.rubberband_canvas).bind(\"contextmenu\",function(e){\n",
       "        return false;\n",
       "    });\n",
       "\n",
       "    function set_focus () {\n",
       "        canvas.focus();\n",
       "        canvas_div.focus();\n",
       "    }\n",
       "\n",
       "    window.setTimeout(set_focus, 100);\n",
       "}\n",
       "\n",
       "mpl.figure.prototype._init_toolbar = function() {\n",
       "    var fig = this;\n",
       "\n",
       "    var nav_element = $('<div/>');\n",
       "    nav_element.attr('style', 'width: 100%');\n",
       "    this.root.append(nav_element);\n",
       "\n",
       "    // Define a callback function for later on.\n",
       "    function toolbar_event(event) {\n",
       "        return fig.toolbar_button_onclick(event['data']);\n",
       "    }\n",
       "    function toolbar_mouse_event(event) {\n",
       "        return fig.toolbar_button_onmouseover(event['data']);\n",
       "    }\n",
       "\n",
       "    for(var toolbar_ind in mpl.toolbar_items) {\n",
       "        var name = mpl.toolbar_items[toolbar_ind][0];\n",
       "        var tooltip = mpl.toolbar_items[toolbar_ind][1];\n",
       "        var image = mpl.toolbar_items[toolbar_ind][2];\n",
       "        var method_name = mpl.toolbar_items[toolbar_ind][3];\n",
       "\n",
       "        if (!name) {\n",
       "            // put a spacer in here.\n",
       "            continue;\n",
       "        }\n",
       "        var button = $('<button/>');\n",
       "        button.addClass('ui-button ui-widget ui-state-default ui-corner-all ' +\n",
       "                        'ui-button-icon-only');\n",
       "        button.attr('role', 'button');\n",
       "        button.attr('aria-disabled', 'false');\n",
       "        button.click(method_name, toolbar_event);\n",
       "        button.mouseover(tooltip, toolbar_mouse_event);\n",
       "\n",
       "        var icon_img = $('<span/>');\n",
       "        icon_img.addClass('ui-button-icon-primary ui-icon');\n",
       "        icon_img.addClass(image);\n",
       "        icon_img.addClass('ui-corner-all');\n",
       "\n",
       "        var tooltip_span = $('<span/>');\n",
       "        tooltip_span.addClass('ui-button-text');\n",
       "        tooltip_span.html(tooltip);\n",
       "\n",
       "        button.append(icon_img);\n",
       "        button.append(tooltip_span);\n",
       "\n",
       "        nav_element.append(button);\n",
       "    }\n",
       "\n",
       "    var fmt_picker_span = $('<span/>');\n",
       "\n",
       "    var fmt_picker = $('<select/>');\n",
       "    fmt_picker.addClass('mpl-toolbar-option ui-widget ui-widget-content');\n",
       "    fmt_picker_span.append(fmt_picker);\n",
       "    nav_element.append(fmt_picker_span);\n",
       "    this.format_dropdown = fmt_picker[0];\n",
       "\n",
       "    for (var ind in mpl.extensions) {\n",
       "        var fmt = mpl.extensions[ind];\n",
       "        var option = $(\n",
       "            '<option/>', {selected: fmt === mpl.default_extension}).html(fmt);\n",
       "        fmt_picker.append(option);\n",
       "    }\n",
       "\n",
       "    // Add hover states to the ui-buttons\n",
       "    $( \".ui-button\" ).hover(\n",
       "        function() { $(this).addClass(\"ui-state-hover\");},\n",
       "        function() { $(this).removeClass(\"ui-state-hover\");}\n",
       "    );\n",
       "\n",
       "    var status_bar = $('<span class=\"mpl-message\"/>');\n",
       "    nav_element.append(status_bar);\n",
       "    this.message = status_bar[0];\n",
       "}\n",
       "\n",
       "mpl.figure.prototype.request_resize = function(x_pixels, y_pixels) {\n",
       "    // Request matplotlib to resize the figure. Matplotlib will then trigger a resize in the client,\n",
       "    // which will in turn request a refresh of the image.\n",
       "    this.send_message('resize', {'width': x_pixels, 'height': y_pixels});\n",
       "}\n",
       "\n",
       "mpl.figure.prototype.send_message = function(type, properties) {\n",
       "    properties['type'] = type;\n",
       "    properties['figure_id'] = this.id;\n",
       "    this.ws.send(JSON.stringify(properties));\n",
       "}\n",
       "\n",
       "mpl.figure.prototype.send_draw_message = function() {\n",
       "    if (!this.waiting) {\n",
       "        this.waiting = true;\n",
       "        this.ws.send(JSON.stringify({type: \"draw\", figure_id: this.id}));\n",
       "    }\n",
       "}\n",
       "\n",
       "\n",
       "mpl.figure.prototype.handle_save = function(fig, msg) {\n",
       "    var format_dropdown = fig.format_dropdown;\n",
       "    var format = format_dropdown.options[format_dropdown.selectedIndex].value;\n",
       "    fig.ondownload(fig, format);\n",
       "}\n",
       "\n",
       "\n",
       "mpl.figure.prototype.handle_resize = function(fig, msg) {\n",
       "    var size = msg['size'];\n",
       "    if (size[0] != fig.canvas.width || size[1] != fig.canvas.height) {\n",
       "        fig._resize_canvas(size[0], size[1]);\n",
       "        fig.send_message(\"refresh\", {});\n",
       "    };\n",
       "}\n",
       "\n",
       "mpl.figure.prototype.handle_rubberband = function(fig, msg) {\n",
       "    var x0 = msg['x0'] / mpl.ratio;\n",
       "    var y0 = (fig.canvas.height - msg['y0']) / mpl.ratio;\n",
       "    var x1 = msg['x1'] / mpl.ratio;\n",
       "    var y1 = (fig.canvas.height - msg['y1']) / mpl.ratio;\n",
       "    x0 = Math.floor(x0) + 0.5;\n",
       "    y0 = Math.floor(y0) + 0.5;\n",
       "    x1 = Math.floor(x1) + 0.5;\n",
       "    y1 = Math.floor(y1) + 0.5;\n",
       "    var min_x = Math.min(x0, x1);\n",
       "    var min_y = Math.min(y0, y1);\n",
       "    var width = Math.abs(x1 - x0);\n",
       "    var height = Math.abs(y1 - y0);\n",
       "\n",
       "    fig.rubberband_context.clearRect(\n",
       "        0, 0, fig.canvas.width / mpl.ratio, fig.canvas.height / mpl.ratio);\n",
       "\n",
       "    fig.rubberband_context.strokeRect(min_x, min_y, width, height);\n",
       "}\n",
       "\n",
       "mpl.figure.prototype.handle_figure_label = function(fig, msg) {\n",
       "    // Updates the figure title.\n",
       "    fig.header.textContent = msg['label'];\n",
       "}\n",
       "\n",
       "mpl.figure.prototype.handle_cursor = function(fig, msg) {\n",
       "    var cursor = msg['cursor'];\n",
       "    switch(cursor)\n",
       "    {\n",
       "    case 0:\n",
       "        cursor = 'pointer';\n",
       "        break;\n",
       "    case 1:\n",
       "        cursor = 'default';\n",
       "        break;\n",
       "    case 2:\n",
       "        cursor = 'crosshair';\n",
       "        break;\n",
       "    case 3:\n",
       "        cursor = 'move';\n",
       "        break;\n",
       "    }\n",
       "    fig.rubberband_canvas.style.cursor = cursor;\n",
       "}\n",
       "\n",
       "mpl.figure.prototype.handle_message = function(fig, msg) {\n",
       "    fig.message.textContent = msg['message'];\n",
       "}\n",
       "\n",
       "mpl.figure.prototype.handle_draw = function(fig, msg) {\n",
       "    // Request the server to send over a new figure.\n",
       "    fig.send_draw_message();\n",
       "}\n",
       "\n",
       "mpl.figure.prototype.handle_image_mode = function(fig, msg) {\n",
       "    fig.image_mode = msg['mode'];\n",
       "}\n",
       "\n",
       "mpl.figure.prototype.updated_canvas_event = function() {\n",
       "    // Called whenever the canvas gets updated.\n",
       "    this.send_message(\"ack\", {});\n",
       "}\n",
       "\n",
       "// A function to construct a web socket function for onmessage handling.\n",
       "// Called in the figure constructor.\n",
       "mpl.figure.prototype._make_on_message_function = function(fig) {\n",
       "    return function socket_on_message(evt) {\n",
       "        if (evt.data instanceof Blob) {\n",
       "            /* FIXME: We get \"Resource interpreted as Image but\n",
       "             * transferred with MIME type text/plain:\" errors on\n",
       "             * Chrome.  But how to set the MIME type?  It doesn't seem\n",
       "             * to be part of the websocket stream */\n",
       "            evt.data.type = \"image/png\";\n",
       "\n",
       "            /* Free the memory for the previous frames */\n",
       "            if (fig.imageObj.src) {\n",
       "                (window.URL || window.webkitURL).revokeObjectURL(\n",
       "                    fig.imageObj.src);\n",
       "            }\n",
       "\n",
       "            fig.imageObj.src = (window.URL || window.webkitURL).createObjectURL(\n",
       "                evt.data);\n",
       "            fig.updated_canvas_event();\n",
       "            fig.waiting = false;\n",
       "            return;\n",
       "        }\n",
       "        else if (typeof evt.data === 'string' && evt.data.slice(0, 21) == \"data:image/png;base64\") {\n",
       "            fig.imageObj.src = evt.data;\n",
       "            fig.updated_canvas_event();\n",
       "            fig.waiting = false;\n",
       "            return;\n",
       "        }\n",
       "\n",
       "        var msg = JSON.parse(evt.data);\n",
       "        var msg_type = msg['type'];\n",
       "\n",
       "        // Call the  \"handle_{type}\" callback, which takes\n",
       "        // the figure and JSON message as its only arguments.\n",
       "        try {\n",
       "            var callback = fig[\"handle_\" + msg_type];\n",
       "        } catch (e) {\n",
       "            console.log(\"No handler for the '\" + msg_type + \"' message type: \", msg);\n",
       "            return;\n",
       "        }\n",
       "\n",
       "        if (callback) {\n",
       "            try {\n",
       "                // console.log(\"Handling '\" + msg_type + \"' message: \", msg);\n",
       "                callback(fig, msg);\n",
       "            } catch (e) {\n",
       "                console.log(\"Exception inside the 'handler_\" + msg_type + \"' callback:\", e, e.stack, msg);\n",
       "            }\n",
       "        }\n",
       "    };\n",
       "}\n",
       "\n",
       "// from http://stackoverflow.com/questions/1114465/getting-mouse-location-in-canvas\n",
       "mpl.findpos = function(e) {\n",
       "    //this section is from http://www.quirksmode.org/js/events_properties.html\n",
       "    var targ;\n",
       "    if (!e)\n",
       "        e = window.event;\n",
       "    if (e.target)\n",
       "        targ = e.target;\n",
       "    else if (e.srcElement)\n",
       "        targ = e.srcElement;\n",
       "    if (targ.nodeType == 3) // defeat Safari bug\n",
       "        targ = targ.parentNode;\n",
       "\n",
       "    // jQuery normalizes the pageX and pageY\n",
       "    // pageX,Y are the mouse positions relative to the document\n",
       "    // offset() returns the position of the element relative to the document\n",
       "    var x = e.pageX - $(targ).offset().left;\n",
       "    var y = e.pageY - $(targ).offset().top;\n",
       "\n",
       "    return {\"x\": x, \"y\": y};\n",
       "};\n",
       "\n",
       "/*\n",
       " * return a copy of an object with only non-object keys\n",
       " * we need this to avoid circular references\n",
       " * http://stackoverflow.com/a/24161582/3208463\n",
       " */\n",
       "function simpleKeys (original) {\n",
       "  return Object.keys(original).reduce(function (obj, key) {\n",
       "    if (typeof original[key] !== 'object')\n",
       "        obj[key] = original[key]\n",
       "    return obj;\n",
       "  }, {});\n",
       "}\n",
       "\n",
       "mpl.figure.prototype.mouse_event = function(event, name) {\n",
       "    var canvas_pos = mpl.findpos(event)\n",
       "\n",
       "    if (name === 'button_press')\n",
       "    {\n",
       "        this.canvas.focus();\n",
       "        this.canvas_div.focus();\n",
       "    }\n",
       "\n",
       "    var x = canvas_pos.x * mpl.ratio;\n",
       "    var y = canvas_pos.y * mpl.ratio;\n",
       "\n",
       "    this.send_message(name, {x: x, y: y, button: event.button,\n",
       "                             step: event.step,\n",
       "                             guiEvent: simpleKeys(event)});\n",
       "\n",
       "    /* This prevents the web browser from automatically changing to\n",
       "     * the text insertion cursor when the button is pressed.  We want\n",
       "     * to control all of the cursor setting manually through the\n",
       "     * 'cursor' event from matplotlib */\n",
       "    event.preventDefault();\n",
       "    return false;\n",
       "}\n",
       "\n",
       "mpl.figure.prototype._key_event_extra = function(event, name) {\n",
       "    // Handle any extra behaviour associated with a key event\n",
       "}\n",
       "\n",
       "mpl.figure.prototype.key_event = function(event, name) {\n",
       "\n",
       "    // Prevent repeat events\n",
       "    if (name == 'key_press')\n",
       "    {\n",
       "        if (event.which === this._key)\n",
       "            return;\n",
       "        else\n",
       "            this._key = event.which;\n",
       "    }\n",
       "    if (name == 'key_release')\n",
       "        this._key = null;\n",
       "\n",
       "    var value = '';\n",
       "    if (event.ctrlKey && event.which != 17)\n",
       "        value += \"ctrl+\";\n",
       "    if (event.altKey && event.which != 18)\n",
       "        value += \"alt+\";\n",
       "    if (event.shiftKey && event.which != 16)\n",
       "        value += \"shift+\";\n",
       "\n",
       "    value += 'k';\n",
       "    value += event.which.toString();\n",
       "\n",
       "    this._key_event_extra(event, name);\n",
       "\n",
       "    this.send_message(name, {key: value,\n",
       "                             guiEvent: simpleKeys(event)});\n",
       "    return false;\n",
       "}\n",
       "\n",
       "mpl.figure.prototype.toolbar_button_onclick = function(name) {\n",
       "    if (name == 'download') {\n",
       "        this.handle_save(this, null);\n",
       "    } else {\n",
       "        this.send_message(\"toolbar_button\", {name: name});\n",
       "    }\n",
       "};\n",
       "\n",
       "mpl.figure.prototype.toolbar_button_onmouseover = function(tooltip) {\n",
       "    this.message.textContent = tooltip;\n",
       "};\n",
       "mpl.toolbar_items = [[\"Home\", \"Reset original view\", \"fa fa-home icon-home\", \"home\"], [\"Back\", \"Back to previous view\", \"fa fa-arrow-left icon-arrow-left\", \"back\"], [\"Forward\", \"Forward to next view\", \"fa fa-arrow-right icon-arrow-right\", \"forward\"], [\"\", \"\", \"\", \"\"], [\"Pan\", \"Pan axes with left mouse, zoom with right\", \"fa fa-arrows icon-move\", \"pan\"], [\"Zoom\", \"Zoom to rectangle\", \"fa fa-square-o icon-check-empty\", \"zoom\"], [\"\", \"\", \"\", \"\"], [\"Download\", \"Download plot\", \"fa fa-floppy-o icon-save\", \"download\"]];\n",
       "\n",
       "mpl.extensions = [\"eps\", \"jpeg\", \"pdf\", \"png\", \"ps\", \"raw\", \"svg\", \"tif\"];\n",
       "\n",
       "mpl.default_extension = \"png\";var comm_websocket_adapter = function(comm) {\n",
       "    // Create a \"websocket\"-like object which calls the given IPython comm\n",
       "    // object with the appropriate methods. Currently this is a non binary\n",
       "    // socket, so there is still some room for performance tuning.\n",
       "    var ws = {};\n",
       "\n",
       "    ws.close = function() {\n",
       "        comm.close()\n",
       "    };\n",
       "    ws.send = function(m) {\n",
       "        //console.log('sending', m);\n",
       "        comm.send(m);\n",
       "    };\n",
       "    // Register the callback with on_msg.\n",
       "    comm.on_msg(function(msg) {\n",
       "        //console.log('receiving', msg['content']['data'], msg);\n",
       "        // Pass the mpl event to the overridden (by mpl) onmessage function.\n",
       "        ws.onmessage(msg['content']['data'])\n",
       "    });\n",
       "    return ws;\n",
       "}\n",
       "\n",
       "mpl.mpl_figure_comm = function(comm, msg) {\n",
       "    // This is the function which gets called when the mpl process\n",
       "    // starts-up an IPython Comm through the \"matplotlib\" channel.\n",
       "\n",
       "    var id = msg.content.data.id;\n",
       "    // Get hold of the div created by the display call when the Comm\n",
       "    // socket was opened in Python.\n",
       "    var element = $(\"#\" + id);\n",
       "    var ws_proxy = comm_websocket_adapter(comm)\n",
       "\n",
       "    function ondownload(figure, format) {\n",
       "        window.open(figure.imageObj.src);\n",
       "    }\n",
       "\n",
       "    var fig = new mpl.figure(id, ws_proxy,\n",
       "                           ondownload,\n",
       "                           element.get(0));\n",
       "\n",
       "    // Call onopen now - mpl needs it, as it is assuming we've passed it a real\n",
       "    // web socket which is closed, not our websocket->open comm proxy.\n",
       "    ws_proxy.onopen();\n",
       "\n",
       "    fig.parent_element = element.get(0);\n",
       "    fig.cell_info = mpl.find_output_cell(\"<div id='\" + id + \"'></div>\");\n",
       "    if (!fig.cell_info) {\n",
       "        console.error(\"Failed to find cell for figure\", id, fig);\n",
       "        return;\n",
       "    }\n",
       "\n",
       "    var output_index = fig.cell_info[2]\n",
       "    var cell = fig.cell_info[0];\n",
       "\n",
       "};\n",
       "\n",
       "mpl.figure.prototype.handle_close = function(fig, msg) {\n",
       "    var width = fig.canvas.width/mpl.ratio\n",
       "    fig.root.unbind('remove')\n",
       "\n",
       "    // Update the output cell to use the data from the current canvas.\n",
       "    fig.push_to_output();\n",
       "    var dataURL = fig.canvas.toDataURL();\n",
       "    // Re-enable the keyboard manager in IPython - without this line, in FF,\n",
       "    // the notebook keyboard shortcuts fail.\n",
       "    IPython.keyboard_manager.enable()\n",
       "    $(fig.parent_element).html('<img src=\"' + dataURL + '\" width=\"' + width + '\">');\n",
       "    fig.close_ws(fig, msg);\n",
       "}\n",
       "\n",
       "mpl.figure.prototype.close_ws = function(fig, msg){\n",
       "    fig.send_message('closing', msg);\n",
       "    // fig.ws.close()\n",
       "}\n",
       "\n",
       "mpl.figure.prototype.push_to_output = function(remove_interactive) {\n",
       "    // Turn the data on the canvas into data in the output cell.\n",
       "    var width = this.canvas.width/mpl.ratio\n",
       "    var dataURL = this.canvas.toDataURL();\n",
       "    this.cell_info[1]['text/html'] = '<img src=\"' + dataURL + '\" width=\"' + width + '\">';\n",
       "}\n",
       "\n",
       "mpl.figure.prototype.updated_canvas_event = function() {\n",
       "    // Tell IPython that the notebook contents must change.\n",
       "    IPython.notebook.set_dirty(true);\n",
       "    this.send_message(\"ack\", {});\n",
       "    var fig = this;\n",
       "    // Wait a second, then push the new image to the DOM so\n",
       "    // that it is saved nicely (might be nice to debounce this).\n",
       "    setTimeout(function () { fig.push_to_output() }, 1000);\n",
       "}\n",
       "\n",
       "mpl.figure.prototype._init_toolbar = function() {\n",
       "    var fig = this;\n",
       "\n",
       "    var nav_element = $('<div/>');\n",
       "    nav_element.attr('style', 'width: 100%');\n",
       "    this.root.append(nav_element);\n",
       "\n",
       "    // Define a callback function for later on.\n",
       "    function toolbar_event(event) {\n",
       "        return fig.toolbar_button_onclick(event['data']);\n",
       "    }\n",
       "    function toolbar_mouse_event(event) {\n",
       "        return fig.toolbar_button_onmouseover(event['data']);\n",
       "    }\n",
       "\n",
       "    for(var toolbar_ind in mpl.toolbar_items){\n",
       "        var name = mpl.toolbar_items[toolbar_ind][0];\n",
       "        var tooltip = mpl.toolbar_items[toolbar_ind][1];\n",
       "        var image = mpl.toolbar_items[toolbar_ind][2];\n",
       "        var method_name = mpl.toolbar_items[toolbar_ind][3];\n",
       "\n",
       "        if (!name) { continue; };\n",
       "\n",
       "        var button = $('<button class=\"btn btn-default\" href=\"#\" title=\"' + name + '\"><i class=\"fa ' + image + ' fa-lg\"></i></button>');\n",
       "        button.click(method_name, toolbar_event);\n",
       "        button.mouseover(tooltip, toolbar_mouse_event);\n",
       "        nav_element.append(button);\n",
       "    }\n",
       "\n",
       "    // Add the status bar.\n",
       "    var status_bar = $('<span class=\"mpl-message\" style=\"text-align:right; float: right;\"/>');\n",
       "    nav_element.append(status_bar);\n",
       "    this.message = status_bar[0];\n",
       "\n",
       "    // Add the close button to the window.\n",
       "    var buttongrp = $('<div class=\"btn-group inline pull-right\"></div>');\n",
       "    var button = $('<button class=\"btn btn-mini btn-primary\" href=\"#\" title=\"Stop Interaction\"><i class=\"fa fa-power-off icon-remove icon-large\"></i></button>');\n",
       "    button.click(function (evt) { fig.handle_close(fig, {}); } );\n",
       "    button.mouseover('Stop Interaction', toolbar_mouse_event);\n",
       "    buttongrp.append(button);\n",
       "    var titlebar = this.root.find($('.ui-dialog-titlebar'));\n",
       "    titlebar.prepend(buttongrp);\n",
       "}\n",
       "\n",
       "mpl.figure.prototype._root_extra_style = function(el){\n",
       "    var fig = this\n",
       "    el.on(\"remove\", function(){\n",
       "\tfig.close_ws(fig, {});\n",
       "    });\n",
       "}\n",
       "\n",
       "mpl.figure.prototype._canvas_extra_style = function(el){\n",
       "    // this is important to make the div 'focusable\n",
       "    el.attr('tabindex', 0)\n",
       "    // reach out to IPython and tell the keyboard manager to turn it's self\n",
       "    // off when our div gets focus\n",
       "\n",
       "    // location in version 3\n",
       "    if (IPython.notebook.keyboard_manager) {\n",
       "        IPython.notebook.keyboard_manager.register_events(el);\n",
       "    }\n",
       "    else {\n",
       "        // location in version 2\n",
       "        IPython.keyboard_manager.register_events(el);\n",
       "    }\n",
       "\n",
       "}\n",
       "\n",
       "mpl.figure.prototype._key_event_extra = function(event, name) {\n",
       "    var manager = IPython.notebook.keyboard_manager;\n",
       "    if (!manager)\n",
       "        manager = IPython.keyboard_manager;\n",
       "\n",
       "    // Check for shift+enter\n",
       "    if (event.shiftKey && event.which == 13) {\n",
       "        this.canvas_div.blur();\n",
       "        // select the cell after this one\n",
       "        var index = IPython.notebook.find_cell_index(this.cell_info[0]);\n",
       "        IPython.notebook.select(index + 1);\n",
       "    }\n",
       "}\n",
       "\n",
       "mpl.figure.prototype.handle_save = function(fig, msg) {\n",
       "    fig.ondownload(fig, null);\n",
       "}\n",
       "\n",
       "\n",
       "mpl.find_output_cell = function(html_output) {\n",
       "    // Return the cell and output element which can be found *uniquely* in the notebook.\n",
       "    // Note - this is a bit hacky, but it is done because the \"notebook_saving.Notebook\"\n",
       "    // IPython event is triggered only after the cells have been serialised, which for\n",
       "    // our purposes (turning an active figure into a static one), is too late.\n",
       "    var cells = IPython.notebook.get_cells();\n",
       "    var ncells = cells.length;\n",
       "    for (var i=0; i<ncells; i++) {\n",
       "        var cell = cells[i];\n",
       "        if (cell.cell_type === 'code'){\n",
       "            for (var j=0; j<cell.output_area.outputs.length; j++) {\n",
       "                var data = cell.output_area.outputs[j];\n",
       "                if (data.data) {\n",
       "                    // IPython >= 3 moved mimebundle to data attribute of output\n",
       "                    data = data.data;\n",
       "                }\n",
       "                if (data['text/html'] == html_output) {\n",
       "                    return [cell, data, j];\n",
       "                }\n",
       "            }\n",
       "        }\n",
       "    }\n",
       "}\n",
       "\n",
       "// Register the function which deals with the matplotlib target/channel.\n",
       "// The kernel may be null if the page has been refreshed.\n",
       "if (IPython.notebook.kernel != null) {\n",
       "    IPython.notebook.kernel.comm_manager.register_target('matplotlib', mpl.mpl_figure_comm);\n",
       "}\n"
      ],
      "text/plain": [
       "<IPython.core.display.Javascript object>"
      ]
     },
     "metadata": {},
     "output_type": "display_data"
    },
    {
     "data": {
      "text/html": [
       "<img src=\"data:image/png;base64,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\" width=\"800\">"
      ],
      "text/plain": [
       "<IPython.core.display.HTML object>"
      ]
     },
     "metadata": {},
     "output_type": "display_data"
    }
   ],
   "source": [
    "fig, ax = plt.subplots(figsize=(8, 5))\n",
    "\n",
    "site = '16_1_10'\n",
    "\n",
    "x = model_kgr.F.columns\n",
    "\n",
    "y_pred = model_kgr.F.loc[site]\n",
    "y_obs = model_kgr.targets.Y0.loc[site]\n",
    "y_unc = model_kgr.Fvar.loc[site] ** 0.5\n",
    "\n",
    "\n",
    "y_pred.plot(lw=1, label='Estimated',  ax=ax, alpha=0.8)\n",
    "\n",
    "y_obs.plot(lw=1, label='Ground truth',  ax=ax, alpha=0.8)\n",
    "\n",
    "ax.fill_between(x, y_pred, y_pred + 2 * y_unc, alpha=0.2, color='tab:blue', label='2$\\sigma$ uncertainty', zorder=-1)\n",
    "ax.fill_between(x, y_pred, y_pred - 2 * y_unc, alpha=0.2, color='tab:blue', zorder=-1)\n",
    "\n",
    "\n",
    "ax.set_yticks([])\n",
    "\n",
    "\n",
    "\n",
    "ax.legend(loc='lower left', fontsize='large')\n",
    "\n",
    "\n",
    "ax.set_xlim(x[1050], x[1500])\n",
    "ax.set_ylim(-4.5, 2.5)\n",
    "\n",
    "ax.axvline(x[1256], color='k', alpha=0.5, ls='--')\n",
    "\n",
    "ax.text(x[1265], -3.5,  'Test Times', fontsize='large')\n",
    "ax.text(x[1190], -3.5,  'Train Times', fontsize='large')\n",
    "\n",
    "\n",
    "for item in ([ax.title, ax.xaxis.label, ax.yaxis.label] +\n",
    "             ax.get_xticklabels() + ax.get_yticklabels()):\n",
    "    item.set_fontsize('large')\n",
    "    \n",
    "plt.tight_layout()\n",
    "\n",
    "\n",
    "plt.savefig('prediction-time-series.pdf')"
   ]
  },
  {
   "cell_type": "code",
   "execution_count": 197,
   "metadata": {},
   "outputs": [
    {
     "data": {
      "text/plain": [
       "DatetimeIndex(['2017-01-02', '2017-01-03', '2017-01-04', '2017-01-05', '2017-01-06', '2017-01-07', '2017-01-08', '2017-01-09', '2017-01-10', '2017-01-11',\n",
       "               ...\n",
       "               '2021-04-11', '2021-04-12', '2021-04-13', '2021-04-14', '2021-04-15', '2021-04-16', '2021-04-17', '2021-04-18', '2021-04-19', '2021-04-20'],\n",
       "              dtype='datetime64[ns]', length=1570, freq=None)"
      ]
     },
     "execution_count": 197,
     "metadata": {},
     "output_type": "execute_result"
    }
   ],
   "source": [
    "x"
   ]
  },
  {
   "cell_type": "code",
   "execution_count": 180,
   "metadata": {},
   "outputs": [
    {
     "data": {
      "text/plain": [
       "[<matplotlib.lines.Line2D at 0x7f153ae9be10>,\n",
       " <matplotlib.lines.Line2D at 0x7f1544180a58>]"
      ]
     },
     "execution_count": 180,
     "metadata": {},
     "output_type": "execute_result"
    }
   ],
   "source": [
    "leg.get_lines()"
   ]
  },
  {
   "cell_type": "code",
   "execution_count": 173,
   "metadata": {},
   "outputs": [
    {
     "data": {
      "text/plain": [
       "['__class__',\n",
       " '__delattr__',\n",
       " '__dict__',\n",
       " '__dir__',\n",
       " '__doc__',\n",
       " '__eq__',\n",
       " '__format__',\n",
       " '__ge__',\n",
       " '__getattribute__',\n",
       " '__getstate__',\n",
       " '__gt__',\n",
       " '__hash__',\n",
       " '__init__',\n",
       " '__init_subclass__',\n",
       " '__le__',\n",
       " '__lt__',\n",
       " '__module__',\n",
       " '__ne__',\n",
       " '__new__',\n",
       " '__reduce__',\n",
       " '__reduce_ex__',\n",
       " '__repr__',\n",
       " '__setattr__',\n",
       " '__sizeof__',\n",
       " '__str__',\n",
       " '__subclasshook__',\n",
       " '__weakref__',\n",
       " '_agg_filter',\n",
       " '_alpha',\n",
       " '_animated',\n",
       " '_approx_text_height',\n",
       " '_auto_legend_data',\n",
       " '_axes',\n",
       " '_bbox_to_anchor',\n",
       " '_clipon',\n",
       " '_clippath',\n",
       " '_contains',\n",
       " '_custom_handler_map',\n",
       " '_default_handler_map',\n",
       " '_draggable',\n",
       " '_drawFrame',\n",
       " '_find_best_position',\n",
       " '_findoffset',\n",
       " '_fontsize',\n",
       " '_get_anchored_bbox',\n",
       " '_get_clipping_extent_bbox',\n",
       " '_get_loc',\n",
       " '_gid',\n",
       " '_in_layout',\n",
       " '_init_legend_box',\n",
       " '_label',\n",
       " '_legend_box',\n",
       " '_legend_handle_box',\n",
       " '_legend_title_box',\n",
       " '_loc',\n",
       " '_loc_real',\n",
       " '_loc_used_default',\n",
       " '_mode',\n",
       " '_mouseover',\n",
       " '_ncol',\n",
       " '_oid',\n",
       " '_path_effects',\n",
       " '_picker',\n",
       " '_prop_order',\n",
       " '_propobservers',\n",
       " '_rasterized',\n",
       " '_remove_method',\n",
       " '_scatteryoffsets',\n",
       " '_set_artist_props',\n",
       " '_set_gc_clip',\n",
       " '_set_loc',\n",
       " '_sketch',\n",
       " '_snap',\n",
       " '_stale',\n",
       " '_sticky_edges',\n",
       " '_transform',\n",
       " '_transformSet',\n",
       " '_url',\n",
       " '_visible',\n",
       " 'add_callback',\n",
       " 'aname',\n",
       " 'axes',\n",
       " 'borderaxespad',\n",
       " 'borderpad',\n",
       " 'clipbox',\n",
       " 'codes',\n",
       " 'columnspacing',\n",
       " 'contains',\n",
       " 'convert_xunits',\n",
       " 'convert_yunits',\n",
       " 'draw',\n",
       " 'draw_frame',\n",
       " 'eventson',\n",
       " 'figure',\n",
       " 'findobj',\n",
       " 'format_cursor_data',\n",
       " 'get_agg_filter',\n",
       " 'get_alpha',\n",
       " 'get_animated',\n",
       " 'get_bbox_to_anchor',\n",
       " 'get_children',\n",
       " 'get_clip_box',\n",
       " 'get_clip_on',\n",
       " 'get_clip_path',\n",
       " 'get_contains',\n",
       " 'get_cursor_data',\n",
       " 'get_default_handler_map',\n",
       " 'get_draggable',\n",
       " 'get_figure',\n",
       " 'get_frame',\n",
       " 'get_frame_on',\n",
       " 'get_gid',\n",
       " 'get_in_layout',\n",
       " 'get_label',\n",
       " 'get_legend_handler',\n",
       " 'get_legend_handler_map',\n",
       " 'get_lines',\n",
       " 'get_patches',\n",
       " 'get_path_effects',\n",
       " 'get_picker',\n",
       " 'get_rasterized',\n",
       " 'get_sketch_params',\n",
       " 'get_snap',\n",
       " 'get_texts',\n",
       " 'get_tightbbox',\n",
       " 'get_title',\n",
       " 'get_transform',\n",
       " 'get_transformed_clip_path_and_affine',\n",
       " 'get_url',\n",
       " 'get_visible',\n",
       " 'get_window_extent',\n",
       " 'get_zorder',\n",
       " 'handleheight',\n",
       " 'handlelength',\n",
       " 'handletextpad',\n",
       " 'have_units',\n",
       " 'is_transform_set',\n",
       " 'isaxes',\n",
       " 'labelspacing',\n",
       " 'legendHandles',\n",
       " 'legendPatch',\n",
       " 'markerscale',\n",
       " 'mouseover',\n",
       " 'numpoints',\n",
       " 'parent',\n",
       " 'pchanged',\n",
       " 'pick',\n",
       " 'pickable',\n",
       " 'prop',\n",
       " 'properties',\n",
       " 'remove',\n",
       " 'remove_callback',\n",
       " 'scatterpoints',\n",
       " 'set',\n",
       " 'set_agg_filter',\n",
       " 'set_alpha',\n",
       " 'set_animated',\n",
       " 'set_bbox_to_anchor',\n",
       " 'set_clip_box',\n",
       " 'set_clip_on',\n",
       " 'set_clip_path',\n",
       " 'set_contains',\n",
       " 'set_default_handler_map',\n",
       " 'set_draggable',\n",
       " 'set_figure',\n",
       " 'set_frame_on',\n",
       " 'set_gid',\n",
       " 'set_in_layout',\n",
       " 'set_label',\n",
       " 'set_path_effects',\n",
       " 'set_picker',\n",
       " 'set_rasterized',\n",
       " 'set_sketch_params',\n",
       " 'set_snap',\n",
       " 'set_title',\n",
       " 'set_transform',\n",
       " 'set_url',\n",
       " 'set_visible',\n",
       " 'set_zorder',\n",
       " 'shadow',\n",
       " 'stale',\n",
       " 'stale_callback',\n",
       " 'sticky_edges',\n",
       " 'texts',\n",
       " 'update',\n",
       " 'update_default_handler_map',\n",
       " 'update_from',\n",
       " 'zorder']"
      ]
     },
     "execution_count": 173,
     "metadata": {},
     "output_type": "execute_result"
    }
   ],
   "source": [
    "dir(leg"
   ]
  },
  {
   "cell_type": "code",
   "execution_count": null,
   "metadata": {},
   "outputs": [],
   "source": [
    "axes[0].legend"
   ]
  },
  {
   "cell_type": "code",
   "execution_count": null,
   "metadata": {},
   "outputs": [],
   "source": [
    "axes[1].text"
   ]
  },
  {
   "cell_type": "code",
   "execution_count": 36,
   "metadata": {},
   "outputs": [],
   "source": [
    "model_kgr = KGR(**{'gamma': 0.05179474679231213,\n",
    "  'K_std': 12.648552168552959,\n",
    "  'filter_func': 'sigmoid',\n",
    "  'beta': 5.963623316594643}).set_laplacian(laplacian).set_data(features, targets['Ozone'])"
   ]
  },
  {
   "cell_type": "code",
   "execution_count": 261,
   "metadata": {
    "scrolled": false
   },
   "outputs": [
    {
     "data": {
      "application/javascript": [
       "/* Put everything inside the global mpl namespace */\n",
       "window.mpl = {};\n",
       "\n",
       "\n",
       "mpl.get_websocket_type = function() {\n",
       "    if (typeof(WebSocket) !== 'undefined') {\n",
       "        return WebSocket;\n",
       "    } else if (typeof(MozWebSocket) !== 'undefined') {\n",
       "        return MozWebSocket;\n",
       "    } else {\n",
       "        alert('Your browser does not have WebSocket support. ' +\n",
       "              'Please try Chrome, Safari or Firefox ≥ 6. ' +\n",
       "              'Firefox 4 and 5 are also supported but you ' +\n",
       "              'have to enable WebSockets in about:config.');\n",
       "    };\n",
       "}\n",
       "\n",
       "mpl.figure = function(figure_id, websocket, ondownload, parent_element) {\n",
       "    this.id = figure_id;\n",
       "\n",
       "    this.ws = websocket;\n",
       "\n",
       "    this.supports_binary = (this.ws.binaryType != undefined);\n",
       "\n",
       "    if (!this.supports_binary) {\n",
       "        var warnings = document.getElementById(\"mpl-warnings\");\n",
       "        if (warnings) {\n",
       "            warnings.style.display = 'block';\n",
       "            warnings.textContent = (\n",
       "                \"This browser does not support binary websocket messages. \" +\n",
       "                    \"Performance may be slow.\");\n",
       "        }\n",
       "    }\n",
       "\n",
       "    this.imageObj = new Image();\n",
       "\n",
       "    this.context = undefined;\n",
       "    this.message = undefined;\n",
       "    this.canvas = undefined;\n",
       "    this.rubberband_canvas = undefined;\n",
       "    this.rubberband_context = undefined;\n",
       "    this.format_dropdown = undefined;\n",
       "\n",
       "    this.image_mode = 'full';\n",
       "\n",
       "    this.root = $('<div/>');\n",
       "    this._root_extra_style(this.root)\n",
       "    this.root.attr('style', 'display: inline-block');\n",
       "\n",
       "    $(parent_element).append(this.root);\n",
       "\n",
       "    this._init_header(this);\n",
       "    this._init_canvas(this);\n",
       "    this._init_toolbar(this);\n",
       "\n",
       "    var fig = this;\n",
       "\n",
       "    this.waiting = false;\n",
       "\n",
       "    this.ws.onopen =  function () {\n",
       "            fig.send_message(\"supports_binary\", {value: fig.supports_binary});\n",
       "            fig.send_message(\"send_image_mode\", {});\n",
       "            if (mpl.ratio != 1) {\n",
       "                fig.send_message(\"set_dpi_ratio\", {'dpi_ratio': mpl.ratio});\n",
       "            }\n",
       "            fig.send_message(\"refresh\", {});\n",
       "        }\n",
       "\n",
       "    this.imageObj.onload = function() {\n",
       "            if (fig.image_mode == 'full') {\n",
       "                // Full images could contain transparency (where diff images\n",
       "                // almost always do), so we need to clear the canvas so that\n",
       "                // there is no ghosting.\n",
       "                fig.context.clearRect(0, 0, fig.canvas.width, fig.canvas.height);\n",
       "            }\n",
       "            fig.context.drawImage(fig.imageObj, 0, 0);\n",
       "        };\n",
       "\n",
       "    this.imageObj.onunload = function() {\n",
       "        fig.ws.close();\n",
       "    }\n",
       "\n",
       "    this.ws.onmessage = this._make_on_message_function(this);\n",
       "\n",
       "    this.ondownload = ondownload;\n",
       "}\n",
       "\n",
       "mpl.figure.prototype._init_header = function() {\n",
       "    var titlebar = $(\n",
       "        '<div class=\"ui-dialog-titlebar ui-widget-header ui-corner-all ' +\n",
       "        'ui-helper-clearfix\"/>');\n",
       "    var titletext = $(\n",
       "        '<div class=\"ui-dialog-title\" style=\"width: 100%; ' +\n",
       "        'text-align: center; padding: 3px;\"/>');\n",
       "    titlebar.append(titletext)\n",
       "    this.root.append(titlebar);\n",
       "    this.header = titletext[0];\n",
       "}\n",
       "\n",
       "\n",
       "\n",
       "mpl.figure.prototype._canvas_extra_style = function(canvas_div) {\n",
       "\n",
       "}\n",
       "\n",
       "\n",
       "mpl.figure.prototype._root_extra_style = function(canvas_div) {\n",
       "\n",
       "}\n",
       "\n",
       "mpl.figure.prototype._init_canvas = function() {\n",
       "    var fig = this;\n",
       "\n",
       "    var canvas_div = $('<div/>');\n",
       "\n",
       "    canvas_div.attr('style', 'position: relative; clear: both; outline: 0');\n",
       "\n",
       "    function canvas_keyboard_event(event) {\n",
       "        return fig.key_event(event, event['data']);\n",
       "    }\n",
       "\n",
       "    canvas_div.keydown('key_press', canvas_keyboard_event);\n",
       "    canvas_div.keyup('key_release', canvas_keyboard_event);\n",
       "    this.canvas_div = canvas_div\n",
       "    this._canvas_extra_style(canvas_div)\n",
       "    this.root.append(canvas_div);\n",
       "\n",
       "    var canvas = $('<canvas/>');\n",
       "    canvas.addClass('mpl-canvas');\n",
       "    canvas.attr('style', \"left: 0; top: 0; z-index: 0; outline: 0\")\n",
       "\n",
       "    this.canvas = canvas[0];\n",
       "    this.context = canvas[0].getContext(\"2d\");\n",
       "\n",
       "    var backingStore = this.context.backingStorePixelRatio ||\n",
       "\tthis.context.webkitBackingStorePixelRatio ||\n",
       "\tthis.context.mozBackingStorePixelRatio ||\n",
       "\tthis.context.msBackingStorePixelRatio ||\n",
       "\tthis.context.oBackingStorePixelRatio ||\n",
       "\tthis.context.backingStorePixelRatio || 1;\n",
       "\n",
       "    mpl.ratio = (window.devicePixelRatio || 1) / backingStore;\n",
       "\n",
       "    var rubberband = $('<canvas/>');\n",
       "    rubberband.attr('style', \"position: absolute; left: 0; top: 0; z-index: 1;\")\n",
       "\n",
       "    var pass_mouse_events = true;\n",
       "\n",
       "    canvas_div.resizable({\n",
       "        start: function(event, ui) {\n",
       "            pass_mouse_events = false;\n",
       "        },\n",
       "        resize: function(event, ui) {\n",
       "            fig.request_resize(ui.size.width, ui.size.height);\n",
       "        },\n",
       "        stop: function(event, ui) {\n",
       "            pass_mouse_events = true;\n",
       "            fig.request_resize(ui.size.width, ui.size.height);\n",
       "        },\n",
       "    });\n",
       "\n",
       "    function mouse_event_fn(event) {\n",
       "        if (pass_mouse_events)\n",
       "            return fig.mouse_event(event, event['data']);\n",
       "    }\n",
       "\n",
       "    rubberband.mousedown('button_press', mouse_event_fn);\n",
       "    rubberband.mouseup('button_release', mouse_event_fn);\n",
       "    // Throttle sequential mouse events to 1 every 20ms.\n",
       "    rubberband.mousemove('motion_notify', mouse_event_fn);\n",
       "\n",
       "    rubberband.mouseenter('figure_enter', mouse_event_fn);\n",
       "    rubberband.mouseleave('figure_leave', mouse_event_fn);\n",
       "\n",
       "    canvas_div.on(\"wheel\", function (event) {\n",
       "        event = event.originalEvent;\n",
       "        event['data'] = 'scroll'\n",
       "        if (event.deltaY < 0) {\n",
       "            event.step = 1;\n",
       "        } else {\n",
       "            event.step = -1;\n",
       "        }\n",
       "        mouse_event_fn(event);\n",
       "    });\n",
       "\n",
       "    canvas_div.append(canvas);\n",
       "    canvas_div.append(rubberband);\n",
       "\n",
       "    this.rubberband = rubberband;\n",
       "    this.rubberband_canvas = rubberband[0];\n",
       "    this.rubberband_context = rubberband[0].getContext(\"2d\");\n",
       "    this.rubberband_context.strokeStyle = \"#000000\";\n",
       "\n",
       "    this._resize_canvas = function(width, height) {\n",
       "        // Keep the size of the canvas, canvas container, and rubber band\n",
       "        // canvas in synch.\n",
       "        canvas_div.css('width', width)\n",
       "        canvas_div.css('height', height)\n",
       "\n",
       "        canvas.attr('width', width * mpl.ratio);\n",
       "        canvas.attr('height', height * mpl.ratio);\n",
       "        canvas.attr('style', 'width: ' + width + 'px; height: ' + height + 'px;');\n",
       "\n",
       "        rubberband.attr('width', width);\n",
       "        rubberband.attr('height', height);\n",
       "    }\n",
       "\n",
       "    // Set the figure to an initial 600x600px, this will subsequently be updated\n",
       "    // upon first draw.\n",
       "    this._resize_canvas(600, 600);\n",
       "\n",
       "    // Disable right mouse context menu.\n",
       "    $(this.rubberband_canvas).bind(\"contextmenu\",function(e){\n",
       "        return false;\n",
       "    });\n",
       "\n",
       "    function set_focus () {\n",
       "        canvas.focus();\n",
       "        canvas_div.focus();\n",
       "    }\n",
       "\n",
       "    window.setTimeout(set_focus, 100);\n",
       "}\n",
       "\n",
       "mpl.figure.prototype._init_toolbar = function() {\n",
       "    var fig = this;\n",
       "\n",
       "    var nav_element = $('<div/>');\n",
       "    nav_element.attr('style', 'width: 100%');\n",
       "    this.root.append(nav_element);\n",
       "\n",
       "    // Define a callback function for later on.\n",
       "    function toolbar_event(event) {\n",
       "        return fig.toolbar_button_onclick(event['data']);\n",
       "    }\n",
       "    function toolbar_mouse_event(event) {\n",
       "        return fig.toolbar_button_onmouseover(event['data']);\n",
       "    }\n",
       "\n",
       "    for(var toolbar_ind in mpl.toolbar_items) {\n",
       "        var name = mpl.toolbar_items[toolbar_ind][0];\n",
       "        var tooltip = mpl.toolbar_items[toolbar_ind][1];\n",
       "        var image = mpl.toolbar_items[toolbar_ind][2];\n",
       "        var method_name = mpl.toolbar_items[toolbar_ind][3];\n",
       "\n",
       "        if (!name) {\n",
       "            // put a spacer in here.\n",
       "            continue;\n",
       "        }\n",
       "        var button = $('<button/>');\n",
       "        button.addClass('ui-button ui-widget ui-state-default ui-corner-all ' +\n",
       "                        'ui-button-icon-only');\n",
       "        button.attr('role', 'button');\n",
       "        button.attr('aria-disabled', 'false');\n",
       "        button.click(method_name, toolbar_event);\n",
       "        button.mouseover(tooltip, toolbar_mouse_event);\n",
       "\n",
       "        var icon_img = $('<span/>');\n",
       "        icon_img.addClass('ui-button-icon-primary ui-icon');\n",
       "        icon_img.addClass(image);\n",
       "        icon_img.addClass('ui-corner-all');\n",
       "\n",
       "        var tooltip_span = $('<span/>');\n",
       "        tooltip_span.addClass('ui-button-text');\n",
       "        tooltip_span.html(tooltip);\n",
       "\n",
       "        button.append(icon_img);\n",
       "        button.append(tooltip_span);\n",
       "\n",
       "        nav_element.append(button);\n",
       "    }\n",
       "\n",
       "    var fmt_picker_span = $('<span/>');\n",
       "\n",
       "    var fmt_picker = $('<select/>');\n",
       "    fmt_picker.addClass('mpl-toolbar-option ui-widget ui-widget-content');\n",
       "    fmt_picker_span.append(fmt_picker);\n",
       "    nav_element.append(fmt_picker_span);\n",
       "    this.format_dropdown = fmt_picker[0];\n",
       "\n",
       "    for (var ind in mpl.extensions) {\n",
       "        var fmt = mpl.extensions[ind];\n",
       "        var option = $(\n",
       "            '<option/>', {selected: fmt === mpl.default_extension}).html(fmt);\n",
       "        fmt_picker.append(option);\n",
       "    }\n",
       "\n",
       "    // Add hover states to the ui-buttons\n",
       "    $( \".ui-button\" ).hover(\n",
       "        function() { $(this).addClass(\"ui-state-hover\");},\n",
       "        function() { $(this).removeClass(\"ui-state-hover\");}\n",
       "    );\n",
       "\n",
       "    var status_bar = $('<span class=\"mpl-message\"/>');\n",
       "    nav_element.append(status_bar);\n",
       "    this.message = status_bar[0];\n",
       "}\n",
       "\n",
       "mpl.figure.prototype.request_resize = function(x_pixels, y_pixels) {\n",
       "    // Request matplotlib to resize the figure. Matplotlib will then trigger a resize in the client,\n",
       "    // which will in turn request a refresh of the image.\n",
       "    this.send_message('resize', {'width': x_pixels, 'height': y_pixels});\n",
       "}\n",
       "\n",
       "mpl.figure.prototype.send_message = function(type, properties) {\n",
       "    properties['type'] = type;\n",
       "    properties['figure_id'] = this.id;\n",
       "    this.ws.send(JSON.stringify(properties));\n",
       "}\n",
       "\n",
       "mpl.figure.prototype.send_draw_message = function() {\n",
       "    if (!this.waiting) {\n",
       "        this.waiting = true;\n",
       "        this.ws.send(JSON.stringify({type: \"draw\", figure_id: this.id}));\n",
       "    }\n",
       "}\n",
       "\n",
       "\n",
       "mpl.figure.prototype.handle_save = function(fig, msg) {\n",
       "    var format_dropdown = fig.format_dropdown;\n",
       "    var format = format_dropdown.options[format_dropdown.selectedIndex].value;\n",
       "    fig.ondownload(fig, format);\n",
       "}\n",
       "\n",
       "\n",
       "mpl.figure.prototype.handle_resize = function(fig, msg) {\n",
       "    var size = msg['size'];\n",
       "    if (size[0] != fig.canvas.width || size[1] != fig.canvas.height) {\n",
       "        fig._resize_canvas(size[0], size[1]);\n",
       "        fig.send_message(\"refresh\", {});\n",
       "    };\n",
       "}\n",
       "\n",
       "mpl.figure.prototype.handle_rubberband = function(fig, msg) {\n",
       "    var x0 = msg['x0'] / mpl.ratio;\n",
       "    var y0 = (fig.canvas.height - msg['y0']) / mpl.ratio;\n",
       "    var x1 = msg['x1'] / mpl.ratio;\n",
       "    var y1 = (fig.canvas.height - msg['y1']) / mpl.ratio;\n",
       "    x0 = Math.floor(x0) + 0.5;\n",
       "    y0 = Math.floor(y0) + 0.5;\n",
       "    x1 = Math.floor(x1) + 0.5;\n",
       "    y1 = Math.floor(y1) + 0.5;\n",
       "    var min_x = Math.min(x0, x1);\n",
       "    var min_y = Math.min(y0, y1);\n",
       "    var width = Math.abs(x1 - x0);\n",
       "    var height = Math.abs(y1 - y0);\n",
       "\n",
       "    fig.rubberband_context.clearRect(\n",
       "        0, 0, fig.canvas.width / mpl.ratio, fig.canvas.height / mpl.ratio);\n",
       "\n",
       "    fig.rubberband_context.strokeRect(min_x, min_y, width, height);\n",
       "}\n",
       "\n",
       "mpl.figure.prototype.handle_figure_label = function(fig, msg) {\n",
       "    // Updates the figure title.\n",
       "    fig.header.textContent = msg['label'];\n",
       "}\n",
       "\n",
       "mpl.figure.prototype.handle_cursor = function(fig, msg) {\n",
       "    var cursor = msg['cursor'];\n",
       "    switch(cursor)\n",
       "    {\n",
       "    case 0:\n",
       "        cursor = 'pointer';\n",
       "        break;\n",
       "    case 1:\n",
       "        cursor = 'default';\n",
       "        break;\n",
       "    case 2:\n",
       "        cursor = 'crosshair';\n",
       "        break;\n",
       "    case 3:\n",
       "        cursor = 'move';\n",
       "        break;\n",
       "    }\n",
       "    fig.rubberband_canvas.style.cursor = cursor;\n",
       "}\n",
       "\n",
       "mpl.figure.prototype.handle_message = function(fig, msg) {\n",
       "    fig.message.textContent = msg['message'];\n",
       "}\n",
       "\n",
       "mpl.figure.prototype.handle_draw = function(fig, msg) {\n",
       "    // Request the server to send over a new figure.\n",
       "    fig.send_draw_message();\n",
       "}\n",
       "\n",
       "mpl.figure.prototype.handle_image_mode = function(fig, msg) {\n",
       "    fig.image_mode = msg['mode'];\n",
       "}\n",
       "\n",
       "mpl.figure.prototype.updated_canvas_event = function() {\n",
       "    // Called whenever the canvas gets updated.\n",
       "    this.send_message(\"ack\", {});\n",
       "}\n",
       "\n",
       "// A function to construct a web socket function for onmessage handling.\n",
       "// Called in the figure constructor.\n",
       "mpl.figure.prototype._make_on_message_function = function(fig) {\n",
       "    return function socket_on_message(evt) {\n",
       "        if (evt.data instanceof Blob) {\n",
       "            /* FIXME: We get \"Resource interpreted as Image but\n",
       "             * transferred with MIME type text/plain:\" errors on\n",
       "             * Chrome.  But how to set the MIME type?  It doesn't seem\n",
       "             * to be part of the websocket stream */\n",
       "            evt.data.type = \"image/png\";\n",
       "\n",
       "            /* Free the memory for the previous frames */\n",
       "            if (fig.imageObj.src) {\n",
       "                (window.URL || window.webkitURL).revokeObjectURL(\n",
       "                    fig.imageObj.src);\n",
       "            }\n",
       "\n",
       "            fig.imageObj.src = (window.URL || window.webkitURL).createObjectURL(\n",
       "                evt.data);\n",
       "            fig.updated_canvas_event();\n",
       "            fig.waiting = false;\n",
       "            return;\n",
       "        }\n",
       "        else if (typeof evt.data === 'string' && evt.data.slice(0, 21) == \"data:image/png;base64\") {\n",
       "            fig.imageObj.src = evt.data;\n",
       "            fig.updated_canvas_event();\n",
       "            fig.waiting = false;\n",
       "            return;\n",
       "        }\n",
       "\n",
       "        var msg = JSON.parse(evt.data);\n",
       "        var msg_type = msg['type'];\n",
       "\n",
       "        // Call the  \"handle_{type}\" callback, which takes\n",
       "        // the figure and JSON message as its only arguments.\n",
       "        try {\n",
       "            var callback = fig[\"handle_\" + msg_type];\n",
       "        } catch (e) {\n",
       "            console.log(\"No handler for the '\" + msg_type + \"' message type: \", msg);\n",
       "            return;\n",
       "        }\n",
       "\n",
       "        if (callback) {\n",
       "            try {\n",
       "                // console.log(\"Handling '\" + msg_type + \"' message: \", msg);\n",
       "                callback(fig, msg);\n",
       "            } catch (e) {\n",
       "                console.log(\"Exception inside the 'handler_\" + msg_type + \"' callback:\", e, e.stack, msg);\n",
       "            }\n",
       "        }\n",
       "    };\n",
       "}\n",
       "\n",
       "// from http://stackoverflow.com/questions/1114465/getting-mouse-location-in-canvas\n",
       "mpl.findpos = function(e) {\n",
       "    //this section is from http://www.quirksmode.org/js/events_properties.html\n",
       "    var targ;\n",
       "    if (!e)\n",
       "        e = window.event;\n",
       "    if (e.target)\n",
       "        targ = e.target;\n",
       "    else if (e.srcElement)\n",
       "        targ = e.srcElement;\n",
       "    if (targ.nodeType == 3) // defeat Safari bug\n",
       "        targ = targ.parentNode;\n",
       "\n",
       "    // jQuery normalizes the pageX and pageY\n",
       "    // pageX,Y are the mouse positions relative to the document\n",
       "    // offset() returns the position of the element relative to the document\n",
       "    var x = e.pageX - $(targ).offset().left;\n",
       "    var y = e.pageY - $(targ).offset().top;\n",
       "\n",
       "    return {\"x\": x, \"y\": y};\n",
       "};\n",
       "\n",
       "/*\n",
       " * return a copy of an object with only non-object keys\n",
       " * we need this to avoid circular references\n",
       " * http://stackoverflow.com/a/24161582/3208463\n",
       " */\n",
       "function simpleKeys (original) {\n",
       "  return Object.keys(original).reduce(function (obj, key) {\n",
       "    if (typeof original[key] !== 'object')\n",
       "        obj[key] = original[key]\n",
       "    return obj;\n",
       "  }, {});\n",
       "}\n",
       "\n",
       "mpl.figure.prototype.mouse_event = function(event, name) {\n",
       "    var canvas_pos = mpl.findpos(event)\n",
       "\n",
       "    if (name === 'button_press')\n",
       "    {\n",
       "        this.canvas.focus();\n",
       "        this.canvas_div.focus();\n",
       "    }\n",
       "\n",
       "    var x = canvas_pos.x * mpl.ratio;\n",
       "    var y = canvas_pos.y * mpl.ratio;\n",
       "\n",
       "    this.send_message(name, {x: x, y: y, button: event.button,\n",
       "                             step: event.step,\n",
       "                             guiEvent: simpleKeys(event)});\n",
       "\n",
       "    /* This prevents the web browser from automatically changing to\n",
       "     * the text insertion cursor when the button is pressed.  We want\n",
       "     * to control all of the cursor setting manually through the\n",
       "     * 'cursor' event from matplotlib */\n",
       "    event.preventDefault();\n",
       "    return false;\n",
       "}\n",
       "\n",
       "mpl.figure.prototype._key_event_extra = function(event, name) {\n",
       "    // Handle any extra behaviour associated with a key event\n",
       "}\n",
       "\n",
       "mpl.figure.prototype.key_event = function(event, name) {\n",
       "\n",
       "    // Prevent repeat events\n",
       "    if (name == 'key_press')\n",
       "    {\n",
       "        if (event.which === this._key)\n",
       "            return;\n",
       "        else\n",
       "            this._key = event.which;\n",
       "    }\n",
       "    if (name == 'key_release')\n",
       "        this._key = null;\n",
       "\n",
       "    var value = '';\n",
       "    if (event.ctrlKey && event.which != 17)\n",
       "        value += \"ctrl+\";\n",
       "    if (event.altKey && event.which != 18)\n",
       "        value += \"alt+\";\n",
       "    if (event.shiftKey && event.which != 16)\n",
       "        value += \"shift+\";\n",
       "\n",
       "    value += 'k';\n",
       "    value += event.which.toString();\n",
       "\n",
       "    this._key_event_extra(event, name);\n",
       "\n",
       "    this.send_message(name, {key: value,\n",
       "                             guiEvent: simpleKeys(event)});\n",
       "    return false;\n",
       "}\n",
       "\n",
       "mpl.figure.prototype.toolbar_button_onclick = function(name) {\n",
       "    if (name == 'download') {\n",
       "        this.handle_save(this, null);\n",
       "    } else {\n",
       "        this.send_message(\"toolbar_button\", {name: name});\n",
       "    }\n",
       "};\n",
       "\n",
       "mpl.figure.prototype.toolbar_button_onmouseover = function(tooltip) {\n",
       "    this.message.textContent = tooltip;\n",
       "};\n",
       "mpl.toolbar_items = [[\"Home\", \"Reset original view\", \"fa fa-home icon-home\", \"home\"], [\"Back\", \"Back to previous view\", \"fa fa-arrow-left icon-arrow-left\", \"back\"], [\"Forward\", \"Forward to next view\", \"fa fa-arrow-right icon-arrow-right\", \"forward\"], [\"\", \"\", \"\", \"\"], [\"Pan\", \"Pan axes with left mouse, zoom with right\", \"fa fa-arrows icon-move\", \"pan\"], [\"Zoom\", \"Zoom to rectangle\", \"fa fa-square-o icon-check-empty\", \"zoom\"], [\"\", \"\", \"\", \"\"], [\"Download\", \"Download plot\", \"fa fa-floppy-o icon-save\", \"download\"]];\n",
       "\n",
       "mpl.extensions = [\"eps\", \"jpeg\", \"pdf\", \"png\", \"ps\", \"raw\", \"svg\", \"tif\"];\n",
       "\n",
       "mpl.default_extension = \"png\";var comm_websocket_adapter = function(comm) {\n",
       "    // Create a \"websocket\"-like object which calls the given IPython comm\n",
       "    // object with the appropriate methods. Currently this is a non binary\n",
       "    // socket, so there is still some room for performance tuning.\n",
       "    var ws = {};\n",
       "\n",
       "    ws.close = function() {\n",
       "        comm.close()\n",
       "    };\n",
       "    ws.send = function(m) {\n",
       "        //console.log('sending', m);\n",
       "        comm.send(m);\n",
       "    };\n",
       "    // Register the callback with on_msg.\n",
       "    comm.on_msg(function(msg) {\n",
       "        //console.log('receiving', msg['content']['data'], msg);\n",
       "        // Pass the mpl event to the overridden (by mpl) onmessage function.\n",
       "        ws.onmessage(msg['content']['data'])\n",
       "    });\n",
       "    return ws;\n",
       "}\n",
       "\n",
       "mpl.mpl_figure_comm = function(comm, msg) {\n",
       "    // This is the function which gets called when the mpl process\n",
       "    // starts-up an IPython Comm through the \"matplotlib\" channel.\n",
       "\n",
       "    var id = msg.content.data.id;\n",
       "    // Get hold of the div created by the display call when the Comm\n",
       "    // socket was opened in Python.\n",
       "    var element = $(\"#\" + id);\n",
       "    var ws_proxy = comm_websocket_adapter(comm)\n",
       "\n",
       "    function ondownload(figure, format) {\n",
       "        window.open(figure.imageObj.src);\n",
       "    }\n",
       "\n",
       "    var fig = new mpl.figure(id, ws_proxy,\n",
       "                           ondownload,\n",
       "                           element.get(0));\n",
       "\n",
       "    // Call onopen now - mpl needs it, as it is assuming we've passed it a real\n",
       "    // web socket which is closed, not our websocket->open comm proxy.\n",
       "    ws_proxy.onopen();\n",
       "\n",
       "    fig.parent_element = element.get(0);\n",
       "    fig.cell_info = mpl.find_output_cell(\"<div id='\" + id + \"'></div>\");\n",
       "    if (!fig.cell_info) {\n",
       "        console.error(\"Failed to find cell for figure\", id, fig);\n",
       "        return;\n",
       "    }\n",
       "\n",
       "    var output_index = fig.cell_info[2]\n",
       "    var cell = fig.cell_info[0];\n",
       "\n",
       "};\n",
       "\n",
       "mpl.figure.prototype.handle_close = function(fig, msg) {\n",
       "    var width = fig.canvas.width/mpl.ratio\n",
       "    fig.root.unbind('remove')\n",
       "\n",
       "    // Update the output cell to use the data from the current canvas.\n",
       "    fig.push_to_output();\n",
       "    var dataURL = fig.canvas.toDataURL();\n",
       "    // Re-enable the keyboard manager in IPython - without this line, in FF,\n",
       "    // the notebook keyboard shortcuts fail.\n",
       "    IPython.keyboard_manager.enable()\n",
       "    $(fig.parent_element).html('<img src=\"' + dataURL + '\" width=\"' + width + '\">');\n",
       "    fig.close_ws(fig, msg);\n",
       "}\n",
       "\n",
       "mpl.figure.prototype.close_ws = function(fig, msg){\n",
       "    fig.send_message('closing', msg);\n",
       "    // fig.ws.close()\n",
       "}\n",
       "\n",
       "mpl.figure.prototype.push_to_output = function(remove_interactive) {\n",
       "    // Turn the data on the canvas into data in the output cell.\n",
       "    var width = this.canvas.width/mpl.ratio\n",
       "    var dataURL = this.canvas.toDataURL();\n",
       "    this.cell_info[1]['text/html'] = '<img src=\"' + dataURL + '\" width=\"' + width + '\">';\n",
       "}\n",
       "\n",
       "mpl.figure.prototype.updated_canvas_event = function() {\n",
       "    // Tell IPython that the notebook contents must change.\n",
       "    IPython.notebook.set_dirty(true);\n",
       "    this.send_message(\"ack\", {});\n",
       "    var fig = this;\n",
       "    // Wait a second, then push the new image to the DOM so\n",
       "    // that it is saved nicely (might be nice to debounce this).\n",
       "    setTimeout(function () { fig.push_to_output() }, 1000);\n",
       "}\n",
       "\n",
       "mpl.figure.prototype._init_toolbar = function() {\n",
       "    var fig = this;\n",
       "\n",
       "    var nav_element = $('<div/>');\n",
       "    nav_element.attr('style', 'width: 100%');\n",
       "    this.root.append(nav_element);\n",
       "\n",
       "    // Define a callback function for later on.\n",
       "    function toolbar_event(event) {\n",
       "        return fig.toolbar_button_onclick(event['data']);\n",
       "    }\n",
       "    function toolbar_mouse_event(event) {\n",
       "        return fig.toolbar_button_onmouseover(event['data']);\n",
       "    }\n",
       "\n",
       "    for(var toolbar_ind in mpl.toolbar_items){\n",
       "        var name = mpl.toolbar_items[toolbar_ind][0];\n",
       "        var tooltip = mpl.toolbar_items[toolbar_ind][1];\n",
       "        var image = mpl.toolbar_items[toolbar_ind][2];\n",
       "        var method_name = mpl.toolbar_items[toolbar_ind][3];\n",
       "\n",
       "        if (!name) { continue; };\n",
       "\n",
       "        var button = $('<button class=\"btn btn-default\" href=\"#\" title=\"' + name + '\"><i class=\"fa ' + image + ' fa-lg\"></i></button>');\n",
       "        button.click(method_name, toolbar_event);\n",
       "        button.mouseover(tooltip, toolbar_mouse_event);\n",
       "        nav_element.append(button);\n",
       "    }\n",
       "\n",
       "    // Add the status bar.\n",
       "    var status_bar = $('<span class=\"mpl-message\" style=\"text-align:right; float: right;\"/>');\n",
       "    nav_element.append(status_bar);\n",
       "    this.message = status_bar[0];\n",
       "\n",
       "    // Add the close button to the window.\n",
       "    var buttongrp = $('<div class=\"btn-group inline pull-right\"></div>');\n",
       "    var button = $('<button class=\"btn btn-mini btn-primary\" href=\"#\" title=\"Stop Interaction\"><i class=\"fa fa-power-off icon-remove icon-large\"></i></button>');\n",
       "    button.click(function (evt) { fig.handle_close(fig, {}); } );\n",
       "    button.mouseover('Stop Interaction', toolbar_mouse_event);\n",
       "    buttongrp.append(button);\n",
       "    var titlebar = this.root.find($('.ui-dialog-titlebar'));\n",
       "    titlebar.prepend(buttongrp);\n",
       "}\n",
       "\n",
       "mpl.figure.prototype._root_extra_style = function(el){\n",
       "    var fig = this\n",
       "    el.on(\"remove\", function(){\n",
       "\tfig.close_ws(fig, {});\n",
       "    });\n",
       "}\n",
       "\n",
       "mpl.figure.prototype._canvas_extra_style = function(el){\n",
       "    // this is important to make the div 'focusable\n",
       "    el.attr('tabindex', 0)\n",
       "    // reach out to IPython and tell the keyboard manager to turn it's self\n",
       "    // off when our div gets focus\n",
       "\n",
       "    // location in version 3\n",
       "    if (IPython.notebook.keyboard_manager) {\n",
       "        IPython.notebook.keyboard_manager.register_events(el);\n",
       "    }\n",
       "    else {\n",
       "        // location in version 2\n",
       "        IPython.keyboard_manager.register_events(el);\n",
       "    }\n",
       "\n",
       "}\n",
       "\n",
       "mpl.figure.prototype._key_event_extra = function(event, name) {\n",
       "    var manager = IPython.notebook.keyboard_manager;\n",
       "    if (!manager)\n",
       "        manager = IPython.keyboard_manager;\n",
       "\n",
       "    // Check for shift+enter\n",
       "    if (event.shiftKey && event.which == 13) {\n",
       "        this.canvas_div.blur();\n",
       "        // select the cell after this one\n",
       "        var index = IPython.notebook.find_cell_index(this.cell_info[0]);\n",
       "        IPython.notebook.select(index + 1);\n",
       "    }\n",
       "}\n",
       "\n",
       "mpl.figure.prototype.handle_save = function(fig, msg) {\n",
       "    fig.ondownload(fig, null);\n",
       "}\n",
       "\n",
       "\n",
       "mpl.find_output_cell = function(html_output) {\n",
       "    // Return the cell and output element which can be found *uniquely* in the notebook.\n",
       "    // Note - this is a bit hacky, but it is done because the \"notebook_saving.Notebook\"\n",
       "    // IPython event is triggered only after the cells have been serialised, which for\n",
       "    // our purposes (turning an active figure into a static one), is too late.\n",
       "    var cells = IPython.notebook.get_cells();\n",
       "    var ncells = cells.length;\n",
       "    for (var i=0; i<ncells; i++) {\n",
       "        var cell = cells[i];\n",
       "        if (cell.cell_type === 'code'){\n",
       "            for (var j=0; j<cell.output_area.outputs.length; j++) {\n",
       "                var data = cell.output_area.outputs[j];\n",
       "                if (data.data) {\n",
       "                    // IPython >= 3 moved mimebundle to data attribute of output\n",
       "                    data = data.data;\n",
       "                }\n",
       "                if (data['text/html'] == html_output) {\n",
       "                    return [cell, data, j];\n",
       "                }\n",
       "            }\n",
       "        }\n",
       "    }\n",
       "}\n",
       "\n",
       "// Register the function which deals with the matplotlib target/channel.\n",
       "// The kernel may be null if the page has been refreshed.\n",
       "if (IPython.notebook.kernel != null) {\n",
       "    IPython.notebook.kernel.comm_manager.register_target('matplotlib', mpl.mpl_figure_comm);\n",
       "}\n"
      ],
      "text/plain": [
       "<IPython.core.display.Javascript object>"
      ]
     },
     "metadata": {},
     "output_type": "display_data"
    },
    {
     "data": {
      "text/html": [
       "<img src=\"data:image/png;base64,iVBORw0KGgoAAAANSUhEUgAAAoAAAAHgCAYAAAA10dzkAAAgAElEQVR4nOydd3hT1eP/IyLTiYogSqG0DBegfhFERUBEBfzJHgVRUCo40A+yEWXvIgi00AIte+/RlkKhQHdL926TJm1ucrtn9n3//mgTmjazTXqT5rye5/1U25ubk+TcwyvnnsEBgUAgEAgEAsGh4LBdAAKBQCAQCARC80IEkEAgEAgEAsHBIAJIIBAIBAKB4GAQASQQCAQCgUBwMIgAEggEAoFAIDgYRAAJBAKBQCAQHAwigAQCgUAgEAgOBhFAAoFAIBAIBAeDCKANEhYWhkmTJqFLly546qmn8Morr2DixIkIDQ1tcOzff/8NDoeDgoICFkrKLk5OTpg9e7bR4woLC7Fs2TL069cPHTp0wLPPPos+ffpg5syZiI+P1xx3+PBhcDgccLlc6xXaDGytPATHQl3/1HnyySfRpUsXTJ06FRkZGWwXz+JUVVXh77//RnBwMKvl2LBhAy5evGjx83K5XHA4HBw+fNjosSkpKZg5cyZ69uyJtm3b4sUXX8TAgQPx888/o6ysTHPc7Nmz4eTkZPGyNhZbK4+tQwTQxti9ezdatWqFwYMH48iRI7h37x6OHj2KwYMHo1WrVvjvv/+0jicCONvgMRUVFXBxcUGXLl2wY8cOBAUF4erVq9ixYweGDh0KPz8/zbE0TSMsLAxSqdTKJTcNIoAENlHXv8OHDyMsLAzBwcFYv3492rdvj86dO6O4uJjtIlqUgoICcDgc/P3336yWo2PHjiZ9sTUXUwUwNjYW7du3x7vvvovDhw8jODgYZ8+exapVq+Di4qLVHmVlZSE2NtbiZW0sRADNgwigDfHgwQO0atUKY8eOhUKh0PqbQqHA2LFj0apVKzx48EDze1sSwOrq6mZ9PlME8NChQ+BwOLhz547Ov6tUKiuUzDIQASSwibr+RUVFaf1+zZo14HA4OHToEEslsw7mCmBVVZVVysG2AH777bfo2LEjysvLdf6dYRiLl81SEAE0DyKANsSYMWPw5JNPQiAQ6Pw7n8/Hk08+ibFjx2p+pxbA2NhYjB8/Hs888wyeffZZuLm5gaZprcffvn0bw4YNQ6dOndCuXTu8/vrrmDBhglZDJpPJsG7dOvTp0wdt2rTBSy+9hO+++67BuZycnDBmzBicP38eAwYMQNu2bbF06VIMGDAAH330UYOyK5VKvPrqqxg/frzZzyWXy7F48WK88soraN++PYYOHYqIiAiTBHDbtm3gcDhITU01eBygW7gYhsGGDRvQvXt3tG3bFu+99x4CAwMxbNgwDBs2THNccHAwOBwOTpw4gRUrVqBr16545plnMHLkSKSlpWk9T2BgIL7++mt069YNbdu2Ra9evTBv3rwGEk8EkMAm+gTw+vXr4HA42LRpU4PHnDp1CoMHD0aHDh3QsWNHfP755zp7iMLDwzF27Fh06tQJbdu2hbOzMxYuXKh1zP379zFixAg8/fTTaN++PYYMGYJr167pLOOdO3fw008/4cUXX0SnTp0wfvx45Ofnax1rqP1Ty1H9qNsXdTsbExODiRMn4vnnn0eXLl0AoEFboEaXjEilUqxZswZ9+/ZF27Zt0alTJ3z66ad4+PAhAOgsQ91zUxSFefPmoVu3bnjqqafQo0cP/PPPPw06DPLz8zF58mQ8/fTTePbZZzFlyhSEhYWZJIBjxoxB165dTRI9Xa+xpKQEc+bMwQsvvICOHTviq6++QnZ2dgO5Vr+nSUlJmDZtGp599ll07twZ33//PUpLS7XOuWfPHnz88cd4+eWX0aFDB7z11lvYsmUL5HK50fIQ9EME0EZQKpXo0KEDPvjgA4PHDRo0CB06dIBSqQTw+CJycnLC4sWLERAQAA8PD3Ts2BEDBw7UXCBcLhft2rXDqFGjcOnSJdy9exfHjx/HrFmzUFJSAqCmN+yLL75Ax44dsWbNGty6dQs+Pj7o1q0b3njjDa0ePicnJ3Tt2hXOzs44dOgQgoODERkZiV27doHD4TQYI3Tjxg1wOBxcuXLF7OeaPXs2nnjiCSxevBiBgYHw8PBAt27d8OyzzxoVwAcPHoDD4eD//u//cPHiRRQWFuo9VpdwLV++HBwOB/PmzYO/vz+8vb3RvXt3dO3aVacA9ujRA25ubrh+/TpOnjyJ7t27w9XVVfN5AYCnpyc2bdqEK1eu4N69e/Dz80P//v3Rp08frQaNCCCBTfQJ4J49e8DhcHD+/Hmt32/YsAFPPPEE5syZg2vXruHChQsYMmQIOnbsiOTkZM1x/v7+eOqpp/DOO+/A19cXd+7cwaFDhzBt2jTNMXfv3sVTTz2F9957D6dPn8alS5fw+eef44knnsCpU6calNHZ2Rm//vorAgIC4OPjgxdeeAHDhw/XHGes/ZNKpfD39weHw8HcuXMRFhaGsLAwZGVlAdBuZ5cuXYpbt27h0qVLAEwXQIVCgeHDh6N169b4888/cePGDVy5cgUrVqzAyZMnAdSM/27fvj2++uorTRnU7x1FUXj99dfh5OSE/fv3IygoCOvWrUPbtm3x3XffaZ6nuroa/fr1w3PPPYf//vsPAQEB+O2339C9e3eTBHD9+vXgcDiYPn067t69a/DOTv3XqFKp8NFHH6Fdu3bYvHkzAgMDsWbNGri6uuoVwD59+mD16tW4desWPDw80LZtW3z//fdaz/PHH3/A09MT/v7+uHPnDnbu3ImXXnqpwXFEAM2DCKCNIBKJwOFwtBpBXUydOhUcDgdisRjA44vojz/+0Dru+PHj4HA4OHbsGADg3Llz4HA4iIuL03vukydP6mzYo6KiwOFwsG/fPs3vnJyc8OSTTyI9PV3r2MLCQrRp0wYrVqzQ+v2UKVPwyiuvaL6pmvpcqampBl+fKbdK1q5dizZt2mi+Uffs2RM//fST1gQQoKFwFRcXo23btpg6darWcepv0roE8KuvvtI69syZM+BwOAgLC9NZNoZhoFAokJubCw6Hg8uXL+stD4HQnKjrX3h4OBQKBSoqKuDv748uXbrgk08+0ep14vP5aN26NX799Vetc1RUVKBLly6YMmWK5ne9evVCr169IJFI9D734MGD0blzZ1RUVGh+p1Qq8dZbb+G1117T9E6py7hgwQKtx2/duhUcDgcURQEwrf0zdAtY3c6uXr26wd9MFcAjR46Aw+HA29tbbxkA/beA3d3d8fTTTyM3N1fr99u3bweHw9GIoqenZ4O2BAB+/PFHkwRQKpXim2++0Zr8M3DgQKxcubLB3Zn6r1HdO+zp6al13KZNm/QK4NatW7WOXbBgAdq1a6e3B1KlUkGhUODIkSN48skntcaiEgE0DyKANoKpAjhlyhRwOBzNhai+iKKjo7WOUygUaN26NebOnQugZrBumzZtMGjQIPj6+iI7O7vBud3c3PD8889DLpdDoVBopX4j7uTkhIEDB+os48SJE9GtWzfN+Dq1SC1evNjs59q3b5/B12fqWBmRSIRDhw7B3d0db7/9NjgcDlq3bo0TJ05ojqkvXOpey/qSCgA9evTQKYBeXl5ax6WlpYHD4Wj1WojFYri7u+O1115Dq1attG73bN68WW95CITmpP4sYHX69eunuWugxtvbW9NbWP96njp1Kjp37gwASE9PB4fDwcaNG/U+b2VlJZ544okGUgcAW7Zs0RrSoS6jv7+/1nHq3rzw8HAAprV/pghg/S+NgOkCOH36dLRr187ouGN9AtitWzeMGzeuwfubnJys9aV5ypQpeOaZZxo8Xt1GmTILGKiZCbxz5064ubnhtddeA4fDwYsvvqg1pKX+a1yyZAk4HA6Kioq0zsXj8fQKYP0hMl5eXuBwOBCJRJrfxcbGYty4cejUqVOD+qj+jHWVh2AYIoA2QlNvAefl5TU49pVXXsE333yj+f+QkBCMHTsWHTt21Nw2+ffffzV//+yzz3Q2+OqMGDFCc6yTk1OD3i416m+B6kZ57969Wt9QzXmudevWGXx9jR0sfe/ePXTo0AEvv/yy5nf1hevo0aPgcDhak27UfPDBBzoF8OzZs1rH1R94rVKp0L9/f7z88svYvXu35tZ5eHh4gwaSCCCBTdT178iRI4iKisKdO3fg7u4ODoeDL774QutY9W1DfWnVqhWAx0Myjhw5ovd5BQIBOBwO1q1b1+Bv9a9Jfbep1ddj3SVdjLV/pghg/R4wwHQB/Oyzz+Ds7Kz3davRJ4CtW7c2+B6vXbsWADBy5Ei4uLg0eLz6boqpAlgXhmHg4eEBDoeDyZMn632Nc+fORevWrRs8XiKR6BVAY2Ofc3Nz0bFjR7z77rs4evQo7t+/j6ioKM2/K3U/YyKA5kEE0IYwNglEIBDonQRirAewLkqlEuHh4XBzcwOHw9GMP5k2bRpefPFFREVF6Uzdb2rqSSC6UE/4UN86ff/99xuIranPZakeQF2ob3Oob6eb0wPo5OTUKAGMj48Hh8OBr6+v1nGZmZlEAAk2hT65+uGHHxrUdXWvzblz5/Re04DpPYCtWrUy2AOobh/MEUA1+to/UwRQ12oLo0ePxuDBgxv8fsyYMRbtAezSpQs+//xzve+vetKLpXoAdfH888+jX79+mv83tQdQ3Q42RgDV48p5PJ7WcepeZyKAjYcIoA2hXgZm3LhxWpMGgJpGS70MjHrGGGB8DODRo0f1Pl9paSk4HI7m1uyxY8cadKnrw5AAAsDSpUvRtm1bhISEgMPhYP/+/Vp/N/W5UlJSDL4+YwIoEol0NrhKpRJvvvkmOnToAJlMBqBhw1NUVIS2bdtq3foGDI8BNCaACQkJWv/oqPnzzz+JABJsCn1yVVxcjBdeeAH9+vXTXFtcLhetW7fGli1bjJ63V69ecHFxMbje5pAhQ9ClSxetCQgqlQpvv/22zjGA5gigmvrtX3l5OTgcDpYsWdLgWEMC6O7ujk6dOmm9nsLCQrzwwgs6xwAePHhQb5kAoFOnTg3aHKBGvF999VWj6y82dQygUCjU+fv8/Hy0atUKI0eO1PxO3xjAuuPFAcNjAI0J4O7du8HhPB7PCdT0SA4aNIgIYBMhAmhj1F0I+tixYwgJCcGxY8cwZMgQtGrVCrt379Y6vv4s4MDAQOzcuRNPP/00+vfvr5EbT09PTJ48WTPr7saNG5g0aRI4HA4CAgIA1EjRl19+iU6dOmHNmjW4efMmgoKC4Ovri9mzZ+PChQua5zUmgOpv+q+99hrat2/fYFq/Oc81c+ZMPPHEE1iyZIlmFvCrr75q0izgbdu2wcXFBatXr8bVq1cREhKCEydOYMSIEeBwtAd1G5oF7O7uDn9/f/j4+OD1119H165dtWYZmiqAcrkcvXr1gpOTE06cOAF/f3/8/PPP6N27NxFAgk2hT66Ax5Ms6n7B3LhxI1q3bg13d3dcvHgRd+/exenTp7Fo0SKt60w9C3jAgAHw8/NDcHAw/Pz8MGPGDM0x6lnAH3zwAc6ePYvLly9j9OjRemcBGxNAU9o/oKZd69OnDwICAhAVFaW59gwJoPq29qRJkxAQEIATJ05gwIABcHJy0jkL+KmnnsKSJUtw8+ZNXL9+HatXr9b6Qjhs2DB07twZV65c0bobIhQK4eTkhL59+2Lfvn24ffs2rl+/jr1792LMmDGaO0dVVVXo3bs3nnvuOezZswcBAQFYuHChybOAx44di48++gg7d+7ErVu3cOfOHezbtw+urq5o3bo1AgMDNcfqmgU8dOhQtG/fHps3b8atW7ewdu1auLi4gMPhYM2aNZpjTRXA1NRUtGnTBp9++ilu3LiBCxcuYNSoUZqZxUQAGw8RQBtEvRXcK6+8gtatW6Nz586YMGGCwa3gYmJiMG7cODz99NN45plnMH36dM2tTfU5x48fDycnJ83WPsOGDdMsy6JGoVBg+/bt6N+/P9q1a4enn34affv2hbu7OzIzMzXHGRNAAPjwww/B4XDg5uam8++mPpdMJsOiRYvQuXNntGvXDoMHD0ZYWJhJ6wCmpKRg0aJFeP/99/Hyyy+jdevWeOGFFzBs2LAGvaP61gFcv349XnvtNbRp0wbvvPMOrl27hv79+2utaWiqAKrLNGrUKDzzzDN44YUXMHnyZPD5fCKABJvCkABKJBKdSxxdunQJw4cPx7PPPou2bdvCyckJkyZNQlBQkNbjw8LC8OWXX+K5557TrIVZv5dfvQ5gx44d0b59ewwePBhXr141qYz1BdDU9i8oKAgDBw5E27Ztte4wGFtw38/PD/369UO7du3wxhtv4PTp0zplRCKRYPXq1XB1dUWbNm3w4osvYsSIEVpte1xcHIYOHYoOHTo0uNNQUFCA3377DT179sRTTz2FTp064b333sPKlStRWVmpOS4vLw8TJ07U/Hug3krUFAEMCAjAnDlz8MYbb+C5555D69at0bVrV0yYMKHBaga6XmNxcTG+//57PP/88+jQoQNGjRqlGeO8a9cuzXGmCiAAXL16VfPvRLdu3bB48WLcvHmTCGATIQJIIJhJTk4O2rRpgw0bNrBdFAKBQLB51EN26g5fIrAPEUACwQBxcXFYunQpLl++jODgYHh5ecHZ2RkvvfSS1jIFBAKBQABOnDiBbdu2wd/fH4GBgVi7di2eeeYZfPLJJ2wXjVAPIoAEggEyMzMxcuRIvPTSS2jdujVefPFFTJw4scHaVQQCgUCouV373nvvaW4fv/766/j1119RVlbGdtEI9SACSCAQCAQCgeBgEAEkEAgEAoFAcDCIABIIBAKBQCA4GEQACQQCgUAgEByMZhdAlUoFgUCA0tJSlJWVkZCQkJid0tJSCAQCo9tqsQFp40hISJqa5mjjml0A1Rt9k5CQkDQ1+vbNZhNHbOM+eLctFFQvo5ELnfHUU48f99HgdiY9TkH1gkTgjCN7Oze6jP16P4UZE5/GxLEd0emFVqy/ZyT2lckHhuGXmOn4JWaGgUzHXwlf4+/Er/F34jjsSB4FjxT92RY/EhNW9TX4vNZs45pdANX7LwoEAtYNm4SExD6jlqz6WwzaAo7YxknFMyE3UeQqCw9rHiehf4Wc6m2aPFK9UFV4kPXXSuKYeUSFGpW/P2Kn1MpfTbYkjzYqgSni+zqfrznauGYXwLKyMnA4HJSVkTWBCARC47DldsSWy2YtFAVjTO7JU1b89/hxheNNfJwrFKKBYFSVBkpBIFiXTcm/6+kFnI5fYqZjZfw3WgK4NnEMdiSP0imBO1O+wLGcBWAY3bd4m6MdIQJIIBDsDltuR2ylbAyjgLz6JiSlayEpXQe55Lbef2yairLoe5MFUCUJqSmfIhcKaohpjxO9BUbWcE9iAqE5kalk2J66pI4E1vz8LWYaVtSTP3XWJ32lkcAdyaOwM2U0PFJG4VjOAlQqivU+FxFAAoFA0IEttyO2UDalPBnl1CCU5b+OsvyetXkd5aJPoFRkN+qcDCMFo6oEwzAN/qaSxZkogC41x1edqenVM+UxhVPAKPOb9H40fC0yqCQ3oarYDVWlNxgF16LnJ7RsxJJ8nMn1whGuB07wDmF+1HSsTmgof0sfTcDi2In4K34cVieMw6r4/4fNCQuwL/4EAnJjsDZpM36LXYilcfNxib8FgopIzZc0IoAEAsGhKJFV4hTvATxSrsAnMwi5lbTO42y5HWG7bCqlGGXCt1CW36NWAOumB8qp98GoTC+bUnIbsoIpkAp71kQ8HMpKPzCMUus4hehjE2TuWzCyGJN7CxVULygl9y323jAKPhTFv0FB9X18a7lWRJUlv4Fhqi32XATH4JLgIb6+t0BL/OaEfosPri1Fn/Nr0Of8GrxzaRU+D/oN30Z8j0FnVmDQheX45v58THg4HxMeumN66A9wC5uDBdHTcDRrEoqkWUQACQSC43CK9wBDA1ZisP9yDA1YiSH+y/GB/zKsSzwLhUpbNmy5HWG7bJKy7SjLd9Ihf+p0h7TioEnnUlT41Iqf82MBFDpDKnSGvHiBlgQqlTIoqH7Gx/IVuJkngBWeFnlfVFVHjZet2N0iz0VwHPyFURgWtAizw2bj78SvMeXej7Xi949GANX///7VZRh4fgUmPJyP8Q/m46coN6xP/EozLnBL0misjh+Hg+kjQRVnEwEkEAgtnxv5sfjAf5nODPZfjs1JF7SOt+V2hO2yVYg+MSB/NamkvzF6HoXkJiQa6dMdZdV5zfEMo4CCese4ZFEuZgmgqsJbZ/kYJQVGngpGpX8clRqVNMTk52PkSaa/2QSHp0RWgRG3F2NY0CJ8fcddh/hpS2Cf039j/IP5WBgzFR4pDSeI1IwTHIlr2X8SASQQCC0bFaPC+Htb9ArgB/7LMMR/OWjJ4zbDltsRtstWTr1nVAArxCMNnkMpi0e10BkSYQ8DAtgLsoKvNY9hVEUmCJZpS75oCaBSrFU2RhYOReEULalUFv9scByfosjNRPHsDWX5lia9/wTHY1faRXwatAgux9YZFMDe59bA9ewauIXNNbg0zI7kUdiTOowIIIFAaNlklAkNyl9NL+AynOeHax5jy+0I22WrLJiuZ/zf43GAVUULDJ6jumA8qg3Knzp9NY9hGKkJgmemABaO1yqXShqsNW5P67yigWAUOQ1eC8PIzHjOPlCWrrTMB0FwGBQqJTYln4TLyXXofU5f799jCfwpbBq2G1gfUN0LSASwmbiXLkYqVaZzhhuBQLAeccVcowI4JGA5jubc0zzGVtsRgP2yyauvG+0BVEhD9T5epchBpbA7qoU9jPQA9oSUekfrscriXxrVy6d3/J8sRXNuhpFDIR5koCevNxRFcxq8HoapNuM5XaGq2G+5D4PgULgcN00A/xc5yWAPYE0+IwLYXAzbGozFZxIwdX8YdgSkI0NUznaRCASHoFBarpnwYSgh4scyYKvtCMB+2RhGhaqiBSjL764lfSV5NT8DIn/Etfg8VMkUOh+vlN5HpbA7qoRORm8By0uWaj+3PAU1E0F0LfHiCkXxPCjocaYLWelqzblVklsmPMYFjFJY7/1goKBHmnwLmFEWWP5DITgErj6bjcqfy/F1WBI73mAPIBHAZkRcLoH7kRjwCmTIoaW4HCvSyODmm6lIyi8lPYMEghVZGnsUHwas0DsJ5Ks767VmAttiO6LGFsrGMEpIK/bXWQvwddCCIRCKDiOWV4bdQVmY5RMB9yPRuBArQLlErnmsUp6ESmF3VAq7Q6KnF7Dmdy5QydMaPrcsHArxEI1QqSd+KEt+r+mNK9ttXo9c7ZI1qkpvPWKpHUYW0aBMqsojJgmgqvKQ9T4UQotnib8/XM+s0dkL2PtcTZx9NuCHiFlG5e+/1OFEAJuDA/eycSxMAF6BTCs5tBTX48VYfj4RU/eHYd3VZMTmFhMZJBAsjLC6GF/eWd9AAof4L8eHASsQXpChdbwttiNqbKlsDKOCRMqHu+818GhpTdtGV0AovgaRyBvZgtPwDk7Cd4ciMdc3Cqej+CiplKJKPAyVQieNBKql73F6Qll9w8DzKqCS3IaqYh9UlYfBKPiav6kq9pp3K1j8MRiGgarqlEnHM/IUHeVRQlE838BzfAhV9RWrfAYEx0GiUOCNPR5wPb1WS/rU/+28fxOcDm7Ch5cWY0Pil3r2Cf4MHimfYX/ax0QArY1KxWCqVxiyxJIGAlg3XFqKwKQC/HUpGdMPhOGPU49wJS4fJVUytl8CgdAiEEtKsS7xLD4KWKmZ+LEw+hASS3IbHGtr7UhdbKFsDKNCdcUplBYvRXjKZnjeeQRegQxC0TmU5fdFaf5rKKlNaX5PiKgtSMqrgPc9Hub6RmHblT2oyO+OivzutbeDu6Na6IRqoROqhE6Qlu9sdNlUkjvmjwWs8ASjKoSC6mPw9q+CHqH3CzrDKGt2ICkYW9sz+SYURXOgkviTL/UEi1EukeBz34Nw9tyMXkfWo9fR9XD22QDnXVvh5LkZToc2wclvE1ZGjsOO5M9qpC/5s1rxG4WdKZ/BM/UTeKcPJQJobc5FC7DdP8Og/OlKVE4Z9t7JwQ++0XDzDsfOwHQk55NJJARCU6lWyJBXVYRSWZXeY2ytHakL22UrLV0PvqAruIIumvAFXUDljUJJfjeN+NWPmPpL075liSQIS/FFAf8NVAq7ozy/pjewQtgbsoq9TWrnGEYJhXio2RKokt6DsmyjwVu5quprhp9bVQJGmQ+GIV/cCdalRFKNc0lJOJOYgN9uX0HPg1vR3XsLuh/Ygu4HNuOLa79gT8oweKZ+gj2pn+K/1E+xL3UY9qd+BO/0oUQArU1JlQyTPEORKTLc+2csWWIJLseKNLeKV15IxINMGgqldTZeJxAcHVtqR+rDZtlKS9ZoiV/90Hmv6hXAkvzXwBPT2u0bXQ6h+Aqy+f/hZrQXfvK7h+8OReLQgxyIyiSNLmfNdnDGdg3RcZtWJYOybB0eLwXTp1YI34Cq6qTe51NJH0BROPXxuUT9oSzbYNaWeARCYyiVStDr0DZ099nSILMCZ2NP6jDsT/sI3umPxc8nfSgOEgG0HhK5EnN8o+CfSDdJ/nTlXloxNl5Pw7T9YfjzTBzupIogkSuNF4pAIJiErbQjumCrbAzDgGdA/riCLsgVdEGxwV7AVUbbtzRhNY6GCjD/aAzcvMOx/14W+EX6e2v1oZJnQEENMrMX8G7Na1VSUFUehLJ8B1RVp8Co9K/aoKq+VCuJ9SeQuEJBjyQSSGgUKZQYp2MScCEuCVSZ/voXJcrTKX/qfHNtPvYkDYNPHfE7njUWSaKrRACtxbEwHpaeS7S4/NVPWGYptt5Mx+yDkZh9MAI7AtMRmlWAahkRQgKhsdhKO6ILtspWWvafQfkzpRewUDjBrPYtg5LgVEQefj8Zhxne4fjj1COcieIjt7DKpNvEDCOBghpgogC6QFXpZ9Z7wqjKoKDeMHxeejgYRVZj33aCg5FbVILJPifQe42HJn3X7sSfF26gSiZvcHw8LTQogN19tsD54EYcTD6M1JJL4FeEQsUomjo9y7cAACAASURBVKUdcVgBlMiVmOIVhuS8KqtLYN1xNdfixdh0Iw3fHYrELJ8InIjI1VqCgUAgGMdW2hFdsFU2MT3JJAEUGRBAWji7SW1cNLcMPiE8/O90PKbVDoeJF5QYlEGVPMXguD7tMX4XzXpPVFVHTTx3H6iksU39CAgtnIKKSny43Qv91u7UEkC1BM7yOwtVvbquUKkw8Nh/RiWQW6a9pzURQCvjn0RhwJpAhKQXN5sE1r+V4n2Ph1k+EVhwLAaXYvNQWkVkkEAwhi21I/Vhq2wFhT+ZJIBiAwKYJ7pi0TbuTkqRZmz0Nv80JAhKoVI1lEGlLFHHLdr66Wf27Vpl2T9GZg5rSyCjKrLUx0FogewIuo++OuSvbkIyuQ0e550YqVf8ehzcih9vXdA6nmEYXEtPIAJobW4mCrH3djYrAlg3j3gV8KydVTzLJwL7grOQKS4ns4oJBB3YWjtSF7bKJpcLTRLAIj0CWJTfHzy62irtW7ZYiqtxYvx1MQnTD9SMjfZPorR2I6kZq2dgKZhGLD2jLN8Ks7amo/+fJT8SQgvjw+1eBuWv39qdWHSh4fqYDMPg79AgdPfZgp4Ht9X+3IruPlsw+dpxlMukWseujQiC0+HNRACtzdFQHo7rWASazWRQEpyLFmLx2ZrdSFZdTMS9dDGkCjJukEAAbK8dqQubZcsX/p9B+cvPe12P/L0JPp3abG1ceFYpdt3KwuxDkZhzOBKHH+SAX1QFVdWx2jF7LnVm+PaGsnwLGMb8VRUYeYJ5M42pXqQXkKCXN9b9a1AAe6/xwOwjZ/U+PrWIxj9hQZgTeA6L7l3H/Txug1vGN7hpcDq8mQhgc/D7qUeI4ZazLn36wqWluJdWjC030jHTOwLzjkTjRHhuo2bdEQgtBVtrR+rCZtmUSjkEef30zAB+DdlUGgTiUNDC71CYPwQFwtEQUgfAowtZa+NS86txPEyA3048wrT9Ydh6IxrpXB/ISndAVekHRkk3+v1glPlmC6Cy6pwFPxFCS2L4vz6GewDX7cTyywFNeo6J14+ip+8WIoDNweYbqQhMKmBd9ExNoqAShx/w8fvJOM2tlGvx+SgjE0kIDoSttSN1Ybts1bI0xPNdkMnvCi6/C7L5XRGX+ypicnsgNncAssWZrLdjhr7wBiYVYNONNMzyicDsgxH473ZmoxfZV0kCzRfAigNW+FQILQHPkAijYwCjc/MafX6GYeBcK39EAJuBLTfTcDPB8msBNlfCs0rx3+1szDkchVk+Edh7JxO5haR3kNCysbV2pC5slo1hGKQIv0BMbg/E5L6OaN7riOR1x0NuTzzk9kQYzxlx/Imst1umJoOS4EIMhRXnkzBtfxgWnYnDrWTK5OEwjdp2TpZk5U+JYK+US6T4fM9hnbOA+6zxwB/nrjdxlxwGLn5biQA2F7tuZ+BslJD1hs4SyRRJcDZKiIW1vYPb/NMQLyjROeuOQLBnbK0dqQubZauUxiEm93WN/N3nOuMu1xV3uS5aic/fxXp71ZiEZ5Viu38G3Lwj8PPxGFyMFRhcOaFmHUBzdhx5uxk/LYI9UlRZhYVnr2n1BA7Y9B88bj+AQtX03b++Czyj6QUkAmhlZvpENHkrOFtMtliKa3FirKqddbf0XDxCMsj2dISWga21I3Vhs2yFFac1Algjfy61Alg3Nb9LoQJYb6eaklheObyCufjBNxrfHoyAz/0cCEurG7wnyrK1Jiwxox7/13AGJ4GgC7qiEnczchCanatzAejG8lDIIz2AzcVvJ2IRllnKemNm7TzIeLw93aIzcbidIiKzigl2i621I3Vhs2xFlZcRk1tz27eh+NVNb4Tm/j/W2yVLJZ2qmUii3p7O6+7j7ekYRgpF0Vwj8ucCZdUFI++udWCYaqiqzkJZtgnK8n/ByFNZKQfBdjiUHIUeRACtz4wD4eDSUtYbsOZMzfZ0GZjpHYH5R2NwPsbwbRQCwdawtXakLmyWTaEsQWyuM0K5PfX0/mknS8ziEli0FJT4NsqpHyGhPkUVNRZFou0oEu1EJTUdldREFIvWIo9ON+u86u3p1LOKt9xMAz/Py2jvn0pyq9k/L5UkEArRO7Vl6P24p7LgG6iUhc1eHoLtEJyTQgTQ2szyiWBdyNhMXG4FvIK5mOsbhdkHI+Adkk2WmCHYPLbWjtSF7bLxi/7BQxMFMFOcwZL8SVAqWgwF1Qvy2oWa5fWi/puccgEtPtqo58mhpbiRQEOQNRIyoSEB7A1F8bxm/ZwYWZSRW9MuUFR4kc0AHJS7PCKAVqVKpsCcw1GsS5itJF1YjRPhefi19pvzNv80JOaVkgaIYHPYUjtSH7bLxjByJAonGhXAe9x3kEOXNZPwVYBP5yKXLgKvQIYC8WGN5JkSOeUCIR3a6OeXUu8Zf56Csc36OSkKxpv2+su2Nmu5CLZBGD+DCKA1uZ6QD49A210Ti83k0DWTSJafT8QUrzD8dSkRDzJpyMkkEoINYEvtSH1soWxKVTVCeO8gOEefAPZFTN7fVm9H+HQ+ikQrIRH2g1TYExKhM0qpbyGlBkNOuZghgL1RTs1rdDmqqdEGhVOa7wpe1nRQpZJm+XxUcp5ZS9OYuwcywf4pLi0hAmhNZvlEICmvknXZsvVwaSnuphZh4/U0zPAOxy/HY3E+RoCiShnbHyHBQbGldqQ+tlK2kKzzCM7pg7vcvvXkrw8e8j5HNm3d9U/5tABVwg8hEbpAKuypicTgrVj9kVFvNroshWIvo8IZHHcEPx+PxQzvcGwPSMMjvvWW0FKWbTbv9Zdts0o5CLZLc7QjDiuAMbxiLDmbwLpc2WNieeXYf5eLH32jMdMnArtuZZBbxYRmxVbaEV3YStnm+kYhknsfEfzvEZzTG0E5vXErZwDC+EuQJbb+4vcl1G8N5E+dxgignOrX6LLk0kWQUMM14w21z+uKSmoCeHRNZ4B6Ca3Vl5IxbX8Yfj/1CFfi8i06UU5Bf2Pe6y+YaLHnJtgHRACtyHeHIm16D2B7SZZIgkuxFFZeqFlv8I9Tj3A9IR9VMgWrny+hZWMr7YgubKFsETmFWHI2EbwCGRKph7ieMwHnswZocj1nAhKEIVZrF3JpMSRCV53yJxX2hFzoDLnQ2Qz5c0UlNbVJZeLTeaigvm1w3jLRL5qxiboSlVOGvXdyMNc3CjN9IrD7dgYyROVN+sKrKBhjngAWzbJg7SDYA0QArcTDzAKsvJDEujy1xETmlGF3UBa+PRiJeUeicTaaj4IKKWufNaFlYgvtiD7YLhvDMJjlE4G43AokUPdxPutdnM8aqCWANf//LuKFwVZpB/LE0XrlTyrsCZmwJ+Rm3goWia9bpGwCOh1i8RmIxefAp3PNemymqGZrusVnEjB1fxg2XU9FTG4xlGbeKlaWroCpi1MrqF5QSu5bqbYQbBUigFaAYRjMOBCOeH4F67LU0pPAr8SBu1z8dDQG0w+EY8P1FIRmFUCmIBNJCE2D7XbEEGyXLTit5vYll5biWs44HfL3WAKvZn8JLm35nZAEdIpBAayRwMcTPGp+ai8BU/dvxaK14NnYeq1cWoqbCTT+uZyCGQfCMf9oDE5E5CK/pOFuJPVh5MlmyG//Zqg1BFuDCKAVOB8twNab6aw3Ho6WHFqKwKQCbLyehpneEfjRLxpHQrlkzUFCo2C7HTEEm2WTKVSY7BmKlPwqJFHResRPO4lUuOWveVqKSuGnkAid9QqgROgMsfgkyqm5kFAfo5r6AsWiv1BG/QYp9T5kVH9UULNAiQOtI390BYR0BITi++DTTd8PPoFfiUP3c/HL8UeYfiAca64kIySDhkSue8clVaV3reAZ6gnsA5WC18y1iGALEAG0MBK5EpM8Q1vk3r/2luS8KhwNFeD3k3GYtj8Mqy4m4naKiIwdJJgEEUDdHAvn4b+gbPAKZIjNv65X+i5kvYMrWW/hctZbiMo7ZpVrXCQ+Z0D+eqGEWshO+0NLUSj2hJR6v8FYQD6db5Hn4NJS3EkpwpYb6ZjpE4G5vlHwuZ+DLLpCa+ygShoCRdF3UGgmp7hCQblAQb0JRcliqJQlzV6HCLYBEUAL8/flJJyKyGNdfkgaNpb30oqxIyATsw9GYvbBCHjezUIqVUZmFhN0QgSwhmpFOfiVj5BflYzcwgpM3x+ObHFNb1ki9VCH+PXHzex+CMrpjdtcdfoiUrAUOXSJxa9tWuQNidAFEmEvSISumlnBJdR88Gh2JuGViNbomWjSGxLqU/BpscWfMyW/CifC87DodDym7Q/DknPxuJkoRLmkZmYxwzCkrSNoQQTQQihVDK7G52PRGbLsiz0knarG2Sghlp5LxLT9NTOLr8TloZisO0ioxdEFsEJeiFM5v8MjZZQm25NG40jqenDpavAKZODSVbiSPbKOAPZHYE6fevL3WAIf5k4Hl66y+PXMp4WgRZ4oEq1EoWgz8mj22uE82vDYOznlimLRFquXIzSzBLtuZWHO4SjNUlrxAuutO0iwP4gAWoh/b2Vg+v5wZFDk1q89JrJ2GYYffaMxwzscm2+kIjSrAFKF7rE1hJaPIwtglaIYe1L/n5b8eaSMgkdyzc+D6e6aiR0x+Zc0Ang1+0098vc4SdQ11q5zofg2KoRf1vYS9kK1cBAKRHvBs+AklWLROp1rAdaNlHqvWV93Zu1SWqsuJmHa/jD8fDwGJyNzkWfCZBJCy4UIoIX4wS8KiQKy40dLSLa4ZubdxutpmOkTge8PRcLzbhaS8kvJt2cHwpEF8KpgXUP5q5dg/mXNNROdfx6Xsj5GgN7ev8e9gGH8uaxc14WibXrHC1ZQY8GzUM9kuWi+SVvQ8Wj2VomIy63Aofu5mj3Zl51PwI0EoUUXoibYPkQALQDDMJh+IIx1cSGxTtKF1TgXLcTKC0mYcSAcPx+PIRNJHABHFUCFSoadKaONCqBX2kyt6ySHrsAd7rsGe/9uc3vjPm9Ms1/DeeIYSIwsGVMsssy+xSWiFUZ7AGXUWza15ExoZgn+u52NH2rvgFyJy7d4vSLYHkQALUBplRzvrg0ku344SGb5ROhddoHQcnBUASyXi43Kn0fKKPyb8mWDa+M+b4wRAeyLMP6cZr9my4Qzja4ZKBX2s0gvoJAONTIGsDdKRCtYb8f05WqcGDsC0y1erwi2BxFAC3E2ig+fEB7rFy+JdZMurMb3hyKbrV4R2MNRBVCqrDRJAHenfq11bXDpCjzgjcRtrqvhMYDCy81+3VYL+5sggD0hoDOb/ny0FOXU95DrWHtPTrlCRvWHgM5ivS3TlzWXUxCTW2zxekWwPYgAWoifj8cgPKuU9YuXxLo5GyWE192sZqtXBPZwVAEEAN+suUYF8Fz2Jq1rIyHfAw+4zrjDddUrgQ9yJ4FLN/9Y6WrhABMF0DJilkuXokz0O+SUS+3OIzVjAqupz5BPx7HejhnKDO9wKJRkJyVHgAigBYgXlOCX449Yv3BJrJ/l5xORStmeEBAsjyMLYG5lrJbsbU76Aiviv8H/Yifjf7GTsSL+G1zMuaC5Lrh0FcJ47+EhrycecHsimOtSTwJdEcx1QZLwBCvXbSn1gwkC6AyeyLJyKqB5oMVHUSD2gZB+aFPj/nQlUVAJ9yPRVqlTBNuDCGATYRgGbt7hiOGR8X+OkOkHwshiqg6CowqgSqXCKW4Qvgudg61Jn2NNwlj8Fju1NtNqU/Pf/6ZsBq9AhixxDh7yemrlPrcnQrjOCOE64wG3Jx7yXBGX9w8r162AijEqgHKhM4pE2yyyZZu95kioAEdCuRavUwTbhAigmYglaQilvXBX5IG4orM4+DABHgEWGDdCYvOJ4ZXj1xOxFq9TBNvE0QSQYRi4R/yHT4L+h0+CFuGToEUYHfwLfo2ZVk/+tHMh+wqyxYIGAtgwrojP38DKtVsgOgC5gT2D5UJnzTg9FeWKSmo2hHQ0621Oc+ePU3HgFVZarE4RbBsigCYiV1XjqmAp9qZ9in1pI+GZ9hn2pg3HfykjcY9/kfULl8T6OXCPh3PRAovVKYJt40gCKFcqMPL2cnwctEgrM0Ln1gqg/iyLcweXliIidxQe8pwNSmC6KISVa7dE9HfNJAyhM2R1xE9WT/7UAqik+kBJvQGKfsh6u9OcmbY/zCL1iWAfEAE0keuCFdiXNgJ70z7VmYj8e6xfvCTWzfyjMRCXSSxWpwi2jSMJ4LyI3fjo1iIMvfUnhgYuxtBbf+KjW39iXtRMg/KnTg4tQQp11oD8uSCC/xW4LI2BKxB5Q25kYea6AqiWQBk13KK7hNhyQjNLsORcvEXqE8E+IAJoAoXSbL3iV5PhOJY5j/ULmMR64dJSTD8QbpH6RLAPHEUAK+TV+DBwsc7MizRdAHkFMiTkb9cIX83PXnjI64mI3BHIFvNZu375tMBsAVSHEt9nvf1pjuwOysaNBKEFaifBXiACaAKRBb4Ge//USRM77uDhlp47KUX450qSReoTwT5wFAH8O+E4PgxcojPTHv5g0i3gutdKpjgJcXmrEc13Q4xgHlKo8+CyuO2ZOqXUn0YlsL78KSlXFIiPsV52Xcmli1FI7YWU+gBS6m1UUyMhEl8Ej67W/zi6Gjy6TOds5B98o1FaTbaCcySIAJrAQ7Fn7Zg/wwKYJMpmvVEgsU62+WcgOE1skfpEsA8cQQCrlTJ8GrRCrwCOuP0Hfo2ZZlACL2RfZf36NCl0FUqphXolsL78qSMW294Yb76YBxn1ps7XUk2NbLDPcD79CGWinzVb1EmpwSgS70IuXQJeQc3+527e5A6Ho0EE0ARSSm8YlT+vtNHIpstYbxhIrJPZByNRLSPbvzkSjiCA9+lkvfKnzth7P+uVwH9TtrB+bZobPp2LYtFGlFM/QE69BQXlolf+FNRbyKWLWC9z/UipAQa2muuFcspNcywlDoKc6qO1P7G8dleSKupr5NLFuJFAY6t/moVqJ8FeIAJoAlkFhdiVNFqv/O1LG4Fr3B2sNwok1kkGJcHsgxEWqUsE+8ERBDBAGGtUAGt6AhfCPfIH/B7rht9j3bA6fiFu8IJZvzabmgLxcb3yp6RcUSzyYL2M9UOJAo2OY5RTvZBLlyKXLoWM6q/ZiUTX1nTFoo1YdzUV4dmFFqqdBHuBCKAR8kuqMckzFAGZ/tibNqI22vLnm+GGDHEB6w0DiXVyIYbCnjuZFqiZBHvCEQQwtUxgkgBODtnM+nVorRSJvaCk+kFJ9a792QdKqg9KRBttcgZwJfWNSRNaCkS+oMWnjR4no/rjW5+HkJPt3xwOIoAGKK6UYZJnKB5m1oyTiBVG43T2/+rc9v0SN3i7kSkuZL1RILFeVl1MQmJeqYVqJ8FecAQB9AnJxuc3N+GjwKV65W9c8HrWr0Frh0+LUSj2RYloMwrFB8CnBayXSV+qqc9MEsAi0SaUiNZCTvUxeuzSM9ctVDMJ9gQRQD0olCp8dygSt5Ibyl2muBhpYiFyWNjUnKT5M/1AOFQqsv2bo9HSBTAkg8ZPR2MQzONieNDKBhL4UeBSjAhahRB+LuvXIMnjlFE/mrScjVAUjGLRFq2xf/pyMizKgrWTYC8QAdTD6ktJOHSfNHyOnrjcCiw4HmPB2kmwF1qyAObQFZjsFYY0Yc2SIQ/4Avwe6auRwI8Cl+J/kUfwUJDH+jWoTqa4HI+EfCSLHHu4DV/MN9gDWDPBoy94BTLk05FGxgq6gJf5GbLoCgvXUII9QARQB57BWVh3NZX1C52E/Ry6n4uTkbkWrqEEe6ClCmBBhRSTPEMRmdNw1YIUURki8iikiNhd0SCbLkac8Aqi848hIu86vNL245eY7zA/xg3zY9ywIekf3BPEsd4+sJVy6nuDAkiLjtYcS0tRSU0x2Au4/couMAy5w+GIEAGsR6VUgYn7Qlm/wElsI78cf4T8kmor1FKCrdNSBXBXUAaOhdnmGDcuLUVknheuZv8frmS/jbOZA/FH7GQsiJmhkb/5MW5YEDMT82Nmwj/Xsfbq1YSWopT6tUFPoJzqA1rkq3Usnxajihpf+/fekFOumnBz92HR6Tgr1FCCPUAEsA4qFYOFJx/hQgzF/gVOwnq4tJRsju7AtEQBTMorxUyfCOSwtCevsUTk7cWV7Lc1WZ/wZQP5q5uFsXORKS5nvdysRVyCArEXikVrIRaf07nDB69ABh4tASUORqloGcpEv6JI7AE+nYt9d3JwJS7PSrWUYOsQAazD/YwC/HUpmf2LmsQmci+tGKsuJlqplhJsnZYogG7e4Ujg2+bktSy6AFeyB2rk70JWfyyIma5X/tS5yr3DetntNT/6RaOoUmalWkqwdYgA1uERvwQrLySxflGS2EY8AjNxK5myUi0l2DotUQDnHI5EUp5tCmC4wAeXsx73/h3PeN+o/P0c8y38Mk80b1npSv09bXaUHFqKGWT7N4eGCGAdGIbB9ANhrF+YJLaR7w5FolKqsFItJdg6LVEAz0bx4RPCY/3a0pWrObO0BPB05rtGBXBBzCyczLpg/fLRFSgWbYWceq92l5A+qBD9gnw6lvX3rbEJSCzAxuupVqqhBHuACGAdGIaBm3c46xcmCfvJEkkwy4ds/+bItEQBPPwgByfDbWdpF3Vy6EocSR+qJYBXst/G0rjxmG9gDOD8GDfECrWX67qUkYq1UTexLfY2EoQlTS5brjgPcmoglDq2ilNSvSESB7D+/jUmG6+n4WFmgZVqKMEeIAJYB6lCie8ORbJ+YZKwn8uPRPj3VoaVaijBHmiJArjhegpup9jezkXpYhH2p32MS1lva0mgT9qHtaLXUAIXxMzE7tRdj6/ZjHR8cnMtPvBfpsmgm8sw47Y3ssRVjSsbXQk5NaiB/NWVQAX1BnLpYtbfQ3Mz0ycCUoXSSjWUYA8QAaxDUl4pfjvpuGtLkTzO6kvJeMQvsVINJdgDLU0AGYbBj35RiMxmd40/XcmmK7A/bTj80j/AlWxtCdyX+gl+jpmO+TEzsKD2tu/8GDfsSv0XmeIK8ApkCMjmYtCN5Rh0c5mWAKolcPiVLY0qFy06q1P86ktggegw6++hOUkTVmPO4Ugr1lCCPUAEsBaGYTB1fxjicitYvzhJ2M+MA+FQku3fHJqWJoDXEvKx9koK69eWvlzO+Qf704bDN30wLmT117oVfCrjXWxOHA2v9D04nnUW0UKu1mPH+v+LQTcayl/drLwVYHaZqqkJRgVQRbmikprN+vtnTk5H5uPAvWwr1lCCPUAEsBaJXIkpXmHgtoDZXSRNS6KgEj8dJdu/OTotTQB3BqbjbJSQ9etLX5JEmfBOGw2vtE/hlfYxDqZ/iMPpQ+CdNhReacNwlbtR5+PSRZUYdN2w/A26uQzvnlxn9vqHMmqYST2AVdRU1t8/c7LkbCLSReVWrKEEe4AIYB12BWXA7yGf9YvTmskWS5CWX0lE10D8HvJxLIxnpdpJsBdamgCWVskx2TPUpq/9eCoJRzNnwivtE032p43ATd4u5NDVOh+z/16MQflTC2D/M6txK8W8CTBV1AyTegBLRBtYf+/MyfQDYWT7NwIRwLoUV8owbX+Yza6S35TcS8jH77uu4oO5O/H+9zsw4pd92HI8BCkCcsu7fhaejAO/qMpKtZNgL7Q0AQSArf5pNjkLuG64tBSPhLG4L7iI0LybyBAXGDx+zIbDGHTNiADeWIa3j/6Dq/Fcs8oiEt8wqQeQLxax/r6ZmhhuORaefGSlmkmwJ0pLC4kA1sX3IRf/BmaxfpFaMtfCszH4h38xaK4H3v9+hyaD5nhg/LLDSOY78FZKOkK2fyMALVMAq2QKTPIMRUp+I2fF2mAG/L4T7+1fY3QMYL9tW/Ao18xlYehqVFPjDMpfKbWK9ffAnOy/y8X5GIGVaibBXpArBMjMG0wEsC4qFYN5R6JxM4Fm/UK1RLJE1Rj56z783xxt+dNI4FwPrPIOZL2ctpLQzBIsPRdvhVpJsDdaogACQGROIX7wjbbpW8GmJlskwTu/eeCdpVsx6PJynRI46OYyvHvgH3x7uJELRtPlqKS+01oKRlmbEmoteLSE9ffBnMw/GgNxucQKtZJgLzCMHNnCD5HGf40IYH0KKqT4wTea9QvVEjl1J1mn+NXNh/N2IS3fNreHau7sDsrGjQShhWskwR5pqQIIACsvJCI4tYj1662pSeSVov/8HXhnoQf6L9+K90/8pS1/15bh3T1r8dbC7YjiNu318sX5KBFtRZnoTxSK9oNP289tX3W4tBTTD5Dt3xyd8qrrSON3RRq/KxFAXfzgG4Xr8WLWL9imZtOxe5pxf4YSkmi7swObMz/4RqO0Wm7B2kiwV1qyAEbmFGKeXwwyKPvqvaqfVEEFBszzwDu/eeDthR41IrhiKwZs2ogB6zfh7f9tx9sLd6D/Tx6sl9UWcielCP9cSbJwbSTYG8LChUjjv0YEUB+l1XLMOxKNo6EC1i/apmTH6YcYpOf2b92Epdq/7DY12WIp3Mjm6IRaWrIAAoB/EgU373CkCXXPrrWH5IglGDhvBwa410jgOwtrRFAtg28v9MA78z3Q/6cduBqdw3p52c42/wwEp4otWBMJ9kh+gTvS+N2IABpCrlRhsmeoXc8KvpeQb1T+xi0+2CLGAzU1NxNobL5BNkcn1NDSBRAALsQIsOuWfU96++SPvRgwbwcGzPNA/5888M4vNem/wAMD5nlg4DwPvPmnBz79Z3/j2zlaCj6dBz4tsLsxf3Uz+2AkqmQKC9VCgr1SWLabCKAprLqYiAcZ9rfPY938uPmcwV5AP/941stoC9lwLQ2hWWRzdEINjiCAJVUyzPOz7/HO3v6PMMB9BwbM24GBtcKnzoB5Hug/3wN9V3qg3zIP3E40cwkcWooC8VFIqZGaCSAy6hMUin3sTgQzRRJ8ezDCQjWQYM8olDTS+K8TATTGLJ8Iux8nk8wvx7frTuL973fgg7k7MWiOh0YId5x+yHr53eIv6AAAIABJREFUbCUzvSMgU6gsUAMJLQFHEMAHmTQ2Xk9j/dprat5a5IEBP3lggPvjDHSv6QXst8IDff+qkcDTD814rbQUpaK/amf99m4wA7hc9LtdSeClWAq7gjIsVAMJ9k5p5Tmk8V8lAmiI7w9HYkdABusXb1PDpaW4Fp6NFfsD8PuuK9h8LASR6YYXWHWkpOZXY65vlAVqH6Gl4AgCGJ5diM923LX7PdDfXLUTfVd64K1Fj8cAvrnYA31X1cpfrQD6P8o1+ZyU+L7RRaBF4pusv3ZTs/pSMuL4JRaqgYSWQEHRHSKAhmAYBjPsfKA0ifGcisiHdwjZHJ3wGEcQQAC4ly7GuquprF+DTcnobYe1Za9+VnngrRU7zRrPXS76FUqqr4FFoPuiiprN+ms3NTMOhEOpItu/ER5DtoIzgWNhPHiH8Fi/gEmsl6XnEpFGkc3RCY9xFAFUqhhM9rLvyW4nQ9NqBNCABC4/FWTWOaXUaKM9gHLqQ9ZfuylJFFTip6MxFqh5hJYEEUATqJIpMONAOOsXMYn1QjZHJ9THUQQQAPbcycSpiHzWr8Om5PejNxpK4CoP9Fm9A1/uOYx7XMqsWcDV1ESt3T90RUqNYv11m5IjoQIcCeVapK4QWg5EAE1klk8EWSqlheYRrwK/nIi1WF0htAwcSQAjcopaxGSQf4MiMGDXf3DeuQ3OO7eit+c29PTbDCe/TXDy24SPznnhUHyCSecqFHtrTf5oeAu4D4pF9rHA9B+n48EtqLRIXSG0HIgAmsihBznYczub9QuZxPI5eD8XpyJzLVZXCC0DRxLAcokcE/c9RKbIfma11g2XlmLx7VtwOrgJPQ5vgpPPRjj5boST7yaN/Dn5bUKP2p87oyKMnjOXLoCcGqJzHKCS6gMF9R74tH30mpI7HARdEAE0EXGZBL+eeMT6hUxi+fx64hHySqotVlcILQNHEkAAWHw2HlE5Zaxfj+aGS0sx5Nwe9Di+Hj1PbKjNevQ4sR5ORzfAyW+jlgQ6+W1CryNbEJ9favTceXQqZNSntdLXD0qqX+1agEORT9vH+qmROWX43+k4i9UTQsuBCKCJlFbL8e3BSNYvZhLLh2yOTtCFowngP1eSEJhkf0tDDb/spZG+xwKo/v/16HFsQwMB7OG3Cdsiw0x7DroaIrE/SkVrUSpaA7H4Knh0Jeuv29R4BXNxMVZgsXpCaDkQATSDvy8n4dAD09eRIrH9hGaWYOm5eIvWE0LLwNEEUFBchcleYUjJr2L9ujQ11zNz6vX81U+NBDod2dCgB/CPu/azhl9TMv9oDMTlEovVE0LLgQigGSiUKkzxMvFbI4ldZM/tbFxPyLdoPSG0DBxNAAHg8MMc+D7gs35dmprRV3109Pw1lMAex9drCaDzkc346+GdJj+/gOahVLQecmowFNTbkFBjUCA+2vgeQroKPNpya85yaSm5w0HQCxFAM2AYBm7exgcPk9hPfvSNRkmVzKL1hNAycEQB9A7JxtkoIevXpal59+xOEwSwRgLr3wa+m9O015lPP4KCGqg1SURJ9YaSckUVNQM8uty0c9FSiMUXUU19ozlHFTUNIrF/k9+fu2lF+OtSokXriD3BMAzu0wlYFueN/8V6wi8nAFKlnO1i2QxEAM0gm67AH6ftY+AvifHk0FLM8Cbfjgm6cUQB/OV4LGJ5JoqLDeTjS/tM6gGsK4A9/DZjTuCFpj03XQ0Z9TGUVB+9S8SUiLaacB4pSkVrNI+p+3gV5Ypi8e4mlXNnYCYCkymL1hF7QVhdiK/v/YWPgxbh46A/NT8/vb0YN4URbBfPIjAMg+LqSGQW7URG0XaIKgOgYhQmP54IoBn4PeTieHge640eiWUSlFyI9deSLVpHCC0HRxRAe1vwfs+jKJ3C53xqHXqdWQuXM2vR68xaOJ9Yp1kCxj3oMjJETRvnKBIHGN0lREG9Cx5teI9lkfiO0fPk0zGNLuecw1Eolzhej5dcpcCXd1fUkb+6qflddFE628VsEhKFCGF5ExCY0xe3ct7ErZy3EJjTF/dyP0GpNMGkcxABNIPj4TzsDiJrAbaUbL2ZjrtpYovWEULLwREF8Js9D+xq3/McsQR9T22p0wu4Hi5n1sL13Fq4nNX+OfTKv7iTY5kv8MWi7ZolYQwlj04xeJ5K6gej+w2XiZY0qoxZYgncmnCHg1FVgqk6CVXxz1AV/wSmwhOMstCCtc16HOPe0iF+2hL4bdgWtovZaJQqKR7wv8CtnDcRmNO3Xt7Abe57qJbnGT0PEUAzUKoYzCRjAFtMZh+MRLVMadE6Qmg5OKIA7r6dgcuPRKxfm+bkUV6JRgJ7nX4sfPXT59w6uIecs8hzFot3GhS3xwKYYfA8cmqI0XNIqK8aVcabCTS23ExrVD1g5ElQiQbVlkG9G0ofqKg3wUgCLVrnrMGM0I16ev+0o2JUbBe1UeSXX9Ihfo9zK+dNpBVuMnoeIoBmMtOHCGBLSKZIgm8PtoxxIATr4IgC6B2SjXPR9jMJpG62Rt2Hqx75qyuBMXlFTX4uIR1hUNqUlCtk1DDwaMM7q6gXmTZ0nmpqQqPKuPF6GkKzCsyuA4yqDCrR+7XCV79MvaGi+oGRN04sm4vxIf+YJIDVSvucABhL/YTAnDcMSuDd3I+MnocIoBkIS6vxy3GyG0hLyOVHIvx7K8Oi9YPQsnBEAfzzTBwis+1vNxBegQxHUxIMyp86fikWmMhHS1FNTTDYC1go9jN6nlLReiO3gPugSLy3UWWc6RMBqcL8OxxM5eE6vX660heqkuUWrXeW5scID6MCOCxosd1ujxeZ72ZQ/gJz+uI2d6DR8xABNIMT4bnYf5fLekNH0vT8fSkZsbnFFq0fhJaFowmgTKHCFK9Q1q/NxuZISrxpApgcZ5Hn49N5kFKjtWbtqmWuVLQGPFpq9BwCOhsK6i0odQhXzX7D74JPU2aXLU1Yje8PRzaqHqiKZhm9La0SDbJYvbMGDwuSjI4B/D3Wk+1iNprkgtV6xv+p0w9hed8YPQ8RQDP45Xgs4nINz+oisY/MOBAOpco+v/0RmgdHEMAqhQSJJTwkl+Yiky7FH6csI0dsJCqvAL3PrTMof73PrUWkwILb3dEVoMUXUEn9iCpqGspEyyGko806ByW+DwU1oHYNwT61cYWcet/sc6lzOjIfB+5lN6pOqAqnmiCAxnuX2MY98l+9s4BH3F4KkcR+OwDKpElGewAFZaeNn4cIoOn8cTrOrtbIItGdREEl3I9EW7RuEFoeLVkAy+XV+CXKE0MCluAD/6X4wH8phgQsw9gre5FtwZ0omjtz755GHz0S2OfcOsy5e4r1MupKLl2IQvFhVIh+RbnoNxSIjyOXLmn0+ZaeS0QaVd6ouqEq21Bzm9fQLeCiWY06d3OiYlT4O/EIhgUt1hLAGaGbkVdlH7OZDZFetFXT21d/FnC0cA5UjPHlf4gAmoi4XIIpXmHIFhvv1iex7fg95ONYGM9idYPQMmmpAlghr8Znt1dqxK8myzQ/x93ZhByx4ckLtppEYRlG3/TU9PbV/Tn6picShKWsl7E5Mv1AWKPHtzGKHCNjAF3tYiawGqlSjmBRHG7kRyK/BYifGoZhICg7jfv8URr5C+YNRlbxbqgY0ya3EAE0gWqZEjN9wnEnpemzx0jYz+8n48AvqrJI3SC0XFqqAP4ec6Ce+DXM2thLrF+njU26qBJ74yMwNsAbg694YGzAAeyNj0CaqJH789pZYrjlWHjyUZPqF1N17HFvn0b8amcFl/5jt5MnWiIMw6BanocqOc+kXr+6EAE0geXnE3AmMp/1C5vEMpm2P8wi9YLQsmmJAihVyjE0cIle8VP3BH4cuApcEyYxkNheDtzl4nyMoMl1jJGGQ1X0I1TUGzXyVzgZTPU1In8tCCKARgjNKsDiMwmsX9QklsnDzJL/z957RjWZrv+/66yzzsvz6vdfZ+3923tLB2kC6sxYRsdpzsye5oyOfXQs2OuoWEDpNXkC2CliRUClCtJEEKT33hISSip2RTrf8+JJQkIqmgDC813ruxIcktwk93PPJ9d9X9eFE7HatcmhNLM1HQGw5TUXC6Tn/tRB4AmUc0VKryGm8B2aBG8pQJyi3nWzHMLXvTqbayMjIxT0TVNRAKhBWyJKqMzfaeSzD5lIreXpYJZRmu6ajgDIesPXGgBLu4Ry105UYzWWpfnB7r4z7O4745MUd3iUpaFVOLWTRgraBdiYfR3WcZ6YHesOuwQfHC6IRz1Pf/UOu4QNEAjuo0tQrrEYtC7NFvVhXej7t3+jNLNEAaAadTzrwe6b79+Im/LU87ZrpXj5buY1R6c0fk1HABwcHsIXmac0bgF/kXEGbTLgcrjoDuyTneXskELefp8RCOYUhcCElmbMjnWHRawbLGLdxXaDRawb5iX6obLrOW41VWL1wyv4Ie0ituZEIZv9/v2CuwURGORbKXTzeMXfD45I/xUkshqewuN+vdxnPjIkwMjbMAy/8hL38+XqcipS+ohFAaAaMTKakVjxcfXFpKzaTEEvNoZT7d8oaafpCIAAcLk1RWMSCKM6Q3rdxLXWy0GfrCX/7lQcP+nX91i3ifpgGec2Bv5k7QqbeFeYxHiMsSc2ZN0aN9Q+FzAwJAa+sQA4xDdDH/9rvUOg/4Nm5LaIAJBbt8Ovg8TJGxYY5luKb80x/MoXIx9pH1xKuhMFgGrk+6ARGXU6LBpKeVKdVCkAkdGso1lGabprugLg0Mgw9pRcUgKB5P2t+ZflagF+mxGgFP5kPTf5zKRf32PtmHtTBfi5Y3asGxySTsEkxlOFPbAj5672ryfsUQp/Y0HwmfCSXv/mjeHF6B0g27+NvL2ivpjz62BdT0tKH5koAFSjA1GVKKcKP08bn6Hav1Eah6YrAAJkdCiqpQhfPHDHwrSTWJh2Ej8+8sX1xiK5rV9Od79a8JNEAe2SndEyxcqszEl0VRn9+yTlOMzvukkjfspsGuOJii7tSn89F/ho7p7BN8MAf55WLeLex43c0fZvIyP9GBbM0zAeW4wMv9HltJzWGhgawIWWK9hQtAdrChyxrtARu8v2gtFEQwY/FW8HJ+69fN0vRALnEEKbliG0aQnCmr9BmSh03Mk6FACq0brQQjA/woKoNbwXOF+bC5eyRPhUpuFxe+ekj2kqeB3V/o3SODSdARAAilhP4Z7UoPG60QSADikkAE5UMkibsBe3mgtwpPQ6nEpv4XpTEVqEivBpnXBaKQBaxrliYdoxNdG/0SjguapircbUw1+lFQAO880+qMOHOkcXcxGWS7Z/G+l7otVYRnrTdDUlp7V6B3uxqWgfVhfsxOqCHTLeifWF27C9ZBP2lG1D1YsKvY+l8WUmrjQvwrWWhbjaLO/Qpq/QN6h9kIMCQDVyuleN/Fb9XKz68uX6fHzy4Azmprhg/oPTmJdyGg4pzthbEIlmJYvkTHFNx1vsvlmuoxlGaSZougOg8HUvdt7QnOS2OM1T7RawfbIz5qVMzBZwHKsEX2SewIL041iQ7iT2cSzNcEYSq17ud+ckuSgFQLskF60BMKA8T6txveVv1gq4hvhm4Ij0sw473a1Bi4Bs/zbSm64dAL6L1dWUnNY6VHFaCnyK3oENhdvgWLoJO0u3oLOnQ2/jeDv4HFeaF+Fq80Jca5G3BALDW5ZrHQmkAFCNjt6pQmmb/koF6NpRzVWqz+ikuOBAYdSkj3GyfO1JB24XtetohlGaCZruAMh/2Yv9tys1XjuM6kcaAfD4BCSBPGBXYlHGMSn0ydsJC9NPILejQ/r7y9J8YRl3RgEC7ZKcsSTziNrtX4lvN9ZrNTauoFTt+T8J/L3lb9bb+yPb/m1ksFU7AOyv0tWUnLZ6M/BGDfyNQuC2kk3YWfoXrraF6W0syZ3OCuA3FgJDmj4H/+0TrZ6PAkA1Wh9W9NEUO2WL+vBLVhDmatiqKezkT/pYJ8P7b1ei68U7Hc0wSjNB0x0A85nd8Etp1njtsES9+DUrWCETWHLfJvE0fkoPwQNWm96u3zZRL359PBb6FCFwT+EV6WNuNJXDNskZs+NcZcq/uMMq/gy+ePg3rONOq4FAD9jG+oE1jiNA/fzPNAIgT1Skl/enpO0VDsfIw9zw0z/GtHKTtQWGu/9LFXjWQmm8Rxrgj/Tm4i1wLN2EAxW79DaW8OZvlUb/xkJgSrt2Y6AAUI1OxdUgt/n5pMOLNi7s5Gs8pzM3xQVBNdmTPtaJNlvUR7V/ozRuTXcA7H7TB8frZVpdQyxRL1zKEqVHShxSyGLQlvFnyHN1sR6wjvPSGwQ+am/A55lHVUT/Rr0o/YTc4/YW3IZtkjOsE11gGeeK2XGusE9yxrKHh/F5xhGY3XFXAoFkOZiYRs3nI2XdLniKQb6dAvRJboX8OHC6+9Elqke3MAoi4R10CWrxSnAcg3x7DPEtMcCfj+cCX7SLXo7rtS88akNSlXx9v5GBFgwLHJRA4GwM8+dgZIDqiKSNUniZ4wLAPWXb9TaWsOavNQLgtZaFiGVv0ur5KABUo9DHLMSW8d4DON6hSdiFZiFvwiKI2Zx2jQA4/8Fp+FWmTzqQTbSzG5/BNbFOR7OL0kzRdAdAANgQpl2SA6ebbAH3SaI/zO+5wey2B8xuecE8xmM0uSLWAz+nh+jlGr7HyseiDM0AuCD9uEIWc0xzDb5OD4D9fRfY3XfBN5mu+O/jffgy6xA+zzgC2wQXGQj0gHXcaewvDH2/sYp60c2/igH+JxjkW2KQb4dX/L/RLhKhU8RBD3+NUkAc+/MAfz7ahUKtX3f7tTK86OlX+HxHBtsw/OKwDARaYPj5XowMTE45rMHhISR1VGBbQTj+fHIZ9PpUvBqY2jszgl6RVgC4pXgzdpRuhm+Du97Gcou1QS0AXm1eiPDmRcjlu2n1fBQAqtHVJ224Vah9Bm2bqAc5Hddws+VnXGlejCvNixHVug6FXUl6B8F6/ivMf3BaIwTeaqqYdCCbaAekNiOnSaij2UVppmi6A+DIyAjWXC7U+jq6XFUG0xveMDoXAKNgutTGl/xhHj0Kgo85XJ1fw6mcKnyecUQDADrh84wTGp+LJXqH3SV++DH7AJYkH8XStCNYkvE3FqcdxddZh/B73t8o447/i786d4iE6OcvwZDKLVlFEOzl/6TVczOFvdgQpr7928jwG4wMtmNk+PV7z5cPVdtrERanecIu2UXO9skuiGzLn7RxaaOdpU5qk0DWFjhie8kmOJZuQvHTAr2Ng9dTL032UAWAlxqX4t3gU5XPMTTEx5s3YXj1yh9Pu8MpAFSlEvYz+D5o0uoiZIveIbHtGK40fy6FP9Lkzw/bz+kddA4XxWBeiouK7V9nLEnzRKuwZ1IgbDL9p0xxVEqUtNV0B0AA2HxFuwhgm6gPJqF+YuijyQGgUTANRmdpUgi829SATA4TRE06aNWpSGTVKUTlxmumqAc/ZP+tEQB3FYZo9Xw3K2phEUjAmEbAmE6HMY0OYxoBu8t+SG7VLvFjPH4uDMYQ30LrUjESCOwQtmt87uQqIYj0qV3gvm9oAAtS3RXgT9Y5gsbJHqZKCd91Y13hbiUQSJaD2VqyGY6lm3CFdRnDeu6wcpe9VwECJT+HNH2OHK6X0seNjAzj5Us3cLv+JfZ/wO36XwoAVam47Rn8HzRrdYEXdt0fA36KruHX6hV0KrhP8W2mvwIEzktxwbwUF9xt0e/rT0U38UaLo1KiNB5RADhqek6REvCTh0DjUD9YxLrjt0eB0vN4i9LJki3fZ3ngIYf1QddySGMKPs88IlMCRh7+Fmc4obRLc+vOrGYuzIlAmNDEAChjUzoDP0TcRJuOd2z6+cs0Zgkr81Oh5q1o14+gwH1Ya45a+LNLdsFPjxiTPUy1et73Ah51BNbIwN/Gom3YVrIZrrWnkCfK0Tv8SZTO9UFI05LR0i/Ni3Gp6QsUCc+rfMyrlz7gdv0vuF3/lDMFgCqU2yICkd6q1QV+l7lNSfRv1BHNS5HK8dE78FTxnuFkaTw+S3WVAuCWvCtIbdPu75huli2OSonSeDQTAPDPcO0A0DKEAUO1AEhCoPkdsrOI8jItTgiqTf6g4zD+NdFYkvk3FqYfk3vupZlOSGlTHrlLq2rH7tAkLDp1EQtPXcBSrxCYezMU4E/Wd6tadLoOjU0O0RoABRc0Pvf6KV7gPl/IxGcP1Ef/JB4cnvo7NSMjI+gd6sPwyDCGR4YxODw4aWPpeluDyu5YdLwtV5vRPTz0DNyuWQrwRwGgGp1/1Iq7pdqdBbnW/K3GCOBdpuOEgU+z8C1KuoSo448vm2y6+didGrQKqXZHlMav6Q6AfYNDWieBmFyiaQGAdJjc9FC7Rbv04RGENKZ/0DVdzhXApeIa1uV5488n/rhQl4Z6gfJ17mJaOWwOM2B3JBA2hxmwOcyAtfjW3FU5/JnRGdiXkKrTdaiP/+24IoCDPDM87TJDfddtNAtUZyNXtb/BnltTt8D9+cZsWMa7Ys59F8y5rxkAp3pCyMeqnrfRSuGPAkAV4jx9izUhhWAKtDu7crPlFw0A+DniWQcnHYhmmteGFFK1rii9l6Y7ALol1uFmgXZJblYhgVpFAM1uu0mjfcrO6y1Md8KPj4+iSaD/Avs59Twp9KmyqbciAJrQGNhyN1GnY3kmDMEQ31wr+OvoNMejttlIa7OUOofzB5oEVQrPG57LQUxpB0aGuBh+HYTh53sw/OIIRnpTMTIyoMMZN34ViFiwjHeFZbwrbJM0A6B9sguGJmgLdabpzZtQ8bk/CgA1qpzzDCsv5qOYpX30LIMTiIjmJWohsKBL/9XyKY+6sPUlnO5V63h2UZopmq4AODA0DNfEOrgnal/nLqS0Ui0AGgbTYHghAPNTnPBpqhM+S3PCwvRj+DzjiBgGR6OAy3MOIqq1QO/X/9Eb6ZjzNxn5m7OPgIMjgblbCczdTsBuDwHrQwRmn1J+DtA1I1enY2kXvUAf/3uNWcDsTnMx9MkDYFqbNdLbHNAkqJF73j23KvDq6VWyvAvfAsN889GSL6LlGBni62H2aafdhZGwSXAXQ+BpjdG/7QVXJm2s01297zKoCKC22hhejEcNz8Z1gTcK2nGt+RtcUQqBSxHZ+jtYoo+nrdx08NmHTKTW8nQ8uyjNFE1XAGx/2oMV5/PHfT2ZXqIrhUDDYPH28FUvfJZGRvkWZZARwPmpJ7Ao46g0Irgo4xi+zzmE0MYMnVzjTYI3KOsSoUnwRuG//eB1FTaHCDjsIPDJZgLzN8vfzttCwPqwsggggSJ2t87Xow6REK8FB+SygWULRffxzJChAH7yEJjXvk36fGxRH3wTQtRHFAWfYnhwctbABcl+0gigJAqoCv7mp7iC++7FpIxzJmhkZBB8nh2VBKKNTsbVIL58/C3TqvmVuNHyozTpI6J5qbQWYKOAM+EAVN31EhdKKuD7pADXK+vRIphZJWC2Xi3Fq97J3Qah9PFqugJgx7MerA8df5vLBt5rmF4ehUDp7TkajK54Y0GakxT+FmWQ9xemk9FASRHnZVl/Y3nOQdxlal+AWpmfdHCxt+AW5iSegWWsK6zj3LDt8XUUdI6e2f7R5xrsdhP4ZJNyz99MYO42AsYBo+BnTCMQkK2fdm0Sd4i4EAgzwRc+QrvwKXiiArwQ+KCl60818CexFZjCLnC6+/Gw/inYLb+II3/qtpXnYGSgVg+zUL0Wp/jLAaBl/BnYJCpuBf+aHYT2N6rr1lHSjXp7s8Dt+rfCVjAFgGP0smcA695jgeR096NN9BZFXanI4BDIbA9COfcJ2B9YA2v8Y+iD86NsmFwiYHCRBqNLdBhcpME2/ByuVdZNOphNhFsFvfgzvBjDA/Xof3EM7wTz8U4wF33PHDHUN7WLjlKaGpquAAgAfqmN79XliNPdj8jqejhcO4fZ4QQ+u3URO3NvSGFPAn+yXpjuhAVpTliccQTfZh/Er7nH0SJ8+97XdjanHfPvu8MkyhNGkd4wivQS2xuzY7wQ/LAQbjce4XePG5i7hcA8FQD4ySYyEmjuToLfN+HXcK1U9zUAtXVZVzDS2mw1QmCToBKc7n7Q0yoxyDOFqMsI/C5DDPFMVQCgOYaFCzEyotgpRJ86URYnswUsD4JWCadhk3AafjUPJnRMM119fYUQiX6VAcB/UQCoTAFpTYh7jyjgVPCpR9kwuEhTasOLNMTUNk/6GPXtxAoB7peE4B3PGO94JnjHMxSbvP/smT/6hiYvfZ/S1Nd0BsCXPQPYqGUJGE3+5qGHSviTAmC6E75+dBDLcw4isuXJB73eTw+DYHx7FPokNr7igzmH6HDYwcD8XUGYtzMQDjsYcHAUb/sqhUA6dvjfQ1n7swlr26nKldybSGuz0giAreLi0PtuJaO54z+oav83enkmagCQ9Mi7ZB3PQvWqf8GDdbybEgB0hXW8G+YmeaG7l6rQMBkaGuJiYKAOL19wKABUpqQqLryStesCMpVc1fUCxuLInyoA/Pr2tUkfp75Nf/AIPVxZ8FP0tof74VmRjpf9VOkBSoqazgAIAL9fzEdd1/tH4iT+IuO0WgCU+LdcJ3jXhOJGSzLyOpveC7iyOBzMvuemAH9GN7wx5wAd9jsIEvp2MGC/kwG7XQzY7yRgrxIC6XD0vjvp6xWnux9MoUBDBNAaj9s3gNPdjwZuD24VbEFV+79R1/5vLbKLLTH8Sn89alUpqaMa1glusElwU4C/YlHbhI+HkryoXsAqNDQ8gr8iSlDQ+mLSF4bx+GxRGQxVwJ+sn7Rp32j8Y/Td3INjIn/yft1lhAe1S2B+xwvfPrhIQSAlBU13ACxgduNwdPUHX2u/ZPtpBMCF6U5YW7AdG4ocsaHIEeuLtuNYhQcqeYrb0I2C54hhpsC3jg7vWn/caI1FLZ9cr641loqjf95ytiD8pPBnv4sB2/0M2B6S8QEC9juURwHWOn71AAAgAElEQVR9r2ZP+nolMbkNrPzsX1qbDRoEZNQ2urgBFRwjVLX/G7VaAOAgbzaGX3nocAZqr863z0HUZWDd4zD8mRuBy02P8bSPivxNBVEAqEYFzG7si6yc9EVhPPbMfQJj8Zk/dU5pGk1Kae56i8iEKgSH5+JKdAlqWB8X9I51Vfsb1Df8IAd8PVxDlOQtRFzsD0hN/hrdLDMIO8xgEuMJ8zte8KxI19HsozRdNN0BEAA2XSlGbvPz97rOWgQ9yOXw4VmeonELeEnGEawv2i7njUU7sKfMCU0yRZzzOhuwp2wXtpX+hW2lm7GtdDO2l/6FHaXbkMYpQkxLtWL0L9IbNidosN9BkPB3UGwJ/B1kYM4+Bux2k0kfYyOBTZ3ji4K2i7rBFZWjS9QAjqgXbBELbJ4X2Nw1YHM3gc2/Drbo/Qrws0V9KO+6hPS2uXIAmMX+Gk86HiC4Pgqbi47iSOkaVLX/W+oeruYt4Bcv7yudA00vhPCpeAjX0nRkc5lU3dQZJAoANcg1sQ733vOw9GQ4vLxGI/wZXKShrIMsc3MzrhLLf2Ng6Q/++PInGr74L3kbcCELbULtt2jYoneo4hWghJuISl4e2KLJyzgOz+Wgg71CCn9lTz7Dml2nsPh3mtRfrfFBUMg6mER7wiTGE7axftSZQEpymgkAyH3xbtwJb438NzhRkA6bOzQYR3nDOMobFnc8YZ/kLIW+zzOOYtWT7dhRsgE7Sjbgr6LNWF+0VQEC1xdtR2Qr2XWjXvAUe8p2YrsM/Em8tWQzNhVtw4Eyd1hEuytAoO1RGux3MGB7YAz8HWDAwZGBudsZcNhOwGE7gbnbGZi7lcD8TXT8eFC+126HSAihMBkiYTy6RPJHgLqENejh/yFX0Pk51x7szn+C3fm/YHf+Q3z/H2B3zgFb+P6919tEL1DDS0YVNwr1/CfI7WjG+oKDWJ2/B6vyd+Fw6R9yANjeaaAS/Pq55uAwHbA97Q6u11eA+YLMuH3W+xbfJF+GUZQXjKNJG0V5Yc5dGiq6u3QxTSlNcVEAqOm5egew5WrppIOdtm4W9MAqLFgl+BldomN13B1wuvtx90Edlv7gr9L0S9ptjZRzM3GX+SMiWz+V+g7zO5RwkyblPdhzqwLPu4PxjmeMmpL5WLbaF0tW+ssBIOkA2J/0hUkMCYGdbxXrUL3s7cWlwmJ8HRIBh8AL+DHiBm6WV6F3gILF6a6ZAIAA4J5Uj4f1T7W6tpoEb/HflCswjfKRwp+s5yScxi85O3G48g8cr14JpyrSx6tX4mjlKvxVvEkBAI9WuIPT3Y/I1gSl8LelZDPWFDhidcEOrC7YiSUPjioAoJVrAOx2EWO2fRlw2E56rjJvIxCeVE7+baI3eCk4gyG+lRw89fA3oEtYi7f8tQqt3Hp4RmLYU+Z/gd1pB7YOar+yRO+wreg4/sjfjVX5u7AqfxfWFjiimG0gB4HCLiOypqA4EjjEM8UgzwwC9hwsizwJg1B/GIT7Y1a4PzakxmBebKAU+iQAKPnZJMoLba+o0izTXRQAaqH1YUUoZH48PXXDyqqlCR9j4c8yNAg5LD7Yoj788VeIWgD86mca6tjqF7ByXpYc+I11CVe3LZU0mS3qw7rQIowMdeMd3xI7Th3C4pUBSuCP9KLfA2B2lQTAZ309cp8799VrLLkYBjP/QJj4MWDix4Cp2L9cvYXXfX06mV+UpqZmCgBmNQhw/J520Sq/0jyYqIA/iXcWb5BCn6ydqlbiWNVKbCr+Sw4A95Q5gdPdD7caT6WRv7Uy8Le6YCdWPtkFqzuuchBoetkHdrvkz/3Z7VYDf2KvOHkNHFEf3vB3Km3VNsSfjSG+hdI+vvzOf6kBQLEFt9WuVeU8Jp50laOS16by95LZpVLwk/WF2i9Qwfm3HAS2dMzC0y4jvOWagMexglvmn7C54olZIf6YFUrC36xwfxhe85WDvrE2ivLC/DiGDmYqpaksCgC1UOfzHqy6VIBG7rtJhzttfauqAUtvhssB4MrYGOSwyO3s3PIutfAn8Y3YCjULWC/usX5VC4AxzOVom8Dt4KyGp3BPqgcAxNfHYtHvquFv8e80LFoZADt3X6zJuqbwua+5FQNzGfiTtbl/II4lp+lkflGampopAAgAvg8acSlbNYRIvDD+nFr4M4nywg8Z+xXgTxYC95evkcLfhiJHnK6mgdPdD5dqVwUA3Fz8lxT8ZP173i58kngSxjIQOMddPgIo2fpV6W3kdjBXkK9Vj145MOSZaoa/zv8Fm+uo9H3M6yyFf/0hufeG3nAMhV2jrd5q+DwkslNxpoom3fqV9er8HbhUvBRV7f9GOfs/crex1Q6wueIOg5AAqWeFyQDgLcXI31gANIryQll3h07mF6WpKQoAtVRSFReBGa2TDnbjMVvUh2wmD4kNbShpl9/iSc1laoS/ZT8G4PLNQpXPX8uvUAt/ElfyHk/Y3+z/oBk5TUI87+uB/Q1vtfAnAUD7k77I47PkPu8mUbdS8JO1RUAQnvVQ2cPTVTMJAIeHR7D6ciGYQtVF61miXrXwR9oLn98/phIAJRAoex4wiU32BQ5puo7tpVvkAHBj0Va56J8yEPzh0X7cbixHM/8tPj95cRQANUT/JOZzDmvs0ft+APhPsLmbFd7HnM5CnKhehePVq+TelxPVq3Ci+g8QDVvhU/8jPOv+C+fqX7G1eDNW5e9UAMBfc/bAKJCGFZH7cDH/S8RWzUVE8ef4844jTAP9YRhEh8HlABiE+GPWZX85ADSKVA+AEv+RGaGT+UVpaooCQC3V0z+ITVdKJh3qdOWyxm6tIoCxaaobxpdzM7UCwOKuuAn7u/4ML0bvwBAiWvJhFe2ORWq2fyVbwC7XkxQ+76jKao0AaOLHQG4bR2dzjNLU0kwCQADwT21CSrXq8lBsUR8sY/w1RgC/fPC3WgA8Xr0SG4q2YkORI9xqGGgTd0oq43Lksn9JANymAIDrCh2xq3QD9pevxd6y9dhYtBXFXWRVg9t5DXIAqAoCHWTc1vjXuCOAw3wzdEkTP9REAPkMufewTdQLj1pHNe/N7zhZ/Ru8636AT/0P8K77ASerVijdAl4UcwqGDDqMGIRKG1wQA+ClUfjTJgIoiQLOi6frbH5RmnqiAHAc+iuiBA3c6dNPd/fR21j2Y4BK+Ptx9Vkw+aq3vWv5lVpGAHMn5O9p4r3DlogSAMDfJfdgFeeO+Yd81ULgklV0PH/5VuGzjqmq1QoA89ntOp1jlKaOZhoAVrQ/h0u8+laRe3ISYBZNngE0uu0No5s+MIzwg0G4Hwwj/GB00wcbc7eohb9jVavwV/FuhDTdAVMkX4LlHisd20o3w1EcCdxcvEUO/naWbsSZml9wpuYXnBbfutb+gogWXzBFb8Dp7seNnDosPnkRdrtUgJ8jWSjaYSfp+bsJnDy/G92tc9QC3xuuOR6zHBDTMh9RLfNxvXEhUlts0NahIvrX+R+wRVy5v+9JV5lGOD5evRKedf+FTz0JgV61P2BT0RaFKKDFeT8YqQFAQwbZr5kEwAA5ADS46qMR/oyivPBZAnUOcDqLAsBx6HIOE3dKuDoDlsn2k0oelv/GUIDAL/7rjy/+G6A2+sfpJiMCsazfEdn6mUr4u8P8fsJKwkQVdSEsl9zKPV4aD+t4d1hddcfCNQEqITDiToHSz7rjxUuYaoA/G/pZvOmb2P6alCZOMw0AB4aGsT60SO019pjDw+wYf5jc9oFBuJ/4fJm/3O3nd4/jWOUqpWDjVLUShypW43GH6i+FuZ118K9jYFeZIxxLtmFj4V6sKdiF7SWb4Fr7iwr/ihuthPQ5mIJ3uJlTJ3fWb64E/nbKA6DDTgbm76LjpxOueMayUQp/r7lmuNvqgLut9ohlkpbcP1e7DM3tstHAf5HRP0Gswt+WyknTCgDda3+SAqBP/Q9wr/0J6wq2i+GPBEGTIJra6J8Rg4BhEJ2M/oXIA+CscF+V28AS+DOO9oRTseLuCKXpIwoAx6FC1lO4xE9es3B9OL+Kj33Ho+UAcNPuq0jObtHq8ZW8XES2LlAJgaXcBxPyd3SImnD1UTC6BHcxMtSN5M5azI5zw+w4N1hHuOPTnX5y4LdwXQB+O3dZbdHTnbGJKpNATP0Y8Ml6rNP5RWlqaaYBIAD8GV6MWg2FkZNaWDC/RpMBv7H2x3dJhxQygZ2qVuJI5R9wqf4Fme3JWl/bJdwObC0+ghNVv0kjfqpcy++UB64SDuY7Bo5G/8aAn6zn7aKDcf1PhbN+gzxTJLXay8HfWAfX/ExG/DqNwebuAFuovHRYdke+UuALrv8BRW2fgt9pA26nDXJZn+Fc4zdSAPSr+x5XG75GeN33cK9YiZPVfjA76685AhhEg8El+QSQWeFkOZjv469IAXAU+kbhzyzGC4KeqTf3KelOFACOQ8PDI1gbUjittoElrmp9jkfF7SipF437sZW8x4hlrZADv7vMn1DGTZ8A8OPgOX8N3vJmydgYr5854atUBqzj3aUgaHXVHbbBnrC56IHZ99xQIGSp/bxf9fZixbVImPgxpKVgJEC4/W48+oeGFB4zNDyM9I5m7MuLx4bM2zhVlIrqpzydzkNKE6OZCID5rd1w1rANXNn5AsahdBXwR9owxB8Hy1YrRP6cq3+FV92PeNKVP67rvLCrTi34SaKAKRzF88ZlzGc4HZGJT3cHq4Q/iZcc9MUgdxQA33KNUNZmgntq4O9uqz0u1i9FDV9zLUWm6A1O1/wpB39JLUsxzDfDAE+2dZsZ+nlmiGpegnTmAvTx5EvUDAkcsOK6M4wI9WcATc4TOPAoCaYRdCn8WV4PhH/pYwwMD8G3KhPG0Z4wjhI72lMKfxmdTUrnCLfnJRg12dicEwnH3GjcbC3FmwGqJNbHKAoAxymP+/VIrRk/JE13s0V9qOGXo4ybhmp+Cdgi1dmEunK7SIBXvM/whmc0BgBn4S3PEE2dW7AslYHZcW6wlEBgvDus4twR1Vaq1ec9MDSE5IYmbLsTh1+u3sKeuCTksNgYVhI5fNn3Dr+mXoXhLR+YRPqKb/1geMsHzsWpSh9DaepqJgLgq94BbAwvVnnNtYn6QMsthOG5AHGGqWqvSt6J41W/4Xjl73Cp/gVedT/Cq+5H0OrXgiUaX/u1Ml6DRgB0q/0NCWzVdff2nU/CvF2BGiGQ1Z4CoTAJnbxtYHX8Cwmtdmqjf7FMe9xrtccdZp5Wf0sy574U/i43fKcm09gMgzwTlVnILzjWsD3rAyNCefTPiEHH8qtXAQAv+3pRyGtHCb8T7wYH5D7zlpcibMuNwoLEQCxOCsbp0hQI371WOj8imopgKi6cL+tPEgjUP+frdC5S0r8oABynhK96P7qagNPVQgEdb3iGSuBPxj3ZiOdUYn9RDBzzbyGw7iG6lHT80IU2Z0VLwU+ZQxuK9PK6lPSjmQiAAFkTMOwxR+5aY4v6cPReBmw8gmHhyoCFKwPmrgRMfegwuKgcAO1D3KXQJ+usjrRxX+vNwqdwq12hEQJzOh8rjDskpxLfEVdhe5ABew3wN29XIDLqOvDl+QiYejFg6sWAx5OftALA2y3adU7idPfjPjsJLjUbUMeZKxf5UwZ66v5bJ3MOuQ0sC4EEaRMGgYvFxTqbFxFNRQrgJ7FpjBc+SSCoSOBHJgoA30NptTx4JTdOOgDNdL/ifaYe/nhG6H1+QC9zYKxaXnarBD+J590NwsCw4rYxpampmQqAQ8MjWBdaiLqu0SjdypAoKfjJ2tyVATN3AgaXxgDg5QCYEwFy4EevX49HHenvfb1fb/VXA4G/wqduo1xkkS3qw9HodFg6M2DlzICVk3r4s9/JgP0uspewmQcJf2ZeDGy+t13jFvCF+qXI62SN6+9pFb5CP0950okE8NQBoCRKeDxxixT6JDZjMPDppUt49k43dUqF717DNMZL2jtdlSNby3TyepQmRhQAvodGRkaw82YZbuR3TDoEzWS/4ZmqBcBXXAM8E65Rm+ihK4U3FMP4luron8R1z6htko9FMxUAAaC47Sk2hhWjrustruXXKYU/WQg08afLwZ/BuQDYEGdRxC3Do450FHQVgyl8i7hKJg7cS8PW24k4nZyDAqb2x2kaBHz4129RgEC32hVwq/0NT7rkM5jvlbbA0pkx6lMMzNmnPApoL7btAQbm7GHA+ggJf2ZeDFj7+eN283y1UUDXyv3vtYYN8lWXnhnkmagEwPuNX2Jl3k58l7MPy3P249tHB7Ew7gTMgwgYEwS+jogA69kznc2Hs3W5GuHPJMYTO/KidfaalPQvCgDfUwNDw9gbWT6tysJ8bH7FW4g3SsCvtMUBe7L/glWsKyxi3bEkhYFLjbkKZ190qUt1BWq3fyWu6O7S2xgo6VYzGQABoIz9DOvDivBN0FUNAEjA3I0Yhb+LATD2J/DrtSjptVrX9Rorwm7DzIuB2d6BMPdiwMI7EGZeDHimPRkHBApwm3kOHrWrpAAY2nwGKawCPGHz5TqZbA6Pg7VLoCIE7h8FPgkM2u8i4c/2EANzDjBgt4eMAkogcHn4MUS1zBtTBsYBsUx7eFStRHFX13utYW/5WzGkYgtYFQAeLV6PdQXbsKt0A/aVr8fesvXYUrwJK3J3YXn2IUQ3F+v8vPGarOsw1gIA/8qJ1OnrUtKvKAD8APUODOGPywUayyZMBbcK3qGu6zXaRH2TPhZdWSgIVDgDmFq/GFZxrlL4k9gy1gN/PApHz6B+6vbl89ka4c8iKgCvqTMyH41mOgACQGx5J6zdg9UCoAQCDS4EwCiABmMfOkx8GIgpb5Jeq+uu35MCnzKHPKka17XPFL1BTns9fsmkwybxNKwSXGGV4ArreDdszozB6bQcWJ0eA38ytjrBgM3fDNgcYmDOfgJz9hKw203Abg8B2/0E7PYwMNtFfozzg9xxJPsPhDUsQkTTAhC13+NCPQNVvPdPCuQLc8YVAbxd+y22l/yJvWUk+O0rXy+FwL1l67HqyQ789/FRvBpQLG7/IVr98Lo0Q1gdAAbWZuv0dSnpVxQAfqCKWE9x/F6twoXdLOhBYHEJvoyOgFVEEBbcugy3vFxUdb2YUEjKaOzEXzEJMKMxYBJAwCH4AlzTH6Oe+0blY1jCXrBFfWCL+pDVzsS91nJkcFqkLZumittFIrziLcarLhICuzuN4ZDgjNmxbnLwJwuBjLosvcyDkZERLEu8pDIKaBLpC5fiVL28NiX9iAJAcl5buZ+FuZrtX3N38rycqY+MvUn/EhaJrMYuleAn8Rdnr4A9ji+nWRwW7O+7wCrhDKziz0gB0DKevDW94QXz03SVACiJBlqeIDB3G4F5WwnMFXveVgIO2wlYHiUUxmnqxYCJPwGDMH8EFuumNegr7kLyPB9/FPaG+KYY5JngLddYLhnkz8ItcuAnawkEfpe9D1Ec3a5z9JpsmMR4qYU/0xhPcHte6vR1KelXFAB+oMgD0/JnT+p5r7H8zjUYhgbAMDQABmIbhdIw98YFFHAmpozMvapWWNADpfAnsRmNga9Dr6Ku67X0d9tEfbhYWImvr16DUSABqzAffJXmjC8eHpH698eeuNtaPungJ+tWXjsKK3/HW54BIqu+hoUK+JP40yR/vSViNDwXYs4dhhwEGon9Y8oVKvr3kYkCQFIrLt1RCX+mngyY+oqhz1fmvgwELgoKVRv9k/gJU3UfYlmzRO+wNN1NCn2qbHTBD7OdCTUASMDmEAEHMfTJWgKD5mcUIdAwmAaDsAB8f++GTtawDkElBngmGOSZYohPeoBngsZ2QxRxDNDdZYghnimedVhiV+kGlQAogcC1BdvhWELT6Rzg9ryCeYy39BygbCRQEhmk1zzS6WtS0r8oANSBdt8sl9sG3pfxAEZhNCn4ydo4jIbld67pHYxa+D2wDzoPUxnwGwuBR+9nSuHPMf4+jAIJGAcSmB3qg6WZR7A084gcAEoc06K8yv1kOKGCj7NZLRge7IR72SVYx3moBUCLWHfw9Pgtlfv2FbzKH2Lu3SCY3fbDssRLCG0o0uv5Q0r6EQWApIrb+EoB0MxdBvrGegwEmnmrhz8zLwaym3haXfOxzCrYJrnIRf7G2jLeFaaRnrA4TVcOgadI2xwkt3znKoHAeVsJzNlHyET/CJh6EZgVGoBZYQFYeDtEZ+tYW+dvGOCZoJ9ngkG+Cdo6jVDEMZS6qt0AxUwbleAnC4Cbi/7C5kIflZ8n600X3Osu40C5H87UXkDDS/UF8SVK62yEWYw3TGO85LaDjaM94VpG7W58jKIAUAc6m9WC+1Xkt9da7muYhhNK4U/WaS36zSC+UlSjFPxkbc0IRhP/LUKLq2EUSIhNx6Lk4yrh74uHR/BzjitYoqlRB9E9sQHl7c8BALTaTFjFeWoEwGd9uj0fQ2l6igJAUsPDI/jpXBos3QNHkz5cCRLufDRAoBj+TDXAn43fWTTytDtLHVCTTG79aogAWtxxh1EgDbNdSACc7UyMwuBJ8gyg7SEGbA8SsN1LwH47AYdtMjC4hbxPgh8JgAYXSPgzDKdhVWKMTtawGt515LDNUME2AbfLBK+5xijmkNG/Cs5/UNP+L9S0/wt5TGOtAHBT4RZ41t1Q8jkO42R1MH56vA8/Pt6Hn3L3Se8fLPfH4PCgxrnAfNUN17JULL1/DosTg3GwIA7l3Z36mHaUJkAUAOpAl3KYuFdGfntNaGRphD/D0AAQRaqr7evCLqnZsKAHaoTA3FYBvr9+E8aBDBgFEjC/5KsS/GSdyKqZdPjjdPdjY1gxBoaGAQDlT9vVgp9lrAdWZoVNyJyg9PGLAkBSg0PDWB32BEvvXYZJkD/M3Okwc9UAfzJRQDNvBmb7BKrcBrbwDsTR+Eytr3mi5gGsNQCgZbwrzGPcYRxAg9VRApYnCFicJrOVZ58iYPk3A9aHyCQQm4Pi28Pi2wME7HYRmLuFBEFTLwLGNDpmXSbhT+KrVYpnv8e6WfgUiexboNdvhVftShAN23CfHYUW4XNwuvvBFr1BLns+cthmUueyTVDKmYWG9n+iUcZNHf/ETg1bwPvK12NF7k5Uv2AqfI5e9aEk9Cnxj4/34XhVkN7nEqWpJQoAdaDfLuRLt4CTGtu0AkBdHSBWZY/MPIWzf3L2o8PqOB07ve5i7m46bI7QyX8L99YKAK81KZZuiKpsxsrbMbAIDoLF2SCsjbmH2Bqm3v7GZt47bLlaIv0cRkZGsDb7CqzUbAM/5Crvb0mJ0lhRAEgqrqITK+7GwvimLwxv+sDUnwZTd2JcAPjnjVhY+wYrQKCFdyCWX7yOepnzyJoc3VQF++RT0oQPVQBoHeCLOfvJsi+2+wnYHiBg4ULA0omA1XEGrI4xYHVIDIKHZXyIAZtDBObsIWDvSCe3fEMCpFu/s8L8MTvSA0vSj2Jd9nnktyvfuq4X8ECv3wKP2l/gXvuzjH8Bo8ERjQIhGvhZcvCXwzZDKec/ctAn6yv1ixQygGWjfztKN+JsU6zCZ9gz2KsS/mT9tE8/XZIoTU1RAKgDzffKxA9BuchvfYFmQQ8sI4I0QmBem0CvAJjVzFUJf+YedHyyiY4F6+hYuJ6Oz9aN2tbVTysATGBVy73emYe5MAokYBLEkG4nS+7TcvUT7SznvMbmiBK5Qs/P+t5iZVYYLGLdYRXnCcs4D9KxHrjB1F1bJErTXxQAkrpf3QXDa/4wvOkDw5s+MD7nDzP38W0BN3Hf4HELH3vupMDKJxhmXgx8QlzA6QdZaFBTkWCs2aI+fB4VirnJJ2EZ76ocAuNcYRXjBttDhBQApT7AgPVRBgmATmIfY8DqCAPWYyHwIIH5fwfD3IPMdDZzJ2BCo8E20hVfZh3GV48O48usw1iWeQzZ7HaFsYY0n4JH7a9j4I+0R+2viGjxQB0vTg7+8tnGaGr/h1L4k5he/a0UAmVhcGfpn4hkJystfB/b8VArAAxjKsIjpekrCgB1oJGREdRxX8LpLrklcPpxjlz2r6yNwmhYk3hHr/An8drIu4pRQD8S/j5bRwKgrCUQuPCKs9ozgD9mnwZT2CN9nYS6NpkzhMr9sEU/BbO9k5sQWyZ/BmV4ZAR5AiZcypNwuPgezjfkQPBu6v1PnNLUFgWA4tfq75XCn+FNHxhe84GZBwFTD0Jj9M/Eh8CSkDB8FnYZ9pfP49fom9ieFYQ/8nZgTYEj1hQ4wqWKjrzOZq2u9/gGFmZF+ME40gtzElxgGecqBUEpDEa7wfY4TRH+JJHAg2IAHAuBR8dA4GEGbPcxYO5GAiBpArO9aViSfAxfPRqFwJ+yvOTGWc1nKwW/sZHASm66HADWtv8LTR3/UAl/TR1kZDC5xQonKlfgQNka7Cldh50lGyDo4ar8DK+1JWoFgC415/Q+nyhNHVEAqCMND49g5cUCcLr7wRS+w+bkOGnWr6QEjEFoAL6JuYoa7qsJAcA67mv8diOKjPrRGDCnMWB9klAAv7EQOG+fv9os4BvNBXKvszk2AaYykb+xNg1iYP/98TeA18ZMYS9WXy6E8FXvhH3WlGaGKAAk1Tc0SLY5lIFAo1BfEgI9CZj6EDDxIeSzf30YMPElYBJMwOQsAaNgutg0GAXTMffWGWkiwi+5e/BH/m485Gg+V+zyOAcG131hcMMHhje9YRbpAZMbXjCL8oDZbQ9Ye/vB9oCSyN+YKKCV0xgAlIkEygHgfgbMz8gCIAmBNgxfKQBKIPAxZzSx71FHphYA+DNyOh7jCecb5LDNkcM2BbPjH2oBsJLzbzxsM0cW2xwP28yl91NZsxHZ5q/yMyx5VqcVAG4uOqX3+URp6ogCQB3JJb4W/w3Ok9uqiK1vxZYHCfj+7nWsTbqDiMpaMIW6y57Nae/AiZJ4rHh0DquyL8K/KhOV3Gdyv8MW9SGplo0j9zOwKzYZK12uYdF6zRBoFeaJxanHFCJ/Y+GP092P+ZcvaybvaQsAACAASURBVIwAfhVxVW+gm9XwFDtvlE1Iz19KM0cUAJLqGxrEN0khMLzhoxAJNDrnD0OCBmMaARN/AiZ+BIz96TCi02WgT7ltolwx78EJLEw/huXZB7Am/5C02Hx8NQsrrkXDmEbAiCBgwmDg00shWJ9wDwbXJABI2uCGDwwifGF42U89+MlYCoBKINB6bATQdSwAkl5y30kOAoOrH0nXpOyOR1oBYF5nPhr5echhm+Mx2wSsTgkAKkJgDedfctAn64dt5khvm43BYdVfhLUBwF/z9ut9PlGaOqIAUEeKKe3AlTzFcyD68rnaPNglu8Ah+Qzskl1gl+wC++TT+OyBB1JYrSofd9A/AQvXq4Y/iW0O+MFutx/sD/hi/mFvBOfnolVm21fWC0NDNQLgd9d1UzRVlT3vNyKunCpHQEl3ogAQ6HjzAnaxATCO8oThTW+xZSAwwheG5+iKPkuHoVoApMHkkp947XKGXbIzPs84grDGFBA5JTD2J8HPiCF2IHlreJaOWVf85McgA6S2+9VH/2z3kz1/LZ0YsDwh4+Pkv1k5yQCgODlEGfyZuzOwIPqUHACG1o0mxjUKhCrP/0nsWfs7WoTPUc3LxH2WDfLYRmjp+CeaVUQAc9imSuFP1k1PVReA/lkLAPw5d59e5xOlqSUKAHWk7CYhAlJbJgT+7rOapdA31vbJp7HggQfq+C+VPjb4dgEWqosArqXh0/U0WJ5kwPI4AcuTZN9My5MM7L5+HyyhYju4Iw8y5ZI/xtokiAH3rDy9vidMgXgr+DW1FUxJN5rpADgyMoL58fTRjg9SCPQZhcFL/soBMFgTAJKekyS7fjnj6xRnmPgzRuFvzFpiGEjHrBB/GFz3kYsCSmzlTNMIgdaHyfVMqSUAeIgBmwMMWLioBsCFd0/KbAH/jQa+/NGeyFaGkgzg0fN/McyL4HT3I5OzFQksB+SxTdDQLgFACQSOwqAm+HvYZo5sziKVn+eKvL34KXevGgDci1/z9uhtPlGaeqIAUEeq7nyBMwn1EwKA25/cgEPyaTUQ6ILgmsdKH1vT9hKfb2So2f6lYc5eutLF0eokA65xOQrP+YQlhFlwIIyVwJ9xIAOW54JR3v5c7+9LVsNT7LpZTm0FU9KJZjoAprTXK/R7NY72hNFtLxhFesHothcMLwSoBsAgOowC6TAKElsZAN4fXbfm3HeGxTlfGAeo300wDKZjVqifFAANboza5IIvmeihBAJtxbY8Ll7TTo2xeJ2zPkzWBpx9UjX8WXjSsSzjb+n5v935YYpfSkWvEdp8Spr1K3t7pcUNLNFbsEXvkMCahwSWHe6zbFDd/r9o7fgHmsUeDwCStlf6WQ4MD2DVkx0aAXBNwW7pYyqf18Cp2g0bi3ZiY9EOHKw4gceifL3NN0oTLwoAdaR9kRXIaXymd8jhdPfj0wfuKuFP4q15qtvNRWfUYdF6Aos2EArRv7nb6LA8Qaj8huxw5iwalZRtiK5qhkVwkLSgtKStnNW5s0isa5uQ94XTTW4FJ1R0TdjnTmn6aqYD4KacWwoAONaG52jkdu+Y7V9jGh2m3jJt1HwIGNNlQZAG08t+0vXK+pYbzLzoMPFlkOf+lET/5CAwiI6dD5Iw+wYBw+u+MLzhA6tIAr9dv4U5B0ZhT+I5slu/yuBPxpsu3cPppByV8GfuTmBehJu0FMzax3QwVXRGYot6kd9VhOstfrjU5IQbrQEo6CoFW9SHNtErZLB3IJ5phwQW6RSWNSra/43mjn+A2fEPtHb8Ay0d/8BDljky2yzUQuDDNnPktn+t9LPsHx7A6oId+C1vlxgC98qB30+5e/Fb3i7sLz8JAIhsv4v1RduxvnA7eStzn9F0QW9zjtLEigJAHeh+FRen4ycm+sfp7scnKW4aAXBLnvqki6zyDvxNS8TSTUFYtIHA2mPXcfRiilr4k/heifKt7srOF/DOzseamLtYG3MPAY+LUNM1MRnPEku2gkWv+ybks6c0fTXTAXBN1jUtADBAAf5M/Ahp31zZPrpmXmRJKkn0zyqa/CJrHekOMw8CZh6E1gBoFEggtVGxnSaRUAj7A4Gw3S/u8CG29d8MWP2tGf4sTzHwc9BNsIS9OHQ3DebuDFh6BGK2RyAsPQLJs38hBH7K8sCGx0G411IJtqjvvdaq3HYvxDLnIp5pJweBCaw5SGuzRA7bFHlsE6SxLBHPnIMUlqXGKCD7pWILOImOVLphTYEjVj3ZgV9y90jB75fcPVj5hCzLE9Uej6bXrVhftB3rZOFvjDME2Xqbd5QmThQAfqDan77FupAiMAWKZ+M+xCxRL9pULCx/5oZr2AI+jYCqh2qfv5H7BtdyahGUUoxbufVo4fcgLKdKI/xZnmQguqhpQqFuvH5Y/xS7b1FbwZQ+TDMdAL0rM1TDX7QHbHxdYXnCh9zuFUcBjQi62p6/Zl4MGDHoML3iDfPb7rCKOw1zbzrMPBgw9yALRxv7a4Y/0yAGGvmKvYPLWc9gdyCQjPjtZWDO3lEAtD6iHQB+T4zunjxu5sMlKRt7olLgkpSNnGblXT/G/UVV1I045ieIZdojVg7+xtpeej+OaYsMFVHAh23meNz+BYaHh1V+nrmiIqwuGK2/uLaQtOTnjUV70TvUhzO1vvKRv7Eu3I695cf0Nu8oTZwoAPwA9Q4MYV1oIfKan7/3t0BZs0V9uFxeha9jrkprB65MiEZsvXxW792WWrXRv/kprqjiKd+OZov6EJxSgnnHz8LmbwbmHAmEzd8MfHbyPHwTnmiEP6uTDJSwnk465Gmye1IDkipVF0alREmTZjoA9gz0K4U/00gPfP7zKXxvfhxLlzrDkEGXQqCJr3zkb6ylfXXD/aU2uOAPU286zD0YMPNgwNiPUJkEIskGNiYIRFc0K732T1zLgIMjA3O3M+Ag9tztDNjtVnP+T2wb50Acup2q9/Wpmpcjhj/SceIooCQSKLmfyPpEDgLjmTZIZc2Wg8CHbeZ4xPlCbQkYgEzqiWiLxuqCHVgrC4IFO7CxcC8aX7UCALaU7FUNfzKm9PGLAsD31PDwCBb7ZWGJ/yNsjijG6suFiMhrHxcIMoW9aBX0giXsg0dSA9bExUl7BUs6h0gKSY/tHexVkaZQBsYh+QzmppzBnRbVTcrPpZbC5m+GSn/jcwXWpwKVwp/1qUBsCY+bdLjTxq3ireDuN9RWMKX300wHwJRqHgzpV2AS7UlaDIAL/nTGdxbH8b35cXxnfhz22zxhRNBhSNDVwp/EJn7yADgrzB+zQv1h6iWGQE8xBDIIhTIwRoEEjOgEjAMImNIY2J+QirSGDum6W9/xGsuPhGKeGADH+svjlzVGAB/Wd00AAD6SA0BJJFAWBOOYdijuuons9oNIYM0dExm0xX2WNe6zbJDAssXz3hqtPtORkRFUvahHQOMF7C47gQMVp3G7PR7dfc+kv6MdADrqa9pRmkBRAPgBupTDxJrLBQDIaGBwZguO31MNX2O9+2YF1ocWYeXFAhxJyVXbO9gwNABP2PL9g5OYTdjx5Aa+SPPF1xkBOFmagCcdqluuNfN68OnJ82oBcMmZy1jocUkBAq1PBWKZbzgq2PrP5tWVM+ufYs+tcr3OAUrTVzMdABt5r7DiwhMQxQVYnBQEkxhPmF31wHeWJPxJ/J35cXy6yg2mngFyiR+qIoAmAWMAUAyBBucCYOZJSCOBRn4EjGgy0UAx+JkEiG/9CZiKf/4zOg7N/B4ExRaqhD+Jt1yKg+UpBqydA6XQJ7lPTy2amC+oQj5imfOUQKC8mwStaBBUIZE1Ty4SOBoRtEd6m6NOj7u41flr3ALeV+6ks9ejNHmiAFDH8klpwK2CTo0LAFvUhz8uFUgftyrpNozE0T5VPYSPPcr8oEUnOr9RLfxJHF3QiDNxOVjgcRFWJxlY7HUZXol5qO1QntDR0PUGlzLL4RyTBa/4XGTX66fv7/vYLbEB96uprWBK49dMB8Cxetr7FldjHivA33dWJ/Gtwxl8M88V9o5kizh1AGh4lqYIgOFkFNCQQYeZJ5kQYhxAwJgmY9me5mNsGkBgd2wKfnW+phb+5jkGYpNPDKKKGrH6YjRsXIJg6xKEjSF3EVfGlFufWwXvwBb1gS3qQ1p9B86kPMaJpCyEPKlCk5Lzh+N1dvtJxDLnqoC/echg75D+bi0/F/fbvhCD3zwksByQwLJDOms/1odlo39Q9dm/8ar1dZvaJJB1hduRLcjV2etRmjxRAKhjkecCNX+LvPioDZdzmNLHWUYEqo0AGoQG4JfYyA9acEIfVmoFgDEF2id5XM2pwdyTZ2F9jIE5x4Ng6xQI62MMbAuJRxP3wxfJD7VkK/gptRVMaZyiAFBRj1Oq5eDvm7mu+GahJ75Z4IFvFnhg2ZeeMHcjSIhTAn+mPgRmhSqBP8l5wCAamUgyFgADCBj7qwZAiZf8fUEtAM7dzsAKZ9UlsgpahdgQfg+WboGwcGXA2j0In/pdhJknA7N9AmHpGwQzbwbsAs4jprz5g9YmlugZHrStEQOfg8ytA5LbfkKrUD7hpE30FlW8FBR2nkNxVyiaBOTrR+S1g0hv1unnfKcjQWkZmHWF23G2JVSnr0Vp8kQBoB70V0QJGrjK26ZJvCakEO/6h6SPsbt+VuMW8KqE6A9acBJKmFoB4KM67SJ4cSWtsD7GUGpbp0BsC4mfdADkdPcjo64beyOprWBK49NkryPqNFlj47Y/lQLgtw5nSPBb6Cnnz//rDYszYgD0ZEhh0MSXgMFl1fA3K4wEQMNg8iyhsZ920T+p/Qks81J9/m/udgbm7wjETkL5OeYHNe0k+J1hwMJVxmdIm3kyYOZN2tybBML0esVSNONxm+gVSrnRSG1bi0TWl0hpW4nirmtgibSvKcsW9WH7tTLUcV/q9LNueNkM5xovbCrehT+Ld+Jo1WkUPi3T6WuMDAkw9JqOQdEPGBR9h8FXXhgZouq4ToRGhrjoFW6iAFDXKmB2Y9OVErUJIbcKOvFXRAkAMmq4JTlemvChCgDHJoKM+xunsBfLXENgqwL8bI8E4mc/7Xv2rgq8LY34qXJOg27KJnyoXRPqqa1gSuPSZK8j6jSZY3PeGo7vZp9UCn8Sf73YE5+t9oXFaYKEQVc6meyhDv7OB0iziY0C6DD2lwFALaJ/Jv4Evr90Qzn8bSMwdyuBudsI3MttVgpRc73OK8LfWAj0HrWFTyC2RCZM+trG6e5HBec11oQU6nQrWN8a6s3CIN8cg3yTMTbF0Lv4yR7etNbIkACDgnkY5JtQAKgP7btdgdQaESo4rxUu1mLWS/x6/gn+iihG78AQ8lq6YXD6HgxCaDAIUX7+z/baWaQxOWgSfNi26t3CZtgeCVSAwDlHAmF/LAgPKjlaPU8V54Va8JNEAb3icyd9ceR0k1vBf1wqoLKCKWmtqbCOqNJkjq1b8BK/fe6lEv5kbb+TBqvjDNjup8PgfIByCBRnARsEibuKnKXDkEGXP//nTwKeJgj848YdbPCMwnzHQPLM3yYaFi87g2X2TljmcBxLv/WA+4UM1LDle6VHFjUqB78xECgbBZRAYKtAeReQiXZEXjvo6U0TPh/eR8ODnRjkmyqBv1EPD9RN9jCnrQafbZe+zxQA6kENvJfYfbMcG8OLEF0sX1Zgsd8jBKQ24VxGIyz3XMdCx/NYvC0Y3x64BBtXAkYXyYifUSgZETQOD4BpjAfMY91hG++NY4XJqOcrT8hgi/qQXMeBd2Y+vDPzkVLHUYhExpcw8ZPvdTkAXEmPRGplu9aLTWGLSCMA2h0PgnNM1qQvjBJTWcGUxqOpsI6o0mSP7W5kgVYA6OAYACsnAg6OdHyyJgAG5/wVIfCyPwwDaaMFpYPJkjLG4mxfyfk/tRAo/m8nkrPQxH0L5/BMLF7hjW//sQvf/Y8jlv8f0t/9jyO+MdiHnzefR3XbC+nasDcyRXX0T8bmbvIAaObNQL2S1piTYbaoD47Xy1Db9WJS5sR4NPh8n1r4G+SbYPDp+ske5rTUUH+d3PtMAaAe1TswhFWXClDYOvqN88S9WlzPbcb3B0LwySZCzp9uJvDl/gtYf+8uvrl3BSaRXjC/5w7z2FHPjvXA8tQLqOfLRxcL27qxPPQ6TPwYMPMPhJl/IEz8GFgeegOFbd0Ki0VuIx9JZSzkNwvHvdg083qkyR/WxxiwdguA9WUvWN9wh3WEB6wD/GDtRODyw4pJXxhlTWUFU9JWU2kdGavJHltTPVf19u9CT3y5yBNfLvTA3L/8YeVEYMFqGhb/RsOC32gwIAJgGEyDwdkAGAbJgJ8E/oLpYthjwMSfIQ9/yiBQ5t/L28kyVYXF7fju/9uB5f9DQp+sl/8fR3z7n7046pcoXRf2Rz1QD36uZGkaUy8GTH3E9mbgE8YlnTQB0JUrOW8+iq3gQb69ZgDkz57sYU5LDQq/ogBwItUqfION4cVo4ZPt4q7kN+Gb0wx8sdsbS75yx7fWJ/Cd+TF8a30cS790x4INdGz3uwOLWHnwGwuBHqWj7d7quK+x4FwozMXQJ2tz/0AsOBeKOq7idvSH+PjtTNg4MWB9wRs2iWdgHX+GvE0gb22i3fCkbWqcAZSYygqmpK2m2joiq8ke28jICNb/Gix3DvCrhZ5Y9Isv5m6hwX43HQ476fh0bQA++yMAi1YEYPFvJATO3U6DYTBtFPjG3tLoUviTAKAUBP3GQKDkvh+BZZciwOnuR3piFVb80xHf/F+rSP/fq/Ht/7tZAQS/+MIVde3kTkpSBUtlBNDcTQb6fBgw9R29XXv97qSvaWN9VQ9ZwbrWIN9SCwA0nexhTjsNDzRgkGdCAeBE60peG4JyyhBUR8PB8rU4VLkGhyrXYEfMn/jtt/343vQYvjc9hu9Mj+Fbq+P4bE0ALG95qgRA81h3fJJEk377pGcXw3QM+Mna1I8BIvvDkkjGurr9JRZdDCJhT4ltE13x68MLU+obMqebygqmpJ2m4joi0VQY28n9N6XlX776zAOf/e4D233+sDxBjPokAzYH6ViwcgwEbqXBiEGTRvwMg+kwDFSEv7EgKI0M+o2Cn4k/Aya+DDgEnMdlz/hR8Bvr/2ftaBTwfxzx1ezDeFQ+WrN1oe9lBQg0dx0Dfkoco6Il3WRZX1nButSgcLFmABTYTfYwp5WG+6sxzLfBMN+MAsD3keh1H348m/deVde5b3k4WPqXHPwdqlyDg+WkV63fKweBX81zhs15b7UAaB7rjkYBef7k+7CbKuFP4h/Cb+p0oWkT9eGrVAI2CcoBUOJkVqtOX1cXprKCKWnSVIAsVdLX2DyTGxBfoV0ZDrcjUfjW4TSWW53EdzLFob/6xBlz//r/2XvvqKjWLd17nNN9uu89/XXf7tH9je+O7nM2EkUMBHWLCXN2uw2Yc84BUUwoklOtKkAwgYggoEQFJQiCknPOsYgVMAeChOf7o6iiioogUEv3esZ4RrHdsHjBtaa/mvOd87UfOEnoIoHJp2iYYewgAMCZG5yhynAWKf2qOkqHPxEAFI5r9nSo2/JKszrHraXDH9//vE0AgYs0TiO1iCWICWnVHEyxdBXt+rWUDn4a9nRoOTCw/v73jecaDfO7gr/1kLMU3PP5plwA7Plgoexl/hTq6+tD32c39LI00dOqyXsVasChAFBBdXzrgX8Gc1hfe6+OBpP8rSLwJwyBJ5O2Yon+BRgZXYOR0TUsnnwRejZWMuFvQpg1arm8svJsd0+5ADjHw0skSBRXvEHQ3VfwvxGH5MSqIQeZzCaOTPCb9PQadCOuwzo3VukBcbCpUjAlefojAmBSFReVLMWueYeIxrLxF0TgT3A6iNYFTN1uK3Kc5K97eAA4a50TJp9xxrgbtAG7yoY/kRKwPQ/8NAYNmp5hcEw+AP7JGIv/fR+W/tdBrJxhLladKGr8ANPHL2Bg7Y6JFgzo2LlAUwYA8k2WTmBhj8SA6L6+PvR2pqDn3Sl0t/2O7rf70Nv+FH19Xd953U50c2bJyP7po6+XfM/dj6i+z7fQy9IUMx8CKQAcZX369h4m+Vskwp+wF9OuQPc4nedjBHRPOUDrkRT4C7XCoaQgwcO+2S9Y0PQhyZqODGzxCwGzrQs1LV9hs+82lv3TZpHAeHDqBWRkKDYGhtnWhbRGlkIAeD0nWunBUJKpUjAlWSJbHBEWGdZ27dB9EfAbDIFLdS5C5zwhyAIaHHTG7HVOmLrbESruzlC5wbPCAOgwkP3TsBU/Zm7+/9mmGAD+01Ys+8+DuHE7QW6MOBz0DFoODLkAWMWSPfhfGeZ3BZc0D68U3NfXjZ53J/uhjD+vr7982LYKfb1vv+v+6et9i+62DeLwx12Ovh6qOjMS6uv9gl7WFIkAyIdACgBHWcwvVXLh71TuZqy5azoAgP2efMEZmo8toRFgDY0HttDwtYVWkBUmhtngZf3AFHq/7DK5GcCH2eWo53bC7DdHLPnzRrHAuPQfN2Htf+1FvlBZRJZrOO2Y+dxeLgQGVBQqPRhKM9UVTEmayBZHhKXstX189wUrtS9KBUA+BE7b1p8FvEBA/7Az5q+9gkkn7aDi4SwKgW60gePepEFgf8lXEvyNt6Fj0b9vVwwA/7IFJ7Z7KBQfGK+yZWYANe3pWHTrvtLjmDR/T1dwzyeGjFl9Wuh+u3tE7qW+7hr0fn2I3i++6PtWOiLXpMRTX0eUVPjjmwLAURano0UuAJ7O24yV7mZiADjJhIAawxmqDAKqDJrgdXtYiEjZoY7biZ0B4RIbQTQc6NgZEI46bideRpfIDI5L/3ETHI54KRxgbHNfYPJTC4ngN+WpBYyinQRlajKaGhBNSZrIFkeEpey1VZc2y4S/5VoXsGz8BRj+biXIABpetMakm9ZQc6bxwM/DGSo3nKBK0EQ6faUB4ApPP0ywc8F4W4YA/LQseeVlnfN0zB5/WDEA/JMxPKwjUdkof35fSfMnTHJ2kwmBHsnkGnU12MMZEN3X14lutvxRLX3d1aN0h1EaCfV9DaQAUNnq6+vDpdxTOJMnAwBzN2P6OQfR7N9pAqo0Aqp0oh/8BqzGILAvLELkQa/htMMyNhl6dA8B/OkxPGAZm4waDg8WbfbextK/bJIZHFf/207FAYrzFdtfefd3/YrC3/RIG7yoq1d6AJTnFyVt1IBoSmIiWxwRlrLXxm56Kw59E82wdv9pbL57GFseHoKxw1EYnTDHhIsEdMwILAs6Cy1Xe6gRBMYRzlDxcBIc+SY14+dIhw7NDVYvUlDH7URsaSM2ej/mwd91HvgJTh46ZItFCgLgsv88iO0zriO3kC03PgTlVUHb0QXjhUrB/LLw4aBnqBu0jzCv8T1iyhuRVsdVemxjtg1vQHRfV65CY1p6vzwYxbuM0veqrzOVAkAy6GxUsMzsn/HDU2LZP63rkuFP2M9KxffsVbHb8bKyBS8rW8Q2J5utdsTiP8sPkDWtiu9pqeG0405JBtbEe2BqpDXmRDnCPOs5MpuGPmBaWb7+tAwR+VQpmNKAyBhH+CLD2k6sc8WK8bwy8MqZ57At4gB2ZuzDzvR92JW5DzvS9mFHxj6sCjuNhffMsDzhJNQIGtQIAmoEAVVn2sAYFykAOJHmhsLGD2LPa3b9Gyyw8cSkQWeRL/jrVoUBcOU4E+xf6KDQmKrXVSycCY+FAf0mJjnfwO/eAbifUSICf0k1bGwLCoUavT9u0wks9/FDSKHypyDkMz9j023FS8F9XdkKAKAmer94j/JdRul71NfXi16OEXpZWlL2AFIAOOrq6e3D5jvpiGLG43zBLl4mMG8rTPK38ODP/yT0ThAi8DflOAFVQjb8qdIJqDvz3oWm1CgGW3YH78rNAK75j91KD1hjbX5XMFUKpsQX2eKIsMiwtuzXFVg+/gKWjzfD1uCD2Jm2D7sy92JX5l7syNiHLekHsCX9oMDrXh2FrqeVAADVhOf4yYBAjet0zKN7objpI+o4HbCJS4GuizuvOuJMQMOGgPZFAjrn6dDfYI7FfzLGoj8bY9E/b8Giv27Dwn/fjUWDGt6W/d9jWP7301j+99N4EVP2XbGjsOkDtj0KgTqdLgA/vtX67Zv7fd9jJHx/CKXgvt5P6GbpyC8BdxWM8l1G6XvV15mCXpY2elnjJQCgNgWAo6m+vj4wXlTCMboSzLYuVHE+4tATb3gU3UMi5xkepaeKZf50j9Mx5YQc+OsHQDUaAS0HBibTbuBlRYvcIPD6ZYXcPYC0Uw+UHqyUYeqsYErCIlMcGSyyrO3180Js2GyGXZl7sTdrNw5m78DerN390CcKgJvTeNb1tIYa0Q9/8gDQkQ51y/4zeC150KhK739zzH/tt5Y5AR0zOmZNM4XRMjsYrXaC0UpHGK1yhNFKR8yfYIJFfzLGkr/uxPK/ncLyv5/GynEmcLOKGHbM2Pk4XAz6JFnXw4MUo2KG0hXc8/HaQNevpCaQtjXDmolLaezV15WN3jebheBPC71v9+Lz+xwKAEdTxc0fcMI/H7WcgVKBkWMCnKJ578S6vnVjh3MA9E8whpUBVHMmBHtSlt3xFStn1LDbUdr0CXVC399im5vEMvDSf9yEjf9zCEVl5Ni7ogxTXcGU+CJTHBksMq1tT6Qr9mftxuGcHTiYtQNb0vZjXfIhLE88KfDqV8ewKe0ANqcdxG9xJ3gAaK9YBlDdktfsoW4nAa74AEjjWduMt99wxlYnHgAKe5Uj5k8yFcn+rVQ1gev1p8OKFYfDIyXC3jg6DeNcaFBx5XkcgwZVkmQBh9IV3Nf7Bd1v1gv2+wmXfrs5hujrbhiDu4vSSKqvpxl934rQ18MGMDZx5A8NgK7xVfDPaBZ5CH1SG7HeIxUp1RzUfWlEflsFLvtHQPeEKABq2MjfA6juQIh0pMWW8Y42elXcguM3I6B/kgeWs009YBX4CiWNH1HH7oCL6UOs+hehsQl/NsaZRdbI0dDhrgAAIABJREFUKyTX2b1jbaoUTIkvMsWRwSLL2j51fMOOGBscztmBwzk7sCdjF5YnnsTK1yex4hXvlf/x8sSTWJ98GFvSD2LiLTv5GcD+sS+alnRoWvVDnlDmT92BgKY1AS0rOrSs6NCwIaBpyQNAnfME5qyRDIFL1U0FALj876cRGV4w5DhRw26XDH8uNKjcGGR3GlTcaLBOSFF6fGO2DbEU3NeJ3q8B6G5bjW62Prq5C9D7+cZ3zwCkRA5RADjK2umVKZaVq+d2wrMkDusTTbE+9SjWpx6FcepxrH5+BROcHKFpwyvtyisB87N/wr6bWohn2XWYdspVLKuof4KBFde8UdR/AHol8yOePc5GuG8qsnOaxjwQkdXUgGhKALniyGCRZW3Z9W9xIvUyDmXzAHBl4nER8BP2ilcnsTThFDanHYC+lyXUnAio28mAPwc6NKx5cKdpLZr107AloGnFMx8A+R9rX6FDx4zA9F3OEgHQaIUDFk67ihXjzmD7DEvUsYc+psolOXvgzTkf/hj9sMeHPmHfoGGRn4/SYxv/35/vGRBN6ecRBYCjrGtPirHHOwtlLQNdtXcrIgTgJ+KUY1iVcBKaN5zkl36deCWUwQDok1GM+RduQ28Q/AlDoKkXOU/mIJOpUjAlMsWRwSLL2t5+6cLuxJOC8u+yxFMSwW/h03Mw9L4Kw3vXMC/oPHRu2fC6gG0JqNsRgpEvAtvToS6U3RMGQHVHUfATs2X/4OlDNMkAuNIRRssdsHSOJVLTFD/5SNimz+NE4rEqnYCKmxT4E3JiDTkqLN8zIJrSzyMKAEdZXd298Eiohn86L8OW38rGhtRjkgEw9SjWpRzFnJBL0sHPUTL4adjToePkCp+EYongJ+xpp1xR2vRJ6UGIzOYPiKbOCv7jikxxZLDItDa70us4lL0DO9L2iMHf0tgzmOJkD21zOrSvEjyb06F1jTcGRtWJBg0bAuo2BNRt6Tzb8Mq5Gtai2T1+CVjTWj4AjjcnYHCAJg5+K0SdWTK8UVXeWcUisXkcXTb4qbjToOZB4Pqr5NGNXdw2NLNvgN1iBE7LJLBal6CZ7Q0m9yMauS1o4taCyf2MRm4rskrswKxeg+43xuj55EDt6fsDigLAMZBnUi2Cs3nv/O5UPMWG1ONSAXB96lH8nnQcagwa1ISGPmu7ueJYeJTM8yivRb2GQ3AKDE5Kzv4JO6GoeXQD0U9gqhT8xxbZ4oiwyLS2eHYMDmXvwKaU/SLwtzzhFCbbOQigT9jjzQmMv0rwBkE78bKAGjYENPvhT92e92ZXGPTU7foBUBb89QOg1jU6DDc7C5V9RT23/3Xtdg+UNw7vzbA6gy4oAwvKvzKs7kHHhbiXoxavGrgNYLfMAKflf8Bp+W9wW/5b8HFbizo6Wsahs1UVHa0T8Y01Ht9YmvjWKtTVy9JEb3uYsm8nSmMoCgDHQFefFCOl6j2YbV2wL/aGsRwAXJ96FA7JydgRHIbtwaFweJWOwuYPqOd24tKzBEHX73hHF8FEepMnL1DL6QD9SbrY3j9JTikTn4Afk1qHs1ZhWL3LHWv23IQFIxqpf/CmEIsnpVQp+A8qssURYZFpbazPH3A4/RD2Z+7CkoTTgj2AcwMviYHfYAjUtObtd1aj8fY0C9z/Zxo2A8CnaSUOhdIAUPsKgbn87F8/7M1Z4YjZa50w09gZMzc6Y+YGZ8z+3QmnLgcPKzZYvUwW3f8np/yr4k6DR2a+4Otrue0IqirA2cxAHEt/ANv858hsVuwcdklmta4Hp+Xv4PbD32C/a/kbOltV8a1VTQj8xIc7930rVvYtRWmMRAHgGMg5pgKxxW1gtnXBtfSRXAA0Tj2OGq70kzjS69pgHZuC0+ExsIxJEhkCnVLOlgt/y8y9xBpTXO8nY87vTjBa54w5vzsJPjZa54ygmBKlg5iyTJWC/7giWxwRFpnW1tPbh11+MTDLPwOj2LMCANRn2EDbvD/7d4WOied48UfvCB26x+iYaEqH9mVR4BOxMwE1e4KX0esHO37jh0QIvD4Al0su3sbcVQPZvzkrHXnQx/cm2sDHG5wR/mJ4I1os4pIElRoVV+kQOM6dBu3brihnfQGzrQv5rW+w4RUD06MvYUb0ZZFXt+KEIa+jgVMsFfyE3dWqhm+tajKGO2uh572psm8pSmMkCgDHQE/zm3E7kXcmbnJTtVz4sy68+13Qctj9icwsoHdcocjnP0uqFkCfJM9bT0Nu5Rulw5iy/KKkDSf885R9G1EaY5EtjgiLbGvbejcDddx2+FXEYU6MKVa+PgldZzsB/OkepUP/EB16h+jQP0iH/n4CU/cQmLaHgMFeAnr7CegdIqB7lMD4KwQ0CDomud7A62oWylo+41zoC0x19MBEG1cYOHhg/OCmj0s8oJwk5Ommbpi13glzVzgOZP020cS90RlzNtCGHR/quZ1wSc7G7uBwTLpzA6oehAj8qXoQGOdO4H5eieDzN792EwCfJAdW5g1pDU3sBwoBYHvrOPlHvLGnKft2ojRGogBwDJRSzYVDVKXgYb1W4CGxEWRD6jFsSjuF9GYm0gpZsHONw4kLj3HOIgxBz4tRw1Jsknx582fsoQdD9zgdBicZ0D/Bs94JOmhhaWKff/JqsEjmb7DnrnUGzfOV0kFMmb5GlYL/cCJbHBEW2da27W6GoKrgU1QAvSeXMYVuA+3LBKYc42X99I7ybHCAwPSdBH4V9g4CU3cR0D9IQP8QHTNN3fG6Wno5NCCrHJPt3DDeig4dCfA3yZSOyecYmGRCYOZ6R8ngNwgCY1PrvjtOFDR/gEnsC4y/5SIAwN8fByK8tFbwOc/rKqWC3/ToS/g1+jI2vXYdIgD6jSAA6iv7dqI0RqIAcAx0IaQQr8rfCh7WKs5n2BbdE0AfvyS8L/MSEhrL4eqVBKMVjpi/ird/Zd5K3uuW/Z7Ir3qrUECo53YiOpeJyw/icPrOczgEJyO7WnIWb8kWF5kZwDm/O+HAeX+lQ5gyXcXilYLffulS9u1EaYxEtjgiLDKtrfVDOw49yBF5XkLKqjH5Gh1TTojD3687JQPgrzsITBOCwOsPZJdCS5o/4frT12LgJ+wp5xjQO0STnv0T8mnLUIXjQR23E4nlrYgubkBh4wex/1/J/ooMZhuKmj+K/T+rvEgYRl+RCYHToy+hsFWxWM9s60IDt1ohAJRd/lVHV6smut8dUPYtRWmMRAHgKOvD12/Y6ZUp8aHNa2XBryoe3pXRiGbmo47bgcCIQrGONb7nr3LCrqP3xfbvfa+XbXWVC4AHzQKUDmHKdmxxG04FUKXgP4rIFEcGi0xrs39ejoh88aayeedvCsBP7ygdekcITN8lAf4GQeD0HQQM9hOYedxN7jNpE5qEKecYMiFw0lkChpucxcu+vznCaJk9jJbbY9ZaJ5yzU+xIOK/kIswjPDHego7xFnRMuM7AoYcRyK1/p9DXX8t9ohAA5rQMHMlZx21FRasript+Q1HjMpS1mKGWI7qV522Ltkz4+9jyd/nZP5Y66ltjlX1LURojUQA4ynKNqxLMAJTnem4nth7wwjwJ86qEHZNcq9D1FPVZ6zC5JWBXn1GeX/WD2Dy8BDElLGXfVpTGQGSKI4NFlrV97PiGzXfSJb4p1TtOh+5RQgCA+gelgN8gT9/Og0T9AwTKm7/IfB7P+cVC97yLbAA0pWPGlgH4m/27ExbOscaimdZYMNcGC4xssGi2NY7s90ZJnXg2T9i0FxkC8BP2hOsMzHa+gzymfAi8X54hF/4Wxlmjlsvb8lPDzkJBwwQUNPyCgoa/9VsFBQ1/Q0XrzQEAZF3Hm5a/Se0AlpX9+9b/2tzkhK1309HdQw2I/iOIAsBR1nqPVLkZu3puJ+7nlGD53Qcywc9ohSMWrHaGw434EYWaF+n10rN/axwxZ40jjpn4I/pVtdLAq5L9BbG1TMTWMlHJlv2Pwqiug9WOjbfS8P4rVQr+2UWmODJYZFnb3de18EsTf4Nbw26H7jG6SAaQX/6V634AnLabQHnTZ5nPo8OTVLkZQH0zFxj2N4HMWueERbOsMX++LeaucsDcNU4CGy13wNbNHlKPhstjvsOE6wyJAMiHwHMhLxSIZZ8x74UlfpXSBPJr9CWYZ59FfJ0e4usmIb1eDflMYfgTdTWbN1uwiVuPrlZtfGkdh3ctf8Pblv/Bu5a/4UvLL3JLv90sdXxlrQCzrQt3X9fjxstqpd5XlMZGFACOovr6+rD1boZc+DOLjocqg4CWPaEQANowYkccbO6F5IiNgeHD37yl9li01AELFtvD219yOXu0XM1px7XMOOiGOkIjyBoaQdaYEuqIqxlxqOYo1hQz0o4q4sLkcb5S7y1Koy+yxBFJIsvavJLr8CizRWJc0z3O6/4dagbw1+0DHxfUvZf5LGbVvMFkOXsAj956gjNHHmCh4XUsnm6BBUbWPOj7zVEEAOf+5oi5qx3hdltyw5tTbDq0ZQDgeAs6pli7oYotPy49rSnDzBhzzBApBV/Er9EXsfHVAQRV6cOzYjY8yufhTsVcBFXrI71eRQIAqqCkaavguizOS3xj6fCGPAv29anjW+tAlk9yBlAT79h2gr+7Pd5ZqGJ/Uuq9RWn0RQHgKKqruxdr3VNR0So9IAQXVg8cKUTQMHuNbAA0WuGIgKeFcgPMcJxa2IoTVx5jzmpHzFnNOzR9/hJ7LFgs6vSC4Q8rHYpruR3Y/tIfmkE2AvjjWzPIGtvi/VHLHfpB7iPhiyHFiCtjK/X+ojS6IksckSSyrM0lrgreyQ0Sn5HNTgHD2gMoDIBJheJwOdhWIVIaQUwITDnhjEW/XsNyvatYNsUcS3TNMXe1ozj8CUHggtVOEr/P2eBY6Fi6yATA8RZ05NQr1rzxuqERJhnumBljhunRl7A8/gQsclbidvkc0MuWgF62WOh1MTzK5yGtfpxECBSuMjVym/GWw8AX1iZ8YW3EW7YzOOz7Msu/31iaaOLWDIB13Udsu5uBnt4+pd5flEZXFACOssJym+AoNAJmsLcHh0HdhS6AQN3jToJjigZ73konrNzoiqoW6UOiv9fHTfwF2T5JXrTUAXa0mDGBLN/SIjHwG2zf0iKlAGBlazuMb6XhY8c3Zd9ilEZJZIojg0WWtX3p7Mb6m6mok7DNJa6oqT8LKL4PUGoX8KA/L5STAWS29c/he54Jw0vuIgBosNMOi2Zcw7Ip5gIvmmkpHf6EIDApTxw8LSJeQ0dOBlDbgo6yFtlla+F15zYuQCZTFRlMFUTVaMOv6lch8BvsxfCqmC0BAH+R3xjI7cR79tV+4NMQgj8tfGNpgMsRb/K7mVCHW69qlHp/URpdUQA4ynr7pUtqFzCzrQtTb98SOVRclUbDr9t4Z1UKg+D8VU5YtIaG6KQahYLLcL1qDV0q/PF94KjPmEDW5jg/aEnI/vGtFWSDzXF+SgFAZlsXIvLZOB9cqOxbjNIoiUxxZLDItDa752V4mifeBcxs64JZUBymnBgEgdLmAO7mZQj5f3bYLmRIz+OpDW5YOO0C5k2/gMXjz2LZhItYNvmKCAAunGslHwDXOMHzcZbY9RPLW2XC34TrDOz2CVN4vdXsLGQ1qAgcVaMNRtkiKfA34JQ6NRH4K276XbHvye0Em/MUX1jG/WcB6+AT6xBauekSP7+e24md9zJRw6FKwT+rKAAcAy2kvUJ0EVfiQzbz7l1RAOwvBU82ccZM434I/M0JVx2eI61w9Euva9a7yAXAIyfHBrrmRLjJzQDOiZA/KmI0fT6oCK8qOMq+xSiNgsgWR4RFprUFZDbg0INcVLM7UMH+gtLWT3DLycGcx3ehdt8JKvccoHrPDpp3bTDB1gG6xwnoHiJgsIc3989gDwG9g7xTQfjZwVl7GHitQPmX75xCFpb/7ZTAy/52SgT8BAA4W4EM4BonPIoqlvh9DvlFQFtS5u86AxMtXRBXqtjEh2rOR5S0PhIBwPCaKXLhj162GM+qJ4tkAKtYT0YtvmXWfsAOr0z0UqXgn1IUAI6BKtmfsOl2OkqbxUu356PjRUrAg63GoMMmMXXMgMbCNlJmCXjhEnvc8RE/TWQ0vDLaUy4Aroz2HFPgG+zyFl4p+HNnt7JvM0ojLLLFEWGRaW1fOrtx5Hks9ALcoOJnB5X79lDxdoSKt0P/K/9jB6g/soJmsCUmmjtC9wgBvSO8mX/Cmb8lx27iZV7jkJ7D6MhiUQD8+2mJALhU76psAPyN94a7qlXyNpsqdjtOBkZBu7/cyy8JGzrexpN82eO56rmdiG2IAVF2AuZFa2FetBbOJUsRXq2LTKYKgqv1FAPAmsmCMTBlLddGfC7sYLvF18AruU7Zt5lAfd316Plog+62FehuW46ej9bo6ybP+n4kUQA4RgrIbMA9CZul0+q4GO/qIjhQXNjqLnRMcr+B/Cb5+2BGyil5LVi8zFEK/Dlg1e90lNTLnpU1Umbkp0FTBvxpBlmDkT82MCrL4bksXAotUvYtRmmERcY4whdZ1tbb14czKU8x7qEdxvnZQcXHfhD4OYpBoEawJTRDLKHl4ITJpwkYHmBgzgFXbL7kiztPc4b1DCYmVItnACdeFisBL5tiPtAFLAH+5v7miHPW8jNqWXVv4PoyG44xaQjMqkAtR3YzWj23E37VN/rBb50AAM2Lfod50VrcKJ0P99K5CpaADVDStBPV7BejDn/MNt6pJzu8MsF880Wp9xoA9LY/QzdLq9/8RhYtdLM00dseoezl/XCiAHCM1Py+HSf888UermpOOxgZmRjvxoNAtf6snyqDwBQPd0SVi0JjOesLvLOLQSRnwTe3TKGRA0N1WHQplix3wsIlDoKs34LF9lj9OwOJGZI7/kbDpaxPmB3hivHB4vsAxwfbYHaEK0pZn8ZsPbJs8qgQKdVcZd9mlEZQZIwjfJFlbZH1pTz4e2jHy/4Jwd84H3uoB9hAI8gKGo+toOZvC5X7DlAPtIZmiCU0/K1xLCxKDJ7iK5rhkpQNt+RcJNdI3lsoBinsDmwxMBeFQI1zEgFwKX8v4GpH0XEwqx2x18QPdZyRh6qkpnQh6JPsQ9lbcad8jswmkPuVRxX/vuz3eMsi8I5ljiZW9netP636PXbdU24puK+7bhD4DbYm+rqrlLa+H1EUAI6hdt3LFJSB67idsM99halPHaEVagnNYEto+dhjts9t7AoJg1tqLspbB7rJ6rmdoCVnYcIN1/7SMCGARM+ske+ELap5D3fPZJiYPYbppWB4B2ShvFGx7raRdFZTG1b1l4K1gmwETSGroj2R2dQ25uuR5rKWrzC+lYYvVCn4pxFZ4whAnrUZx/pCzd++HwBtBfCn9tCWF9dCLAWvfKv62/D+PMRS5A1cZv0brPbxh5ozAXVnAmr93hIQgsIm+VWHAK8U8Syg9gUeBAqB4Ar9a1hpcA3WtpEw3n0bq7fewN4zvniRUS9yveeZ9Vh+3hMzj7thoclt3HmWO+yM2+3K67hatF4q/F0pXAuT/I3Ym7UTrmULJY6BuVWxBWVsBfZFstvRzlooMvfvW7/fs86igavYkXWDzXhRjfspyiu19ny0kgOAWuj5eE1p6/sRRQHgGCqysAU2z8pRz+3EqdRwaIVailk71AorYm6hnC0KW0RyltR9gqoMAg9yS5UGP7l17xBX2ITsmjej9j1iaplwyk2GU24yYmqZSvtZZTksl4VLYVQp+GcRWeMIQJ61TXxEE8oA8gBw3AM7ibFNGAT5Hz+prAKzrQvFzR9hePMONGl0AfjxrUGjY8m9BwpVO7wYcVilaoIVfz+NVeNMsPyX01iufg7rZ1pjhd5V/ParJSxMg5CSIX2PYWXzFxiddIfBAQIGB3knmPA/nn6YgZTSoTfj2ZbskZsBNCtYjz1Ze7A3azdM8jbCvmQ56KXL4Vm5H/ENQajmKLYVqJNlIHK822AI7GLpoIlTNeSfoY7bie2eGWh481Up91o3d4n8s4y5C5Wyth9VFACOofr6+nDELxeeuSVSA6RWqCXGh1qCyB84e7eC9QUT3d1kAuDMu54SZ3GNphOLW7CbHgzdE3SBtzgFIjqPnIA2FqZKwT+PyBpHAPKszSDYZRAA9jd6hEiPb3wI1Ai2xNpnvmC2dcE+IU0k6yfJXhmKVTpKqt/h/o0EEJdDccc5BnlFipWR+RbAHx8Ahd3/Z0VD3AftWHpIJvxdKVyL8wUbsCdrj4j3Zu1F3RCG3XNZPnIh6RtLHZ0sAzCH8e+FMkvB3dzFCgDggjFf148sCgDHWOyPHTB86AntUCuZELggamC8yYPcUpnwx/fg/YKj6fjCJkw/4wb9kwwRANQ/yYDBKRdEZMnuiPtZzS8FU13BP77IHEfIsrYrmdFQ93cYgEBfO5nwJ1wWVn9kCZUH9rDNSMbcu14y4U/dmcB6v0ej/vyGJFXAYJ8U+BOCwCVmd1Ar5cxgSQ6q9ZZbAj6Ru0UMAPdk7UE1R/GzzztZ+vIhqd9s9lOp16njduJhaSk2xfjDMNQNC5/egW1mEgpb3sPlRQ28lVAK7vlwVX4J+MPlMV/XjywKAJWg9XH3ZAZIrVBLTAyzETyMbqm5CgFgYH7lmIHOBruHYvDHt95JOpaYj31GkiwOo7qCfwqROY6QZW01H95AK8ARqkJZQEUAUP2RFVQe2ELlgT1UHthjnLcDxhHOMiFQk05HJnP0tpkw27qw5pK3bPjrB0D9gwR84hTfe13CbsH14s2DOoAH4O9S4Trsy9olBn+nc88Oaf28kz3kw983ljo+s3ZJvEYttwP74kOg6m8LdX87qPrbQtXfFmr+dtAPoiOxrgXbPTNQ3/Z5TO+1vm+V6BY6xUTcGuj7Vjama/rRRQGgEnQqI0huBnBGBE3wQPpkK5YBTKxuHRPASSptlQh+gx2ZXad0GFOWzz4uRHIVVQr+kUXmOEKmtb1urcXER85QfWgHdX97aARZSoVAzRBLjPMbAD8R37fHOJpkCFR1pkGVoGF5oO+wnsd6bif8s8qx/JYvdB1vYCrtJg4GRiCHOdAQ8SSnBgYH5WT/+q1/kMA2u8AhrSGjpRDWxdthXrQWV4vWCzKClwrX4WD2TonlX//qiCF9jy6WjsIA+IW1SeI1HLKSBdA32OoBdpgV5o7UqndKKQX3fg3uh8DBY2A00Pv10Ziu5WcQBYBKUFxLuUz40w61wtWsWMEDqWgGMK9xeN1dQ/XjlAqFANAzVnzszR/FVCn4xxeZ4wjZ1vbpWyceVOTAJDUCa2O9pMY2VX8bqDywkwyAD+yhctdBagZQxdUZKh7OiKkc2pDoWk4HNt8PgqYNXcxaNnT4pJcgj/kO+lfcoHeYN5haXglY7yCB+aa3hhwXarifENsQA99qF/hWu8Kz0gN7snZjb9ZeMfizKLQdUvmX2daF9ywThUvA79jW4r8rbgemhbhIBUC+H5WVwzWuBveUMCC671sZej5cQjdnLro5c9Hz/iL6vpWO+Tp+BlEAqAR19/bCOMELE8LEs4DaoVaYFGKP3OaBUodFfJLM00L4flGh2DFE3+vnOfUKAWDA6zKlg5gyHZ7LwkWqFPzDisxxhMxrA4CFUTdE9vtphfKaPmTC3wN7qPjYQ5WgScz+qdxwxjgPGpxSMob0HO56GCYR/oQh8HJwPCZeZGDiWQIGe+VnAPUO0bHa3HtE4kR8Qx4sCm0F8Hci9xR8q8OHDH/Mti4w2e34xtKQmQXkdQNrgMkRTxikNXDkwp9GgD0up8YJBkSPdSmY0siJAkAl6UNXOw6lBgi6fvkl4ZUvPLDuXrzIQ+mSkiPxpJDBzm54OyZgU8vpwPyLt2XC34yzN1DRMowA9pPZ9HEhkqhS8A8pMscRMq8N4J0Qsi3BFxpBvI5gzWB+9k8G/PH3A7o5icDfOAYP/lTceQDonKo4AAbklENDBvzx/avNTehcoEPnAh16B6VkAfv/W+8gAf0jdDgHj+wRnZWcjyhlvx1S168kN7GKpQIgfxTMG7a7xK9NVxAAr6TF8T6/+gN2UmcF/7CiAFDJqv3UBt+aTHhXpSG7jYm+vj7s8c5CjVCHWWHTB2i6MqSCn7oLHesCRr9DTtheL/JlAiARnq50+CKD+aXgTx3flH2rURqiyBxHyLw2YX3q6oBrUTK2xPkpBH8qD+yhctsJKq40nm/QoOLON68EHF/drPDzt+CWt1z407ShY4IFQwCAOucJXil4cDfwAQJ6hwgYHKVjwbnbKGKOzZGYw/Ub1nWxppBO1nRwOEFSv6aW24FfQ1zlQmBQeYXga1zjyHVWMCXFRQEgCWUZWYpX5aLZPMuXyZIB0JWGcbecMc3vJuYGeuJ8YjzSmNwxCTDuz7Ix/YwrdE/QYXDKBXr9rw4hKWNyRuWP4vBcFi6EFir7tqI0RJE5jpB5bZJ0NisYGoGKZQBVPJyFoK8f/Nyd8Yu7E3656YQ1Yf6oYMmvLqTXtUHdQT78adrQoWPlgkkXhSCwHwQnnyQw+TiBiacITDKhQ/8IHWuu3kdqOWdYsaCe24ngikpsiwvEtFAXzAq/AbPUGKQ1DO96iriR24wWbhaauZUKzf5zzkmVkf2zw9zwmyITHvil4DouVQr+0UQBIAn1MJ0J/3TR/Xz13E7Yv0qDzo2BgdAq7s74xdMJ4zx5r794OmGclzPU79EQUFw+JnBT1vwZXi/y4RCSglvRuShq+Kh04CKjTYOK8LqSo+xbi9IQROY4Qua1Ddabzs+Y+OQ6tMMsZO4B/MXHHr/csxeDv1+E4O+Xu474xcsR+n7uqGR/lfnMxVU0Q92BrlAJeOVNX3EAHOSz96LwLKtu2G9u67mdOJ8SA7VAW2gE2kEt0Jb38SM7aD92RFjl0E/nGA3XcTtxOCGcB3wiY2BsMTXYBclM8ZNQ0muoUvCPKAoASajnRS3weCl5kHI56wv8cstw5WWiAPoGW8XTCer3CGQ3js2AgQUuAAAgAElEQVSeQMryXd7STpWCfzCROY6QeW2DlcGtw4RwC0wIt8D4EAuo+NoNAkE7Hvz52OMXLwf8cscRv9xywi8e/b7pxPszTx78/eLF+/hwbKTMZ66w6SM0nRjQsJUPgCF51bifVIyJFxmYLASCfCh0iPz+/X73iwsF0DfY6oF2mBjkhBKhs5GV5XpuJ0LKK7H6uTfGBzpAM8AeU4NdYJGegOJW6W/w3eJr4JlUq+zbjdIQRAEgydTX14cdXpnIrvuIgtZ3oBcmwjQjBObZkYiqqxG8+9z1PAyqXs5SIXCcpzOuJb1SejChPOAneSxcCKFKwT+KyBxHyLy2wcp70yAAwAnhFtAOs4DGIyuM87PFOF87jPO1xS/e/fDn5aiw1e45o7RVNjDtexwBTceBLKBwNpD/8ZFHzwRx9WVpM077RmG21W0YXr+J/Z7hiMgdmXmmK597i2T+xCHQFvRc5e6drud2wjQ5CmqBNtB4ZAv1R9ZQf2wNjUc2mBDkgGfV0n8X9dxO7KRKwT+UKAAkmZ4VtcDheSVul6RB/9k16EZehX7kNehHXsOUSHNse+2JUtZHTPJxkwp/fK8Kfah06KEs6nNBRXhVQZWCfwSROY6QeW18Mb9w8KQpDSGNKTB8biMCgbqRlzAt6iKmRV3ExGCLIcMf3+HlNTKft8z6Nkx1vQVNRzrUbcUB8GRo9JjsV67ldkBdCvgJZwH3vgyWeZ06bifuFRZiVcQDaPvTMCmQgaMJkUisaxmRdbrnZ0H9Ma9rWzPEEhpBltAIsuJBYJA1JgTZo0xGljKj5gN2UKXgH0YUAJJMBx/kwKc4H1MizSVaL/IqdiXdw0QfVwUA0E/pwPMzup7bCf/SUmyMeQi9YDp+DXXFuZRopCqwkbu8pR0bb6XhI1UKJr3IHEfIvLZ3XZ9hkncHc+PPiXhGjBl0nlzF5IgrAvibFnUJBpGXhw2AYWWyAZDZxoPA/UER0HJiQN2RDnUHOlZ4+SE4v3rMYkYdt1MuAGoE2mF/QojMaxyKfwIVX3uo+jpAxdceKr72UPNzgLqfIwJLv2/ft09pAbRCLKEVel3IvP/WDLaERhAPAo+9Dpd5HfeXtbhLlYJ/CFEASCJVsz/hiG8u1id4QDfyqlQInBJpjnVPA+SWgK+SqARcz+38KTqD67mdOPE6EqoBvGORVANseR8H2mH8I0eEVcr/R+VpPhtmwVQpmOwicxwh69o6erqwI80J81+aiQHg3LhzMIw9j2nPB+CPb+1HlkOGQA1vGkrklICFXdT8ES8rW5BZL/084QLmewSklCMguQy5dYqdrJRV+wa2T5Jx2jcKLtGZKG6UvE9uXfQDmSVgtUBbuOdniXxNHbcT9wqKsC0yGNP9PQTQN9jjfO2h9dBZ5h49WX5WUyOAPfETXK4LIFD9sTUmhzjKjOX13E7supeFGs4nZd+OlOSIAkAl6ml+C4KyGwEA33p6sdMrEzHlLTLBb0qkOfQjr+FEUqjM7J/6PRqyGkf34HRFYMn/VSk22ftD7wQd+icY2EUEISyNHN1uw/HtwlwB9A22WoAdJj52Rhnrs9zrmAUXIbGcKgWTWWSOI2RdW0Rzhjj4CXlm7HkR8ON76nNhCHQYgEFPyfCn4uWIMy9jRuy5Lm/5jNPeUZhyloFJJnRMMqFj8lkGjt6NQIkUoKvldGCzayAmnqVj0hk6Jp/hvU48S8flR/Finx9YViYz+6cbTKCc/VkQO11zM6ETQMM4PzuM87Prb56RDIB8CHTOGt4ewtWxd6TA34DHh1oIsoAZjbJHjWXWfsAOzwz0UKVgUosCQCUpoZyNbZ4Z2O6ZiQrWJxz2zYFfWhMymtjyAfDZNVzNeQbnjAz84ukkkgkc5+UMNS8aHhaNzRgYaa7nduKq30voHueBn+5xusjHjCeSp/nXczuRUsFGXGETKUfKLIq4CzUpAMi3a16m3OtUtPJKwR/aqVIwWUXmOELWtR3NdodR/HmpAGgYe14s+ydsg8jL0Am2gM7j6zBPSsB4bzoPAgeB4Jrwh3LHwCjqGnY7NhIBIvDH95SzDPxm74vKVvHvtY72EJPODMDfZCEInHSGDovgRLGvsc16LTYGRj3QDpODnBFdwxR83qWUOAH0CeBPCvjxrerrgL1xYUP++SvZX2SCHz8LOD7sOjSCrKARZI3XTPl7Dm8m1OHWqxpl35KUZIgCQCWo6d1XqF58hsLGz4jIZ2PT7XQ8K+DtH6vmfMWM51ZyIdCrlAcZsdWNOBQTiRn+tzE74C5ME14gpX70hooq6rD0agH0SXNisWgQ8U8qxUrr+4JAqmvCwLE7EcipJcc4myr2V5ngxy8LH0qUvUeG72cFHJgGFSj7dqQkRWSOI2Rd25ZUezkZQDOZAMj3zJhLqOd2ooz1GY7paZj/2AtTH3pgTbg/vPILUcNpH7Hn+sGrEjHwG+xbsbkiX5NT91Yi/IlAoAldZGByYeMHnA6Mho4dAfWbDlC7bwdtH0fseRaM/JaBcnNiXYsg6yeS/ZMDgap+DjgQ/2TIP39x60eFAZC3F9AKSQoAYD23E7vvZaGaTZWCySoKAJUk17gqXH9aJvHBuZodCT0pewB1I80x47kVKtnkPmd3v0uoSOZvsPVPMmDmHSv4/FuxuZh8ho4pgwKprgkDRua3kUsCCKzmtMsHwEA7HFYQAJltXbgQUoSXZWxl346UJIjMcYSsazPJvYN5MjKAs+NM5QAgb3/glWzZ3bAj6R2uQRKzf4JSsAkd65xEG+o2uQRIBL/BEHgnPo8HWU0fsZC4B51rDGhfpYvZ9nmK4NrnkmKg9tB+WBDoWVAw5J+/jtuJ8QoAoHaYBa87ONgKGY2KJRmyaj9i212qFExWUQCoJJkGFYD+QnLDQCnrI36LdxWDQL3Iq9CLvIpHlUVKhyF5NjK7JTcDuNbaF8y2LpQ0foSBqavUQKprwoDJ/Sil/0zMti6sfn5fpPlDku8U5il8vYpW3oBoqhRMPpE5jpB1bS/ZBTIzgHPjz2FGtOws4Kzoq7hXloFS1thsAVluc19uBnDu1dsiXzP76i25ADj5DB2H7vAychZPX0mFP74zatvAbOvC1phHYvAnrwys6ueAqY/dUDXMsvjeV4Ey9gDymkB4ewAtMSdSNLMpzx5UKZi0ogBQCer41oPljCRUtkovY5SxPsE6Nxqzom37M39XsT/5AWLqJJ8QQjYvvHRHLgAuNLmFV5mN8IjOEcv8DbaBqSvKW+Q3V4y2H5aWyiz/GoQwhhyEIws4OEeVgkknMscRsq6tu7cHp3NvS4E/U57jTDEj+oJIxm9a1EVMfX4JBs8vw+D5Feg/v4IZURZwKogb9ekB2xXIAK51FM0ALrb2UggAd9Aeo7TxE6bbesiEP51rDFhHJoHZ1oWDL8OhLiEDKJoFFIVBvUeu3zULsIz1qT8LOACB40MtoBN2FeNDr2F8mAXGh1pAK+Q6XAvShnRtfldwNdUVTDpRAKgElbV+hHl4qUIPTy23A0Wt70lf8h3syw/iZJaAdY8RmLXRCQsX2GHNeS/onXWRG0zTKpW/t5HZ1gXrzFdQDeBt5B7oALaFbjCB+LqmYV3TLLgICeVUKZhMInMcIfPaOnu+YX7s5X7gE4U/o3hTzOt/nf3iHAxjzLA+kdEPfpeh3w9/wnbIjx3V59nnVbHcDODNGNE9gLTgVEw+TciOWacITN9Cw/y9rjLhjw+ARx8+A7OtC4Gl5RLhTwQCfeyh9sARG577wyUnS6HJA/Kc2ciFTpgVJj4xx4wYM8yIuYAZMRcxI+YCDGPMMDfuLBbEm+FBRcqQr51V+xHbqa5g0okCQCXow9dvOOyb+90PrCTXcztRx+1QOiSlVXAw7ZQr9KTAn94RAvMX22HhAjsYbnGUmwGcfIaOQuYHpf9cfMfVNuLE6wgsjfTEb8/vwyknFUWtw18fvxRMDYgmj8gcR8i8NgDYHuUNIyHomysEfkZCfzY/3gzzX9gIsn6SPD3qGopZA8/WUMqPiria3Y4Nzv5Su4BX2vqgokX0DbiTz2voHSKkQ+BpAgYHCMz6zR5zltpC/zANBgdo0DtCQOcCIQaAEy0YMAuOA7ON96Z/eYS31H2A43ztMP4egajKhhGPa6E1eTCMuSAEfxcFEDgj5gKM4s5iXrwpAqrkTzoYbI+EWtx+TZWCySQKAJWglvftOOGfP6IPbjyzDmcy/TA79gpmxFzEhlcEPMtSUMsduW45ZlsXSls+I7WOi5IW+QNYw9KrMf2MGw8CjxEC6x0hYLTUDotmW2OxoSXmz7eSCX66Jgxsd3k84sGObH6az8Z5akA0aUTmOELmtQHA8eAULByU+RMGP0F28IWZVPAT9s3iFBD5SVgQxcCEcAvoPbXB6dRQvG5oHpFnr6z5M457RWLSWd4cv4lneQB44Fa4xHFUtl4JmLWNDr0jhAD4BD5Dh94hAjO20DB3iS1mGdMw09gZM41pAusfokHbXBQEo4oGxsAUtXyAcZQ/xvnZQVUIANV87XEw9ikyG9pGJQbNj7siAf4GIHBm7HnMizfF2teWQ0401HM7sfNeJjUgmkSiAFAJquZ8wtnHhSP20D6uysfMmEuYGXNZ7KE9lu49IhCYXMvGvpCn0KTToUYQUCcI7AgKw8sq2ftOihs+4uKtaEzf6YzpO50xa70jFhrZYPEMSyyeYYkl/Z6+zVHiu+kp/QD4PLde6YA2Fj4fVIRE6qxgUojMcYTMawOAI3658CvJFir/Sm4ImfXivFz4M3h2FfOiaNAROkt4QrgFJoVbYsoTK0RUf/9g+XpuJ27E5WCu3V1MuEzHhMt0zLS5BVp0Omo54qDzMLoIhltomLGFhuk7adA/xHtjq3+QwPQdNBhuocFwkzNmbnDGLGOaROsdJQTl322ewRL3Or6sa4ZtZhKupycioLQMtaNY3XlclSMF/ETNzwK+qK8c8vegBkSTSxQAKkGp1W2wjhyZQc0lrPeYE2su84G9Vfr6u75HYnUrJrvdgEY//PGtQadD28UFUWWySxHhUaVYuIBX7l04z1YM/pbMsMRiQ0v8utUBk08TmHKGDr2zDEw+Q8esSx4ISht6oPlRXd5ClYLJIjLHETKvDQB2eGagsrUdLsXRUuFvXvx5rEy4LhcAJz29KgZ/fOuEX8eMSAdUf8dcwHpuJ84GxgjAT9g6l+k4eP+pWNm5urUdi/e5Y+bWftgb7M3OMNzojFlrHDB31hXMnXkZs1fZiQCg4SYatK8Q2O/zhBQNbpb5oQoB4Nw4Xjk/rGZ4VSzqrGDyiAJAJehhBhPeySOzf8OjJBGGMZdkPrBrEmWf3SjPa3wDxOBPGALne96Tef2sEo4AABfNthaDP2EvmmeN/RYBcAxPxcOkUlSzR7aE/SP4aR51VjAZROY4Qua1AcCm27wjyeq4HbiU6y8APj78GcWfx7JEc7xurMeeZC9MfW4uEf70nl2RCn/C9ilTfPSS+PNWKxH+hP0wTXxma2RKDeZsp2PWNkIU/DY7Y+ZvdjDSPI5F/7ARi/9kjMV/MsaiPxlj/t8OYdZv9gIIvB81sluBvsfOhc+GlAFMamQO6/vUczux0ysTtdzPyr5N//CiAFAJsoosRXzpyJzTa5oVgJlyAHBGzEVUcob3DjOphi0R/Ab7WansYHDytD8WL7LHYkPp8Mf3vq23lB4Mle1zQUV4RZWClSoyxxEyr+1Txzfs9c4S+Qc/vLYQxzPv4PfXVtiU7AhGcTQKWnkx8FVDIwyjr0uEQN1nV+TC3+QnlriaFT3sZ+2wTwQmXWFIhb+JVxjYckvyHuTXBS0wdY4QQODMtfYwmnQaC/6f7VjUD37CXvRnYyz8t52YtdYRs4xpCI6TfBiAMlzQ+kbG/r+BfYDz4kyxM4X2Xd8ro+YDdnplopcqBStVFAAqQe4J1fBLG964kMG+mP1Y4t6/wa7hDG9AqH9ehUIAeCtN9jvZnLI2rFvvqhAA7t18U+nBUNnml4I/UaVgpYnMcYTMa+vs7sHGW2mokbB3TpoTGxqw/fUdEfhbEU/DrZJUuQA4KdwSljmxw37WlhM+cjOAs2xuy7zG69c1WPofB7D4n7aIQZ8YBP7JGEa6pphlTEN6CVvpsUbYB9I8ZELgnDhTLIg/h3im5EMMhuIb8bXwpErBShUFgErQ165urPdIHVKAlObHVfkywW9mzCUcSL077OuHF9cqBIA+2fLnGhZWv8OOje4y4W/ZTCs42DxTeiAkg5/ksWAWQpWClSUyxxEyrw0AHmc1ghYz9OaM9CYWntaU4yWTiXpuJ+q5nVga4ya3DBxdWzfs52yDe4BcAFzsdE/mNcpq32Pp/9krAnmyAHDhv+3A3osBSo8xg/2SmYOF8WdERr/wPefFOSxNOIlj2SaoH4FmlHpuJ3Z4ZaKOKgUrTRQAKknXI0oQNwJl4FpuO35PdJKZBYyoHX6ZoZrdDj13D5nwN8HFFaUKbmJOSKmXCYBLDa2Qnteq9EBIFps+LkRSFVfZt+sfUmSOI2ReGwB87PiG3feyRuQZ8C7NlQp+E8OvY3383e/a4+z6Ihs6MuBv4hUGbCKS5V7HWPWU3OyfAAL/shlpxSylx5fB9qkKwNGcXdievhdLE05hYbwJFiechnHKAezN3I3DOTtwOGcHClnDP3VE2OlUKVipogBQSWK++YL1N1MRmPH9c6yymtn4LcFBkPHjvxrGXIJXWep3X5+elCUTAK/HJQ3pel5eKbxs3yzrgczfLGssNbSEf2C20oMgmVzW8hXGt9LwubNb2bfsH05kjiNkXhtf9BeV2O+TI/PIS0Vtn/tSAHzCr6teeKCg5d13Xbu0+TPm2N3BRAn7ACdeYWC6pQfymPK/R5BXkmLw9ydjLPrzRjge80Zp9dthr9k9PgcHvJ/igPcT0GMyUdz0/Wcne1Y440jOdgHoSXN+68jMX2S2dcE1rgb3kuuUfbv+IUUBoBLV1d2Lvfez8Kzw+484q+F8hX9lDkwyH+J4ug+cCqOR08IdkQe0ntsJq/hkaNDp0KDTocVgQINOhzpB4EL0y2FN5n+ZXIcr54OwYTkNxisIWFwJQ1LGyE+2/xkcnsvCxdAiZd+ufziROY6QeW3Cel3JwX6fHNRyvu/0jgr2Z3gUZWD3q4fYnOCN4ynBeFRRMmJz8dKqOVjs7I0Jl+mYZO6CSeYumHCZDiP7u0gsUyzbVcfpwNK/bFY4C8j3kRmXUVCs+F7A6MIGTLN0F4yp4VvvmhvCcmqG/Tuo5hThceUMufBnkncUdSN4wEBdfym4vo0qBY+1KABUsj51fMPG22nIZyp/DpQ85zW+g9OrDJyPioddQhoy60emk5myfFOl4LEXmeMImdc2WI+zG3H96fC2odRxO3E27Sl0Qq0xPtRS4DWxd5DUMDJlSOHvFZJdhauhiTAPTUBgRrnEIdCy7OsSM2QAXPwnY6z61x3IzZOfVctnvoeBxQ2J2Uqdy3RMueqK9OrhvfEvaDqO9Hp1+JQtRkn9VLQ0TkYZ0wDepctwPGebAAD9a0JHPL6lV1OlYGWIAkASKJf5DiaPCpQOGZTJa6oUPPYicxwh89okab9PNtJrhn5W9u8vPEXAT9j6T+yR3vj91ZORNv2M77Ag8Picq3Kvbf8sFTpyRtZcCXk55DXXc78ii6mB9y3q6GVportVU+SV2aCLM7lbYF98ELXc4U2UkGfXuBp4p1Cl4LEUBYAk0X6fbBQ0kD8LSFl5Dstl4VIYVQoeK5E5jpB5bZJU0PgOF0KKh3S/uxSkSoU/vo8nj3w2aiTscOTesCAwM1P2Npg1Ln5yO5bnO3gOeb113LdgNauhp1UDvSxNMXe3aoLZqIO8xpOj9jur43Ziu2cGmG++KPt2/cOIAkCS6GUZG/ZRFUoPXJTJ7bOPC5FSTZWCx0JkjiNkXps0bbubMaSGEMMImlwAnBBqjaphzjhV2NxONHOr0MItQAO3TaGvqeN04NpWNyz+kzGWCJ0GIs+h91NkXleRmYWzbWXPLJTkBg5bkO2T5p5WDbQ2bxrV33V69QfsukeVgsdKFACSRD29fbx3PySADMrkNb8U/IUqBY+6yBxHyLw2afJMqsXjLMX27ZWyPsqFP77zv7MLWJY5nEh0spYPQBBrAj6xz6KRK3+/Xj23EzFP8mG6zFZhAIwIzJR5zdP+0TJPLZl0hYF998KH/HOyOXEy4W/g59cEh/N0VGOcy4sa3KdKwWMiCgBJpK13M4bVUUv5j+WwXBYuU6XgUReZ4wiZ1yZNT/Ob4ZGg2MDmotYPCsGfdqjVqGUA2zgP+qFHaxAEaaOLNReNXMWbUA5OvSAX/lb8dRsq6qWPcskoYMHa6TlmbLbH1L2O0LlASITAoMzKIf+sbE60wgDYxTIc1fjGKwVnouHNV2Xfsj+9KAAkkWixFXiUObKdbZR/Tps8KkRqdZuyb9mfWmSOI2RemzR96viGTbfTFbq/67mdmB1JlwuA6+K8RuX5auSy0cOaIAOEtPGRba7w9V6/rMDSf9wkEwDpJn4Sv7a65SuumAVjiaEVb17qLGssNrTCotlWMDjgJOgAFobAnXdD8KygXvGfl9OMHgUAkA+BTZzhj5tRxGnV76lS8BiIAkASKSy3CbcSFX9oKf9xTZWCR19kjiNkXpssbbmTrnCVQ5EmkMT6kTlTfbDfcLzEMn9ijRGsyWByPyl8zYQXZVj3/+6TCH8W29xQx5Y8cuayWTCWzrTGEkMrMS82tILeESeJ3cA6VxjwS5V/RCffXay5CkMgizP0TuOhmvGiGj6p9cq+ZX9qUQBIIr370oV997PhEFX5XUcbkd313E5E5dTD4mECLt1/gTvReShvpjqgh+rQnFaqFDyKInMcIfPaZCkkpwmbbqcjrfq93Pu7ltuBA68fSSn9WuJucc73P0fcr2jkNqGRKzo77wPbQmYGkO8mLlPidUuZH+Hk8RIHT/riqIk/AiMKBf8v3DcN51c54NQCS9gf8kRSQqXU9aXntUoEP2HPW2QDvcMEdI8S0DEVLQvrXXNDabNikMriJKKnP8MnLwPYyBn+2cuKmioFj74oACSZ+vr6YBlRitCcn/M83CLmB2y2D4DeMTqmnnDB1BMu0DtGh+FpNzxKKlf6+n40mzwqRDI1IHpUROY4Qua1yVPL+3Zs95Td7MB3HbcT3qV5WPPiLqaE28LgiQMOJwUjtVHxkzMkuYH7Ae/YBL6xfhWATTtrA9icWDDbuvCOTUMPa7wcENKS2BV8+2E6Fiyyx8J5tljQ74XzbLHqNwLphUM7/9f9RgLvyEw5EDhtJw1T9xKYtpeA3mECEy4OgKB7vOKg/IblJhMAeXsAZ49ZfKNKwaMrCgBJqJTqNjjHVCkdLkbadZxObLR9CIMTDOgdo4vZ4DgDL/JF52DVczvxIrIQ3g6R8GXEIL+IfAeoK9PUgOjRE5njCJnXpoh2eikGgKPhBu5HtLM2igEe/7/fcO7jPdtaDvyNxxfWHsE1kwtaQfdJxsnrIViwYAD6hL1gni2WLXNCWcMnxDwtBHHWH86nfHHXNgLXtnvAbC0BD/MQ1LQMNLU4O0Rj+WwbuQD463ZnTOsHwKl7edlA/rF25x69GNLv5ytrs0wA/Cz0c4+FqbOCR08UAJJQKdVtIGKrlQ4XI+2nGTUSwU8AgCcYOOQ2MMIgKaESOzRP8mZp/XmjYKbWtS2uqGqkSsZ8h+eycCG0UNm37U8nMscRMq9NEe2+pzwAfMu5KXN/n7y9f3wAbOVmoKLpM05ahWKWMQ1zNhGYu8pBIvwJIHDmdaxXP4Wlf92JZf+6C0v+eRuW/GWriJf+r+3wtI0As60Lvn6ZcuFv8UwrTNtNEwAgHwInXCAwyXwYJ4NwOtDBWiYzE/iJdWjM/r74ZwXXcamzgkdaFACSUNHFLIXHJfxIvugdi6lSsn986x9noIbdjszMBqz+1x1YIqFzbsk/bITpcrufep/kUG0aVIRXFRxl37o/lcgcR8i8NkWktAwgt1Nus0OPHAjsYWniC2snmG1dOG4ZgjkbCcwypsFwozPmL7STDoBzrbHkP/Zh6b/sxNK/7sSSfxKHP2H7u8ejvOETVhnZSYc/QysYLbcTgT++J5/iZQGf5Q+xsZDbjh6WltzfUSNb/izEkXJ6DXVW8GiIAkASKrGc81NmAE/ffgaD47IBUO8YHeXNn2G5w13u2ISX0SVK/5nI4vKWdhjfSsOnjm/Kvn1/GpE5jpB5bYpom7KG3nM/KTTmRN7ndLIWITG3CbOMaQJP3+mMBQukZ/8WTTLD0r/2w9//3iET/pb8ZSvW/V9eli3wcS6WGFqJdQIvNrTCojnWmL7TWSIATjlB4DeG35DfKHNZDxTqBG5nLUYDV/rcwpH2jfhaeCbVKvvW/alEASAJVdL8ASf885UOFSNtWmiaXACcb3Ybtex2rPhfW2XC39K/bILt/jtK/5nI5Cd5LJiFUKXgkRKZ4wiZ16aIjj7MRUrV6J3gIdXcdvSwtEcAAJfBwTMRczYRAgA02EfD/EXSM4CL//solvAB8J+3ywXAJX/ZiszMRjDbuhAZXYaDO++KlH2NltlKhb9pewlMNCFwNThhyL+jz6yDCgFgD0sT7ax1aODK7+geCddzO7HTKxO1VCl4xEQBIEnlGF0Bz9eSRwz8qM6veye1AYRf/nUKSUVlwye5U/OX/MNGXFpHU/rPRDafo0rBIyYyxxEyr00RNb9vxzqPVKVs4/jMPqYABErvAO5haeM92x4WN2IxdzNdAIDT9tAwc4Oj1Azg4v/v8EAGUMLeP0l+Hponsva8sjak5bZg+n5C0PU72FP3EtA/QEDHjI7tHsFD/v18YJ1XCAD5EPiebTdmf3cZVCl4REUBIEn1qeMbdiixU260fCcqVwB7gzuAN9o+RGXLF9RzO7Hm33fJzgD+4ybQTvoo/echm6lS8MiJzN59B0sAACAASURBVHGEzGtTVA5R5Ygs4Iz5M9LCzUUPS1viPr8eljY6WEvRw9KR8v+10MOaiCZuHW49zsTsjQMlYMNNNEw+6Yx5iyVnAReNOzWw/0/BDKC0qQeBr8swdZ84BE7dS2DqPgITz/IAcNft0CH/fhrYDQoPhOb/ThrZtWP290eVgkdOFACSWM4xP18WkNnWhZDUSmzpnwWod4yOOaYesH30GhUtXwSfQzvpI3cPYEY6dWqKJFOl4JERmeMImdemqDifOmB8Kw2VrPYxf0bYnFh0s3T7Gz4mCDKC7ay1aOS2gM2JRw9rInpY4wXDkfn+xpqBN2wvlDDfw0goAzjLmIape2mYfJKG2b+JdgMvmG+LOUuuD2kP4LJ/2Yk9BpdAPxeI3ALxubCbGYHQOzIAgVP3EtA7MgB/E83ocInJGtbvp4s1W2EA7GX1n4rCGZv9gFQpeOREASCJ1d3Ti4230lDFknxE0I/u4oaPyK19i1oJRyAVV7zB5l+OSIVAx6P3lL5+MpvqCv5+kTmOkHltQ1FYXhMYL5TT8NbAfY82jj8+sK/iPdsGLG4qmEIl6UZuCz6yzovAn/AewQ7Wctx/ko1ZxjTM3kjAaLMjrtgdQUDIOvg83YAjLqdgcMAJ+vudoWduj9mhF7BkxwXeCJh/2SU/C/gvu7DsX/dgxb/vw6r/OoCoMNF94VEFTOiY0aFzjhiwGR06ZnRMusDA9KvuKGlS/Kg60d8Nd0hZwF6WJj6wr47Z3116zQfs8MqgSsHfKQoASS6bZ2V4WfZG6UChDBeWcHBhjZMIBK79z724YxlGjYCRY6oU/P0icxwh89qGoo5vPdh7P1vpz4tEc772ZwdlzMNjn0ToywqYOzng/2fvvKOiTLd0v86ZOTPn3nXnzJl755wxtagImLXNOefU5pxzaANqG1C0bQMSCkyYMAfMWQQUsyJIkBwrp6++j5yLUPXcPypQRUWgivrA2ms9q7C7wgu+e/tj73fvl0rvpmgQEbhAKlSUjznMnzEveANGvnXFiDeu6PFoL1yPBGBpd0VH8Ji/6oHAf1ughj+Vxv9tOSb/YzUS07T/LTj/5js67/JDl11+avjrvNMXfdxPIySeV/fvnSpFEbHGbAisUmUBG/Dv52QY014KrqfZAZDmdvBZMt6l5tg+GNpQ8Ukkgh/FIiwoEUxxic3X01hkLwXXz+gcR+i8ttpYfmkFVl21wJ2+VlCO5JRJ6KkiOkAgYaGS6IEKse6ZwXKxMwh+V0x6vwkj3rhiUMhv6PeIAQ4lRVwSiZjvYqTzCxF45i2WdN2pBX01Nf4/l+PcH0911hmeQcL9/lvMOnEb80/fhe/LCCTy61GOpYpRTKw0uyNa8+fBpRquWsWxD4iut9kBkOa2ICACLNKe7bKrbtp+LwEf0u2l4LoYneMInddWGwtnZuPIizSb+4k+lRLTzQKgAsLVaFdxldgJvrEzMPKtKwaH7oDTrSN6P2/KP9cYBcBx/7EMrhO9rP5950k8zboNRZ94JNWgf0f2AdH1MzsA0tzOvGPiVkTDTVy3q3FKTH1DoWQTKojeqCR6oYhYC4L8ZC8F18PoHEfovLbaWEl5Jead/2pz/9GnUmKaWQBYQfQ33iAhdkIMsz9GvHFFn+e70eE2fQGQRxWgkuhRJ/iTEU4QkKlWWlcusskLkBLjUEn0gJQYhRzyNHgUhZNhTFy03xVcJ7MDIM0tUZiPFVeiwCSbZiNIbcUkSnHneQL+YITgsF8oHoak6G0i+ZGURd5QjqeozkKovs4hz9jvCq6j0TmO0HlttbWNt2LwIr7+42CYVDG+i4VIIiwzWiZXcsyMErALKojeJsEold0bI9+6wvn2H5ge6q/387ZP8cGEv6/AuP9cjnH/vRbj/rEO4/57Dcb9bbm6BHz24BOrxhIxFV1n+JMRThBSKRZfE58iISXGKWOcs9bPvpwYBh7Js5eC62h2AGwE9iJehHnnI374s4BvI/mYMu8Uhk7wxIjJ3hgx2RtDJ3hixuKzCI/XPy+rqUtIJZss14ipCGy/G4+PGZStt3KjMjrHETqvrbZWWFaBFVej4BOSgXRx7UfCpEgoXEw/g60xy7E2ehHWRi/C/ng3hPLqmVkkC9RjYAwBYLFkBUqIuUYHR5eLnfEydQR6PN6LdjeP4AUrUe/nBT2Mxbh/rMP4VpsxruUmLY3/x1pM+u/VSEjNsmo8yZacrzP8VRLdwKXq1nVsTEWSXw2W2KuIDighFtlLwXU0OwA2EuPnlGDl1Shc+lT7uYAcSooUCQ/JEjbYVLHFHbQhFJueg3Ez/DB8kheGTvDU0vBJXpgy7xSSuQ13LyVdlC9xN37+iOiAQslmpIhK7KXgWhqd4wid11YXk8vluPGVi1lnw82udmSS2XjOYeBU6kj4pw2Hf9pweCWPxfbvs7AuejHWRi/CA9bLevkXST7VGgEj0/i6nBgELlkAknxsEo7mBv8Kx1uH4Rr5u8HP8nN/jPGtNhvUoY3XrR5PzD33qBtnnJEn0V/aro/4lMAoXFdnHtNw4rW9FFxbswNgI7KyiirMvxBh9ggUDiXFJ8FjXMuYh3NpQ3EubSgupU/Ca955sKkim8NLbeR95q1e+NPU+Zs2umDehiojJpoMjuXEIHCzyu2l4FoaneMInddWHzv+OgOPYkxn8zPJbFzNWAT/tBFq+PNPG47TqQrtipuBtdGLsC56CRIJSb18TEjGo4SYpxwJ44wKoifyJIfAJZUTCahSFBHrFSVKsfbZPxnhhBsxEzE1bCP2xc1DHKH/xowUdj4mt3U1CoAzO++27hQESlrr5g8VHJcSM61yJ7CEDDVrHRR5D2x7V3CtzQ6AjcwOPE1CcIJ5nVah3NNK8BumBkDVn+8xNzeqbOCspeeMwt/QCZ5Yscn6vyHTTWXEFDMAcJj6+fZSsPlG5zhC57XVx6hCKZZeMn17xUvuCfinjdSCP00IPJU6HOujF2Bd9GLcYtb+OrRaiypBDnkO5cRgtd+Rgs54kjEEBxMnwz9tG2LF6QZf/+BmpFH4UykkKNmK34O01mNfqggX5EiOg0dZp/oiIV+bCYCKv+OvmQ1XCi6uLMP3XDbi8zgoqyq3+udZw+wA2MgsJFEM/zem711MIJJrQJ+uPgke6X1tBpmPl9znCEg/gvPpf+AxOxApkvr9Fl1fqc7+GdOC1RdtukZbKE/iZfLi+gLJPvXzVaXgImmlrbcy7Y3OcYTOa6uvmboDnUUV4VzaeL3wpwmBbnHTsC56CU6mntZ5DxEVgwLJXhQTy1EocYWEfGOZGXZUGQQUH1ySh6/CaHwUfEIcwTT5ulsBn8wCwKf3Y60aT8qJAWYDoJQYCSFl3RE+PCoLVURnEyDqoviZK19z4jUTl6xYCi6tKodP6mMMD3PDwFc7MfDVTox6sw9nMl6iQta44qodABuZ8XNKsOGm6SAQxPHC+bQRRgBwGG5lLtN5XbQ4FYcSF2FfwjTsS5iOfQnT4J4wHfsTZuId/6PNQGfd9kCjJeDhk7yw6w/rdsjRUQKKq7yz1NDF9R10OvMexxDY/TDB1luZ9kbnOELntdXXXO98R3im4XJiqkRgFP780xQZwIMJk7EuejHOpWn8YkiVoUCyR/3LkeZjCTEPPCrXJn78NizdLAD8FiOy6jqyJDfNyvxR5F2ta/OsqXzJAYOl6SrCBYWSrVrPV5WCOVmWLwWXyyqxNtIfg1/tUsOfSoNe7cLO71cgk8ss/rnWsivfI+wA2NhszfVofGMZT7nfZW40mQG8kDZG6zXpZC4OJS6Ee8IMJQBqyz1hBmKMlDGsqQfBySYzgKGf2TZZm60lId+ikuiilQlUdC92BEm+0PsaeynYtNE5jtB5bfW1RGEeXO/EGdzvGWQW/NOG40TKCBxNmgC3+GnYEz8dhxInwTdlpDoDeCBhCtZGL8IHQbz6tTnkKSNdvS4okmy0iQ9zKCmWDz2CCa23GIS/SY7bceH4G7CI2ndK10ZSYpTR836U5EHD/nyoIhQTK2pAuyLWlRJz9Z49tFYp+Lnwmw741dRnKsWin2ktOxT+Bg5XPewA2NgsjSgwfn8mVYhHmWNwLm2IUQC8nD5V63UvuI/UWT9DAHgt088mAZJNSrHrjycG4e+wX6hN1kUX8SkhcskTKCXmopSYg1yJNwSU4Y5xeynYtNE5jtB5bZawzYGxRs86+6fOxY64WdgeNxvb4+Yopfj6WNI4+KcNx9bY2dgV51rdNEcVoYLoZSK75QwBZfqIjTX04QMLU512YKLDVv0Q2P43THDZjW2LA6wLgVSx3m7gKsIJBcQOqzR7mF5TGSTkGxRJNqKUmIEiYh0kZDC4lOGfgzW6gldFnMIgPdk/lYa83o1d369a9DOtYenZFByueNgBsLGa+5NEhCbqnwnFIw4gnONsFP7Opw1HMPe41uvOpLkbhD+VDiUusklw5GaVg02W4cKtCMxYfFYNfnNXXMC1B7Fmd0bbVS17Kdi40TmO0HltljCyoAzLL+tvBokTJ+uBP20dTpyAtdGLECOu/iVITEWaVd7MIq/ZzCfDI/j4bcFZbfBzcMX49r9hvPMuhVx24dqFT9ZZAyVFnsRTo4qgmwGsJLqBIvWfH6eTrFEKnvTuoMkM4KIvDIt9njErr6xCUEIa3B6HYtfDYNyKjENRmdSs164OeQSHax5wuGYHwEZp7KxizPD/Av+3qUgl7iFeuB3xwm1IEV0BT9gOHEFz3Ejvj/N6s4BDEJA2GikS7QzR6dTdJgHwYOI8mzs2h5IinpmLBFaeHfzqqe134/HJXgrWa3SOI3Rem6Xs8ItkrLwajXjOdxDEIZDiFSDEm3Axba1R+NseNxtucdNwMf2K1l4nqM9mAKAzsknbNpMdPxyECS67ML79Tox32lkNfhoAuHysj1U+O4u8Zmb3rzMI8q3N45cpfc3Mx5JLpkvBMlkRSorvorDwBIqLb0Emy9P7vAVffIzC36BXu7Ap6rw13EHLWFQOhvsEoIO7Lzof8EPnA37o6O6LnodO4XMm1+Tr+988A4erdgBs1FZYlogPmT0QwW2DrxxHRHAdEcNtDb6wGfjCZsjgt0JgRl9lxm+IGgavpA9EnOCwjrPcZV00eP5PVQL2T9trc6e2y3Kyl4ING53jCJ3XZimTy2UQiHYgT9QKucJWyBW2RK6wJQ4nTjIBgHPwW9wssGuUB/kUiSqio0nAEVO2vZv4t+WXdaGvhia47Lb8L79UKcqJwWaNgqkiXFBKzLR5/DJHJ14zcfmz4VJwcdEViEXtIBI2h0j4E0TCFhAJHVBYeBJyuTY43uS8M1oCHvhqJ4JE0Vb1i2JpOYZ4nUfn/X7o4O6LDu6+cNHUfl8M9wnAo9gkg+A7NPC8PQPYmK2iKhtR/O6I4LZDBLeNWpoAyBc2A0/QDHG8NnjN6oxXrC74xm0PjqAFuMQZHUeJJ3hGzwDuS5iGD4LPNndouyyrR/ZSsF6jcxyh89osZWWFvsgTtdLRoQRzAHC23r1eKNlm9FqxMmJig3W3GtK+9TcwocNuowA4pavlfxEXUQlmj4BRiU8JbB6/TIlNSbEwIEJvKbik+LYS/PSrqPCc1vMLKkow/eNRDHm9W+/5v4VfGJBWWfe2pdvf4tTgpw/+XPZXf70x8KleCDz25b09A9iYTZjvrwN/Edw2iOQ6gCtopgWB+sQlY/Q6SwjvpTrbV535U0BhIPOsveTaRLXNXgrWMTrHETqvzRIml5UgT+ysFwAvpg4zWQI+lqQ74oqbVQ4+RUFKjNNzvq0DKojeOiOTbKEHt6ONwt/Ejnuw/9dbFv9cMRVdawAUUqk2/3mZI32lYLm8EoS4u1EAFIucIJOVaO1NojQXqyNPq0u+g5QAuCU6ALnl1r+FZOXVh+hoDP5q6G6U7u1PZHERHAO87U0gjdUSRJN14E+lFH5L8AxAIE/YEjzRRKPOEiGKQ0D6YRxImA33hJk4lboLb/nv7fDXhGUvBesaneMInddmCasoe6sX/vJErZDKa2+yCeQVz3CTAo/KQQ55GuXEUFQRLqgg+iBfchgCimdzP+RmlYMpLsGSkV6Y2HGP3vN/Ezvuwacvtb8T3pR4VDaqiE5mw18V0clmcxPropqlYKk03Cj8qVRa+lLvHk3J58Mn5Qnc4wNxm/MJpZXVt4HI5XLEsIR4HJmEN4lMlFVYLq4uCLijm/0zAH8u7r4YwQjQ+z6f+Vw4XvS2A2BjtDjhSIMAGMF1AIffAmJhC/CELZTg11ypPuAaGQ9i14+rRzEE9jyyl4JVRuc4Que1WcLKS18aBMAsYQs8zexpcAzMlYzGf045NpHEsrE+6ozfxI57MN5lF6Z224fnTxOs9rkFkt0GS+Q1y+UFkp02/znVRqpSMC9bkdErLX2pne0TNodE2ALiGgBYUhyosz+/ZmVg8rtj6BO8R62hrw7gOvsDvmXyMfHoZXTZ5qtWvz2nceVtlM6ZwrrY4Rdv0fmAn3kAqFRFVZXe92JLJHYAbIyWSW1GBNdRB/7Y/HYoFbdXO2ql2AV5os7giUaBKzkHLpVjc0e0i77adjcenzPtpWCA3nGEzmuzhFVVsvTCn0T5Cy1f2AzhbCecSh6BvfHT4BY/HT5JYxHGtd0IF0uLLSnD86eJ8Nj9EIe23cW1C5+QyrXOnbsqaZbIjcFfOTEYfEpo859RbaVZCq6oSIZICX0Fop/UKhK1RoHoJ0iELSASNodU+kVrb8bksNE/ZC/6BrtpAWCf4D3oddsd3Xb4odt2Xy0AVGnB8UAcefgWwd/TUFGpC2WJPAKH7odh08Un+P3uK0SzBDrQmEFmmZ8BVKpKpv92EvtVcI3UCsu+6cCfWNBO4aAaAKjq2CohFoJLFdfaYZhUMZ5xPsE/9TrOpN5AKDcabEvcmWkXLWUvBVcbneMInddmKSugpiFXWA1/2cKWJs8284XGj7foU4yYh2sZ93A27TJuZT5GAmHbe89tLR6VjVyJLyqIfurROJpl3wLJzkYJfyodf8XEFWUpOFvUETmilsiuoRxRS5SIHECJ2kNe42q35eFn0E8P/PUJ3oNuh46hyzaGXvhTqfs2P3Rx9cWIA+eRLJAAACqrZHC7FYyurr7osd1P+XgcXV19seniE0hrlJAvfoqqBkBj8Ofui4knDQ+mtgNgIzZW1hEl/LVFIq+tGQNOa3dw+JMgDeujtmBJ5Aosi1yNZZGrsSRyBbbG7EKM2DLdXwmiAhz6+BmDrgeg68VTGBN4FScjY5AhKbF5oPhR1dCl4OL8Ynx58g3v736BIF3UYJ9ryugcR+i8NktZVSUHlMARucKWyBO1gljY3Dj8CRTiUoVm7XM2VQr/1AtYHbUEa6KWYW3UcqyJWoo1UUtxPfO+xc48P0plYmHQfXS/eRI9b53Ghtcv8IZl3Tt9TX7vkifIEK1BhnA1OMQdrf/Hp0QokOxBFdFZ/e9HCTELJPmgUZ35M/z3rigF88lEHfCrCYHFIgdUVeWo96SwJEcv+PUJ3oPej/caBb8u23zRxbVa3bb5YcAef1AFRTgR9BndXH3RVY+6b/PD73df6fjH21QmRvkEmMwChqUyDfqYHQAbsRWVVeDAMx9E8yZCInREZY3MX80Bp2XEFLOdJI4gsOrbeiyNXIklkSu0tCxyFX6N3oZ0sn7liK9cCr2vnEXbMz5wOOMNhzPeaKN8nHDnBlKIIpsHix9VrnesXwqurKjE+R3XMOF/zcfoP81Sa/vIAyA4pFU/2xyjcxyh89osaeffvgeLMxy5wpYQmsz+KQGQjDVrjwek3cDqqKVYHbVEr+6zguvtRwc+v4fDZU+0u+IFh8ue6q/bXfHClfjEBvNnDiVFtOgrnrLWI4zdAV+4bfGF01bxyG2L77xO4Ei+gk8JlbMAO+hUkaoIF8X1azSIT/VVeGYeklIHGwXAbFFLFIpao6Sg+maPhDyeQQDsdde9VgCogkC/5x/Rd9cpvfCnUo/tfsguLNHxj8oqGRZduKPbDaz8+uCzMKP+ZQfARm6/P0vCk1gCJcRMkwd3K4nuZjvI+bTbWBq5Sgf+NHWP9apeTjj29jW0O1sNf5pqe9YHm0NDbB4oflSpSsHFViwFH1lwHGP+PFsL/kb/aRbG/usczGmxGjlErtU+2xyjcxyh89osaTnF5Zh/IQIZogeKyQZmjLgSiU+Z3t+SHKyNWm4Q/lZHLcGWmI1gUXWvRNxLTldDX021ueyJdle8EcnTf52nJcWhpAjhnsD5tMF4y3bCZw3w01QUtz3yxGuNzEl0RiXR0+wMK91FChxMAmCuqBVKcrep96OkNM9iGUCVhu49axT+VHoRnarXRyqrZAj8GofhXhfQwd0Xnfb7YcrJa3ifxjLpX3YAbOSWXSTFggsRkHCXGj24KyOcUEEMMNs5NkVvNwp/SyJX4ED8sTo7X0g6Xy/4acrpnC+SxE0j2DRGWasULJPJ8fhJBIY4rsOwlisxygAEnt9xzeKfXRujcxyh89osbXe+8XHgyT1w+KbhTyBshgKhAwjyqdG9/Zzz3ij8qfRJkFRn/5nz/A7aXvYyCIFtL3vB/dO7evloPCHBxfSHOBDPwB8JJ3CXGaZTmfkqDMW5tKG4l9nTIPypJBAYriKpRJGPbR6bLCGJ8CeTAJgjaglp4Umt/bg+MsDwGcDDJs4A6gHArr/6mAWAjyOTLO5bdgBsApZfWoGTQT4m2/bzJEfMdo61UZtMAuCu77/X2fl8wiPV5V5jCkxIxvnkT/CKD8allC9IJvJtHjh+JG2/G4+PFhwQ/Smehcm/BaDXCoZaved7YEj7dToQOO2/llrsc+tidI4jdF6bNexRDA8CXhsITACgUNAMBcKfUCbuCJ6RiQcPWaFmAeAbnu7A/Fh+Lo6+D8f6Z0HYFvwaz5M5es8LdrzuZxD+VJr65CaOx37FtJArmBl6DdeS4s0+e/iE/QmLItZgYcRqLIhYhQXKx1XftiJcyFQ/73bmapxLG45XbBeTAPjd5FnyjsiVMIyuS0gmoIhYgTJiEoqJ5RCR0TaPY/rE4jualQGUyUq19mJqvhCDQ931QmCvu+7out0XXVwNQGBNANzCQK+FR9Fv5mGTAJgmtPyRHDsANhFjkzngZwxFpVg3C1hFuKCS6AlBLeb/uccf1Xv+T/McoF9yQJ2dz+/rN7MAsNcTd/QP2Y2BIW7oF7Ibg0P34UzSe5sHjx9FluwKDk/koM9KX/ReydACwF7LfdBrBQNDnNbrQGCVnlEJDWV0jiN0Xps1TFZViBJRGxSIWhuEwDzhT6CELVAkao0ycTuQEsMjYT4IEswCwDixdrOG3+cotD/hC8cTvmivVNvjDEy/fQdJIu1qRefrx00CYJurHmh/7xAc7yrU/t4hdLrvgTA236hffhKka4CfthZGrMaqb1uRThaATZXiXNpQnEsbirdsJ6PwpygDmwJAF+SQ5/SviypDGTEaVcqmQ1XzYRXhhFJiKrhk7adQWFPfuKNMAmAmv7Pe/ZicL8CSL6e14G/iWw/MPHcGvVb5ousWhsnMXxdXX3TZzMDgUQcxqo87+v+iHwJ7bPfDwuO6swgtYXYAbEImryIhy1acBawQuagvPi8nhkJExdXKOZ5zPpvMAH4SpNXZ+d6zCJPw1+asJ/q+3I1+Ibq6lBpu8wDyo8gSdwXL5XLMdLuiC38aENh7wTGM+pfqcvCEv85H7JsEiwxPrYvROY7QeW3WsMrCUygVt0GpuA2KRQ7IUc4ElAhbIEfUCsUiB5SK2yBP1AplojYoEzshR+JucE9zKCl2ft+BNQaaQNZELcPRRO0jLjdiU9D2OEOvHE/4Yvbde1rPXxbySKv5Q1fH0ObqUbS9fhRtbx6B451Dahh0uncYcaI8g+v3SDyDRRFr9AKgSneYr7UAMJjV0WQGMIHnqHVFnr5pEgJS/3V5UmKkUXgsIebYPJZpKkoUiBReW2QJ9cMfT+CAtOyLRvcls5DABzIF33M5eP0tFb2XMdB7GQO9ljPQaQcDnXb4ost6TwXsbWVoZP580GuZD/rP9saAOT4KzfZGn0Xe6LaZoQV/Q93PgktZ5zy0HQCbmMnlcsjLv+PZ5z0gRR7IlXggjziMXIk3xFSE2Reds6kyeCad1gN+iqzg+bTAejvg7Id30dZAE4jDGS90CjyoF/76hezGuLDDYFGlNg8iP4rqe1dwKleiH/xqaKjDajUAjlHC4MourjbpCqZzHKHz2qxhFXnbUSpugxKRAwpFrZEjbIVsYSvki35CiRL+SsVtUCpqg0qxI8rE7ZEtOWp0T38RpGB99EqsiVqmA39bYjbge41RV2OuXUM7AwCo0uv06vl4QRlco9m/1pc80TpAW22vH1VnA5e8uWNw7csiNxqFvwURq/BHwnFws8pxh7ke59KG41ZGH5MZQL5wphr0DDcTdlXcAqKR0RMQ8UZfo3pPPmmZ8WGWEJsqwAv2ZHzjukAsbKUGP4mwFaI5zgjijEF5Vb7Ze3Sr3yP0Xe6rhsAuWxjotvooRv/HUgzs/it6rPZSg2DfBd4YoAl/SvWf442+C3zQdQsDg9z84f30A8h8690vbAfAJmoeT2+gXKwa5NlR3dlVSswEnzJvBhWbKsOtzCD8qtEQsj12Lx6zLXMvcJwwHyNvXVF0/SpHwaiA0PnqYfQN1g9/KgWzM2weRH4U1bcU/CmeZRoAl/tgSIeNug0hf5mDhW3Xo7S4zMJeYtzoHEfovDZrWFWhL4pFDurbGUTC5hAKmkEgaAaBoDnyhD+hVNwGUnFbVInbQypuCxEZZXJffxOxwEg+robAdVErcDr1AuIJsdbzong5RsGv7XEG2p/wxe9vPmq97nR0DNpc9kRbzUzgJU3489KRCgLb3z1scN2LI9aZBMD98T7gZpUjUvRWmQUcYjQLGM/rjkLxSq3Bz8anSnSGSKI431dKTDDrNXnEIZvHMk1lKRQD6wAAIABJREFUkEKEcJbgIbM7XjC74QWzOx4yuyOMPxfFFUKjezK3uBSX30Vh+40X2B0YjAluAeilhL/eyxjouYqBke02Ysy/LcDovy7EOKedGNN5N0b0ddcBv5oQuMfvaYP4lR0Am6DJKlgoFXbW2xVcRXRAGTGxVreCsKkyJBIUkiRZFhuOqnZASQkCouMx6+FdjLp1BR3OHIdLwFED8LcLA0J3YtCrHRj0egfmfvLC9fRwZNDsbElTVX26glO5pHkZwNardQBQpaALry3sKcaNznGEzmuzhskq0kAIW0AoaAaeoBky+M2QzGuBBF4LJPBaIp7XAhm8VsgTtUaVuD3KiR5mVzsUIFCABIJAJql/9uhnFmkSAJ1O+mF36Fud137iSLDj3SuMfXgFPa+fRusLhuGvdYAXWl/wVGcBV3+4h/dc3Vs39sQdNXgGUHUOMCD9gfr5YbyLOJc2FBfShuMxsxs+ctqpwS+c2xZpgsngSTJNTpLQdyZQSKahguhl1vMLiQ02j2P6lCKJx1fBJfwe8geSJZEmj508jk5Ct51+6LzDF112+FZ/7eqLnisUANhvxhGM+3+rMebf5mP0X+ZhvNNOjHfaiSFjDuvN/mkC4NBVXrjE8kVifjRkcv3XuFnC7ADYBE0i+A0VeppBNEWSL2zudDV153s62vkw4HLGQy/8DXq1A0PCdmDwa8Xj0DDF44LPPkgiDJ+XsctyquuAaLlcjll7r6C3kexfzTOAmhrz59n4bdTvVvAWw0bnOELntVnDykpDIRA0A4vfDCm8FojjtUIcr6X6MZbbClGcnxDN/QkFgrYWLzemEyXodPqkSQg8Hxlv9H06e50wDH4acjzjgXZ3DsHl4UF0eHgQ5xO/ab3PM0640ezfwog1iBMTWq+JE8fhGfsQbmQswu3MJfjA3Yo08XlwSEVFSEil1wr+qs/2LYSUGGrWc7OJszaPYcYUnpmnvitYn8nlcvz+Jkx5vo+Bzjt8tbWdgc6uDPRaxsCgYe4KAPz3BRj9p1kY12ozxrX/DYMnHjWaARwwxwf953tja+wCbI6dh5MZf0BaZZ3qhx0Am6AVC7qZ+K3NGYWSzTZ3tpraF/oeTgw/tPPxQe9nblpZwIGvflODX00NC9uJLd8u2Xz9P4LqUwr+msRVAKCy61enC1jPKBhNre+10wreYtjoHEfovDZrWBa1ABxBM6TxmyuhT6FoTiu85zjiDccJbzjOeMNxwjtOeyRzHEERVy26938LCYOjsutXUy67juDnBfvRe90RJHANj6nKlJTC6aBp+Gt9wQtOR7zRLlABgCoIfM3mqd+LQ0lxPPmqOtunAj/VWJjH7I+1/v54FGV2+bfmvyfZxGmT5/+qCCdwG8G57eOvmLisvCu4pl1LjoXzQR/98KehHmsZGNZfAYBj/2MZRv95Nkb/r4UY1/43DBltOgPYb5kXNsfOw+bYedgSuwA3uWes4ld2AGxiFi/IM5n9U5wFnGFzR6sp99D3cGL4KrKAZz3QN3i3EgJ3GYQ/TX0TEjb/Hn4E1acr+NzpF+gz64j2HMB5HhjqaBz+Rv9pFvZO8bCwtxg3OscROq/N0iaTFYInaAkmvxnieS3Vmb9ozk9K8FPBn7MaAt9wnBDFGWXRfZ8kKsTIK1fUENhx0x8YMngfhkz2xJApXgpN8MDa5efAJrXLz5nCYhzZdAPDu2w2KwPYYZ8PXE4eUQNgp4eH8Ovnh1rvyaGkeMYJx+64o1gcsRZLIzfgaOIZfKzHdIYiYo3Bm0CMiSeRoJLopLcRRAV/hcR6m8cuc6S6K5iTpd18UV5VhR43TqLTb8bhr/N2BrpuYmDoyMMY+481GPtfK9VZwDH/exFGddtt8gzgoCMH1ACogsCCijyL+5YdAJuQyeVyLAqIQIlolMlW/iqig9nNIA2lB/GZaOfDUMvZ/xh+fuCO/qE7TcLfkLAduJH+1ebfw4+i7fcS8CG99p25ZSVSTPnPxRj+P8swtN1aDGu+AqP+bBz8VHKfeqxBR8LQOY7QeW2WtsKiy+AJmiGT30wr+/eO014P/GlAINsJGUSmRfd9srgI7q8/oNd2DwwZcxhDJmnAn0qTPTFvpq/6NWxJGbZNP44JzdZj/D/Xof3hI2h9wXD2z+GMFzq4ecPppAcc7xyC030FBA58bnwAsyUkohJRSXSt1VnAKsIZXKoUQjIRlcrRYzXnABYT82wes2qjr8x8LL6oXQr+JOKi9UVPk9m/TjsY6LiLgYFTPTCq028Y+/9WY+zfV2LMXxdi9L/Oxag/zcLAkfvRf46eLOBsb/Sb742FYSu1AHBz7DzE5H6xuG/ZAbAJ2dM4IY69TEc2edGMlnxn5JInbO5ommJTUgwPuKwFge18GOh88ZBZAHjdDoANplRRKWadDUdhWUWt9+mL86/MAr6aWu48DTLCGTJJD8jy90NeybWCF1UbneMInddmacvKXqEDgIrsnz7w09ZHzmir7P8JA/bphz8NvQhRzMt7di8G4/+5Tq0Bo3ai9XkvXQi8oGgAaXPeAw7XPOBw1QMO147C4ZoH2t48gn5PfRrEt8VUNMqIiWbCnxNKiWnVrydLkCM5CSkxEuVEf5QQcyEkE20er+qiU2EsBHysvk/3JScdrS96osNe4yXgTjsY6LDXFz+7emDE8CMY7bxNcRbw/67C4N7b0GPpEfWcv+4bGOizpBoAB031xKjDu7E7dhrc46Zgc+xcNQB+y/locd+yA2ATssknP+FJLAEuVaQeAm3ccWfb3Mlq6guLRPfTp9DOx0cpBtr7eZlVAo4Uim2+/h9JT79LsPN+fJ32asiVt5jdbGWtAHB1p0kae7gDZJLukFfU7fPNMTrHETqvzdKWlb0MfGFzJPNaIoLTBpFcB3xlO5gFgG/YLhafXBD9XYgh448ahb8hkzwxf7oiY7drnj8mNt+gBsBx/7MOnbd4oq2fNgA6nPKEw0UV+NXQVQ90uc1AhqSkYfybkkJExSCHOGkwmVClTCQIye82j0XWEIeSYsmlL/jMv4Vn3AW4kTEYZ5OHYGPIAgw4eNAoADod9EWPq79j2BgPjBhxFMMHHkSf2cqbPrZWD3ruukXxdd8FXhg59AhGDT+EOe/XYG74GswJX4NtMbOwKUYBgWSZ2OK+ZQfAJmSpRAE23IwFN6scFUQfM84BTre5k+lTvCAXYx6chLP/MTid9ESHC0fQP2inkSaQ3/Br5AWbr/tH1M77CXiXWrchzVWVVYgJS8D7u1/wxxwGxv1ljkH4G/uvM3Hh15qdhi6QkUMhl1vnujg6xxE6r83SJsw9hNfsjnjC6q7Wc1YXhLA7mATAVyxnMEndMSr10aOb4cbhT1kGnjhaMfNu9bDDWhnA8f9ch+Hdt6HLFgY67fBBBzcGOu1kwMnDSz/8aSggrnY3OllCQkkyKojuegCwEyRkqM1jkLXEpgpxP2M1rqX3w/WM/rie0Q/XM/rhSlp/BCQPwihPN61MoOprZ3cGnA77ouc9dww4vQ/DRntg4LRjJu/6HTb2KKYytmFO+FotbY2eg9OZh63iW3YAbEIml8ux4moUYjiFKCLWGj3MW0V0QL6EXkM5NZVBFuPQ96cY9nof+ofuQv/QnRgatlM5/uU3LQCc+8kT8WLDF7/bZT2liUsx+2w48kuNl4Ll8lLIKzmQV+mHRX6aEOP+Mhej9ZwHHPPnmZjw7zMgjuqkdy/Lpe+s4E30jiN0XpslLV+ahufsvnjC6qYFgKo/h7A7GgFAJzxidkWaJN2ie/7D23QMmeBhMgM4YZDiKrods06qz/9pQWAXV/y8+Kj6erA2F44ZB8CrHvjl2Q3b+DpVApJ8hiLJOhQTq5AtuQwupX9mYlPRO/5pXM8YoAY/TV1N7wf/+GHotNe7uux7gIGZV6+g41EFAPYIPIC+wbvR/9Je/LzeWzvzV1NbGRiw75AO/M0JX4uFX1eCWxRdLz+SVmWDlXcesZKN+C7ZAn7BPVTKSuwA2JRMJpNjzrmvyJSUgSA/mWgCcYGQsmxgtIbSJIV4zWXiDZeNZCIfN9K/YkX4Sfzy4RCWfPHDxdSPSJM07UBEd72II7HtbpzePSmX5UCWvx8yomv1HsyeBbn0vc5zPz+OxPh/m4ux/1qdCRz7LzMx8a8zEBHY08B+7gB50Wmr+BOd4wid12ZJ+yxajaesn2vAnyYEdkMYW1/p1wmv2M64x+yJ76I3Ft3vHEqKUb12mzwDOPq/VyCFmYuHNyN04E9Toxw3YcDYA3C4ZDz753DNAz1vnrS5v/8IYlPFCMwcrRf+NDX+8Wa0DvBEzzvHMCJ0GyZ+2ISJ77ZgYOBedPY/oh5j1nWnj8kMYO+DR/UC4JzwtfgguVVnH5IUv0IouxtC2J0Rwu6kVEe84Q6EOCfKDoBNxR7FCOAVXH09Wi55XJ3t08z8VRHOyCIN3zNpl1211e4HiXidItHaj3JZDmTUKMV5vZqlW8IZ8tJHOnuYEmTjyr7b2DpkH7YO2YFrvw0GFWfsPKsL5EUXrOJPdI4jdF6bpay0kjAAftoKZnVUd/2quoJfs51xj9kD95g9ESsOtfh+P7LpKoaMO2qwC3hYr90Y/edZuO4XApa4FOvHHMNEPVnA8f+zDmNa/4p+sz3R5rzpDOCA62ds7us/glIlTJPwdyNjIC6mbcPYN1sw6cNmBfwpNenDZowL2YFe9/ehb/BudNvjbQIAGeh7+LBBAHxL3K2TDxVIUxHK7qKGPm11Rhinvx0Am4LllZRj1tlwZBBlWhuZIN+jmFiFSqInKojeKJRshZiKtrmD2dW0lC5WdAVrloJlBQf1wJ+mukAuKzS4p+XyKshI0zcMyCvSreJTdI4jdF6bpSyn7LtJ+HusvLv1JbMjQtkuCGF3wGNmV9xj/ox7zJ64x+yJdJJj8f3+7lUKRv5tMYYOPaBT+h3WdQdG/Xk2xv5lLk7tVvyincopwN4l5zHhf7QhcP6AAxg8zRP95/jA6ZjpM4Cr7z9RryFJwsUzzjlcztiKq5nbEcILRDpJ2TwWNAWlSjhmAeCumBla4KepyR82I4D5GPvjb6Pn8cPous1ICdiVgVFXdxsAwDWQlIrq5EMJ1B4lANaEP5U62QGwKdjLBDF8Qy0788ouu2qj53Ektt9TlILlcilkhPEbaWSEM+QlN43ua3nJLSOv7wBZzgqr+RSd4wid12YpKyrnmgWAD5SZPl31Rih3o1X2emycWH1MYeTfl2KEw3qM+GkdRv37vOrzq8oMoNbrEiS4c+kzAi98RMQ3PmLSszFswXEMnOODrpt90PacgSzgVQ+0PX0M71MVkw7eC4LgnTIOPinj4Z0yVqlx8EudhmhxwzeKNDVxKCnuMadrNX/o09Lw5QYBcOKHTZj7ZTdkchniRAL0/O04um3TA3/bGOixywsz36/Xgb+54WuwO25znX0ojNvPCPwpZAfAJmAFZRVYGBAJHkUhm7yAUmIuyoipKJDshohqmm36dtFPO+8n4G2qBPJKgRlzxDpCVmC8u00ul0NW6FUNfJqP2bMgl+Vbz6doHEfovDZLWUVVPkK4o00C4N3Mn3E3UxcAn7AmIEPzPmBKCh75GQLCHULxdvAlF8Cl6p4x2zjYHWP+xXDn+vi/zkcKM9fk+wR9ZmH4whPot8gHHfb4oN1xTzhc0YC/yx5o7+uFjTeCwM0qR6w4Ed4p4zTAb6wWBB5PnYYMMtvmsaCx66vwodHs36X0KZhco/SrT0WVJQCAKKYAA9380dXVFz22+6HHdj90dfXFEPdTmP7yV+XoF234WxaxFlRZ7e9eV9lrTi87AP4IViWTY0fgHVQQfVBFOGtMYlf8Y0m3oc92NU2lqUrBxZQZANgBssLjZu1veUUGZAVHIMtdC1neDsil7yCXy6zqU3SOI3RemyVMXBSEME4nhLA6qJs99AGgKvt3N7OnGgLvZvbEK85mZJKS6r1JkRCJpoIQNodY+JNSLSAWtgFfcq9Oe/3dqxSM//d5GPMvs/UC4PmDj8x+ryRuAU7f/oqFB26hp9sJdNjHgPMhHzgf8kFndz/suvcaTIniHt07zEM1Mn+6EBjKs5/xrq84lBTveCeU0DdQ+ajoCr6aPB3nMq5gysctRuFv0ofNqJBVH4spkVbgfngC9gWGYP/tULyITkV5ZSV4xVwcSnRTQ+CCr2twOv0Ecsvr9wtupHixsvnDEAB2sQNgU7Bz75JRKOhn9AofkgyyuVPZ1fT17LsEO+7FQZa9UNnwYez8XqqtXceg0TmO0Hlt9bXc0iiEcZzV3b2h7A54qgbAbjVKvz+roe96Rl/czuiFO5m9ES3UgC9KCpFoCsTCViCEzbUkFjaHWNgCPPJ9nfZ6WFAilnTYqgV+v/zfZbji+aLO/sOhpHgWy8ap19EIeB+HOF6+1v/3S51mBP4Uup65U/leXLAl4WCTKRYfiP2jKIlIxmueB56x1yOI8xsihUFYcukLQjgJRuFv8sctOJQUUKu9XyGrQEFFESpllpltKil+ZSIDaD8D2OgtRZyPsyG+Rv+hrSJcUErMsrkz2fVjaOf9BMRmBkNGOCul270ry11va9cxanSOI3ReW33tM3+4zmiXMLYCBF+yOiKY1RFPWF3Upd67mT0RmNkb1zP6ITCjN+5k9kK6hKfeizzykw74aUNgK4hEdb8ViUNJ8e5VCu4FvMeLu1Fgiqx7W4dfylSTAHiPuQxp/B5I4zdXK50/ACxJqM1jQ1NQJCsfCwK+Yuf3E5j8QTcLOOnDJkz5uAXphda9rtKUyeVyJFH71V2/KvBTNYakk1fsANiYrayiCrPOhiNLuM3o4GeVag7v5FE5oMh7yCHPgSQfg0cV2Ny57Gr8UpWCiwueQyZR3SLQsfr8Xu4GyGUltnYfo0bnOELntdXHSio4Zl3x9pLVUav0eyOjL65n9MXNjD54yvpFay8KxWsgFrY0CoGEsDm4lOnzenTQtczfjJaAb6b3RSqvOVJ5zbUAUPVnFvHA5t9DU9DpNyyc/pCMvQn+6ozflI9bMfHDJsz+vBPfcpJs7U4AFBAoLnqBr8I5CGF3Rii7K2KI9cgpjbQPgm7s9vS7ECfDWCiUmAeAPEpZTqCkyCHPoZLoqh4MLSOcUEn0sM8ItMsiUt0VLJcVQ15yH7KCY5AXnYS8IsPWbmOW0TmO0Hlt9TGqJMwsAAxhuWjAXx/l+ay+uJXRF2kSFrhZ5eBRTJDi8ZCYAL9qABQ1uI9ERHBxlfESt069xrdvfLNe81X42SD8nUwdgSReCx3404TAdL4DOE38Fo+GEIeSYvGlSLCoIjCL+LjBCcIl1hOESSIhrSq3tSvpNblcDrlcrv6zHQAbuaWI8/HLqc94G2P40m5FCdgZZcRE9ebNJgMMPE/xSJGPbe5gdjV+1eeuYFsbneMInddWH8spDTcLAINYHXErow+uZ/TV6s58w90JkcQHYvFWZIlckCVqDVLYwiT8iYUdwaVKG8wvrp9+g4ktNmLcP9Zi3D/XYVyzDRj79xXYPPIPJKZmmXz9M855eKeM1coE+qRMwPPMrnrBr6bYxE2bx4amoEhWPhYGRKBKJje9uWlodgBsAibILUHg12QUC7oZbQJRZfZ4VD4qiR5GYNEJ5cRQcKkymzqXXY1faXoGRDcWo3McofPa6mMyeTnec382Cn9hbGfcyehZYzRHXwRm9AElbIUsUWtkiX5ClqglskUtkWUCAMXClhAQRyy+91PZebh87DnWD9iLZV22Ye9sP7x+noADKwIw7u8rMe5vy7X195UY12w9FjpvRjrX9FGcr8IvuJ65C8dTp+FE6kzcY3kgnudgEv5Sec3BEa21eWxoKvJ/y8K590xbu06dzA6ATci+JL+AVNhZ5+o3GeGEAslucJVdYCT5wowRHU4QUxE2dy67Gr80B0Q3JqNzHKHz2uprvPyLRuEviNWpRuZPcfYvgdsGSbyWSOW1AClsgSxhC2QrIZAyAIFiYUuIRKMtfv4vMpKHWc1XY/SfFQOhR/9pFsb+RTkz8N/mY+x/LNMFwL8tx7j/XIGx/7USV7zqNrEhkfeTWQDIFf1q9H1YkjI8Cs/ArffJiOPk2TyG0FkcSooll74hU2L4ViO6mh0Am5i53nqKPMlBlBODUUH0RQmxGBIyWA1/3KxyZJHGbleolkQSBIp8hGJiOcqIqSiSbICEfKP1XnbZZY703RVMd6NzHKHz2uprcrkczFwfvOG4qKFP3RXMbo8QlgvuZf6Mmxl9EJjRC8+YnfGB0w6JvBYQCJpDJGyuBX+aEKh9HrAleOIdSBC6IZo/BTH8aUgS+YJFCuu119mSMixotxFj/9XwkOgxf12oHwD/thzj/rkWK3rsqNNnp/C6I0VPA4iWeM3BN9ANzKGk2HbhJXpt8MPP63zV+uXgNUQx7cOlDekbu6BRloLtANjE7NjLVLyIJ41uVoJ8ZxYASomx6hEymtnEImIduFSxzZ3OrsajdHEpZp8NR35J4ykF0zmO0HltlrKyShEiRXPxlu2EdxxHfOK0xReuIbVBCr8VhEoArJkB1FSWsAUoYXMIBK0QwW2HCK4jIrhtlGqHCG5HpEs+1nmvPwuMMAh+1dfEzTacBfz7SsxsUbcSLVN8Ggm8llpdvzXF4rcz+Ev8As/b+HmdL3powJ/qz303ncB3ezbQoM6958D/babRPS2Xy1FZHgtp0WVIi6+hqpLdQN6k3+wA2MQs4CML7o+T8SKeRIqheVRUKcqJQajSO59NAXyVRA+DXcVVhDPyJJ42dzi7GpeC4km43vluaxcx2+gcR+i8Nktaflk8PnIc8dko/CkAMJrbGiKhAgAJgWEAVCmR10oD/NpoQWAktyNYlLhO+9xz/SWM+8tckxA49v8sNVgGXtlrV50+m0NJkcofjASNTmDVSBhFB3AL8An9R3sefc3Qgr6a6rHOF0t96nZryo8gDiXF0svfkE7o98mqShYKyHHIE7VCnugnpVqhKHs5ZFa80tKY2QGwiVl2kRS3I3nwfZWONdejsTAgAosvRmLe+a9ghGbiRRyJdKIUEvIVqggXHQhU/LdOJrODlUT36pEydtllpnY/TMSrZMLWbmKW0TmO0HltlrQqWZmZANgW0VwHiITNwRc0g1DYHJSBLGCWsAW4gp9wM60/vBPGwD12Ck7GD8cHlnYmMEl0sk57/Ni6i/UDwP9aiRsnQuvsYxyyDJnCFUjktUICrwUSeS2QzGsBNr8XeJJ4g6+bfeSmTuavJgD23OBnv1HEiKLYBVhwIQKVVdrXVMqqSOQT3ZEnclACoKYcUEhNhVxe2eD+ZQfAH8TKKqrwOpmA3+sMLLv8DQsCInDt3W2UiKdogV0JMRtx3FmoEpvTJBJuc4ezq3GpMZWC6RxH6Lw2S1u8eAE+c9qagMA2SOT9pM7+qTKBEp1mkJb4xO6MM2nDcDp1OPzThuNk6gjs/D4Dsz+vxt6oKQjntEUEtw1i+XPqtMcfXPpYrxLw9NYbkSms/xEbDlkGtiQeHMkXcEnTv6yP2HnOaAZQBYFpIvsMQWM6956DM++0u4JLC44ZgL9qVZSGNLhv2QHwBzW5XI6wFAlmnPkCxstghMS+AJfIxJUMXzzNGGoeAJKfbO5sdjU+vYgnse0u/buC6RxH6Lw2S1tu6Qd85LQzWQLmKMEvW/iTGgBVEgubI5nXFufShqjBr6Z2fp+B2V/WYNPXOYjgtkEkd3qd9jdTXIKZzVbVqQlkSrO1SGbm2MQvJ+y7ZBIAf17nCxZpHw9mTBxKiqWXviFDoys4n+hlFP7yRA4ozlnb4L5lB8Af3KpkcqRLChHwkYUl10LgFj8dp5PHm4S/crEz7jMPg2OfFWhXHbT7YSJCk+hdCqZzHKHz2qxhwvwb+KSEQH2ZwGRedQNItrAlhDUAUCRsjpsZ/Q3Cn3/acJxKHY6lkcsw8o0rbqf0wp4vvyAog12n/f0+LA1T/rZYCwJVX++a6gXvrTcx6R+r1eA3/r9Wwn3xWbCI+g+j5lDF4FACcKjagaT3wy8ms38T3C/ZPHY0Bn1jF2D+ha+oUJaC80SOJgCwFQqzZjW4X9kB0G5qC0wLxJ64GXCLnw4uvxsqDGQBK8VOiOb0wuGkSQji3lUGHakdBu0yW+mEYkB0bjE9r0wC6B1H6Lw2a1lphQAp5DpE8Hoowa89kiVLkUGuRSKvJYSC5hAKFNk+UtgCQmEzNfyl81sbBD+VTqcOh2vMbEz9uAFjXm3Gz4/3oP2dw0glFCVPffGNSZQiNi0bSWzdEuv3BAK+rjcwz2E9pv/3cmwc5I4Hlz6CrcygsYhSRETyEBHBA0tsCfAjkSl2RxrfUd3xmy6YC7bEvKM6TEkpBmw5pfccoOq/3f+SbvPY0Vh04QMHJ8IU114WSIaomz4MZQBLcrc1uE/ZAdBuaguT3MG++Flwi58Or8RJyBV2RKXYSV0OVn0t4HeBV9IEHE6aBK/kubieeRDHkqfgaPIEnE5bg9f8p2BTpcgUl+Dm4+9YvfkGZi46i1WbruPa/RhkGOpO/sGUzCnAxesR+MPjJbz8XuNNOPeHOmAdnEBh8236dgXTOY7QeW0NYTXvNM0ufIJkniO4yixgkVDREKKCwAReO7MAcGfsDEz7tB69gvag85P96PzEHX2C9mNgyB6MebMZKyNXwj/1JL5wMuF58jWGzfBBv7ne6DffG/3m+WDiqjMIDq9b1rA+4lASpPH7IIXXHN+4bfCF44gIblsk81ogjd8CLIl5g6UjMygM2e6vMwqm53pfnHsZU8s1SREUy4H77bfYef0V/IOjkSL8cc4Pcigpll+JQqq4AGVF500AYCtUSiMb3I/sAGg3tcXnfYJb/HS1jiZOQhhzAChhJxSLXCASdMGLzEHwUMLf4aSJOJI0AR7Jk3A0eYJSE3E0eQIup+3D8o2XMWy8J4ZP8FI+emLYeE8sXnMZyWZcddR6z6tnAAAgAElEQVSUFfjwO8aO88LIUR4YPcYTo8Z4YsRID2zcfAspvEKbr6+htPdREoITxbbe+nqNznGEzmuzpcnlckilUSgpvo9SUQ9kCVtCJGyOTP5PJgHQP204tkTPwcT3v6JnkBu6PN2PLk/d0f2ZG5Z+WQLPxLE4lToCfvGjMHm5G/rPUYLffG/0W+CDfvN9lH/2gd+Nhj0fnSHcgEhuGzxjdcUTVnc8YXXDE1Y3PGV1w2eOI1J5bcChzI+5ge+TsZRxDws97+DQ7fdIF9euKSWBV4C5PrfRdasvemw7jh7bjqPrVl/03nESNz8m2zzucLPKwaUKQZEPUCDZiwLJPpDkc4vPt43hFGLe+a8oryxCATnGQCPITyjO3az1C02d97+sCPJKAeSyIrOebwdAu6mtUlaBQ0mL4RavKAPvT5iKQ4mTlLBXUwr4O5I0QQP+qnUkaQKWHN6MYeM9dTRiohe27Xto+wBgIwW9ycCIkR56NWr0MWzccsvma2woZRBltC0F0zmO0HltdLKy4kAUi3uhVNgWDzP6wT91mMHs34nUEVgSsRyDX+1At2f70OXpfnR/thd7Y6fiRMoInEpVaIPfSgyY4VUNfjWlzAZ++C5qEB/iUHmI4rbVAL/uOvrMcQRTbN75vTRREfbefYNBf5xDr/2nMMrjIk6FRqlL16bXI8Vsn0B0d/VD162+Ourm6oegWI5N446YikYF0U85+qwjqoiOirPtxBAIKcsCasAHLk68zoBMlo/i3B3IE7Wthj9xJ5QV+kIur6rXPpdXZkKWuxky5aUNMsIFstzNkFcav6PYDoB207KUgm/YGz8Te+NnYl/8LwbgrxoA9cHf0eQJOJI4AXvfz9ALgKpsYExqls0BxBZas/4aRo4+ZhACR4z0wNuvPJuvs6EUnEBhc2Csrbe+jtE5jtB5bXS0nKKnSOa2wdm0oTqNIKo/u8bOxvh3m9Dr5R50eeqOLk/3Y/GnZVrwdzJlBMbMOGgY/jS07kDDDE1mEt8QxOpsEP6esLrjKasbUgQzTL7Xl3QSPdxPoONeX3R089V6HHn0IjII08d3nkez9YKfSt1d/bDk+D1cfBiN1XvvYPGOG9jr9xJvowUN8vMSUDzlRQcuOufbq4gOqCD6gUdRFvs8VSk4RawY9iyT5aJSGo5K6TfI5WX13tvyimTIJN0h07m4oQNkku6QV6QYfK0dAO2mY5ziFFxk7odb/DT8kThJbxbQWPZPUyMmHzUIgbefGR5K2lSVxMk3Cn6qLKD3iTCbr7UhtfdREl7SrBRM5zhC57XR1QoKLyOJ1xa3MvppASAjeTQ2RM3HqLCt6BlUDX9dnrrjWOI4nNQAQN/vozFkoqdJ+Ou7wAdDl/qBbeBMb6q4GC+SuHieyEGKuH7n4pJEtwyCn6a+cUeYfK9+B/2rwa+m3Hyx0N801O65+Ro9tunP/nXd6otuGxnoP8cHA2f5YNBsxePgOQwMnOUDr4vvrX4OOk/ipRf+NG+6yiYDLPqZqlJwRY0B0ZYwWdYveuDPqToTmDXdsE/YAdBuhqy4sgDMwhgwUufjSNIUDfibbBb8HUmagOETPewAqBkIUrNNAuDoMZ447Bls87U2pOhYCqZzHKHz2uhsFRUZyMvbg3TBQISk/4yD3yZj8Mtt6PHcDV3V4KfQz8/d1OCn0onEkeg/5xi6bPdC5x3e6LVCOxPYc6UPumxjKCDKzReDjpyDV1A4MiWKLt9HiUz09j8LR09ftZy9/OD69BXSiLqdP4sXBZkBgN0QwZtn9H3ufE3TD34a6uTmixQTg6C3XQk2DIBbGOg/1wcDZinAT59uBiVYNdZIiZFGR5xVEU4oJWZZ/HNVpWBTJpNGQZazAjJyJGRZ0yArvmswUyivSDY5sk1GOBnMAtoB0G4mrbgyDx/JQPhnrAIjdT6usLYjVHzWKPwdTpgI1wcL7CXgGmISpZgwiWESAq8EfrP5WhtadCsF0zmO0HltjcWKKqS4xfyG4UG+yo7f/VoA2O3ZPq3s35G4Ceh9aR8cj/mgnScD7bwZaOfDQDsvH3Te5o3ua30U4LenGgA7uimgaf65ezjw5iPaeTHQzpOhBYAq/XIlEEyyehxMmrgYj78xcTc8DZGZhmNlOskyKwP4XWT8bPGqgMeGs38auvguzuj7+D2PQDdX/dm/HmsZBsFPlRGcu+WKVbOAFcQAk8BURkyw+OdyKClWaJSCa5pcLocsZ43+NUn6Ql6lOzdVXvrcPAAsfaH3M+0AaLc6WZW8EmcyltfoANbO/s3YtMfeBKJHx3xfYZSRM4Djxnsj9QfqBNaU++Nk2pSC6RxH6Ly2xmhP+d/R9el+dH16QAMC3bEjagZOpIyAZ8JYdDh9uBr8GEr403h09GSgw15t+NOU42EfveCnqQvh8WCRZfj93jv03HkCnV190UWpJace4BszW8dnPvCZOJMyFI+Y+sHvMbM7HjF7g0MZP7+3/PxDswDwXFis0feJ5+XjZ2XXb031Xmo8+6dSkhWnRBQTS1FlsGSqOAdYKHG1ymfHcA2XgmV5e42DHDlIp1NYXvbGPAAse6t339sB0G51ttxyMfwzluFocvUomCNJE3E0aRKCmY+xfMNVi4+BiUzPgvvlMAzbfAZ91x7HVLcrOPssGpkWmKDfUErhFWLRkgs6EDhq9DGMHOWBu09+vNK4ShlEGWafDUcODUrBdI4jdF5bY7XvOXxsjgxUw1+Xp+4Y+3oTTqSMwKygNXA8ylBk8BgG5KOEQDf9EOiyz3D2T6Ux56+i524F+NVUt21+GOp+Dt85uVo+czj+FhaFr8L9zJ91IPARUwGAe2M3mPS906FRJuGvo5svotk5YJJliBPmGSxbXwyLUzd8aAJgn6XGM4AqxbPyrBZjJGSIGffcf7Xa51/8yMXxGqVgmazYLJCTST9qvU4uL1U2gBh5jaSHwRKyHQAbubGpIjyIFuD46wycf8/EMC/9pG8tq5JXIDn/PR4LjuEB/w+8l9zAoiuhSBGVqAdBr9lyUz0I+vqD2DoPgn4dy8fADafQe40feq7y1dLCQ7eRLm48A6ZTeIXw8nuNiRrl4A2bbyL4XabN12ZrhSRS2ESDUjCd4wid12ZpexAtwL0oPq5+4aD7wVDE8nINPlcur4S8ioJcVmjwOabsLvcrfg5yU2vG+zVwOX5UAX8+Gpk/A3LZrx8AO7gx4HjMeAbQ0YOBLkrgU2X+akLgvttvtPzl1yg/jP+wGQvDV+B08jAtALyYOhCrIhZh6sftJv2OTZah277jRptAxnpfxu63b9H50gk4nPNGm3PemP/0AYLTdacWPIrIxDzGbTX8Ddjtj7VeD03C39Q1563bCEJJUSDZgSplw4dm84eMcEKe5LBV4xuHkmLl1Sgki6pLwbLcPeYBYPYy3T1fdMb4awpPGNzrdgBs5BbLy4XDrhdw2PUCR16koe+RMNyN4tt0TRGsbMy/EIF3qZa71JwlKcPobefRe7Uu/PVc5Yteq/1w6MZ7m8NLbcUkSvE9PeeHGv5sjtwfJyMowbalYDrHETqvzdL2y+nPcNj1AqMY77Htbjym+39BfkmF1nPksmLICv0gk/TR+MdyIeTSz7X+PLlcjpNpIej50g19gveh10s3OB7zNp7908gCOh0yDIDtjtXIAB6rVrtjDDgeYajBr4sBCOy767QWIO2MOYcJH7Zg/IfNGP9hM2Z9XoNlX5di3pdVGP9hE8Z/2IzZn93M8rv7EenopFqzBvh1dPNF9/0nMPDGBbQ97wOHc95qtTvvg3bnGbiTkK73PZMEhYhl54JFliFDXIKxS09j0GzDmcCzdyKtH2OoMmSR1yAlRmmd+6PIe+A2wG1MmqVgubzCSBdvDVHj9O5XWaGXkQxgP8gr0vXudTsANgGrrJKBk1WE2WfDsfhiJDq6B6PSCu3mtbFMsgiLL5rnyCyqDMGZPDxOYyJaoB8a731I0wt+mhr86+lGVQq2y7BUpeDsIqnN9jCd4wid12YNK6+U4cw7Jiaf/ISRPu/h/zZT/f/ksmLIsqZDpjPawwUywhny0kd1+kx2EQW/1JfYEXMLzl4myr+aAHhYFwA7uDHg9IdPdQn4mC8cPRRqr5SjBwPtjzDQabsuAGpCYBdXX6Rp3Mxxnxmhhj99mvhhK3wSH5jte++ShZh98jY67/VDRzdfdNt3AmsuPcWG4CAd+KuWF9pd8MaF5AiwTNwJHxrBwYgFx9WjXwbO8sFgJRC6Hn1i9sBpi4iSgk+Rirl/DXwN56VPXPi+Soe8+KJ58Ec4QZa1WO9elUs/G3ldB8jIgZDLdWOpHQCbmBVLK/Gdn4eKKhkeRAvAJBWlkERhPsor9UNhVpEU/JwSi69lkQkA5FBSnIyJQs+7J+Fw3QMO1z3Q5roHFoTcQyRfu+vt6K2P6LPmuEkI/JxM2ARY2FQZXvNicSr1KvySAxCY+RIpklybrKWpKDQxCxtvxVh8X5prdI4jdF6bNU0ulyOTLARZUIZkUT6exQkhKzhudK6bjOiEZAEXVbK6X7Xl+vIF2h0zXf5tx2DA+XeGDvx1cGOgzWlPRQPJMYYO/FVDoC/aH/VFp//P3nlHNZ3ta39NO+2eOe897d575swZelEpKraxK02d6gxYUcHeu2LBRi9JwAqKIEgTBcSCighY6NKR3ltCAooinSTP+0cgJqQihPx0fs9azwrOJGEvs/fjJ9/dpACg0cEzQhXAClYHbFKdsOjJbjHwtwuLnx1EVmPTsMZiEf0tNC9Jgr93HnfjJNYn+6OcKf2LeEYxCw7ej/DdOm+YrDoDa9sQhN4rQBXzPSCM1YFGVhborBTUsZST/+/jgangbvpM+QGw67HY/sl5aS2zisjtvCnyOhIAP1L1sTnQOByD5ZfSsPxSGrYF5+DXCynYeDUTunb3hWDQOaYIs90SsCEwE+VN7792ZrBkAaBD6lM++AlaPcgVE66dFqoGuoU9E7v2b7BTi5kKGawVrNdIb3yIpPoIZNFTUC3wLbeAwcLBnONYnb4W1unrYZ2+HqvT18EmfSPuVCcpPWg+ZJ+ILsSdvMYR65NDEZFzhMhtGy2diS/DdJeHaK2ZKPUfPjZDG07XD8DSOwXeiRXgvAcIvuzsgI4TDeoeFKhRKWLBT41KgboHlQ98A9Y5SoHaBVeoXnWGaqAz1LxdoeFGFYE/QQjUPiEZAG2DHoqMkzxGM7ZkUPgVv+/6YXB58nE8rauUa6yVNOUhtzEUefQbKGe+u5WjitUJqyeHZcKfio87dEPtYXTvCNzzRNs44mZ1o4XpL3SsC28H7y7UsUbnGr7hOq+mXn74Y2iBy+0T6ZtcLhscgbWM4q0DTutekdeSAPgR605eI87Gvxv8Vaxu5NbypooFxWrrhoV3ClLLX+OX88k4E1+GxyXM9wpKQa29koEyhvhy/vP6FqhddRULgAMQuCMxhv/8h1m1MuFvwQHf9/sGKcXVrG4k1gXAv9QEvqUz+b5athhZ9GRUsbpwIOdYP/StFfGa9HV4Ul+k9KD5UF3exJsKblbCVDCRc4TIbRstcblcrL/yUI5/OMcgv2gbvBOrcDquAmuvZCAsvRaNrZ1D+l0FDAY0aRSoenlAjSoMggN//sbbDWo0D2g58tYCqlPcoRrkBPUwJ6iF8qzeb42z7hIBUNNZ/DTwhP1eyKgQfyZgNasbibXlOFd0B2cKb+F2VQ6qpEzH5la34lJMNs7djcbd4h/xoGqMgMchpe4gqlivcSLXA7882SgfAIbZY+K9I5j70FHoTENFuLXJtR/6BgO/LnoY81DHUkwxYCRdy2odAgBOldA3++R4rQ44rTtFXksC4EeslrfdIuvwqlnd2Hg1C7SHpSjvnx7mcLj45UIyChs6UNjQgagsBo5EvYDNlYxhrcGiPSzFrRzxUw+Oac+kAqDKVRdoBXugrKmD3+7l9qFSq4AX72aN+ABNqLssBH7vPAuXS+cgqjJCLPi9A8D1cCzwVHrQfMh++KIZW4KzRM7AUrSInCNEbttoyvFOJth0WdWPMaioPASHO8Woae7B4+KX8H1Sg6UXU3FdyoY5LpeLyMp8/HDPH+rBLtAKdYN+sBe+uewGlQvuUPOk8MFP9awHvrnkhm8uu+EbXzeonPGAylkPqAb3Q1/YIPf/Nw0vD4kQOLj6p7eHhoQXDRLHSVIlE7tiYmFw4Ry0z3jBOCAAZ1OyRECssqkLxwPjYbTZE7P3OCKiYCJiKsYOAkAeBCbU2ODHp1uxJt0aYwMcoOLjLhUCDaLtMPHeEUy8dwSp9Yqbjm1glcmo+uqgtclV6dkljzsYS8Cmy7P+b6nEvspp/kFGFVAb3PbLIq8jAfAjl7V/BjKqhM/cq2B2wfZGAfyeVQEAuvvYWHoxVWTrfWxBM3aEZoPN4eJ1Ry8c7xbhTHwZ2rtFy9DiVNvSgV/OJyO+SPTw0h2JMVAPcpMKgCpXXYSmgXOrWvHTkQD+rt+J62l8IDwZmDDiRweUMVm4XDpXAgDyINAud53E6p9gFbCSRW5OGY5P3S5CdHaDIoeKiIicI0Ru22gqtbIFxUUWMtYAaiHoyXXE5AlXhKpY3bD2z0AJg/dF+GEhA8eiC5Bc3gwul4v9KXegGuwM9WAXqAY7QzXYGd/4u+IbPzfpHgBAfxdR8BsMgQHOYuFPw3kA/Ki8qd/dVKx1v4HCWvHnp94prIbu2dPQPE2DmhcVal5UqPc/Lgm/zr+Krqa5B0f94zBhIw0TNtJwOHQp7omBv9gqXeTU6iCr2hD+BQtxMHspFsXukFr9Gx9ynA9/E+8dQUaD4ipwrU1uUg9z5jC00MswGvWNHe/jJqY8VWwtcNsDJI4DbkeEVPjjMPTA5Ygen0QC4Eeugd3BjneK4XqvFDvDcrH8UhrMPZ8Kra06G18OmyvPEVcoDGvn4ith6Z2CRaef4nxCFc4nVGGuR6Lcv7/lLW96uWjQ2X9Hk+OhHiS9Aqh21RXFgw4arWjqRGhCIbZ6RmONSziOXH6IxDzJ34qH46T6KPiWzpICgDOxL9sCa9LXSQXA1elrUcYkj3kZjiv6p4JHU0TOESK3bTTF5XIR9OQ6+ujaEqoouuC0LEE1qw1LL6aC9rAcJfR3MJRW8RobAzNhcyUDC72eIr6oBQs8n+LkkyQ+9AmaB4BSIHCgAujjBtWrzuKrf4Os4U4VAUCtkzTo7aZCbxcV4zdSMXkVFVNWUTHFioIZK2mwPhQCz+AkpBezUNbUCYML5/jgN9jqXlQ4JPDWIj8vb8HETTQ+AEYUTBCBv8waHXT3/1320nnmMLSQUjEN5jG7oerjDhUfd6j2W8XHA+NDTsDy2QY+/C145I4qBcJXW9NOmdDPYWihlqW4A6VH0q+aKGDTtST0YR3eVXAcyWOdy+WA03rw3fMF+z9jDLhdj8S+jgTA34BqW9qRWMJEWmULiuiS/07qXnbgSFQ+fr2Qgl1hudgXnoeVvulYdjEVe8Pz4HKvBIvPJ+NGJm/apI/NQWcPW+bvT6loxopLafB9UsOv0iVWNUqFP/UgV6yKlf/oAkU4oc4fl0vnSAXA43k/yATA7Zl7FXuw6W/A1axurPRNG6khIZeInCNEbttoi8vlIrcsGH10PbDp2mAzxoDDGMP7B7BlKb/y0cfmICq7Hit8eRvjjka9wKarWVjhm4YVl9LgElOKo1EvsNovHQvv+AlV/gasEugsuwJ4yQ0qF93lB0APisj6P/3tVExaIwB+graiYMpyD0xd6oFpyyj43vWKRPgb8ATvC6hkdsErKg0TN3nyAXBw9S+1Rhd9EkCkj66FjMqpWJ68HvNu78e0G0cwI8oWixO3YHWaNcwTd/AB0KdQsZvfXjcdl1kBZDPGoUbGkTREMJ2VhnbGWnQ1jB30994/pcv8FtzeIrnGAbfzLjgty8BpMgCnaRI4rYfA7S2R+BoSAEmJiMPhooj+BiWMNvT0ccDlcpFf/xrJFc0obHz3d/qsjAUV27uY454Ax7uFUt+zqrkd5xPKsdovAxmVvGmM9Y+ioSqh8qcV7I74SsVU9uR1SsNtqfDnWzoT54vnSJ0CXpO+DkHlt5UeMh+6k8pewe5mgaK7vpCInCNEbpuyxOW8Abf9Kjivj4PzxhncnucS14129PQhubyZf+Xgy/YeJJU3I6m8GZ09bGiFuomtAKoEOeObKy5iq4Aqfm5Q86Xgm4v9AOjvIhsAQ5yg4SpQAXSiQX8XDRPXiwG/QZ471x5z5zlg7EEK1GgUmRCYUdMCx5DHmLTZiw+A4bmThACQ2cADPWlgZZdjCesMa77XpFvjl2ebMKkf/o5m3kR5YztCzz3CpimHsfifa7FKZxcuHLuBF2UjczkAnZUuA/508abpoNJzS5YHNrKIX/P3M7idkRKvcRsJkQBIalgqbWrDwYg8FDS8lv1kAJWst/j1QjJiC5pRzuzEjsQY/mYQ1f7HKdfP43ZplcRBk9XwEglVDchtlFzer2J241ZSOQ57P8Bur9ughCYhq2Jo4VPBeg2/UmMpADgbkZW7cLPqMX/Dx2D4O5bnggqW+PsySctvn8Rq3M4l1wAOiMht+xg05pqHWAAcgECVABdoXPHgw59ekBc8Mp+is7cPzjFF2H8jF5m1rRgT7iYR/jTDnLHqwXVMcDoHHTveAdCGW2gYv4UmufonUAWc9qsrZnznhLEHPeQCwJisaqxzvI5Ja6gwsqZiwkYKfgrcAbNbOzHn5l5seLRK5maEXroWbpXM44OfdYY1fk3aiOmxttibHo7Y6gqU1b3FtpnHYPKJBUw/s4TJJxb8ny3+tQHPn9cPPxNY3WhnrBM7Dcxm6KCPYYgGVqnSc0uamcybIjuYRdb99eYrtJ+TAEhq1MVq68baKxnwfVKDUkYnsupf4mz2c3hkpOJGUanEtSMx5dVYfC+IH8TqwS6wengdT6rpQs/Lr3mNZXZBmLyGiqk2NEyxpmFqv71vPkdNcw+Si5m4nVGJp4UMqdOzz+ojJMKfX6kxChiFqGnuQUJdHk7lufPhb1vmHlwtu4VyJgl/I+HVfhl43dkru3ONoIicI0Ru28egHc9uQiPEVSIEqgY7I6g0C8UvWSh6yUQ3+93GOC6Xi1u5DVh1OR1nn2dDM8wZmmHOIvA377YPXtDfgHYrFYbbaBi/mYrxW2gw3EqD/k4q9PZRob+HKrYaOGk1FUY2FBjZUGCwUzr4qXlSMeH0eUy2omLaahqmWFExYZMH1C87884mDHKCapAzpl+XfR9tN10bMSVzsTRlPX5J2oT58bsxLfYgjB+d4I9V963+QuAnaLPPl8BGf9+ILImpZb1GW9NusBna/ebBYA9jHuisTKVnliz3ML6VCYCcV/sU2s9JACSlFHX3sXE+oRyW3imgxZaLbBIZ7MiSMmiEuIqsy1EPdsHYMApiX1TB5+RNLFPfAdPfrYDxn1dhlt5uTLFwweQ1VL6NbKhYeMwPhttofP9kH4jotAqJvzul4S6ulv0sBIDhFRuQzyh49zxWJxjMp2hkRKCKkYBqBZ+B9VvzSt90dPXKXm86kiJyjhC5bR+D8lroYtcAqgY7QyPEBZMiTqO9t0fqe2TVvML2kGwsDXqE7+9chUY//OnfoOBIShxeMHgbw17UvcFsW28YbqFizEEq1N2oUKPwrOFKhaYjFWNtqZi8mgd/k1e9gz+jtVRMXEuFpguVdyyNBAg02EnFFCueJ6+iQP0S71Bq1aB31g52wNv6MVKBpI+uBVrWr5gWa8v39NjD2JEegJrmHpTWtuG7P68UC3+Cjr/3YsSyoZ5VjRZmIFqYl8BgPvkg1v3Vsyrk2vnLYYo/+2+kRAIgKaWql83B3bxGLL2YihJ6Jx6XvERcYQsqBQ50rmJ1Y0rEWahJCGTNS44w09wIs9+vgOkXy/k2+d1yGP/JClN/cuTDn+FWmhD8GW6jYfw2GsZv90REcqnEAVvN6kQuPRvPG5/gRVOZ0P9jMqPRw5guNHB7GHPQxIxVetB8LD7zqBLROeQU8ICI3LaPRXeqC6EV6gr1EBeh42AmR5xGSStL7vepe9mBHaHZuPS0Eo/LmbhfwER2jfCpANY3bkLdzQNqnryK3UDlbsCaTlSM3U/B9LlHMeX7kzCy5sHflGVumDPvFGaaO0LLqR8APYUfxx58B39TrKgw2OcOtWAnaIXbQ/vGKWiF20Mt2BGqQc64kvEjeholnyfX3agN80e7hQBwWqwt7lfzsjPxYZFM+DP9bAl8TkQqPVOUaQbzmXwA2DRFgT2cBEBSBNHd/EbMckvAydsv4BRThGUXU2Hpk4K1V55j313xRzIMeIrxVpj8frkQ/AlC4Py/22DSagoMN1NhuJUqAoADEDj/8EVUDvEichbzZv+6k8HrUHjTEiQEjoxfNLTDxj9jVPskkXOEyG37mMTqfIsz+UlYn3gdW55GIbwiF519Q1+K0MvmwMI7Bav90uHxoARbgrOw7GIqlvikwiY8Ed/4uAvD36ApXDUaBTO/WQOTTywwabkLjNZS8e3PLjAdb4c5Js6YY+aC2QtdMcnGDWMPeUDXzgP6u91htMZdCP4mW1Ew9rI9xkUfF7H29VOYeO0YaqomiEDgwMYQt+cWfOib+oD3eK4ggT9OHz8qkQMALXHxVJTSM0WZbmS9kA8AX9oooFe/EwmApAijXjZH5L+97ujFocQEifCnfskBxn9cIRb+BD3lR3ux4DfYDk4RuHMnF9ToVCx2DoL5CT9sOHcTUanloutWWO3oZUyVuI6DzdBGN2P+B3EY6YfgrcHZqH/VMWr9kcg5QuS2kRKvPjZHZFcyl8vFd5FBUDnjIR7+BkyjYKLpLh4ArnDFJCsPmBkcxdzZDphj5oI55q6iNnPBbDMXTFlJ4QPgBAdn6N06LtYDEGgUfgxhmYvQRx/Lz7KisinYcn8j9CKPw+juYUyKOQyDqGPQDHKCX24+f4yWN7Tjxx/JAawAACAASURBVP9eLRMCnyaUKj1PlGpWN7oZ82WvAex5odA+SQIgKcLrZlWBRADUPXFUJvyZ/G45pprZyQWA3xrtguFaVxhsp8JgBw0GO2gYv8sTBjto2ON3T2iDShMzQa5vcXRWhvID5yNwdDYDzjGyz8MaKRE5R4jcNlLyq6uvD9/4ukPVS8YuXk8KtG1PweQTC0ybfwQzzR1gamgnGf4EPM3SvX/tnwf0boiHvwHrXz8GE+2dMJ20H7euP8HGe26YFXYUKv6uUPF3E7Gavzt+vR0mNE49dgRIhb/lqluVniVEcBPzIdhiZo/4blXsBhCABEBSH4De9HRBR8K5XDoOdrIB8IvlmGZ8VC4ANFzrCoNtFD78Dfa5mOf8AcxihoPD0EJHpTbSwybiqb8R6pLHiQxkJvOu0sPmY3B1/9Vd5U1to9PvCJwjRG4bKfnV1tMtHwB6UaF2zh3fjl+LOf9ai3kzT8DE6LhM+Jtj5oLpi90w2YqK8budpMLfgOd8tw8Lvt6JBV/vxLx5tlDxdYWmuxt0T7pD28UNKpeFIXDW9Uv8MZpb1IwVU47BVNcWpvpHYTrmEEz+dzNMPl8itBM474Xiron7kMxk3kEvw0hoGVFvow44b9xH5e5zEgBJfRCi5j4RXwUMcMK8v1rJngL+2RGGWySvATTcRoPhRg8YbBcPfgM2tvPlVwHpjHgEHpiJH/68WOgb7r6Z5qhPHUdWABXg9MrXWO2XDg7n4wjH9xWR20ZKfnG5XEwL9YbqWQ8ZEEiB2kU3qPvbw/gTCxjr28JkwjG5APDbX9ww9UdHTNlyUi4AnLWYB4Bmqrsw5WcHTFhPxYT1VEy0oWLySgomL6dg7BF33sHXAhXA9KwGLDQ4ClPDYzA1PAaz8cf5P5uOPQST3y3jrwH0PqbcW54IZVY7mMx7aGFeBosZgaORaUgql3+T0XBEAiCpD0IcLhfOWfH8HXkaIa5QC3aGVqgbLH86BpPPl0mc/p2juhlTF53ELNWNmKWxETN1tmDyIjseEAoA4KSfjsNgq+Tq34CfV/DuS3Za6w2TT34Vc9bVr/j17z+DkTmOXAOoAFMelCEsvVbhfY7IOULktpEamrxz03mbQKTBnxcFav1Xy02bug6mf18PU70jmGvM2wAyx9QFc8fbYv5XmzD/fzdgnsYOzJljjzlmLjBa44G5/88KM3+QDX96t45j/uQdMNXai4lrKZiwkcrzJhr/0ciaiqmWFBjsdIeKvxt/DeDSGQ4w6we/wTY1PAZTjb28fPxiKU5anVN6jhDVRY0dsPBOGZVjr0gAJPVBidn5Fpvu3Yd1zB2cyc5AaOATHnh9toQHfP0g+O5xKYw/s4RxP5wZf2IB4095P8/9+2qMt3GF4UYPTDfcgSkz94kC4FYKppgcwuyvbDDvLysw5/+ssX+JJ84cvS59ofNnFlhpvBJ30yIVein6b9GljE6sD3yu8L5G5BwhcttIDU29HDZU/dyh6uMmAHyD4M/PFWqhTlALdYKhzW6YfLYEZmMOwXjyccyZYw/jP1u9yzcBz9bbi2kzDsD4EwvMNXXB+DNHoRd1TDz8RR3D+HOHYfaPTZi0wvUd+A32RiomraJgmiUF45zccS4lE8+eVUmEP0Gb/GEFzL5YCrfNfkrPESL7aNQLlDAUv9SFBEBSH5xSK1vgeq8UNc092GBkK3zq/GdLYPLZUp4/FX8aPd+fWmL+H5bB+HPe82apbRCCP8NN7pjzv9b8MDUReDT5VPouN5NPLGD8xRKM20vFYmow8uveKD1UPiavupyu8H5G5BwhcttIDV3mUX5QCXCC2hUXqF1wh9ppCs/e7lAL5FX+1EIcoXHFEeOX7+RlzJ+sYDrGFsZ/Wsn/UivO8/64DMafWGCe1k7MUVsN/TA7UQiMOgb9cDvMn7gN83V3iwc/QW/gVQGnrKBA+6ITvlvvIhP+zMYfh8nf1sHkEwskPChUeoYQ2R4PyvC0TPHTwCQAkvrg1Py2G9tCslFc1SoTwoZi408tMH6NMwy28XYAz9DdIjVY5bHednfoH/DE0tPXlB4qH5NXXU5HT5/osUEjKSLnCJHbRmro2p14F99cduZX+dRCnaAW7ASNC67QdnXH2EPumLTaBfNm28NkykmYaO+DyZerYSLhyjV+pg2y6RfLYDJ2KyYfOgC9yGN8+Jt85CCM9bdiwT82YeasI5KrfwKeupRXBdTfQcGktYfkAkDTv63DrnmnRuQquI/Zt3OacDquTOH9jgRAUh+cuFwurHzT8aK0ZdjQZzqoSjj376tguN4Nhjauw4Y/488tMW4vFeP20zBuPw0P8+uUHiwfi+1vFyG79pVC+xmRc4TIbSM1dLmlP8E3fq5QDeLBn/oVZ+icpELHjgpdOyp0j/b7CBXTf3biQeB4O5j+yQqmv18Bky+Wyc6j/lkP879vxIJ/bILZV5tgor0FZv/ejAX/2MT3UADwW0sK9LdTMO64I0wN7KTDn+ExbJ51AiXVr5WeH0R3GaMLa6+korf3BXp6csDhKGY6mARAUh+cXrb3wObKc1SzurHk603DgjTzL5Zi46RD+OH/vTu8dP6fluH7WbbDriZON9jKhz+Dg55wiHqq9GD5WByZSYfP4wqF9jMi5wiR20Zq6AotyoXKJTeonHaD6lUnAfijCVmnHwaNVbfB7EtrmP15DUz/tGpI2WT25zV8CBxs839swvyxe+SeAp66lLdmWu+wB2bP3M/f/SsO/iymnFB6bnwQZnWjrukiiirGobHhX/1WReurg+BwXo9ovyMBkNQHpefVL/HLhWTcyeWdI3XxVJRIFW+oDvKKRXn9W9yPysbt0DRkZjUgOjh1WPA3/w9LYbDemQ+Ahge9cOx6wjCDoQtNzHi8bjqFN012aGaGoZb12/w2XdTYgQ2BmQrta0TOESK3jdTQ9aSxEiqX3KDqSYE6xV0E/AT97Yy9MP/SGub9AGjy2ZKhZdSnljD/73Uw//tGIRA0//tGmP9jE8y+2i5zE8jk/k0gRja85TJ6hzygFXQC8/UO8oHPbPxx/saQHyfYIadQ9tl/dawGvGRewJumI2htckUjK1/s8xqYBehkWILN0Ok/TFkX7U1rUMesUXo2Ddd1jONobPgXGur/JQCA/0Jjw9dgNs0Hh9M+Yv2OBEBSH5RO3HqBR4Ut/MFSQe/APnMn3nSuwHoYsy+WwPRz+YIxv4glMggLipth9sVS2a///XKR/zb7/9bA0NqRD38DvvL4XZjVslpRz6qRG+DqWTXoYizsPzB0TL+10MeYAAbzidJDSxlecSlNoYelEjlHiNw2UkNXVFU+VAOdoXrWHVpu7mKrf7p2NOgeocDsL9YwGwDAIVb/BCHQ9I9WMP/reh74/W0DzP5rNUz/azVMf78C8/66ChNXuYo/BsamfwPIcgoMtlOhv5OKMS6u0Ap1gP52D3xrfhwLJxzB9+OPwmLacVCPRaG8oV3meH7JvNgPdDr9+aYLDkMLb5u2oYbVxn8enfm0/651wWs3BzwG9cwSpWfTe5uZNwj6BvvfaGs7M2L9jgRAUh+UYl8w8NPZJPg9e/dNr5LRiSCvWNjo74P575bhh7+swimrczhldQ5mX8iGwNSUarGD8cSKMzCV9u36d8th/vcNMPvrOqy29sTkRYdhuMpeBPz0DtAw1e48yhgdqGJko65+BfroOnyYa2vai3pWheRQYL1FN8OYH4iD7xtmM8ahgVWk/PAaZR+8kY8K1luF9TUi5wiR20Zq6EpoLId6mBNUApyg5eohEQAnWtjxq3/mX1rz1v/JCX3mf5C9TlDQ8/+wDDMm7sHEVW6YsIGKiWupmLKCgqlLKDCypvA3y+nvoEIrwAG6FFcY7KTBcBcFP5/bB69iY3gVG8O3dBUe19+SuvGDxbwu8SpNNkMHbU37+rOwG30MAyn3r2uhhzFT6dn0vq5jHEFDw9dSIZDBMBqxfkcCIKkPTu3dfTgcmQ/vxCqhwROdzYAZ7Ql8n/Dg8OyhazCTowqYldModjCWVL/BpsmHxb/u86Uw++s6LPjHRhxefh6F9W340SMIegc8heBP/4AnDG29cDOjHLcqzqGjUQe9dOHQ6qProI9hhAZWsYRwjJJ61zCboYs3TYeUHl6j7cDkOoQq8EBoIucIkdtGaujqZvdhfAQVqsFO0PRykwiAkxcdFgbAP6yUC+Y2zTyJ+AcvhgSApp8vhenvlsPs9ysw/dsDMNxK5Z2T2n9Puv5OKvR3UKFzxhlafk7Q30WFwU4aDHbSsDtmBR8APYt4j7eqPcVDIKsLPYy5ku/E7f+i28S8i1cMJ5l3r7MZWmhg5io9n97H9fRVaJBaAeR5pGY+SAAk9UGKw+HC8W4RrC6n48yjSng9rIC1fwbSq17ixK0XOBdfiaQn5dID7jNLWI/bK/WbaUVjB655J2DztKP47i+rYPrFMpj+eTXM/rYeP3y9DbRD11FJ7+QBY2M73G4nY/bJi/x1f1v97iChsBH+pVGorTUUgT9BCOxgLBPbhreMrWAzdKSGXh9jvNLDa7SdVdOGDQo8EJrIOULktpF6PwWUZvB2AQc4QcdO/CYQg7UOQgBo9l+rZcPcZ0uw7efTePZYQh5+ukT4zNTPlsD0i2Uw+/0KmP5+Bcz+uRGmKjux+Ed3WNJCYLiHBv09VIy1d4O2jxN03V358Ge4i4KZx+xBKzThA6CgM+mZIuO4kfVCLqiT9RxBv2zyUno+vR8AbpNZAaQ3ao1YnyMBkNQHrTddvbhfQEdiCRO3chrQ1csGh8PFnms5uJbeiH3mTlKrgJH+z4Y0QPNLWnDvZi4e3MlHaW2bxOeVMzr5N4AUN7XiVPYyuYKrgSW6fqWdsUaOgByj9PBShk/eKsLVlGrF9C0C5wiR20bq/cTlcrH72S2oBjtB/byrCAQO/GzyP2v5awDNv7SGyR+lVwHN/rYei7QPorS2DT/+dY3EGQ2RqzT/nw2Mp5yA8WwnvrdtvYrkrEYEJhRgwl5PGO6iwXAXDQb9ADjr+Ck4ZnwnFv68ik1xo/KUyBims54rAAAvKD2b3se1zFgZ1b+v0dp6aMT6HAmApD5KdfawYemdgheVr7Bz3ileEH6xFGZfLIXpZ5Yw+3wJ/F3vjMqgjqxMhE/Bd3IFF5N5T+T1r5scxa7/E5we6WIsUnp4KcNVrG5sCMxUyOXpRM4RIrftQ9Db3m5UvGkGq0txa0jfR519vdAJ9oBqsBPUfJ15G0KO8UBQ24EC9fOuGLvvKP8IGPMvrWH21TaYSJgKNv3SGuYa+7FA8wDKGztw+kCo5FMTvljOe98vrWGqupMHfbMchQDQdK4zvjP3QEp2I/JqWuARfRVrzu/Hau+tcIr9AeeK5kiAP579ymxExnAdiyk134ZqNkMLdcwGpWfTe5nVhfrGHyRUAb8GvVELfX01I9bfSAAk9dEqILka3olVqGZ1I+FBIdw2++Gk1Tl4H49AXiFv529cVR32Jt3Fikch2PLkJiJKSkb87t6gsjs4k/+TXOHFYD5GekMjKAW3cSgrEI65N5BSmygz8JqZwcoPLyW5hN6JpRdTUUT/8M7Iel8RuW1EFqPzDQ5mRGNMpCO0IuyhFWGPpYn+SGVWK7tpfIWU5kAl0IUHgSH9DnaCapATVAJd4BYVi/BLcTD7cg2vEvh/W2Gmvg9m/9oG0y/X8K6I+4s1zL/eAXON/TDXPABTo0OYFHIOG+/dxE5zB94XYoGZEdNPLWH5741ITalGRHAazOa5CIHfYAjcsycAuXXzkFX7H5TWqqCyThWltSrIrPkPrpUbiYU/zyJjBJZvRRWrHZmNMYivPYFHNXZIawjBG8bWEYFANkMLnYxflZ5JwzKrGfWNK3lHwTT8mw+DRRUT0NOdO6J9jQRAUh+tetkcLLuYioxK0Xt4q1jd2P3sDjTCHaB93an/0REa4Q5YHBuAIobk6d2h+k51Mjakr0FXo/R1fD30iaDlR2Ju/F7Mj9+P+fH7MD9+P+bG78Wt4vX9AacjFHZshjbaGdaoYck+ZuFjdm7tW1h4p6D+VceI9R8i5wiR20ZUMTreYPpdGnQjHfjwpxVhD50IB+hEOCC2oVjZTeQrvCwPE8JOQyXQhecAF8y4cQFJ9GoAgNfVRMyYa4dZ43Zh2vf2MNc8AHPNA1ggxuaaB2BkfQIqAbz3Ub3ijOPUMOyadwrLVLZgreF++DpGIyW9Dl5uD7BkvhvMxh+DqdFxGE+3FwuBJnMckV0wFt10TaEM66ZrorJeBYGl08QC4IOa84iqWIRr5ZNwrXwqrpVPwbXyybhdMR1d9KkiECjv1O/A83oYs1DD/EjORmUWoo5xHnUMGmqZcaDFlsLtfsmI9jMSAEkJqZfNAYfDBYejuPPVRlM1Le2w9E5BQb0wILlkPoVGuINYa4U7wiYhfMQGcjmzHesytuFmyXywJWwC4TC0kFp1GHPj94r1vPh9CCk6gk7Gu0piD2M6XjIv/Obhb8CpFa9hcSFlxO4IJnKOELltRNWe9EgR+BuwdoQ9Jt5yQze7T9nN5KuXw8azxmrcripCJrNBaOenm28cplhRMfUnR0yypmDGAgc+7AmCn7nmAcw3OgJNmosQTKoEuiCusp4/duLiy/HjlFNYMP4YzA3sYG5gB7P+R9PJJ8VCYHHyNLAHAeDAn/NrtUTg71zJj4isMOsHv0mDPBnRFVPRwtiDPoa+wBdc2fDXx5iAboYxmpuuoIbVpfQcUqSPRxfiWsbInXxAAiApIakfjsHi88lY4ZuGtq7eUf/9djcLEJ3dgJftPSP2nvn1rVgX8Jy/27ec2YkJURSJADjg1DrZJ9fL6+iqp1iVthYPSmeDTddCL10LPXRt9NK10EfXQl3jUfz45JhEAByAwOxGFupYLNSxGj/6sHsfn46rQFR2/Yj0GyLnCJHbRkS19nRCV2DaV5Jv1+YrtB0ljDbsDc9Fbl3rsI7yiEspwRQrKiavomKSDc/f/uyM+UZH+ABoOtYWs4xPwcjGA6p+AgDYD4Gr7kegprkHxTVt+PlbByH4G2yTaaKVwIbc8eKrcXRNdNE1caZoLmhFAwD4PZ7UeYsBP0FPRUKtA2pY7ahj1aOeWQE2Y4yUqp/kkxM+Vlc0dcHSO2XECjQkAJIS0sEbebiXz8K9fBYsvFNQ3Ty6i6SdYoqw7GIaLLxTUEwfuc8vMLkaK33TkVr+GvcqqmXCn2a4A87kpI3o4L1XnY5dWYewJ3MFbhSbILZsNmLLliGrIRUJtRVS4W/AV0rI+4SlubixEzZXMkakzxA5R4jcNiKqsJUuE/7GRDridOFjhbbjdWcvdO3u41BkAWwj894bArlcLmat8cJkKwomraFikjWFD4KTVntgspUHJllTYGRDwTg7d2H467d2kAdqmntwxTdJIvgNVALNJhwTmv7dtm6XzMpcQPFcHM/7CZdKXFDJbMf96m24Vj5ZKgRGVBgLjedXTRSJG9/YjDGgs1JHJDeqWd0orG9DOaNT6RlWzepGTFUxXPNuwyk3GtfKMlHB7OD//2PRhcipax2R/kgCICkhtbzths2VDLjdK8XT0lfYFKTY+1bF/f7vzzyD3c1C/Hg2Cdcy6kbsveteduDXCym4klMoBwA6gpqdrJDBndpQgfjaPGTR3+1Ue1BdLBP+5sXvw8WieKUHFJGdVd2G1X7p791HethsxJSUwiXxMRwfPiJsjpAZNzTVvn0pEwB1IhzgV5qq8LZ4PCjBhsBMbLyahU1BmWh+2w2AB3U9HLbcUPg4vQxTVlIx2YoCo7U82DOy4YHgwM+Guzyg4i8KfyqBLtC86o6a5h4c2RmKBYaSAXAAAo1nOcJkDg8As+JmyQTAknpPVDDfLU+JqVonowI4CdfLZwmPaVY3XjHPCE0L85a/zAaD+XjYeVHa2A6P68mYt9cHEzbSMHETDeupkbifqZw7hbMaWVj+jIoZcQcwO84Wsx/ZYkbcASxMPImHNeUopXdi//U8FDS8/4a3mjevcDYrBfYp8fB+nkwCIClhcThc3HhehzV+6Th4I2/Ufz+bw8XZ+HJYeqdiW0gOXO8Vo7OHPSLvXdvSgSWXn0Knf+OHNN8ul3I92yBXsboQW5MF/7JoXC27i/RG8dfLSXI+4yXmx++TCYH3qn97V77JFZzVbVgXkIltIVmIyaO/V9/IamjE1HPe0HCnQofiCW0PGmFzhMy4oYnL5eL7OB9oSwFA7Qh7NLSPTGVFlupedmCh11M43y3Bjz7x2P40Cka3naEbdRJT7rjCPT8WzXIcUZORX4PvtnhDx9kVY065YfxWD0zcQIHhDg/ouLhB5Yp4+FMJcIFx5GXUNA8NABcu9MDD6O/l2pjBbIoWGqOPa90krP8b8BTcrbIWO75rWa/AZN5CMzOYd/f5CCx/KW1sx1KHEEzc5IkJG2l8G232xMRNnghNLBzVDCtnduDXp66YFceDPkHPjDuIOXGH8bPvQ9jdLMDb7qGvVe3lsGH75AFULrpD/ZIHNH0pUL3oTgIgKWJqtV86qlndCE1rwPJLqahgto3I+97Na8T0ED9ohTtK3AQy784FqTeECDqpvgxbMw9iRdp6WKVtxMq0DViRth4n8mgobmqVOwAOZgbwd/2Kq/4teeaIKnLdn4iDU+qx4lLasI6BqW1thZ7nGWh50KDhTuWbqDlCZtzQ9aixRAr8OeDQ81uj2p7k8mYcvZeJybfdoBt5CrpRJ/ked/MU5tyjorFDvj79/W1/8aAnxQH5Bahplj0FvMDQDt/PdYL+Hgq0HKl4kjkPfXRNkQ0ggmsA2XRN1DQJn75Q3FQqswKY2fjubNZqVjeyGppxu6wcsZW1qGCO7PSsS9hTGA2CP0FP3XYGhfUjdxqEzBwrTRcBv8EQSCm6+d797dizOKhedIfKIJMASIpwqmlph82V5/zBEZbWAErsyG2BP3o7B9NvnhWBQK1wRxhGuiOhWr6DRLPoDbBO38aHPkGvTNsI2xwnuaEtl94Ci6cOIpXA+fH7YZ54CAm18lckP3ZXMLtwLb0Rm65m4WBEHvrYw9v5e+pRPLQHwR8JgB+fIqtzoRflDO3+NX86/buCD2ZEo4czMrMM8upgRB7MYi5gbJQw/AlC4PqkILnea8vjKKhfdZUNfv07gNc8iOR/wZVnE4jhVldoOtOg6UzD996Hwaa/Az1x8NfNMBU7blPqr/CrfYI7gK+VT0JczWFUs7pQwWqHb8lNrErdBqu0dViZug6L4ndgxh1HeGQlyf3FXJormV2Ys/uCRPgb8IU7olfXKco70/0xM+6gVAhc9PjEe/U1ZsdbqF3yEIE/EgBJEVJPy1hwvvvuWrRSeieW+KSO2O6n5rfdWOqbDMeMREyL9oJmuAPGR3rgQPI9pNc3yz1oTxcFwiptowj8Cfphbbbc71fAeAXXvJtYlHgEc+P3wiThAOyyg5Fa/4GebD9CrmR2Izi1HoHJdThwIx+W3inwflwB5puuEekPk85eEIE/EgA/Tr3t7UZYZRbc8+PgXfwMNW9fKqUdv16JEwt+gh4TdRL17a9kvldiQ6Vs8AtwwYTQM6BlpIlA1KME0WNgFk44DnMDO0xe5siHvwHHpJj3A5/oeXxshi7qmJLX0OXQE4TWA0ZX/oL0hmt8+Duc44yVqTzws0rjeUX/nyffPowDyfdF3rOa1Y2o9DIs9bqGBU7+WHb6Gm6ml0uExdzqVpnwN2mzJ2x9Y0ct41Y9PSsV/mbEHcC8+MPv1deCC3PEVv9IACRFSLE5XKz0TcOx6EIEp9ajqLEDtNhy3Hg+cptC9l/PRXJ5Kz9A3mfQ2qRvkwp/Vmkb4fHCd8jvW8XqQnFTGznl2+/91/NxJr4MIWk1KGtqG9YRGuI0luZFAiCpUdWppMcyAVA36iQeNco+oJrD5cIm/jrUAkWrgGpXXTEn8hIK6dKnM3OKmnHa/QGsf/DCcjMPLPzBFYZb3KDpRBMBQE1nGi4+tEBHvfDB9F2MRahjVsmZcW9RyRKeJg4su8WHvsFemboOy1PWQ+v6KaEZmnJGB75zDYDBThr0d9KEHn90DRS7s7eo/q1cAHg8YHQ23SWVtcI80ltqBXBm3EGsSaW9V1+7mJsOdbICSOpDEpvDRX79awQkV+PXC8l4XPxyxI74AIDs2leY7hKPU7ffb2NFNasby1PXY1HMbnwbZIdpgcdgHHkAS5KEK4IO+aeVDlAfsqtZ3VjpmzZin7s4LboSCE0SAEmNou7WF8gFgM+ayuV6v252H05lxEE72EMIAMdduoT4kqYhjbdfKMEw2O8JHTsaNJ2oQuCn4UyFhisV6m5UaLhS8PNFW2SVR6KOKf/vEOcqVhe2PN8rVPkTB4Ez7x3EfoEq4NIzYXzgG2z9nTSsPHtd7O9b6RQmdQ3ghI003M2QD2aHa1psOULzCmRWAG81vF8OxtWUi4U/EgBJfRCqe9mO9YHP8bCQMeLv7Xi3CH7Phr7tP6O6BQbn3KDhRoOmO5UHEG5UaHlQsDBmN78CeL44ROkQ9SE7sfgl7G4WjPjnLqjQnDyyAkhqVPWquwN6N+2lwt/EW87o6BvaofhverrwuKES8fXlYHa+Rd1L3m1I5U3yzSbcyaqC3j4a9PbRoHWSCg3ndwCo7k6FmicFaqcF7ElBYOaLYY/zoqZXEsGPPxWcsg5msbuw6tE11DT3IKvqFfR3iYc/QedUi27Gi04plwh+Rps9scQ+eETWG8rj9QGZaHnbDZ/y+/3VPtHq3+6sS+h7z3WqfRwOJl09T24CIUVqsHrZHFh4p6CSKf9gr2B2Yq6PP7TcadBwG2weDP4Utx0r0tYP+UgY0u+cVPZqVA4k72GzseraDXIXMKlRlX1ODMZI2ASiG3USXoXxI/J7QtJq4J0oXzXrWHgCDA94Qvco7wuthjPP6u5UHvB5DQLA0xRonKEiqmB4m9TKmG0yAXBl8josurwfEHU3KwAAIABJREFUC075oJTegeNRiTLhz2AnDa63xZ/pevl+DiZt9sLETZ4w2uyJSZt5FUHLU0HIq1H8ncJVrG6cul0ElxjeND+Xy0VM43MsT3bnw993j0/Cv/IhejjDu6bwSX0VNC5RRDaDkABI6jcv1/vFuJJUJ/fADcwohIYbDdonKZiw1gmTVjrCcLMzNJ2oPAh0p2KK/wl4l1xTOkR9qL78tAar/dLR2No5Kn2gu68PXknJQhtCiJojZMZ9HOrhsLEr7Xr/rl97jOl/1I06iaNZt8Dmjsy91h09fVh8PhmFDR0yx51tyEMYHPCEZv9Ur4YzFRpOFKi7U6BGE4U/tdMUqJ+mwDjgyrArZsdyXWGVul4qBJqbrMH0qfuxbO9l7Al9IBcAHr2RIPF35la3wjMyFXu8Y3D48kPcSq1A1RCKAe/rvLq3sLqcjqspNSKfF5fLBavrNeidL9+76idOWU2NsLp7nQ9/GpcoJACSItXZw8bO0GxcTZEPAjeE38ZUSweYjz0M8zGHYT72MBaMOQxTwyMw3OzMg0MPT1QxyU0c7+OksldYH/h8xHZ9D0W9bDbqWl+jrJFO2BwhM+7jEZfLRd7LBpzKuYudaeFwyruHotaRX+qSWtmCpRdTUSrjujOfuGyMPciDP01HKrQcadB0fPezhgtVbBVQ7TQFCeWNwxr3j2pz+9f6rRWt/iWtxdKr1jD+1ALGn1hg3l9XYR8tSi4AvJZWMqx2KcI7QnOQWa2cHeivujpR/foVGC0tJACSIgUAfWwOVlxKQ3ql7NL/L2tPw3wMD/oEbd5v/R2u0HCjoWqU1pB8bN4clIWalnal9gci5wiR20aKuHpYyIBtRL7UsVfc+BYGdl5C0CdoTUcqNJ3FQ+D1vLJhj/2dJ49hZdJarEzhTfmuTOLB4NJga5j90xImn1jA5BMLGH9qgQXqWzD+0Gmpm0AmHT6r9Dwb7Gelr7D7Wo6yuwN5FzApUoKqYLZhfeBz3K2ohP+LHESUloicQJ9f+hILxh0RgT9BCJw7ww5zvP2VHjQfoiuYXQrf9SuPiJwjRG4bKWJrT3gObubX4WpRHgIKc5FaxxQZgyv8b4iFP0GrU0UBML5seBXAF2UvYfbFUpj9wxLmbvvwq/0q/HJkFb6buQwmn1nw4Y8PgZ9Y4PSNp9DbQxOBQP2dNOjvpiEsnXjVP/f7ZUgsZiq7K5AASIqUoJKaKmF4gyJ0TdSkWxT4FLy7lSTg0jMsGCse/gTtdCNR6UHzIfpOLhPU2FJldwVC5wiR20aKuOrs68WOpCho33AQyjjLRwHIaXzFX8M3weO8BPCjQsuVAk13D2i4Ca8BnD8CawAfxxXz4W761P0iwCfO130fIzS9GDOdLkJv9zvwm+N8CZFZxLw9yepyOrp6R/fmGXEiAZCU0sTlcvGklInmt93KbgoAIJVZDZ1IB4kXxp/PS0dNcw8uUB5ikd5RmQD46HG50oPmQ7Tj3WJkKGltjKCInCNEbhupd6K/7kRKRfOIH1z+PmJzOVj9JAg6EQ4S70TWirDH+Jtu0PJ1gZYrRRj+TrtBK8QB2pGnoB15Clo3TkEjyBGqF92gdt4D4Xmlwx77KclVfLCb/c0GuQDwxuUn715fycLdFzXIqG5Reo5JciWzG6v90pXdHQCQAEhKiWK+6YL6oRgsvZiq7KaAy+Xi+zgfifA3EIylTe0ID3kuE/4Wjj2MvBLihhCRvT00B8y2kbnibTgico4QuW2k3mlzUCa+dYlHfFGTspuCBHqpVPAT8g17aIXbQ8vdgwd/51150Bdxig+AA3/WvG4PlQAX6Id4IaigcFhjv5rVjRUa22HyqQWMv1gC40+lw5/pZ5bIfTG8A6hH2xlVb3AwIk/Z3QEACYCklKz1Ac/xy/lk9LJH5riD91XZG6ZcwRhYlIeyhnb8bHRSIvwt0juCA+uuKD1oPlQfiihAOVOx5/7JIyLnCJHbRuqdihlvYEx5DJ/HFcpuCranXoeOvAA4AIEhDtBy9RABv8EQqB7qCJUAV6gGuCGqeHgzH+EXE9+t8fvcEsaS4O9TS9hZeio9r4bqosYObA7KUnZ3AEACICkl62BEHnaF5eJBAV2p7UhqqpQZiNoR9vDM4R0oej30Ob/SJwR/445g8eRTSM8e3mLo37Ld7pcitbJFqf0BIHaOELltpN6J+aYLa688xxKfVKVPA1vE+8kPf4L2dZIKgAMQqBLgArUANyyKDhx2Bvi53Ib5F0thIlABNB70aKW9EyXVij+seTi+mJ2DRZFXMf+6H2zu30RGLW9WaA05Baw4keH44Si1sgW2EQVKHxDyVgCvFuXxB/ft6HysXeQpNO27f60/0rJI+BuOXe+VkmsAZYjIbSMlrFWX03Ek8gVSKpqV2o5tKeFDh78b9tAMs5cJgNqRPABUCXCFSoArMuqGv/yloLgZe8wcJU8Bf2qB+5FZSs8rcX5e1wL9gDNQ8fGAio+7kPckPFD6v3cDIgGQlFLV/LYb20NysOdaLvLqW5XWDi6Xix/iLkpdID3+phvKmMIn6VezupGW2YCExArkFjcrPXg+dMcXtWCpTyo5BSxDRG4bKWEdiszH3VwmNgQ+V2oV8FFjyZABUPOGPTRviK79k1QBHADA+MqGYWdBUWUrFv5xudT1f2sN9ys9s8RZP+B0P/B5DDIPAs0DopTWDwRFAiAppYrN4eLXC8nIrmnDrxdS8LZ7ePcdDkdprGroRjpCWwIEXsjPUHqwfMyuZHZj8flk5Ne/VlofEBSRc4TIbSMlrPMJ5QhLa4Db/VL4PatSWjvYXA70opyHDIAa4fYy4U/jmj0f/tQC3JDf+GbYeRByNk6uXcBpqcS6a90nK0cM+AlDoN6V00rrB4IiAZCU0nXi1gvEFjQjLK0BTjFFSm1LUlMlTO6fFQrBiTc9cKkgU+nB8rH7Vk4TaA+Vf/7fgIicI0RuGylhve7sxUrfNFSzurHsYiqa3ihvh/ulkmQxFT4p1b/rPADUklAF1IrgWfWqMw/+At2wJjZyZEDqRCTMPl8iEwAf3skbkd83Ul4YGSih+ifsujevlNYPBkQCICml614+HSdvFaGmuQfbQnKQpuQNAFwuF9kt9bhTVwDnp2m4klSj9FD5Ldg2ogDFDOKMWSLnCJHbRkpUyy+lIqu6DY9LXsLmSoZS7rgGgB52H1Y+Duyv7DlAPcyBB3gCMDgAhAPVP41wBz4ECkLfwM+qQTz4Uw90g36IF1JqRW8WeR8L7gaW5ueZ9UrPLkHPC/eTCwBzWY1K6QOCIgGQlNLF4XBxOCofgUl1KGzowK8XktHW1avsZgEAYvLp8E4k1hTDx+rll9KUvlNSUETOESK3jZSoShhvsMQnFWWMLtAelit1Kri7rxfToj2hHuYI9TCnfjtCI9yBV/G7bg/1cEH4EzSvKrjkYSAmR5zmr/tTDXDFivvXkVwzMvBX09yD0to2fP+XVVLXAG759qjSc2uw19yLkgsA3/b0KK0PDIgEQFKEUC+bgznuibD0ToGK7V14xZUpu0kAgPSql3C5R7y7JD82Pyl5hbVXniv74xYSkXOEyG0jJV6RWfWY4RKPXy4kQ8X2rtK+7OS2NAqAnzg78oFQnDXDHVDe1IFqVjceV9ERU1aDrPpXCsmF4NOxEuFvwR+W43FcsdKza7BTa1kCu37FrwH8/magUj77wSIBkBRhVPeyA687e9HZw8brTmJUAFlt3dganK30UFGUq1ndqGrqUmobnpa+goV3CphKXBslTkTOESK3jZR4sTlc/hIHxmvl9fXtSVFQD5UGgE6SAfCaA356MLqH3IdfTMSSrzcJAeC68QeQ8EC+W0eqmrqGfUfxUL3z0X0JEOgOrctU1Lf9dja6kQBI6oMVh8PFqsvpSge1kXZCbBFsf3SH+e+WwuQTC6zU2gF/1zuooHeMajtu5TRhxaU0wsEfQOwcIXLbSBFb30adlQF/A1VAYfhTv+YA3evOyGlUTLVPmquYXYi/9wK3QlKR/LRC5vOz8xmg7grEkv/wwHHhH5bj2BIvuV47UnZKScIYf08hAPzuZgDq25R33NlgkQBIipQUdfWysfbKc6UD20g60v8ZzD5fIrzD7lOe95g6jhoExhW2wOpyGjp6lHf0jzQROUeI3DZSxJZmiCvUZFQA1UKdoBbqKAR/akFO2PjwltLzq6a5B5WMTsTcyETYhXg8uJnNn8WIv/cC22edEDttbPb5Eiz4/TI8uDl6Mzpbg7NxJa0EmU0NeNvTreyPXkQkAJIiJUVtXb3YdDULRQ1vcf5RFvaHxeLIjXjcyake9WmFkfCLspdY+IflQlcsDb5f09cxWqFtKKV3IjqbgcXnkwlZ+RsQkXOEyG0jRVxxuVyoXHGRCX+qV53xjZ8bvvF35dnPFSp+blhzP0rpGXbNOwG//M86odyy/PdGnD4QArNB18eJWzv409+sUd7QrrD2VbO6kV75GpTYchyJylf2Ry5VJACSIiVFTW+6sMz7ISbYncHYQzToH/GC/hFPjD1Ew+LTIcirJfZdlIN9ySEapp9aSr1eaZnKFoXB7RKfVKwPfI7TcWWEuO1DmoicI0RuGyliyyDgNNQCncVWAXmVP6d+6HMTspq/O2wfP1JqfoVdiJeYW/IcGTPga94JCmnf1eQ6/HIhGQcj8nA3rxFdvWxlf9xSRQIgKVJSFPm8DOMO0TDuEA1jB1nvsCd+8gxG1QdUCTy2xEuuw1VLqod/kr84r7pMjDsw5RGRc4TIbSNFXDV3tEPtPAXq7u7QPOcishlELdgJ3/i59gOfC3bHLUN0vhFuF0zEicc/4VlVqdKyq4LegcX/sBkS6Imz+e+Wwn2rv0La6PO4GnfylH++n7wiAZAUKQlitXVjtnMgxh32FIE/Qd/MFF5YTGelo61pF3oYc9HNMEVrkxPqWZVKh7+a5h6cWnWON00iIyQVNUViRQLgiIjIbSNFXPnlZmLsESrGb6HBcAsVBruoGHvCHboObtA95oExtlSMsaVigqMTQp7MQnHdf5BYqYv4yjEorP0Pauu/QjUjAC3My+hi/Igexmx0MKzAZEajhqXYtcO3w9KHDX8mn1jA7IsloO0JUkgbIzLp8H1aqeyPWW6RAEiKlAQdvJErFfx4U8KeOBD2kB8AL5lnwWFogc3QBYehxf+ZzRgHBlMx0w7y+EVjGzyepmPBLnfp4fj5EuyYc0Jh7Vjjl4FeNkfZH61cInKOELltpIgrG7/rMNzCA8AB6+2mYexBGsYeoGKsLQ1jbWnQO0TBWFsarK5thkeRWb9N4VsyAy9q/oPORnWw+fmmAw5DC+0Ma9Sw3iosOySdCcj375bD9L/XwuRz2V9w4++9UEgbHxW2wO1+ibI/ZrlFAiApUhJ0PqFUJgDqHfbE9qsxqGnuAYOZwIe+wWYztNHH0EcdizHq8PessgmTfLyh7kmFGoWC2f9jBePPJK8BvB+ZpbC2bA/JQfNb4u2GEyci5wiR20aKmGJzOJi5/5wQABpso0FvJw3622nQ38HzuD39QNgPgwefWApB4JmieSipVRGbca1NrgrLjrvhGZK/uP7FGgu+2g7zf22D2V/XSf2Cu3nqEYWtcc6ofINDkcTe+CEoEgBJkZKgnNpXmHjsnFQAHHfYE+53U1DT3IN2hrVQ5U9cQL5kXhhV+KtkdmHm5cvQ8KJBzZMKNU8qtI45Y/Y/rWDyiQWMP323O87s8yW46vlAoe05HFmAcmabsj9auUTkHCFy20gRUzXMV0KVP4Nt/dC3mwb9PQLexft/Y/fTMO4QBT9c2icAgDyHlk0Sm3F9jPGoZSlmY1wloxOL/7lWdGfvH62w4KvtQjb7i7VYAFxrsB8Fxc0Ky7fixk5supqp7I9abpEASIqUBIWm12KD/wOpawD1D3sip6YVNc096GPoSYQ/HgD2T5OMIgBeyy3lg5+QPTygt+YwphptxtyJW3H6YCiy8+gKb8+mq1loISuAwxaR20aKmKpivOTDn+GWfvjbI8a7eTbYyqsEfutkPwgATXGmeC5eN2iLzTk6K1Nh+XH90mPRTR3/2ATzf20TgUDz/9kM0z+vgekfVsL4y1Uw/Wobgv2SFJpvSWWvcDSqQNkftdwiAZAUKQmy8c9Abs0bLPYKht5hT4w5RMOYwzyPO8wDQJ/4HP7g72PoywGAa0cVAA89SICml6d4CBRwRk2LwttSzerGiktpyv5Y5RaRc4TIbSNFTPWy2Ziz/wLGb6FBf5uYyt9gCNzJqwbOdD0pUgH0LJqPxvoxow6ANc09iPB7CsuvNvYvWbEUAT8REPxqO+Yb2GLGT25YMddZoee3no+vREw+uQtYUCQAkvogtdKXdwVcQf0bWHiHQfcEDTr9HnfKC3vCHwgdAdPOsJFjCth7VAHQ9kG8XACYPgoAmFT2ivAHowqKyDlC5LaRIq587qZgwlYJU79ibLiVihWhW8VWAFkNolnXx5iAWpZijpASdFVTF2Jv5SL0fLxcAGhsYIuZP3tg9nx75BSyFNauD2mGAyABkBQpiZpo/xCW3imY6R4gBH+C3hX+gP+NksF8LGMTiAHqWE2jCoDB2cUy4W/KRZ9ROcvweHQhksublf2xyi0i5wiR20aKuOrtY2Pr2Ui5AXD8VhpOZPwoUgEMKv0WbLq4TSDuomOf+RavmpzRw5iNPsZ49DDm4GXTWdSxmCOSKzazHLDw39IBcO6ME5jxswdm/OyOtOxGheRbXt1brPb7cI65AkgAJEVKoqqa23Ezp1As+Ak6OjuJD4Evmd5ijoHRQR9DDwzmk1GFv5pm3iaQqZcuCm0CGWz3J2kKb0dkJh27wnLA5XKV/bHKLSLnCJHbRorY6mNzYCAnAE7c5gH3QuHqn1fRPJTXjAOboS2Ude2M9ahhCZ8f2sjM4a+NZjOEl8P0MozQwCoadraE+j6TCn/m3+zEzB/dMPNnD8xY7IG0wpEBT0FXs7qx6nI68utblf3xDkkkAJIiJUXLfMOge9JTIvyNOemB9YHrUVT/LcoZobzQY2WhrWk/uhnG6GIsRGuTO+pZNaMOfwOOL2uE4flzQhA48PO6qNuoZHYpvA0rfdPR1tWr7I9zSCJyjhC5baSIrzXUMLEAOG5vv3fToL+TijHHPDAj4iBO5HwPjyJTnC2aizuVe9HCDEQn41d0M+ajnWENJjMGNaxOoTFfx6Kjj6EnBH6D10T3MGaLvO594Mt5Vwgf+ITg7+sdmG3syIO/nz0wfbEHCmvbRjzfbjynw/NhqbI/1iGLBEBSpKRoiusFmRXABWdsUVj3bxTWfYUyOk1poCfN2XWt2H8vDhMuXMC4s2dgGhCIwKzCUbvGzso3HR09fcr+OIckIucIkdtGivjyiU2F3nYa9PbwPPYgDTp27zJN+wQVWg4UaF5wgdZVB6hfccaKJ2uxI3MH8hnyVdBeNZ2WCH+CbmLGDjtfqlndWL3eB3OMDsBEYxeMtXdj9vQjmLXIBTN/9uADoMmqMwrJt6gsBgmAEkQCIKkPVsael6XCn+4JCn712YXCuq/6/W9UMYlx7duASxjtWH/zNtQ8qVD3pEKzv/o3yccHt15UjUobvBOrcPFxhbI/ziGJyDlC5LaRIr42ekdAby8NevtoGHPoHfTpHOeBoO5RGnSOUqF9ggqN0+4wunUE46OP4ofH2+FVeBk1zT2oYnYhpf4iwsp/REDpXISXz0da3RFUsepR09yDLsYcmfDHZmihtcl52PmyLiAahtt5axYNt1JhuJWK8Vtp0NtDxbe/8OBvxmIPXL2bq5B8q2J1w8I7BS/be5T90Q5JJACSIiVFp+OTpU4B65ygwivO/P+3d+9PTV5pHMD9OzormICC9+m62hk7051px27XnWl3u+12uopub2613V6sWNCidl0BSd4XCDchoCAKKqIgoogiFhTkJoohIAQQQhLuBBHDLXz3h1xMIBcQSI7yfGaeYdQRTt4Mz3zfc857YhEAF6NBHeL20GdZWzIu2NwDKAzn4RMZgYKG+dkUbVmKDh2CLtbixzPVKKzvxPlKJbTP2F4SZrmPsDw2wr63D8Vj1W4eK/fwhtB3kIdPEA/fQOtaHsjDdx8Hr/AwrL8SgA1XA7CtdAdkmg6cePQ3iOTvQizfZPU1rWEjFB3lGFU7n/2biwDofz7fKvRZ1tpdHFb9yOHND0UQJxfNa4/Ll3Xjo7gSZFYpkVHZhnutfczveaYASIgDXU+e4vdHou3s/xPjLfEBVDV5WgTA36FetdPtoc9UeXVtDp8A9o7g8VlmtsvGky/rxpHL9Yi92YyP40qYfiqY5T7C8tgI2zq1g1j9k3H2L9AYAIOsQ59l+QZy8NnPYc2ZA3gjLwCbb32L1IbPIDIGvqm1CRcVGzCsEmBc7T2vS8AtXcNYs4e3Gf4sK/p6hUv6W736GWJuNkNyQ4H9F2T4MqWC6RBIAZAQJ+o0XXhLLIXPQR4rDomw/JDYvPfvN7mPRfh7DbLWxahp3TOvh43OpPbmFZiXfO2VVwSPho7ZbcR+kZK1P2X62ASW+wjLYyNsu1QpxypjAPTdz8PnAAfffbbDn1VFhGLD1QD8qeA/DsKf6aDod9De5uE0/I1qXp/VQyBZD5qdhr+1uzi8HSx1S/89kFWLEsXCvsmlAEheenr9BIoaWnD48i8IyvoYGeXrIWt9zSr8mSo4NxV+iWXYmliG7Unl2JtRA/5aI9LutqOwrhd1KteFrZ3ZuU4DoCCcw4P2+fn8Tmf149kHqFOz+XvKch9heWyEbRfLZc8D4D4ePkGc0/DnG8jB90gY3sgLgN/tLxyGP1OVtSzDiFo4ddnXOCs4rvZGuyZ8Vv3jWPE9u8Fv9fc8VvjzWLGHw4ZD0W65Ka9oHsDOU1XufsvtogBIyAzoRuSQtwlQ2/Y7G+FvMVo6P7aa8h8eG0dT1yBuPerCyZIWHM6pxY6TldgqLcMW6V18lVKJoKxaxNxsxoUqDUoVWijm8FiW/xbcdngGoCCcw8poiUuOgrFVEdcVuCHvcOM7ah/LfYTlsRG2KTQ95gC4Yq9hCXg6AXBF8FFsuBqAoPt7nc4AiuTv4m6LD56qPaBTL8GY2ssqAI6ohRhQeaClc3Zn8hU3dmDtN5zVbN/ynzl4HeHgFczBK5g3l89RHr9eK3L5aodf4sJe5aAASF4pT3UlqG9fawx9HqhtW4zattfQ2rUd4/onM/peA7pRyFRaXH2oRtwtBQIv1OBfx8sNM4jSMnyffh/BufU4XtyKqzVduN86OKM72fLHPfAKtx8AvSJ47M0rcEv4e9w9goDzD9HYOThP79TssNxHWB4bYd/2mLNY6x+OlT8Zn/oNdDwL6BvIYU3sYbyRF4BbHYXTmAHchIa2ZRhUeeCpemoNqjxQ+vAdfH6iAvsuyCC50YSMCjVuN/ShsWNmN6PrgqKwdheHlf4chGEcBDwHgZiD8CgHr6P88wo1hMK/pqS7LATKVUP4OpVmAF2KmiOZbxMToxgYykWnVozugSgMj879GVB6/QQ6BnQob+lFRmUbuPxH+OFMNbYllcHPuLzsf64GorwGpJYocaO2B7XtQ1Oa0P8K79gNfxsTpHigdM/y7+PuEWxPKodudHzOr91cYLmPsDw2wr6mjl6s9Q83zALuMRz54ngWkMP67H34+V4q9Ho9jjd+ancWUCzfhNSGP+KZrhx9KgEGVR7mIGj62q1+HeP6QQyNjOFRxxPk12qQWNyMA1kyfJFcAb/EMmyRluHr1CocypYjrrAFF6s0uKvQoqnz+Q1wU6cO+68UQhjKQcBxEIgMwc9UUwJgKAevEA4hBSVz0r9auoaR36jEOVkDbjWpp/x73sMuHL1a7+632y4KgIS8pEbH9WjtGcLtxm6klbUi5Eoddp2qgl+SoXl+fqIC+zJliLyugH9OMdYfizeHv6UR4diRdRn32vrdFv7uNPbjq5RKd19Gu1juIyyPjbAvo7TGcA6gsZbv5rE8gDPOBHJWM3/LA3msO/ErOPkljOoNh7n36FohqdtsPvrFcuYvpu5t9A4Zlj3HxjrQ27MTvWpf9KsE6FGvQb/2MPR65+flTUxMoH9oBA/btcitUSGuUIHAzOcrJJ9KS7A++rhxxk8MYZhl8JsU/iaFwPWS2FnvCUx/WI+NaQnwkIaZa2NaArLrnp+t+n36fVS39s3rezkbFAAJeUWZ7q6v12qQVNyMA1kP8UnSLXwQfwP/SLhtdXeddU+Dsibru+u5qEeaIZx70ICT92pRpNCY/76xQ4dP4kuh7Bty92Wyi+U+wvLYCPu2R5/FaosAuMr4EXAr/Hks//n5rN+60Ajsu3EJT0afTfkeAyNdyG8/iMi69wwfE1f3Lq4rv8PgSJtLXkNgfr5hewvPQSgyLP/aDX6TShjKQdb+4h8Jl1ojN4S+hDCrAGj686maOpwqVeLQpVqXXIsXRQGQkAXIdHddo9Ti8gMVYgsVCDDeXW817j/8Lq0awbn1SCpuxZWaLlQ/nv7+w5auYQTfuoNVsRIIIsXmej/tNNIrm7BFWoZrMo27L4NDLPcRlsdG2Pf+0WSr8Dc5CK7czeOtA3HT/n6uPuuu79kzLI0IN8z+ccbwN4MA6BXCYVtSqXmF5Gy5CkWP+vBI43xvYFOXDiuSI6eGP4sQuEQqwvvSqxgaocPuKQAS8pLR6yeg0Rr2H56vVJr3H5qOt9mWVI49DvYfBuQXWAU/UwkjxVgmiUBFG5tP/lpiuY+wPDbCvu+OZ2PtnnC7IXDNT+Hwizrj7mHadUOhMIQ/YwD0mnEA5NHWP2C1QnIw27D/cGtiGf4pvYt/n7S9QpJQ9cB28Jtc8WFYmsghtOw3d18uuygAEkJmbHRcj8c9T1Hc0I3Tdx8jOFeOnalV8Essw9/jf7MZ/kzlLeHgn3/V3S/BKZb7CMtjI+wrkjfbDX+mulQpd/cw7brW2Gg/AJoe9rC5B9DAxXwZAAAEnUlEQVRYITweaOyvQDhaIfGNi552APSMD4NnQhh25me58OpMHwVAQsicirxbAm8J5zAELoviMTw25u6hOsRyH2F5bIR9ExMT2J2cM2UfoGn278tj5zE2rnf3MO3qGBw07/+zWgK2nAUMtRH+jMu/XqEcUu/fn/HPVQ0OwCNuGuFPGgaPY4bwZ6pSlWv2Rs4EBUBCyJzaV5CPpVG8wwAoiBSj8ymb5/+ZsNxHWB4beTmMjesRe60UG/fHmMPfG4HR4HOKMML4zRkAfHs5B96mECgyBj9TAAyxmAUMtQiAITy8Q3gIRRxSqqtn/DMLW5vhEWvj4Y/JD4IkhMEjziIAxofho+y0ebgKs0MBkBAyp/jS205nAJdG8dCN0QbpF8Xy2MjLZWRsDLXKDsjaOqAbZT/4mfTrnuG9lBQIeQ5C8aQAaAqBIcYZP4sSigxLx7WdnTP+maWqNnjGiuBxzEH4kxrDX5z1DOCaZMk8XIXZoQBICJlTzf19TvcA/pCX6+5hOsVyH2F5bIS4ytDoKFKq7+HPJ09idaTEYubv+aHP5uB31LBc7B3O46Mz6TP+WRMTE9CNjWJNUtTzEJgwKfiZZv5iReb9f6b6Q2rMPFyB2aEASAiZc0E3r9sNf6tiJWjq63X3EJ1iuY+wPDZC3KW8TYkPk0/D27jU6x1iOPxZIDbM+gl5Dm9KE9A+g9+bSnU7dlzOwtJoHgKJGBuS4uAZLYJnjMiwHBxn2O/nERcGj9gweMZOnf3zTAjDgTvX5/GVvxgKgISQOTeu10NcUozlMRFWAXDz6RTIu2a+9OIOLPcRlsdGiLs19/ahuPkxoktL8cHpU1gXF4tNyScQX1GOAZ1u2t/nQl0tBBIxvKI4LJGIsUQihtD41TPKEAI9Yy3LGP7irff/CaUitGjZ+0QQCoCEkHnzZHgYVxofIVMuQ00n+2f/WWK5j7A8NkJeBZrBJ1bBz1Z9lpOJ7TkZ2JqTAb/L5wzBz7ISwuCVKEZBq8LdL8cmCoCEEGIDy32E5bER8iqIuHsHQgcBUCDh8Jf0k1b/p2voKQKKrmFTxnFszkxGeOVtdA6xe9oBBUBCCLGB5T7C8tgIeRV8mXPR4ezfEokYwijO5R+DN5coABJCiA0s9xGWx0bIq2DnlUvm/X72allMuLuHOSsUAAkhxAaW+wjLYyPkVZAhf+gw/HlFcfg6N9vdw5yVVzIAarVaLFq0CEqlEgMDA1RUVFQzLqVSiUWLFkGr1bq6hTlFPY5qttXT14fMkmp8I83Etqh0/JJ2BRX1TW4fFyvV2duL9dJYuw+CCCRiFDU2uH2csylX9DiXB0DTi6KioqKabSmVSle3MKeox1FRUc1VzWePc3kA1Ov1UCqV0Gq1bk/YVFRUL2dptVoolUro9XpXtzCnqMdRUVHNtlzR41weAAkhhBBCiHtRACSEEEIIWWAoABJCCCGELDAUAAkhhBBCFhgKgIQQQgghCwwFQEIIIYSQBYYCICGEEELIAkMBkBBCCCFkgaEASAghhBCywFAAJIQQQghZYCgAEkIIIYQsMBQACSGEEEIWGAqAhBBCCCELzP8BuPjWWloQ77QAAAAASUVORK5CYII=\" width=\"640\">"
      ],
      "text/plain": [
       "<IPython.core.display.HTML object>"
      ]
     },
     "metadata": {},
     "output_type": "display_data"
    }
   ],
   "source": [
    "fig, axes = plt.subplots(ncols=2, sharex=True, sharey=True)\n",
    "\n",
    "ti = 6\n",
    "t = model_kgr.targets.Y.columns[ti]\n",
    "\n",
    "laplacian.distance.cali.plot_outline(axes[1], dict(color='tab:blue'), fill={'fc': '#e0ebf9', 'lw': 0.5, 'ec': 'tab:blue'})\n",
    "laplacian.distance.cali.plot_outline(axes[0], dict(color='tab:blue'), fill={'fc': '#e0ebf9', 'lw': 0.5, 'ec': 'tab:blue'})\n",
    "\n",
    "vmin = np.quantile(model_kgr.targets.Y.loc[:, t], 0.1)\n",
    "vmax = np.quantile(model_kgr.targets.Y.loc[:, t], 0.9)\n",
    "\n",
    "axes[1].scatter(model_kgr.targets.sites['x'], model_kgr.targets.sites['y'], c=model_kgr.F.loc[:, t], alpha=1, vmin=vmin, vmax=vmax, zorder=np.inf)\n",
    "\n",
    "axes[0].scatter(model_kgr.targets.sites.loc[model_kgr.targets.train_sites, 'x'], model_kgr.targets.sites.loc[model_kgr.targets.train_sites, 'y'], c=model_kgr.targets.Y.loc[:, t], alpha=1, vmin=vmin, vmax=vmax, zorder=np.inf)\n",
    "\n",
    "axes[0].set_title('Observed Signal')\n",
    "axes[1].set_title('Reconstructed Signal')\n",
    "\n",
    "plt.tight_layout()\n",
    "\n",
    "plt.savefig('reconstructed.pdf')\n",
    "\n",
    "\n"
   ]
  },
  {
   "cell_type": "code",
   "execution_count": 23,
   "metadata": {},
   "outputs": [],
   "source": [
    "def get_results():\n",
    "    \n",
    "    models = {'KGR': KGR, \n",
    "              'LinearRegression': LinearRegression, \n",
    "              'RidgeRegression': RidgeRegression, \n",
    "              'LassoRegression': LassoRegression, \n",
    "              'GLSKGR': GLSKGR}\n",
    "\n",
    "    init_params = {'KGR': dict(gamma=0.01, K_std=50, filter_func='sigmoid', beta=50), \n",
    "                   'LinearRegression': dict(fit_intercept=True), \n",
    "                   'RidgeRegression': dict(fit_intercept=True, alpha=50),\n",
    "                   'LassoRegression': dict(fit_intercept=True, alpha=1)}\n",
    "\n",
    "\n",
    "    model_names = ['KGR', 'LinearRegression', 'RidgeRegression', 'LassoRegression', 'GLSKGR']\n",
    "\n",
    "    opt_params = {metric: {model: {} for model in model_names} for metric in metrics}\n",
    "\n",
    "    RMSE = {'Missing Nodes':  {model: {} for model in model_names}, \n",
    "            'Labelled':       {model: {} for model in model_names}, \n",
    "            'Missing Dates':  {model: {} for model in model_names}, \n",
    "            'All Unlabelled': {model: {} for model in model_names}}\n",
    "\n",
    "    \n",
    "    metrics_bar = tqdm(metrics)\n",
    "\n",
    "    for metric in metrics_bar:\n",
    "\n",
    "        metrics_bar.set_description(metric)\n",
    "\n",
    "        models_bar = tqdm(models, leave=False)\n",
    "\n",
    "        for model in models_bar:\n",
    "\n",
    "            models_bar.set_description(model)\n",
    "\n",
    "            if model != 'GLSKGR':\n",
    "                reg = models[model](**init_params[model])\n",
    "\n",
    "                if model != 'KGR':\n",
    "                    opt_params[metric][model] = reg.set_data(features, targets[metric]).optimize()[0]\n",
    "\n",
    "                else:\n",
    "                    opt_params[metric][model] = reg.set_laplacian(laplacian).set_data(features, targets[metric]).optimize()[0]\n",
    "\n",
    "            else:\n",
    "                reg = models['GLSKGR'](**opt_params[metric]['KGR']).set_laplacian(laplacian).set_data(features, targets[metric])\n",
    "                opt_params[metric]['GLSKGR'] = opt_params[metric]['KGR']\n",
    "                reg.solve_GLS()\n",
    "\n",
    "            RMSE['Missing Nodes'][model][metric] = reg.RMSE_missing_nodes()\n",
    "            RMSE['Labelled'][model][metric] = reg.RMSE_labelled()\n",
    "            RMSE['Missing Dates'][model][metric] = reg.RMSE_missing_times()\n",
    "            RMSE['All Unlabelled'][model][metric] = reg.RMSE_unlabelled_full()\n",
    "            \n",
    "    return opt_params, RMSE\n",
    "            "
   ]
  },
  {
   "cell_type": "code",
   "execution_count": 24,
   "metadata": {},
   "outputs": [
    {
     "data": {
      "application/vnd.jupyter.widget-view+json": {
       "model_id": "672065600d674c2da82bc3b680ad8132",
       "version_major": 2,
       "version_minor": 0
      },
      "text/plain": [
       "HBox(children=(HTML(value=''), FloatProgress(value=0.0, max=6.0), HTML(value='')))"
      ]
     },
     "metadata": {},
     "output_type": "display_data"
    },
    {
     "data": {
      "application/vnd.jupyter.widget-view+json": {
       "model_id": "",
       "version_major": 2,
       "version_minor": 0
      },
      "text/plain": [
       "HBox(children=(HTML(value=''), FloatProgress(value=0.0, max=5.0), HTML(value='')))"
      ]
     },
     "metadata": {},
     "output_type": "display_data"
    },
    {
     "data": {
      "application/vnd.jupyter.widget-view+json": {
       "model_id": "",
       "version_major": 2,
       "version_minor": 0
      },
      "text/plain": [
       "HBox(children=(HTML(value=''), FloatProgress(value=0.0, max=9.0), HTML(value='')))"
      ]
     },
     "metadata": {},
     "output_type": "display_data"
    },
    {
     "data": {
      "application/vnd.jupyter.widget-view+json": {
       "model_id": "",
       "version_major": 2,
       "version_minor": 0
      },
      "text/plain": [
       "HBox(children=(HTML(value=''), FloatProgress(value=0.0, max=50.0), HTML(value='')))"
      ]
     },
     "metadata": {},
     "output_type": "display_data"
    },
    {
     "data": {
      "application/vnd.jupyter.widget-view+json": {
       "model_id": "",
       "version_major": 2,
       "version_minor": 0
      },
      "text/plain": [
       "HBox(children=(HTML(value=''), FloatProgress(value=0.0, max=50.0), HTML(value='')))"
      ]
     },
     "metadata": {},
     "output_type": "display_data"
    },
    {
     "data": {
      "application/vnd.jupyter.widget-view+json": {
       "model_id": "",
       "version_major": 2,
       "version_minor": 0
      },
      "text/plain": [
       "HBox(children=(HTML(value=''), FloatProgress(value=0.0, max=50.0), HTML(value='')))"
      ]
     },
     "metadata": {},
     "output_type": "display_data"
    },
    {
     "data": {
      "application/vnd.jupyter.widget-view+json": {
       "model_id": "",
       "version_major": 2,
       "version_minor": 0
      },
      "text/plain": [
       "HBox(children=(HTML(value=''), FloatProgress(value=0.0, max=50.0), HTML(value='')))"
      ]
     },
     "metadata": {},
     "output_type": "display_data"
    },
    {
     "data": {
      "application/vnd.jupyter.widget-view+json": {
       "model_id": "",
       "version_major": 2,
       "version_minor": 0
      },
      "text/plain": [
       "HBox(children=(HTML(value=''), FloatProgress(value=0.0, max=50.0), HTML(value='')))"
      ]
     },
     "metadata": {},
     "output_type": "display_data"
    },
    {
     "data": {
      "application/vnd.jupyter.widget-view+json": {
       "model_id": "",
       "version_major": 2,
       "version_minor": 0
      },
      "text/plain": [
       "HBox(children=(HTML(value=''), FloatProgress(value=0.0, max=50.0), HTML(value='')))"
      ]
     },
     "metadata": {},
     "output_type": "display_data"
    },
    {
     "data": {
      "application/vnd.jupyter.widget-view+json": {
       "model_id": "",
       "version_major": 2,
       "version_minor": 0
      },
      "text/plain": [
       "HBox(children=(HTML(value=''), FloatProgress(value=0.0, max=50.0), HTML(value='')))"
      ]
     },
     "metadata": {},
     "output_type": "display_data"
    },
    {
     "data": {
      "application/vnd.jupyter.widget-view+json": {
       "model_id": "",
       "version_major": 2,
       "version_minor": 0
      },
      "text/plain": [
       "HBox(children=(HTML(value=''), FloatProgress(value=0.0, max=50.0), HTML(value='')))"
      ]
     },
     "metadata": {},
     "output_type": "display_data"
    },
    {
     "data": {
      "application/vnd.jupyter.widget-view+json": {
       "model_id": "",
       "version_major": 2,
       "version_minor": 0
      },
      "text/plain": [
       "HBox(children=(HTML(value=''), FloatProgress(value=0.0, max=50.0), HTML(value='')))"
      ]
     },
     "metadata": {},
     "output_type": "display_data"
    },
    {
     "data": {
      "application/vnd.jupyter.widget-view+json": {
       "model_id": "",
       "version_major": 2,
       "version_minor": 0
      },
      "text/plain": [
       "HBox(children=(HTML(value=''), FloatProgress(value=0.0, max=50.0), HTML(value='')))"
      ]
     },
     "metadata": {},
     "output_type": "display_data"
    },
    {
     "data": {
      "application/vnd.jupyter.widget-view+json": {
       "model_id": "",
       "version_major": 2,
       "version_minor": 0
      },
      "text/plain": [
       "HBox(children=(HTML(value=''), FloatProgress(value=0.0, max=50.0), HTML(value='')))"
      ]
     },
     "metadata": {},
     "output_type": "display_data"
    },
    {
     "data": {
      "application/vnd.jupyter.widget-view+json": {
       "model_id": "",
       "version_major": 2,
       "version_minor": 0
      },
      "text/plain": [
       "HBox(children=(HTML(value=''), FloatProgress(value=0.0, max=50.0), HTML(value='')))"
      ]
     },
     "metadata": {},
     "output_type": "display_data"
    },
    {
     "data": {
      "application/vnd.jupyter.widget-view+json": {
       "model_id": "",
       "version_major": 2,
       "version_minor": 0
      },
      "text/plain": [
       "HBox(children=(HTML(value=''), FloatProgress(value=0.0, max=50.0), HTML(value='')))"
      ]
     },
     "metadata": {},
     "output_type": "display_data"
    },
    {
     "data": {
      "application/vnd.jupyter.widget-view+json": {
       "model_id": "",
       "version_major": 2,
       "version_minor": 0
      },
      "text/plain": [
       "HBox(children=(HTML(value=''), FloatProgress(value=0.0, max=5.0), HTML(value='')))"
      ]
     },
     "metadata": {},
     "output_type": "display_data"
    },
    {
     "data": {
      "application/vnd.jupyter.widget-view+json": {
       "model_id": "",
       "version_major": 2,
       "version_minor": 0
      },
      "text/plain": [
       "HBox(children=(HTML(value=''), FloatProgress(value=0.0, max=9.0), HTML(value='')))"
      ]
     },
     "metadata": {},
     "output_type": "display_data"
    },
    {
     "data": {
      "application/vnd.jupyter.widget-view+json": {
       "model_id": "",
       "version_major": 2,
       "version_minor": 0
      },
      "text/plain": [
       "HBox(children=(HTML(value=''), FloatProgress(value=0.0, max=50.0), HTML(value='')))"
      ]
     },
     "metadata": {},
     "output_type": "display_data"
    },
    {
     "data": {
      "application/vnd.jupyter.widget-view+json": {
       "model_id": "",
       "version_major": 2,
       "version_minor": 0
      },
      "text/plain": [
       "HBox(children=(HTML(value=''), FloatProgress(value=0.0, max=50.0), HTML(value='')))"
      ]
     },
     "metadata": {},
     "output_type": "display_data"
    },
    {
     "data": {
      "application/vnd.jupyter.widget-view+json": {
       "model_id": "",
       "version_major": 2,
       "version_minor": 0
      },
      "text/plain": [
       "HBox(children=(HTML(value=''), FloatProgress(value=0.0, max=50.0), HTML(value='')))"
      ]
     },
     "metadata": {},
     "output_type": "display_data"
    },
    {
     "data": {
      "application/vnd.jupyter.widget-view+json": {
       "model_id": "",
       "version_major": 2,
       "version_minor": 0
      },
      "text/plain": [
       "HBox(children=(HTML(value=''), FloatProgress(value=0.0, max=50.0), HTML(value='')))"
      ]
     },
     "metadata": {},
     "output_type": "display_data"
    },
    {
     "data": {
      "application/vnd.jupyter.widget-view+json": {
       "model_id": "",
       "version_major": 2,
       "version_minor": 0
      },
      "text/plain": [
       "HBox(children=(HTML(value=''), FloatProgress(value=0.0, max=50.0), HTML(value='')))"
      ]
     },
     "metadata": {},
     "output_type": "display_data"
    },
    {
     "data": {
      "application/vnd.jupyter.widget-view+json": {
       "model_id": "",
       "version_major": 2,
       "version_minor": 0
      },
      "text/plain": [
       "HBox(children=(HTML(value=''), FloatProgress(value=0.0, max=50.0), HTML(value='')))"
      ]
     },
     "metadata": {},
     "output_type": "display_data"
    },
    {
     "data": {
      "application/vnd.jupyter.widget-view+json": {
       "model_id": "",
       "version_major": 2,
       "version_minor": 0
      },
      "text/plain": [
       "HBox(children=(HTML(value=''), FloatProgress(value=0.0, max=50.0), HTML(value='')))"
      ]
     },
     "metadata": {},
     "output_type": "display_data"
    },
    {
     "data": {
      "application/vnd.jupyter.widget-view+json": {
       "model_id": "",
       "version_major": 2,
       "version_minor": 0
      },
      "text/plain": [
       "HBox(children=(HTML(value=''), FloatProgress(value=0.0, max=50.0), HTML(value='')))"
      ]
     },
     "metadata": {},
     "output_type": "display_data"
    },
    {
     "data": {
      "application/vnd.jupyter.widget-view+json": {
       "model_id": "",
       "version_major": 2,
       "version_minor": 0
      },
      "text/plain": [
       "HBox(children=(HTML(value=''), FloatProgress(value=0.0, max=50.0), HTML(value='')))"
      ]
     },
     "metadata": {},
     "output_type": "display_data"
    },
    {
     "data": {
      "application/vnd.jupyter.widget-view+json": {
       "model_id": "",
       "version_major": 2,
       "version_minor": 0
      },
      "text/plain": [
       "HBox(children=(HTML(value=''), FloatProgress(value=0.0, max=50.0), HTML(value='')))"
      ]
     },
     "metadata": {},
     "output_type": "display_data"
    },
    {
     "data": {
      "application/vnd.jupyter.widget-view+json": {
       "model_id": "",
       "version_major": 2,
       "version_minor": 0
      },
      "text/plain": [
       "HBox(children=(HTML(value=''), FloatProgress(value=0.0, max=50.0), HTML(value='')))"
      ]
     },
     "metadata": {},
     "output_type": "display_data"
    },
    {
     "data": {
      "application/vnd.jupyter.widget-view+json": {
       "model_id": "",
       "version_major": 2,
       "version_minor": 0
      },
      "text/plain": [
       "HBox(children=(HTML(value=''), FloatProgress(value=0.0, max=50.0), HTML(value='')))"
      ]
     },
     "metadata": {},
     "output_type": "display_data"
    },
    {
     "data": {
      "application/vnd.jupyter.widget-view+json": {
       "model_id": "",
       "version_major": 2,
       "version_minor": 0
      },
      "text/plain": [
       "HBox(children=(HTML(value=''), FloatProgress(value=0.0, max=50.0), HTML(value='')))"
      ]
     },
     "metadata": {},
     "output_type": "display_data"
    },
    {
     "data": {
      "application/vnd.jupyter.widget-view+json": {
       "model_id": "",
       "version_major": 2,
       "version_minor": 0
      },
      "text/plain": [
       "HBox(children=(HTML(value=''), FloatProgress(value=0.0, max=5.0), HTML(value='')))"
      ]
     },
     "metadata": {},
     "output_type": "display_data"
    },
    {
     "data": {
      "application/vnd.jupyter.widget-view+json": {
       "model_id": "",
       "version_major": 2,
       "version_minor": 0
      },
      "text/plain": [
       "HBox(children=(HTML(value=''), FloatProgress(value=0.0, max=9.0), HTML(value='')))"
      ]
     },
     "metadata": {},
     "output_type": "display_data"
    },
    {
     "data": {
      "application/vnd.jupyter.widget-view+json": {
       "model_id": "",
       "version_major": 2,
       "version_minor": 0
      },
      "text/plain": [
       "HBox(children=(HTML(value=''), FloatProgress(value=0.0, max=50.0), HTML(value='')))"
      ]
     },
     "metadata": {},
     "output_type": "display_data"
    },
    {
     "data": {
      "application/vnd.jupyter.widget-view+json": {
       "model_id": "",
       "version_major": 2,
       "version_minor": 0
      },
      "text/plain": [
       "HBox(children=(HTML(value=''), FloatProgress(value=0.0, max=50.0), HTML(value='')))"
      ]
     },
     "metadata": {},
     "output_type": "display_data"
    },
    {
     "data": {
      "application/vnd.jupyter.widget-view+json": {
       "model_id": "",
       "version_major": 2,
       "version_minor": 0
      },
      "text/plain": [
       "HBox(children=(HTML(value=''), FloatProgress(value=0.0, max=50.0), HTML(value='')))"
      ]
     },
     "metadata": {},
     "output_type": "display_data"
    },
    {
     "data": {
      "application/vnd.jupyter.widget-view+json": {
       "model_id": "",
       "version_major": 2,
       "version_minor": 0
      },
      "text/plain": [
       "HBox(children=(HTML(value=''), FloatProgress(value=0.0, max=50.0), HTML(value='')))"
      ]
     },
     "metadata": {},
     "output_type": "display_data"
    },
    {
     "data": {
      "application/vnd.jupyter.widget-view+json": {
       "model_id": "",
       "version_major": 2,
       "version_minor": 0
      },
      "text/plain": [
       "HBox(children=(HTML(value=''), FloatProgress(value=0.0, max=50.0), HTML(value='')))"
      ]
     },
     "metadata": {},
     "output_type": "display_data"
    },
    {
     "data": {
      "application/vnd.jupyter.widget-view+json": {
       "model_id": "",
       "version_major": 2,
       "version_minor": 0
      },
      "text/plain": [
       "HBox(children=(HTML(value=''), FloatProgress(value=0.0, max=50.0), HTML(value='')))"
      ]
     },
     "metadata": {},
     "output_type": "display_data"
    },
    {
     "data": {
      "application/vnd.jupyter.widget-view+json": {
       "model_id": "",
       "version_major": 2,
       "version_minor": 0
      },
      "text/plain": [
       "HBox(children=(HTML(value=''), FloatProgress(value=0.0, max=50.0), HTML(value='')))"
      ]
     },
     "metadata": {},
     "output_type": "display_data"
    },
    {
     "data": {
      "application/vnd.jupyter.widget-view+json": {
       "model_id": "",
       "version_major": 2,
       "version_minor": 0
      },
      "text/plain": [
       "HBox(children=(HTML(value=''), FloatProgress(value=0.0, max=50.0), HTML(value='')))"
      ]
     },
     "metadata": {},
     "output_type": "display_data"
    },
    {
     "data": {
      "application/vnd.jupyter.widget-view+json": {
       "model_id": "",
       "version_major": 2,
       "version_minor": 0
      },
      "text/plain": [
       "HBox(children=(HTML(value=''), FloatProgress(value=0.0, max=50.0), HTML(value='')))"
      ]
     },
     "metadata": {},
     "output_type": "display_data"
    },
    {
     "data": {
      "application/vnd.jupyter.widget-view+json": {
       "model_id": "",
       "version_major": 2,
       "version_minor": 0
      },
      "text/plain": [
       "HBox(children=(HTML(value=''), FloatProgress(value=0.0, max=50.0), HTML(value='')))"
      ]
     },
     "metadata": {},
     "output_type": "display_data"
    },
    {
     "data": {
      "application/vnd.jupyter.widget-view+json": {
       "model_id": "",
       "version_major": 2,
       "version_minor": 0
      },
      "text/plain": [
       "HBox(children=(HTML(value=''), FloatProgress(value=0.0, max=50.0), HTML(value='')))"
      ]
     },
     "metadata": {},
     "output_type": "display_data"
    },
    {
     "data": {
      "application/vnd.jupyter.widget-view+json": {
       "model_id": "",
       "version_major": 2,
       "version_minor": 0
      },
      "text/plain": [
       "HBox(children=(HTML(value=''), FloatProgress(value=0.0, max=50.0), HTML(value='')))"
      ]
     },
     "metadata": {},
     "output_type": "display_data"
    },
    {
     "data": {
      "application/vnd.jupyter.widget-view+json": {
       "model_id": "",
       "version_major": 2,
       "version_minor": 0
      },
      "text/plain": [
       "HBox(children=(HTML(value=''), FloatProgress(value=0.0, max=50.0), HTML(value='')))"
      ]
     },
     "metadata": {},
     "output_type": "display_data"
    },
    {
     "data": {
      "application/vnd.jupyter.widget-view+json": {
       "model_id": "",
       "version_major": 2,
       "version_minor": 0
      },
      "text/plain": [
       "HBox(children=(HTML(value=''), FloatProgress(value=0.0, max=5.0), HTML(value='')))"
      ]
     },
     "metadata": {},
     "output_type": "display_data"
    },
    {
     "data": {
      "application/vnd.jupyter.widget-view+json": {
       "model_id": "",
       "version_major": 2,
       "version_minor": 0
      },
      "text/plain": [
       "HBox(children=(HTML(value=''), FloatProgress(value=0.0, max=9.0), HTML(value='')))"
      ]
     },
     "metadata": {},
     "output_type": "display_data"
    },
    {
     "data": {
      "application/vnd.jupyter.widget-view+json": {
       "model_id": "",
       "version_major": 2,
       "version_minor": 0
      },
      "text/plain": [
       "HBox(children=(HTML(value=''), FloatProgress(value=0.0, max=50.0), HTML(value='')))"
      ]
     },
     "metadata": {},
     "output_type": "display_data"
    },
    {
     "data": {
      "application/vnd.jupyter.widget-view+json": {
       "model_id": "",
       "version_major": 2,
       "version_minor": 0
      },
      "text/plain": [
       "HBox(children=(HTML(value=''), FloatProgress(value=0.0, max=50.0), HTML(value='')))"
      ]
     },
     "metadata": {},
     "output_type": "display_data"
    },
    {
     "data": {
      "application/vnd.jupyter.widget-view+json": {
       "model_id": "",
       "version_major": 2,
       "version_minor": 0
      },
      "text/plain": [
       "HBox(children=(HTML(value=''), FloatProgress(value=0.0, max=50.0), HTML(value='')))"
      ]
     },
     "metadata": {},
     "output_type": "display_data"
    },
    {
     "data": {
      "application/vnd.jupyter.widget-view+json": {
       "model_id": "",
       "version_major": 2,
       "version_minor": 0
      },
      "text/plain": [
       "HBox(children=(HTML(value=''), FloatProgress(value=0.0, max=50.0), HTML(value='')))"
      ]
     },
     "metadata": {},
     "output_type": "display_data"
    },
    {
     "data": {
      "application/vnd.jupyter.widget-view+json": {
       "model_id": "",
       "version_major": 2,
       "version_minor": 0
      },
      "text/plain": [
       "HBox(children=(HTML(value=''), FloatProgress(value=0.0, max=50.0), HTML(value='')))"
      ]
     },
     "metadata": {},
     "output_type": "display_data"
    },
    {
     "data": {
      "application/vnd.jupyter.widget-view+json": {
       "model_id": "",
       "version_major": 2,
       "version_minor": 0
      },
      "text/plain": [
       "HBox(children=(HTML(value=''), FloatProgress(value=0.0, max=50.0), HTML(value='')))"
      ]
     },
     "metadata": {},
     "output_type": "display_data"
    },
    {
     "data": {
      "application/vnd.jupyter.widget-view+json": {
       "model_id": "",
       "version_major": 2,
       "version_minor": 0
      },
      "text/plain": [
       "HBox(children=(HTML(value=''), FloatProgress(value=0.0, max=50.0), HTML(value='')))"
      ]
     },
     "metadata": {},
     "output_type": "display_data"
    },
    {
     "data": {
      "application/vnd.jupyter.widget-view+json": {
       "model_id": "",
       "version_major": 2,
       "version_minor": 0
      },
      "text/plain": [
       "HBox(children=(HTML(value=''), FloatProgress(value=0.0, max=50.0), HTML(value='')))"
      ]
     },
     "metadata": {},
     "output_type": "display_data"
    },
    {
     "data": {
      "application/vnd.jupyter.widget-view+json": {
       "model_id": "",
       "version_major": 2,
       "version_minor": 0
      },
      "text/plain": [
       "HBox(children=(HTML(value=''), FloatProgress(value=0.0, max=50.0), HTML(value='')))"
      ]
     },
     "metadata": {},
     "output_type": "display_data"
    },
    {
     "data": {
      "application/vnd.jupyter.widget-view+json": {
       "model_id": "",
       "version_major": 2,
       "version_minor": 0
      },
      "text/plain": [
       "HBox(children=(HTML(value=''), FloatProgress(value=0.0, max=50.0), HTML(value='')))"
      ]
     },
     "metadata": {},
     "output_type": "display_data"
    },
    {
     "data": {
      "application/vnd.jupyter.widget-view+json": {
       "model_id": "",
       "version_major": 2,
       "version_minor": 0
      },
      "text/plain": [
       "HBox(children=(HTML(value=''), FloatProgress(value=0.0, max=50.0), HTML(value='')))"
      ]
     },
     "metadata": {},
     "output_type": "display_data"
    },
    {
     "data": {
      "application/vnd.jupyter.widget-view+json": {
       "model_id": "",
       "version_major": 2,
       "version_minor": 0
      },
      "text/plain": [
       "HBox(children=(HTML(value=''), FloatProgress(value=0.0, max=50.0), HTML(value='')))"
      ]
     },
     "metadata": {},
     "output_type": "display_data"
    },
    {
     "data": {
      "application/vnd.jupyter.widget-view+json": {
       "model_id": "",
       "version_major": 2,
       "version_minor": 0
      },
      "text/plain": [
       "HBox(children=(HTML(value=''), FloatProgress(value=0.0, max=50.0), HTML(value='')))"
      ]
     },
     "metadata": {},
     "output_type": "display_data"
    },
    {
     "data": {
      "application/vnd.jupyter.widget-view+json": {
       "model_id": "",
       "version_major": 2,
       "version_minor": 0
      },
      "text/plain": [
       "HBox(children=(HTML(value=''), FloatProgress(value=0.0, max=5.0), HTML(value='')))"
      ]
     },
     "metadata": {},
     "output_type": "display_data"
    },
    {
     "data": {
      "application/vnd.jupyter.widget-view+json": {
       "model_id": "",
       "version_major": 2,
       "version_minor": 0
      },
      "text/plain": [
       "HBox(children=(HTML(value=''), FloatProgress(value=0.0, max=9.0), HTML(value='')))"
      ]
     },
     "metadata": {},
     "output_type": "display_data"
    },
    {
     "data": {
      "application/vnd.jupyter.widget-view+json": {
       "model_id": "",
       "version_major": 2,
       "version_minor": 0
      },
      "text/plain": [
       "HBox(children=(HTML(value=''), FloatProgress(value=0.0, max=50.0), HTML(value='')))"
      ]
     },
     "metadata": {},
     "output_type": "display_data"
    },
    {
     "data": {
      "application/vnd.jupyter.widget-view+json": {
       "model_id": "",
       "version_major": 2,
       "version_minor": 0
      },
      "text/plain": [
       "HBox(children=(HTML(value=''), FloatProgress(value=0.0, max=50.0), HTML(value='')))"
      ]
     },
     "metadata": {},
     "output_type": "display_data"
    },
    {
     "data": {
      "application/vnd.jupyter.widget-view+json": {
       "model_id": "",
       "version_major": 2,
       "version_minor": 0
      },
      "text/plain": [
       "HBox(children=(HTML(value=''), FloatProgress(value=0.0, max=50.0), HTML(value='')))"
      ]
     },
     "metadata": {},
     "output_type": "display_data"
    },
    {
     "data": {
      "application/vnd.jupyter.widget-view+json": {
       "model_id": "",
       "version_major": 2,
       "version_minor": 0
      },
      "text/plain": [
       "HBox(children=(HTML(value=''), FloatProgress(value=0.0, max=50.0), HTML(value='')))"
      ]
     },
     "metadata": {},
     "output_type": "display_data"
    },
    {
     "data": {
      "application/vnd.jupyter.widget-view+json": {
       "model_id": "",
       "version_major": 2,
       "version_minor": 0
      },
      "text/plain": [
       "HBox(children=(HTML(value=''), FloatProgress(value=0.0, max=50.0), HTML(value='')))"
      ]
     },
     "metadata": {},
     "output_type": "display_data"
    },
    {
     "data": {
      "application/vnd.jupyter.widget-view+json": {
       "model_id": "",
       "version_major": 2,
       "version_minor": 0
      },
      "text/plain": [
       "HBox(children=(HTML(value=''), FloatProgress(value=0.0, max=50.0), HTML(value='')))"
      ]
     },
     "metadata": {},
     "output_type": "display_data"
    },
    {
     "data": {
      "application/vnd.jupyter.widget-view+json": {
       "model_id": "",
       "version_major": 2,
       "version_minor": 0
      },
      "text/plain": [
       "HBox(children=(HTML(value=''), FloatProgress(value=0.0, max=50.0), HTML(value='')))"
      ]
     },
     "metadata": {},
     "output_type": "display_data"
    },
    {
     "data": {
      "application/vnd.jupyter.widget-view+json": {
       "model_id": "",
       "version_major": 2,
       "version_minor": 0
      },
      "text/plain": [
       "HBox(children=(HTML(value=''), FloatProgress(value=0.0, max=50.0), HTML(value='')))"
      ]
     },
     "metadata": {},
     "output_type": "display_data"
    },
    {
     "data": {
      "application/vnd.jupyter.widget-view+json": {
       "model_id": "",
       "version_major": 2,
       "version_minor": 0
      },
      "text/plain": [
       "HBox(children=(HTML(value=''), FloatProgress(value=0.0, max=50.0), HTML(value='')))"
      ]
     },
     "metadata": {},
     "output_type": "display_data"
    },
    {
     "data": {
      "application/vnd.jupyter.widget-view+json": {
       "model_id": "",
       "version_major": 2,
       "version_minor": 0
      },
      "text/plain": [
       "HBox(children=(HTML(value=''), FloatProgress(value=0.0, max=50.0), HTML(value='')))"
      ]
     },
     "metadata": {},
     "output_type": "display_data"
    },
    {
     "data": {
      "application/vnd.jupyter.widget-view+json": {
       "model_id": "",
       "version_major": 2,
       "version_minor": 0
      },
      "text/plain": [
       "HBox(children=(HTML(value=''), FloatProgress(value=0.0, max=50.0), HTML(value='')))"
      ]
     },
     "metadata": {},
     "output_type": "display_data"
    },
    {
     "data": {
      "application/vnd.jupyter.widget-view+json": {
       "model_id": "",
       "version_major": 2,
       "version_minor": 0
      },
      "text/plain": [
       "HBox(children=(HTML(value=''), FloatProgress(value=0.0, max=50.0), HTML(value='')))"
      ]
     },
     "metadata": {},
     "output_type": "display_data"
    },
    {
     "data": {
      "application/vnd.jupyter.widget-view+json": {
       "model_id": "",
       "version_major": 2,
       "version_minor": 0
      },
      "text/plain": [
       "HBox(children=(HTML(value=''), FloatProgress(value=0.0, max=50.0), HTML(value='')))"
      ]
     },
     "metadata": {},
     "output_type": "display_data"
    },
    {
     "data": {
      "application/vnd.jupyter.widget-view+json": {
       "model_id": "",
       "version_major": 2,
       "version_minor": 0
      },
      "text/plain": [
       "HBox(children=(HTML(value=''), FloatProgress(value=0.0, max=5.0), HTML(value='')))"
      ]
     },
     "metadata": {},
     "output_type": "display_data"
    },
    {
     "data": {
      "application/vnd.jupyter.widget-view+json": {
       "model_id": "",
       "version_major": 2,
       "version_minor": 0
      },
      "text/plain": [
       "HBox(children=(HTML(value=''), FloatProgress(value=0.0, max=9.0), HTML(value='')))"
      ]
     },
     "metadata": {},
     "output_type": "display_data"
    },
    {
     "data": {
      "application/vnd.jupyter.widget-view+json": {
       "model_id": "",
       "version_major": 2,
       "version_minor": 0
      },
      "text/plain": [
       "HBox(children=(HTML(value=''), FloatProgress(value=0.0, max=50.0), HTML(value='')))"
      ]
     },
     "metadata": {},
     "output_type": "display_data"
    },
    {
     "data": {
      "application/vnd.jupyter.widget-view+json": {
       "model_id": "",
       "version_major": 2,
       "version_minor": 0
      },
      "text/plain": [
       "HBox(children=(HTML(value=''), FloatProgress(value=0.0, max=50.0), HTML(value='')))"
      ]
     },
     "metadata": {},
     "output_type": "display_data"
    },
    {
     "data": {
      "application/vnd.jupyter.widget-view+json": {
       "model_id": "",
       "version_major": 2,
       "version_minor": 0
      },
      "text/plain": [
       "HBox(children=(HTML(value=''), FloatProgress(value=0.0, max=50.0), HTML(value='')))"
      ]
     },
     "metadata": {},
     "output_type": "display_data"
    },
    {
     "data": {
      "application/vnd.jupyter.widget-view+json": {
       "model_id": "",
       "version_major": 2,
       "version_minor": 0
      },
      "text/plain": [
       "HBox(children=(HTML(value=''), FloatProgress(value=0.0, max=50.0), HTML(value='')))"
      ]
     },
     "metadata": {},
     "output_type": "display_data"
    },
    {
     "data": {
      "application/vnd.jupyter.widget-view+json": {
       "model_id": "",
       "version_major": 2,
       "version_minor": 0
      },
      "text/plain": [
       "HBox(children=(HTML(value=''), FloatProgress(value=0.0, max=50.0), HTML(value='')))"
      ]
     },
     "metadata": {},
     "output_type": "display_data"
    },
    {
     "data": {
      "application/vnd.jupyter.widget-view+json": {
       "model_id": "",
       "version_major": 2,
       "version_minor": 0
      },
      "text/plain": [
       "HBox(children=(HTML(value=''), FloatProgress(value=0.0, max=50.0), HTML(value='')))"
      ]
     },
     "metadata": {},
     "output_type": "display_data"
    },
    {
     "data": {
      "application/vnd.jupyter.widget-view+json": {
       "model_id": "",
       "version_major": 2,
       "version_minor": 0
      },
      "text/plain": [
       "HBox(children=(HTML(value=''), FloatProgress(value=0.0, max=50.0), HTML(value='')))"
      ]
     },
     "metadata": {},
     "output_type": "display_data"
    },
    {
     "data": {
      "application/vnd.jupyter.widget-view+json": {
       "model_id": "",
       "version_major": 2,
       "version_minor": 0
      },
      "text/plain": [
       "HBox(children=(HTML(value=''), FloatProgress(value=0.0, max=50.0), HTML(value='')))"
      ]
     },
     "metadata": {},
     "output_type": "display_data"
    },
    {
     "data": {
      "application/vnd.jupyter.widget-view+json": {
       "model_id": "",
       "version_major": 2,
       "version_minor": 0
      },
      "text/plain": [
       "HBox(children=(HTML(value=''), FloatProgress(value=0.0, max=50.0), HTML(value='')))"
      ]
     },
     "metadata": {},
     "output_type": "display_data"
    },
    {
     "data": {
      "application/vnd.jupyter.widget-view+json": {
       "model_id": "",
       "version_major": 2,
       "version_minor": 0
      },
      "text/plain": [
       "HBox(children=(HTML(value=''), FloatProgress(value=0.0, max=50.0), HTML(value='')))"
      ]
     },
     "metadata": {},
     "output_type": "display_data"
    },
    {
     "data": {
      "application/vnd.jupyter.widget-view+json": {
       "model_id": "",
       "version_major": 2,
       "version_minor": 0
      },
      "text/plain": [
       "HBox(children=(HTML(value=''), FloatProgress(value=0.0, max=50.0), HTML(value='')))"
      ]
     },
     "metadata": {},
     "output_type": "display_data"
    },
    {
     "data": {
      "application/vnd.jupyter.widget-view+json": {
       "model_id": "",
       "version_major": 2,
       "version_minor": 0
      },
      "text/plain": [
       "HBox(children=(HTML(value=''), FloatProgress(value=0.0, max=50.0), HTML(value='')))"
      ]
     },
     "metadata": {},
     "output_type": "display_data"
    },
    {
     "data": {
      "application/vnd.jupyter.widget-view+json": {
       "model_id": "",
       "version_major": 2,
       "version_minor": 0
      },
      "text/plain": [
       "HBox(children=(HTML(value=''), FloatProgress(value=0.0, max=50.0), HTML(value='')))"
      ]
     },
     "metadata": {},
     "output_type": "display_data"
    },
    {
     "name": "stdout",
     "output_type": "stream",
     "text": [
      "\n"
     ]
    }
   ],
   "source": [
    "opt_params, RMSE = get_results()"
   ]
  },
  {
   "cell_type": "code",
   "execution_count": 25,
   "metadata": {},
   "outputs": [
    {
     "data": {
      "text/html": [
       "<div>\n",
       "<style scoped>\n",
       "    .dataframe tbody tr th:only-of-type {\n",
       "        vertical-align: middle;\n",
       "    }\n",
       "\n",
       "    .dataframe tbody tr th {\n",
       "        vertical-align: top;\n",
       "    }\n",
       "\n",
       "    .dataframe thead th {\n",
       "        text-align: right;\n",
       "    }\n",
       "</style>\n",
       "<table border=\"1\" class=\"dataframe\">\n",
       "  <thead>\n",
       "    <tr style=\"text-align: right;\">\n",
       "      <th></th>\n",
       "      <th>Ozone</th>\n",
       "      <th>CO</th>\n",
       "      <th>NO2</th>\n",
       "      <th>PM25</th>\n",
       "      <th>PM10</th>\n",
       "    </tr>\n",
       "  </thead>\n",
       "  <tbody>\n",
       "    <tr>\n",
       "      <th>KGR</th>\n",
       "      <td>0.615449</td>\n",
       "      <td>0.735879</td>\n",
       "      <td>0.599236</td>\n",
       "      <td>0.749145</td>\n",
       "      <td>0.633629</td>\n",
       "    </tr>\n",
       "    <tr>\n",
       "      <th>LinearRegression</th>\n",
       "      <td>0.723574</td>\n",
       "      <td>0.768096</td>\n",
       "      <td>0.773384</td>\n",
       "      <td>0.816315</td>\n",
       "      <td>0.777558</td>\n",
       "    </tr>\n",
       "    <tr>\n",
       "      <th>RidgeRegression</th>\n",
       "      <td>0.704979</td>\n",
       "      <td>0.744427</td>\n",
       "      <td>0.780301</td>\n",
       "      <td>0.783974</td>\n",
       "      <td>0.731608</td>\n",
       "    </tr>\n",
       "    <tr>\n",
       "      <th>LassoRegression</th>\n",
       "      <td>0.679058</td>\n",
       "      <td>0.724803</td>\n",
       "      <td>0.739269</td>\n",
       "      <td>0.759241</td>\n",
       "      <td>0.701147</td>\n",
       "    </tr>\n",
       "    <tr>\n",
       "      <th>GLSKGR</th>\n",
       "      <td>0.662691</td>\n",
       "      <td>0.745393</td>\n",
       "      <td>0.665544</td>\n",
       "      <td>0.785514</td>\n",
       "      <td>0.665610</td>\n",
       "    </tr>\n",
       "  </tbody>\n",
       "</table>\n",
       "</div>"
      ],
      "text/plain": [
       "                     Ozone        CO       NO2      PM25      PM10\n",
       "KGR               0.615449  0.735879  0.599236  0.749145  0.633629\n",
       "LinearRegression  0.723574  0.768096  0.773384  0.816315  0.777558\n",
       "RidgeRegression   0.704979  0.744427  0.780301  0.783974  0.731608\n",
       "LassoRegression   0.679058  0.724803  0.739269  0.759241  0.701147\n",
       "GLSKGR            0.662691  0.745393  0.665544  0.785514  0.665610"
      ]
     },
     "execution_count": 25,
     "metadata": {},
     "output_type": "execute_result"
    }
   ],
   "source": [
    "pd.DataFrame(RMSE['All Unlabelled']).T.drop('SO2', axis=1)#.to_csv('results/unlabelled_full.csv')"
   ]
  },
  {
   "cell_type": "code",
   "execution_count": 27,
   "metadata": {},
   "outputs": [
    {
     "data": {
      "text/html": [
       "<div>\n",
       "<style scoped>\n",
       "    .dataframe tbody tr th:only-of-type {\n",
       "        vertical-align: middle;\n",
       "    }\n",
       "\n",
       "    .dataframe tbody tr th {\n",
       "        vertical-align: top;\n",
       "    }\n",
       "\n",
       "    .dataframe thead th {\n",
       "        text-align: right;\n",
       "    }\n",
       "</style>\n",
       "<table border=\"1\" class=\"dataframe\">\n",
       "  <thead>\n",
       "    <tr style=\"text-align: right;\">\n",
       "      <th></th>\n",
       "      <th>Ozone</th>\n",
       "      <th>CO</th>\n",
       "      <th>NO2</th>\n",
       "      <th>PM25</th>\n",
       "      <th>PM10</th>\n",
       "    </tr>\n",
       "  </thead>\n",
       "  <tbody>\n",
       "    <tr>\n",
       "      <th>KGR</th>\n",
       "      <td>0.608420</td>\n",
       "      <td>0.883679</td>\n",
       "      <td>0.638532</td>\n",
       "      <td>0.692877</td>\n",
       "      <td>0.592155</td>\n",
       "    </tr>\n",
       "    <tr>\n",
       "      <th>LinearRegression</th>\n",
       "      <td>0.764155</td>\n",
       "      <td>0.864438</td>\n",
       "      <td>0.924089</td>\n",
       "      <td>0.818205</td>\n",
       "      <td>0.773625</td>\n",
       "    </tr>\n",
       "    <tr>\n",
       "      <th>RidgeRegression</th>\n",
       "      <td>0.764472</td>\n",
       "      <td>0.864822</td>\n",
       "      <td>0.925000</td>\n",
       "      <td>0.819010</td>\n",
       "      <td>0.774243</td>\n",
       "    </tr>\n",
       "    <tr>\n",
       "      <th>LassoRegression</th>\n",
       "      <td>0.767042</td>\n",
       "      <td>0.867911</td>\n",
       "      <td>0.928360</td>\n",
       "      <td>0.820848</td>\n",
       "      <td>0.775833</td>\n",
       "    </tr>\n",
       "    <tr>\n",
       "      <th>GLSKGR</th>\n",
       "      <td>0.678349</td>\n",
       "      <td>0.904138</td>\n",
       "      <td>0.686995</td>\n",
       "      <td>0.722991</td>\n",
       "      <td>0.655298</td>\n",
       "    </tr>\n",
       "  </tbody>\n",
       "</table>\n",
       "</div>"
      ],
      "text/plain": [
       "                     Ozone        CO       NO2      PM25      PM10\n",
       "KGR               0.608420  0.883679  0.638532  0.692877  0.592155\n",
       "LinearRegression  0.764155  0.864438  0.924089  0.818205  0.773625\n",
       "RidgeRegression   0.764472  0.864822  0.925000  0.819010  0.774243\n",
       "LassoRegression   0.767042  0.867911  0.928360  0.820848  0.775833\n",
       "GLSKGR            0.678349  0.904138  0.686995  0.722991  0.655298"
      ]
     },
     "execution_count": 27,
     "metadata": {},
     "output_type": "execute_result"
    }
   ],
   "source": [
    "pd.DataFrame(RMSE['Missing Nodes']).T.drop('SO2', axis=1)#.to_csv('results/missing_nodes.csv')"
   ]
  },
  {
   "cell_type": "code",
   "execution_count": 26,
   "metadata": {},
   "outputs": [
    {
     "data": {
      "text/html": [
       "<div>\n",
       "<style scoped>\n",
       "    .dataframe tbody tr th:only-of-type {\n",
       "        vertical-align: middle;\n",
       "    }\n",
       "\n",
       "    .dataframe tbody tr th {\n",
       "        vertical-align: top;\n",
       "    }\n",
       "\n",
       "    .dataframe thead th {\n",
       "        text-align: right;\n",
       "    }\n",
       "</style>\n",
       "<table border=\"1\" class=\"dataframe\">\n",
       "  <thead>\n",
       "    <tr style=\"text-align: right;\">\n",
       "      <th></th>\n",
       "      <th>Ozone</th>\n",
       "      <th>CO</th>\n",
       "      <th>NO2</th>\n",
       "      <th>PM25</th>\n",
       "      <th>PM10</th>\n",
       "    </tr>\n",
       "  </thead>\n",
       "  <tbody>\n",
       "    <tr>\n",
       "      <th>KGR</th>\n",
       "      <td>0.592735</td>\n",
       "      <td>0.539675</td>\n",
       "      <td>0.552580</td>\n",
       "      <td>0.770604</td>\n",
       "      <td>0.654792</td>\n",
       "    </tr>\n",
       "    <tr>\n",
       "      <th>LinearRegression</th>\n",
       "      <td>0.652398</td>\n",
       "      <td>0.662703</td>\n",
       "      <td>0.521524</td>\n",
       "      <td>0.798053</td>\n",
       "      <td>0.773413</td>\n",
       "    </tr>\n",
       "    <tr>\n",
       "      <th>RidgeRegression</th>\n",
       "      <td>0.607211</td>\n",
       "      <td>0.604531</td>\n",
       "      <td>0.551308</td>\n",
       "      <td>0.728811</td>\n",
       "      <td>0.665495</td>\n",
       "    </tr>\n",
       "    <tr>\n",
       "      <th>LassoRegression</th>\n",
       "      <td>0.537975</td>\n",
       "      <td>0.541524</td>\n",
       "      <td>0.402299</td>\n",
       "      <td>0.661069</td>\n",
       "      <td>0.585522</td>\n",
       "    </tr>\n",
       "    <tr>\n",
       "      <th>GLSKGR</th>\n",
       "      <td>0.626720</td>\n",
       "      <td>0.539121</td>\n",
       "      <td>0.643153</td>\n",
       "      <td>0.815208</td>\n",
       "      <td>0.667832</td>\n",
       "    </tr>\n",
       "  </tbody>\n",
       "</table>\n",
       "</div>"
      ],
      "text/plain": [
       "                     Ozone        CO       NO2      PM25      PM10\n",
       "KGR               0.592735  0.539675  0.552580  0.770604  0.654792\n",
       "LinearRegression  0.652398  0.662703  0.521524  0.798053  0.773413\n",
       "RidgeRegression   0.607211  0.604531  0.551308  0.728811  0.665495\n",
       "LassoRegression   0.537975  0.541524  0.402299  0.661069  0.585522\n",
       "GLSKGR            0.626720  0.539121  0.643153  0.815208  0.667832"
      ]
     },
     "execution_count": 26,
     "metadata": {},
     "output_type": "execute_result"
    }
   ],
   "source": [
    "pd.DataFrame(RMSE['Missing Dates']).T.drop('SO2', axis=1)#.to_csv('results/unlabelled_dates.csv')"
   ]
  },
  {
   "cell_type": "code",
   "execution_count": 28,
   "metadata": {},
   "outputs": [
    {
     "data": {
      "text/html": [
       "<div>\n",
       "<style scoped>\n",
       "    .dataframe tbody tr th:only-of-type {\n",
       "        vertical-align: middle;\n",
       "    }\n",
       "\n",
       "    .dataframe tbody tr th {\n",
       "        vertical-align: top;\n",
       "    }\n",
       "\n",
       "    .dataframe thead th {\n",
       "        text-align: right;\n",
       "    }\n",
       "</style>\n",
       "<table border=\"1\" class=\"dataframe\">\n",
       "  <thead>\n",
       "    <tr style=\"text-align: right;\">\n",
       "      <th></th>\n",
       "      <th>Ozone</th>\n",
       "      <th>CO</th>\n",
       "      <th>NO2</th>\n",
       "      <th>PM25</th>\n",
       "      <th>PM10</th>\n",
       "    </tr>\n",
       "  </thead>\n",
       "  <tbody>\n",
       "    <tr>\n",
       "      <th>KGR</th>\n",
       "      <td>0.317762</td>\n",
       "      <td>0.202276</td>\n",
       "      <td>0.544492</td>\n",
       "      <td>0.534491</td>\n",
       "      <td>0.493960</td>\n",
       "    </tr>\n",
       "    <tr>\n",
       "      <th>LinearRegression</th>\n",
       "      <td>0.439377</td>\n",
       "      <td>0.374526</td>\n",
       "      <td>0.344250</td>\n",
       "      <td>0.474253</td>\n",
       "      <td>0.497572</td>\n",
       "    </tr>\n",
       "    <tr>\n",
       "      <th>RidgeRegression</th>\n",
       "      <td>0.443431</td>\n",
       "      <td>0.380649</td>\n",
       "      <td>0.350041</td>\n",
       "      <td>0.478920</td>\n",
       "      <td>0.503214</td>\n",
       "    </tr>\n",
       "    <tr>\n",
       "      <th>LassoRegression</th>\n",
       "      <td>0.466472</td>\n",
       "      <td>0.410098</td>\n",
       "      <td>0.372237</td>\n",
       "      <td>0.497190</td>\n",
       "      <td>0.524526</td>\n",
       "    </tr>\n",
       "    <tr>\n",
       "      <th>GLSKGR</th>\n",
       "      <td>0.310504</td>\n",
       "      <td>0.051383</td>\n",
       "      <td>0.625151</td>\n",
       "      <td>0.546650</td>\n",
       "      <td>0.450996</td>\n",
       "    </tr>\n",
       "  </tbody>\n",
       "</table>\n",
       "</div>"
      ],
      "text/plain": [
       "                     Ozone        CO       NO2      PM25      PM10\n",
       "KGR               0.317762  0.202276  0.544492  0.534491  0.493960\n",
       "LinearRegression  0.439377  0.374526  0.344250  0.474253  0.497572\n",
       "RidgeRegression   0.443431  0.380649  0.350041  0.478920  0.503214\n",
       "LassoRegression   0.466472  0.410098  0.372237  0.497190  0.524526\n",
       "GLSKGR            0.310504  0.051383  0.625151  0.546650  0.450996"
      ]
     },
     "execution_count": 28,
     "metadata": {},
     "output_type": "execute_result"
    }
   ],
   "source": [
    "pd.DataFrame(RMSE['Labelled']).T.drop('SO2', axis=1)#.to_csv('results/labelled.csv')"
   ]
  },
  {
   "cell_type": "code",
   "execution_count": 33,
   "metadata": {},
   "outputs": [
    {
     "data": {
      "text/plain": [
       "{'KGR': {'gamma': 0.07196856730011514,\n",
       "  'K_std': 10.985411419875584,\n",
       "  'filter_func': 'sigmoid',\n",
       "  'beta': 5.963623316594643},\n",
       " 'LinearRegression': {'fit_intercept': True},\n",
       " 'RidgeRegression': {'fit_intercept': True, 'alpha': 686.6488450042998},\n",
       " 'LassoRegression': {'fit_intercept': True, 'alpha': 0.01151395399326447},\n",
       " 'GLSKGR': {'gamma': 0.07196856730011514,\n",
       "  'K_std': 10.985411419875584,\n",
       "  'filter_func': 'sigmoid',\n",
       "  'beta': 5.963623316594643}}"
      ]
     },
     "execution_count": 33,
     "metadata": {},
     "output_type": "execute_result"
    }
   ],
   "source": [
    "opt_params['Ozone']"
   ]
  },
  {
   "cell_type": "code",
   "execution_count": null,
   "metadata": {},
   "outputs": [],
   "source": []
  }
 ],
 "metadata": {
  "kernelspec": {
   "display_name": "Python 3",
   "language": "python",
   "name": "python3"
  },
  "language_info": {
   "codemirror_mode": {
    "name": "ipython",
    "version": 3
   },
   "file_extension": ".py",
   "mimetype": "text/x-python",
   "name": "python",
   "nbconvert_exporter": "python",
   "pygments_lexer": "ipython3",
   "version": "3.7.3"
  }
 },
 "nbformat": 4,
 "nbformat_minor": 2
}
