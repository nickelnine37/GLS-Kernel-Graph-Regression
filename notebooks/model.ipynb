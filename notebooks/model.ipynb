{
 "cells": [
  {
   "cell_type": "code",
   "execution_count": 1,
   "metadata": {},
   "outputs": [
    {
     "data": {
      "text/html": [
       "<style>.container { width:90% !important; }</style>"
      ],
      "text/plain": [
       "<IPython.core.display.HTML object>"
      ]
     },
     "metadata": {},
     "output_type": "display_data"
    }
   ],
   "source": [
    "from IPython.core.display import display, HTML\n",
    "display(HTML(\"<style>.container { width:90% !important; }</style>\"))"
   ]
  },
  {
   "cell_type": "code",
   "execution_count": 2,
   "metadata": {},
   "outputs": [],
   "source": [
    "%load_ext autoreload\n",
    "%autoreload 2"
   ]
  },
  {
   "cell_type": "code",
   "execution_count": 3,
   "metadata": {},
   "outputs": [
    {
     "name": "stderr",
     "output_type": "stream",
     "text": [
      "/home/ed/miniconda3/lib/python3.7/site-packages/ipykernel_launcher.py:4: TqdmExperimentalWarning: Using `tqdm.autonotebook.tqdm` in notebook mode. Use `tqdm.tqdm` instead to force console mode (e.g. in jupyter console)\n",
      "  after removing the cwd from sys.path.\n"
     ]
    }
   ],
   "source": [
    "import numpy as np\n",
    "import matplotlib.pyplot as plt\n",
    "import pandas as pd\n",
    "from tqdm.autonotebook import tqdm\n"
   ]
  },
  {
   "cell_type": "code",
   "execution_count": 4,
   "metadata": {},
   "outputs": [],
   "source": [
    "%matplotlib notebook\n",
    "np.set_printoptions(precision=4, linewidth=500, threshold=500, suppress=True)"
   ]
  },
  {
   "cell_type": "code",
   "execution_count": 5,
   "metadata": {},
   "outputs": [],
   "source": [
    "import sys\n",
    "sys.path.append('..')"
   ]
  },
  {
   "cell_type": "code",
   "execution_count": 6,
   "metadata": {},
   "outputs": [],
   "source": [
    "from model.laplacian import Laplacian\n",
    "from model.features import Features\n",
    "from model.targets import Targets\n",
    "from model.regression.basic import LinearRegression, LassoRegression, RidgeRegression, NaiveRegression\n",
    "from model.regression.glskgr import GLSKGR\n",
    "from model.regression.kgr import KGR\n"
   ]
  },
  {
   "cell_type": "code",
   "execution_count": 7,
   "metadata": {},
   "outputs": [],
   "source": [
    "laplacian = Laplacian()"
   ]
  },
  {
   "cell_type": "code",
   "execution_count": 28,
   "metadata": {},
   "outputs": [],
   "source": [
    "features = Features(transform='quantile')"
   ]
  },
  {
   "cell_type": "code",
   "execution_count": 29,
   "metadata": {},
   "outputs": [],
   "source": [
    "metrics = ['Ozone', 'SO2', 'CO', 'NO2', 'PM25', 'PM10']\n",
    "\n",
    "targets = {metric: Targets(metric, transform='log') for metric in metrics}"
   ]
  },
  {
   "cell_type": "code",
   "execution_count": 38,
   "metadata": {},
   "outputs": [
    {
     "data": {
      "text/plain": [
       "array([[ 3., -1.,  0., ...,  0.,  0.,  0.],\n",
       "       [-1.,  2.,  0., ...,  0.,  0.,  0.],\n",
       "       [ 0.,  0.,  3., ...,  0.,  0.,  0.],\n",
       "       ...,\n",
       "       [ 0.,  0.,  0., ...,  5., -1.,  0.],\n",
       "       [ 0.,  0.,  0., ..., -1.,  2.,  0.],\n",
       "       [ 0.,  0.,  0., ...,  0.,  0.,  4.]])"
      ]
     },
     "execution_count": 38,
     "metadata": {},
     "output_type": "execute_result"
    }
   ],
   "source": [
    "laplacian.L"
   ]
  },
  {
   "cell_type": "code",
   "execution_count": 30,
   "metadata": {},
   "outputs": [
    {
     "data": {
      "application/javascript": [
       "/* Put everything inside the global mpl namespace */\n",
       "window.mpl = {};\n",
       "\n",
       "\n",
       "mpl.get_websocket_type = function() {\n",
       "    if (typeof(WebSocket) !== 'undefined') {\n",
       "        return WebSocket;\n",
       "    } else if (typeof(MozWebSocket) !== 'undefined') {\n",
       "        return MozWebSocket;\n",
       "    } else {\n",
       "        alert('Your browser does not have WebSocket support. ' +\n",
       "              'Please try Chrome, Safari or Firefox ≥ 6. ' +\n",
       "              'Firefox 4 and 5 are also supported but you ' +\n",
       "              'have to enable WebSockets in about:config.');\n",
       "    };\n",
       "}\n",
       "\n",
       "mpl.figure = function(figure_id, websocket, ondownload, parent_element) {\n",
       "    this.id = figure_id;\n",
       "\n",
       "    this.ws = websocket;\n",
       "\n",
       "    this.supports_binary = (this.ws.binaryType != undefined);\n",
       "\n",
       "    if (!this.supports_binary) {\n",
       "        var warnings = document.getElementById(\"mpl-warnings\");\n",
       "        if (warnings) {\n",
       "            warnings.style.display = 'block';\n",
       "            warnings.textContent = (\n",
       "                \"This browser does not support binary websocket messages. \" +\n",
       "                    \"Performance may be slow.\");\n",
       "        }\n",
       "    }\n",
       "\n",
       "    this.imageObj = new Image();\n",
       "\n",
       "    this.context = undefined;\n",
       "    this.message = undefined;\n",
       "    this.canvas = undefined;\n",
       "    this.rubberband_canvas = undefined;\n",
       "    this.rubberband_context = undefined;\n",
       "    this.format_dropdown = undefined;\n",
       "\n",
       "    this.image_mode = 'full';\n",
       "\n",
       "    this.root = $('<div/>');\n",
       "    this._root_extra_style(this.root)\n",
       "    this.root.attr('style', 'display: inline-block');\n",
       "\n",
       "    $(parent_element).append(this.root);\n",
       "\n",
       "    this._init_header(this);\n",
       "    this._init_canvas(this);\n",
       "    this._init_toolbar(this);\n",
       "\n",
       "    var fig = this;\n",
       "\n",
       "    this.waiting = false;\n",
       "\n",
       "    this.ws.onopen =  function () {\n",
       "            fig.send_message(\"supports_binary\", {value: fig.supports_binary});\n",
       "            fig.send_message(\"send_image_mode\", {});\n",
       "            if (mpl.ratio != 1) {\n",
       "                fig.send_message(\"set_dpi_ratio\", {'dpi_ratio': mpl.ratio});\n",
       "            }\n",
       "            fig.send_message(\"refresh\", {});\n",
       "        }\n",
       "\n",
       "    this.imageObj.onload = function() {\n",
       "            if (fig.image_mode == 'full') {\n",
       "                // Full images could contain transparency (where diff images\n",
       "                // almost always do), so we need to clear the canvas so that\n",
       "                // there is no ghosting.\n",
       "                fig.context.clearRect(0, 0, fig.canvas.width, fig.canvas.height);\n",
       "            }\n",
       "            fig.context.drawImage(fig.imageObj, 0, 0);\n",
       "        };\n",
       "\n",
       "    this.imageObj.onunload = function() {\n",
       "        fig.ws.close();\n",
       "    }\n",
       "\n",
       "    this.ws.onmessage = this._make_on_message_function(this);\n",
       "\n",
       "    this.ondownload = ondownload;\n",
       "}\n",
       "\n",
       "mpl.figure.prototype._init_header = function() {\n",
       "    var titlebar = $(\n",
       "        '<div class=\"ui-dialog-titlebar ui-widget-header ui-corner-all ' +\n",
       "        'ui-helper-clearfix\"/>');\n",
       "    var titletext = $(\n",
       "        '<div class=\"ui-dialog-title\" style=\"width: 100%; ' +\n",
       "        'text-align: center; padding: 3px;\"/>');\n",
       "    titlebar.append(titletext)\n",
       "    this.root.append(titlebar);\n",
       "    this.header = titletext[0];\n",
       "}\n",
       "\n",
       "\n",
       "\n",
       "mpl.figure.prototype._canvas_extra_style = function(canvas_div) {\n",
       "\n",
       "}\n",
       "\n",
       "\n",
       "mpl.figure.prototype._root_extra_style = function(canvas_div) {\n",
       "\n",
       "}\n",
       "\n",
       "mpl.figure.prototype._init_canvas = function() {\n",
       "    var fig = this;\n",
       "\n",
       "    var canvas_div = $('<div/>');\n",
       "\n",
       "    canvas_div.attr('style', 'position: relative; clear: both; outline: 0');\n",
       "\n",
       "    function canvas_keyboard_event(event) {\n",
       "        return fig.key_event(event, event['data']);\n",
       "    }\n",
       "\n",
       "    canvas_div.keydown('key_press', canvas_keyboard_event);\n",
       "    canvas_div.keyup('key_release', canvas_keyboard_event);\n",
       "    this.canvas_div = canvas_div\n",
       "    this._canvas_extra_style(canvas_div)\n",
       "    this.root.append(canvas_div);\n",
       "\n",
       "    var canvas = $('<canvas/>');\n",
       "    canvas.addClass('mpl-canvas');\n",
       "    canvas.attr('style', \"left: 0; top: 0; z-index: 0; outline: 0\")\n",
       "\n",
       "    this.canvas = canvas[0];\n",
       "    this.context = canvas[0].getContext(\"2d\");\n",
       "\n",
       "    var backingStore = this.context.backingStorePixelRatio ||\n",
       "\tthis.context.webkitBackingStorePixelRatio ||\n",
       "\tthis.context.mozBackingStorePixelRatio ||\n",
       "\tthis.context.msBackingStorePixelRatio ||\n",
       "\tthis.context.oBackingStorePixelRatio ||\n",
       "\tthis.context.backingStorePixelRatio || 1;\n",
       "\n",
       "    mpl.ratio = (window.devicePixelRatio || 1) / backingStore;\n",
       "\n",
       "    var rubberband = $('<canvas/>');\n",
       "    rubberband.attr('style', \"position: absolute; left: 0; top: 0; z-index: 1;\")\n",
       "\n",
       "    var pass_mouse_events = true;\n",
       "\n",
       "    canvas_div.resizable({\n",
       "        start: function(event, ui) {\n",
       "            pass_mouse_events = false;\n",
       "        },\n",
       "        resize: function(event, ui) {\n",
       "            fig.request_resize(ui.size.width, ui.size.height);\n",
       "        },\n",
       "        stop: function(event, ui) {\n",
       "            pass_mouse_events = true;\n",
       "            fig.request_resize(ui.size.width, ui.size.height);\n",
       "        },\n",
       "    });\n",
       "\n",
       "    function mouse_event_fn(event) {\n",
       "        if (pass_mouse_events)\n",
       "            return fig.mouse_event(event, event['data']);\n",
       "    }\n",
       "\n",
       "    rubberband.mousedown('button_press', mouse_event_fn);\n",
       "    rubberband.mouseup('button_release', mouse_event_fn);\n",
       "    // Throttle sequential mouse events to 1 every 20ms.\n",
       "    rubberband.mousemove('motion_notify', mouse_event_fn);\n",
       "\n",
       "    rubberband.mouseenter('figure_enter', mouse_event_fn);\n",
       "    rubberband.mouseleave('figure_leave', mouse_event_fn);\n",
       "\n",
       "    canvas_div.on(\"wheel\", function (event) {\n",
       "        event = event.originalEvent;\n",
       "        event['data'] = 'scroll'\n",
       "        if (event.deltaY < 0) {\n",
       "            event.step = 1;\n",
       "        } else {\n",
       "            event.step = -1;\n",
       "        }\n",
       "        mouse_event_fn(event);\n",
       "    });\n",
       "\n",
       "    canvas_div.append(canvas);\n",
       "    canvas_div.append(rubberband);\n",
       "\n",
       "    this.rubberband = rubberband;\n",
       "    this.rubberband_canvas = rubberband[0];\n",
       "    this.rubberband_context = rubberband[0].getContext(\"2d\");\n",
       "    this.rubberband_context.strokeStyle = \"#000000\";\n",
       "\n",
       "    this._resize_canvas = function(width, height) {\n",
       "        // Keep the size of the canvas, canvas container, and rubber band\n",
       "        // canvas in synch.\n",
       "        canvas_div.css('width', width)\n",
       "        canvas_div.css('height', height)\n",
       "\n",
       "        canvas.attr('width', width * mpl.ratio);\n",
       "        canvas.attr('height', height * mpl.ratio);\n",
       "        canvas.attr('style', 'width: ' + width + 'px; height: ' + height + 'px;');\n",
       "\n",
       "        rubberband.attr('width', width);\n",
       "        rubberband.attr('height', height);\n",
       "    }\n",
       "\n",
       "    // Set the figure to an initial 600x600px, this will subsequently be updated\n",
       "    // upon first draw.\n",
       "    this._resize_canvas(600, 600);\n",
       "\n",
       "    // Disable right mouse context menu.\n",
       "    $(this.rubberband_canvas).bind(\"contextmenu\",function(e){\n",
       "        return false;\n",
       "    });\n",
       "\n",
       "    function set_focus () {\n",
       "        canvas.focus();\n",
       "        canvas_div.focus();\n",
       "    }\n",
       "\n",
       "    window.setTimeout(set_focus, 100);\n",
       "}\n",
       "\n",
       "mpl.figure.prototype._init_toolbar = function() {\n",
       "    var fig = this;\n",
       "\n",
       "    var nav_element = $('<div/>');\n",
       "    nav_element.attr('style', 'width: 100%');\n",
       "    this.root.append(nav_element);\n",
       "\n",
       "    // Define a callback function for later on.\n",
       "    function toolbar_event(event) {\n",
       "        return fig.toolbar_button_onclick(event['data']);\n",
       "    }\n",
       "    function toolbar_mouse_event(event) {\n",
       "        return fig.toolbar_button_onmouseover(event['data']);\n",
       "    }\n",
       "\n",
       "    for(var toolbar_ind in mpl.toolbar_items) {\n",
       "        var name = mpl.toolbar_items[toolbar_ind][0];\n",
       "        var tooltip = mpl.toolbar_items[toolbar_ind][1];\n",
       "        var image = mpl.toolbar_items[toolbar_ind][2];\n",
       "        var method_name = mpl.toolbar_items[toolbar_ind][3];\n",
       "\n",
       "        if (!name) {\n",
       "            // put a spacer in here.\n",
       "            continue;\n",
       "        }\n",
       "        var button = $('<button/>');\n",
       "        button.addClass('ui-button ui-widget ui-state-default ui-corner-all ' +\n",
       "                        'ui-button-icon-only');\n",
       "        button.attr('role', 'button');\n",
       "        button.attr('aria-disabled', 'false');\n",
       "        button.click(method_name, toolbar_event);\n",
       "        button.mouseover(tooltip, toolbar_mouse_event);\n",
       "\n",
       "        var icon_img = $('<span/>');\n",
       "        icon_img.addClass('ui-button-icon-primary ui-icon');\n",
       "        icon_img.addClass(image);\n",
       "        icon_img.addClass('ui-corner-all');\n",
       "\n",
       "        var tooltip_span = $('<span/>');\n",
       "        tooltip_span.addClass('ui-button-text');\n",
       "        tooltip_span.html(tooltip);\n",
       "\n",
       "        button.append(icon_img);\n",
       "        button.append(tooltip_span);\n",
       "\n",
       "        nav_element.append(button);\n",
       "    }\n",
       "\n",
       "    var fmt_picker_span = $('<span/>');\n",
       "\n",
       "    var fmt_picker = $('<select/>');\n",
       "    fmt_picker.addClass('mpl-toolbar-option ui-widget ui-widget-content');\n",
       "    fmt_picker_span.append(fmt_picker);\n",
       "    nav_element.append(fmt_picker_span);\n",
       "    this.format_dropdown = fmt_picker[0];\n",
       "\n",
       "    for (var ind in mpl.extensions) {\n",
       "        var fmt = mpl.extensions[ind];\n",
       "        var option = $(\n",
       "            '<option/>', {selected: fmt === mpl.default_extension}).html(fmt);\n",
       "        fmt_picker.append(option);\n",
       "    }\n",
       "\n",
       "    // Add hover states to the ui-buttons\n",
       "    $( \".ui-button\" ).hover(\n",
       "        function() { $(this).addClass(\"ui-state-hover\");},\n",
       "        function() { $(this).removeClass(\"ui-state-hover\");}\n",
       "    );\n",
       "\n",
       "    var status_bar = $('<span class=\"mpl-message\"/>');\n",
       "    nav_element.append(status_bar);\n",
       "    this.message = status_bar[0];\n",
       "}\n",
       "\n",
       "mpl.figure.prototype.request_resize = function(x_pixels, y_pixels) {\n",
       "    // Request matplotlib to resize the figure. Matplotlib will then trigger a resize in the client,\n",
       "    // which will in turn request a refresh of the image.\n",
       "    this.send_message('resize', {'width': x_pixels, 'height': y_pixels});\n",
       "}\n",
       "\n",
       "mpl.figure.prototype.send_message = function(type, properties) {\n",
       "    properties['type'] = type;\n",
       "    properties['figure_id'] = this.id;\n",
       "    this.ws.send(JSON.stringify(properties));\n",
       "}\n",
       "\n",
       "mpl.figure.prototype.send_draw_message = function() {\n",
       "    if (!this.waiting) {\n",
       "        this.waiting = true;\n",
       "        this.ws.send(JSON.stringify({type: \"draw\", figure_id: this.id}));\n",
       "    }\n",
       "}\n",
       "\n",
       "\n",
       "mpl.figure.prototype.handle_save = function(fig, msg) {\n",
       "    var format_dropdown = fig.format_dropdown;\n",
       "    var format = format_dropdown.options[format_dropdown.selectedIndex].value;\n",
       "    fig.ondownload(fig, format);\n",
       "}\n",
       "\n",
       "\n",
       "mpl.figure.prototype.handle_resize = function(fig, msg) {\n",
       "    var size = msg['size'];\n",
       "    if (size[0] != fig.canvas.width || size[1] != fig.canvas.height) {\n",
       "        fig._resize_canvas(size[0], size[1]);\n",
       "        fig.send_message(\"refresh\", {});\n",
       "    };\n",
       "}\n",
       "\n",
       "mpl.figure.prototype.handle_rubberband = function(fig, msg) {\n",
       "    var x0 = msg['x0'] / mpl.ratio;\n",
       "    var y0 = (fig.canvas.height - msg['y0']) / mpl.ratio;\n",
       "    var x1 = msg['x1'] / mpl.ratio;\n",
       "    var y1 = (fig.canvas.height - msg['y1']) / mpl.ratio;\n",
       "    x0 = Math.floor(x0) + 0.5;\n",
       "    y0 = Math.floor(y0) + 0.5;\n",
       "    x1 = Math.floor(x1) + 0.5;\n",
       "    y1 = Math.floor(y1) + 0.5;\n",
       "    var min_x = Math.min(x0, x1);\n",
       "    var min_y = Math.min(y0, y1);\n",
       "    var width = Math.abs(x1 - x0);\n",
       "    var height = Math.abs(y1 - y0);\n",
       "\n",
       "    fig.rubberband_context.clearRect(\n",
       "        0, 0, fig.canvas.width / mpl.ratio, fig.canvas.height / mpl.ratio);\n",
       "\n",
       "    fig.rubberband_context.strokeRect(min_x, min_y, width, height);\n",
       "}\n",
       "\n",
       "mpl.figure.prototype.handle_figure_label = function(fig, msg) {\n",
       "    // Updates the figure title.\n",
       "    fig.header.textContent = msg['label'];\n",
       "}\n",
       "\n",
       "mpl.figure.prototype.handle_cursor = function(fig, msg) {\n",
       "    var cursor = msg['cursor'];\n",
       "    switch(cursor)\n",
       "    {\n",
       "    case 0:\n",
       "        cursor = 'pointer';\n",
       "        break;\n",
       "    case 1:\n",
       "        cursor = 'default';\n",
       "        break;\n",
       "    case 2:\n",
       "        cursor = 'crosshair';\n",
       "        break;\n",
       "    case 3:\n",
       "        cursor = 'move';\n",
       "        break;\n",
       "    }\n",
       "    fig.rubberband_canvas.style.cursor = cursor;\n",
       "}\n",
       "\n",
       "mpl.figure.prototype.handle_message = function(fig, msg) {\n",
       "    fig.message.textContent = msg['message'];\n",
       "}\n",
       "\n",
       "mpl.figure.prototype.handle_draw = function(fig, msg) {\n",
       "    // Request the server to send over a new figure.\n",
       "    fig.send_draw_message();\n",
       "}\n",
       "\n",
       "mpl.figure.prototype.handle_image_mode = function(fig, msg) {\n",
       "    fig.image_mode = msg['mode'];\n",
       "}\n",
       "\n",
       "mpl.figure.prototype.updated_canvas_event = function() {\n",
       "    // Called whenever the canvas gets updated.\n",
       "    this.send_message(\"ack\", {});\n",
       "}\n",
       "\n",
       "// A function to construct a web socket function for onmessage handling.\n",
       "// Called in the figure constructor.\n",
       "mpl.figure.prototype._make_on_message_function = function(fig) {\n",
       "    return function socket_on_message(evt) {\n",
       "        if (evt.data instanceof Blob) {\n",
       "            /* FIXME: We get \"Resource interpreted as Image but\n",
       "             * transferred with MIME type text/plain:\" errors on\n",
       "             * Chrome.  But how to set the MIME type?  It doesn't seem\n",
       "             * to be part of the websocket stream */\n",
       "            evt.data.type = \"image/png\";\n",
       "\n",
       "            /* Free the memory for the previous frames */\n",
       "            if (fig.imageObj.src) {\n",
       "                (window.URL || window.webkitURL).revokeObjectURL(\n",
       "                    fig.imageObj.src);\n",
       "            }\n",
       "\n",
       "            fig.imageObj.src = (window.URL || window.webkitURL).createObjectURL(\n",
       "                evt.data);\n",
       "            fig.updated_canvas_event();\n",
       "            fig.waiting = false;\n",
       "            return;\n",
       "        }\n",
       "        else if (typeof evt.data === 'string' && evt.data.slice(0, 21) == \"data:image/png;base64\") {\n",
       "            fig.imageObj.src = evt.data;\n",
       "            fig.updated_canvas_event();\n",
       "            fig.waiting = false;\n",
       "            return;\n",
       "        }\n",
       "\n",
       "        var msg = JSON.parse(evt.data);\n",
       "        var msg_type = msg['type'];\n",
       "\n",
       "        // Call the  \"handle_{type}\" callback, which takes\n",
       "        // the figure and JSON message as its only arguments.\n",
       "        try {\n",
       "            var callback = fig[\"handle_\" + msg_type];\n",
       "        } catch (e) {\n",
       "            console.log(\"No handler for the '\" + msg_type + \"' message type: \", msg);\n",
       "            return;\n",
       "        }\n",
       "\n",
       "        if (callback) {\n",
       "            try {\n",
       "                // console.log(\"Handling '\" + msg_type + \"' message: \", msg);\n",
       "                callback(fig, msg);\n",
       "            } catch (e) {\n",
       "                console.log(\"Exception inside the 'handler_\" + msg_type + \"' callback:\", e, e.stack, msg);\n",
       "            }\n",
       "        }\n",
       "    };\n",
       "}\n",
       "\n",
       "// from http://stackoverflow.com/questions/1114465/getting-mouse-location-in-canvas\n",
       "mpl.findpos = function(e) {\n",
       "    //this section is from http://www.quirksmode.org/js/events_properties.html\n",
       "    var targ;\n",
       "    if (!e)\n",
       "        e = window.event;\n",
       "    if (e.target)\n",
       "        targ = e.target;\n",
       "    else if (e.srcElement)\n",
       "        targ = e.srcElement;\n",
       "    if (targ.nodeType == 3) // defeat Safari bug\n",
       "        targ = targ.parentNode;\n",
       "\n",
       "    // jQuery normalizes the pageX and pageY\n",
       "    // pageX,Y are the mouse positions relative to the document\n",
       "    // offset() returns the position of the element relative to the document\n",
       "    var x = e.pageX - $(targ).offset().left;\n",
       "    var y = e.pageY - $(targ).offset().top;\n",
       "\n",
       "    return {\"x\": x, \"y\": y};\n",
       "};\n",
       "\n",
       "/*\n",
       " * return a copy of an object with only non-object keys\n",
       " * we need this to avoid circular references\n",
       " * http://stackoverflow.com/a/24161582/3208463\n",
       " */\n",
       "function simpleKeys (original) {\n",
       "  return Object.keys(original).reduce(function (obj, key) {\n",
       "    if (typeof original[key] !== 'object')\n",
       "        obj[key] = original[key]\n",
       "    return obj;\n",
       "  }, {});\n",
       "}\n",
       "\n",
       "mpl.figure.prototype.mouse_event = function(event, name) {\n",
       "    var canvas_pos = mpl.findpos(event)\n",
       "\n",
       "    if (name === 'button_press')\n",
       "    {\n",
       "        this.canvas.focus();\n",
       "        this.canvas_div.focus();\n",
       "    }\n",
       "\n",
       "    var x = canvas_pos.x * mpl.ratio;\n",
       "    var y = canvas_pos.y * mpl.ratio;\n",
       "\n",
       "    this.send_message(name, {x: x, y: y, button: event.button,\n",
       "                             step: event.step,\n",
       "                             guiEvent: simpleKeys(event)});\n",
       "\n",
       "    /* This prevents the web browser from automatically changing to\n",
       "     * the text insertion cursor when the button is pressed.  We want\n",
       "     * to control all of the cursor setting manually through the\n",
       "     * 'cursor' event from matplotlib */\n",
       "    event.preventDefault();\n",
       "    return false;\n",
       "}\n",
       "\n",
       "mpl.figure.prototype._key_event_extra = function(event, name) {\n",
       "    // Handle any extra behaviour associated with a key event\n",
       "}\n",
       "\n",
       "mpl.figure.prototype.key_event = function(event, name) {\n",
       "\n",
       "    // Prevent repeat events\n",
       "    if (name == 'key_press')\n",
       "    {\n",
       "        if (event.which === this._key)\n",
       "            return;\n",
       "        else\n",
       "            this._key = event.which;\n",
       "    }\n",
       "    if (name == 'key_release')\n",
       "        this._key = null;\n",
       "\n",
       "    var value = '';\n",
       "    if (event.ctrlKey && event.which != 17)\n",
       "        value += \"ctrl+\";\n",
       "    if (event.altKey && event.which != 18)\n",
       "        value += \"alt+\";\n",
       "    if (event.shiftKey && event.which != 16)\n",
       "        value += \"shift+\";\n",
       "\n",
       "    value += 'k';\n",
       "    value += event.which.toString();\n",
       "\n",
       "    this._key_event_extra(event, name);\n",
       "\n",
       "    this.send_message(name, {key: value,\n",
       "                             guiEvent: simpleKeys(event)});\n",
       "    return false;\n",
       "}\n",
       "\n",
       "mpl.figure.prototype.toolbar_button_onclick = function(name) {\n",
       "    if (name == 'download') {\n",
       "        this.handle_save(this, null);\n",
       "    } else {\n",
       "        this.send_message(\"toolbar_button\", {name: name});\n",
       "    }\n",
       "};\n",
       "\n",
       "mpl.figure.prototype.toolbar_button_onmouseover = function(tooltip) {\n",
       "    this.message.textContent = tooltip;\n",
       "};\n",
       "mpl.toolbar_items = [[\"Home\", \"Reset original view\", \"fa fa-home icon-home\", \"home\"], [\"Back\", \"Back to previous view\", \"fa fa-arrow-left icon-arrow-left\", \"back\"], [\"Forward\", \"Forward to next view\", \"fa fa-arrow-right icon-arrow-right\", \"forward\"], [\"\", \"\", \"\", \"\"], [\"Pan\", \"Pan axes with left mouse, zoom with right\", \"fa fa-arrows icon-move\", \"pan\"], [\"Zoom\", \"Zoom to rectangle\", \"fa fa-square-o icon-check-empty\", \"zoom\"], [\"\", \"\", \"\", \"\"], [\"Download\", \"Download plot\", \"fa fa-floppy-o icon-save\", \"download\"]];\n",
       "\n",
       "mpl.extensions = [\"eps\", \"jpeg\", \"pdf\", \"png\", \"ps\", \"raw\", \"svg\", \"tif\"];\n",
       "\n",
       "mpl.default_extension = \"png\";var comm_websocket_adapter = function(comm) {\n",
       "    // Create a \"websocket\"-like object which calls the given IPython comm\n",
       "    // object with the appropriate methods. Currently this is a non binary\n",
       "    // socket, so there is still some room for performance tuning.\n",
       "    var ws = {};\n",
       "\n",
       "    ws.close = function() {\n",
       "        comm.close()\n",
       "    };\n",
       "    ws.send = function(m) {\n",
       "        //console.log('sending', m);\n",
       "        comm.send(m);\n",
       "    };\n",
       "    // Register the callback with on_msg.\n",
       "    comm.on_msg(function(msg) {\n",
       "        //console.log('receiving', msg['content']['data'], msg);\n",
       "        // Pass the mpl event to the overridden (by mpl) onmessage function.\n",
       "        ws.onmessage(msg['content']['data'])\n",
       "    });\n",
       "    return ws;\n",
       "}\n",
       "\n",
       "mpl.mpl_figure_comm = function(comm, msg) {\n",
       "    // This is the function which gets called when the mpl process\n",
       "    // starts-up an IPython Comm through the \"matplotlib\" channel.\n",
       "\n",
       "    var id = msg.content.data.id;\n",
       "    // Get hold of the div created by the display call when the Comm\n",
       "    // socket was opened in Python.\n",
       "    var element = $(\"#\" + id);\n",
       "    var ws_proxy = comm_websocket_adapter(comm)\n",
       "\n",
       "    function ondownload(figure, format) {\n",
       "        window.open(figure.imageObj.src);\n",
       "    }\n",
       "\n",
       "    var fig = new mpl.figure(id, ws_proxy,\n",
       "                           ondownload,\n",
       "                           element.get(0));\n",
       "\n",
       "    // Call onopen now - mpl needs it, as it is assuming we've passed it a real\n",
       "    // web socket which is closed, not our websocket->open comm proxy.\n",
       "    ws_proxy.onopen();\n",
       "\n",
       "    fig.parent_element = element.get(0);\n",
       "    fig.cell_info = mpl.find_output_cell(\"<div id='\" + id + \"'></div>\");\n",
       "    if (!fig.cell_info) {\n",
       "        console.error(\"Failed to find cell for figure\", id, fig);\n",
       "        return;\n",
       "    }\n",
       "\n",
       "    var output_index = fig.cell_info[2]\n",
       "    var cell = fig.cell_info[0];\n",
       "\n",
       "};\n",
       "\n",
       "mpl.figure.prototype.handle_close = function(fig, msg) {\n",
       "    var width = fig.canvas.width/mpl.ratio\n",
       "    fig.root.unbind('remove')\n",
       "\n",
       "    // Update the output cell to use the data from the current canvas.\n",
       "    fig.push_to_output();\n",
       "    var dataURL = fig.canvas.toDataURL();\n",
       "    // Re-enable the keyboard manager in IPython - without this line, in FF,\n",
       "    // the notebook keyboard shortcuts fail.\n",
       "    IPython.keyboard_manager.enable()\n",
       "    $(fig.parent_element).html('<img src=\"' + dataURL + '\" width=\"' + width + '\">');\n",
       "    fig.close_ws(fig, msg);\n",
       "}\n",
       "\n",
       "mpl.figure.prototype.close_ws = function(fig, msg){\n",
       "    fig.send_message('closing', msg);\n",
       "    // fig.ws.close()\n",
       "}\n",
       "\n",
       "mpl.figure.prototype.push_to_output = function(remove_interactive) {\n",
       "    // Turn the data on the canvas into data in the output cell.\n",
       "    var width = this.canvas.width/mpl.ratio\n",
       "    var dataURL = this.canvas.toDataURL();\n",
       "    this.cell_info[1]['text/html'] = '<img src=\"' + dataURL + '\" width=\"' + width + '\">';\n",
       "}\n",
       "\n",
       "mpl.figure.prototype.updated_canvas_event = function() {\n",
       "    // Tell IPython that the notebook contents must change.\n",
       "    IPython.notebook.set_dirty(true);\n",
       "    this.send_message(\"ack\", {});\n",
       "    var fig = this;\n",
       "    // Wait a second, then push the new image to the DOM so\n",
       "    // that it is saved nicely (might be nice to debounce this).\n",
       "    setTimeout(function () { fig.push_to_output() }, 1000);\n",
       "}\n",
       "\n",
       "mpl.figure.prototype._init_toolbar = function() {\n",
       "    var fig = this;\n",
       "\n",
       "    var nav_element = $('<div/>');\n",
       "    nav_element.attr('style', 'width: 100%');\n",
       "    this.root.append(nav_element);\n",
       "\n",
       "    // Define a callback function for later on.\n",
       "    function toolbar_event(event) {\n",
       "        return fig.toolbar_button_onclick(event['data']);\n",
       "    }\n",
       "    function toolbar_mouse_event(event) {\n",
       "        return fig.toolbar_button_onmouseover(event['data']);\n",
       "    }\n",
       "\n",
       "    for(var toolbar_ind in mpl.toolbar_items){\n",
       "        var name = mpl.toolbar_items[toolbar_ind][0];\n",
       "        var tooltip = mpl.toolbar_items[toolbar_ind][1];\n",
       "        var image = mpl.toolbar_items[toolbar_ind][2];\n",
       "        var method_name = mpl.toolbar_items[toolbar_ind][3];\n",
       "\n",
       "        if (!name) { continue; };\n",
       "\n",
       "        var button = $('<button class=\"btn btn-default\" href=\"#\" title=\"' + name + '\"><i class=\"fa ' + image + ' fa-lg\"></i></button>');\n",
       "        button.click(method_name, toolbar_event);\n",
       "        button.mouseover(tooltip, toolbar_mouse_event);\n",
       "        nav_element.append(button);\n",
       "    }\n",
       "\n",
       "    // Add the status bar.\n",
       "    var status_bar = $('<span class=\"mpl-message\" style=\"text-align:right; float: right;\"/>');\n",
       "    nav_element.append(status_bar);\n",
       "    this.message = status_bar[0];\n",
       "\n",
       "    // Add the close button to the window.\n",
       "    var buttongrp = $('<div class=\"btn-group inline pull-right\"></div>');\n",
       "    var button = $('<button class=\"btn btn-mini btn-primary\" href=\"#\" title=\"Stop Interaction\"><i class=\"fa fa-power-off icon-remove icon-large\"></i></button>');\n",
       "    button.click(function (evt) { fig.handle_close(fig, {}); } );\n",
       "    button.mouseover('Stop Interaction', toolbar_mouse_event);\n",
       "    buttongrp.append(button);\n",
       "    var titlebar = this.root.find($('.ui-dialog-titlebar'));\n",
       "    titlebar.prepend(buttongrp);\n",
       "}\n",
       "\n",
       "mpl.figure.prototype._root_extra_style = function(el){\n",
       "    var fig = this\n",
       "    el.on(\"remove\", function(){\n",
       "\tfig.close_ws(fig, {});\n",
       "    });\n",
       "}\n",
       "\n",
       "mpl.figure.prototype._canvas_extra_style = function(el){\n",
       "    // this is important to make the div 'focusable\n",
       "    el.attr('tabindex', 0)\n",
       "    // reach out to IPython and tell the keyboard manager to turn it's self\n",
       "    // off when our div gets focus\n",
       "\n",
       "    // location in version 3\n",
       "    if (IPython.notebook.keyboard_manager) {\n",
       "        IPython.notebook.keyboard_manager.register_events(el);\n",
       "    }\n",
       "    else {\n",
       "        // location in version 2\n",
       "        IPython.keyboard_manager.register_events(el);\n",
       "    }\n",
       "\n",
       "}\n",
       "\n",
       "mpl.figure.prototype._key_event_extra = function(event, name) {\n",
       "    var manager = IPython.notebook.keyboard_manager;\n",
       "    if (!manager)\n",
       "        manager = IPython.keyboard_manager;\n",
       "\n",
       "    // Check for shift+enter\n",
       "    if (event.shiftKey && event.which == 13) {\n",
       "        this.canvas_div.blur();\n",
       "        // select the cell after this one\n",
       "        var index = IPython.notebook.find_cell_index(this.cell_info[0]);\n",
       "        IPython.notebook.select(index + 1);\n",
       "    }\n",
       "}\n",
       "\n",
       "mpl.figure.prototype.handle_save = function(fig, msg) {\n",
       "    fig.ondownload(fig, null);\n",
       "}\n",
       "\n",
       "\n",
       "mpl.find_output_cell = function(html_output) {\n",
       "    // Return the cell and output element which can be found *uniquely* in the notebook.\n",
       "    // Note - this is a bit hacky, but it is done because the \"notebook_saving.Notebook\"\n",
       "    // IPython event is triggered only after the cells have been serialised, which for\n",
       "    // our purposes (turning an active figure into a static one), is too late.\n",
       "    var cells = IPython.notebook.get_cells();\n",
       "    var ncells = cells.length;\n",
       "    for (var i=0; i<ncells; i++) {\n",
       "        var cell = cells[i];\n",
       "        if (cell.cell_type === 'code'){\n",
       "            for (var j=0; j<cell.output_area.outputs.length; j++) {\n",
       "                var data = cell.output_area.outputs[j];\n",
       "                if (data.data) {\n",
       "                    // IPython >= 3 moved mimebundle to data attribute of output\n",
       "                    data = data.data;\n",
       "                }\n",
       "                if (data['text/html'] == html_output) {\n",
       "                    return [cell, data, j];\n",
       "                }\n",
       "            }\n",
       "        }\n",
       "    }\n",
       "}\n",
       "\n",
       "// Register the function which deals with the matplotlib target/channel.\n",
       "// The kernel may be null if the page has been refreshed.\n",
       "if (IPython.notebook.kernel != null) {\n",
       "    IPython.notebook.kernel.comm_manager.register_target('matplotlib', mpl.mpl_figure_comm);\n",
       "}\n"
      ],
      "text/plain": [
       "<IPython.core.display.Javascript object>"
      ]
     },
     "metadata": {},
     "output_type": "display_data"
    },
    {
     "data": {
      "text/html": [
       "<img src=\"data:image/png;base64,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\" width=\"640\">"
      ],
      "text/plain": [
       "<IPython.core.display.HTML object>"
      ]
     },
     "metadata": {},
     "output_type": "display_data"
    },
    {
     "data": {
      "text/plain": [
       "<matplotlib.image.AxesImage at 0x7f1564a26438>"
      ]
     },
     "execution_count": 30,
     "metadata": {},
     "output_type": "execute_result"
    }
   ],
   "source": [
    "plt.figure()\n",
    "\n",
    "plt.imshow(features.get_K(ss=20))"
   ]
  },
  {
   "cell_type": "code",
   "execution_count": 31,
   "metadata": {},
   "outputs": [],
   "source": [
    "model_kgr = KGR(gamma= 0.0037, K_std=20, filter_func='sigmoid', beta=62).set_laplacian(laplacian).set_data(features, targets['Ozone'])"
   ]
  },
  {
   "cell_type": "code",
   "execution_count": 34,
   "metadata": {},
   "outputs": [
    {
     "data": {
      "application/vnd.jupyter.widget-view+json": {
       "model_id": "",
       "version_major": 2,
       "version_minor": 0
      },
      "text/plain": [
       "HBox(children=(HTML(value=''), FloatProgress(value=0.0, max=9.0), HTML(value='')))"
      ]
     },
     "metadata": {},
     "output_type": "display_data"
    },
    {
     "data": {
      "application/vnd.jupyter.widget-view+json": {
       "model_id": "",
       "version_major": 2,
       "version_minor": 0
      },
      "text/plain": [
       "HBox(children=(HTML(value=''), FloatProgress(value=0.0, max=50.0), HTML(value='')))"
      ]
     },
     "metadata": {},
     "output_type": "display_data"
    },
    {
     "data": {
      "application/vnd.jupyter.widget-view+json": {
       "model_id": "",
       "version_major": 2,
       "version_minor": 0
      },
      "text/plain": [
       "HBox(children=(HTML(value=''), FloatProgress(value=0.0, max=50.0), HTML(value='')))"
      ]
     },
     "metadata": {},
     "output_type": "display_data"
    },
    {
     "data": {
      "application/vnd.jupyter.widget-view+json": {
       "model_id": "",
       "version_major": 2,
       "version_minor": 0
      },
      "text/plain": [
       "HBox(children=(HTML(value=''), FloatProgress(value=0.0, max=50.0), HTML(value='')))"
      ]
     },
     "metadata": {},
     "output_type": "display_data"
    },
    {
     "data": {
      "application/vnd.jupyter.widget-view+json": {
       "model_id": "",
       "version_major": 2,
       "version_minor": 0
      },
      "text/plain": [
       "HBox(children=(HTML(value=''), FloatProgress(value=0.0, max=50.0), HTML(value='')))"
      ]
     },
     "metadata": {},
     "output_type": "display_data"
    },
    {
     "data": {
      "application/vnd.jupyter.widget-view+json": {
       "model_id": "",
       "version_major": 2,
       "version_minor": 0
      },
      "text/plain": [
       "HBox(children=(HTML(value=''), FloatProgress(value=0.0, max=50.0), HTML(value='')))"
      ]
     },
     "metadata": {},
     "output_type": "display_data"
    },
    {
     "data": {
      "application/vnd.jupyter.widget-view+json": {
       "model_id": "",
       "version_major": 2,
       "version_minor": 0
      },
      "text/plain": [
       "HBox(children=(HTML(value=''), FloatProgress(value=0.0, max=50.0), HTML(value='')))"
      ]
     },
     "metadata": {},
     "output_type": "display_data"
    },
    {
     "data": {
      "application/vnd.jupyter.widget-view+json": {
       "model_id": "",
       "version_major": 2,
       "version_minor": 0
      },
      "text/plain": [
       "HBox(children=(HTML(value=''), FloatProgress(value=0.0, max=50.0), HTML(value='')))"
      ]
     },
     "metadata": {},
     "output_type": "display_data"
    },
    {
     "data": {
      "application/vnd.jupyter.widget-view+json": {
       "model_id": "",
       "version_major": 2,
       "version_minor": 0
      },
      "text/plain": [
       "HBox(children=(HTML(value=''), FloatProgress(value=0.0, max=50.0), HTML(value='')))"
      ]
     },
     "metadata": {},
     "output_type": "display_data"
    },
    {
     "data": {
      "application/vnd.jupyter.widget-view+json": {
       "model_id": "",
       "version_major": 2,
       "version_minor": 0
      },
      "text/plain": [
       "HBox(children=(HTML(value=''), FloatProgress(value=0.0, max=50.0), HTML(value='')))"
      ]
     },
     "metadata": {},
     "output_type": "display_data"
    },
    {
     "data": {
      "text/plain": [
       "({'gamma': 0.05179474679231213,\n",
       "  'K_std': 12.648552168552959,\n",
       "  'filter_func': 'sigmoid',\n",
       "  'beta': 5.963623316594643},\n",
       " 0.6111765405919927)"
      ]
     },
     "execution_count": 34,
     "metadata": {},
     "output_type": "execute_result"
    }
   ],
   "source": [
    "model_kgr.optimize()"
   ]
  },
  {
   "cell_type": "code",
   "execution_count": 36,
   "metadata": {},
   "outputs": [],
   "source": [
    "model_kgr = KGR(**{'gamma': 0.05179474679231213,\n",
    "  'K_std': 12.648552168552959,\n",
    "  'filter_func': 'sigmoid',\n",
    "  'beta': 5.963623316594643}).set_laplacian(laplacian).set_data(features, targets['Ozone'])"
   ]
  },
  {
   "cell_type": "code",
   "execution_count": 37,
   "metadata": {
    "scrolled": false
   },
   "outputs": [
    {
     "data": {
      "application/javascript": [
       "/* Put everything inside the global mpl namespace */\n",
       "window.mpl = {};\n",
       "\n",
       "\n",
       "mpl.get_websocket_type = function() {\n",
       "    if (typeof(WebSocket) !== 'undefined') {\n",
       "        return WebSocket;\n",
       "    } else if (typeof(MozWebSocket) !== 'undefined') {\n",
       "        return MozWebSocket;\n",
       "    } else {\n",
       "        alert('Your browser does not have WebSocket support. ' +\n",
       "              'Please try Chrome, Safari or Firefox ≥ 6. ' +\n",
       "              'Firefox 4 and 5 are also supported but you ' +\n",
       "              'have to enable WebSockets in about:config.');\n",
       "    };\n",
       "}\n",
       "\n",
       "mpl.figure = function(figure_id, websocket, ondownload, parent_element) {\n",
       "    this.id = figure_id;\n",
       "\n",
       "    this.ws = websocket;\n",
       "\n",
       "    this.supports_binary = (this.ws.binaryType != undefined);\n",
       "\n",
       "    if (!this.supports_binary) {\n",
       "        var warnings = document.getElementById(\"mpl-warnings\");\n",
       "        if (warnings) {\n",
       "            warnings.style.display = 'block';\n",
       "            warnings.textContent = (\n",
       "                \"This browser does not support binary websocket messages. \" +\n",
       "                    \"Performance may be slow.\");\n",
       "        }\n",
       "    }\n",
       "\n",
       "    this.imageObj = new Image();\n",
       "\n",
       "    this.context = undefined;\n",
       "    this.message = undefined;\n",
       "    this.canvas = undefined;\n",
       "    this.rubberband_canvas = undefined;\n",
       "    this.rubberband_context = undefined;\n",
       "    this.format_dropdown = undefined;\n",
       "\n",
       "    this.image_mode = 'full';\n",
       "\n",
       "    this.root = $('<div/>');\n",
       "    this._root_extra_style(this.root)\n",
       "    this.root.attr('style', 'display: inline-block');\n",
       "\n",
       "    $(parent_element).append(this.root);\n",
       "\n",
       "    this._init_header(this);\n",
       "    this._init_canvas(this);\n",
       "    this._init_toolbar(this);\n",
       "\n",
       "    var fig = this;\n",
       "\n",
       "    this.waiting = false;\n",
       "\n",
       "    this.ws.onopen =  function () {\n",
       "            fig.send_message(\"supports_binary\", {value: fig.supports_binary});\n",
       "            fig.send_message(\"send_image_mode\", {});\n",
       "            if (mpl.ratio != 1) {\n",
       "                fig.send_message(\"set_dpi_ratio\", {'dpi_ratio': mpl.ratio});\n",
       "            }\n",
       "            fig.send_message(\"refresh\", {});\n",
       "        }\n",
       "\n",
       "    this.imageObj.onload = function() {\n",
       "            if (fig.image_mode == 'full') {\n",
       "                // Full images could contain transparency (where diff images\n",
       "                // almost always do), so we need to clear the canvas so that\n",
       "                // there is no ghosting.\n",
       "                fig.context.clearRect(0, 0, fig.canvas.width, fig.canvas.height);\n",
       "            }\n",
       "            fig.context.drawImage(fig.imageObj, 0, 0);\n",
       "        };\n",
       "\n",
       "    this.imageObj.onunload = function() {\n",
       "        fig.ws.close();\n",
       "    }\n",
       "\n",
       "    this.ws.onmessage = this._make_on_message_function(this);\n",
       "\n",
       "    this.ondownload = ondownload;\n",
       "}\n",
       "\n",
       "mpl.figure.prototype._init_header = function() {\n",
       "    var titlebar = $(\n",
       "        '<div class=\"ui-dialog-titlebar ui-widget-header ui-corner-all ' +\n",
       "        'ui-helper-clearfix\"/>');\n",
       "    var titletext = $(\n",
       "        '<div class=\"ui-dialog-title\" style=\"width: 100%; ' +\n",
       "        'text-align: center; padding: 3px;\"/>');\n",
       "    titlebar.append(titletext)\n",
       "    this.root.append(titlebar);\n",
       "    this.header = titletext[0];\n",
       "}\n",
       "\n",
       "\n",
       "\n",
       "mpl.figure.prototype._canvas_extra_style = function(canvas_div) {\n",
       "\n",
       "}\n",
       "\n",
       "\n",
       "mpl.figure.prototype._root_extra_style = function(canvas_div) {\n",
       "\n",
       "}\n",
       "\n",
       "mpl.figure.prototype._init_canvas = function() {\n",
       "    var fig = this;\n",
       "\n",
       "    var canvas_div = $('<div/>');\n",
       "\n",
       "    canvas_div.attr('style', 'position: relative; clear: both; outline: 0');\n",
       "\n",
       "    function canvas_keyboard_event(event) {\n",
       "        return fig.key_event(event, event['data']);\n",
       "    }\n",
       "\n",
       "    canvas_div.keydown('key_press', canvas_keyboard_event);\n",
       "    canvas_div.keyup('key_release', canvas_keyboard_event);\n",
       "    this.canvas_div = canvas_div\n",
       "    this._canvas_extra_style(canvas_div)\n",
       "    this.root.append(canvas_div);\n",
       "\n",
       "    var canvas = $('<canvas/>');\n",
       "    canvas.addClass('mpl-canvas');\n",
       "    canvas.attr('style', \"left: 0; top: 0; z-index: 0; outline: 0\")\n",
       "\n",
       "    this.canvas = canvas[0];\n",
       "    this.context = canvas[0].getContext(\"2d\");\n",
       "\n",
       "    var backingStore = this.context.backingStorePixelRatio ||\n",
       "\tthis.context.webkitBackingStorePixelRatio ||\n",
       "\tthis.context.mozBackingStorePixelRatio ||\n",
       "\tthis.context.msBackingStorePixelRatio ||\n",
       "\tthis.context.oBackingStorePixelRatio ||\n",
       "\tthis.context.backingStorePixelRatio || 1;\n",
       "\n",
       "    mpl.ratio = (window.devicePixelRatio || 1) / backingStore;\n",
       "\n",
       "    var rubberband = $('<canvas/>');\n",
       "    rubberband.attr('style', \"position: absolute; left: 0; top: 0; z-index: 1;\")\n",
       "\n",
       "    var pass_mouse_events = true;\n",
       "\n",
       "    canvas_div.resizable({\n",
       "        start: function(event, ui) {\n",
       "            pass_mouse_events = false;\n",
       "        },\n",
       "        resize: function(event, ui) {\n",
       "            fig.request_resize(ui.size.width, ui.size.height);\n",
       "        },\n",
       "        stop: function(event, ui) {\n",
       "            pass_mouse_events = true;\n",
       "            fig.request_resize(ui.size.width, ui.size.height);\n",
       "        },\n",
       "    });\n",
       "\n",
       "    function mouse_event_fn(event) {\n",
       "        if (pass_mouse_events)\n",
       "            return fig.mouse_event(event, event['data']);\n",
       "    }\n",
       "\n",
       "    rubberband.mousedown('button_press', mouse_event_fn);\n",
       "    rubberband.mouseup('button_release', mouse_event_fn);\n",
       "    // Throttle sequential mouse events to 1 every 20ms.\n",
       "    rubberband.mousemove('motion_notify', mouse_event_fn);\n",
       "\n",
       "    rubberband.mouseenter('figure_enter', mouse_event_fn);\n",
       "    rubberband.mouseleave('figure_leave', mouse_event_fn);\n",
       "\n",
       "    canvas_div.on(\"wheel\", function (event) {\n",
       "        event = event.originalEvent;\n",
       "        event['data'] = 'scroll'\n",
       "        if (event.deltaY < 0) {\n",
       "            event.step = 1;\n",
       "        } else {\n",
       "            event.step = -1;\n",
       "        }\n",
       "        mouse_event_fn(event);\n",
       "    });\n",
       "\n",
       "    canvas_div.append(canvas);\n",
       "    canvas_div.append(rubberband);\n",
       "\n",
       "    this.rubberband = rubberband;\n",
       "    this.rubberband_canvas = rubberband[0];\n",
       "    this.rubberband_context = rubberband[0].getContext(\"2d\");\n",
       "    this.rubberband_context.strokeStyle = \"#000000\";\n",
       "\n",
       "    this._resize_canvas = function(width, height) {\n",
       "        // Keep the size of the canvas, canvas container, and rubber band\n",
       "        // canvas in synch.\n",
       "        canvas_div.css('width', width)\n",
       "        canvas_div.css('height', height)\n",
       "\n",
       "        canvas.attr('width', width * mpl.ratio);\n",
       "        canvas.attr('height', height * mpl.ratio);\n",
       "        canvas.attr('style', 'width: ' + width + 'px; height: ' + height + 'px;');\n",
       "\n",
       "        rubberband.attr('width', width);\n",
       "        rubberband.attr('height', height);\n",
       "    }\n",
       "\n",
       "    // Set the figure to an initial 600x600px, this will subsequently be updated\n",
       "    // upon first draw.\n",
       "    this._resize_canvas(600, 600);\n",
       "\n",
       "    // Disable right mouse context menu.\n",
       "    $(this.rubberband_canvas).bind(\"contextmenu\",function(e){\n",
       "        return false;\n",
       "    });\n",
       "\n",
       "    function set_focus () {\n",
       "        canvas.focus();\n",
       "        canvas_div.focus();\n",
       "    }\n",
       "\n",
       "    window.setTimeout(set_focus, 100);\n",
       "}\n",
       "\n",
       "mpl.figure.prototype._init_toolbar = function() {\n",
       "    var fig = this;\n",
       "\n",
       "    var nav_element = $('<div/>');\n",
       "    nav_element.attr('style', 'width: 100%');\n",
       "    this.root.append(nav_element);\n",
       "\n",
       "    // Define a callback function for later on.\n",
       "    function toolbar_event(event) {\n",
       "        return fig.toolbar_button_onclick(event['data']);\n",
       "    }\n",
       "    function toolbar_mouse_event(event) {\n",
       "        return fig.toolbar_button_onmouseover(event['data']);\n",
       "    }\n",
       "\n",
       "    for(var toolbar_ind in mpl.toolbar_items) {\n",
       "        var name = mpl.toolbar_items[toolbar_ind][0];\n",
       "        var tooltip = mpl.toolbar_items[toolbar_ind][1];\n",
       "        var image = mpl.toolbar_items[toolbar_ind][2];\n",
       "        var method_name = mpl.toolbar_items[toolbar_ind][3];\n",
       "\n",
       "        if (!name) {\n",
       "            // put a spacer in here.\n",
       "            continue;\n",
       "        }\n",
       "        var button = $('<button/>');\n",
       "        button.addClass('ui-button ui-widget ui-state-default ui-corner-all ' +\n",
       "                        'ui-button-icon-only');\n",
       "        button.attr('role', 'button');\n",
       "        button.attr('aria-disabled', 'false');\n",
       "        button.click(method_name, toolbar_event);\n",
       "        button.mouseover(tooltip, toolbar_mouse_event);\n",
       "\n",
       "        var icon_img = $('<span/>');\n",
       "        icon_img.addClass('ui-button-icon-primary ui-icon');\n",
       "        icon_img.addClass(image);\n",
       "        icon_img.addClass('ui-corner-all');\n",
       "\n",
       "        var tooltip_span = $('<span/>');\n",
       "        tooltip_span.addClass('ui-button-text');\n",
       "        tooltip_span.html(tooltip);\n",
       "\n",
       "        button.append(icon_img);\n",
       "        button.append(tooltip_span);\n",
       "\n",
       "        nav_element.append(button);\n",
       "    }\n",
       "\n",
       "    var fmt_picker_span = $('<span/>');\n",
       "\n",
       "    var fmt_picker = $('<select/>');\n",
       "    fmt_picker.addClass('mpl-toolbar-option ui-widget ui-widget-content');\n",
       "    fmt_picker_span.append(fmt_picker);\n",
       "    nav_element.append(fmt_picker_span);\n",
       "    this.format_dropdown = fmt_picker[0];\n",
       "\n",
       "    for (var ind in mpl.extensions) {\n",
       "        var fmt = mpl.extensions[ind];\n",
       "        var option = $(\n",
       "            '<option/>', {selected: fmt === mpl.default_extension}).html(fmt);\n",
       "        fmt_picker.append(option);\n",
       "    }\n",
       "\n",
       "    // Add hover states to the ui-buttons\n",
       "    $( \".ui-button\" ).hover(\n",
       "        function() { $(this).addClass(\"ui-state-hover\");},\n",
       "        function() { $(this).removeClass(\"ui-state-hover\");}\n",
       "    );\n",
       "\n",
       "    var status_bar = $('<span class=\"mpl-message\"/>');\n",
       "    nav_element.append(status_bar);\n",
       "    this.message = status_bar[0];\n",
       "}\n",
       "\n",
       "mpl.figure.prototype.request_resize = function(x_pixels, y_pixels) {\n",
       "    // Request matplotlib to resize the figure. Matplotlib will then trigger a resize in the client,\n",
       "    // which will in turn request a refresh of the image.\n",
       "    this.send_message('resize', {'width': x_pixels, 'height': y_pixels});\n",
       "}\n",
       "\n",
       "mpl.figure.prototype.send_message = function(type, properties) {\n",
       "    properties['type'] = type;\n",
       "    properties['figure_id'] = this.id;\n",
       "    this.ws.send(JSON.stringify(properties));\n",
       "}\n",
       "\n",
       "mpl.figure.prototype.send_draw_message = function() {\n",
       "    if (!this.waiting) {\n",
       "        this.waiting = true;\n",
       "        this.ws.send(JSON.stringify({type: \"draw\", figure_id: this.id}));\n",
       "    }\n",
       "}\n",
       "\n",
       "\n",
       "mpl.figure.prototype.handle_save = function(fig, msg) {\n",
       "    var format_dropdown = fig.format_dropdown;\n",
       "    var format = format_dropdown.options[format_dropdown.selectedIndex].value;\n",
       "    fig.ondownload(fig, format);\n",
       "}\n",
       "\n",
       "\n",
       "mpl.figure.prototype.handle_resize = function(fig, msg) {\n",
       "    var size = msg['size'];\n",
       "    if (size[0] != fig.canvas.width || size[1] != fig.canvas.height) {\n",
       "        fig._resize_canvas(size[0], size[1]);\n",
       "        fig.send_message(\"refresh\", {});\n",
       "    };\n",
       "}\n",
       "\n",
       "mpl.figure.prototype.handle_rubberband = function(fig, msg) {\n",
       "    var x0 = msg['x0'] / mpl.ratio;\n",
       "    var y0 = (fig.canvas.height - msg['y0']) / mpl.ratio;\n",
       "    var x1 = msg['x1'] / mpl.ratio;\n",
       "    var y1 = (fig.canvas.height - msg['y1']) / mpl.ratio;\n",
       "    x0 = Math.floor(x0) + 0.5;\n",
       "    y0 = Math.floor(y0) + 0.5;\n",
       "    x1 = Math.floor(x1) + 0.5;\n",
       "    y1 = Math.floor(y1) + 0.5;\n",
       "    var min_x = Math.min(x0, x1);\n",
       "    var min_y = Math.min(y0, y1);\n",
       "    var width = Math.abs(x1 - x0);\n",
       "    var height = Math.abs(y1 - y0);\n",
       "\n",
       "    fig.rubberband_context.clearRect(\n",
       "        0, 0, fig.canvas.width / mpl.ratio, fig.canvas.height / mpl.ratio);\n",
       "\n",
       "    fig.rubberband_context.strokeRect(min_x, min_y, width, height);\n",
       "}\n",
       "\n",
       "mpl.figure.prototype.handle_figure_label = function(fig, msg) {\n",
       "    // Updates the figure title.\n",
       "    fig.header.textContent = msg['label'];\n",
       "}\n",
       "\n",
       "mpl.figure.prototype.handle_cursor = function(fig, msg) {\n",
       "    var cursor = msg['cursor'];\n",
       "    switch(cursor)\n",
       "    {\n",
       "    case 0:\n",
       "        cursor = 'pointer';\n",
       "        break;\n",
       "    case 1:\n",
       "        cursor = 'default';\n",
       "        break;\n",
       "    case 2:\n",
       "        cursor = 'crosshair';\n",
       "        break;\n",
       "    case 3:\n",
       "        cursor = 'move';\n",
       "        break;\n",
       "    }\n",
       "    fig.rubberband_canvas.style.cursor = cursor;\n",
       "}\n",
       "\n",
       "mpl.figure.prototype.handle_message = function(fig, msg) {\n",
       "    fig.message.textContent = msg['message'];\n",
       "}\n",
       "\n",
       "mpl.figure.prototype.handle_draw = function(fig, msg) {\n",
       "    // Request the server to send over a new figure.\n",
       "    fig.send_draw_message();\n",
       "}\n",
       "\n",
       "mpl.figure.prototype.handle_image_mode = function(fig, msg) {\n",
       "    fig.image_mode = msg['mode'];\n",
       "}\n",
       "\n",
       "mpl.figure.prototype.updated_canvas_event = function() {\n",
       "    // Called whenever the canvas gets updated.\n",
       "    this.send_message(\"ack\", {});\n",
       "}\n",
       "\n",
       "// A function to construct a web socket function for onmessage handling.\n",
       "// Called in the figure constructor.\n",
       "mpl.figure.prototype._make_on_message_function = function(fig) {\n",
       "    return function socket_on_message(evt) {\n",
       "        if (evt.data instanceof Blob) {\n",
       "            /* FIXME: We get \"Resource interpreted as Image but\n",
       "             * transferred with MIME type text/plain:\" errors on\n",
       "             * Chrome.  But how to set the MIME type?  It doesn't seem\n",
       "             * to be part of the websocket stream */\n",
       "            evt.data.type = \"image/png\";\n",
       "\n",
       "            /* Free the memory for the previous frames */\n",
       "            if (fig.imageObj.src) {\n",
       "                (window.URL || window.webkitURL).revokeObjectURL(\n",
       "                    fig.imageObj.src);\n",
       "            }\n",
       "\n",
       "            fig.imageObj.src = (window.URL || window.webkitURL).createObjectURL(\n",
       "                evt.data);\n",
       "            fig.updated_canvas_event();\n",
       "            fig.waiting = false;\n",
       "            return;\n",
       "        }\n",
       "        else if (typeof evt.data === 'string' && evt.data.slice(0, 21) == \"data:image/png;base64\") {\n",
       "            fig.imageObj.src = evt.data;\n",
       "            fig.updated_canvas_event();\n",
       "            fig.waiting = false;\n",
       "            return;\n",
       "        }\n",
       "\n",
       "        var msg = JSON.parse(evt.data);\n",
       "        var msg_type = msg['type'];\n",
       "\n",
       "        // Call the  \"handle_{type}\" callback, which takes\n",
       "        // the figure and JSON message as its only arguments.\n",
       "        try {\n",
       "            var callback = fig[\"handle_\" + msg_type];\n",
       "        } catch (e) {\n",
       "            console.log(\"No handler for the '\" + msg_type + \"' message type: \", msg);\n",
       "            return;\n",
       "        }\n",
       "\n",
       "        if (callback) {\n",
       "            try {\n",
       "                // console.log(\"Handling '\" + msg_type + \"' message: \", msg);\n",
       "                callback(fig, msg);\n",
       "            } catch (e) {\n",
       "                console.log(\"Exception inside the 'handler_\" + msg_type + \"' callback:\", e, e.stack, msg);\n",
       "            }\n",
       "        }\n",
       "    };\n",
       "}\n",
       "\n",
       "// from http://stackoverflow.com/questions/1114465/getting-mouse-location-in-canvas\n",
       "mpl.findpos = function(e) {\n",
       "    //this section is from http://www.quirksmode.org/js/events_properties.html\n",
       "    var targ;\n",
       "    if (!e)\n",
       "        e = window.event;\n",
       "    if (e.target)\n",
       "        targ = e.target;\n",
       "    else if (e.srcElement)\n",
       "        targ = e.srcElement;\n",
       "    if (targ.nodeType == 3) // defeat Safari bug\n",
       "        targ = targ.parentNode;\n",
       "\n",
       "    // jQuery normalizes the pageX and pageY\n",
       "    // pageX,Y are the mouse positions relative to the document\n",
       "    // offset() returns the position of the element relative to the document\n",
       "    var x = e.pageX - $(targ).offset().left;\n",
       "    var y = e.pageY - $(targ).offset().top;\n",
       "\n",
       "    return {\"x\": x, \"y\": y};\n",
       "};\n",
       "\n",
       "/*\n",
       " * return a copy of an object with only non-object keys\n",
       " * we need this to avoid circular references\n",
       " * http://stackoverflow.com/a/24161582/3208463\n",
       " */\n",
       "function simpleKeys (original) {\n",
       "  return Object.keys(original).reduce(function (obj, key) {\n",
       "    if (typeof original[key] !== 'object')\n",
       "        obj[key] = original[key]\n",
       "    return obj;\n",
       "  }, {});\n",
       "}\n",
       "\n",
       "mpl.figure.prototype.mouse_event = function(event, name) {\n",
       "    var canvas_pos = mpl.findpos(event)\n",
       "\n",
       "    if (name === 'button_press')\n",
       "    {\n",
       "        this.canvas.focus();\n",
       "        this.canvas_div.focus();\n",
       "    }\n",
       "\n",
       "    var x = canvas_pos.x * mpl.ratio;\n",
       "    var y = canvas_pos.y * mpl.ratio;\n",
       "\n",
       "    this.send_message(name, {x: x, y: y, button: event.button,\n",
       "                             step: event.step,\n",
       "                             guiEvent: simpleKeys(event)});\n",
       "\n",
       "    /* This prevents the web browser from automatically changing to\n",
       "     * the text insertion cursor when the button is pressed.  We want\n",
       "     * to control all of the cursor setting manually through the\n",
       "     * 'cursor' event from matplotlib */\n",
       "    event.preventDefault();\n",
       "    return false;\n",
       "}\n",
       "\n",
       "mpl.figure.prototype._key_event_extra = function(event, name) {\n",
       "    // Handle any extra behaviour associated with a key event\n",
       "}\n",
       "\n",
       "mpl.figure.prototype.key_event = function(event, name) {\n",
       "\n",
       "    // Prevent repeat events\n",
       "    if (name == 'key_press')\n",
       "    {\n",
       "        if (event.which === this._key)\n",
       "            return;\n",
       "        else\n",
       "            this._key = event.which;\n",
       "    }\n",
       "    if (name == 'key_release')\n",
       "        this._key = null;\n",
       "\n",
       "    var value = '';\n",
       "    if (event.ctrlKey && event.which != 17)\n",
       "        value += \"ctrl+\";\n",
       "    if (event.altKey && event.which != 18)\n",
       "        value += \"alt+\";\n",
       "    if (event.shiftKey && event.which != 16)\n",
       "        value += \"shift+\";\n",
       "\n",
       "    value += 'k';\n",
       "    value += event.which.toString();\n",
       "\n",
       "    this._key_event_extra(event, name);\n",
       "\n",
       "    this.send_message(name, {key: value,\n",
       "                             guiEvent: simpleKeys(event)});\n",
       "    return false;\n",
       "}\n",
       "\n",
       "mpl.figure.prototype.toolbar_button_onclick = function(name) {\n",
       "    if (name == 'download') {\n",
       "        this.handle_save(this, null);\n",
       "    } else {\n",
       "        this.send_message(\"toolbar_button\", {name: name});\n",
       "    }\n",
       "};\n",
       "\n",
       "mpl.figure.prototype.toolbar_button_onmouseover = function(tooltip) {\n",
       "    this.message.textContent = tooltip;\n",
       "};\n",
       "mpl.toolbar_items = [[\"Home\", \"Reset original view\", \"fa fa-home icon-home\", \"home\"], [\"Back\", \"Back to previous view\", \"fa fa-arrow-left icon-arrow-left\", \"back\"], [\"Forward\", \"Forward to next view\", \"fa fa-arrow-right icon-arrow-right\", \"forward\"], [\"\", \"\", \"\", \"\"], [\"Pan\", \"Pan axes with left mouse, zoom with right\", \"fa fa-arrows icon-move\", \"pan\"], [\"Zoom\", \"Zoom to rectangle\", \"fa fa-square-o icon-check-empty\", \"zoom\"], [\"\", \"\", \"\", \"\"], [\"Download\", \"Download plot\", \"fa fa-floppy-o icon-save\", \"download\"]];\n",
       "\n",
       "mpl.extensions = [\"eps\", \"jpeg\", \"pdf\", \"png\", \"ps\", \"raw\", \"svg\", \"tif\"];\n",
       "\n",
       "mpl.default_extension = \"png\";var comm_websocket_adapter = function(comm) {\n",
       "    // Create a \"websocket\"-like object which calls the given IPython comm\n",
       "    // object with the appropriate methods. Currently this is a non binary\n",
       "    // socket, so there is still some room for performance tuning.\n",
       "    var ws = {};\n",
       "\n",
       "    ws.close = function() {\n",
       "        comm.close()\n",
       "    };\n",
       "    ws.send = function(m) {\n",
       "        //console.log('sending', m);\n",
       "        comm.send(m);\n",
       "    };\n",
       "    // Register the callback with on_msg.\n",
       "    comm.on_msg(function(msg) {\n",
       "        //console.log('receiving', msg['content']['data'], msg);\n",
       "        // Pass the mpl event to the overridden (by mpl) onmessage function.\n",
       "        ws.onmessage(msg['content']['data'])\n",
       "    });\n",
       "    return ws;\n",
       "}\n",
       "\n",
       "mpl.mpl_figure_comm = function(comm, msg) {\n",
       "    // This is the function which gets called when the mpl process\n",
       "    // starts-up an IPython Comm through the \"matplotlib\" channel.\n",
       "\n",
       "    var id = msg.content.data.id;\n",
       "    // Get hold of the div created by the display call when the Comm\n",
       "    // socket was opened in Python.\n",
       "    var element = $(\"#\" + id);\n",
       "    var ws_proxy = comm_websocket_adapter(comm)\n",
       "\n",
       "    function ondownload(figure, format) {\n",
       "        window.open(figure.imageObj.src);\n",
       "    }\n",
       "\n",
       "    var fig = new mpl.figure(id, ws_proxy,\n",
       "                           ondownload,\n",
       "                           element.get(0));\n",
       "\n",
       "    // Call onopen now - mpl needs it, as it is assuming we've passed it a real\n",
       "    // web socket which is closed, not our websocket->open comm proxy.\n",
       "    ws_proxy.onopen();\n",
       "\n",
       "    fig.parent_element = element.get(0);\n",
       "    fig.cell_info = mpl.find_output_cell(\"<div id='\" + id + \"'></div>\");\n",
       "    if (!fig.cell_info) {\n",
       "        console.error(\"Failed to find cell for figure\", id, fig);\n",
       "        return;\n",
       "    }\n",
       "\n",
       "    var output_index = fig.cell_info[2]\n",
       "    var cell = fig.cell_info[0];\n",
       "\n",
       "};\n",
       "\n",
       "mpl.figure.prototype.handle_close = function(fig, msg) {\n",
       "    var width = fig.canvas.width/mpl.ratio\n",
       "    fig.root.unbind('remove')\n",
       "\n",
       "    // Update the output cell to use the data from the current canvas.\n",
       "    fig.push_to_output();\n",
       "    var dataURL = fig.canvas.toDataURL();\n",
       "    // Re-enable the keyboard manager in IPython - without this line, in FF,\n",
       "    // the notebook keyboard shortcuts fail.\n",
       "    IPython.keyboard_manager.enable()\n",
       "    $(fig.parent_element).html('<img src=\"' + dataURL + '\" width=\"' + width + '\">');\n",
       "    fig.close_ws(fig, msg);\n",
       "}\n",
       "\n",
       "mpl.figure.prototype.close_ws = function(fig, msg){\n",
       "    fig.send_message('closing', msg);\n",
       "    // fig.ws.close()\n",
       "}\n",
       "\n",
       "mpl.figure.prototype.push_to_output = function(remove_interactive) {\n",
       "    // Turn the data on the canvas into data in the output cell.\n",
       "    var width = this.canvas.width/mpl.ratio\n",
       "    var dataURL = this.canvas.toDataURL();\n",
       "    this.cell_info[1]['text/html'] = '<img src=\"' + dataURL + '\" width=\"' + width + '\">';\n",
       "}\n",
       "\n",
       "mpl.figure.prototype.updated_canvas_event = function() {\n",
       "    // Tell IPython that the notebook contents must change.\n",
       "    IPython.notebook.set_dirty(true);\n",
       "    this.send_message(\"ack\", {});\n",
       "    var fig = this;\n",
       "    // Wait a second, then push the new image to the DOM so\n",
       "    // that it is saved nicely (might be nice to debounce this).\n",
       "    setTimeout(function () { fig.push_to_output() }, 1000);\n",
       "}\n",
       "\n",
       "mpl.figure.prototype._init_toolbar = function() {\n",
       "    var fig = this;\n",
       "\n",
       "    var nav_element = $('<div/>');\n",
       "    nav_element.attr('style', 'width: 100%');\n",
       "    this.root.append(nav_element);\n",
       "\n",
       "    // Define a callback function for later on.\n",
       "    function toolbar_event(event) {\n",
       "        return fig.toolbar_button_onclick(event['data']);\n",
       "    }\n",
       "    function toolbar_mouse_event(event) {\n",
       "        return fig.toolbar_button_onmouseover(event['data']);\n",
       "    }\n",
       "\n",
       "    for(var toolbar_ind in mpl.toolbar_items){\n",
       "        var name = mpl.toolbar_items[toolbar_ind][0];\n",
       "        var tooltip = mpl.toolbar_items[toolbar_ind][1];\n",
       "        var image = mpl.toolbar_items[toolbar_ind][2];\n",
       "        var method_name = mpl.toolbar_items[toolbar_ind][3];\n",
       "\n",
       "        if (!name) { continue; };\n",
       "\n",
       "        var button = $('<button class=\"btn btn-default\" href=\"#\" title=\"' + name + '\"><i class=\"fa ' + image + ' fa-lg\"></i></button>');\n",
       "        button.click(method_name, toolbar_event);\n",
       "        button.mouseover(tooltip, toolbar_mouse_event);\n",
       "        nav_element.append(button);\n",
       "    }\n",
       "\n",
       "    // Add the status bar.\n",
       "    var status_bar = $('<span class=\"mpl-message\" style=\"text-align:right; float: right;\"/>');\n",
       "    nav_element.append(status_bar);\n",
       "    this.message = status_bar[0];\n",
       "\n",
       "    // Add the close button to the window.\n",
       "    var buttongrp = $('<div class=\"btn-group inline pull-right\"></div>');\n",
       "    var button = $('<button class=\"btn btn-mini btn-primary\" href=\"#\" title=\"Stop Interaction\"><i class=\"fa fa-power-off icon-remove icon-large\"></i></button>');\n",
       "    button.click(function (evt) { fig.handle_close(fig, {}); } );\n",
       "    button.mouseover('Stop Interaction', toolbar_mouse_event);\n",
       "    buttongrp.append(button);\n",
       "    var titlebar = this.root.find($('.ui-dialog-titlebar'));\n",
       "    titlebar.prepend(buttongrp);\n",
       "}\n",
       "\n",
       "mpl.figure.prototype._root_extra_style = function(el){\n",
       "    var fig = this\n",
       "    el.on(\"remove\", function(){\n",
       "\tfig.close_ws(fig, {});\n",
       "    });\n",
       "}\n",
       "\n",
       "mpl.figure.prototype._canvas_extra_style = function(el){\n",
       "    // this is important to make the div 'focusable\n",
       "    el.attr('tabindex', 0)\n",
       "    // reach out to IPython and tell the keyboard manager to turn it's self\n",
       "    // off when our div gets focus\n",
       "\n",
       "    // location in version 3\n",
       "    if (IPython.notebook.keyboard_manager) {\n",
       "        IPython.notebook.keyboard_manager.register_events(el);\n",
       "    }\n",
       "    else {\n",
       "        // location in version 2\n",
       "        IPython.keyboard_manager.register_events(el);\n",
       "    }\n",
       "\n",
       "}\n",
       "\n",
       "mpl.figure.prototype._key_event_extra = function(event, name) {\n",
       "    var manager = IPython.notebook.keyboard_manager;\n",
       "    if (!manager)\n",
       "        manager = IPython.keyboard_manager;\n",
       "\n",
       "    // Check for shift+enter\n",
       "    if (event.shiftKey && event.which == 13) {\n",
       "        this.canvas_div.blur();\n",
       "        // select the cell after this one\n",
       "        var index = IPython.notebook.find_cell_index(this.cell_info[0]);\n",
       "        IPython.notebook.select(index + 1);\n",
       "    }\n",
       "}\n",
       "\n",
       "mpl.figure.prototype.handle_save = function(fig, msg) {\n",
       "    fig.ondownload(fig, null);\n",
       "}\n",
       "\n",
       "\n",
       "mpl.find_output_cell = function(html_output) {\n",
       "    // Return the cell and output element which can be found *uniquely* in the notebook.\n",
       "    // Note - this is a bit hacky, but it is done because the \"notebook_saving.Notebook\"\n",
       "    // IPython event is triggered only after the cells have been serialised, which for\n",
       "    // our purposes (turning an active figure into a static one), is too late.\n",
       "    var cells = IPython.notebook.get_cells();\n",
       "    var ncells = cells.length;\n",
       "    for (var i=0; i<ncells; i++) {\n",
       "        var cell = cells[i];\n",
       "        if (cell.cell_type === 'code'){\n",
       "            for (var j=0; j<cell.output_area.outputs.length; j++) {\n",
       "                var data = cell.output_area.outputs[j];\n",
       "                if (data.data) {\n",
       "                    // IPython >= 3 moved mimebundle to data attribute of output\n",
       "                    data = data.data;\n",
       "                }\n",
       "                if (data['text/html'] == html_output) {\n",
       "                    return [cell, data, j];\n",
       "                }\n",
       "            }\n",
       "        }\n",
       "    }\n",
       "}\n",
       "\n",
       "// Register the function which deals with the matplotlib target/channel.\n",
       "// The kernel may be null if the page has been refreshed.\n",
       "if (IPython.notebook.kernel != null) {\n",
       "    IPython.notebook.kernel.comm_manager.register_target('matplotlib', mpl.mpl_figure_comm);\n",
       "}\n"
      ],
      "text/plain": [
       "<IPython.core.display.Javascript object>"
      ]
     },
     "metadata": {},
     "output_type": "display_data"
    },
    {
     "data": {
      "text/html": [
       "<img src=\"data:image/png;base64,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\" width=\"640\">"
      ],
      "text/plain": [
       "<IPython.core.display.HTML object>"
      ]
     },
     "metadata": {},
     "output_type": "display_data"
    }
   ],
   "source": [
    "fig, axes = plt.subplots(ncols=2, sharex=True, sharey=True)\n",
    "\n",
    "ti = 6\n",
    "t = model_kgr.targets.Y.columns[ti]\n",
    "\n",
    "laplacian.distance.cali.plot_outline(axes[1], dict(color='tab:blue'), fill={'fc': '#e0ebf9', 'lw': 0.5, 'ec': 'tab:blue'})\n",
    "laplacian.distance.cali.plot_outline(axes[0], dict(color='tab:blue'), fill={'fc': '#e0ebf9', 'lw': 0.5, 'ec': 'tab:blue'})\n",
    "\n",
    "vmin = np.quantile(model_kgr.targets.Y.loc[:, t], 0.1)\n",
    "vmax = np.quantile(model_kgr.targets.Y.loc[:, t], 0.9)\n",
    "\n",
    "axes[1].scatter(model_kgr.targets.sites['x'], model_kgr.targets.sites['y'], c=model_kgr.F.loc[:, t], alpha=1, vmin=vmin, vmax=vmax, zorder=np.inf)\n",
    "\n",
    "axes[0].scatter(model_kgr.targets.sites.loc[model_kgr.targets.train_sites, 'x'], model_kgr.targets.sites.loc[model_kgr.targets.train_sites, 'y'], c=model_kgr.targets.Y.loc[:, t], alpha=1, vmin=vmin, vmax=vmax, zorder=np.inf)\n",
    "\n",
    "axes[0].set_title('Observed Signal')\n",
    "axes[1].set_title('Reconstructed Signal')\n",
    "\n",
    "plt.tight_layout()\n",
    "\n",
    "plt.savefig('reconstructed.pdf')\n",
    "\n",
    "\n"
   ]
  },
  {
   "cell_type": "code",
   "execution_count": 23,
   "metadata": {},
   "outputs": [],
   "source": [
    "def get_results():\n",
    "    \n",
    "    models = {'KGR': KGR, \n",
    "              'LinearRegression': LinearRegression, \n",
    "              'RidgeRegression': RidgeRegression, \n",
    "              'LassoRegression': LassoRegression, \n",
    "              'GLSKGR': GLSKGR}\n",
    "\n",
    "    init_params = {'KGR': dict(gamma=0.01, K_std=50, filter_func='sigmoid', beta=50), \n",
    "                   'LinearRegression': dict(fit_intercept=True), \n",
    "                   'RidgeRegression': dict(fit_intercept=True, alpha=50),\n",
    "                   'LassoRegression': dict(fit_intercept=True, alpha=1)}\n",
    "\n",
    "\n",
    "    model_names = ['KGR', 'LinearRegression', 'RidgeRegression', 'LassoRegression', 'GLSKGR']\n",
    "\n",
    "    opt_params = {metric: {model: {} for model in model_names} for metric in metrics}\n",
    "\n",
    "    RMSE = {'Missing Nodes':  {model: {} for model in model_names}, \n",
    "            'Labelled':       {model: {} for model in model_names}, \n",
    "            'Missing Dates':  {model: {} for model in model_names}, \n",
    "            'All Unlabelled': {model: {} for model in model_names}}\n",
    "\n",
    "    \n",
    "    metrics_bar = tqdm(metrics)\n",
    "\n",
    "    for metric in metrics_bar:\n",
    "\n",
    "        metrics_bar.set_description(metric)\n",
    "\n",
    "        models_bar = tqdm(models, leave=False)\n",
    "\n",
    "        for model in models_bar:\n",
    "\n",
    "            models_bar.set_description(model)\n",
    "\n",
    "            if model != 'GLSKGR':\n",
    "                reg = models[model](**init_params[model])\n",
    "\n",
    "                if model != 'KGR':\n",
    "                    opt_params[metric][model] = reg.set_data(features, targets[metric]).optimize()[0]\n",
    "\n",
    "                else:\n",
    "                    opt_params[metric][model] = reg.set_laplacian(laplacian).set_data(features, targets[metric]).optimize()[0]\n",
    "\n",
    "            else:\n",
    "                reg = models['GLSKGR'](**opt_params[metric]['KGR']).set_laplacian(laplacian).set_data(features, targets[metric])\n",
    "                opt_params[metric]['GLSKGR'] = opt_params[metric]['KGR']\n",
    "                reg.solve_GLS()\n",
    "\n",
    "            RMSE['Missing Nodes'][model][metric] = reg.RMSE_missing_nodes()\n",
    "            RMSE['Labelled'][model][metric] = reg.RMSE_labelled()\n",
    "            RMSE['Missing Dates'][model][metric] = reg.RMSE_missing_times()\n",
    "            RMSE['All Unlabelled'][model][metric] = reg.RMSE_unlabelled_full()\n",
    "            \n",
    "    return opt_params, RMSE\n",
    "            "
   ]
  },
  {
   "cell_type": "code",
   "execution_count": 24,
   "metadata": {},
   "outputs": [
    {
     "data": {
      "application/vnd.jupyter.widget-view+json": {
       "model_id": "672065600d674c2da82bc3b680ad8132",
       "version_major": 2,
       "version_minor": 0
      },
      "text/plain": [
       "HBox(children=(HTML(value=''), FloatProgress(value=0.0, max=6.0), HTML(value='')))"
      ]
     },
     "metadata": {},
     "output_type": "display_data"
    },
    {
     "data": {
      "application/vnd.jupyter.widget-view+json": {
       "model_id": "",
       "version_major": 2,
       "version_minor": 0
      },
      "text/plain": [
       "HBox(children=(HTML(value=''), FloatProgress(value=0.0, max=5.0), HTML(value='')))"
      ]
     },
     "metadata": {},
     "output_type": "display_data"
    },
    {
     "data": {
      "application/vnd.jupyter.widget-view+json": {
       "model_id": "",
       "version_major": 2,
       "version_minor": 0
      },
      "text/plain": [
       "HBox(children=(HTML(value=''), FloatProgress(value=0.0, max=9.0), HTML(value='')))"
      ]
     },
     "metadata": {},
     "output_type": "display_data"
    },
    {
     "data": {
      "application/vnd.jupyter.widget-view+json": {
       "model_id": "",
       "version_major": 2,
       "version_minor": 0
      },
      "text/plain": [
       "HBox(children=(HTML(value=''), FloatProgress(value=0.0, max=50.0), HTML(value='')))"
      ]
     },
     "metadata": {},
     "output_type": "display_data"
    },
    {
     "data": {
      "application/vnd.jupyter.widget-view+json": {
       "model_id": "",
       "version_major": 2,
       "version_minor": 0
      },
      "text/plain": [
       "HBox(children=(HTML(value=''), FloatProgress(value=0.0, max=50.0), HTML(value='')))"
      ]
     },
     "metadata": {},
     "output_type": "display_data"
    },
    {
     "data": {
      "application/vnd.jupyter.widget-view+json": {
       "model_id": "",
       "version_major": 2,
       "version_minor": 0
      },
      "text/plain": [
       "HBox(children=(HTML(value=''), FloatProgress(value=0.0, max=50.0), HTML(value='')))"
      ]
     },
     "metadata": {},
     "output_type": "display_data"
    },
    {
     "data": {
      "application/vnd.jupyter.widget-view+json": {
       "model_id": "",
       "version_major": 2,
       "version_minor": 0
      },
      "text/plain": [
       "HBox(children=(HTML(value=''), FloatProgress(value=0.0, max=50.0), HTML(value='')))"
      ]
     },
     "metadata": {},
     "output_type": "display_data"
    },
    {
     "data": {
      "application/vnd.jupyter.widget-view+json": {
       "model_id": "",
       "version_major": 2,
       "version_minor": 0
      },
      "text/plain": [
       "HBox(children=(HTML(value=''), FloatProgress(value=0.0, max=50.0), HTML(value='')))"
      ]
     },
     "metadata": {},
     "output_type": "display_data"
    },
    {
     "data": {
      "application/vnd.jupyter.widget-view+json": {
       "model_id": "",
       "version_major": 2,
       "version_minor": 0
      },
      "text/plain": [
       "HBox(children=(HTML(value=''), FloatProgress(value=0.0, max=50.0), HTML(value='')))"
      ]
     },
     "metadata": {},
     "output_type": "display_data"
    },
    {
     "data": {
      "application/vnd.jupyter.widget-view+json": {
       "model_id": "",
       "version_major": 2,
       "version_minor": 0
      },
      "text/plain": [
       "HBox(children=(HTML(value=''), FloatProgress(value=0.0, max=50.0), HTML(value='')))"
      ]
     },
     "metadata": {},
     "output_type": "display_data"
    },
    {
     "data": {
      "application/vnd.jupyter.widget-view+json": {
       "model_id": "",
       "version_major": 2,
       "version_minor": 0
      },
      "text/plain": [
       "HBox(children=(HTML(value=''), FloatProgress(value=0.0, max=50.0), HTML(value='')))"
      ]
     },
     "metadata": {},
     "output_type": "display_data"
    },
    {
     "data": {
      "application/vnd.jupyter.widget-view+json": {
       "model_id": "",
       "version_major": 2,
       "version_minor": 0
      },
      "text/plain": [
       "HBox(children=(HTML(value=''), FloatProgress(value=0.0, max=50.0), HTML(value='')))"
      ]
     },
     "metadata": {},
     "output_type": "display_data"
    },
    {
     "data": {
      "application/vnd.jupyter.widget-view+json": {
       "model_id": "",
       "version_major": 2,
       "version_minor": 0
      },
      "text/plain": [
       "HBox(children=(HTML(value=''), FloatProgress(value=0.0, max=50.0), HTML(value='')))"
      ]
     },
     "metadata": {},
     "output_type": "display_data"
    },
    {
     "data": {
      "application/vnd.jupyter.widget-view+json": {
       "model_id": "",
       "version_major": 2,
       "version_minor": 0
      },
      "text/plain": [
       "HBox(children=(HTML(value=''), FloatProgress(value=0.0, max=50.0), HTML(value='')))"
      ]
     },
     "metadata": {},
     "output_type": "display_data"
    },
    {
     "data": {
      "application/vnd.jupyter.widget-view+json": {
       "model_id": "",
       "version_major": 2,
       "version_minor": 0
      },
      "text/plain": [
       "HBox(children=(HTML(value=''), FloatProgress(value=0.0, max=50.0), HTML(value='')))"
      ]
     },
     "metadata": {},
     "output_type": "display_data"
    },
    {
     "data": {
      "application/vnd.jupyter.widget-view+json": {
       "model_id": "",
       "version_major": 2,
       "version_minor": 0
      },
      "text/plain": [
       "HBox(children=(HTML(value=''), FloatProgress(value=0.0, max=50.0), HTML(value='')))"
      ]
     },
     "metadata": {},
     "output_type": "display_data"
    },
    {
     "data": {
      "application/vnd.jupyter.widget-view+json": {
       "model_id": "",
       "version_major": 2,
       "version_minor": 0
      },
      "text/plain": [
       "HBox(children=(HTML(value=''), FloatProgress(value=0.0, max=5.0), HTML(value='')))"
      ]
     },
     "metadata": {},
     "output_type": "display_data"
    },
    {
     "data": {
      "application/vnd.jupyter.widget-view+json": {
       "model_id": "",
       "version_major": 2,
       "version_minor": 0
      },
      "text/plain": [
       "HBox(children=(HTML(value=''), FloatProgress(value=0.0, max=9.0), HTML(value='')))"
      ]
     },
     "metadata": {},
     "output_type": "display_data"
    },
    {
     "data": {
      "application/vnd.jupyter.widget-view+json": {
       "model_id": "",
       "version_major": 2,
       "version_minor": 0
      },
      "text/plain": [
       "HBox(children=(HTML(value=''), FloatProgress(value=0.0, max=50.0), HTML(value='')))"
      ]
     },
     "metadata": {},
     "output_type": "display_data"
    },
    {
     "data": {
      "application/vnd.jupyter.widget-view+json": {
       "model_id": "",
       "version_major": 2,
       "version_minor": 0
      },
      "text/plain": [
       "HBox(children=(HTML(value=''), FloatProgress(value=0.0, max=50.0), HTML(value='')))"
      ]
     },
     "metadata": {},
     "output_type": "display_data"
    },
    {
     "data": {
      "application/vnd.jupyter.widget-view+json": {
       "model_id": "",
       "version_major": 2,
       "version_minor": 0
      },
      "text/plain": [
       "HBox(children=(HTML(value=''), FloatProgress(value=0.0, max=50.0), HTML(value='')))"
      ]
     },
     "metadata": {},
     "output_type": "display_data"
    },
    {
     "data": {
      "application/vnd.jupyter.widget-view+json": {
       "model_id": "",
       "version_major": 2,
       "version_minor": 0
      },
      "text/plain": [
       "HBox(children=(HTML(value=''), FloatProgress(value=0.0, max=50.0), HTML(value='')))"
      ]
     },
     "metadata": {},
     "output_type": "display_data"
    },
    {
     "data": {
      "application/vnd.jupyter.widget-view+json": {
       "model_id": "",
       "version_major": 2,
       "version_minor": 0
      },
      "text/plain": [
       "HBox(children=(HTML(value=''), FloatProgress(value=0.0, max=50.0), HTML(value='')))"
      ]
     },
     "metadata": {},
     "output_type": "display_data"
    },
    {
     "data": {
      "application/vnd.jupyter.widget-view+json": {
       "model_id": "",
       "version_major": 2,
       "version_minor": 0
      },
      "text/plain": [
       "HBox(children=(HTML(value=''), FloatProgress(value=0.0, max=50.0), HTML(value='')))"
      ]
     },
     "metadata": {},
     "output_type": "display_data"
    },
    {
     "data": {
      "application/vnd.jupyter.widget-view+json": {
       "model_id": "",
       "version_major": 2,
       "version_minor": 0
      },
      "text/plain": [
       "HBox(children=(HTML(value=''), FloatProgress(value=0.0, max=50.0), HTML(value='')))"
      ]
     },
     "metadata": {},
     "output_type": "display_data"
    },
    {
     "data": {
      "application/vnd.jupyter.widget-view+json": {
       "model_id": "",
       "version_major": 2,
       "version_minor": 0
      },
      "text/plain": [
       "HBox(children=(HTML(value=''), FloatProgress(value=0.0, max=50.0), HTML(value='')))"
      ]
     },
     "metadata": {},
     "output_type": "display_data"
    },
    {
     "data": {
      "application/vnd.jupyter.widget-view+json": {
       "model_id": "",
       "version_major": 2,
       "version_minor": 0
      },
      "text/plain": [
       "HBox(children=(HTML(value=''), FloatProgress(value=0.0, max=50.0), HTML(value='')))"
      ]
     },
     "metadata": {},
     "output_type": "display_data"
    },
    {
     "data": {
      "application/vnd.jupyter.widget-view+json": {
       "model_id": "",
       "version_major": 2,
       "version_minor": 0
      },
      "text/plain": [
       "HBox(children=(HTML(value=''), FloatProgress(value=0.0, max=50.0), HTML(value='')))"
      ]
     },
     "metadata": {},
     "output_type": "display_data"
    },
    {
     "data": {
      "application/vnd.jupyter.widget-view+json": {
       "model_id": "",
       "version_major": 2,
       "version_minor": 0
      },
      "text/plain": [
       "HBox(children=(HTML(value=''), FloatProgress(value=0.0, max=50.0), HTML(value='')))"
      ]
     },
     "metadata": {},
     "output_type": "display_data"
    },
    {
     "data": {
      "application/vnd.jupyter.widget-view+json": {
       "model_id": "",
       "version_major": 2,
       "version_minor": 0
      },
      "text/plain": [
       "HBox(children=(HTML(value=''), FloatProgress(value=0.0, max=50.0), HTML(value='')))"
      ]
     },
     "metadata": {},
     "output_type": "display_data"
    },
    {
     "data": {
      "application/vnd.jupyter.widget-view+json": {
       "model_id": "",
       "version_major": 2,
       "version_minor": 0
      },
      "text/plain": [
       "HBox(children=(HTML(value=''), FloatProgress(value=0.0, max=50.0), HTML(value='')))"
      ]
     },
     "metadata": {},
     "output_type": "display_data"
    },
    {
     "data": {
      "application/vnd.jupyter.widget-view+json": {
       "model_id": "",
       "version_major": 2,
       "version_minor": 0
      },
      "text/plain": [
       "HBox(children=(HTML(value=''), FloatProgress(value=0.0, max=5.0), HTML(value='')))"
      ]
     },
     "metadata": {},
     "output_type": "display_data"
    },
    {
     "data": {
      "application/vnd.jupyter.widget-view+json": {
       "model_id": "",
       "version_major": 2,
       "version_minor": 0
      },
      "text/plain": [
       "HBox(children=(HTML(value=''), FloatProgress(value=0.0, max=9.0), HTML(value='')))"
      ]
     },
     "metadata": {},
     "output_type": "display_data"
    },
    {
     "data": {
      "application/vnd.jupyter.widget-view+json": {
       "model_id": "",
       "version_major": 2,
       "version_minor": 0
      },
      "text/plain": [
       "HBox(children=(HTML(value=''), FloatProgress(value=0.0, max=50.0), HTML(value='')))"
      ]
     },
     "metadata": {},
     "output_type": "display_data"
    },
    {
     "data": {
      "application/vnd.jupyter.widget-view+json": {
       "model_id": "",
       "version_major": 2,
       "version_minor": 0
      },
      "text/plain": [
       "HBox(children=(HTML(value=''), FloatProgress(value=0.0, max=50.0), HTML(value='')))"
      ]
     },
     "metadata": {},
     "output_type": "display_data"
    },
    {
     "data": {
      "application/vnd.jupyter.widget-view+json": {
       "model_id": "",
       "version_major": 2,
       "version_minor": 0
      },
      "text/plain": [
       "HBox(children=(HTML(value=''), FloatProgress(value=0.0, max=50.0), HTML(value='')))"
      ]
     },
     "metadata": {},
     "output_type": "display_data"
    },
    {
     "data": {
      "application/vnd.jupyter.widget-view+json": {
       "model_id": "",
       "version_major": 2,
       "version_minor": 0
      },
      "text/plain": [
       "HBox(children=(HTML(value=''), FloatProgress(value=0.0, max=50.0), HTML(value='')))"
      ]
     },
     "metadata": {},
     "output_type": "display_data"
    },
    {
     "data": {
      "application/vnd.jupyter.widget-view+json": {
       "model_id": "",
       "version_major": 2,
       "version_minor": 0
      },
      "text/plain": [
       "HBox(children=(HTML(value=''), FloatProgress(value=0.0, max=50.0), HTML(value='')))"
      ]
     },
     "metadata": {},
     "output_type": "display_data"
    },
    {
     "data": {
      "application/vnd.jupyter.widget-view+json": {
       "model_id": "",
       "version_major": 2,
       "version_minor": 0
      },
      "text/plain": [
       "HBox(children=(HTML(value=''), FloatProgress(value=0.0, max=50.0), HTML(value='')))"
      ]
     },
     "metadata": {},
     "output_type": "display_data"
    },
    {
     "data": {
      "application/vnd.jupyter.widget-view+json": {
       "model_id": "",
       "version_major": 2,
       "version_minor": 0
      },
      "text/plain": [
       "HBox(children=(HTML(value=''), FloatProgress(value=0.0, max=50.0), HTML(value='')))"
      ]
     },
     "metadata": {},
     "output_type": "display_data"
    },
    {
     "data": {
      "application/vnd.jupyter.widget-view+json": {
       "model_id": "",
       "version_major": 2,
       "version_minor": 0
      },
      "text/plain": [
       "HBox(children=(HTML(value=''), FloatProgress(value=0.0, max=50.0), HTML(value='')))"
      ]
     },
     "metadata": {},
     "output_type": "display_data"
    },
    {
     "data": {
      "application/vnd.jupyter.widget-view+json": {
       "model_id": "",
       "version_major": 2,
       "version_minor": 0
      },
      "text/plain": [
       "HBox(children=(HTML(value=''), FloatProgress(value=0.0, max=50.0), HTML(value='')))"
      ]
     },
     "metadata": {},
     "output_type": "display_data"
    },
    {
     "data": {
      "application/vnd.jupyter.widget-view+json": {
       "model_id": "",
       "version_major": 2,
       "version_minor": 0
      },
      "text/plain": [
       "HBox(children=(HTML(value=''), FloatProgress(value=0.0, max=50.0), HTML(value='')))"
      ]
     },
     "metadata": {},
     "output_type": "display_data"
    },
    {
     "data": {
      "application/vnd.jupyter.widget-view+json": {
       "model_id": "",
       "version_major": 2,
       "version_minor": 0
      },
      "text/plain": [
       "HBox(children=(HTML(value=''), FloatProgress(value=0.0, max=50.0), HTML(value='')))"
      ]
     },
     "metadata": {},
     "output_type": "display_data"
    },
    {
     "data": {
      "application/vnd.jupyter.widget-view+json": {
       "model_id": "",
       "version_major": 2,
       "version_minor": 0
      },
      "text/plain": [
       "HBox(children=(HTML(value=''), FloatProgress(value=0.0, max=50.0), HTML(value='')))"
      ]
     },
     "metadata": {},
     "output_type": "display_data"
    },
    {
     "data": {
      "application/vnd.jupyter.widget-view+json": {
       "model_id": "",
       "version_major": 2,
       "version_minor": 0
      },
      "text/plain": [
       "HBox(children=(HTML(value=''), FloatProgress(value=0.0, max=50.0), HTML(value='')))"
      ]
     },
     "metadata": {},
     "output_type": "display_data"
    },
    {
     "data": {
      "application/vnd.jupyter.widget-view+json": {
       "model_id": "",
       "version_major": 2,
       "version_minor": 0
      },
      "text/plain": [
       "HBox(children=(HTML(value=''), FloatProgress(value=0.0, max=5.0), HTML(value='')))"
      ]
     },
     "metadata": {},
     "output_type": "display_data"
    },
    {
     "data": {
      "application/vnd.jupyter.widget-view+json": {
       "model_id": "",
       "version_major": 2,
       "version_minor": 0
      },
      "text/plain": [
       "HBox(children=(HTML(value=''), FloatProgress(value=0.0, max=9.0), HTML(value='')))"
      ]
     },
     "metadata": {},
     "output_type": "display_data"
    },
    {
     "data": {
      "application/vnd.jupyter.widget-view+json": {
       "model_id": "",
       "version_major": 2,
       "version_minor": 0
      },
      "text/plain": [
       "HBox(children=(HTML(value=''), FloatProgress(value=0.0, max=50.0), HTML(value='')))"
      ]
     },
     "metadata": {},
     "output_type": "display_data"
    },
    {
     "data": {
      "application/vnd.jupyter.widget-view+json": {
       "model_id": "",
       "version_major": 2,
       "version_minor": 0
      },
      "text/plain": [
       "HBox(children=(HTML(value=''), FloatProgress(value=0.0, max=50.0), HTML(value='')))"
      ]
     },
     "metadata": {},
     "output_type": "display_data"
    },
    {
     "data": {
      "application/vnd.jupyter.widget-view+json": {
       "model_id": "",
       "version_major": 2,
       "version_minor": 0
      },
      "text/plain": [
       "HBox(children=(HTML(value=''), FloatProgress(value=0.0, max=50.0), HTML(value='')))"
      ]
     },
     "metadata": {},
     "output_type": "display_data"
    },
    {
     "data": {
      "application/vnd.jupyter.widget-view+json": {
       "model_id": "",
       "version_major": 2,
       "version_minor": 0
      },
      "text/plain": [
       "HBox(children=(HTML(value=''), FloatProgress(value=0.0, max=50.0), HTML(value='')))"
      ]
     },
     "metadata": {},
     "output_type": "display_data"
    },
    {
     "data": {
      "application/vnd.jupyter.widget-view+json": {
       "model_id": "",
       "version_major": 2,
       "version_minor": 0
      },
      "text/plain": [
       "HBox(children=(HTML(value=''), FloatProgress(value=0.0, max=50.0), HTML(value='')))"
      ]
     },
     "metadata": {},
     "output_type": "display_data"
    },
    {
     "data": {
      "application/vnd.jupyter.widget-view+json": {
       "model_id": "",
       "version_major": 2,
       "version_minor": 0
      },
      "text/plain": [
       "HBox(children=(HTML(value=''), FloatProgress(value=0.0, max=50.0), HTML(value='')))"
      ]
     },
     "metadata": {},
     "output_type": "display_data"
    },
    {
     "data": {
      "application/vnd.jupyter.widget-view+json": {
       "model_id": "",
       "version_major": 2,
       "version_minor": 0
      },
      "text/plain": [
       "HBox(children=(HTML(value=''), FloatProgress(value=0.0, max=50.0), HTML(value='')))"
      ]
     },
     "metadata": {},
     "output_type": "display_data"
    },
    {
     "data": {
      "application/vnd.jupyter.widget-view+json": {
       "model_id": "",
       "version_major": 2,
       "version_minor": 0
      },
      "text/plain": [
       "HBox(children=(HTML(value=''), FloatProgress(value=0.0, max=50.0), HTML(value='')))"
      ]
     },
     "metadata": {},
     "output_type": "display_data"
    },
    {
     "data": {
      "application/vnd.jupyter.widget-view+json": {
       "model_id": "",
       "version_major": 2,
       "version_minor": 0
      },
      "text/plain": [
       "HBox(children=(HTML(value=''), FloatProgress(value=0.0, max=50.0), HTML(value='')))"
      ]
     },
     "metadata": {},
     "output_type": "display_data"
    },
    {
     "data": {
      "application/vnd.jupyter.widget-view+json": {
       "model_id": "",
       "version_major": 2,
       "version_minor": 0
      },
      "text/plain": [
       "HBox(children=(HTML(value=''), FloatProgress(value=0.0, max=50.0), HTML(value='')))"
      ]
     },
     "metadata": {},
     "output_type": "display_data"
    },
    {
     "data": {
      "application/vnd.jupyter.widget-view+json": {
       "model_id": "",
       "version_major": 2,
       "version_minor": 0
      },
      "text/plain": [
       "HBox(children=(HTML(value=''), FloatProgress(value=0.0, max=50.0), HTML(value='')))"
      ]
     },
     "metadata": {},
     "output_type": "display_data"
    },
    {
     "data": {
      "application/vnd.jupyter.widget-view+json": {
       "model_id": "",
       "version_major": 2,
       "version_minor": 0
      },
      "text/plain": [
       "HBox(children=(HTML(value=''), FloatProgress(value=0.0, max=50.0), HTML(value='')))"
      ]
     },
     "metadata": {},
     "output_type": "display_data"
    },
    {
     "data": {
      "application/vnd.jupyter.widget-view+json": {
       "model_id": "",
       "version_major": 2,
       "version_minor": 0
      },
      "text/plain": [
       "HBox(children=(HTML(value=''), FloatProgress(value=0.0, max=50.0), HTML(value='')))"
      ]
     },
     "metadata": {},
     "output_type": "display_data"
    },
    {
     "data": {
      "application/vnd.jupyter.widget-view+json": {
       "model_id": "",
       "version_major": 2,
       "version_minor": 0
      },
      "text/plain": [
       "HBox(children=(HTML(value=''), FloatProgress(value=0.0, max=5.0), HTML(value='')))"
      ]
     },
     "metadata": {},
     "output_type": "display_data"
    },
    {
     "data": {
      "application/vnd.jupyter.widget-view+json": {
       "model_id": "",
       "version_major": 2,
       "version_minor": 0
      },
      "text/plain": [
       "HBox(children=(HTML(value=''), FloatProgress(value=0.0, max=9.0), HTML(value='')))"
      ]
     },
     "metadata": {},
     "output_type": "display_data"
    },
    {
     "data": {
      "application/vnd.jupyter.widget-view+json": {
       "model_id": "",
       "version_major": 2,
       "version_minor": 0
      },
      "text/plain": [
       "HBox(children=(HTML(value=''), FloatProgress(value=0.0, max=50.0), HTML(value='')))"
      ]
     },
     "metadata": {},
     "output_type": "display_data"
    },
    {
     "data": {
      "application/vnd.jupyter.widget-view+json": {
       "model_id": "",
       "version_major": 2,
       "version_minor": 0
      },
      "text/plain": [
       "HBox(children=(HTML(value=''), FloatProgress(value=0.0, max=50.0), HTML(value='')))"
      ]
     },
     "metadata": {},
     "output_type": "display_data"
    },
    {
     "data": {
      "application/vnd.jupyter.widget-view+json": {
       "model_id": "",
       "version_major": 2,
       "version_minor": 0
      },
      "text/plain": [
       "HBox(children=(HTML(value=''), FloatProgress(value=0.0, max=50.0), HTML(value='')))"
      ]
     },
     "metadata": {},
     "output_type": "display_data"
    },
    {
     "data": {
      "application/vnd.jupyter.widget-view+json": {
       "model_id": "",
       "version_major": 2,
       "version_minor": 0
      },
      "text/plain": [
       "HBox(children=(HTML(value=''), FloatProgress(value=0.0, max=50.0), HTML(value='')))"
      ]
     },
     "metadata": {},
     "output_type": "display_data"
    },
    {
     "data": {
      "application/vnd.jupyter.widget-view+json": {
       "model_id": "",
       "version_major": 2,
       "version_minor": 0
      },
      "text/plain": [
       "HBox(children=(HTML(value=''), FloatProgress(value=0.0, max=50.0), HTML(value='')))"
      ]
     },
     "metadata": {},
     "output_type": "display_data"
    },
    {
     "data": {
      "application/vnd.jupyter.widget-view+json": {
       "model_id": "",
       "version_major": 2,
       "version_minor": 0
      },
      "text/plain": [
       "HBox(children=(HTML(value=''), FloatProgress(value=0.0, max=50.0), HTML(value='')))"
      ]
     },
     "metadata": {},
     "output_type": "display_data"
    },
    {
     "data": {
      "application/vnd.jupyter.widget-view+json": {
       "model_id": "",
       "version_major": 2,
       "version_minor": 0
      },
      "text/plain": [
       "HBox(children=(HTML(value=''), FloatProgress(value=0.0, max=50.0), HTML(value='')))"
      ]
     },
     "metadata": {},
     "output_type": "display_data"
    },
    {
     "data": {
      "application/vnd.jupyter.widget-view+json": {
       "model_id": "",
       "version_major": 2,
       "version_minor": 0
      },
      "text/plain": [
       "HBox(children=(HTML(value=''), FloatProgress(value=0.0, max=50.0), HTML(value='')))"
      ]
     },
     "metadata": {},
     "output_type": "display_data"
    },
    {
     "data": {
      "application/vnd.jupyter.widget-view+json": {
       "model_id": "",
       "version_major": 2,
       "version_minor": 0
      },
      "text/plain": [
       "HBox(children=(HTML(value=''), FloatProgress(value=0.0, max=50.0), HTML(value='')))"
      ]
     },
     "metadata": {},
     "output_type": "display_data"
    },
    {
     "data": {
      "application/vnd.jupyter.widget-view+json": {
       "model_id": "",
       "version_major": 2,
       "version_minor": 0
      },
      "text/plain": [
       "HBox(children=(HTML(value=''), FloatProgress(value=0.0, max=50.0), HTML(value='')))"
      ]
     },
     "metadata": {},
     "output_type": "display_data"
    },
    {
     "data": {
      "application/vnd.jupyter.widget-view+json": {
       "model_id": "",
       "version_major": 2,
       "version_minor": 0
      },
      "text/plain": [
       "HBox(children=(HTML(value=''), FloatProgress(value=0.0, max=50.0), HTML(value='')))"
      ]
     },
     "metadata": {},
     "output_type": "display_data"
    },
    {
     "data": {
      "application/vnd.jupyter.widget-view+json": {
       "model_id": "",
       "version_major": 2,
       "version_minor": 0
      },
      "text/plain": [
       "HBox(children=(HTML(value=''), FloatProgress(value=0.0, max=50.0), HTML(value='')))"
      ]
     },
     "metadata": {},
     "output_type": "display_data"
    },
    {
     "data": {
      "application/vnd.jupyter.widget-view+json": {
       "model_id": "",
       "version_major": 2,
       "version_minor": 0
      },
      "text/plain": [
       "HBox(children=(HTML(value=''), FloatProgress(value=0.0, max=50.0), HTML(value='')))"
      ]
     },
     "metadata": {},
     "output_type": "display_data"
    },
    {
     "data": {
      "application/vnd.jupyter.widget-view+json": {
       "model_id": "",
       "version_major": 2,
       "version_minor": 0
      },
      "text/plain": [
       "HBox(children=(HTML(value=''), FloatProgress(value=0.0, max=5.0), HTML(value='')))"
      ]
     },
     "metadata": {},
     "output_type": "display_data"
    },
    {
     "data": {
      "application/vnd.jupyter.widget-view+json": {
       "model_id": "",
       "version_major": 2,
       "version_minor": 0
      },
      "text/plain": [
       "HBox(children=(HTML(value=''), FloatProgress(value=0.0, max=9.0), HTML(value='')))"
      ]
     },
     "metadata": {},
     "output_type": "display_data"
    },
    {
     "data": {
      "application/vnd.jupyter.widget-view+json": {
       "model_id": "",
       "version_major": 2,
       "version_minor": 0
      },
      "text/plain": [
       "HBox(children=(HTML(value=''), FloatProgress(value=0.0, max=50.0), HTML(value='')))"
      ]
     },
     "metadata": {},
     "output_type": "display_data"
    },
    {
     "data": {
      "application/vnd.jupyter.widget-view+json": {
       "model_id": "",
       "version_major": 2,
       "version_minor": 0
      },
      "text/plain": [
       "HBox(children=(HTML(value=''), FloatProgress(value=0.0, max=50.0), HTML(value='')))"
      ]
     },
     "metadata": {},
     "output_type": "display_data"
    },
    {
     "data": {
      "application/vnd.jupyter.widget-view+json": {
       "model_id": "",
       "version_major": 2,
       "version_minor": 0
      },
      "text/plain": [
       "HBox(children=(HTML(value=''), FloatProgress(value=0.0, max=50.0), HTML(value='')))"
      ]
     },
     "metadata": {},
     "output_type": "display_data"
    },
    {
     "data": {
      "application/vnd.jupyter.widget-view+json": {
       "model_id": "",
       "version_major": 2,
       "version_minor": 0
      },
      "text/plain": [
       "HBox(children=(HTML(value=''), FloatProgress(value=0.0, max=50.0), HTML(value='')))"
      ]
     },
     "metadata": {},
     "output_type": "display_data"
    },
    {
     "data": {
      "application/vnd.jupyter.widget-view+json": {
       "model_id": "",
       "version_major": 2,
       "version_minor": 0
      },
      "text/plain": [
       "HBox(children=(HTML(value=''), FloatProgress(value=0.0, max=50.0), HTML(value='')))"
      ]
     },
     "metadata": {},
     "output_type": "display_data"
    },
    {
     "data": {
      "application/vnd.jupyter.widget-view+json": {
       "model_id": "",
       "version_major": 2,
       "version_minor": 0
      },
      "text/plain": [
       "HBox(children=(HTML(value=''), FloatProgress(value=0.0, max=50.0), HTML(value='')))"
      ]
     },
     "metadata": {},
     "output_type": "display_data"
    },
    {
     "data": {
      "application/vnd.jupyter.widget-view+json": {
       "model_id": "",
       "version_major": 2,
       "version_minor": 0
      },
      "text/plain": [
       "HBox(children=(HTML(value=''), FloatProgress(value=0.0, max=50.0), HTML(value='')))"
      ]
     },
     "metadata": {},
     "output_type": "display_data"
    },
    {
     "data": {
      "application/vnd.jupyter.widget-view+json": {
       "model_id": "",
       "version_major": 2,
       "version_minor": 0
      },
      "text/plain": [
       "HBox(children=(HTML(value=''), FloatProgress(value=0.0, max=50.0), HTML(value='')))"
      ]
     },
     "metadata": {},
     "output_type": "display_data"
    },
    {
     "data": {
      "application/vnd.jupyter.widget-view+json": {
       "model_id": "",
       "version_major": 2,
       "version_minor": 0
      },
      "text/plain": [
       "HBox(children=(HTML(value=''), FloatProgress(value=0.0, max=50.0), HTML(value='')))"
      ]
     },
     "metadata": {},
     "output_type": "display_data"
    },
    {
     "data": {
      "application/vnd.jupyter.widget-view+json": {
       "model_id": "",
       "version_major": 2,
       "version_minor": 0
      },
      "text/plain": [
       "HBox(children=(HTML(value=''), FloatProgress(value=0.0, max=50.0), HTML(value='')))"
      ]
     },
     "metadata": {},
     "output_type": "display_data"
    },
    {
     "data": {
      "application/vnd.jupyter.widget-view+json": {
       "model_id": "",
       "version_major": 2,
       "version_minor": 0
      },
      "text/plain": [
       "HBox(children=(HTML(value=''), FloatProgress(value=0.0, max=50.0), HTML(value='')))"
      ]
     },
     "metadata": {},
     "output_type": "display_data"
    },
    {
     "data": {
      "application/vnd.jupyter.widget-view+json": {
       "model_id": "",
       "version_major": 2,
       "version_minor": 0
      },
      "text/plain": [
       "HBox(children=(HTML(value=''), FloatProgress(value=0.0, max=50.0), HTML(value='')))"
      ]
     },
     "metadata": {},
     "output_type": "display_data"
    },
    {
     "data": {
      "application/vnd.jupyter.widget-view+json": {
       "model_id": "",
       "version_major": 2,
       "version_minor": 0
      },
      "text/plain": [
       "HBox(children=(HTML(value=''), FloatProgress(value=0.0, max=50.0), HTML(value='')))"
      ]
     },
     "metadata": {},
     "output_type": "display_data"
    },
    {
     "name": "stdout",
     "output_type": "stream",
     "text": [
      "\n"
     ]
    }
   ],
   "source": [
    "opt_params, RMSE = get_results()"
   ]
  },
  {
   "cell_type": "code",
   "execution_count": 25,
   "metadata": {},
   "outputs": [
    {
     "data": {
      "text/html": [
       "<div>\n",
       "<style scoped>\n",
       "    .dataframe tbody tr th:only-of-type {\n",
       "        vertical-align: middle;\n",
       "    }\n",
       "\n",
       "    .dataframe tbody tr th {\n",
       "        vertical-align: top;\n",
       "    }\n",
       "\n",
       "    .dataframe thead th {\n",
       "        text-align: right;\n",
       "    }\n",
       "</style>\n",
       "<table border=\"1\" class=\"dataframe\">\n",
       "  <thead>\n",
       "    <tr style=\"text-align: right;\">\n",
       "      <th></th>\n",
       "      <th>Ozone</th>\n",
       "      <th>CO</th>\n",
       "      <th>NO2</th>\n",
       "      <th>PM25</th>\n",
       "      <th>PM10</th>\n",
       "    </tr>\n",
       "  </thead>\n",
       "  <tbody>\n",
       "    <tr>\n",
       "      <th>KGR</th>\n",
       "      <td>0.615449</td>\n",
       "      <td>0.735879</td>\n",
       "      <td>0.599236</td>\n",
       "      <td>0.749145</td>\n",
       "      <td>0.633629</td>\n",
       "    </tr>\n",
       "    <tr>\n",
       "      <th>LinearRegression</th>\n",
       "      <td>0.723574</td>\n",
       "      <td>0.768096</td>\n",
       "      <td>0.773384</td>\n",
       "      <td>0.816315</td>\n",
       "      <td>0.777558</td>\n",
       "    </tr>\n",
       "    <tr>\n",
       "      <th>RidgeRegression</th>\n",
       "      <td>0.704979</td>\n",
       "      <td>0.744427</td>\n",
       "      <td>0.780301</td>\n",
       "      <td>0.783974</td>\n",
       "      <td>0.731608</td>\n",
       "    </tr>\n",
       "    <tr>\n",
       "      <th>LassoRegression</th>\n",
       "      <td>0.679058</td>\n",
       "      <td>0.724803</td>\n",
       "      <td>0.739269</td>\n",
       "      <td>0.759241</td>\n",
       "      <td>0.701147</td>\n",
       "    </tr>\n",
       "    <tr>\n",
       "      <th>GLSKGR</th>\n",
       "      <td>0.662691</td>\n",
       "      <td>0.745393</td>\n",
       "      <td>0.665544</td>\n",
       "      <td>0.785514</td>\n",
       "      <td>0.665610</td>\n",
       "    </tr>\n",
       "  </tbody>\n",
       "</table>\n",
       "</div>"
      ],
      "text/plain": [
       "                     Ozone        CO       NO2      PM25      PM10\n",
       "KGR               0.615449  0.735879  0.599236  0.749145  0.633629\n",
       "LinearRegression  0.723574  0.768096  0.773384  0.816315  0.777558\n",
       "RidgeRegression   0.704979  0.744427  0.780301  0.783974  0.731608\n",
       "LassoRegression   0.679058  0.724803  0.739269  0.759241  0.701147\n",
       "GLSKGR            0.662691  0.745393  0.665544  0.785514  0.665610"
      ]
     },
     "execution_count": 25,
     "metadata": {},
     "output_type": "execute_result"
    }
   ],
   "source": [
    "pd.DataFrame(RMSE['All Unlabelled']).T.drop('SO2', axis=1)#.to_csv('results/unlabelled_full.csv')"
   ]
  },
  {
   "cell_type": "code",
   "execution_count": 27,
   "metadata": {},
   "outputs": [
    {
     "data": {
      "text/html": [
       "<div>\n",
       "<style scoped>\n",
       "    .dataframe tbody tr th:only-of-type {\n",
       "        vertical-align: middle;\n",
       "    }\n",
       "\n",
       "    .dataframe tbody tr th {\n",
       "        vertical-align: top;\n",
       "    }\n",
       "\n",
       "    .dataframe thead th {\n",
       "        text-align: right;\n",
       "    }\n",
       "</style>\n",
       "<table border=\"1\" class=\"dataframe\">\n",
       "  <thead>\n",
       "    <tr style=\"text-align: right;\">\n",
       "      <th></th>\n",
       "      <th>Ozone</th>\n",
       "      <th>CO</th>\n",
       "      <th>NO2</th>\n",
       "      <th>PM25</th>\n",
       "      <th>PM10</th>\n",
       "    </tr>\n",
       "  </thead>\n",
       "  <tbody>\n",
       "    <tr>\n",
       "      <th>KGR</th>\n",
       "      <td>0.608420</td>\n",
       "      <td>0.883679</td>\n",
       "      <td>0.638532</td>\n",
       "      <td>0.692877</td>\n",
       "      <td>0.592155</td>\n",
       "    </tr>\n",
       "    <tr>\n",
       "      <th>LinearRegression</th>\n",
       "      <td>0.764155</td>\n",
       "      <td>0.864438</td>\n",
       "      <td>0.924089</td>\n",
       "      <td>0.818205</td>\n",
       "      <td>0.773625</td>\n",
       "    </tr>\n",
       "    <tr>\n",
       "      <th>RidgeRegression</th>\n",
       "      <td>0.764472</td>\n",
       "      <td>0.864822</td>\n",
       "      <td>0.925000</td>\n",
       "      <td>0.819010</td>\n",
       "      <td>0.774243</td>\n",
       "    </tr>\n",
       "    <tr>\n",
       "      <th>LassoRegression</th>\n",
       "      <td>0.767042</td>\n",
       "      <td>0.867911</td>\n",
       "      <td>0.928360</td>\n",
       "      <td>0.820848</td>\n",
       "      <td>0.775833</td>\n",
       "    </tr>\n",
       "    <tr>\n",
       "      <th>GLSKGR</th>\n",
       "      <td>0.678349</td>\n",
       "      <td>0.904138</td>\n",
       "      <td>0.686995</td>\n",
       "      <td>0.722991</td>\n",
       "      <td>0.655298</td>\n",
       "    </tr>\n",
       "  </tbody>\n",
       "</table>\n",
       "</div>"
      ],
      "text/plain": [
       "                     Ozone        CO       NO2      PM25      PM10\n",
       "KGR               0.608420  0.883679  0.638532  0.692877  0.592155\n",
       "LinearRegression  0.764155  0.864438  0.924089  0.818205  0.773625\n",
       "RidgeRegression   0.764472  0.864822  0.925000  0.819010  0.774243\n",
       "LassoRegression   0.767042  0.867911  0.928360  0.820848  0.775833\n",
       "GLSKGR            0.678349  0.904138  0.686995  0.722991  0.655298"
      ]
     },
     "execution_count": 27,
     "metadata": {},
     "output_type": "execute_result"
    }
   ],
   "source": [
    "pd.DataFrame(RMSE['Missing Nodes']).T.drop('SO2', axis=1)#.to_csv('results/missing_nodes.csv')"
   ]
  },
  {
   "cell_type": "code",
   "execution_count": 26,
   "metadata": {},
   "outputs": [
    {
     "data": {
      "text/html": [
       "<div>\n",
       "<style scoped>\n",
       "    .dataframe tbody tr th:only-of-type {\n",
       "        vertical-align: middle;\n",
       "    }\n",
       "\n",
       "    .dataframe tbody tr th {\n",
       "        vertical-align: top;\n",
       "    }\n",
       "\n",
       "    .dataframe thead th {\n",
       "        text-align: right;\n",
       "    }\n",
       "</style>\n",
       "<table border=\"1\" class=\"dataframe\">\n",
       "  <thead>\n",
       "    <tr style=\"text-align: right;\">\n",
       "      <th></th>\n",
       "      <th>Ozone</th>\n",
       "      <th>CO</th>\n",
       "      <th>NO2</th>\n",
       "      <th>PM25</th>\n",
       "      <th>PM10</th>\n",
       "    </tr>\n",
       "  </thead>\n",
       "  <tbody>\n",
       "    <tr>\n",
       "      <th>KGR</th>\n",
       "      <td>0.592735</td>\n",
       "      <td>0.539675</td>\n",
       "      <td>0.552580</td>\n",
       "      <td>0.770604</td>\n",
       "      <td>0.654792</td>\n",
       "    </tr>\n",
       "    <tr>\n",
       "      <th>LinearRegression</th>\n",
       "      <td>0.652398</td>\n",
       "      <td>0.662703</td>\n",
       "      <td>0.521524</td>\n",
       "      <td>0.798053</td>\n",
       "      <td>0.773413</td>\n",
       "    </tr>\n",
       "    <tr>\n",
       "      <th>RidgeRegression</th>\n",
       "      <td>0.607211</td>\n",
       "      <td>0.604531</td>\n",
       "      <td>0.551308</td>\n",
       "      <td>0.728811</td>\n",
       "      <td>0.665495</td>\n",
       "    </tr>\n",
       "    <tr>\n",
       "      <th>LassoRegression</th>\n",
       "      <td>0.537975</td>\n",
       "      <td>0.541524</td>\n",
       "      <td>0.402299</td>\n",
       "      <td>0.661069</td>\n",
       "      <td>0.585522</td>\n",
       "    </tr>\n",
       "    <tr>\n",
       "      <th>GLSKGR</th>\n",
       "      <td>0.626720</td>\n",
       "      <td>0.539121</td>\n",
       "      <td>0.643153</td>\n",
       "      <td>0.815208</td>\n",
       "      <td>0.667832</td>\n",
       "    </tr>\n",
       "  </tbody>\n",
       "</table>\n",
       "</div>"
      ],
      "text/plain": [
       "                     Ozone        CO       NO2      PM25      PM10\n",
       "KGR               0.592735  0.539675  0.552580  0.770604  0.654792\n",
       "LinearRegression  0.652398  0.662703  0.521524  0.798053  0.773413\n",
       "RidgeRegression   0.607211  0.604531  0.551308  0.728811  0.665495\n",
       "LassoRegression   0.537975  0.541524  0.402299  0.661069  0.585522\n",
       "GLSKGR            0.626720  0.539121  0.643153  0.815208  0.667832"
      ]
     },
     "execution_count": 26,
     "metadata": {},
     "output_type": "execute_result"
    }
   ],
   "source": [
    "pd.DataFrame(RMSE['Missing Dates']).T.drop('SO2', axis=1)#.to_csv('results/unlabelled_dates.csv')"
   ]
  },
  {
   "cell_type": "code",
   "execution_count": 28,
   "metadata": {},
   "outputs": [
    {
     "data": {
      "text/html": [
       "<div>\n",
       "<style scoped>\n",
       "    .dataframe tbody tr th:only-of-type {\n",
       "        vertical-align: middle;\n",
       "    }\n",
       "\n",
       "    .dataframe tbody tr th {\n",
       "        vertical-align: top;\n",
       "    }\n",
       "\n",
       "    .dataframe thead th {\n",
       "        text-align: right;\n",
       "    }\n",
       "</style>\n",
       "<table border=\"1\" class=\"dataframe\">\n",
       "  <thead>\n",
       "    <tr style=\"text-align: right;\">\n",
       "      <th></th>\n",
       "      <th>Ozone</th>\n",
       "      <th>CO</th>\n",
       "      <th>NO2</th>\n",
       "      <th>PM25</th>\n",
       "      <th>PM10</th>\n",
       "    </tr>\n",
       "  </thead>\n",
       "  <tbody>\n",
       "    <tr>\n",
       "      <th>KGR</th>\n",
       "      <td>0.317762</td>\n",
       "      <td>0.202276</td>\n",
       "      <td>0.544492</td>\n",
       "      <td>0.534491</td>\n",
       "      <td>0.493960</td>\n",
       "    </tr>\n",
       "    <tr>\n",
       "      <th>LinearRegression</th>\n",
       "      <td>0.439377</td>\n",
       "      <td>0.374526</td>\n",
       "      <td>0.344250</td>\n",
       "      <td>0.474253</td>\n",
       "      <td>0.497572</td>\n",
       "    </tr>\n",
       "    <tr>\n",
       "      <th>RidgeRegression</th>\n",
       "      <td>0.443431</td>\n",
       "      <td>0.380649</td>\n",
       "      <td>0.350041</td>\n",
       "      <td>0.478920</td>\n",
       "      <td>0.503214</td>\n",
       "    </tr>\n",
       "    <tr>\n",
       "      <th>LassoRegression</th>\n",
       "      <td>0.466472</td>\n",
       "      <td>0.410098</td>\n",
       "      <td>0.372237</td>\n",
       "      <td>0.497190</td>\n",
       "      <td>0.524526</td>\n",
       "    </tr>\n",
       "    <tr>\n",
       "      <th>GLSKGR</th>\n",
       "      <td>0.310504</td>\n",
       "      <td>0.051383</td>\n",
       "      <td>0.625151</td>\n",
       "      <td>0.546650</td>\n",
       "      <td>0.450996</td>\n",
       "    </tr>\n",
       "  </tbody>\n",
       "</table>\n",
       "</div>"
      ],
      "text/plain": [
       "                     Ozone        CO       NO2      PM25      PM10\n",
       "KGR               0.317762  0.202276  0.544492  0.534491  0.493960\n",
       "LinearRegression  0.439377  0.374526  0.344250  0.474253  0.497572\n",
       "RidgeRegression   0.443431  0.380649  0.350041  0.478920  0.503214\n",
       "LassoRegression   0.466472  0.410098  0.372237  0.497190  0.524526\n",
       "GLSKGR            0.310504  0.051383  0.625151  0.546650  0.450996"
      ]
     },
     "execution_count": 28,
     "metadata": {},
     "output_type": "execute_result"
    }
   ],
   "source": [
    "pd.DataFrame(RMSE['Labelled']).T.drop('SO2', axis=1)#.to_csv('results/labelled.csv')"
   ]
  },
  {
   "cell_type": "code",
   "execution_count": 33,
   "metadata": {},
   "outputs": [
    {
     "data": {
      "text/plain": [
       "{'KGR': {'gamma': 0.07196856730011514,\n",
       "  'K_std': 10.985411419875584,\n",
       "  'filter_func': 'sigmoid',\n",
       "  'beta': 5.963623316594643},\n",
       " 'LinearRegression': {'fit_intercept': True},\n",
       " 'RidgeRegression': {'fit_intercept': True, 'alpha': 686.6488450042998},\n",
       " 'LassoRegression': {'fit_intercept': True, 'alpha': 0.01151395399326447},\n",
       " 'GLSKGR': {'gamma': 0.07196856730011514,\n",
       "  'K_std': 10.985411419875584,\n",
       "  'filter_func': 'sigmoid',\n",
       "  'beta': 5.963623316594643}}"
      ]
     },
     "execution_count": 33,
     "metadata": {},
     "output_type": "execute_result"
    }
   ],
   "source": [
    "opt_params['Ozone']"
   ]
  },
  {
   "cell_type": "code",
   "execution_count": null,
   "metadata": {},
   "outputs": [],
   "source": []
  }
 ],
 "metadata": {
  "kernelspec": {
   "display_name": "Python 3",
   "language": "python",
   "name": "python3"
  },
  "language_info": {
   "codemirror_mode": {
    "name": "ipython",
    "version": 3
   },
   "file_extension": ".py",
   "mimetype": "text/x-python",
   "name": "python",
   "nbconvert_exporter": "python",
   "pygments_lexer": "ipython3",
   "version": "3.7.3"
  }
 },
 "nbformat": 4,
 "nbformat_minor": 2
}
